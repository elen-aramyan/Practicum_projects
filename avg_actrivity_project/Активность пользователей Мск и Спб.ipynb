{
 "cells": [
  {
   "cell_type": "markdown",
   "id": "e06910dd",
   "metadata": {
    "id": "e06910dd"
   },
   "source": [
    "# Анализ средней активности пользователей в Москве и Санкт-Петербурге\n",
    "\n",
    "- Автор: Арамян Элен\n",
    "- Дата: 16.03.2025"
   ]
  },
  {
   "cell_type": "markdown",
   "id": "4149134c",
   "metadata": {
    "id": "4149134c"
   },
   "source": [
    "## Цели и задачи проекта\n",
    "\n",
    "**Цель:** проверить,  проводят ли пользователи из Санкт-Петербурга в среднем больше времени за чтением и прослушиванием книг в приложении, чем пользователи из Москвы\n",
    "\n",
    "**Задачи:**\n",
    "1) загрузить данные и познакомиться с ними\n",
    "\n",
    "2) предобработать данные и нормализовать их\n",
    "\n",
    "3) проверить гипотезы о средней активности пользователей двух городов - Москвы и Санкт-Петербурга\n",
    "\n",
    "4) вывод и интерпретация результатов"
   ]
  },
  {
   "cell_type": "markdown",
   "id": "728986ea",
   "metadata": {
    "id": "728986ea"
   },
   "source": [
    "## Описание данных\n",
    "\n",
    "Таблица `/datasets/yandex_knigi_data.csv` c данными пользователей из Москвы и Санкт-Петербурга c их активностью. Содержит следующие столбцы:\n",
    "+ Unnamed: 0 - порядковый номер строки\n",
    "+ city - город (мск или питер)\t\n",
    "+ puid - уникальный идентификатор пользователя\n",
    "+ hours - кол-во часов, проведенных в сервиса"
   ]
  },
  {
   "cell_type": "markdown",
   "id": "4fecaf95",
   "metadata": {
    "id": "4fecaf95"
   },
   "source": [
    "## Содержимое проекта\n",
    "1. Загрузка данных и знакомство с ними.\n",
    "2. Проверка гипотезы в Python\n",
    "3. Аналитическая записка"
   ]
  },
  {
   "cell_type": "markdown",
   "id": "6f7d21d6",
   "metadata": {
    "id": "6f7d21d6"
   },
   "source": [
    "## 1. Загрузка данных и знакомство с ними\n",
    "\n",
    "Загрузите данные пользователей из Москвы и Санкт-Петербурга c их активностью (суммой часов чтения и прослушивания) из файла `/datasets/yandex_knigi_data.csv`."
   ]
  },
  {
   "cell_type": "code",
   "execution_count": 1,
   "id": "05faf34b",
   "metadata": {
    "id": "05faf34b"
   },
   "outputs": [],
   "source": [
    "# Импортируем библиотеки\n",
    "import pandas as pd\n",
    "from scipy import stats as st\n",
    "import matplotlib.pyplot as plt"
   ]
  },
  {
   "cell_type": "code",
   "execution_count": 2,
   "id": "ce87c1db",
   "metadata": {
    "id": "ce87c1db"
   },
   "outputs": [
    {
     "data": {
      "text/html": [
       "<div>\n",
       "<style scoped>\n",
       "    .dataframe tbody tr th:only-of-type {\n",
       "        vertical-align: middle;\n",
       "    }\n",
       "\n",
       "    .dataframe tbody tr th {\n",
       "        vertical-align: top;\n",
       "    }\n",
       "\n",
       "    .dataframe thead th {\n",
       "        text-align: right;\n",
       "    }\n",
       "</style>\n",
       "<table border=\"1\" class=\"dataframe\">\n",
       "  <thead>\n",
       "    <tr style=\"text-align: right;\">\n",
       "      <th></th>\n",
       "      <th>Unnamed: 0</th>\n",
       "      <th>city</th>\n",
       "      <th>puid</th>\n",
       "      <th>hours</th>\n",
       "    </tr>\n",
       "  </thead>\n",
       "  <tbody>\n",
       "    <tr>\n",
       "      <th>0</th>\n",
       "      <td>0</td>\n",
       "      <td>Москва</td>\n",
       "      <td>9668</td>\n",
       "      <td>26.167776</td>\n",
       "    </tr>\n",
       "    <tr>\n",
       "      <th>1</th>\n",
       "      <td>1</td>\n",
       "      <td>Москва</td>\n",
       "      <td>16598</td>\n",
       "      <td>82.111217</td>\n",
       "    </tr>\n",
       "    <tr>\n",
       "      <th>2</th>\n",
       "      <td>2</td>\n",
       "      <td>Москва</td>\n",
       "      <td>80401</td>\n",
       "      <td>4.656906</td>\n",
       "    </tr>\n",
       "    <tr>\n",
       "      <th>3</th>\n",
       "      <td>3</td>\n",
       "      <td>Москва</td>\n",
       "      <td>140205</td>\n",
       "      <td>1.840556</td>\n",
       "    </tr>\n",
       "    <tr>\n",
       "      <th>4</th>\n",
       "      <td>4</td>\n",
       "      <td>Москва</td>\n",
       "      <td>248755</td>\n",
       "      <td>151.326434</td>\n",
       "    </tr>\n",
       "  </tbody>\n",
       "</table>\n",
       "</div>"
      ],
      "text/plain": [
       "   Unnamed: 0    city    puid       hours\n",
       "0           0  Москва    9668   26.167776\n",
       "1           1  Москва   16598   82.111217\n",
       "2           2  Москва   80401    4.656906\n",
       "3           3  Москва  140205    1.840556\n",
       "4           4  Москва  248755  151.326434"
      ]
     },
     "metadata": {},
     "output_type": "display_data"
    }
   ],
   "source": [
    "# Загружаем данные в датасет df\n",
    "df = pd.read_csv('/datasets/yandex_knigi_data.csv')\n",
    "display(df.head())"
   ]
  },
  {
   "cell_type": "markdown",
   "id": "a688fd29",
   "metadata": {},
   "source": [
    "**Для корректного анализа данных и проверки гипотезы изучим датафрейм и предобработаем его**"
   ]
  },
  {
   "cell_type": "code",
   "execution_count": 3,
   "id": "1b034a56",
   "metadata": {},
   "outputs": [
    {
     "name": "stdout",
     "output_type": "stream",
     "text": [
      "<class 'pandas.core.frame.DataFrame'>\n",
      "RangeIndex: 8784 entries, 0 to 8783\n",
      "Data columns (total 4 columns):\n",
      " #   Column      Non-Null Count  Dtype  \n",
      "---  ------      --------------  -----  \n",
      " 0   Unnamed: 0  8784 non-null   int64  \n",
      " 1   city        8784 non-null   object \n",
      " 2   puid        8784 non-null   int64  \n",
      " 3   hours       8784 non-null   float64\n",
      "dtypes: float64(1), int64(2), object(1)\n",
      "memory usage: 274.6+ KB\n"
     ]
    }
   ],
   "source": [
    "df.info()"
   ]
  },
  {
   "cell_type": "markdown",
   "id": "91ff95a8",
   "metadata": {},
   "source": [
    "Пропуски отсутствуют. Изучим дубликаты"
   ]
  },
  {
   "cell_type": "code",
   "execution_count": 4,
   "id": "112cb099",
   "metadata": {},
   "outputs": [
    {
     "data": {
      "text/plain": [
       "0"
      ]
     },
     "execution_count": 4,
     "metadata": {},
     "output_type": "execute_result"
    }
   ],
   "source": [
    "df.duplicated().sum()"
   ]
  },
  {
   "cell_type": "code",
   "execution_count": 5,
   "id": "f903d276",
   "metadata": {},
   "outputs": [
    {
     "data": {
      "text/plain": [
       "244"
      ]
     },
     "execution_count": 5,
     "metadata": {},
     "output_type": "execute_result"
    }
   ],
   "source": [
    "df.duplicated('puid').sum()"
   ]
  },
  {
   "cell_type": "code",
   "execution_count": 6,
   "id": "fd162d38",
   "metadata": {},
   "outputs": [
    {
     "data": {
      "text/plain": [
       "0"
      ]
     },
     "execution_count": 6,
     "metadata": {},
     "output_type": "execute_result"
    }
   ],
   "source": [
    "df.duplicated(subset=['city', 'puid']).sum()"
   ]
  },
  {
   "cell_type": "markdown",
   "id": "eece3576",
   "metadata": {},
   "source": [
    "Полные дубли отсутствуют, однако есть дубли по идентификатору пользователя, но, если смотреть шире и захватить еще город, видим, что город у идентификаторов разный. Это может быть связано с тем, что один пользователь бывает в Мск и Спб или же одним аккаунтом пользуются из разных городов. Для дальнейшего проведения теста в целях сохранения независимости групп лучше удалить все дубли, тем более они составляют незначительные 5% от всех данных."
   ]
  },
  {
   "cell_type": "code",
   "execution_count": 7,
   "id": "b08652c1",
   "metadata": {},
   "outputs": [],
   "source": [
    "# Удалим все дубли по ид пользователя\n",
    "df = df.drop_duplicates(subset='puid', keep=False)"
   ]
  },
  {
   "cell_type": "code",
   "execution_count": 8,
   "id": "c4579b9a",
   "metadata": {},
   "outputs": [
    {
     "data": {
      "text/html": [
       "<div>\n",
       "<style scoped>\n",
       "    .dataframe tbody tr th:only-of-type {\n",
       "        vertical-align: middle;\n",
       "    }\n",
       "\n",
       "    .dataframe tbody tr th {\n",
       "        vertical-align: top;\n",
       "    }\n",
       "\n",
       "    .dataframe thead th {\n",
       "        text-align: right;\n",
       "    }\n",
       "</style>\n",
       "<table border=\"1\" class=\"dataframe\">\n",
       "  <thead>\n",
       "    <tr style=\"text-align: right;\">\n",
       "      <th></th>\n",
       "      <th>city</th>\n",
       "      <th>puid</th>\n",
       "      <th>hours</th>\n",
       "    </tr>\n",
       "  </thead>\n",
       "  <tbody>\n",
       "    <tr>\n",
       "      <th>0</th>\n",
       "      <td>Москва</td>\n",
       "      <td>9668</td>\n",
       "      <td>26.167776</td>\n",
       "    </tr>\n",
       "    <tr>\n",
       "      <th>1</th>\n",
       "      <td>Москва</td>\n",
       "      <td>16598</td>\n",
       "      <td>82.111217</td>\n",
       "    </tr>\n",
       "    <tr>\n",
       "      <th>2</th>\n",
       "      <td>Москва</td>\n",
       "      <td>80401</td>\n",
       "      <td>4.656906</td>\n",
       "    </tr>\n",
       "    <tr>\n",
       "      <th>3</th>\n",
       "      <td>Москва</td>\n",
       "      <td>140205</td>\n",
       "      <td>1.840556</td>\n",
       "    </tr>\n",
       "    <tr>\n",
       "      <th>4</th>\n",
       "      <td>Москва</td>\n",
       "      <td>248755</td>\n",
       "      <td>151.326434</td>\n",
       "    </tr>\n",
       "    <tr>\n",
       "      <th>...</th>\n",
       "      <td>...</td>\n",
       "      <td>...</td>\n",
       "      <td>...</td>\n",
       "    </tr>\n",
       "    <tr>\n",
       "      <th>8778</th>\n",
       "      <td>Санкт-Петербург</td>\n",
       "      <td>1130000027468068</td>\n",
       "      <td>5.879444</td>\n",
       "    </tr>\n",
       "    <tr>\n",
       "      <th>8780</th>\n",
       "      <td>Санкт-Петербург</td>\n",
       "      <td>1130000030307246</td>\n",
       "      <td>45.069222</td>\n",
       "    </tr>\n",
       "    <tr>\n",
       "      <th>8781</th>\n",
       "      <td>Санкт-Петербург</td>\n",
       "      <td>1130000038726322</td>\n",
       "      <td>0.211944</td>\n",
       "    </tr>\n",
       "    <tr>\n",
       "      <th>8782</th>\n",
       "      <td>Санкт-Петербург</td>\n",
       "      <td>1130000047892100</td>\n",
       "      <td>4.311841</td>\n",
       "    </tr>\n",
       "    <tr>\n",
       "      <th>8783</th>\n",
       "      <td>Санкт-Петербург</td>\n",
       "      <td>1130000061443598</td>\n",
       "      <td>20.847222</td>\n",
       "    </tr>\n",
       "  </tbody>\n",
       "</table>\n",
       "<p>8296 rows × 3 columns</p>\n",
       "</div>"
      ],
      "text/plain": [
       "                 city              puid       hours\n",
       "0              Москва              9668   26.167776\n",
       "1              Москва             16598   82.111217\n",
       "2              Москва             80401    4.656906\n",
       "3              Москва            140205    1.840556\n",
       "4              Москва            248755  151.326434\n",
       "...               ...               ...         ...\n",
       "8778  Санкт-Петербург  1130000027468068    5.879444\n",
       "8780  Санкт-Петербург  1130000030307246   45.069222\n",
       "8781  Санкт-Петербург  1130000038726322    0.211944\n",
       "8782  Санкт-Петербург  1130000047892100    4.311841\n",
       "8783  Санкт-Петербург  1130000061443598   20.847222\n",
       "\n",
       "[8296 rows x 3 columns]"
      ]
     },
     "metadata": {},
     "output_type": "display_data"
    }
   ],
   "source": [
    "df = df.drop('Unnamed: 0', axis = 1)\n",
    "display(df)"
   ]
  },
  {
   "cell_type": "code",
   "execution_count": 9,
   "id": "7781abc0",
   "metadata": {
    "scrolled": true
   },
   "outputs": [
    {
     "name": "stdout",
     "output_type": "stream",
     "text": [
      "count    8296.000000\n",
      "mean       10.963892\n",
      "std        37.753906\n",
      "min         0.000022\n",
      "25%         0.057493\n",
      "50%         0.884214\n",
      "75%         5.944675\n",
      "max       978.764775\n",
      "Name: hours, dtype: float64\n"
     ]
    }
   ],
   "source": [
    "# Проверим аномальные значения\n",
    "print(df['hours'].describe())"
   ]
  },
  {
   "cell_type": "markdown",
   "id": "6f1f0216",
   "metadata": {},
   "source": [
    "Видим выбросы, они могут повлиять на корректные выводы, поэтому избавимся от них с помощью процентилей (можно конечно взять и межквартильный размах, я даже попробовала так сделать, но процентили как будто в данном случае более щадящий способ)"
   ]
  },
  {
   "cell_type": "code",
   "execution_count": 10,
   "id": "9335a5ca",
   "metadata": {},
   "outputs": [],
   "source": [
    "# Установим пороги\n",
    "lower_line = df['hours'].quantile(0.05)\n",
    "upper_line = df['hours'].quantile(0.95)"
   ]
  },
  {
   "cell_type": "code",
   "execution_count": 11,
   "id": "c1cb7ad9",
   "metadata": {},
   "outputs": [],
   "source": [
    "filtered_df = df[(df['hours'] >= lower_line) & (df['hours'] <= upper_line)]"
   ]
  },
  {
   "cell_type": "code",
   "execution_count": 12,
   "id": "20f62a1e",
   "metadata": {
    "scrolled": true
   },
   "outputs": [
    {
     "data": {
      "text/plain": [
       "count    7466.000000\n",
       "mean        4.996233\n",
       "std         9.470833\n",
       "min         0.002081\n",
       "25%         0.083555\n",
       "50%         0.884214\n",
       "75%         4.863537\n",
       "max        55.577836\n",
       "Name: hours, dtype: float64"
      ]
     },
     "execution_count": 12,
     "metadata": {},
     "output_type": "execute_result"
    }
   ],
   "source": [
    "filtered_df['hours'].describe()"
   ]
  },
  {
   "cell_type": "markdown",
   "id": "d89f5a32",
   "metadata": {},
   "source": [
    "Далее сравним размеры групп и распределение часов активности в этих группах"
   ]
  },
  {
   "cell_type": "code",
   "execution_count": 13,
   "id": "c86e7941",
   "metadata": {},
   "outputs": [
    {
     "data": {
      "text/plain": [
       "2082"
      ]
     },
     "execution_count": 13,
     "metadata": {},
     "output_type": "execute_result"
    }
   ],
   "source": [
    "filtered_df[filtered_df['city']== 'Санкт-Петербург']['puid'].count()"
   ]
  },
  {
   "cell_type": "code",
   "execution_count": 14,
   "id": "f5f72850",
   "metadata": {},
   "outputs": [
    {
     "data": {
      "text/plain": [
       "5384"
      ]
     },
     "execution_count": 14,
     "metadata": {},
     "output_type": "execute_result"
    }
   ],
   "source": [
    "filtered_df[filtered_df['city']== 'Москва']['puid'].count()"
   ]
  },
  {
   "cell_type": "markdown",
   "id": "4658af0e",
   "metadata": {},
   "source": [
    "Видим, что в Москве пользоваталей в 2.5 раза больше, чем в Питере. Рассмотрим, как распределены часы активности в обоих городах"
   ]
  },
  {
   "cell_type": "code",
   "execution_count": 15,
   "id": "3e52cff9",
   "metadata": {
    "scrolled": false
   },
   "outputs": [
    {
     "data": {
      "image/png": "[encoded data removed]",
      "text/plain": [
       "<Figure size 864x432 with 1 Axes>"
      ]
     },
     "metadata": {
      "needs_background": "light"
     },
     "output_type": "display_data"
    }
   ],
   "source": [
    "# Визуализируем распределения\n",
    "moscow_hours = filtered_df[filtered_df['city'] == 'Москва']['hours']\n",
    "petersburg_hours = filtered_df[filtered_df['city'] == 'Санкт-Петербург']['hours']\n",
    "\n",
    "plt.figure(figsize=(12, 6))\n",
    "plt.hist(moscow_hours, bins=50, label='Москва') \n",
    "plt.hist(petersburg_hours, bins=50, alpha=0.5, label='Санкт-Петербург')\n",
    "plt.xlabel('Часы активности')\n",
    "plt.legend()\n",
    "plt.ylabel('Плотность')\n",
    "plt.title('Распределение часов активности пользователей в Москве и Санкт-Петербурге')\n",
    "plt.show()"
   ]
  },
  {
   "cell_type": "markdown",
   "id": "7bea5c06",
   "metadata": {},
   "source": [
    "На графике хорошо прослеживается, что распределения активностей примерно одинаковое (если брать в расчет что в спб в 2,5 раза меньше пользователей, то обе гистограммы будут +- одинаковые,  а то из-за разницы в кол-ве пользователей это не очень наглядно, можно это поправить, добавив density=True, но я не стала), а также видно, что обе гистограммы правосиметричного распределения"
   ]
  },
  {
   "cell_type": "markdown",
   "id": "956e82e2",
   "metadata": {
    "id": "956e82e2"
   },
   "source": [
    "## 2. Проверка гипотезы в Python\n",
    "\n",
    "Гипотеза звучит так: пользователи из Санкт-Петербурга проводят в среднем больше времени за чтением и прослушиванием книг в приложении, чем пользователи из Москвы. Попробуйте статистически это доказать, используя одностороннюю проверку гипотезы с двумя выборками:\n",
    "\n",
    "- Нулевая гипотеза H₀: Средняя активность пользователей в часах в двух группах (Москва и Санкт-Петербург) не различается.\n",
    "\n",
    "- Альтернативная гипотеза H₁: Средняя активность пользователей в Санкт-Петербурге больше, и это различие статистически значимо."
   ]
  },
  {
   "cell_type": "code",
   "execution_count": 16,
   "id": "9d8b357b",
   "metadata": {},
   "outputs": [],
   "source": [
    "# Разделим датасет по городу\n",
    "spb = filtered_df[filtered_df['city']== 'Санкт-Петербург']\n",
    "msk = filtered_df[filtered_df['city']== 'Москва']\n",
    "\n",
    "group_a = spb['hours']\n",
    "group_b = msk['hours']"
   ]
  },
  {
   "cell_type": "code",
   "execution_count": 17,
   "id": "7f8ec014",
   "metadata": {},
   "outputs": [
    {
     "name": "stdout",
     "output_type": "stream",
     "text": [
      "Средняя активность для выборки А =  5.23\n",
      "Средняя активность для выборки B =  4.91\n",
      "Разница между средней активностью выборок А и В: 0.32\n"
     ]
    }
   ],
   "source": [
    "# Проверим средние значения\n",
    "a_avg = group_a.mean()\n",
    "b_avg= group_b.mean()\n",
    "\n",
    "print('Средняя активность для выборки А = ', round(a_avg,2))\n",
    "print('Средняя активность для выборки B = ', round(b_avg,2))\n",
    "print('Разница между средней активностью выборок А и В:', round(a_avg- b_avg,3))"
   ]
  },
  {
   "cell_type": "markdown",
   "id": "f9bd89f8",
   "metadata": {},
   "source": [
    "Видим, что средняя активность двух выборок отличается незначительно. Однако делать выводы только на основе этого значения будет некорректно, тк нужно статистически это доказать"
   ]
  },
  {
   "cell_type": "code",
   "execution_count": 18,
   "id": "67956690",
   "metadata": {
    "id": "67956690"
   },
   "outputs": [
    {
     "name": "stdout",
     "output_type": "stream",
     "text": [
      "p-значение: 0.09502387264551075\n",
      "Не получилось отвергнуть нулевую гипотезу. Средняя активность пользователей в двух группах не различается.\n"
     ]
    }
   ],
   "source": [
    "alpha = 0.05\n",
    "\n",
    "results = st.ttest_ind(\n",
    "        group_a,\n",
    "        group_b,\n",
    "        alternative='greater')\n",
    "\n",
    "print('p-значение:', results.pvalue)\n",
    "if results.pvalue < alpha:\n",
    "    print('Отвергаем нулевую гипотезу')\n",
    "else:\n",
    "    print('Не получилось отвергнуть нулевую гипотезу. Средняя активность пользователей в двух группах не различается.')"
   ]
  },
  {
   "cell_type": "markdown",
   "id": "6953e84c",
   "metadata": {
    "id": "6953e84c"
   },
   "source": [
    "## 3. Аналитическая записка\n",
    "По результатам анализа данных подготовьте аналитическую записку, в которой опишете:\n",
    "\n",
    "- Выбранный тип t-теста и уровень статистической значимости. \n",
    "\n",
    "- Результат теста, или p-value. \n",
    "\n",
    "- Вывод на основе полученного p-value, то есть интерпретацию результатов.\n",
    "\n",
    "- Одну или две возможные причины, объясняющие полученные результаты.\n"
   ]
  },
  {
   "cell_type": "markdown",
   "id": "tDwMKFNGsClr",
   "metadata": {
    "id": "tDwMKFNGsClr"
   },
   "source": [
    "Аналитическая записка:\n",
    "+ в процессе анализа информации данные были изучены и предобоработны: дубли удалены и датасет очищен от выбросов.\n",
    "+ был проведен классический t-тест с уровнем статзначимости 0.05. Выбран именно классический тест, тк необходимо было сравнить среднюю активность двух групп, а также независимость наблюдений и нормальность выборочного среднего соблюдаются.\n",
    "+ p-значение: 0.095\n",
    "+ интерпретация: средняя активность пользователей в двух группах не различается\n",
    "+ возможно, средняя активность в мск и питере не различается, тк это два крупнейших развитых города с одинаковой целевой аудиторией, у которых схожие интересы/образ жизни и тд. К тому же, миграция между мск и спб высокая, что в целом стирает границы и приводит к более \"одинаковому\" поведению в обоих городах"
   ]
  }
 ],
 "metadata": {
  "ExecuteTimeLog": [
   {
    "duration": 910,
    "start_time": "2025-03-16T13:08:26.619Z"
   },
   {
    "duration": 18,
    "start_time": "2025-03-16T13:08:51.397Z"
   },
   {
    "duration": 8,
    "start_time": "2025-03-16T13:09:02.317Z"
   },
   {
    "duration": 12,
    "start_time": "2025-03-16T13:14:58.439Z"
   },
   {
    "duration": 8,
    "start_time": "2025-03-16T13:16:47.460Z"
   },
   {
    "duration": 6,
    "start_time": "2025-03-16T13:16:53.138Z"
   },
   {
    "duration": 5,
    "start_time": "2025-03-16T13:17:13.328Z"
   },
   {
    "duration": 8,
    "start_time": "2025-03-16T13:17:45.651Z"
   },
   {
    "duration": 6,
    "start_time": "2025-03-16T13:23:24.147Z"
   },
   {
    "duration": 5,
    "start_time": "2025-03-16T13:23:29.139Z"
   },
   {
    "duration": 74,
    "start_time": "2025-03-16T13:39:27.015Z"
   },
   {
    "duration": 14,
    "start_time": "2025-03-16T13:39:40.868Z"
   },
   {
    "duration": 12,
    "start_time": "2025-03-16T13:40:46.004Z"
   },
   {
    "duration": 4,
    "start_time": "2025-03-16T13:42:29.262Z"
   },
   {
    "duration": 5,
    "start_time": "2025-03-16T13:43:02.804Z"
   },
   {
    "duration": 4,
    "start_time": "2025-03-16T13:43:37.572Z"
   },
   {
    "duration": 91,
    "start_time": "2025-03-16T13:43:52.559Z"
   },
   {
    "duration": 62,
    "start_time": "2025-03-16T13:44:05.118Z"
   },
   {
    "duration": 4,
    "start_time": "2025-03-16T13:44:10.552Z"
   },
   {
    "duration": 4,
    "start_time": "2025-03-16T13:44:15.400Z"
   },
   {
    "duration": 4,
    "start_time": "2025-03-16T13:44:18.563Z"
   },
   {
    "duration": 4,
    "start_time": "2025-03-16T13:44:23.709Z"
   },
   {
    "duration": 5,
    "start_time": "2025-03-16T13:44:26.779Z"
   },
   {
    "duration": 5,
    "start_time": "2025-03-16T14:03:21.253Z"
   },
   {
    "duration": 4,
    "start_time": "2025-03-16T14:03:27.509Z"
   },
   {
    "duration": 6,
    "start_time": "2025-03-16T14:04:23.948Z"
   },
   {
    "duration": 9,
    "start_time": "2025-03-16T14:06:37.031Z"
   },
   {
    "duration": 778,
    "start_time": "2025-03-16T14:06:43.204Z"
   },
   {
    "duration": 41,
    "start_time": "2025-03-16T14:06:43.984Z"
   },
   {
    "duration": 16,
    "start_time": "2025-03-16T14:06:44.028Z"
   },
   {
    "duration": 7,
    "start_time": "2025-03-16T14:06:44.046Z"
   },
   {
    "duration": 5,
    "start_time": "2025-03-16T14:06:44.054Z"
   },
   {
    "duration": 5,
    "start_time": "2025-03-16T14:06:44.060Z"
   },
   {
    "duration": 3,
    "start_time": "2025-03-16T14:06:44.067Z"
   },
   {
    "duration": 9,
    "start_time": "2025-03-16T14:06:44.072Z"
   },
   {
    "duration": 11,
    "start_time": "2025-03-16T14:06:44.082Z"
   },
   {
    "duration": 6,
    "start_time": "2025-03-16T14:06:58.750Z"
   },
   {
    "duration": 12,
    "start_time": "2025-03-16T14:07:04.683Z"
   },
   {
    "duration": 5,
    "start_time": "2025-03-16T14:07:05.937Z"
   },
   {
    "duration": 8,
    "start_time": "2025-03-16T14:07:14.078Z"
   },
   {
    "duration": 4,
    "start_time": "2025-03-16T14:07:15.468Z"
   },
   {
    "duration": 11,
    "start_time": "2025-03-16T14:07:21.400Z"
   },
   {
    "duration": 4,
    "start_time": "2025-03-16T14:07:25.282Z"
   },
   {
    "duration": 8,
    "start_time": "2025-03-16T14:07:32.412Z"
   },
   {
    "duration": 5,
    "start_time": "2025-03-16T14:07:33.734Z"
   },
   {
    "duration": 8,
    "start_time": "2025-03-16T14:07:40.037Z"
   },
   {
    "duration": 5,
    "start_time": "2025-03-16T14:07:41.496Z"
   },
   {
    "duration": 606,
    "start_time": "2025-03-16T14:07:45.543Z"
   },
   {
    "duration": 32,
    "start_time": "2025-03-16T14:07:46.151Z"
   },
   {
    "duration": 11,
    "start_time": "2025-03-16T14:07:46.184Z"
   },
   {
    "duration": 74,
    "start_time": "2025-03-16T14:07:46.196Z"
   },
   {
    "duration": 80,
    "start_time": "2025-03-16T14:07:46.272Z"
   },
   {
    "duration": 5,
    "start_time": "2025-03-16T14:07:46.354Z"
   },
   {
    "duration": 5,
    "start_time": "2025-03-16T14:07:46.360Z"
   },
   {
    "duration": 4,
    "start_time": "2025-03-16T14:07:46.366Z"
   },
   {
    "duration": 11,
    "start_time": "2025-03-16T14:07:46.371Z"
   },
   {
    "duration": 4,
    "start_time": "2025-03-16T14:07:46.383Z"
   },
   {
    "duration": 7,
    "start_time": "2025-03-16T14:08:44.846Z"
   },
   {
    "duration": 10,
    "start_time": "2025-03-16T14:08:52.983Z"
   },
   {
    "duration": 717,
    "start_time": "2025-03-16T14:09:11.019Z"
   },
   {
    "duration": 31,
    "start_time": "2025-03-16T14:09:11.738Z"
   },
   {
    "duration": 12,
    "start_time": "2025-03-16T14:09:11.770Z"
   },
   {
    "duration": 7,
    "start_time": "2025-03-16T14:09:11.784Z"
   },
   {
    "duration": 5,
    "start_time": "2025-03-16T14:09:11.792Z"
   },
   {
    "duration": 6,
    "start_time": "2025-03-16T14:09:11.798Z"
   },
   {
    "duration": 27,
    "start_time": "2025-03-16T14:09:11.805Z"
   },
   {
    "duration": 7,
    "start_time": "2025-03-16T14:09:11.834Z"
   },
   {
    "duration": 8,
    "start_time": "2025-03-16T14:09:11.843Z"
   },
   {
    "duration": 4,
    "start_time": "2025-03-16T14:09:11.853Z"
   },
   {
    "duration": 4,
    "start_time": "2025-03-16T14:11:39.372Z"
   },
   {
    "duration": 8,
    "start_time": "2025-03-16T14:11:56.158Z"
   },
   {
    "duration": 9,
    "start_time": "2025-03-16T14:12:11.836Z"
   },
   {
    "duration": 12,
    "start_time": "2025-03-16T14:12:54.688Z"
   },
   {
    "duration": 10,
    "start_time": "2025-03-16T14:13:30.404Z"
   },
   {
    "duration": 69,
    "start_time": "2025-03-16T14:27:42.139Z"
   },
   {
    "duration": 10,
    "start_time": "2025-03-16T14:27:45.075Z"
   },
   {
    "duration": 5,
    "start_time": "2025-03-16T14:27:46.793Z"
   },
   {
    "duration": 9,
    "start_time": "2025-03-16T14:27:55.122Z"
   },
   {
    "duration": 11,
    "start_time": "2025-03-16T14:28:04.127Z"
   },
   {
    "duration": 9,
    "start_time": "2025-03-16T14:28:23.205Z"
   },
   {
    "duration": 11,
    "start_time": "2025-03-16T14:28:26.591Z"
   },
   {
    "duration": 5,
    "start_time": "2025-03-16T14:28:30.299Z"
   },
   {
    "duration": 652,
    "start_time": "2025-03-16T14:28:47.604Z"
   },
   {
    "duration": 32,
    "start_time": "2025-03-16T14:28:48.259Z"
   },
   {
    "duration": 12,
    "start_time": "2025-03-16T14:28:48.293Z"
   },
   {
    "duration": 7,
    "start_time": "2025-03-16T14:28:48.307Z"
   },
   {
    "duration": 15,
    "start_time": "2025-03-16T14:28:48.316Z"
   },
   {
    "duration": 5,
    "start_time": "2025-03-16T14:28:48.332Z"
   },
   {
    "duration": 81,
    "start_time": "2025-03-16T14:28:48.339Z"
   },
   {
    "duration": 10,
    "start_time": "2025-03-16T14:28:48.422Z"
   },
   {
    "duration": 5,
    "start_time": "2025-03-16T14:28:48.434Z"
   },
   {
    "duration": 4,
    "start_time": "2025-03-16T14:28:48.441Z"
   },
   {
    "duration": 8,
    "start_time": "2025-03-16T14:28:48.447Z"
   },
   {
    "duration": 7,
    "start_time": "2025-03-16T14:28:59.017Z"
   },
   {
    "duration": 5,
    "start_time": "2025-03-16T14:33:04.948Z"
   },
   {
    "duration": 5,
    "start_time": "2025-03-16T14:33:06.373Z"
   },
   {
    "duration": 9,
    "start_time": "2025-03-16T14:33:18.284Z"
   },
   {
    "duration": 6,
    "start_time": "2025-03-16T14:34:54.311Z"
   },
   {
    "duration": 4,
    "start_time": "2025-03-16T14:34:55.651Z"
   },
   {
    "duration": 8,
    "start_time": "2025-03-16T14:34:56.966Z"
   },
   {
    "duration": 6,
    "start_time": "2025-03-16T14:35:21.242Z"
   },
   {
    "duration": 4,
    "start_time": "2025-03-16T14:35:23.840Z"
   },
   {
    "duration": 8,
    "start_time": "2025-03-16T14:35:25.259Z"
   },
   {
    "duration": 661,
    "start_time": "2025-03-16T14:35:38.057Z"
   },
   {
    "duration": 33,
    "start_time": "2025-03-16T14:35:38.720Z"
   },
   {
    "duration": 12,
    "start_time": "2025-03-16T14:35:38.754Z"
   },
   {
    "duration": 7,
    "start_time": "2025-03-16T14:35:38.767Z"
   },
   {
    "duration": 4,
    "start_time": "2025-03-16T14:35:38.776Z"
   },
   {
    "duration": 5,
    "start_time": "2025-03-16T14:35:38.782Z"
   },
   {
    "duration": 4,
    "start_time": "2025-03-16T14:35:38.789Z"
   },
   {
    "duration": 36,
    "start_time": "2025-03-16T14:35:38.794Z"
   },
   {
    "duration": 5,
    "start_time": "2025-03-16T14:35:38.832Z"
   },
   {
    "duration": 4,
    "start_time": "2025-03-16T14:35:38.839Z"
   },
   {
    "duration": 7,
    "start_time": "2025-03-16T14:35:38.845Z"
   },
   {
    "duration": 5,
    "start_time": "2025-03-16T14:35:38.853Z"
   },
   {
    "duration": 4,
    "start_time": "2025-03-16T14:35:38.859Z"
   },
   {
    "duration": 7,
    "start_time": "2025-03-16T14:35:38.864Z"
   },
   {
    "duration": 9,
    "start_time": "2025-03-16T14:44:47.399Z"
   },
   {
    "duration": 8,
    "start_time": "2025-03-16T14:45:02.573Z"
   },
   {
    "duration": 6,
    "start_time": "2025-03-16T14:45:24.597Z"
   },
   {
    "duration": 6,
    "start_time": "2025-03-16T14:45:28.350Z"
   },
   {
    "duration": 8,
    "start_time": "2025-03-16T16:12:43.372Z"
   },
   {
    "duration": 86,
    "start_time": "2025-03-16T16:12:53.623Z"
   },
   {
    "duration": 15,
    "start_time": "2025-03-16T16:12:59.960Z"
   },
   {
    "duration": 14,
    "start_time": "2025-03-16T16:13:06.629Z"
   },
   {
    "duration": 454,
    "start_time": "2025-03-16T16:17:19.157Z"
   },
   {
    "duration": 39,
    "start_time": "2025-03-16T16:20:05.341Z"
   },
   {
    "duration": 5,
    "start_time": "2025-03-16T16:20:20.560Z"
   },
   {
    "duration": 9,
    "start_time": "2025-03-16T16:47:00.070Z"
   },
   {
    "duration": 9,
    "start_time": "2025-03-16T16:49:07.649Z"
   },
   {
    "duration": 5,
    "start_time": "2025-03-16T17:04:57.628Z"
   },
   {
    "duration": 6,
    "start_time": "2025-03-16T17:05:42.193Z"
   },
   {
    "duration": 86,
    "start_time": "2025-03-16T17:08:55.784Z"
   },
   {
    "duration": 11,
    "start_time": "2025-03-16T17:08:58.428Z"
   },
   {
    "duration": 63,
    "start_time": "2025-03-16T17:09:23.304Z"
   },
   {
    "duration": 82,
    "start_time": "2025-03-16T17:09:38.997Z"
   },
   {
    "duration": 66,
    "start_time": "2025-03-16T17:09:42.170Z"
   },
   {
    "duration": 4,
    "start_time": "2025-03-16T17:09:56.471Z"
   },
   {
    "duration": 5,
    "start_time": "2025-03-16T17:10:09.903Z"
   },
   {
    "duration": 63,
    "start_time": "2025-03-16T17:11:11.709Z"
   },
   {
    "duration": 62,
    "start_time": "2025-03-16T17:11:20.096Z"
   },
   {
    "duration": 7,
    "start_time": "2025-03-16T17:11:23.223Z"
   },
   {
    "duration": 70,
    "start_time": "2025-03-16T17:11:25.380Z"
   },
   {
    "duration": 628,
    "start_time": "2025-03-16T17:11:30.118Z"
   },
   {
    "duration": 41,
    "start_time": "2025-03-16T17:11:30.748Z"
   },
   {
    "duration": 11,
    "start_time": "2025-03-16T17:11:30.793Z"
   },
   {
    "duration": 91,
    "start_time": "2025-03-16T17:11:30.806Z"
   },
   {
    "duration": 14,
    "start_time": "2025-03-16T17:11:30.898Z"
   },
   {
    "duration": 9,
    "start_time": "2025-03-16T17:11:30.914Z"
   },
   {
    "duration": 14,
    "start_time": "2025-03-16T17:11:30.925Z"
   },
   {
    "duration": 33,
    "start_time": "2025-03-16T17:11:30.940Z"
   },
   {
    "duration": 34,
    "start_time": "2025-03-16T17:11:30.976Z"
   },
   {
    "duration": 78,
    "start_time": "2025-03-16T17:11:31.011Z"
   },
   {
    "duration": 28,
    "start_time": "2025-03-16T17:11:31.091Z"
   },
   {
    "duration": 19,
    "start_time": "2025-03-16T17:11:31.120Z"
   },
   {
    "duration": 75,
    "start_time": "2025-03-16T17:11:31.141Z"
   },
   {
    "duration": 0,
    "start_time": "2025-03-16T17:11:31.218Z"
   },
   {
    "duration": 5,
    "start_time": "2025-03-16T17:12:48.618Z"
   },
   {
    "duration": 6,
    "start_time": "2025-03-16T17:13:07.233Z"
   },
   {
    "duration": 5,
    "start_time": "2025-03-16T17:13:58.581Z"
   },
   {
    "duration": 97,
    "start_time": "2025-03-16T17:16:27.114Z"
   },
   {
    "duration": 13,
    "start_time": "2025-03-16T17:19:21.228Z"
   },
   {
    "duration": 12,
    "start_time": "2025-03-16T17:19:28.097Z"
   },
   {
    "duration": 640,
    "start_time": "2025-03-16T18:18:01.390Z"
   },
   {
    "duration": 43,
    "start_time": "2025-03-16T18:18:02.032Z"
   },
   {
    "duration": 11,
    "start_time": "2025-03-16T18:18:02.077Z"
   },
   {
    "duration": 6,
    "start_time": "2025-03-16T18:18:02.090Z"
   },
   {
    "duration": 5,
    "start_time": "2025-03-16T18:18:02.097Z"
   },
   {
    "duration": 31,
    "start_time": "2025-03-16T18:18:02.103Z"
   },
   {
    "duration": 22,
    "start_time": "2025-03-16T18:18:02.135Z"
   },
   {
    "duration": 47,
    "start_time": "2025-03-16T18:18:02.159Z"
   },
   {
    "duration": 13,
    "start_time": "2025-03-16T18:18:02.208Z"
   },
   {
    "duration": 8,
    "start_time": "2025-03-16T18:18:02.222Z"
   },
   {
    "duration": 29,
    "start_time": "2025-03-16T18:18:02.231Z"
   },
   {
    "duration": 7,
    "start_time": "2025-03-16T18:18:02.261Z"
   },
   {
    "duration": 22,
    "start_time": "2025-03-16T18:18:02.269Z"
   },
   {
    "duration": 100,
    "start_time": "2025-03-16T18:18:02.293Z"
   },
   {
    "duration": 7,
    "start_time": "2025-03-16T18:36:26.712Z"
   },
   {
    "duration": 426,
    "start_time": "2025-03-16T18:36:42.460Z"
   },
   {
    "duration": 82,
    "start_time": "2025-03-17T17:18:01.620Z"
   },
   {
    "duration": 708,
    "start_time": "2025-03-17T17:26:14.471Z"
   },
   {
    "duration": 8,
    "start_time": "2025-03-17T17:35:03.962Z"
   },
   {
    "duration": 777,
    "start_time": "2025-03-17T17:35:09.499Z"
   },
   {
    "duration": 133,
    "start_time": "2025-03-17T17:35:10.279Z"
   },
   {
    "duration": 13,
    "start_time": "2025-03-17T17:35:10.414Z"
   },
   {
    "duration": 7,
    "start_time": "2025-03-17T17:35:10.428Z"
   },
   {
    "duration": 20,
    "start_time": "2025-03-17T17:35:10.437Z"
   },
   {
    "duration": 7,
    "start_time": "2025-03-17T17:35:10.459Z"
   },
   {
    "duration": 5,
    "start_time": "2025-03-17T17:35:10.468Z"
   },
   {
    "duration": 18,
    "start_time": "2025-03-17T17:35:10.475Z"
   },
   {
    "duration": 9,
    "start_time": "2025-03-17T17:35:10.495Z"
   },
   {
    "duration": 9,
    "start_time": "2025-03-17T17:35:10.505Z"
   },
   {
    "duration": 9,
    "start_time": "2025-03-17T17:35:10.515Z"
   },
   {
    "duration": 9,
    "start_time": "2025-03-17T17:35:10.525Z"
   },
   {
    "duration": 27,
    "start_time": "2025-03-17T17:35:10.535Z"
   },
   {
    "duration": 14,
    "start_time": "2025-03-17T17:35:10.564Z"
   },
   {
    "duration": 471,
    "start_time": "2025-03-17T17:35:10.579Z"
   },
   {
    "duration": 104,
    "start_time": "2025-03-17T17:35:37.162Z"
   },
   {
    "duration": 12,
    "start_time": "2025-03-17T17:36:03.165Z"
   },
   {
    "duration": 13,
    "start_time": "2025-03-17T17:36:05.823Z"
   },
   {
    "duration": 13,
    "start_time": "2025-03-17T17:36:48.538Z"
   },
   {
    "duration": 641,
    "start_time": "2025-03-17T17:37:41.948Z"
   },
   {
    "duration": 41,
    "start_time": "2025-03-17T17:37:42.591Z"
   },
   {
    "duration": 12,
    "start_time": "2025-03-17T17:37:42.634Z"
   },
   {
    "duration": 15,
    "start_time": "2025-03-17T17:37:42.647Z"
   },
   {
    "duration": 10,
    "start_time": "2025-03-17T17:37:42.663Z"
   },
   {
    "duration": 16,
    "start_time": "2025-03-17T17:37:42.675Z"
   },
   {
    "duration": 10,
    "start_time": "2025-03-17T17:37:42.693Z"
   },
   {
    "duration": 22,
    "start_time": "2025-03-17T17:37:42.704Z"
   },
   {
    "duration": 10,
    "start_time": "2025-03-17T17:37:42.727Z"
   },
   {
    "duration": 5,
    "start_time": "2025-03-17T17:37:42.739Z"
   },
   {
    "duration": 18,
    "start_time": "2025-03-17T17:37:42.745Z"
   },
   {
    "duration": 16,
    "start_time": "2025-03-17T17:37:42.764Z"
   },
   {
    "duration": 5,
    "start_time": "2025-03-17T17:37:42.782Z"
   },
   {
    "duration": 6,
    "start_time": "2025-03-17T17:37:42.789Z"
   },
   {
    "duration": 435,
    "start_time": "2025-03-17T17:37:42.796Z"
   },
   {
    "duration": 13,
    "start_time": "2025-03-17T18:13:40.701Z"
   },
   {
    "duration": 9,
    "start_time": "2025-03-17T18:13:52.233Z"
   },
   {
    "duration": 100,
    "start_time": "2025-03-17T18:14:47.887Z"
   },
   {
    "duration": 6,
    "start_time": "2025-03-17T18:15:02.387Z"
   },
   {
    "duration": 9,
    "start_time": "2025-03-17T18:15:22.208Z"
   },
   {
    "duration": 6,
    "start_time": "2025-03-17T18:15:29.261Z"
   },
   {
    "duration": 11,
    "start_time": "2025-03-17T18:17:25.552Z"
   },
   {
    "duration": 9,
    "start_time": "2025-03-17T18:17:45.680Z"
   },
   {
    "duration": 10,
    "start_time": "2025-03-17T18:17:55.185Z"
   },
   {
    "duration": 9,
    "start_time": "2025-03-17T18:18:30.241Z"
   },
   {
    "duration": 144,
    "start_time": "2025-03-17T18:21:00.911Z"
   },
   {
    "duration": 141,
    "start_time": "2025-03-17T18:21:49.757Z"
   },
   {
    "duration": 139,
    "start_time": "2025-03-17T18:22:00.616Z"
   },
   {
    "duration": 161,
    "start_time": "2025-03-17T18:24:03.806Z"
   },
   {
    "duration": 135,
    "start_time": "2025-03-17T18:24:08.191Z"
   },
   {
    "duration": 232,
    "start_time": "2025-03-17T18:25:32.675Z"
   },
   {
    "duration": 91,
    "start_time": "2025-03-17T18:29:33.102Z"
   },
   {
    "duration": 127,
    "start_time": "2025-03-17T18:29:35.709Z"
   },
   {
    "duration": 130,
    "start_time": "2025-03-17T18:29:44.677Z"
   },
   {
    "duration": 79,
    "start_time": "2025-03-17T18:31:35.546Z"
   },
   {
    "duration": 207,
    "start_time": "2025-03-17T18:34:20.627Z"
   },
   {
    "duration": 131,
    "start_time": "2025-03-17T18:35:15.107Z"
   },
   {
    "duration": 267,
    "start_time": "2025-03-17T18:39:41.054Z"
   },
   {
    "duration": 113,
    "start_time": "2025-03-17T18:40:33.094Z"
   },
   {
    "duration": 160,
    "start_time": "2025-03-17T18:40:40.938Z"
   },
   {
    "duration": 274,
    "start_time": "2025-03-17T18:41:01.401Z"
   },
   {
    "duration": 251,
    "start_time": "2025-03-17T18:41:14.699Z"
   },
   {
    "duration": 333,
    "start_time": "2025-03-17T18:41:45.685Z"
   },
   {
    "duration": 243,
    "start_time": "2025-03-17T18:41:54.939Z"
   },
   {
    "duration": 251,
    "start_time": "2025-03-17T18:42:11.558Z"
   },
   {
    "duration": 237,
    "start_time": "2025-03-17T18:42:18.051Z"
   },
   {
    "duration": 268,
    "start_time": "2025-03-17T18:43:02.942Z"
   },
   {
    "duration": 253,
    "start_time": "2025-03-17T18:43:29.821Z"
   },
   {
    "duration": 302,
    "start_time": "2025-03-17T18:43:51.559Z"
   },
   {
    "duration": 284,
    "start_time": "2025-03-17T18:44:45.715Z"
   },
   {
    "duration": 244,
    "start_time": "2025-03-17T18:45:00.677Z"
   },
   {
    "duration": 99,
    "start_time": "2025-03-17T18:46:04.551Z"
   },
   {
    "duration": 69,
    "start_time": "2025-03-17T18:46:07.777Z"
   },
   {
    "duration": 253,
    "start_time": "2025-03-17T18:46:17.554Z"
   },
   {
    "duration": 307,
    "start_time": "2025-03-17T18:46:28.703Z"
   },
   {
    "duration": 292,
    "start_time": "2025-03-17T18:46:52.427Z"
   },
   {
    "duration": 6,
    "start_time": "2025-03-17T18:47:23.946Z"
   },
   {
    "duration": 6,
    "start_time": "2025-03-17T18:47:26.708Z"
   },
   {
    "duration": 603,
    "start_time": "2025-03-17T19:16:35.291Z"
   },
   {
    "duration": 32,
    "start_time": "2025-03-17T19:16:35.896Z"
   },
   {
    "duration": 10,
    "start_time": "2025-03-17T19:16:35.930Z"
   },
   {
    "duration": 28,
    "start_time": "2025-03-17T19:16:35.942Z"
   },
   {
    "duration": 35,
    "start_time": "2025-03-17T19:16:35.971Z"
   },
   {
    "duration": 54,
    "start_time": "2025-03-17T19:16:36.007Z"
   },
   {
    "duration": 4,
    "start_time": "2025-03-17T19:16:36.063Z"
   },
   {
    "duration": 34,
    "start_time": "2025-03-17T19:16:36.069Z"
   },
   {
    "duration": 22,
    "start_time": "2025-03-17T19:16:36.105Z"
   },
   {
    "duration": 10,
    "start_time": "2025-03-17T19:16:36.130Z"
   },
   {
    "duration": 14,
    "start_time": "2025-03-17T19:16:36.141Z"
   },
   {
    "duration": 8,
    "start_time": "2025-03-17T19:16:36.157Z"
   },
   {
    "duration": 7,
    "start_time": "2025-03-17T19:16:36.167Z"
   },
   {
    "duration": 54,
    "start_time": "2025-03-17T19:16:36.176Z"
   },
   {
    "duration": 331,
    "start_time": "2025-03-17T19:16:36.232Z"
   },
   {
    "duration": 7,
    "start_time": "2025-03-17T19:16:36.564Z"
   },
   {
    "duration": 17,
    "start_time": "2025-03-17T19:16:36.573Z"
   },
   {
    "duration": 530,
    "start_time": "2025-03-17T19:16:36.592Z"
   },
   {
    "duration": 322,
    "start_time": "2025-03-17T19:17:27.092Z"
   },
   {
    "duration": 294,
    "start_time": "2025-03-17T19:17:45.787Z"
   },
   {
    "duration": 641,
    "start_time": "2025-03-17T19:27:27.157Z"
   },
   {
    "duration": 34,
    "start_time": "2025-03-17T19:27:27.801Z"
   },
   {
    "duration": 11,
    "start_time": "2025-03-17T19:27:27.837Z"
   },
   {
    "duration": 7,
    "start_time": "2025-03-17T19:27:27.850Z"
   },
   {
    "duration": 5,
    "start_time": "2025-03-17T19:27:27.859Z"
   },
   {
    "duration": 5,
    "start_time": "2025-03-17T19:27:27.866Z"
   },
   {
    "duration": 4,
    "start_time": "2025-03-17T19:27:27.872Z"
   },
   {
    "duration": 12,
    "start_time": "2025-03-17T19:27:27.878Z"
   },
   {
    "duration": 6,
    "start_time": "2025-03-17T19:27:27.891Z"
   },
   {
    "duration": 10,
    "start_time": "2025-03-17T19:27:27.899Z"
   },
   {
    "duration": 4,
    "start_time": "2025-03-17T19:27:27.911Z"
   },
   {
    "duration": 41,
    "start_time": "2025-03-17T19:27:27.917Z"
   },
   {
    "duration": 6,
    "start_time": "2025-03-17T19:27:27.959Z"
   },
   {
    "duration": 7,
    "start_time": "2025-03-17T19:27:27.966Z"
   },
   {
    "duration": 335,
    "start_time": "2025-03-17T19:27:27.974Z"
   },
   {
    "duration": 6,
    "start_time": "2025-03-17T19:27:28.311Z"
   },
   {
    "duration": 5,
    "start_time": "2025-03-17T19:27:28.318Z"
   },
   {
    "duration": 506,
    "start_time": "2025-03-17T19:27:28.325Z"
   },
   {
    "duration": 1148,
    "start_time": "2025-04-23T19:02:20.379Z"
   },
   {
    "duration": 107,
    "start_time": "2025-04-23T19:02:21.529Z"
   },
   {
    "duration": 12,
    "start_time": "2025-04-23T19:02:21.637Z"
   },
   {
    "duration": 13,
    "start_time": "2025-04-23T19:02:21.650Z"
   },
   {
    "duration": 9,
    "start_time": "2025-04-23T19:02:21.665Z"
   },
   {
    "duration": 5,
    "start_time": "2025-04-23T19:02:21.675Z"
   },
   {
    "duration": 4,
    "start_time": "2025-04-23T19:02:21.682Z"
   },
   {
    "duration": 11,
    "start_time": "2025-04-23T19:02:21.688Z"
   },
   {
    "duration": 7,
    "start_time": "2025-04-23T19:02:21.700Z"
   },
   {
    "duration": 6,
    "start_time": "2025-04-23T19:02:21.735Z"
   },
   {
    "duration": 8,
    "start_time": "2025-04-23T19:02:21.743Z"
   },
   {
    "duration": 8,
    "start_time": "2025-04-23T19:02:21.753Z"
   },
   {
    "duration": 6,
    "start_time": "2025-04-23T19:02:21.762Z"
   },
   {
    "duration": 87,
    "start_time": "2025-04-23T19:02:21.769Z"
   },
   {
    "duration": 320,
    "start_time": "2025-04-23T19:02:21.857Z"
   },
   {
    "duration": 5,
    "start_time": "2025-04-23T19:02:22.179Z"
   },
   {
    "duration": 4,
    "start_time": "2025-04-23T19:02:22.186Z"
   },
   {
    "duration": 6,
    "start_time": "2025-04-23T19:02:22.192Z"
   },
   {
    "duration": 1039,
    "start_time": "2025-04-23T19:02:31.329Z"
   },
   {
    "duration": 87,
    "start_time": "2025-04-23T19:02:32.370Z"
   },
   {
    "duration": 12,
    "start_time": "2025-04-23T19:02:32.458Z"
   },
   {
    "duration": 16,
    "start_time": "2025-04-23T19:02:32.472Z"
   },
   {
    "duration": 5,
    "start_time": "2025-04-23T19:02:32.490Z"
   },
   {
    "duration": 8,
    "start_time": "2025-04-23T19:02:32.497Z"
   },
   {
    "duration": 5,
    "start_time": "2025-04-23T19:02:32.506Z"
   },
   {
    "duration": 24,
    "start_time": "2025-04-23T19:02:32.512Z"
   },
   {
    "duration": 9,
    "start_time": "2025-04-23T19:02:32.538Z"
   },
   {
    "duration": 5,
    "start_time": "2025-04-23T19:02:32.549Z"
   },
   {
    "duration": 5,
    "start_time": "2025-04-23T19:02:32.555Z"
   },
   {
    "duration": 6,
    "start_time": "2025-04-23T19:02:32.562Z"
   },
   {
    "duration": 5,
    "start_time": "2025-04-23T19:02:32.570Z"
   },
   {
    "duration": 17,
    "start_time": "2025-04-23T19:02:32.577Z"
   },
   {
    "duration": 331,
    "start_time": "2025-04-23T19:02:32.595Z"
   },
   {
    "duration": 10,
    "start_time": "2025-04-23T19:02:32.928Z"
   },
   {
    "duration": 5,
    "start_time": "2025-04-23T19:02:32.940Z"
   },
   {
    "duration": 20,
    "start_time": "2025-04-23T19:02:32.946Z"
   }
  ],
  "colab": {
   "provenance": []
  },
  "kernelspec": {
   "display_name": "Python 3 (ipykernel)",
   "language": "python",
   "name": "python3"
  },
  "language_info": {
   "codemirror_mode": {
    "name": "ipython",
    "version": 3
   },
   "file_extension": ".py",
   "mimetype": "text/x-python",
   "name": "python",
   "nbconvert_exporter": "python",
   "pygments_lexer": "ipython3",
   "version": "3.9.5"
  },
  "toc": {
   "base_numbering": 1,
   "nav_menu": {},
   "number_sections": true,
   "sideBar": true,
   "skip_h1_title": true,
   "title_cell": "Table of Contents",
   "title_sidebar": "Contents",
   "toc_cell": false,
   "toc_position": {},
   "toc_section_display": true,
   "toc_window_display": false
  }
 },
 "nbformat": 4,
 "nbformat_minor": 5
}
