{
 "cells": [
  {
   "cell_type": "markdown",
   "metadata": {
    "id": "u98L9TgH0eMk"
   },
   "source": [
    "# Разработка A/B-тестирования и анализ результатов\n",
    "\n",
    "Вы работаете продуктовым аналитиком в компании, которая разрабатывает развлекательное приложение с функцией «бесконечной» ленты, как, например, в приложениях с короткими видео. В вашем приложении существует две модели монетизации: первая — ежемесячная платная подписка, которая позволяет пользователям смотреть ленту без рекламы, вторая — демонстрация рекламы для пользователей, которые ещё не оформили подписку.\n",
    "\n",
    "Команда разработчиков рекомендательных систем создала новый алгоритм рекомендаций, который, по их мнению, будет показывать более интересный контент для каждого пользователя. Вас, как аналитика, просят помочь рассчитать параметры A/B-теста, который позволит проверить эту гипотезу, и проанализировать его результаты."
   ]
  },
  {
   "cell_type": "markdown",
   "metadata": {},
   "source": [
    "**Автор:** Арамян Элен\n",
    "\n",
    "**Дата:** 08.03.2025"
   ]
  },
  {
   "cell_type": "markdown",
   "metadata": {},
   "source": [
    "**Цель:** Провести исследовательский анализ данных рынка заведений общественного питания Москвы и выявить определенные закономерности и рекомендации, полезные для инвесторов при открытии заведния."
   ]
  },
  {
   "cell_type": "markdown",
   "metadata": {},
   "source": [
    "**Задачи:**\n",
    "- Загрузить данные и познакомиться с ними\n",
    "- Предобработать данные и нормализовать их.\n",
    "- Провести исследовательский анализ данных и продемонстрировать резульататы с помощью наглядной визуализации.\n",
    "- Выявить закономерности, подвести итоги и сформулировать рекомендации."
   ]
  },
  {
   "cell_type": "markdown",
   "metadata": {
    "id": "LJBRALHs0eMf"
   },
   "source": [
    "## Описание данных\n",
    "\n",
    "Вы будете работать с тремя таблицами:\n",
    "\n",
    "- `sessions_project_history.csv` — таблица с историческими данными по сессиям пользователей на период с 2025-08-15 по 2025-09-23. Путь к файлу: `/datasets/sessions_project_history.csv`.\n",
    "\n",
    "- `sessions_project_test_part.csv` — таблица с данными за первый день проведения A/B-теста, то есть за 2025-10-14. Путь к файлу: `/datasets/sessions_project_test_part.csv`.\n",
    "\n",
    "- `sessions_project_test.csv` — таблица с данными за весь период проведения A/B-теста, то есть с 2025-10-14 по 2025-11-02. Путь к файлу: `/datasets/sessions_project_test.csv`.\n",
    "\n",
    "У этих таблиц почти совпадает структура и содержание колонок, различаются лишь периоды наблюдения.\n",
    "\n",
    "Поля таблиц `sessions_project_history.csv`, `sessions_project_test.csv`, `sessions_project_test_part.csv`:\n",
    "\n",
    "- `user_id` — идентификатор пользователя;\n",
    "\n",
    "- `session_id` — идентификатор сессии в приложении;\n",
    "\n",
    "- `session_date` — дата сессии;\n",
    "\n",
    "- `session_start_ts` — дата и время начала сессии;\n",
    "\n",
    "- `install_date` — дата установки приложения;\n",
    "\n",
    "- `session_number` — порядковый номер сессии для конкретного пользователя;\n",
    "\n",
    "- `registration_flag` — является ли пользователь зарегистрированным;\n",
    "\n",
    "- `page_counter` — количество просмотренных страниц во время сессии;\n",
    "\n",
    "- `region` — регион пользователя;\n",
    "\n",
    "- `device` — тип устройства пользователя;\n",
    "\n",
    "- `test_group` — тестовая группа (в таблице с историческими данными этого столбца нет).\n",
    "\n",
    "\n",
    "## Что нужно сделать\n",
    "Рассчитать параметры теста, оценить корректность его проведения и проанализировать результаты эксперимента."
   ]
  },
  {
   "cell_type": "markdown",
   "metadata": {
    "id": "UpOucjID0eMl"
   },
   "source": [
    "### 1. Работа с историческими данными (EDA)"
   ]
  },
  {
   "cell_type": "markdown",
   "metadata": {
    "id": "8iJMtL-30eMl"
   },
   "source": [
    "#### 1.1. Загрузка исторических данных\n",
    "На первом этапе поработайте с историческими данными приложения:\n",
    "\n",
    "- Импортируйте библиотеку pandas.\n",
    "\n",
    "- Считайте и сохраните в датафрейм `sessions_history` CSV-файл с историческими данными о сессиях пользователей `sessions_project_history.csv`.\n",
    "\n",
    "Выведите на экран первые пять строк полученного датафрейма."
   ]
  },
  {
   "cell_type": "code",
   "execution_count": 1,
   "metadata": {},
   "outputs": [],
   "source": [
    "#Импортируем библиотеки \n",
    "import pandas as pd\n",
    "import matplotlib.pyplot as plt\n",
    "import numpy as np\n",
    "\n",
    "from statsmodels.stats.power import NormalIndPower\n",
    "from math import ceil\n",
    "from scipy import stats as st\n",
    "from statsmodels.stats.proportion import proportions_ztest"
   ]
  },
  {
   "cell_type": "code",
   "execution_count": 2,
   "metadata": {
    "id": "6TPR2-1RPboT"
   },
   "outputs": [
    {
     "data": {
      "text/html": [
       "<div>\n",
       "<style scoped>\n",
       "    .dataframe tbody tr th:only-of-type {\n",
       "        vertical-align: middle;\n",
       "    }\n",
       "\n",
       "    .dataframe tbody tr th {\n",
       "        vertical-align: top;\n",
       "    }\n",
       "\n",
       "    .dataframe thead th {\n",
       "        text-align: right;\n",
       "    }\n",
       "</style>\n",
       "<table border=\"1\" class=\"dataframe\">\n",
       "  <thead>\n",
       "    <tr style=\"text-align: right;\">\n",
       "      <th></th>\n",
       "      <th>user_id</th>\n",
       "      <th>session_id</th>\n",
       "      <th>session_date</th>\n",
       "      <th>session_start_ts</th>\n",
       "      <th>install_date</th>\n",
       "      <th>session_number</th>\n",
       "      <th>registration_flag</th>\n",
       "      <th>page_counter</th>\n",
       "      <th>region</th>\n",
       "      <th>device</th>\n",
       "    </tr>\n",
       "  </thead>\n",
       "  <tbody>\n",
       "    <tr>\n",
       "      <th>0</th>\n",
       "      <td>E302123B7000BFE4</td>\n",
       "      <td>F9AF61A0C2023832</td>\n",
       "      <td>2025-08-15</td>\n",
       "      <td>2025-08-15 17:47:35</td>\n",
       "      <td>2025-08-15</td>\n",
       "      <td>1</td>\n",
       "      <td>0</td>\n",
       "      <td>3</td>\n",
       "      <td>CIS</td>\n",
       "      <td>iPhone</td>\n",
       "    </tr>\n",
       "    <tr>\n",
       "      <th>1</th>\n",
       "      <td>2530F72E221829FB</td>\n",
       "      <td>85003A206CBDAC6F</td>\n",
       "      <td>2025-08-15</td>\n",
       "      <td>2025-08-15 16:42:14</td>\n",
       "      <td>2025-08-15</td>\n",
       "      <td>1</td>\n",
       "      <td>0</td>\n",
       "      <td>4</td>\n",
       "      <td>MENA</td>\n",
       "      <td>Android</td>\n",
       "    </tr>\n",
       "    <tr>\n",
       "      <th>2</th>\n",
       "      <td>876E020A4FC512F5</td>\n",
       "      <td>3677423E49D72DEE</td>\n",
       "      <td>2025-08-15</td>\n",
       "      <td>2025-08-15 12:30:00</td>\n",
       "      <td>2025-08-15</td>\n",
       "      <td>1</td>\n",
       "      <td>0</td>\n",
       "      <td>4</td>\n",
       "      <td>EU</td>\n",
       "      <td>PC</td>\n",
       "    </tr>\n",
       "    <tr>\n",
       "      <th>3</th>\n",
       "      <td>2640B349E1D81584</td>\n",
       "      <td>956B45F5915CA225</td>\n",
       "      <td>2025-08-15</td>\n",
       "      <td>2025-08-15 15:31:31</td>\n",
       "      <td>2025-08-15</td>\n",
       "      <td>1</td>\n",
       "      <td>0</td>\n",
       "      <td>4</td>\n",
       "      <td>CIS</td>\n",
       "      <td>Android</td>\n",
       "    </tr>\n",
       "    <tr>\n",
       "      <th>4</th>\n",
       "      <td>94E1CBFAEF1F5EE9</td>\n",
       "      <td>83BF0DA35F9F1F40</td>\n",
       "      <td>2025-08-15</td>\n",
       "      <td>2025-08-15 21:33:53</td>\n",
       "      <td>2025-08-15</td>\n",
       "      <td>1</td>\n",
       "      <td>0</td>\n",
       "      <td>3</td>\n",
       "      <td>CIS</td>\n",
       "      <td>Android</td>\n",
       "    </tr>\n",
       "  </tbody>\n",
       "</table>\n",
       "</div>"
      ],
      "text/plain": [
       "            user_id        session_id session_date     session_start_ts  \\\n",
       "0  E302123B7000BFE4  F9AF61A0C2023832   2025-08-15  2025-08-15 17:47:35   \n",
       "1  2530F72E221829FB  85003A206CBDAC6F   2025-08-15  2025-08-15 16:42:14   \n",
       "2  876E020A4FC512F5  3677423E49D72DEE   2025-08-15  2025-08-15 12:30:00   \n",
       "3  2640B349E1D81584  956B45F5915CA225   2025-08-15  2025-08-15 15:31:31   \n",
       "4  94E1CBFAEF1F5EE9  83BF0DA35F9F1F40   2025-08-15  2025-08-15 21:33:53   \n",
       "\n",
       "  install_date  session_number  registration_flag  page_counter region  \\\n",
       "0   2025-08-15               1                  0             3    CIS   \n",
       "1   2025-08-15               1                  0             4   MENA   \n",
       "2   2025-08-15               1                  0             4     EU   \n",
       "3   2025-08-15               1                  0             4    CIS   \n",
       "4   2025-08-15               1                  0             3    CIS   \n",
       "\n",
       "    device  \n",
       "0   iPhone  \n",
       "1  Android  \n",
       "2       PC  \n",
       "3  Android  \n",
       "4  Android  "
      ]
     },
     "execution_count": 2,
     "metadata": {},
     "output_type": "execute_result"
    }
   ],
   "source": [
    "#Cохраним в датафрейм `sessions_history` CSV-файл с историческими данными\n",
    "sessions_history = pd.read_csv('/datasets/sessions_project_history.csv')\n",
    "\n",
    "#Выведем первые строки\n",
    "sessions_history.head()"
   ]
  },
  {
   "cell_type": "markdown",
   "metadata": {
    "id": "qTDoiODz0eMo"
   },
   "source": [
    "#### 1.2. Знакомство с данными ок\n",
    "- Для каждого уникального пользователя `user_id` рассчитайте количество уникальных сессий `session_id`. \n",
    "\n",
    "- Выведите на экран все данные из таблицы `sessions_history` для одного пользователя с наибольшим количеством сессий. Если таких пользователей несколько, выберите любого из них. \n",
    "\n",
    "- Изучите таблицу для одного пользователя, чтобы лучше понять логику формирования каждого столбца данных.\n",
    "\n"
   ]
  },
  {
   "cell_type": "code",
   "execution_count": 3,
   "metadata": {
    "id": "PWZO9vTIPbPN"
   },
   "outputs": [
    {
     "data": {
      "text/html": [
       "<div>\n",
       "<style scoped>\n",
       "    .dataframe tbody tr th:only-of-type {\n",
       "        vertical-align: middle;\n",
       "    }\n",
       "\n",
       "    .dataframe tbody tr th {\n",
       "        vertical-align: top;\n",
       "    }\n",
       "\n",
       "    .dataframe thead th {\n",
       "        text-align: right;\n",
       "    }\n",
       "</style>\n",
       "<table border=\"1\" class=\"dataframe\">\n",
       "  <thead>\n",
       "    <tr style=\"text-align: right;\">\n",
       "      <th></th>\n",
       "      <th>session_id</th>\n",
       "    </tr>\n",
       "    <tr>\n",
       "      <th>user_id</th>\n",
       "      <th></th>\n",
       "    </tr>\n",
       "  </thead>\n",
       "  <tbody>\n",
       "    <tr>\n",
       "      <th>10E0DEFC1ABDBBE0</th>\n",
       "      <td>10</td>\n",
       "    </tr>\n",
       "    <tr>\n",
       "      <th>6A73CB5566BB494D</th>\n",
       "      <td>10</td>\n",
       "    </tr>\n",
       "    <tr>\n",
       "      <th>8A60431A825D035B</th>\n",
       "      <td>9</td>\n",
       "    </tr>\n",
       "    <tr>\n",
       "      <th>D11541BAC141FB94</th>\n",
       "      <td>9</td>\n",
       "    </tr>\n",
       "    <tr>\n",
       "      <th>5BCFE7C4DCC148E9</th>\n",
       "      <td>9</td>\n",
       "    </tr>\n",
       "    <tr>\n",
       "      <th>...</th>\n",
       "      <td>...</td>\n",
       "    </tr>\n",
       "    <tr>\n",
       "      <th>1DF13BB1953B3497</th>\n",
       "      <td>1</td>\n",
       "    </tr>\n",
       "    <tr>\n",
       "      <th>628502A3CE7E0A3C</th>\n",
       "      <td>1</td>\n",
       "    </tr>\n",
       "    <tr>\n",
       "      <th>1DEEF40DEFBD0C65</th>\n",
       "      <td>1</td>\n",
       "    </tr>\n",
       "    <tr>\n",
       "      <th>AC08479B7472C628</th>\n",
       "      <td>1</td>\n",
       "    </tr>\n",
       "    <tr>\n",
       "      <th>8A0882B6715D9EE5</th>\n",
       "      <td>1</td>\n",
       "    </tr>\n",
       "  </tbody>\n",
       "</table>\n",
       "<p>134039 rows × 1 columns</p>\n",
       "</div>"
      ],
      "text/plain": [
       "                  session_id\n",
       "user_id                     \n",
       "10E0DEFC1ABDBBE0          10\n",
       "6A73CB5566BB494D          10\n",
       "8A60431A825D035B           9\n",
       "D11541BAC141FB94           9\n",
       "5BCFE7C4DCC148E9           9\n",
       "...                      ...\n",
       "1DF13BB1953B3497           1\n",
       "628502A3CE7E0A3C           1\n",
       "1DEEF40DEFBD0C65           1\n",
       "AC08479B7472C628           1\n",
       "8A0882B6715D9EE5           1\n",
       "\n",
       "[134039 rows x 1 columns]"
      ]
     },
     "execution_count": 3,
     "metadata": {},
     "output_type": "execute_result"
    }
   ],
   "source": [
    "# Рассчитаем кол-во уникальный сессий для каждого пользователя\n",
    "sessions_history.groupby('user_id').agg({'session_id':'nunique'}).sort_values(by='session_id', ascending=False)"
   ]
  },
  {
   "cell_type": "code",
   "execution_count": 4,
   "metadata": {
    "scrolled": true
   },
   "outputs": [
    {
     "data": {
      "text/html": [
       "<div>\n",
       "<style scoped>\n",
       "    .dataframe tbody tr th:only-of-type {\n",
       "        vertical-align: middle;\n",
       "    }\n",
       "\n",
       "    .dataframe tbody tr th {\n",
       "        vertical-align: top;\n",
       "    }\n",
       "\n",
       "    .dataframe thead th {\n",
       "        text-align: right;\n",
       "    }\n",
       "</style>\n",
       "<table border=\"1\" class=\"dataframe\">\n",
       "  <thead>\n",
       "    <tr style=\"text-align: right;\">\n",
       "      <th></th>\n",
       "      <th>user_id</th>\n",
       "      <th>session_id</th>\n",
       "      <th>session_date</th>\n",
       "      <th>session_start_ts</th>\n",
       "      <th>install_date</th>\n",
       "      <th>session_number</th>\n",
       "      <th>registration_flag</th>\n",
       "      <th>page_counter</th>\n",
       "      <th>region</th>\n",
       "      <th>device</th>\n",
       "    </tr>\n",
       "  </thead>\n",
       "  <tbody>\n",
       "    <tr>\n",
       "      <th>115558</th>\n",
       "      <td>10E0DEFC1ABDBBE0</td>\n",
       "      <td>B8F0423BBFFCF5DC</td>\n",
       "      <td>2025-08-14</td>\n",
       "      <td>2025-08-14 13:57:39</td>\n",
       "      <td>2025-08-14</td>\n",
       "      <td>1</td>\n",
       "      <td>0</td>\n",
       "      <td>4</td>\n",
       "      <td>CIS</td>\n",
       "      <td>Android</td>\n",
       "    </tr>\n",
       "    <tr>\n",
       "      <th>191751</th>\n",
       "      <td>10E0DEFC1ABDBBE0</td>\n",
       "      <td>87CA2FA549473837</td>\n",
       "      <td>2025-08-15</td>\n",
       "      <td>2025-08-15 16:42:10</td>\n",
       "      <td>2025-08-14</td>\n",
       "      <td>2</td>\n",
       "      <td>0</td>\n",
       "      <td>3</td>\n",
       "      <td>CIS</td>\n",
       "      <td>Android</td>\n",
       "    </tr>\n",
       "    <tr>\n",
       "      <th>239370</th>\n",
       "      <td>10E0DEFC1ABDBBE0</td>\n",
       "      <td>4ADD8011DCDCE318</td>\n",
       "      <td>2025-08-16</td>\n",
       "      <td>2025-08-16 19:53:21</td>\n",
       "      <td>2025-08-14</td>\n",
       "      <td>3</td>\n",
       "      <td>0</td>\n",
       "      <td>3</td>\n",
       "      <td>CIS</td>\n",
       "      <td>Android</td>\n",
       "    </tr>\n",
       "    <tr>\n",
       "      <th>274629</th>\n",
       "      <td>10E0DEFC1ABDBBE0</td>\n",
       "      <td>DF0FD0E09BF1F3D7</td>\n",
       "      <td>2025-08-17</td>\n",
       "      <td>2025-08-17 15:03:43</td>\n",
       "      <td>2025-08-14</td>\n",
       "      <td>4</td>\n",
       "      <td>0</td>\n",
       "      <td>1</td>\n",
       "      <td>CIS</td>\n",
       "      <td>Android</td>\n",
       "    </tr>\n",
       "    <tr>\n",
       "      <th>302501</th>\n",
       "      <td>10E0DEFC1ABDBBE0</td>\n",
       "      <td>3C221774B4DE6885</td>\n",
       "      <td>2025-08-18</td>\n",
       "      <td>2025-08-18 17:29:14</td>\n",
       "      <td>2025-08-14</td>\n",
       "      <td>5</td>\n",
       "      <td>0</td>\n",
       "      <td>4</td>\n",
       "      <td>CIS</td>\n",
       "      <td>Android</td>\n",
       "    </tr>\n",
       "    <tr>\n",
       "      <th>325557</th>\n",
       "      <td>10E0DEFC1ABDBBE0</td>\n",
       "      <td>031BD7A67048105B</td>\n",
       "      <td>2025-08-19</td>\n",
       "      <td>2025-08-19 13:23:55</td>\n",
       "      <td>2025-08-14</td>\n",
       "      <td>6</td>\n",
       "      <td>0</td>\n",
       "      <td>2</td>\n",
       "      <td>CIS</td>\n",
       "      <td>Android</td>\n",
       "    </tr>\n",
       "    <tr>\n",
       "      <th>345336</th>\n",
       "      <td>10E0DEFC1ABDBBE0</td>\n",
       "      <td>FF4315CF4AD4B100</td>\n",
       "      <td>2025-08-20</td>\n",
       "      <td>2025-08-20 19:31:54</td>\n",
       "      <td>2025-08-14</td>\n",
       "      <td>7</td>\n",
       "      <td>0</td>\n",
       "      <td>2</td>\n",
       "      <td>CIS</td>\n",
       "      <td>Android</td>\n",
       "    </tr>\n",
       "    <tr>\n",
       "      <th>377532</th>\n",
       "      <td>10E0DEFC1ABDBBE0</td>\n",
       "      <td>4045FEA0747203B4</td>\n",
       "      <td>2025-08-22</td>\n",
       "      <td>2025-08-22 17:54:13</td>\n",
       "      <td>2025-08-14</td>\n",
       "      <td>8</td>\n",
       "      <td>0</td>\n",
       "      <td>2</td>\n",
       "      <td>CIS</td>\n",
       "      <td>Android</td>\n",
       "    </tr>\n",
       "    <tr>\n",
       "      <th>403538</th>\n",
       "      <td>10E0DEFC1ABDBBE0</td>\n",
       "      <td>344B086C421C7F37</td>\n",
       "      <td>2025-08-24</td>\n",
       "      <td>2025-08-24 14:46:13</td>\n",
       "      <td>2025-08-14</td>\n",
       "      <td>9</td>\n",
       "      <td>0</td>\n",
       "      <td>2</td>\n",
       "      <td>CIS</td>\n",
       "      <td>Android</td>\n",
       "    </tr>\n",
       "    <tr>\n",
       "      <th>414743</th>\n",
       "      <td>10E0DEFC1ABDBBE0</td>\n",
       "      <td>054F20BA371E4C9D</td>\n",
       "      <td>2025-08-25</td>\n",
       "      <td>2025-08-25 18:36:41</td>\n",
       "      <td>2025-08-14</td>\n",
       "      <td>10</td>\n",
       "      <td>0</td>\n",
       "      <td>3</td>\n",
       "      <td>CIS</td>\n",
       "      <td>Android</td>\n",
       "    </tr>\n",
       "  </tbody>\n",
       "</table>\n",
       "</div>"
      ],
      "text/plain": [
       "                 user_id        session_id session_date     session_start_ts  \\\n",
       "115558  10E0DEFC1ABDBBE0  B8F0423BBFFCF5DC   2025-08-14  2025-08-14 13:57:39   \n",
       "191751  10E0DEFC1ABDBBE0  87CA2FA549473837   2025-08-15  2025-08-15 16:42:10   \n",
       "239370  10E0DEFC1ABDBBE0  4ADD8011DCDCE318   2025-08-16  2025-08-16 19:53:21   \n",
       "274629  10E0DEFC1ABDBBE0  DF0FD0E09BF1F3D7   2025-08-17  2025-08-17 15:03:43   \n",
       "302501  10E0DEFC1ABDBBE0  3C221774B4DE6885   2025-08-18  2025-08-18 17:29:14   \n",
       "325557  10E0DEFC1ABDBBE0  031BD7A67048105B   2025-08-19  2025-08-19 13:23:55   \n",
       "345336  10E0DEFC1ABDBBE0  FF4315CF4AD4B100   2025-08-20  2025-08-20 19:31:54   \n",
       "377532  10E0DEFC1ABDBBE0  4045FEA0747203B4   2025-08-22  2025-08-22 17:54:13   \n",
       "403538  10E0DEFC1ABDBBE0  344B086C421C7F37   2025-08-24  2025-08-24 14:46:13   \n",
       "414743  10E0DEFC1ABDBBE0  054F20BA371E4C9D   2025-08-25  2025-08-25 18:36:41   \n",
       "\n",
       "       install_date  session_number  registration_flag  page_counter region  \\\n",
       "115558   2025-08-14               1                  0             4    CIS   \n",
       "191751   2025-08-14               2                  0             3    CIS   \n",
       "239370   2025-08-14               3                  0             3    CIS   \n",
       "274629   2025-08-14               4                  0             1    CIS   \n",
       "302501   2025-08-14               5                  0             4    CIS   \n",
       "325557   2025-08-14               6                  0             2    CIS   \n",
       "345336   2025-08-14               7                  0             2    CIS   \n",
       "377532   2025-08-14               8                  0             2    CIS   \n",
       "403538   2025-08-14               9                  0             2    CIS   \n",
       "414743   2025-08-14              10                  0             3    CIS   \n",
       "\n",
       "         device  \n",
       "115558  Android  \n",
       "191751  Android  \n",
       "239370  Android  \n",
       "274629  Android  \n",
       "302501  Android  \n",
       "325557  Android  \n",
       "345336  Android  \n",
       "377532  Android  \n",
       "403538  Android  \n",
       "414743  Android  "
      ]
     },
     "execution_count": 4,
     "metadata": {},
     "output_type": "execute_result"
    }
   ],
   "source": [
    "# Выведем пользователя с наибольшим количеством сессий\n",
    "sessions_history[sessions_history['user_id']=='10E0DEFC1ABDBBE0']"
   ]
  },
  {
   "cell_type": "markdown",
   "metadata": {},
   "source": [
    "За выбранный период макс кол-во сессий 10, причем пользователь без регистрации и проявлял активность в первые 11 дней после установки"
   ]
  },
  {
   "cell_type": "markdown",
   "metadata": {
    "id": "CmcGpJTP0eMq"
   },
   "source": [
    "#### 1.3. Анализ числа регистраций **ок**\n",
    "Одна из важнейших метрик продукта — число зарегистрированных пользователей. Используя исторические данные, визуализируйте, как менялось число регистраций в приложении за время его существования.\n",
    "\n",
    "- Агрегируйте исторические данные и рассчитайте число уникальных пользователей и число зарегистрированных пользователей для каждого дня наблюдения. Для простоты считайте, что у пользователя в течение дня бывает одна сессия максимум и статус регистрации в течение одного дня не может измениться.\n",
    "\n",
    "- Постройте линейные графики общего числа пользователей и общего числа зарегистрированных пользователей по дням. Отобразите их на одном графике.\n",
    "\n",
    "- Постройте отдельный линейный график доли зарегистрированных пользователей от всех пользователей по дням. \n",
    "\n",
    "- На обоих графиках должны быть заголовок, подписанные оси X и Y, сетка и легенда."
   ]
  },
  {
   "cell_type": "code",
   "execution_count": 5,
   "metadata": {
    "id": "tN_6Ml3EPatS",
    "scrolled": true
   },
   "outputs": [
    {
     "data": {
      "text/html": [
       "<div>\n",
       "<style scoped>\n",
       "    .dataframe tbody tr th:only-of-type {\n",
       "        vertical-align: middle;\n",
       "    }\n",
       "\n",
       "    .dataframe tbody tr th {\n",
       "        vertical-align: top;\n",
       "    }\n",
       "\n",
       "    .dataframe thead th {\n",
       "        text-align: right;\n",
       "    }\n",
       "</style>\n",
       "<table border=\"1\" class=\"dataframe\">\n",
       "  <thead>\n",
       "    <tr style=\"text-align: right;\">\n",
       "      <th></th>\n",
       "      <th>session_date</th>\n",
       "      <th>users_count</th>\n",
       "      <th>registrated_users_count</th>\n",
       "    </tr>\n",
       "  </thead>\n",
       "  <tbody>\n",
       "    <tr>\n",
       "      <th>0</th>\n",
       "      <td>2025-08-11</td>\n",
       "      <td>3919</td>\n",
       "      <td>169</td>\n",
       "    </tr>\n",
       "    <tr>\n",
       "      <th>1</th>\n",
       "      <td>2025-08-12</td>\n",
       "      <td>6056</td>\n",
       "      <td>336</td>\n",
       "    </tr>\n",
       "    <tr>\n",
       "      <th>2</th>\n",
       "      <td>2025-08-13</td>\n",
       "      <td>8489</td>\n",
       "      <td>464</td>\n",
       "    </tr>\n",
       "    <tr>\n",
       "      <th>3</th>\n",
       "      <td>2025-08-14</td>\n",
       "      <td>10321</td>\n",
       "      <td>625</td>\n",
       "    </tr>\n",
       "    <tr>\n",
       "      <th>4</th>\n",
       "      <td>2025-08-15</td>\n",
       "      <td>14065</td>\n",
       "      <td>840</td>\n",
       "    </tr>\n",
       "    <tr>\n",
       "      <th>5</th>\n",
       "      <td>2025-08-16</td>\n",
       "      <td>12205</td>\n",
       "      <td>916</td>\n",
       "    </tr>\n",
       "    <tr>\n",
       "      <th>6</th>\n",
       "      <td>2025-08-17</td>\n",
       "      <td>11200</td>\n",
       "      <td>833</td>\n",
       "    </tr>\n",
       "    <tr>\n",
       "      <th>7</th>\n",
       "      <td>2025-08-18</td>\n",
       "      <td>10839</td>\n",
       "      <td>860</td>\n",
       "    </tr>\n",
       "    <tr>\n",
       "      <th>8</th>\n",
       "      <td>2025-08-19</td>\n",
       "      <td>12118</td>\n",
       "      <td>831</td>\n",
       "    </tr>\n",
       "    <tr>\n",
       "      <th>9</th>\n",
       "      <td>2025-08-20</td>\n",
       "      <td>13514</td>\n",
       "      <td>1008</td>\n",
       "    </tr>\n",
       "    <tr>\n",
       "      <th>10</th>\n",
       "      <td>2025-08-21</td>\n",
       "      <td>15051</td>\n",
       "      <td>1063</td>\n",
       "    </tr>\n",
       "    <tr>\n",
       "      <th>11</th>\n",
       "      <td>2025-08-22</td>\n",
       "      <td>17563</td>\n",
       "      <td>1251</td>\n",
       "    </tr>\n",
       "    <tr>\n",
       "      <th>12</th>\n",
       "      <td>2025-08-23</td>\n",
       "      <td>16082</td>\n",
       "      <td>1253</td>\n",
       "    </tr>\n",
       "    <tr>\n",
       "      <th>13</th>\n",
       "      <td>2025-08-24</td>\n",
       "      <td>13683</td>\n",
       "      <td>1181</td>\n",
       "    </tr>\n",
       "    <tr>\n",
       "      <th>14</th>\n",
       "      <td>2025-08-25</td>\n",
       "      <td>13635</td>\n",
       "      <td>1060</td>\n",
       "    </tr>\n",
       "    <tr>\n",
       "      <th>15</th>\n",
       "      <td>2025-08-26</td>\n",
       "      <td>13289</td>\n",
       "      <td>1050</td>\n",
       "    </tr>\n",
       "    <tr>\n",
       "      <th>16</th>\n",
       "      <td>2025-08-27</td>\n",
       "      <td>14766</td>\n",
       "      <td>1076</td>\n",
       "    </tr>\n",
       "    <tr>\n",
       "      <th>17</th>\n",
       "      <td>2025-08-28</td>\n",
       "      <td>15388</td>\n",
       "      <td>1175</td>\n",
       "    </tr>\n",
       "    <tr>\n",
       "      <th>18</th>\n",
       "      <td>2025-08-29</td>\n",
       "      <td>16873</td>\n",
       "      <td>1174</td>\n",
       "    </tr>\n",
       "    <tr>\n",
       "      <th>19</th>\n",
       "      <td>2025-08-30</td>\n",
       "      <td>14891</td>\n",
       "      <td>1165</td>\n",
       "    </tr>\n",
       "    <tr>\n",
       "      <th>20</th>\n",
       "      <td>2025-08-31</td>\n",
       "      <td>13266</td>\n",
       "      <td>1105</td>\n",
       "    </tr>\n",
       "    <tr>\n",
       "      <th>21</th>\n",
       "      <td>2025-09-01</td>\n",
       "      <td>12685</td>\n",
       "      <td>1028</td>\n",
       "    </tr>\n",
       "    <tr>\n",
       "      <th>22</th>\n",
       "      <td>2025-09-02</td>\n",
       "      <td>12672</td>\n",
       "      <td>1039</td>\n",
       "    </tr>\n",
       "    <tr>\n",
       "      <th>23</th>\n",
       "      <td>2025-09-03</td>\n",
       "      <td>12777</td>\n",
       "      <td>1035</td>\n",
       "    </tr>\n",
       "    <tr>\n",
       "      <th>24</th>\n",
       "      <td>2025-09-04</td>\n",
       "      <td>13683</td>\n",
       "      <td>1007</td>\n",
       "    </tr>\n",
       "    <tr>\n",
       "      <th>25</th>\n",
       "      <td>2025-09-05</td>\n",
       "      <td>15324</td>\n",
       "      <td>1030</td>\n",
       "    </tr>\n",
       "    <tr>\n",
       "      <th>26</th>\n",
       "      <td>2025-09-06</td>\n",
       "      <td>13078</td>\n",
       "      <td>1023</td>\n",
       "    </tr>\n",
       "    <tr>\n",
       "      <th>27</th>\n",
       "      <td>2025-09-07</td>\n",
       "      <td>12367</td>\n",
       "      <td>1069</td>\n",
       "    </tr>\n",
       "    <tr>\n",
       "      <th>28</th>\n",
       "      <td>2025-09-08</td>\n",
       "      <td>11826</td>\n",
       "      <td>1009</td>\n",
       "    </tr>\n",
       "    <tr>\n",
       "      <th>29</th>\n",
       "      <td>2025-09-09</td>\n",
       "      <td>11780</td>\n",
       "      <td>980</td>\n",
       "    </tr>\n",
       "    <tr>\n",
       "      <th>30</th>\n",
       "      <td>2025-09-10</td>\n",
       "      <td>12526</td>\n",
       "      <td>1015</td>\n",
       "    </tr>\n",
       "    <tr>\n",
       "      <th>31</th>\n",
       "      <td>2025-09-11</td>\n",
       "      <td>8623</td>\n",
       "      <td>824</td>\n",
       "    </tr>\n",
       "    <tr>\n",
       "      <th>32</th>\n",
       "      <td>2025-09-12</td>\n",
       "      <td>6436</td>\n",
       "      <td>669</td>\n",
       "    </tr>\n",
       "    <tr>\n",
       "      <th>33</th>\n",
       "      <td>2025-09-13</td>\n",
       "      <td>5183</td>\n",
       "      <td>537</td>\n",
       "    </tr>\n",
       "    <tr>\n",
       "      <th>34</th>\n",
       "      <td>2025-09-14</td>\n",
       "      <td>4364</td>\n",
       "      <td>440</td>\n",
       "    </tr>\n",
       "    <tr>\n",
       "      <th>35</th>\n",
       "      <td>2025-09-15</td>\n",
       "      <td>3698</td>\n",
       "      <td>383</td>\n",
       "    </tr>\n",
       "    <tr>\n",
       "      <th>36</th>\n",
       "      <td>2025-09-16</td>\n",
       "      <td>3032</td>\n",
       "      <td>286</td>\n",
       "    </tr>\n",
       "    <tr>\n",
       "      <th>37</th>\n",
       "      <td>2025-09-17</td>\n",
       "      <td>2548</td>\n",
       "      <td>272</td>\n",
       "    </tr>\n",
       "    <tr>\n",
       "      <th>38</th>\n",
       "      <td>2025-09-18</td>\n",
       "      <td>1952</td>\n",
       "      <td>201</td>\n",
       "    </tr>\n",
       "    <tr>\n",
       "      <th>39</th>\n",
       "      <td>2025-09-19</td>\n",
       "      <td>1418</td>\n",
       "      <td>132</td>\n",
       "    </tr>\n",
       "    <tr>\n",
       "      <th>40</th>\n",
       "      <td>2025-09-20</td>\n",
       "      <td>1100</td>\n",
       "      <td>107</td>\n",
       "    </tr>\n",
       "    <tr>\n",
       "      <th>41</th>\n",
       "      <td>2025-09-21</td>\n",
       "      <td>776</td>\n",
       "      <td>87</td>\n",
       "    </tr>\n",
       "    <tr>\n",
       "      <th>42</th>\n",
       "      <td>2025-09-22</td>\n",
       "      <td>546</td>\n",
       "      <td>68</td>\n",
       "    </tr>\n",
       "    <tr>\n",
       "      <th>43</th>\n",
       "      <td>2025-09-23</td>\n",
       "      <td>317</td>\n",
       "      <td>32</td>\n",
       "    </tr>\n",
       "  </tbody>\n",
       "</table>\n",
       "</div>"
      ],
      "text/plain": [
       "   session_date  users_count  registrated_users_count\n",
       "0    2025-08-11         3919                      169\n",
       "1    2025-08-12         6056                      336\n",
       "2    2025-08-13         8489                      464\n",
       "3    2025-08-14        10321                      625\n",
       "4    2025-08-15        14065                      840\n",
       "5    2025-08-16        12205                      916\n",
       "6    2025-08-17        11200                      833\n",
       "7    2025-08-18        10839                      860\n",
       "8    2025-08-19        12118                      831\n",
       "9    2025-08-20        13514                     1008\n",
       "10   2025-08-21        15051                     1063\n",
       "11   2025-08-22        17563                     1251\n",
       "12   2025-08-23        16082                     1253\n",
       "13   2025-08-24        13683                     1181\n",
       "14   2025-08-25        13635                     1060\n",
       "15   2025-08-26        13289                     1050\n",
       "16   2025-08-27        14766                     1076\n",
       "17   2025-08-28        15388                     1175\n",
       "18   2025-08-29        16873                     1174\n",
       "19   2025-08-30        14891                     1165\n",
       "20   2025-08-31        13266                     1105\n",
       "21   2025-09-01        12685                     1028\n",
       "22   2025-09-02        12672                     1039\n",
       "23   2025-09-03        12777                     1035\n",
       "24   2025-09-04        13683                     1007\n",
       "25   2025-09-05        15324                     1030\n",
       "26   2025-09-06        13078                     1023\n",
       "27   2025-09-07        12367                     1069\n",
       "28   2025-09-08        11826                     1009\n",
       "29   2025-09-09        11780                      980\n",
       "30   2025-09-10        12526                     1015\n",
       "31   2025-09-11         8623                      824\n",
       "32   2025-09-12         6436                      669\n",
       "33   2025-09-13         5183                      537\n",
       "34   2025-09-14         4364                      440\n",
       "35   2025-09-15         3698                      383\n",
       "36   2025-09-16         3032                      286\n",
       "37   2025-09-17         2548                      272\n",
       "38   2025-09-18         1952                      201\n",
       "39   2025-09-19         1418                      132\n",
       "40   2025-09-20         1100                      107\n",
       "41   2025-09-21          776                       87\n",
       "42   2025-09-22          546                       68\n",
       "43   2025-09-23          317                       32"
      ]
     },
     "metadata": {},
     "output_type": "display_data"
    }
   ],
   "source": [
    "# число уникальных и зарегестрированных пользователейпользователей в разрезе дней\n",
    "users = sessions_history.groupby('session_date').agg({'user_id':'nunique','registration_flag':'sum'})\n",
    "users = users.reset_index()\n",
    "users.columns = ['session_date', 'users_count', 'registrated_users_count']\n",
    "display(users)"
   ]
  },
  {
   "cell_type": "code",
   "execution_count": 6,
   "metadata": {
    "scrolled": false
   },
   "outputs": [
    {
     "data": {
      "text/plain": [
       "Text(0, 0.5, 'Количество пользователей')"
      ]
     },
     "execution_count": 6,
     "metadata": {},
     "output_type": "execute_result"
    },
    {
     "data": {
      "image/png": "[encoded data removed]",
      "text/plain": [
       "<Figure size 432x288 with 1 Axes>"
      ]
     },
     "metadata": {
      "needs_background": "light"
     },
     "output_type": "display_data"
    }
   ],
   "source": [
    "# Визуализируем данные\n",
    "\n",
    "users.plot(kind='line', x='session_date', y=['users_count', 'registrated_users_count'])\n",
    "plt.title('Общее число уникальных и зарегестрированных пользователей по дням')\n",
    "plt.xlabel('Дата')\n",
    "plt.ylabel('Количество пользователей')"
   ]
  },
  {
   "cell_type": "code",
   "execution_count": 7,
   "metadata": {},
   "outputs": [
    {
     "data": {
      "text/plain": [
       "Text(0, 0.5, 'Количество пользователей')"
      ]
     },
     "execution_count": 7,
     "metadata": {},
     "output_type": "execute_result"
    },
    {
     "data": {
      "image/png": "[encoded data removed]",
      "text/plain": [
       "<Figure size 432x288 with 1 Axes>"
      ]
     },
     "metadata": {
      "needs_background": "light"
     },
     "output_type": "display_data"
    }
   ],
   "source": [
    "# Отображать оба показателя на одном графике не совсем корректно и может привести к ложным выводам из-за различий в масштабах\n",
    "# поэтому выведем отдельно число зарег пользователей\n",
    "users.plot(kind='line', x='session_date', y='registrated_users_count')\n",
    "plt.title('Общее число зарегестрированных пользователей по дням')\n",
    "plt.xlabel('Дата')\n",
    "plt.ylabel('Количество пользователей')"
   ]
  },
  {
   "cell_type": "code",
   "execution_count": 8,
   "metadata": {},
   "outputs": [
    {
     "data": {
      "text/plain": [
       "Text(0, 0.5, 'Доля пользователей')"
      ]
     },
     "execution_count": 8,
     "metadata": {},
     "output_type": "execute_result"
    },
    {
     "data": {
      "image/png": "[encoded data removed]",
      "text/plain": [
       "<Figure size 432x288 with 1 Axes>"
      ]
     },
     "metadata": {
      "needs_background": "light"
     },
     "output_type": "display_data"
    }
   ],
   "source": [
    "# Доля зарегистрированных пользователей от всех пользователей по дням\n",
    "users['reg_share'] = round(users['registrated_users_count'] / users['users_count'],3)\n",
    "users.plot(kind='line', x='session_date', y='reg_share')\n",
    "plt.title('Доля зарегистрированных пользователей от всех пользователей по дням')\n",
    "plt.xlabel('Дата')\n",
    "plt.ylabel('Доля пользователей')"
   ]
  },
  {
   "cell_type": "markdown",
   "metadata": {},
   "source": [
    "Из графиков видим следующее:\n",
    "+ количество уникальных пользователей сильно колебалось изо дня в день, но после 10 сентября пошло на спад (возможно, это связано с тем, что у пользователей началась учеба/работа, из-за чего меньше свободного времени)\n",
    "+ число зарегестрированных пользователей тоже сильно колебалось, однако после 10 сентября также прослеживается тенденция на снижение\n",
    "+ доля зарегестрированных же пользователей, хоть и нестабильно, но показывает рост, даже после 10 сентября (это говорит о том, что покидают приложение в большей степени незарегестрированные пользователи)"
   ]
  },
  {
   "cell_type": "markdown",
   "metadata": {
    "id": "UR7D7RhF0eMr"
   },
   "source": [
    "#### 1.4. Анализ числа просмотренных страниц \n",
    "Другая важная метрика продукта — число просмотренных страниц в приложении. Чем больше страниц просмотрено, тем сильнее пользователь увлечён контентом, а значит, выше шансы на то, что он зарегистрируется и оплатит подписку.\n",
    "\n",
    "- Найдите количество сессий для каждого значения количества просмотренных страниц. Например: одну страницу просмотрели в 29160 сессиях, две страницы в 105536 сессиях и так далее. \n",
    "\n",
    "- Постройте столбчатую диаграмму, где по оси X будет число просмотренных страниц, по оси Y — количество сессий. \n",
    "\n",
    "- На диаграмме должны быть заголовок, подписанные оси X и Y."
   ]
  },
  {
   "cell_type": "code",
   "execution_count": 9,
   "metadata": {
    "id": "cb6hPlVzPaSf",
    "scrolled": true
   },
   "outputs": [
    {
     "data": {
      "text/plain": [
       "<AxesSubplot:title={'center':'Число просмотренных страниц в приложении'}, xlabel='Кол-во просмотренных страниц', ylabel='Кол-во сессий'>"
      ]
     },
     "execution_count": 9,
     "metadata": {},
     "output_type": "execute_result"
    },
    {
     "data": {
      "image/png": "[encoded data removed]",
      "text/plain": [
       "<Figure size 432x288 with 1 Axes>"
      ]
     },
     "metadata": {
      "needs_background": "light"
     },
     "output_type": "display_data"
    }
   ],
   "source": [
    "sessions_history.groupby('page_counter')['session_id'].count().plot(kind='bar',\n",
    "                                                                    rot=0, \n",
    "                                                                    xlabel='Кол-во просмотренных страниц',\n",
    "                                                                    ylabel='Кол-во сессий',\n",
    "                                                                    title='Число просмотренных страниц в приложении') "
   ]
  },
  {
   "cell_type": "code",
   "execution_count": 10,
   "metadata": {},
   "outputs": [
    {
     "data": {
      "text/plain": [
       "page_counter\n",
       "1     29160\n",
       "2    105536\n",
       "3    166690\n",
       "4    105569\n",
       "5     26288\n",
       "6      2589\n",
       "7        92\n",
       "Name: session_id, dtype: int64"
      ]
     },
     "execution_count": 10,
     "metadata": {},
     "output_type": "execute_result"
    }
   ],
   "source": [
    "sessions_history.groupby('page_counter')['session_id'].count()"
   ]
  },
  {
   "cell_type": "markdown",
   "metadata": {},
   "source": [
    "Чаще всего пользователи просматривают 3 страницы, чуть меньше 2 и 4"
   ]
  },
  {
   "cell_type": "markdown",
   "metadata": {
    "id": "xDltSpVP0eMr"
   },
   "source": [
    "#### 1.5. Доля пользователей, просмотревших более четырёх страниц \n",
    "Продуктовая команда продукта считает, что сессии, в рамках которых пользователь просмотрел 4 и более страниц, говорят об удовлетворённости контентом и алгоритмами рекомендаций. Этот показатель является важной прокси-метрикой для продукта.\n",
    "\n",
    "- В датафрейме `sessions_history` создайте дополнительный столбец `good_session`. В него войдёт значение `1`, если за одну сессию было просмотрено 4 и более страниц, и значение `0`, если было просмотрено меньше. \n",
    "\n",
    "- Постройте график со средним значением доли успешных сессий ко всем сессиям по дням за весь период наблюдения. "
   ]
  },
  {
   "cell_type": "code",
   "execution_count": 11,
   "metadata": {
    "id": "iygaPfixPYMW",
    "scrolled": true
   },
   "outputs": [
    {
     "data": {
      "text/html": [
       "<div>\n",
       "<style scoped>\n",
       "    .dataframe tbody tr th:only-of-type {\n",
       "        vertical-align: middle;\n",
       "    }\n",
       "\n",
       "    .dataframe tbody tr th {\n",
       "        vertical-align: top;\n",
       "    }\n",
       "\n",
       "    .dataframe thead th {\n",
       "        text-align: right;\n",
       "    }\n",
       "</style>\n",
       "<table border=\"1\" class=\"dataframe\">\n",
       "  <thead>\n",
       "    <tr style=\"text-align: right;\">\n",
       "      <th></th>\n",
       "      <th>user_id</th>\n",
       "      <th>session_id</th>\n",
       "      <th>session_date</th>\n",
       "      <th>session_start_ts</th>\n",
       "      <th>install_date</th>\n",
       "      <th>session_number</th>\n",
       "      <th>registration_flag</th>\n",
       "      <th>page_counter</th>\n",
       "      <th>region</th>\n",
       "      <th>device</th>\n",
       "      <th>good_session</th>\n",
       "    </tr>\n",
       "  </thead>\n",
       "  <tbody>\n",
       "    <tr>\n",
       "      <th>0</th>\n",
       "      <td>E302123B7000BFE4</td>\n",
       "      <td>F9AF61A0C2023832</td>\n",
       "      <td>2025-08-15</td>\n",
       "      <td>2025-08-15 17:47:35</td>\n",
       "      <td>2025-08-15</td>\n",
       "      <td>1</td>\n",
       "      <td>0</td>\n",
       "      <td>3</td>\n",
       "      <td>CIS</td>\n",
       "      <td>iPhone</td>\n",
       "      <td>0</td>\n",
       "    </tr>\n",
       "    <tr>\n",
       "      <th>1</th>\n",
       "      <td>2530F72E221829FB</td>\n",
       "      <td>85003A206CBDAC6F</td>\n",
       "      <td>2025-08-15</td>\n",
       "      <td>2025-08-15 16:42:14</td>\n",
       "      <td>2025-08-15</td>\n",
       "      <td>1</td>\n",
       "      <td>0</td>\n",
       "      <td>4</td>\n",
       "      <td>MENA</td>\n",
       "      <td>Android</td>\n",
       "      <td>1</td>\n",
       "    </tr>\n",
       "    <tr>\n",
       "      <th>2</th>\n",
       "      <td>876E020A4FC512F5</td>\n",
       "      <td>3677423E49D72DEE</td>\n",
       "      <td>2025-08-15</td>\n",
       "      <td>2025-08-15 12:30:00</td>\n",
       "      <td>2025-08-15</td>\n",
       "      <td>1</td>\n",
       "      <td>0</td>\n",
       "      <td>4</td>\n",
       "      <td>EU</td>\n",
       "      <td>PC</td>\n",
       "      <td>1</td>\n",
       "    </tr>\n",
       "    <tr>\n",
       "      <th>3</th>\n",
       "      <td>2640B349E1D81584</td>\n",
       "      <td>956B45F5915CA225</td>\n",
       "      <td>2025-08-15</td>\n",
       "      <td>2025-08-15 15:31:31</td>\n",
       "      <td>2025-08-15</td>\n",
       "      <td>1</td>\n",
       "      <td>0</td>\n",
       "      <td>4</td>\n",
       "      <td>CIS</td>\n",
       "      <td>Android</td>\n",
       "      <td>1</td>\n",
       "    </tr>\n",
       "    <tr>\n",
       "      <th>4</th>\n",
       "      <td>94E1CBFAEF1F5EE9</td>\n",
       "      <td>83BF0DA35F9F1F40</td>\n",
       "      <td>2025-08-15</td>\n",
       "      <td>2025-08-15 21:33:53</td>\n",
       "      <td>2025-08-15</td>\n",
       "      <td>1</td>\n",
       "      <td>0</td>\n",
       "      <td>3</td>\n",
       "      <td>CIS</td>\n",
       "      <td>Android</td>\n",
       "      <td>0</td>\n",
       "    </tr>\n",
       "    <tr>\n",
       "      <th>...</th>\n",
       "      <td>...</td>\n",
       "      <td>...</td>\n",
       "      <td>...</td>\n",
       "      <td>...</td>\n",
       "      <td>...</td>\n",
       "      <td>...</td>\n",
       "      <td>...</td>\n",
       "      <td>...</td>\n",
       "      <td>...</td>\n",
       "      <td>...</td>\n",
       "      <td>...</td>\n",
       "    </tr>\n",
       "    <tr>\n",
       "      <th>435919</th>\n",
       "      <td>769BC199AF26FEF8</td>\n",
       "      <td>914903B51D69C5EA</td>\n",
       "      <td>2025-09-17</td>\n",
       "      <td>2025-09-17 21:33:57</td>\n",
       "      <td>2025-09-04</td>\n",
       "      <td>3</td>\n",
       "      <td>1</td>\n",
       "      <td>3</td>\n",
       "      <td>CIS</td>\n",
       "      <td>PC</td>\n",
       "      <td>0</td>\n",
       "    </tr>\n",
       "    <tr>\n",
       "      <th>435920</th>\n",
       "      <td>599DED39F3CD2ADE</td>\n",
       "      <td>66ADBE343C94DCDA</td>\n",
       "      <td>2025-09-17</td>\n",
       "      <td>2025-09-17 17:11:46</td>\n",
       "      <td>2025-09-04</td>\n",
       "      <td>4</td>\n",
       "      <td>0</td>\n",
       "      <td>4</td>\n",
       "      <td>MENA</td>\n",
       "      <td>iPhone</td>\n",
       "      <td>1</td>\n",
       "    </tr>\n",
       "    <tr>\n",
       "      <th>435921</th>\n",
       "      <td>1FA20C4BC94E64B2</td>\n",
       "      <td>C4CCD7E81733665F</td>\n",
       "      <td>2025-09-17</td>\n",
       "      <td>2025-09-17 19:36:55</td>\n",
       "      <td>2025-09-04</td>\n",
       "      <td>4</td>\n",
       "      <td>0</td>\n",
       "      <td>4</td>\n",
       "      <td>CIS</td>\n",
       "      <td>Android</td>\n",
       "      <td>1</td>\n",
       "    </tr>\n",
       "    <tr>\n",
       "      <th>435922</th>\n",
       "      <td>88E5FC3016A7A0AD</td>\n",
       "      <td>6834FB4914B56200</td>\n",
       "      <td>2025-09-17</td>\n",
       "      <td>2025-09-17 22:13:33</td>\n",
       "      <td>2025-09-04</td>\n",
       "      <td>5</td>\n",
       "      <td>0</td>\n",
       "      <td>4</td>\n",
       "      <td>MENA</td>\n",
       "      <td>PC</td>\n",
       "      <td>1</td>\n",
       "    </tr>\n",
       "    <tr>\n",
       "      <th>435923</th>\n",
       "      <td>5CC144801F7B0D1D</td>\n",
       "      <td>8CC9E67AFF5D9CA8</td>\n",
       "      <td>2025-09-17</td>\n",
       "      <td>2025-09-17 15:23:46</td>\n",
       "      <td>2025-09-04</td>\n",
       "      <td>3</td>\n",
       "      <td>0</td>\n",
       "      <td>2</td>\n",
       "      <td>MENA</td>\n",
       "      <td>iPhone</td>\n",
       "      <td>0</td>\n",
       "    </tr>\n",
       "  </tbody>\n",
       "</table>\n",
       "<p>435924 rows × 11 columns</p>\n",
       "</div>"
      ],
      "text/plain": [
       "                 user_id        session_id session_date     session_start_ts  \\\n",
       "0       E302123B7000BFE4  F9AF61A0C2023832   2025-08-15  2025-08-15 17:47:35   \n",
       "1       2530F72E221829FB  85003A206CBDAC6F   2025-08-15  2025-08-15 16:42:14   \n",
       "2       876E020A4FC512F5  3677423E49D72DEE   2025-08-15  2025-08-15 12:30:00   \n",
       "3       2640B349E1D81584  956B45F5915CA225   2025-08-15  2025-08-15 15:31:31   \n",
       "4       94E1CBFAEF1F5EE9  83BF0DA35F9F1F40   2025-08-15  2025-08-15 21:33:53   \n",
       "...                  ...               ...          ...                  ...   \n",
       "435919  769BC199AF26FEF8  914903B51D69C5EA   2025-09-17  2025-09-17 21:33:57   \n",
       "435920  599DED39F3CD2ADE  66ADBE343C94DCDA   2025-09-17  2025-09-17 17:11:46   \n",
       "435921  1FA20C4BC94E64B2  C4CCD7E81733665F   2025-09-17  2025-09-17 19:36:55   \n",
       "435922  88E5FC3016A7A0AD  6834FB4914B56200   2025-09-17  2025-09-17 22:13:33   \n",
       "435923  5CC144801F7B0D1D  8CC9E67AFF5D9CA8   2025-09-17  2025-09-17 15:23:46   \n",
       "\n",
       "       install_date  session_number  registration_flag  page_counter region  \\\n",
       "0        2025-08-15               1                  0             3    CIS   \n",
       "1        2025-08-15               1                  0             4   MENA   \n",
       "2        2025-08-15               1                  0             4     EU   \n",
       "3        2025-08-15               1                  0             4    CIS   \n",
       "4        2025-08-15               1                  0             3    CIS   \n",
       "...             ...             ...                ...           ...    ...   \n",
       "435919   2025-09-04               3                  1             3    CIS   \n",
       "435920   2025-09-04               4                  0             4   MENA   \n",
       "435921   2025-09-04               4                  0             4    CIS   \n",
       "435922   2025-09-04               5                  0             4   MENA   \n",
       "435923   2025-09-04               3                  0             2   MENA   \n",
       "\n",
       "         device  good_session  \n",
       "0        iPhone             0  \n",
       "1       Android             1  \n",
       "2            PC             1  \n",
       "3       Android             1  \n",
       "4       Android             0  \n",
       "...         ...           ...  \n",
       "435919       PC             0  \n",
       "435920   iPhone             1  \n",
       "435921  Android             1  \n",
       "435922       PC             1  \n",
       "435923   iPhone             0  \n",
       "\n",
       "[435924 rows x 11 columns]"
      ]
     },
     "metadata": {},
     "output_type": "display_data"
    }
   ],
   "source": [
    "# Cоздадим дополнительный столбец\n",
    "sessions_history['good_session'] = np.where(sessions_history['page_counter'] >= 4, 1,0) \n",
    "display(sessions_history)"
   ]
  },
  {
   "cell_type": "code",
   "execution_count": 12,
   "metadata": {
    "scrolled": true
   },
   "outputs": [
    {
     "data": {
      "text/html": [
       "<div>\n",
       "<style scoped>\n",
       "    .dataframe tbody tr th:only-of-type {\n",
       "        vertical-align: middle;\n",
       "    }\n",
       "\n",
       "    .dataframe tbody tr th {\n",
       "        vertical-align: top;\n",
       "    }\n",
       "\n",
       "    .dataframe thead th {\n",
       "        text-align: right;\n",
       "    }\n",
       "</style>\n",
       "<table border=\"1\" class=\"dataframe\">\n",
       "  <thead>\n",
       "    <tr style=\"text-align: right;\">\n",
       "      <th></th>\n",
       "      <th>session_date</th>\n",
       "      <th>session_count</th>\n",
       "      <th>good_session_count</th>\n",
       "      <th>good_sessions_share</th>\n",
       "    </tr>\n",
       "  </thead>\n",
       "  <tbody>\n",
       "    <tr>\n",
       "      <th>0</th>\n",
       "      <td>2025-08-11</td>\n",
       "      <td>3919</td>\n",
       "      <td>1226</td>\n",
       "      <td>0.312835</td>\n",
       "    </tr>\n",
       "    <tr>\n",
       "      <th>1</th>\n",
       "      <td>2025-08-12</td>\n",
       "      <td>6056</td>\n",
       "      <td>1829</td>\n",
       "      <td>0.302015</td>\n",
       "    </tr>\n",
       "    <tr>\n",
       "      <th>2</th>\n",
       "      <td>2025-08-13</td>\n",
       "      <td>8489</td>\n",
       "      <td>2604</td>\n",
       "      <td>0.306750</td>\n",
       "    </tr>\n",
       "    <tr>\n",
       "      <th>3</th>\n",
       "      <td>2025-08-14</td>\n",
       "      <td>10321</td>\n",
       "      <td>3262</td>\n",
       "      <td>0.316055</td>\n",
       "    </tr>\n",
       "    <tr>\n",
       "      <th>4</th>\n",
       "      <td>2025-08-15</td>\n",
       "      <td>14065</td>\n",
       "      <td>4289</td>\n",
       "      <td>0.304941</td>\n",
       "    </tr>\n",
       "    <tr>\n",
       "      <th>5</th>\n",
       "      <td>2025-08-16</td>\n",
       "      <td>12205</td>\n",
       "      <td>3737</td>\n",
       "      <td>0.306186</td>\n",
       "    </tr>\n",
       "    <tr>\n",
       "      <th>6</th>\n",
       "      <td>2025-08-17</td>\n",
       "      <td>11200</td>\n",
       "      <td>3557</td>\n",
       "      <td>0.317589</td>\n",
       "    </tr>\n",
       "    <tr>\n",
       "      <th>7</th>\n",
       "      <td>2025-08-18</td>\n",
       "      <td>10839</td>\n",
       "      <td>3366</td>\n",
       "      <td>0.310545</td>\n",
       "    </tr>\n",
       "    <tr>\n",
       "      <th>8</th>\n",
       "      <td>2025-08-19</td>\n",
       "      <td>12118</td>\n",
       "      <td>3791</td>\n",
       "      <td>0.312840</td>\n",
       "    </tr>\n",
       "    <tr>\n",
       "      <th>9</th>\n",
       "      <td>2025-08-20</td>\n",
       "      <td>13514</td>\n",
       "      <td>4148</td>\n",
       "      <td>0.306941</td>\n",
       "    </tr>\n",
       "    <tr>\n",
       "      <th>10</th>\n",
       "      <td>2025-08-21</td>\n",
       "      <td>15051</td>\n",
       "      <td>4563</td>\n",
       "      <td>0.303169</td>\n",
       "    </tr>\n",
       "    <tr>\n",
       "      <th>11</th>\n",
       "      <td>2025-08-22</td>\n",
       "      <td>17563</td>\n",
       "      <td>5500</td>\n",
       "      <td>0.313158</td>\n",
       "    </tr>\n",
       "    <tr>\n",
       "      <th>12</th>\n",
       "      <td>2025-08-23</td>\n",
       "      <td>16082</td>\n",
       "      <td>4858</td>\n",
       "      <td>0.302077</td>\n",
       "    </tr>\n",
       "    <tr>\n",
       "      <th>13</th>\n",
       "      <td>2025-08-24</td>\n",
       "      <td>13683</td>\n",
       "      <td>4239</td>\n",
       "      <td>0.309800</td>\n",
       "    </tr>\n",
       "    <tr>\n",
       "      <th>14</th>\n",
       "      <td>2025-08-25</td>\n",
       "      <td>13635</td>\n",
       "      <td>4165</td>\n",
       "      <td>0.305464</td>\n",
       "    </tr>\n",
       "    <tr>\n",
       "      <th>15</th>\n",
       "      <td>2025-08-26</td>\n",
       "      <td>13289</td>\n",
       "      <td>4132</td>\n",
       "      <td>0.310934</td>\n",
       "    </tr>\n",
       "    <tr>\n",
       "      <th>16</th>\n",
       "      <td>2025-08-27</td>\n",
       "      <td>14766</td>\n",
       "      <td>4594</td>\n",
       "      <td>0.311120</td>\n",
       "    </tr>\n",
       "    <tr>\n",
       "      <th>17</th>\n",
       "      <td>2025-08-28</td>\n",
       "      <td>15388</td>\n",
       "      <td>4779</td>\n",
       "      <td>0.310567</td>\n",
       "    </tr>\n",
       "    <tr>\n",
       "      <th>18</th>\n",
       "      <td>2025-08-29</td>\n",
       "      <td>16873</td>\n",
       "      <td>5283</td>\n",
       "      <td>0.313104</td>\n",
       "    </tr>\n",
       "    <tr>\n",
       "      <th>19</th>\n",
       "      <td>2025-08-30</td>\n",
       "      <td>14891</td>\n",
       "      <td>4673</td>\n",
       "      <td>0.313814</td>\n",
       "    </tr>\n",
       "    <tr>\n",
       "      <th>20</th>\n",
       "      <td>2025-08-31</td>\n",
       "      <td>13266</td>\n",
       "      <td>4013</td>\n",
       "      <td>0.302503</td>\n",
       "    </tr>\n",
       "    <tr>\n",
       "      <th>21</th>\n",
       "      <td>2025-09-01</td>\n",
       "      <td>12685</td>\n",
       "      <td>3964</td>\n",
       "      <td>0.312495</td>\n",
       "    </tr>\n",
       "    <tr>\n",
       "      <th>22</th>\n",
       "      <td>2025-09-02</td>\n",
       "      <td>12672</td>\n",
       "      <td>3998</td>\n",
       "      <td>0.315499</td>\n",
       "    </tr>\n",
       "    <tr>\n",
       "      <th>23</th>\n",
       "      <td>2025-09-03</td>\n",
       "      <td>12777</td>\n",
       "      <td>3886</td>\n",
       "      <td>0.304140</td>\n",
       "    </tr>\n",
       "    <tr>\n",
       "      <th>24</th>\n",
       "      <td>2025-09-04</td>\n",
       "      <td>13683</td>\n",
       "      <td>4317</td>\n",
       "      <td>0.315501</td>\n",
       "    </tr>\n",
       "    <tr>\n",
       "      <th>25</th>\n",
       "      <td>2025-09-05</td>\n",
       "      <td>15324</td>\n",
       "      <td>4656</td>\n",
       "      <td>0.303837</td>\n",
       "    </tr>\n",
       "    <tr>\n",
       "      <th>26</th>\n",
       "      <td>2025-09-06</td>\n",
       "      <td>13078</td>\n",
       "      <td>3983</td>\n",
       "      <td>0.304557</td>\n",
       "    </tr>\n",
       "    <tr>\n",
       "      <th>27</th>\n",
       "      <td>2025-09-07</td>\n",
       "      <td>12367</td>\n",
       "      <td>3860</td>\n",
       "      <td>0.312121</td>\n",
       "    </tr>\n",
       "    <tr>\n",
       "      <th>28</th>\n",
       "      <td>2025-09-08</td>\n",
       "      <td>11826</td>\n",
       "      <td>3652</td>\n",
       "      <td>0.308811</td>\n",
       "    </tr>\n",
       "    <tr>\n",
       "      <th>29</th>\n",
       "      <td>2025-09-09</td>\n",
       "      <td>11780</td>\n",
       "      <td>3599</td>\n",
       "      <td>0.305518</td>\n",
       "    </tr>\n",
       "    <tr>\n",
       "      <th>30</th>\n",
       "      <td>2025-09-10</td>\n",
       "      <td>12526</td>\n",
       "      <td>3822</td>\n",
       "      <td>0.305125</td>\n",
       "    </tr>\n",
       "    <tr>\n",
       "      <th>31</th>\n",
       "      <td>2025-09-11</td>\n",
       "      <td>8623</td>\n",
       "      <td>2627</td>\n",
       "      <td>0.304650</td>\n",
       "    </tr>\n",
       "    <tr>\n",
       "      <th>32</th>\n",
       "      <td>2025-09-12</td>\n",
       "      <td>6436</td>\n",
       "      <td>1941</td>\n",
       "      <td>0.301585</td>\n",
       "    </tr>\n",
       "    <tr>\n",
       "      <th>33</th>\n",
       "      <td>2025-09-13</td>\n",
       "      <td>5183</td>\n",
       "      <td>1550</td>\n",
       "      <td>0.299055</td>\n",
       "    </tr>\n",
       "    <tr>\n",
       "      <th>34</th>\n",
       "      <td>2025-09-14</td>\n",
       "      <td>4364</td>\n",
       "      <td>1343</td>\n",
       "      <td>0.307745</td>\n",
       "    </tr>\n",
       "    <tr>\n",
       "      <th>35</th>\n",
       "      <td>2025-09-15</td>\n",
       "      <td>3698</td>\n",
       "      <td>1131</td>\n",
       "      <td>0.305841</td>\n",
       "    </tr>\n",
       "    <tr>\n",
       "      <th>36</th>\n",
       "      <td>2025-09-16</td>\n",
       "      <td>3032</td>\n",
       "      <td>946</td>\n",
       "      <td>0.312005</td>\n",
       "    </tr>\n",
       "    <tr>\n",
       "      <th>37</th>\n",
       "      <td>2025-09-17</td>\n",
       "      <td>2548</td>\n",
       "      <td>816</td>\n",
       "      <td>0.320251</td>\n",
       "    </tr>\n",
       "    <tr>\n",
       "      <th>38</th>\n",
       "      <td>2025-09-18</td>\n",
       "      <td>1952</td>\n",
       "      <td>571</td>\n",
       "      <td>0.292520</td>\n",
       "    </tr>\n",
       "    <tr>\n",
       "      <th>39</th>\n",
       "      <td>2025-09-19</td>\n",
       "      <td>1418</td>\n",
       "      <td>451</td>\n",
       "      <td>0.318054</td>\n",
       "    </tr>\n",
       "    <tr>\n",
       "      <th>40</th>\n",
       "      <td>2025-09-20</td>\n",
       "      <td>1100</td>\n",
       "      <td>332</td>\n",
       "      <td>0.301818</td>\n",
       "    </tr>\n",
       "    <tr>\n",
       "      <th>41</th>\n",
       "      <td>2025-09-21</td>\n",
       "      <td>776</td>\n",
       "      <td>224</td>\n",
       "      <td>0.288660</td>\n",
       "    </tr>\n",
       "    <tr>\n",
       "      <th>42</th>\n",
       "      <td>2025-09-22</td>\n",
       "      <td>546</td>\n",
       "      <td>169</td>\n",
       "      <td>0.309524</td>\n",
       "    </tr>\n",
       "    <tr>\n",
       "      <th>43</th>\n",
       "      <td>2025-09-23</td>\n",
       "      <td>317</td>\n",
       "      <td>92</td>\n",
       "      <td>0.290221</td>\n",
       "    </tr>\n",
       "  </tbody>\n",
       "</table>\n",
       "</div>"
      ],
      "text/plain": [
       "   session_date  session_count  good_session_count  good_sessions_share\n",
       "0    2025-08-11           3919                1226             0.312835\n",
       "1    2025-08-12           6056                1829             0.302015\n",
       "2    2025-08-13           8489                2604             0.306750\n",
       "3    2025-08-14          10321                3262             0.316055\n",
       "4    2025-08-15          14065                4289             0.304941\n",
       "5    2025-08-16          12205                3737             0.306186\n",
       "6    2025-08-17          11200                3557             0.317589\n",
       "7    2025-08-18          10839                3366             0.310545\n",
       "8    2025-08-19          12118                3791             0.312840\n",
       "9    2025-08-20          13514                4148             0.306941\n",
       "10   2025-08-21          15051                4563             0.303169\n",
       "11   2025-08-22          17563                5500             0.313158\n",
       "12   2025-08-23          16082                4858             0.302077\n",
       "13   2025-08-24          13683                4239             0.309800\n",
       "14   2025-08-25          13635                4165             0.305464\n",
       "15   2025-08-26          13289                4132             0.310934\n",
       "16   2025-08-27          14766                4594             0.311120\n",
       "17   2025-08-28          15388                4779             0.310567\n",
       "18   2025-08-29          16873                5283             0.313104\n",
       "19   2025-08-30          14891                4673             0.313814\n",
       "20   2025-08-31          13266                4013             0.302503\n",
       "21   2025-09-01          12685                3964             0.312495\n",
       "22   2025-09-02          12672                3998             0.315499\n",
       "23   2025-09-03          12777                3886             0.304140\n",
       "24   2025-09-04          13683                4317             0.315501\n",
       "25   2025-09-05          15324                4656             0.303837\n",
       "26   2025-09-06          13078                3983             0.304557\n",
       "27   2025-09-07          12367                3860             0.312121\n",
       "28   2025-09-08          11826                3652             0.308811\n",
       "29   2025-09-09          11780                3599             0.305518\n",
       "30   2025-09-10          12526                3822             0.305125\n",
       "31   2025-09-11           8623                2627             0.304650\n",
       "32   2025-09-12           6436                1941             0.301585\n",
       "33   2025-09-13           5183                1550             0.299055\n",
       "34   2025-09-14           4364                1343             0.307745\n",
       "35   2025-09-15           3698                1131             0.305841\n",
       "36   2025-09-16           3032                 946             0.312005\n",
       "37   2025-09-17           2548                 816             0.320251\n",
       "38   2025-09-18           1952                 571             0.292520\n",
       "39   2025-09-19           1418                 451             0.318054\n",
       "40   2025-09-20           1100                 332             0.301818\n",
       "41   2025-09-21            776                 224             0.288660\n",
       "42   2025-09-22            546                 169             0.309524\n",
       "43   2025-09-23            317                  92             0.290221"
      ]
     },
     "metadata": {},
     "output_type": "display_data"
    }
   ],
   "source": [
    "# Добавим столбец со средним значением доли успешных сессий\n",
    "success_sessions = sessions_history.groupby('session_date').agg({'session_id':'count', 'good_session':'sum'})\n",
    "success_sessions = success_sessions.reset_index()\n",
    "success_sessions.columns = ['session_date', 'session_count', 'good_session_count']\n",
    "success_sessions['good_sessions_share'] = success_sessions['good_session_count'] / success_sessions['session_count'] \n",
    "\n",
    "# проверка\n",
    "display(success_sessions)"
   ]
  },
  {
   "cell_type": "code",
   "execution_count": 13,
   "metadata": {
    "scrolled": true
   },
   "outputs": [
    {
     "data": {
      "text/plain": [
       "<AxesSubplot:title={'center':'Доля успешных сессий по дням'}, xlabel='Дата', ylabel='Доля'>"
      ]
     },
     "execution_count": 13,
     "metadata": {},
     "output_type": "execute_result"
    },
    {
     "data": {
      "image/png": "[encoded data removed]",
      "text/plain": [
       "<Figure size 432x288 with 1 Axes>"
      ]
     },
     "metadata": {
      "needs_background": "light"
     },
     "output_type": "display_data"
    }
   ],
   "source": [
    "# Визуализируем\n",
    "success_sessions.plot(kind='line', \n",
    "                      x='session_date',\n",
    "                      y='good_sessions_share',                       \n",
    "                      xlabel='Дата',\n",
    "                      ylabel='Доля',\n",
    "                      title='Доля успешных сессий по дням')"
   ]
  },
  {
   "cell_type": "markdown",
   "metadata": {
    "id": "21JcG77Y0eMt"
   },
   "source": [
    "### 2. Подготовка к тесту\n",
    "При планировании теста необходимо проделать несколько важных шагов:\n",
    "\n",
    "- Определиться с целевой метрикой.\n",
    "\n",
    "- Рассчитать необходимый размер выборки.\n",
    "\n",
    "- Исходя из текущих значений трафика, рассчитать необходимую длительность проведения теста."
   ]
  },
  {
   "cell_type": "markdown",
   "metadata": {
    "id": "uzaeln270eMt"
   },
   "source": [
    "#### 2.1. Расчёт размера выборки ок\n",
    "В рамках курса вам уже приходилось рассчитывать размеры выборки, используя онлайн-калькуляторы. В этом задании предлагаем воспользоваться готовым кодом и рассчитать необходимое для вашего дизайна эксперимента количество пользователей.\n",
    "\n",
    "Для этого установите в коде ниже следующие параметры:\n",
    "\n",
    "- Уровень значимости — 0.05.\n",
    "\n",
    "- Вероятность ошибки второго рода — 0.2.\n",
    "\n",
    "- Мощность теста.\n",
    "\n",
    "- Минимальный детектируемый эффект, или MDE, — 3%. Обратите внимание, что здесь нужно указать десятичную дробь, а не процент.\n",
    "\n",
    "При расчёте размера выборки мы будем использовать метод `solve_power()` из класса `power.NormalIndPower` модуля `statsmodels.stats`.\n",
    "\n",
    "Запустите ячейку и изучите полученное значение."
   ]
  },
  {
   "cell_type": "code",
   "execution_count": 14,
   "metadata": {
    "id": "zSxJyPGPNdaI"
   },
   "outputs": [
    {
     "name": "stdout",
     "output_type": "stream",
     "text": [
      "Необходимый размер выборки для каждой группы: 17441\n"
     ]
    }
   ],
   "source": [
    "# Задаём параметры\n",
    "alpha = 0.05   # Уровень значимости\n",
    "beta = 0.2   # Ошибка второго рода, часто 1 - мощность\n",
    "power = 0.8  # Мощность теста\n",
    "mde = 0.03   # Минимальный детектируемый эффект\n",
    "\n",
    "# Инициализируем класс NormalIndPower\n",
    "power_analysis = NormalIndPower()\n",
    "\n",
    "# Рассчитываем размер выборки\n",
    "sample_size = power_analysis.solve_power(\n",
    "    effect_size = mde,\n",
    "    power = power,\n",
    "    alpha = alpha,\n",
    "    ratio = 1 # Равномерное распределение выборок\n",
    ")\n",
    "\n",
    "print(f\"Необходимый размер выборки для каждой группы: {int(sample_size)}\")"
   ]
  },
  {
   "cell_type": "markdown",
   "metadata": {
    "id": "qLEv4RoV0eMu"
   },
   "source": [
    "#### 2.1. Расчёт длительности A/B-теста ок\n",
    "\n",
    "Используйте данные о количестве пользователей в каждой выборке и среднем количестве пользователей приложения. Рассчитайте длительность теста, разделив одно на другое.\n",
    "\n",
    "- Рассчитайте среднее количество уникальных пользователей приложения в день.\n",
    "\n",
    "- Определите длительность теста, исходя из рассчитанного значения размера выборок и среднего дневного трафика приложения. Количество дней округлите в большую сторону."
   ]
  },
  {
   "cell_type": "code",
   "execution_count": 15,
   "metadata": {
    "id": "KZDRbryDOGHa"
   },
   "outputs": [
    {
     "name": "stdout",
     "output_type": "stream",
     "text": [
      "Рассчитанная длительность A/B-теста при текущем уровене трафика в 9908 пользователей в день составит 4 дней\n"
     ]
    }
   ],
   "source": [
    "# Среднее количество пользователей приложения в день по историческим данным\n",
    "avg_daily_users = ceil(sessions_history.groupby('session_date')['user_id'].nunique().mean())\n",
    "\n",
    "# Рассчитываем длительность теста в днях как отношение размера выборки к среднему числу пользователей\n",
    "test_duration = ceil(sample_size*2  / avg_daily_users)\n",
    "\n",
    "print(f\"Рассчитанная длительность A/B-теста при текущем уровене трафика в {avg_daily_users} пользователей в день составит {test_duration} дней\")"
   ]
  },
  {
   "cell_type": "markdown",
   "metadata": {
    "id": "ZuvtAdha0eMv"
   },
   "source": [
    "### 3. Мониторинг А/В-теста"
   ]
  },
  {
   "cell_type": "markdown",
   "metadata": {
    "id": "jq5sE3Ya0eMv"
   },
   "source": [
    "#### 3.1. Проверка распределения пользователей **ок**\n",
    "\n",
    "A/B-тест успешно запущен, и уже доступны данные за первые три дня. На этом этапе нужно убедиться, что всё идёт хорошо: пользователи разделены правильным образом, а интересующие вас метрики корректно считаются.\n",
    "\n",
    "- Считайте и сохраните в датафрейм `sessions_test_part` CSV-файл с историческими данными о сессиях пользователей `sessions_project_test_part.csv`.\n",
    "\n",
    "- Рассчитайте количество уникальных пользователей в каждой из экспериментальных групп для одного дня наблюдения. \n",
    "\n",
    "- Рассчитайте и выведите на экран процентную разницу в количестве пользователей в группах A и B. Постройте любую удобную визуализацию, на которой можно было бы увидеть возможное различие двух групп. \n",
    "\n",
    "Для расчёта процентной разницы воспользуйтесь формулой:\n",
    "$$P = 100 \\cdot  \\frac{|A − B|}{A}$$"
   ]
  },
  {
   "cell_type": "code",
   "execution_count": 16,
   "metadata": {
    "id": "G1bqIzDJOUiz",
    "scrolled": true
   },
   "outputs": [
    {
     "data": {
      "text/html": [
       "<div>\n",
       "<style scoped>\n",
       "    .dataframe tbody tr th:only-of-type {\n",
       "        vertical-align: middle;\n",
       "    }\n",
       "\n",
       "    .dataframe tbody tr th {\n",
       "        vertical-align: top;\n",
       "    }\n",
       "\n",
       "    .dataframe thead th {\n",
       "        text-align: right;\n",
       "    }\n",
       "</style>\n",
       "<table border=\"1\" class=\"dataframe\">\n",
       "  <thead>\n",
       "    <tr style=\"text-align: right;\">\n",
       "      <th></th>\n",
       "      <th>user_id</th>\n",
       "      <th>session_id</th>\n",
       "      <th>session_date</th>\n",
       "      <th>session_start_ts</th>\n",
       "      <th>install_date</th>\n",
       "      <th>session_number</th>\n",
       "      <th>registration_flag</th>\n",
       "      <th>page_counter</th>\n",
       "      <th>region</th>\n",
       "      <th>device</th>\n",
       "      <th>test_group</th>\n",
       "    </tr>\n",
       "  </thead>\n",
       "  <tbody>\n",
       "    <tr>\n",
       "      <th>0</th>\n",
       "      <td>3404844B53442747</td>\n",
       "      <td>B4901323BD537E45</td>\n",
       "      <td>2025-10-14</td>\n",
       "      <td>2025-10-14 19:28:49</td>\n",
       "      <td>2025-10-14</td>\n",
       "      <td>1</td>\n",
       "      <td>0</td>\n",
       "      <td>3</td>\n",
       "      <td>CIS</td>\n",
       "      <td>Android</td>\n",
       "      <td>B</td>\n",
       "    </tr>\n",
       "    <tr>\n",
       "      <th>1</th>\n",
       "      <td>3A2BF4D364E62D89</td>\n",
       "      <td>216FC619308F8788</td>\n",
       "      <td>2025-10-14</td>\n",
       "      <td>2025-10-14 21:11:04</td>\n",
       "      <td>2025-10-14</td>\n",
       "      <td>1</td>\n",
       "      <td>0</td>\n",
       "      <td>3</td>\n",
       "      <td>MENA</td>\n",
       "      <td>iPhone</td>\n",
       "      <td>A</td>\n",
       "    </tr>\n",
       "    <tr>\n",
       "      <th>2</th>\n",
       "      <td>79CDAE11E32B1597</td>\n",
       "      <td>EDFCE4AC1A504074</td>\n",
       "      <td>2025-10-14</td>\n",
       "      <td>2025-10-14 21:44:03</td>\n",
       "      <td>2025-10-14</td>\n",
       "      <td>1</td>\n",
       "      <td>0</td>\n",
       "      <td>3</td>\n",
       "      <td>CIS</td>\n",
       "      <td>iPhone</td>\n",
       "      <td>A</td>\n",
       "    </tr>\n",
       "    <tr>\n",
       "      <th>3</th>\n",
       "      <td>D6AF8D78297A931F</td>\n",
       "      <td>CF0AC0EEDE92C690</td>\n",
       "      <td>2025-10-14</td>\n",
       "      <td>2025-10-14 19:07:55</td>\n",
       "      <td>2025-10-14</td>\n",
       "      <td>1</td>\n",
       "      <td>0</td>\n",
       "      <td>4</td>\n",
       "      <td>CIS</td>\n",
       "      <td>PC</td>\n",
       "      <td>A</td>\n",
       "    </tr>\n",
       "    <tr>\n",
       "      <th>4</th>\n",
       "      <td>37E0CE723AE568E0</td>\n",
       "      <td>2E6ED45E8C86C4E9</td>\n",
       "      <td>2025-10-14</td>\n",
       "      <td>2025-10-14 15:39:44</td>\n",
       "      <td>2025-10-14</td>\n",
       "      <td>1</td>\n",
       "      <td>0</td>\n",
       "      <td>3</td>\n",
       "      <td>CIS</td>\n",
       "      <td>Mac</td>\n",
       "      <td>B</td>\n",
       "    </tr>\n",
       "  </tbody>\n",
       "</table>\n",
       "</div>"
      ],
      "text/plain": [
       "            user_id        session_id session_date     session_start_ts  \\\n",
       "0  3404844B53442747  B4901323BD537E45   2025-10-14  2025-10-14 19:28:49   \n",
       "1  3A2BF4D364E62D89  216FC619308F8788   2025-10-14  2025-10-14 21:11:04   \n",
       "2  79CDAE11E32B1597  EDFCE4AC1A504074   2025-10-14  2025-10-14 21:44:03   \n",
       "3  D6AF8D78297A931F  CF0AC0EEDE92C690   2025-10-14  2025-10-14 19:07:55   \n",
       "4  37E0CE723AE568E0  2E6ED45E8C86C4E9   2025-10-14  2025-10-14 15:39:44   \n",
       "\n",
       "  install_date  session_number  registration_flag  page_counter region  \\\n",
       "0   2025-10-14               1                  0             3    CIS   \n",
       "1   2025-10-14               1                  0             3   MENA   \n",
       "2   2025-10-14               1                  0             3    CIS   \n",
       "3   2025-10-14               1                  0             4    CIS   \n",
       "4   2025-10-14               1                  0             3    CIS   \n",
       "\n",
       "    device test_group  \n",
       "0  Android          B  \n",
       "1   iPhone          A  \n",
       "2   iPhone          A  \n",
       "3       PC          A  \n",
       "4      Mac          B  "
      ]
     },
     "execution_count": 16,
     "metadata": {},
     "output_type": "execute_result"
    }
   ],
   "source": [
    "sessions_test_part = pd.read_csv('/datasets/sessions_project_test_part.csv')\n",
    "sessions_test_part.head()"
   ]
  },
  {
   "cell_type": "code",
   "execution_count": 17,
   "metadata": {},
   "outputs": [
    {
     "data": {
      "text/plain": [
       "test_group\n",
       "A    1477\n",
       "B    1466\n",
       "Name: user_id, dtype: int64"
      ]
     },
     "execution_count": 17,
     "metadata": {},
     "output_type": "execute_result"
    }
   ],
   "source": [
    "# количество уникальных пользователей в каждой из экспериментальных групп \n",
    "sessions_test_part.groupby('test_group')['user_id'].nunique()"
   ]
  },
  {
   "cell_type": "code",
   "execution_count": 18,
   "metadata": {},
   "outputs": [
    {
     "name": "stdout",
     "output_type": "stream",
     "text": [
      "0.74\n"
     ]
    }
   ],
   "source": [
    "# процентная разница в группах А и В\n",
    "A = 1477\n",
    "B = 1466\n",
    "\n",
    "groups_diff = round((abs(A-B) / A ) * 100 ,2 )\n",
    "print(groups_diff)"
   ]
  },
  {
   "cell_type": "code",
   "execution_count": 19,
   "metadata": {},
   "outputs": [
    {
     "data": {
      "text/plain": [
       "<AxesSubplot:title={'center':'Количество пользователей в группах'}, ylabel='user_id'>"
      ]
     },
     "execution_count": 19,
     "metadata": {},
     "output_type": "execute_result"
    },
    {
     "data": {
      "image/png": "[encoded data removed]",
      "text/plain": [
       "<Figure size 432x288 with 1 Axes>"
      ]
     },
     "metadata": {},
     "output_type": "display_data"
    }
   ],
   "source": [
    "# Визуализируем\n",
    "sessions_test_part.groupby('test_group')['user_id'].nunique().plot(kind='pie',\n",
    "                                                                  title='Количество пользователей в группах'\n",
    "                                                                  )"
   ]
  },
  {
   "cell_type": "markdown",
   "metadata": {},
   "source": [
    "Разница незначительная - менее 1%, значит пользователи разделены корректно "
   ]
  },
  {
   "cell_type": "markdown",
   "metadata": {
    "id": "sgpNY5bv0eM0"
   },
   "source": [
    "#### 3.2. Проверка пересечений пользователей \n",
    "Помимо проверки равенства количества пользователей в группах полезно убедиться в том, что группы независимы. Для этого нужно убедиться, что никто из пользователей случайно не попал в обе группы одновременно.\n",
    "\n",
    "- Рассчитайте количество пользователей, которые встречаются одновременно в группах A и B, или убедитесь, что таких нет."
   ]
  },
  {
   "cell_type": "code",
   "execution_count": 20,
   "metadata": {
    "id": "E72ozN9FOX1u"
   },
   "outputs": [
    {
     "name": "stdout",
     "output_type": "stream",
     "text": [
      "[]\n"
     ]
    }
   ],
   "source": [
    "# выведем уникальные айди для групп\n",
    "gr_a = sessions_test_part[sessions_test_part['test_group']=='A'].groupby('test_group')['user_id'].unique()\n",
    "gr_b = sessions_test_part[sessions_test_part['test_group']=='B'].groupby('test_group')['user_id'].unique()\n",
    "\n",
    "# ищем совпадения одинаковых айди\n",
    "common = list(set(gr_a.iloc[0]) & set(gr_b.iloc[0]))\n",
    "print(common)"
   ]
  },
  {
   "cell_type": "markdown",
   "metadata": {},
   "source": [
    "Совпадений в столбце user_id нет, а значит группы независимы"
   ]
  },
  {
   "cell_type": "markdown",
   "metadata": {
    "id": "6RvkNLrg0eM1"
   },
   "source": [
    "#### 3.3. Равномерность разделения пользователей по устройствам\n",
    "Полезно также убедиться в том, что пользователи равномерно распределены по всем доступным категориальным переменным — типам устройства и регионам.\n",
    "\n",
    "Постройте две диаграммы:\n",
    "\n",
    "- доля каждого типа устройства для пользователей из группы A,\n",
    "\n",
    "- доля каждого типа устройства для пользователей из группы B.\n",
    "\n",
    "Постарайтесь добавить на диаграммы все необходимые подписи, пояснения и заголовки, которые позволят сделать вывод о том, совпадает ли распределение устройств в группах A и B.\n"
   ]
  },
  {
   "cell_type": "code",
   "execution_count": 21,
   "metadata": {
    "id": "x_IP6PUNPWHC",
    "scrolled": true
   },
   "outputs": [
    {
     "name": "stdout",
     "output_type": "stream",
     "text": [
      "device\n",
      "Android    0.44\n",
      "Mac        0.11\n",
      "PC         0.25\n",
      "iPhone     0.20\n",
      "Name: user_id, dtype: float64\n"
     ]
    }
   ],
   "source": [
    "devices_a = sessions_test_part[sessions_test_part['test_group']=='A'].groupby('device')['user_id'].nunique()\n",
    "sum_devices_a = devices_a.sum()\n",
    "a_devices_share = round(devices_a / sum_devices_a,2)\n",
    "print(a_devices_share)"
   ]
  },
  {
   "cell_type": "code",
   "execution_count": 22,
   "metadata": {},
   "outputs": [
    {
     "data": {
      "text/plain": [
       "<AxesSubplot:title={'center':'Доля устройств для группы А'}, ylabel='user_id'>"
      ]
     },
     "execution_count": 22,
     "metadata": {},
     "output_type": "execute_result"
    },
    {
     "data": {
      "image/png": "[encoded data removed]",
      "text/plain": [
       "<Figure size 576x432 with 1 Axes>"
      ]
     },
     "metadata": {},
     "output_type": "display_data"
    }
   ],
   "source": [
    "# Визаулизируем\n",
    "a_devices_share.plot(kind='pie', \n",
    "                     figsize=(8, 6),\n",
    "                     title='Доля устройств для группы А')"
   ]
  },
  {
   "cell_type": "code",
   "execution_count": 23,
   "metadata": {
    "scrolled": true
   },
   "outputs": [
    {
     "name": "stdout",
     "output_type": "stream",
     "text": [
      "device\n",
      "Android    0.46\n",
      "Mac        0.10\n",
      "PC         0.26\n",
      "iPhone     0.18\n",
      "Name: user_id, dtype: float64\n"
     ]
    }
   ],
   "source": [
    "devices_b = sessions_test_part[sessions_test_part['test_group']=='B'].groupby('device')['user_id'].nunique()\n",
    "sum_devices_b = devices_b.sum()\n",
    "b_devices_share = round(devices_b / sum_devices_b,2)\n",
    "print(b_devices_share)"
   ]
  },
  {
   "cell_type": "code",
   "execution_count": 24,
   "metadata": {
    "scrolled": true
   },
   "outputs": [
    {
     "data": {
      "text/plain": [
       "<AxesSubplot:title={'center':'Доля устройств для группы В'}, ylabel='user_id'>"
      ]
     },
     "execution_count": 24,
     "metadata": {},
     "output_type": "execute_result"
    },
    {
     "data": {
      "image/png": "[encoded data removed]",
      "text/plain": [
       "<Figure size 576x432 with 1 Axes>"
      ]
     },
     "metadata": {},
     "output_type": "display_data"
    }
   ],
   "source": [
    "# Визаулизируем\n",
    "b_devices_share.plot(kind='pie', \n",
    "                     figsize=(8, 6),\n",
    "                     title='Доля устройств для группы В')"
   ]
  },
  {
   "cell_type": "markdown",
   "metadata": {},
   "source": [
    "Видим, что доли типов устройств в двух группах примерно одинаковые (наибольшее кол-во устройств - андроид, далее ПК, айфоны и мак), значит пользователи распределены равномерно"
   ]
  },
  {
   "cell_type": "markdown",
   "metadata": {},
   "source": [
    "**ВОПРОС:** как сделать 1 график, на котором будут 2 диаграммки? слева и справа"
   ]
  },
  {
   "cell_type": "markdown",
   "metadata": {
    "id": "gAgmP6vo0eM1"
   },
   "source": [
    "#### 3.4. Равномерность распределения пользователей по регионам\n",
    "Теперь убедитесь, что пользователи равномерно распределены по регионам.\n",
    "\n",
    "Постройте две диаграммы:\n",
    "\n",
    "- доля каждого региона для пользователей из группы A,\n",
    "\n",
    "- доля каждого региона для пользователей из группы B.\n",
    "\n",
    "Постарайтесь добавить на диаграммы все необходимые подписи, пояснения и заголовки, которые позволят сделать вывод о том, совпадает ли распределение регионов в группах A и B. Постарайтесь использовать другой тип диаграммы, не тот, что в прошлом задании.\n"
   ]
  },
  {
   "cell_type": "code",
   "execution_count": 25,
   "metadata": {
    "id": "3hAq-FG4OdYM"
   },
   "outputs": [
    {
     "name": "stdout",
     "output_type": "stream",
     "text": [
      "region\n",
      "CIS     0.44\n",
      "EU      0.15\n",
      "MENA    0.41\n",
      "Name: user_id, dtype: float64\n"
     ]
    }
   ],
   "source": [
    "region_a = sessions_test_part[sessions_test_part['test_group']=='A'].groupby('region')['user_id'].nunique()\n",
    "sum_region_a = region_a.sum()\n",
    "a_region_share = round(region_a / sum_region_a,2)\n",
    "print(a_region_share)"
   ]
  },
  {
   "cell_type": "code",
   "execution_count": 26,
   "metadata": {},
   "outputs": [
    {
     "data": {
      "text/plain": [
       "<AxesSubplot:title={'center':'Доля каждого региона для группы А'}, xlabel='region', ylabel='Доля'>"
      ]
     },
     "execution_count": 26,
     "metadata": {},
     "output_type": "execute_result"
    },
    {
     "data": {
      "image/png": "[encoded data removed]",
      "text/plain": [
       "<Figure size 432x288 with 1 Axes>"
      ]
     },
     "metadata": {
      "needs_background": "light"
     },
     "output_type": "display_data"
    }
   ],
   "source": [
    "# Визуализируем\n",
    "a_region_share.plot(kind='bar',\n",
    "                   rot=0,\n",
    "                   title=\"Доля каждого региона для группы А\",\n",
    "                   ylabel=\"Доля\")"
   ]
  },
  {
   "cell_type": "code",
   "execution_count": 27,
   "metadata": {},
   "outputs": [
    {
     "name": "stdout",
     "output_type": "stream",
     "text": [
      "region\n",
      "CIS     0.44\n",
      "EU      0.15\n",
      "MENA    0.41\n",
      "Name: user_id, dtype: float64\n"
     ]
    }
   ],
   "source": [
    "region_b = sessions_test_part[sessions_test_part['test_group']=='B'].groupby('region')['user_id'].nunique()\n",
    "sum_region_b = region_b.sum()\n",
    "b_region_share = round(region_b / sum_region_b,2)\n",
    "print(b_region_share)"
   ]
  },
  {
   "cell_type": "code",
   "execution_count": 28,
   "metadata": {},
   "outputs": [
    {
     "data": {
      "text/plain": [
       "<AxesSubplot:title={'center':'Доля каждого региона для группы В'}, xlabel='region', ylabel='Доля'>"
      ]
     },
     "execution_count": 28,
     "metadata": {},
     "output_type": "execute_result"
    },
    {
     "data": {
      "image/png": "[encoded data removed]",
      "text/plain": [
       "<Figure size 432x288 with 1 Axes>"
      ]
     },
     "metadata": {
      "needs_background": "light"
     },
     "output_type": "display_data"
    }
   ],
   "source": [
    "# Визуализируем\n",
    "b_region_share.plot(kind='bar',\n",
    "                   rot=0,\n",
    "                   title=\"Доля каждого региона для группы В\",\n",
    "                   ylabel=\"Доля\")"
   ]
  },
  {
   "cell_type": "markdown",
   "metadata": {},
   "source": [
    "Видим, что доли регионов одинаковы, значит пользователи распределены равномерно"
   ]
  },
  {
   "cell_type": "markdown",
   "metadata": {
    "id": "X2WSZ-sDrSUi"
   },
   "source": [
    "#### 3.5. Вывод после проверки A/B-теста \n",
    "\n",
    "На основе проведённого анализа A/B-теста сформулируйте и запишите свои выводы. В выводе обязательно укажите:\n",
    "\n",
    "- Были ли обнаружено различие в количестве пользователей в двух группах.\n",
    "\n",
    "- Являются ли выборки независимыми. Было ли обнаружено пересечение пользователей из тестовой и контрольной групп.\n",
    "\n",
    "- Сохраняется ли равномерное распределение пользователей тестовой и контрольной групп по категориальным переменным: устройствам и регионам.\n",
    "\n",
    "Сделайте заключение о том, корректно ли проходит A/B-тест или наблюдаются какие-либо нарушения."
   ]
  },
  {
   "cell_type": "markdown",
   "metadata": {
    "id": "dDELHlAcOi8d"
   },
   "source": [
    "После проверки А/В-теста можно заключить, что\n",
    "+ различий в количестве пользователей в двух группах не обнаружено\n",
    "+ выборки независимы - пересечение пользователей отсутствует\n",
    "+ относительно категориальных групп пользователи распределены равномерно, явных перекосов нет\n",
    "\n",
    "Исходя из этого можно утверждать, что A/B-тест проходит корректно, все условия для правильного проведения эксперимента соблюдены"
   ]
  },
  {
   "cell_type": "markdown",
   "metadata": {
    "id": "nudRr_BQ0eM2"
   },
   "source": [
    "### 4. Проверка результатов A/B-теста\n",
    "\n",
    "A/B-тест завершён, и у вас есть результаты за все дни проведения эксперимента. Необходимо убедиться в корректности теста и верно интерпретировать результаты."
   ]
  },
  {
   "cell_type": "markdown",
   "metadata": {
    "id": "JVve-YBB0eM2"
   },
   "source": [
    "#### 4.1. Получение результатов теста и подсчёт основной метрики \n",
    "- Считайте и сохраните в датафрейм `sessions_test` CSV-файл с историческими данными о сессиях пользователей `sessions_project_test.csv`.\n",
    "\n",
    "- В датафрейме `sessions_test` создайте дополнительный столбец `good_session`. В него войдёт значение `1`, если за одну сессию было просмотрено 4 и более страниц, и значение `0`, если просмотрено меньше."
   ]
  },
  {
   "cell_type": "code",
   "execution_count": 29,
   "metadata": {
    "id": "EqRlwMtKPTir"
   },
   "outputs": [],
   "source": [
    "sessions_test = pd.read_csv('/datasets/sessions_project_test.csv')"
   ]
  },
  {
   "cell_type": "code",
   "execution_count": 30,
   "metadata": {},
   "outputs": [
    {
     "data": {
      "text/html": [
       "<div>\n",
       "<style scoped>\n",
       "    .dataframe tbody tr th:only-of-type {\n",
       "        vertical-align: middle;\n",
       "    }\n",
       "\n",
       "    .dataframe tbody tr th {\n",
       "        vertical-align: top;\n",
       "    }\n",
       "\n",
       "    .dataframe thead th {\n",
       "        text-align: right;\n",
       "    }\n",
       "</style>\n",
       "<table border=\"1\" class=\"dataframe\">\n",
       "  <thead>\n",
       "    <tr style=\"text-align: right;\">\n",
       "      <th></th>\n",
       "      <th>user_id</th>\n",
       "      <th>session_id</th>\n",
       "      <th>session_date</th>\n",
       "      <th>session_start_ts</th>\n",
       "      <th>install_date</th>\n",
       "      <th>session_number</th>\n",
       "      <th>registration_flag</th>\n",
       "      <th>page_counter</th>\n",
       "      <th>region</th>\n",
       "      <th>device</th>\n",
       "      <th>test_group</th>\n",
       "      <th>good_session</th>\n",
       "    </tr>\n",
       "  </thead>\n",
       "  <tbody>\n",
       "    <tr>\n",
       "      <th>0</th>\n",
       "      <td>6DAE3B3654DA738E</td>\n",
       "      <td>C69249E26E58F6E2</td>\n",
       "      <td>2025-10-26</td>\n",
       "      <td>2025-10-26 18:15:05</td>\n",
       "      <td>2025-10-16</td>\n",
       "      <td>3</td>\n",
       "      <td>0</td>\n",
       "      <td>3</td>\n",
       "      <td>MENA</td>\n",
       "      <td>Android</td>\n",
       "      <td>A</td>\n",
       "      <td>0</td>\n",
       "    </tr>\n",
       "    <tr>\n",
       "      <th>1</th>\n",
       "      <td>0A3FE5D1DD59110A</td>\n",
       "      <td>66D66D7C9F5181B7</td>\n",
       "      <td>2025-10-21</td>\n",
       "      <td>2025-10-21 17:04:53</td>\n",
       "      <td>2025-10-15</td>\n",
       "      <td>2</td>\n",
       "      <td>1</td>\n",
       "      <td>2</td>\n",
       "      <td>CIS</td>\n",
       "      <td>Android</td>\n",
       "      <td>B</td>\n",
       "      <td>0</td>\n",
       "    </tr>\n",
       "    <tr>\n",
       "      <th>2</th>\n",
       "      <td>2041F1D7AA740B88</td>\n",
       "      <td>50DE51D42215E74C</td>\n",
       "      <td>2025-10-23</td>\n",
       "      <td>2025-10-23 17:39:29</td>\n",
       "      <td>2025-10-19</td>\n",
       "      <td>3</td>\n",
       "      <td>0</td>\n",
       "      <td>2</td>\n",
       "      <td>MENA</td>\n",
       "      <td>Android</td>\n",
       "      <td>A</td>\n",
       "      <td>0</td>\n",
       "    </tr>\n",
       "    <tr>\n",
       "      <th>3</th>\n",
       "      <td>43D7585009168086</td>\n",
       "      <td>5763C0C353C22263</td>\n",
       "      <td>2025-10-24</td>\n",
       "      <td>2025-10-24 15:01:57</td>\n",
       "      <td>2025-10-18</td>\n",
       "      <td>4</td>\n",
       "      <td>0</td>\n",
       "      <td>1</td>\n",
       "      <td>CIS</td>\n",
       "      <td>iPhone</td>\n",
       "      <td>B</td>\n",
       "      <td>0</td>\n",
       "    </tr>\n",
       "    <tr>\n",
       "      <th>4</th>\n",
       "      <td>15AD68B14D62D88C</td>\n",
       "      <td>B1AD09F93C1053BC</td>\n",
       "      <td>2025-10-17</td>\n",
       "      <td>2025-10-17 17:34:39</td>\n",
       "      <td>2025-10-17</td>\n",
       "      <td>1</td>\n",
       "      <td>0</td>\n",
       "      <td>2</td>\n",
       "      <td>MENA</td>\n",
       "      <td>Android</td>\n",
       "      <td>B</td>\n",
       "      <td>0</td>\n",
       "    </tr>\n",
       "    <tr>\n",
       "      <th>...</th>\n",
       "      <td>...</td>\n",
       "      <td>...</td>\n",
       "      <td>...</td>\n",
       "      <td>...</td>\n",
       "      <td>...</td>\n",
       "      <td>...</td>\n",
       "      <td>...</td>\n",
       "      <td>...</td>\n",
       "      <td>...</td>\n",
       "      <td>...</td>\n",
       "      <td>...</td>\n",
       "      <td>...</td>\n",
       "    </tr>\n",
       "    <tr>\n",
       "      <th>100000</th>\n",
       "      <td>CF77C27B238C1BE3</td>\n",
       "      <td>0F7BC9B33685377C</td>\n",
       "      <td>2025-10-22</td>\n",
       "      <td>2025-10-22 19:01:50</td>\n",
       "      <td>2025-10-20</td>\n",
       "      <td>3</td>\n",
       "      <td>0</td>\n",
       "      <td>3</td>\n",
       "      <td>MENA</td>\n",
       "      <td>Android</td>\n",
       "      <td>A</td>\n",
       "      <td>0</td>\n",
       "    </tr>\n",
       "    <tr>\n",
       "      <th>100001</th>\n",
       "      <td>D7ED66C581409AC2</td>\n",
       "      <td>26C4475005E70F47</td>\n",
       "      <td>2025-10-17</td>\n",
       "      <td>2025-10-17 22:12:38</td>\n",
       "      <td>2025-10-17</td>\n",
       "      <td>1</td>\n",
       "      <td>0</td>\n",
       "      <td>5</td>\n",
       "      <td>CIS</td>\n",
       "      <td>PC</td>\n",
       "      <td>A</td>\n",
       "      <td>1</td>\n",
       "    </tr>\n",
       "    <tr>\n",
       "      <th>100002</th>\n",
       "      <td>E7EA2D51238020C6</td>\n",
       "      <td>9B9CDE6A612CBD73</td>\n",
       "      <td>2025-10-24</td>\n",
       "      <td>2025-10-24 14:54:07</td>\n",
       "      <td>2025-10-14</td>\n",
       "      <td>2</td>\n",
       "      <td>0</td>\n",
       "      <td>3</td>\n",
       "      <td>MENA</td>\n",
       "      <td>PC</td>\n",
       "      <td>B</td>\n",
       "      <td>0</td>\n",
       "    </tr>\n",
       "    <tr>\n",
       "      <th>100003</th>\n",
       "      <td>8A6FEFD7F34C5DA1</td>\n",
       "      <td>37291EC27106EF9D</td>\n",
       "      <td>2025-10-18</td>\n",
       "      <td>2025-10-18 00:05:10</td>\n",
       "      <td>2025-10-14</td>\n",
       "      <td>3</td>\n",
       "      <td>0</td>\n",
       "      <td>4</td>\n",
       "      <td>EU</td>\n",
       "      <td>Android</td>\n",
       "      <td>B</td>\n",
       "      <td>1</td>\n",
       "    </tr>\n",
       "    <tr>\n",
       "      <th>100004</th>\n",
       "      <td>EE2CA3C8481A0DE8</td>\n",
       "      <td>A4C833633CD4412E</td>\n",
       "      <td>2025-10-23</td>\n",
       "      <td>2025-10-23 10:02:27</td>\n",
       "      <td>2025-10-19</td>\n",
       "      <td>2</td>\n",
       "      <td>0</td>\n",
       "      <td>2</td>\n",
       "      <td>MENA</td>\n",
       "      <td>Android</td>\n",
       "      <td>B</td>\n",
       "      <td>0</td>\n",
       "    </tr>\n",
       "  </tbody>\n",
       "</table>\n",
       "<p>100005 rows × 12 columns</p>\n",
       "</div>"
      ],
      "text/plain": [
       "                 user_id        session_id session_date     session_start_ts  \\\n",
       "0       6DAE3B3654DA738E  C69249E26E58F6E2   2025-10-26  2025-10-26 18:15:05   \n",
       "1       0A3FE5D1DD59110A  66D66D7C9F5181B7   2025-10-21  2025-10-21 17:04:53   \n",
       "2       2041F1D7AA740B88  50DE51D42215E74C   2025-10-23  2025-10-23 17:39:29   \n",
       "3       43D7585009168086  5763C0C353C22263   2025-10-24  2025-10-24 15:01:57   \n",
       "4       15AD68B14D62D88C  B1AD09F93C1053BC   2025-10-17  2025-10-17 17:34:39   \n",
       "...                  ...               ...          ...                  ...   \n",
       "100000  CF77C27B238C1BE3  0F7BC9B33685377C   2025-10-22  2025-10-22 19:01:50   \n",
       "100001  D7ED66C581409AC2  26C4475005E70F47   2025-10-17  2025-10-17 22:12:38   \n",
       "100002  E7EA2D51238020C6  9B9CDE6A612CBD73   2025-10-24  2025-10-24 14:54:07   \n",
       "100003  8A6FEFD7F34C5DA1  37291EC27106EF9D   2025-10-18  2025-10-18 00:05:10   \n",
       "100004  EE2CA3C8481A0DE8  A4C833633CD4412E   2025-10-23  2025-10-23 10:02:27   \n",
       "\n",
       "       install_date  session_number  registration_flag  page_counter region  \\\n",
       "0        2025-10-16               3                  0             3   MENA   \n",
       "1        2025-10-15               2                  1             2    CIS   \n",
       "2        2025-10-19               3                  0             2   MENA   \n",
       "3        2025-10-18               4                  0             1    CIS   \n",
       "4        2025-10-17               1                  0             2   MENA   \n",
       "...             ...             ...                ...           ...    ...   \n",
       "100000   2025-10-20               3                  0             3   MENA   \n",
       "100001   2025-10-17               1                  0             5    CIS   \n",
       "100002   2025-10-14               2                  0             3   MENA   \n",
       "100003   2025-10-14               3                  0             4     EU   \n",
       "100004   2025-10-19               2                  0             2   MENA   \n",
       "\n",
       "         device test_group  good_session  \n",
       "0       Android          A             0  \n",
       "1       Android          B             0  \n",
       "2       Android          A             0  \n",
       "3        iPhone          B             0  \n",
       "4       Android          B             0  \n",
       "...         ...        ...           ...  \n",
       "100000  Android          A             0  \n",
       "100001       PC          A             1  \n",
       "100002       PC          B             0  \n",
       "100003  Android          B             1  \n",
       "100004  Android          B             0  \n",
       "\n",
       "[100005 rows x 12 columns]"
      ]
     },
     "metadata": {},
     "output_type": "display_data"
    }
   ],
   "source": [
    "# Cоздадим дополнительный столбец\n",
    "sessions_test['good_session'] = np.where(sessions_test['page_counter'] >= 4, 1,0) \n",
    "display(sessions_test)"
   ]
  },
  {
   "cell_type": "markdown",
   "metadata": {
    "id": "aeYhrMYy0eM2"
   },
   "source": [
    "#### 4.2. Проверка корректности результатов теста \n",
    "\n",
    "Прежде чем приступать к анализу ключевых продуктовых метрик, необходимо убедиться, что тест проведён корректно и вы будете сравнивать две сопоставимые группы.\n",
    "\n",
    "- Рассчитайте количество уникальных сессий для каждого дня и обеих тестовых групп, используя группировку. \n",
    "\n",
    "- Проверьте, что количество уникальных дневных сессий в двух выборках не различается или различия не статистически значимы. Используйте статистический тест, который позволит сделать вывод о равенстве средних двух выборок. \n",
    "\n",
    "- В качестве ответа выведите на экран полученное значение p-value и интерпретируйте его. "
   ]
  },
  {
   "cell_type": "code",
   "execution_count": 31,
   "metadata": {
    "id": "5NUlcltkTTSU",
    "scrolled": true
   },
   "outputs": [
    {
     "data": {
      "text/html": [
       "<div>\n",
       "<style scoped>\n",
       "    .dataframe tbody tr th:only-of-type {\n",
       "        vertical-align: middle;\n",
       "    }\n",
       "\n",
       "    .dataframe tbody tr th {\n",
       "        vertical-align: top;\n",
       "    }\n",
       "\n",
       "    .dataframe thead th {\n",
       "        text-align: right;\n",
       "    }\n",
       "</style>\n",
       "<table border=\"1\" class=\"dataframe\">\n",
       "  <thead>\n",
       "    <tr style=\"text-align: right;\">\n",
       "      <th></th>\n",
       "      <th>session_date</th>\n",
       "      <th>test_group</th>\n",
       "      <th>session_id</th>\n",
       "    </tr>\n",
       "  </thead>\n",
       "  <tbody>\n",
       "    <tr>\n",
       "      <th>0</th>\n",
       "      <td>2025-10-14</td>\n",
       "      <td>A</td>\n",
       "      <td>1502</td>\n",
       "    </tr>\n",
       "    <tr>\n",
       "      <th>1</th>\n",
       "      <td>2025-10-14</td>\n",
       "      <td>B</td>\n",
       "      <td>1628</td>\n",
       "    </tr>\n",
       "    <tr>\n",
       "      <th>2</th>\n",
       "      <td>2025-10-15</td>\n",
       "      <td>A</td>\n",
       "      <td>2235</td>\n",
       "    </tr>\n",
       "    <tr>\n",
       "      <th>3</th>\n",
       "      <td>2025-10-15</td>\n",
       "      <td>B</td>\n",
       "      <td>2283</td>\n",
       "    </tr>\n",
       "    <tr>\n",
       "      <th>4</th>\n",
       "      <td>2025-10-16</td>\n",
       "      <td>A</td>\n",
       "      <td>3280</td>\n",
       "    </tr>\n",
       "    <tr>\n",
       "      <th>5</th>\n",
       "      <td>2025-10-16</td>\n",
       "      <td>B</td>\n",
       "      <td>3241</td>\n",
       "    </tr>\n",
       "    <tr>\n",
       "      <th>6</th>\n",
       "      <td>2025-10-17</td>\n",
       "      <td>A</td>\n",
       "      <td>4089</td>\n",
       "    </tr>\n",
       "    <tr>\n",
       "      <th>7</th>\n",
       "      <td>2025-10-17</td>\n",
       "      <td>B</td>\n",
       "      <td>4054</td>\n",
       "    </tr>\n",
       "    <tr>\n",
       "      <th>8</th>\n",
       "      <td>2025-10-18</td>\n",
       "      <td>A</td>\n",
       "      <td>5013</td>\n",
       "    </tr>\n",
       "    <tr>\n",
       "      <th>9</th>\n",
       "      <td>2025-10-18</td>\n",
       "      <td>B</td>\n",
       "      <td>5059</td>\n",
       "    </tr>\n",
       "    <tr>\n",
       "      <th>10</th>\n",
       "      <td>2025-10-19</td>\n",
       "      <td>A</td>\n",
       "      <td>6535</td>\n",
       "    </tr>\n",
       "    <tr>\n",
       "      <th>11</th>\n",
       "      <td>2025-10-19</td>\n",
       "      <td>B</td>\n",
       "      <td>6779</td>\n",
       "    </tr>\n",
       "    <tr>\n",
       "      <th>12</th>\n",
       "      <td>2025-10-20</td>\n",
       "      <td>A</td>\n",
       "      <td>5837</td>\n",
       "    </tr>\n",
       "    <tr>\n",
       "      <th>13</th>\n",
       "      <td>2025-10-20</td>\n",
       "      <td>B</td>\n",
       "      <td>6089</td>\n",
       "    </tr>\n",
       "    <tr>\n",
       "      <th>14</th>\n",
       "      <td>2025-10-21</td>\n",
       "      <td>A</td>\n",
       "      <td>3927</td>\n",
       "    </tr>\n",
       "    <tr>\n",
       "      <th>15</th>\n",
       "      <td>2025-10-21</td>\n",
       "      <td>B</td>\n",
       "      <td>3981</td>\n",
       "    </tr>\n",
       "    <tr>\n",
       "      <th>16</th>\n",
       "      <td>2025-10-22</td>\n",
       "      <td>A</td>\n",
       "      <td>3083</td>\n",
       "    </tr>\n",
       "    <tr>\n",
       "      <th>17</th>\n",
       "      <td>2025-10-22</td>\n",
       "      <td>B</td>\n",
       "      <td>3111</td>\n",
       "    </tr>\n",
       "    <tr>\n",
       "      <th>18</th>\n",
       "      <td>2025-10-23</td>\n",
       "      <td>A</td>\n",
       "      <td>2470</td>\n",
       "    </tr>\n",
       "    <tr>\n",
       "      <th>19</th>\n",
       "      <td>2025-10-23</td>\n",
       "      <td>B</td>\n",
       "      <td>2548</td>\n",
       "    </tr>\n",
       "    <tr>\n",
       "      <th>20</th>\n",
       "      <td>2025-10-24</td>\n",
       "      <td>A</td>\n",
       "      <td>2090</td>\n",
       "    </tr>\n",
       "    <tr>\n",
       "      <th>21</th>\n",
       "      <td>2025-10-24</td>\n",
       "      <td>B</td>\n",
       "      <td>2068</td>\n",
       "    </tr>\n",
       "    <tr>\n",
       "      <th>22</th>\n",
       "      <td>2025-10-25</td>\n",
       "      <td>A</td>\n",
       "      <td>1897</td>\n",
       "    </tr>\n",
       "    <tr>\n",
       "      <th>23</th>\n",
       "      <td>2025-10-25</td>\n",
       "      <td>B</td>\n",
       "      <td>1814</td>\n",
       "    </tr>\n",
       "    <tr>\n",
       "      <th>24</th>\n",
       "      <td>2025-10-26</td>\n",
       "      <td>A</td>\n",
       "      <td>1669</td>\n",
       "    </tr>\n",
       "    <tr>\n",
       "      <th>25</th>\n",
       "      <td>2025-10-26</td>\n",
       "      <td>B</td>\n",
       "      <td>1692</td>\n",
       "    </tr>\n",
       "    <tr>\n",
       "      <th>26</th>\n",
       "      <td>2025-10-27</td>\n",
       "      <td>A</td>\n",
       "      <td>1454</td>\n",
       "    </tr>\n",
       "    <tr>\n",
       "      <th>27</th>\n",
       "      <td>2025-10-27</td>\n",
       "      <td>B</td>\n",
       "      <td>1517</td>\n",
       "    </tr>\n",
       "    <tr>\n",
       "      <th>28</th>\n",
       "      <td>2025-10-28</td>\n",
       "      <td>A</td>\n",
       "      <td>1279</td>\n",
       "    </tr>\n",
       "    <tr>\n",
       "      <th>29</th>\n",
       "      <td>2025-10-28</td>\n",
       "      <td>B</td>\n",
       "      <td>1289</td>\n",
       "    </tr>\n",
       "    <tr>\n",
       "      <th>30</th>\n",
       "      <td>2025-10-29</td>\n",
       "      <td>A</td>\n",
       "      <td>1068</td>\n",
       "    </tr>\n",
       "    <tr>\n",
       "      <th>31</th>\n",
       "      <td>2025-10-29</td>\n",
       "      <td>B</td>\n",
       "      <td>1131</td>\n",
       "    </tr>\n",
       "    <tr>\n",
       "      <th>32</th>\n",
       "      <td>2025-10-30</td>\n",
       "      <td>A</td>\n",
       "      <td>887</td>\n",
       "    </tr>\n",
       "    <tr>\n",
       "      <th>33</th>\n",
       "      <td>2025-10-30</td>\n",
       "      <td>B</td>\n",
       "      <td>876</td>\n",
       "    </tr>\n",
       "    <tr>\n",
       "      <th>34</th>\n",
       "      <td>2025-10-31</td>\n",
       "      <td>A</td>\n",
       "      <td>644</td>\n",
       "    </tr>\n",
       "    <tr>\n",
       "      <th>35</th>\n",
       "      <td>2025-10-31</td>\n",
       "      <td>B</td>\n",
       "      <td>669</td>\n",
       "    </tr>\n",
       "    <tr>\n",
       "      <th>36</th>\n",
       "      <td>2025-11-01</td>\n",
       "      <td>A</td>\n",
       "      <td>434</td>\n",
       "    </tr>\n",
       "    <tr>\n",
       "      <th>37</th>\n",
       "      <td>2025-11-01</td>\n",
       "      <td>B</td>\n",
       "      <td>465</td>\n",
       "    </tr>\n",
       "    <tr>\n",
       "      <th>38</th>\n",
       "      <td>2025-11-02</td>\n",
       "      <td>A</td>\n",
       "      <td>158</td>\n",
       "    </tr>\n",
       "    <tr>\n",
       "      <th>39</th>\n",
       "      <td>2025-11-02</td>\n",
       "      <td>B</td>\n",
       "      <td>160</td>\n",
       "    </tr>\n",
       "  </tbody>\n",
       "</table>\n",
       "</div>"
      ],
      "text/plain": [
       "   session_date test_group  session_id\n",
       "0    2025-10-14          A        1502\n",
       "1    2025-10-14          B        1628\n",
       "2    2025-10-15          A        2235\n",
       "3    2025-10-15          B        2283\n",
       "4    2025-10-16          A        3280\n",
       "5    2025-10-16          B        3241\n",
       "6    2025-10-17          A        4089\n",
       "7    2025-10-17          B        4054\n",
       "8    2025-10-18          A        5013\n",
       "9    2025-10-18          B        5059\n",
       "10   2025-10-19          A        6535\n",
       "11   2025-10-19          B        6779\n",
       "12   2025-10-20          A        5837\n",
       "13   2025-10-20          B        6089\n",
       "14   2025-10-21          A        3927\n",
       "15   2025-10-21          B        3981\n",
       "16   2025-10-22          A        3083\n",
       "17   2025-10-22          B        3111\n",
       "18   2025-10-23          A        2470\n",
       "19   2025-10-23          B        2548\n",
       "20   2025-10-24          A        2090\n",
       "21   2025-10-24          B        2068\n",
       "22   2025-10-25          A        1897\n",
       "23   2025-10-25          B        1814\n",
       "24   2025-10-26          A        1669\n",
       "25   2025-10-26          B        1692\n",
       "26   2025-10-27          A        1454\n",
       "27   2025-10-27          B        1517\n",
       "28   2025-10-28          A        1279\n",
       "29   2025-10-28          B        1289\n",
       "30   2025-10-29          A        1068\n",
       "31   2025-10-29          B        1131\n",
       "32   2025-10-30          A         887\n",
       "33   2025-10-30          B         876\n",
       "34   2025-10-31          A         644\n",
       "35   2025-10-31          B         669\n",
       "36   2025-11-01          A         434\n",
       "37   2025-11-01          B         465\n",
       "38   2025-11-02          A         158\n",
       "39   2025-11-02          B         160"
      ]
     },
     "metadata": {},
     "output_type": "display_data"
    }
   ],
   "source": [
    "# Рассчитаем количество уникальных сессий для каждого дня и обеих тестовых групп\n",
    "tabl = sessions_test.groupby(['session_date', 'test_group'])['session_id'].nunique().reset_index()\n",
    "display(tabl)"
   ]
  },
  {
   "cell_type": "code",
   "execution_count": 32,
   "metadata": {},
   "outputs": [
    {
     "name": "stdout",
     "output_type": "stream",
     "text": [
      "p-значение: 0.938219304859116\n",
      "Не получилось отвергнуть нулевую гипотезу\n"
     ]
    }
   ],
   "source": [
    "# Проверим что количество уникальных дневных сессий в двух выборках не различается\n",
    "group_a = tabl[tabl['test_group']=='A']['session_id']\n",
    "group_b = tabl[tabl['test_group']=='B']['session_id']\n",
    "\n",
    "\n",
    "alpha = 0.05\n",
    "\n",
    "results = st.ttest_ind(\n",
    "        group_a,\n",
    "        group_b,\n",
    "        alternative='two-sided')\n",
    "\n",
    "print('p-значение:', results.pvalue)\n",
    "if results.pvalue < alpha:\n",
    "    print('Отвергаем нулевую гипотезу')\n",
    "else:\n",
    "    print('Не получилось отвергнуть нулевую гипотезу')"
   ]
  },
  {
   "cell_type": "markdown",
   "metadata": {
    "id": "7kwRxzg70eM3"
   },
   "source": [
    "#### 4.3. Сравнение доли успешных сессий \n",
    "\n",
    "Когда вы убедились, что количество сессий в обеих выборках не различалось, можно переходить к анализу ключевой метрики — доли успешных сессий.\n",
    "\n",
    "Используйте созданный на первом шаге задания столбец `good_session` и рассчитайте долю успешных сессий для выборок A и B, а также разницу в этом показателе. Полученный вывод отобразите на экране."
   ]
  },
  {
   "cell_type": "code",
   "execution_count": 33,
   "metadata": {
    "id": "Uku-V1CpPRCz"
   },
   "outputs": [
    {
     "name": "stdout",
     "output_type": "stream",
     "text": [
      "Доля успешных сессий для выборки А =  0.31\n",
      "Доля успешных сессий для выборки B =  0.32\n",
      "Разница между долями успешных сессий выборок А и В: -0.011\n"
     ]
    }
   ],
   "source": [
    "# Кол-во успешных сессий для выборки А\n",
    "success_sessions_a = sessions_test[sessions_test['test_group']=='A']['good_session'].sum()\n",
    "# Общее кол-во строк для выборки А\n",
    "summary_sessions_a = sessions_test[sessions_test['test_group']=='A']['good_session'].count()\n",
    "# Доля успешных сессий для выборки А\n",
    "share_a = success_sessions_a / summary_sessions_a\n",
    "\n",
    "\n",
    "# Кол-во успешных сессий для выборки B\n",
    "success_sessions_b = sessions_test[sessions_test['test_group']=='B']['good_session'].sum()\n",
    "# Общее кол-во строк для выборки В\n",
    "summary_sessions_b = sessions_test[sessions_test['test_group']=='B']['good_session'].count()\n",
    "# Доля успешных сессий для выборки В\n",
    "share_b = success_sessions_b / summary_sessions_b\n",
    "\n",
    "print('Доля успешных сессий для выборки А = ', round(share_a,2))\n",
    "print('Доля успешных сессий для выборки B = ', round(share_b,2))\n",
    "print('Разница между долями успешных сессий выборок А и В:', round(share_a- share_b,3))"
   ]
  },
  {
   "cell_type": "markdown",
   "metadata": {
    "id": "9fMFuja10eM4"
   },
   "source": [
    "#### 4.4. Насколько статистически значимо изменение ключевой метрики \n",
    "\n",
    "На предыдущем шаге вы убедились, что количество успешных сессий в тестовой выборке примерно на 1.1% выше, чем в контрольной, но делать выводы только на основе этого значения будет некорректно. Для принятия решения всегда необходимо отвечать на вопрос: является ли это изменение статистически значимым. \n",
    "\n",
    "- Используя статистический тест, рассчитайте, является ли изменение в метрике доли успешных сессий статистически значимым. \n",
    "\n",
    "- Выведите на экран полученное значение p-value и свои выводы о статистической значимости. Напомним, что уровень значимости в эксперименте был выбран на уровне 0.05. "
   ]
  },
  {
   "cell_type": "markdown",
   "metadata": {
    "id": "gFvhRGwlPLS0"
   },
   "source": [
    "В данном случае, когда мы сравниваем доли успешных сессий между двумя выборками, для определения статистической значимости изменения необходимо использовать Z-тест для пропорций\n",
    "\n",
    "**Нулевая гипотеза:**\n",
    "Различий между долями успешных сессий нет\n",
    "\n",
    "**Альтернативная гипотеза:**\n",
    "Доля успешных сессий в тестовой группе в группе А ниже, чем в группе В\n",
    "\n",
    "ОДНАКО для использования данного теста нужно проверить несколько условий, часть из них мы проверили выше. Остается проверить,  выполняется ли предпосылка Z-теста пропорций о достаточном размере выборок:"
   ]
  },
  {
   "cell_type": "code",
   "execution_count": 34,
   "metadata": {},
   "outputs": [
    {
     "name": "stdout",
     "output_type": "stream",
     "text": [
      "Предпосылка о достаточном количестве данных выполняется!\n"
     ]
    }
   ],
   "source": [
    "# Проверим, достаточен ли размер выборок для Z-теста\n",
    "\n",
    "# Рассчитаем кол-во успехов в группах (просто переименую их из кода выше для удобства)\n",
    "m_a = success_sessions_a\n",
    "m_b = success_sessions_b\n",
    "\n",
    "# Рассчитаем размер групп\n",
    "n_a = sessions_test[sessions_test['test_group']=='A'].shape[0]\n",
    "n_b = sessions_test[sessions_test['test_group']=='B'].shape[0]\n",
    "\n",
    "# Рассчитаем доли успехов (просто переименую их из кода выше для удобства)\n",
    "p_a = share_a\n",
    "p_b = share_b\n",
    "\n",
    "if (p_a*n_a > 10)and((1-p_a)*n_a > 10)and(p_b*n_b > 10)and((1-p_b)*n_b > 10):\n",
    "    print('Предпосылка о достаточном количестве данных выполняется!')\n",
    "else:\n",
    "    print('Предпосылка о достаточном количестве данных НЕ выполняется!')"
   ]
  },
  {
   "cell_type": "code",
   "execution_count": 35,
   "metadata": {},
   "outputs": [
    {
     "name": "stdout",
     "output_type": "stream",
     "text": [
      "pvalue=0.0001574739988036123 < 0.05\n",
      "Нулевая гипотеза не находит подтверждения!\n"
     ]
    }
   ],
   "source": [
    "alpha = 0.05\n",
    "\n",
    "stat_ztest, p_value_ztest = proportions_ztest(\n",
    "    [m_a, m_b],\n",
    "    [n_a, n_b],\n",
    "    alternative='smaller' \n",
    ")\n",
    "p_value_ztest\n",
    "\n",
    "if p_value_ztest > alpha:\n",
    "    print(f'pvalue={p_value_ztest} > {alpha}')\n",
    "    print('Нулевая гипотеза находит подтверждение!')\n",
    "else:\n",
    "    print(f'pvalue={p_value_ztest} < {alpha}')\n",
    "    print('Нулевая гипотеза не находит подтверждения!')"
   ]
  },
  {
   "cell_type": "markdown",
   "metadata": {},
   "source": [
    "**Получается, что изменение является статистически значимым. Нулевая гипотеза не находит подтверждения: доля успешных сессий в группе В действительно повысилась**"
   ]
  },
  {
   "cell_type": "markdown",
   "metadata": {
    "id": "GnJrkY9Q63zS"
   },
   "source": [
    "#### 4.5. Вывод по результатам A/B-эксперимента\n",
    "\n",
    "На основе проведённого анализа результатов теста сформулируйте и запишите свои выводы для команды разработки приложения. В выводе обязательно укажите:\n",
    "\n",
    "- Характеристики проведённого эксперимента, количество задействованных пользователей и длительность эксперимента.\n",
    "\n",
    "- Повлияло ли внедрение нового алгоритма рекомендаций на рост ключевой метрики и как. \n",
    "\n",
    "- Каким получилось значение p-value для оценки статистической значимости выявленного эффекта.\n",
    "\n",
    "- Стоит ли внедрять новоовведение в приложение. "
   ]
  },
  {
   "cell_type": "markdown",
   "metadata": {
    "id": "rri8KRIgPMrW"
   },
   "source": [
    "1) Создание нового алгоритма рекомендаций, который будет показывать более интересный контент для каждого пользователя. Для этого проведен эксперимент, в ходе которого было задействовано 1477 (в одной группе) + 1466 (в другой) = 2943 пользователя. Тест проводился с 14 октября по 2 ноября, т.е. 20 дней\n",
    "\n",
    "2) Внедрение нового алгоритма рекомендаций повлияло на рост ключевой метрики: доля успешных сессий для тестовой группы действительно выше, чем для группы, у которой не было никаких изменений.Разница между долями составляет 1.1%\n",
    "\n",
    "3) pvalue=0.000157, что меньше alpha = 0.05, а значит 1.1% - статистически значимое изменение, тк гипотеза о том, что внедрение нового алгоритма не повлияет на долю успешных сессий не находит подверждения.\n",
    "\n",
    "4) Изменение, судя по результатам теста, принесет положительный результат, т.е. доля успешных сессий (сессий, где просмотрено более 4 страниц) станет больше, однако данные показывают незначительное изменение, которое выявилось на протяжении 20 дней эксперимента. Несмотря на то, что даже такое небольшое изменение может привести к росту дохода в долгосрочной перспективе (особенно с возможностью дальнейшей оптимизации алгоритма), но нужно рассматривать ситуацию более глобально: если затраты на внедрение велики, то увеличение дохожа может их не окупить. Более того, нужно убедиться, что нововведение не будет ухудшать другие метрики (и в целом не ухудшит работу приложения). Поэтому **ответ** - из-за незначительного прироста доли успешных сессий тест показывает НЕДОСТАТОЧНЫЙ результат для принятия решение, тк итог может быть неоднозначным, поэтому в идеале нужно учесть затраты, влияение на другие метрики и только после этого делать выбор."
   ]
  }
 ],
 "metadata": {
  "ExecuteTimeLog": [
   {
    "duration": 61,
    "start_time": "2025-03-08T17:11:09.163Z"
   },
   {
    "duration": 1629,
    "start_time": "2025-03-08T17:11:18.612Z"
   },
   {
    "duration": 1131,
    "start_time": "2025-03-08T17:11:20.411Z"
   },
   {
    "duration": 71,
    "start_time": "2025-03-08T17:17:15.791Z"
   },
   {
    "duration": 651,
    "start_time": "2025-03-08T17:17:29.159Z"
   },
   {
    "duration": 641,
    "start_time": "2025-03-08T17:18:26.472Z"
   },
   {
    "duration": 57,
    "start_time": "2025-03-08T17:21:43.326Z"
   },
   {
    "duration": 41,
    "start_time": "2025-03-08T17:21:49.306Z"
   },
   {
    "duration": 187,
    "start_time": "2025-03-08T17:38:51.401Z"
   },
   {
    "duration": 189,
    "start_time": "2025-03-08T17:57:25.740Z"
   },
   {
    "duration": 192,
    "start_time": "2025-03-08T17:57:41.390Z"
   },
   {
    "duration": 195,
    "start_time": "2025-03-08T17:59:36.989Z"
   },
   {
    "duration": 630,
    "start_time": "2025-03-08T18:00:08.002Z"
   },
   {
    "duration": 67,
    "start_time": "2025-03-08T18:00:44.517Z"
   },
   {
    "duration": 174,
    "start_time": "2025-03-08T18:00:46.281Z"
   },
   {
    "duration": 184,
    "start_time": "2025-03-08T18:03:30.426Z"
   },
   {
    "duration": 190,
    "start_time": "2025-03-08T18:03:42.741Z"
   },
   {
    "duration": 256,
    "start_time": "2025-03-08T18:04:07.867Z"
   },
   {
    "duration": 193,
    "start_time": "2025-03-08T18:04:23.855Z"
   },
   {
    "duration": 192,
    "start_time": "2025-03-08T19:07:11.504Z"
   },
   {
    "duration": 191,
    "start_time": "2025-03-08T19:07:39.181Z"
   },
   {
    "duration": 199,
    "start_time": "2025-03-08T19:08:01.338Z"
   },
   {
    "duration": 209,
    "start_time": "2025-03-08T19:08:08.707Z"
   },
   {
    "duration": 192,
    "start_time": "2025-03-08T19:08:12.013Z"
   },
   {
    "duration": 224,
    "start_time": "2025-03-08T19:08:20.573Z"
   },
   {
    "duration": 196,
    "start_time": "2025-03-08T19:08:27.913Z"
   },
   {
    "duration": 189,
    "start_time": "2025-03-08T19:17:15.279Z"
   },
   {
    "duration": 60,
    "start_time": "2025-03-08T19:21:27.113Z"
   },
   {
    "duration": 49,
    "start_time": "2025-03-08T19:21:32.536Z"
   },
   {
    "duration": 221,
    "start_time": "2025-03-08T19:25:44.834Z"
   },
   {
    "duration": 70,
    "start_time": "2025-03-08T19:25:50.500Z"
   },
   {
    "duration": 223,
    "start_time": "2025-03-08T19:25:54.769Z"
   },
   {
    "duration": 79,
    "start_time": "2025-03-08T19:26:13.168Z"
   },
   {
    "duration": 79,
    "start_time": "2025-03-08T19:26:22.678Z"
   },
   {
    "duration": 213,
    "start_time": "2025-03-08T19:26:34.449Z"
   },
   {
    "duration": 68,
    "start_time": "2025-03-08T19:26:39.868Z"
   },
   {
    "duration": 185,
    "start_time": "2025-03-08T19:26:48.510Z"
   },
   {
    "duration": 178,
    "start_time": "2025-03-08T19:26:52.849Z"
   },
   {
    "duration": 71,
    "start_time": "2025-03-08T19:26:55.858Z"
   },
   {
    "duration": 187,
    "start_time": "2025-03-08T19:27:23.378Z"
   },
   {
    "duration": 72,
    "start_time": "2025-03-08T19:27:37.628Z"
   },
   {
    "duration": 186,
    "start_time": "2025-03-08T19:27:40.516Z"
   },
   {
    "duration": 6,
    "start_time": "2025-03-08T19:29:09.645Z"
   },
   {
    "duration": 18,
    "start_time": "2025-03-08T19:29:18.761Z"
   },
   {
    "duration": 15,
    "start_time": "2025-03-08T19:29:33.492Z"
   },
   {
    "duration": 21,
    "start_time": "2025-03-08T19:30:09.103Z"
   },
   {
    "duration": 20,
    "start_time": "2025-03-08T19:30:22.128Z"
   },
   {
    "duration": 167,
    "start_time": "2025-03-08T19:31:16.123Z"
   },
   {
    "duration": 242,
    "start_time": "2025-03-08T19:31:23.031Z"
   },
   {
    "duration": 151,
    "start_time": "2025-03-08T19:31:55.985Z"
   },
   {
    "duration": 201,
    "start_time": "2025-03-08T19:34:11.881Z"
   },
   {
    "duration": 171,
    "start_time": "2025-03-08T19:37:19.085Z"
   },
   {
    "duration": 187,
    "start_time": "2025-03-08T19:38:26.755Z"
   },
   {
    "duration": 176,
    "start_time": "2025-03-08T19:38:39.660Z"
   },
   {
    "duration": 54,
    "start_time": "2025-03-08T19:52:01.191Z"
   },
   {
    "duration": 183,
    "start_time": "2025-03-08T19:52:32.027Z"
   },
   {
    "duration": 189,
    "start_time": "2025-03-08T19:52:43.407Z"
   },
   {
    "duration": 184,
    "start_time": "2025-03-08T19:52:49.367Z"
   },
   {
    "duration": 213,
    "start_time": "2025-03-08T19:52:57.020Z"
   },
   {
    "duration": 217,
    "start_time": "2025-03-08T19:53:01.150Z"
   },
   {
    "duration": 260,
    "start_time": "2025-03-08T19:53:42.969Z"
   },
   {
    "duration": 181,
    "start_time": "2025-03-08T19:53:52.177Z"
   },
   {
    "duration": 192,
    "start_time": "2025-03-08T19:55:00.608Z"
   },
   {
    "duration": 188,
    "start_time": "2025-03-08T19:55:12.109Z"
   },
   {
    "duration": 197,
    "start_time": "2025-03-08T19:55:41.392Z"
   },
   {
    "duration": 31,
    "start_time": "2025-03-08T19:56:09.917Z"
   },
   {
    "duration": 71,
    "start_time": "2025-03-08T20:02:08.400Z"
   },
   {
    "duration": 7,
    "start_time": "2025-03-08T20:06:54.061Z"
   },
   {
    "duration": 20,
    "start_time": "2025-03-08T20:07:14.554Z"
   },
   {
    "duration": 41,
    "start_time": "2025-03-08T20:17:29.560Z"
   },
   {
    "duration": 39,
    "start_time": "2025-03-08T20:17:52.238Z"
   },
   {
    "duration": 3,
    "start_time": "2025-03-08T20:17:59.822Z"
   },
   {
    "duration": 15,
    "start_time": "2025-03-08T20:18:16.997Z"
   },
   {
    "duration": 34,
    "start_time": "2025-03-08T20:18:20.885Z"
   },
   {
    "duration": 77,
    "start_time": "2025-03-08T20:18:47.113Z"
   },
   {
    "duration": 38,
    "start_time": "2025-03-08T20:18:50.335Z"
   },
   {
    "duration": 62,
    "start_time": "2025-03-08T20:19:35.869Z"
   },
   {
    "duration": 54,
    "start_time": "2025-03-08T20:20:07.192Z"
   },
   {
    "duration": 333,
    "start_time": "2025-03-08T20:21:51.395Z"
   },
   {
    "duration": 62,
    "start_time": "2025-03-08T20:22:13.016Z"
   },
   {
    "duration": 363,
    "start_time": "2025-03-08T20:22:25.412Z"
   },
   {
    "duration": 63,
    "start_time": "2025-03-08T20:23:01.709Z"
   },
   {
    "duration": 65,
    "start_time": "2025-03-08T20:23:12.427Z"
   },
   {
    "duration": 69,
    "start_time": "2025-03-08T20:24:34.014Z"
   },
   {
    "duration": 65,
    "start_time": "2025-03-08T20:24:40.309Z"
   },
   {
    "duration": 191,
    "start_time": "2025-03-08T20:27:14.412Z"
   },
   {
    "duration": 204,
    "start_time": "2025-03-08T20:27:25.992Z"
   },
   {
    "duration": 99,
    "start_time": "2025-03-08T20:29:02.820Z"
   },
   {
    "duration": 218,
    "start_time": "2025-03-08T20:29:17.854Z"
   },
   {
    "duration": 69,
    "start_time": "2025-03-08T20:31:15.060Z"
   },
   {
    "duration": 230,
    "start_time": "2025-03-08T20:31:21.871Z"
   },
   {
    "duration": 238,
    "start_time": "2025-03-08T20:31:40.469Z"
   },
   {
    "duration": 71,
    "start_time": "2025-03-08T20:31:45.265Z"
   },
   {
    "duration": 72,
    "start_time": "2025-03-08T20:31:47.350Z"
   },
   {
    "duration": 159,
    "start_time": "2025-03-08T20:32:09.521Z"
   },
   {
    "duration": 70,
    "start_time": "2025-03-08T20:32:20.087Z"
   },
   {
    "duration": 163,
    "start_time": "2025-03-08T20:32:23.046Z"
   },
   {
    "duration": 153,
    "start_time": "2025-03-08T20:33:09.345Z"
   },
   {
    "duration": 258,
    "start_time": "2025-03-08T20:36:37.759Z"
   },
   {
    "duration": 159,
    "start_time": "2025-03-08T20:36:45.113Z"
   },
   {
    "duration": 160,
    "start_time": "2025-03-08T20:39:04.394Z"
   },
   {
    "duration": 164,
    "start_time": "2025-03-08T20:39:12.176Z"
   },
   {
    "duration": 61,
    "start_time": "2025-03-08T21:25:23.480Z"
   },
   {
    "duration": 390,
    "start_time": "2025-03-08T21:25:30.304Z"
   },
   {
    "duration": 193,
    "start_time": "2025-03-08T21:31:41.601Z"
   },
   {
    "duration": 93,
    "start_time": "2025-03-08T21:34:23.238Z"
   },
   {
    "duration": 216,
    "start_time": "2025-03-08T21:35:06.529Z"
   },
   {
    "duration": 180,
    "start_time": "2025-03-08T21:35:41.275Z"
   },
   {
    "duration": 93,
    "start_time": "2025-03-08T21:36:30.799Z"
   },
   {
    "duration": 107,
    "start_time": "2025-03-08T21:36:37.698Z"
   },
   {
    "duration": 5,
    "start_time": "2025-03-08T21:36:45.287Z"
   },
   {
    "duration": 106,
    "start_time": "2025-03-08T21:36:46.848Z"
   },
   {
    "duration": 104,
    "start_time": "2025-03-08T21:36:51.695Z"
   },
   {
    "duration": 95,
    "start_time": "2025-03-08T21:38:24.865Z"
   },
   {
    "duration": 5,
    "start_time": "2025-03-08T21:38:55.940Z"
   },
   {
    "duration": 6,
    "start_time": "2025-03-08T21:39:05.229Z"
   },
   {
    "duration": 6,
    "start_time": "2025-03-08T21:42:44.211Z"
   },
   {
    "duration": 123,
    "start_time": "2025-03-08T21:42:52.898Z"
   },
   {
    "duration": 97,
    "start_time": "2025-03-08T21:42:56.641Z"
   },
   {
    "duration": 100,
    "start_time": "2025-03-08T21:43:07.689Z"
   },
   {
    "duration": 93,
    "start_time": "2025-03-08T21:47:30.512Z"
   },
   {
    "duration": 71,
    "start_time": "2025-03-08T21:49:32.077Z"
   },
   {
    "duration": 57,
    "start_time": "2025-03-08T21:49:37.223Z"
   },
   {
    "duration": 58,
    "start_time": "2025-03-08T21:49:44.590Z"
   },
   {
    "duration": 99,
    "start_time": "2025-03-08T21:49:51.486Z"
   },
   {
    "duration": 98,
    "start_time": "2025-03-08T21:50:57.110Z"
   },
   {
    "duration": 93,
    "start_time": "2025-03-08T21:53:17.204Z"
   },
   {
    "duration": 95,
    "start_time": "2025-03-08T21:54:17.401Z"
   },
   {
    "duration": 73,
    "start_time": "2025-03-08T21:58:07.902Z"
   },
   {
    "duration": 108,
    "start_time": "2025-03-08T21:58:21.215Z"
   },
   {
    "duration": 116,
    "start_time": "2025-03-08T21:58:36.212Z"
   },
   {
    "duration": 22,
    "start_time": "2025-03-08T22:06:29.816Z"
   },
   {
    "duration": 27,
    "start_time": "2025-03-08T22:06:51.219Z"
   },
   {
    "duration": 6,
    "start_time": "2025-03-08T22:08:07.835Z"
   },
   {
    "duration": 7,
    "start_time": "2025-03-08T22:11:29.459Z"
   },
   {
    "duration": 6,
    "start_time": "2025-03-08T22:11:46.635Z"
   },
   {
    "duration": 11,
    "start_time": "2025-03-08T22:12:33.822Z"
   },
   {
    "duration": 12,
    "start_time": "2025-03-08T22:12:49.038Z"
   },
   {
    "duration": 9,
    "start_time": "2025-03-08T22:13:24.527Z"
   },
   {
    "duration": 10,
    "start_time": "2025-03-08T22:13:30.297Z"
   },
   {
    "duration": 9,
    "start_time": "2025-03-08T22:13:41.226Z"
   },
   {
    "duration": 10,
    "start_time": "2025-03-08T22:13:44.382Z"
   },
   {
    "duration": 10,
    "start_time": "2025-03-08T22:14:16.642Z"
   },
   {
    "duration": 10,
    "start_time": "2025-03-08T22:14:42.806Z"
   },
   {
    "duration": 3,
    "start_time": "2025-03-08T22:15:11.847Z"
   },
   {
    "duration": 3,
    "start_time": "2025-03-08T22:15:42.130Z"
   },
   {
    "duration": 3,
    "start_time": "2025-03-08T22:15:58.676Z"
   },
   {
    "duration": 3,
    "start_time": "2025-03-08T22:17:30.278Z"
   },
   {
    "duration": 96,
    "start_time": "2025-03-08T22:18:44.920Z"
   },
   {
    "duration": 57,
    "start_time": "2025-03-08T22:20:09.673Z"
   },
   {
    "duration": 54,
    "start_time": "2025-03-08T22:20:50.145Z"
   },
   {
    "duration": 62,
    "start_time": "2025-03-08T22:21:59.472Z"
   },
   {
    "duration": 92,
    "start_time": "2025-03-08T22:22:55.578Z"
   },
   {
    "duration": 63,
    "start_time": "2025-03-08T22:25:22.930Z"
   },
   {
    "duration": 8,
    "start_time": "2025-03-08T22:42:22.264Z"
   },
   {
    "duration": 7,
    "start_time": "2025-03-08T22:42:30.705Z"
   },
   {
    "duration": 5,
    "start_time": "2025-03-08T22:42:37.036Z"
   },
   {
    "duration": 5,
    "start_time": "2025-03-08T22:42:39.563Z"
   },
   {
    "duration": 5,
    "start_time": "2025-03-08T22:43:45.545Z"
   },
   {
    "duration": 5,
    "start_time": "2025-03-08T22:43:57.388Z"
   },
   {
    "duration": 5,
    "start_time": "2025-03-08T22:44:07.156Z"
   },
   {
    "duration": 1378,
    "start_time": "2025-03-08T22:44:14.645Z"
   },
   {
    "duration": 568,
    "start_time": "2025-03-08T22:44:16.025Z"
   },
   {
    "duration": 36,
    "start_time": "2025-03-08T22:44:16.594Z"
   },
   {
    "duration": 172,
    "start_time": "2025-03-08T22:44:16.632Z"
   },
   {
    "duration": 354,
    "start_time": "2025-03-08T22:44:16.806Z"
   },
   {
    "duration": 136,
    "start_time": "2025-03-08T22:44:17.161Z"
   },
   {
    "duration": 127,
    "start_time": "2025-03-08T22:44:17.298Z"
   },
   {
    "duration": 157,
    "start_time": "2025-03-08T22:44:17.426Z"
   },
   {
    "duration": 26,
    "start_time": "2025-03-08T22:44:17.584Z"
   },
   {
    "duration": 16,
    "start_time": "2025-03-08T22:44:17.612Z"
   },
   {
    "duration": 72,
    "start_time": "2025-03-08T22:44:17.629Z"
   },
   {
    "duration": 166,
    "start_time": "2025-03-08T22:44:17.703Z"
   },
   {
    "duration": 407,
    "start_time": "2025-03-08T22:44:17.871Z"
   },
   {
    "duration": 138,
    "start_time": "2025-03-08T22:44:18.280Z"
   },
   {
    "duration": 27,
    "start_time": "2025-03-08T22:44:18.420Z"
   },
   {
    "duration": 6,
    "start_time": "2025-03-08T22:44:18.448Z"
   },
   {
    "duration": 3,
    "start_time": "2025-03-08T22:44:18.455Z"
   },
   {
    "duration": 61,
    "start_time": "2025-03-08T22:44:18.467Z"
   },
   {
    "duration": 5,
    "start_time": "2025-03-08T22:44:18.529Z"
   },
   {
    "duration": 5,
    "start_time": "2025-03-08T22:44:38.775Z"
   },
   {
    "duration": 85,
    "start_time": "2025-03-08T22:45:21.291Z"
   },
   {
    "duration": 4,
    "start_time": "2025-03-08T22:45:25.632Z"
   },
   {
    "duration": 4,
    "start_time": "2025-03-08T22:45:37.443Z"
   },
   {
    "duration": 7,
    "start_time": "2025-03-08T22:45:47.023Z"
   },
   {
    "duration": 11,
    "start_time": "2025-03-08T22:45:58.774Z"
   },
   {
    "duration": 14,
    "start_time": "2025-03-08T22:47:47.185Z"
   },
   {
    "duration": 65,
    "start_time": "2025-03-08T22:48:56.461Z"
   },
   {
    "duration": 13,
    "start_time": "2025-03-08T22:49:02.431Z"
   },
   {
    "duration": 8,
    "start_time": "2025-03-08T22:52:06.253Z"
   },
   {
    "duration": 9,
    "start_time": "2025-03-08T22:52:15.347Z"
   },
   {
    "duration": 7,
    "start_time": "2025-03-08T22:56:14.936Z"
   },
   {
    "duration": 7,
    "start_time": "2025-03-08T22:56:30.881Z"
   },
   {
    "duration": 7,
    "start_time": "2025-03-08T22:56:48.109Z"
   },
   {
    "duration": 6,
    "start_time": "2025-03-08T23:09:21.321Z"
   },
   {
    "duration": 12,
    "start_time": "2025-03-08T23:10:04.105Z"
   },
   {
    "duration": 5,
    "start_time": "2025-03-08T23:10:53.566Z"
   },
   {
    "duration": 6,
    "start_time": "2025-03-08T23:11:04.675Z"
   },
   {
    "duration": 6,
    "start_time": "2025-03-08T23:12:59.266Z"
   },
   {
    "duration": 6,
    "start_time": "2025-03-08T23:13:08.601Z"
   },
   {
    "duration": 6,
    "start_time": "2025-03-08T23:13:29.984Z"
   },
   {
    "duration": 6,
    "start_time": "2025-03-08T23:13:36.035Z"
   },
   {
    "duration": 6,
    "start_time": "2025-03-08T23:13:37.937Z"
   },
   {
    "duration": 8,
    "start_time": "2025-03-08T23:15:10.826Z"
   },
   {
    "duration": 8,
    "start_time": "2025-03-08T23:15:25.897Z"
   },
   {
    "duration": 7,
    "start_time": "2025-03-08T23:15:43.740Z"
   },
   {
    "duration": 7,
    "start_time": "2025-03-08T23:15:47.340Z"
   },
   {
    "duration": 64,
    "start_time": "2025-03-08T23:16:24.951Z"
   },
   {
    "duration": 71,
    "start_time": "2025-03-08T23:16:52.674Z"
   },
   {
    "duration": 71,
    "start_time": "2025-03-08T23:16:58.337Z"
   },
   {
    "duration": 121,
    "start_time": "2025-03-08T23:17:02.532Z"
   },
   {
    "duration": 71,
    "start_time": "2025-03-08T23:17:08.348Z"
   },
   {
    "duration": 75,
    "start_time": "2025-03-08T23:17:46.259Z"
   },
   {
    "duration": 75,
    "start_time": "2025-03-08T23:18:01.408Z"
   },
   {
    "duration": 8,
    "start_time": "2025-03-08T23:21:00.690Z"
   },
   {
    "duration": 7,
    "start_time": "2025-03-08T23:21:36.520Z"
   },
   {
    "duration": 80,
    "start_time": "2025-03-08T23:22:38.287Z"
   },
   {
    "duration": 88,
    "start_time": "2025-03-08T23:23:49.804Z"
   },
   {
    "duration": 88,
    "start_time": "2025-03-08T23:24:13.208Z"
   },
   {
    "duration": 61,
    "start_time": "2025-03-09T06:37:31.594Z"
   },
   {
    "duration": 1475,
    "start_time": "2025-03-09T06:37:37.591Z"
   },
   {
    "duration": 649,
    "start_time": "2025-03-09T06:37:39.069Z"
   },
   {
    "duration": 53,
    "start_time": "2025-03-09T06:37:39.720Z"
   },
   {
    "duration": 206,
    "start_time": "2025-03-09T06:37:39.775Z"
   },
   {
    "duration": 629,
    "start_time": "2025-03-09T06:37:39.982Z"
   },
   {
    "duration": 179,
    "start_time": "2025-03-09T06:37:40.613Z"
   },
   {
    "duration": 164,
    "start_time": "2025-03-09T06:37:40.794Z"
   },
   {
    "duration": 255,
    "start_time": "2025-03-09T06:37:40.960Z"
   },
   {
    "duration": 31,
    "start_time": "2025-03-09T06:37:41.216Z"
   },
   {
    "duration": 19,
    "start_time": "2025-03-09T06:37:41.264Z"
   },
   {
    "duration": 154,
    "start_time": "2025-03-09T06:37:41.285Z"
   },
   {
    "duration": 151,
    "start_time": "2025-03-09T06:37:41.441Z"
   },
   {
    "duration": 442,
    "start_time": "2025-03-09T06:37:41.593Z"
   },
   {
    "duration": 205,
    "start_time": "2025-03-09T06:37:42.036Z"
   },
   {
    "duration": 39,
    "start_time": "2025-03-09T06:37:42.243Z"
   },
   {
    "duration": 8,
    "start_time": "2025-03-09T06:37:42.283Z"
   },
   {
    "duration": 17,
    "start_time": "2025-03-09T06:37:42.293Z"
   },
   {
    "duration": 93,
    "start_time": "2025-03-09T06:37:42.314Z"
   },
   {
    "duration": 12,
    "start_time": "2025-03-09T06:37:42.409Z"
   },
   {
    "duration": 18,
    "start_time": "2025-03-09T06:37:42.422Z"
   },
   {
    "duration": 104,
    "start_time": "2025-03-09T06:37:42.442Z"
   },
   {
    "duration": 19,
    "start_time": "2025-03-09T06:37:42.548Z"
   },
   {
    "duration": 117,
    "start_time": "2025-03-09T06:37:42.570Z"
   },
   {
    "duration": 8,
    "start_time": "2025-03-09T06:37:42.689Z"
   },
   {
    "duration": 241,
    "start_time": "2025-03-09T06:37:42.698Z"
   },
   {
    "duration": 8,
    "start_time": "2025-03-09T06:37:42.941Z"
   },
   {
    "duration": 178,
    "start_time": "2025-03-09T06:37:42.963Z"
   },
   {
    "duration": 163,
    "start_time": "2025-03-09T06:37:43.144Z"
   },
   {
    "duration": 266,
    "start_time": "2025-03-09T06:39:14.870Z"
   },
   {
    "duration": 270,
    "start_time": "2025-03-09T06:40:02.191Z"
   },
   {
    "duration": 260,
    "start_time": "2025-03-09T06:40:24.315Z"
   },
   {
    "duration": 276,
    "start_time": "2025-03-09T06:40:29.041Z"
   },
   {
    "duration": 265,
    "start_time": "2025-03-09T06:40:34.655Z"
   },
   {
    "duration": 17,
    "start_time": "2025-03-09T06:42:16.726Z"
   },
   {
    "duration": 251,
    "start_time": "2025-03-09T06:42:20.728Z"
   },
   {
    "duration": 18,
    "start_time": "2025-03-09T06:45:57.029Z"
   },
   {
    "duration": 9,
    "start_time": "2025-03-09T06:47:49.970Z"
   },
   {
    "duration": 14,
    "start_time": "2025-03-09T06:48:15.809Z"
   },
   {
    "duration": 9,
    "start_time": "2025-03-09T06:49:28.300Z"
   },
   {
    "duration": 43,
    "start_time": "2025-03-09T06:49:53.827Z"
   },
   {
    "duration": 46,
    "start_time": "2025-03-09T06:50:08.727Z"
   },
   {
    "duration": 49,
    "start_time": "2025-03-09T07:29:07.194Z"
   },
   {
    "duration": 19,
    "start_time": "2025-03-09T07:29:26.926Z"
   },
   {
    "duration": 10,
    "start_time": "2025-03-09T07:29:47.081Z"
   },
   {
    "duration": 4,
    "start_time": "2025-03-09T07:30:17.089Z"
   },
   {
    "duration": 6,
    "start_time": "2025-03-09T07:30:57.877Z"
   },
   {
    "duration": 6,
    "start_time": "2025-03-09T07:34:48.917Z"
   },
   {
    "duration": 7,
    "start_time": "2025-03-09T07:42:25.367Z"
   },
   {
    "duration": 51,
    "start_time": "2025-03-13T17:43:31.724Z"
   },
   {
    "duration": 1586,
    "start_time": "2025-03-13T17:43:37.614Z"
   },
   {
    "duration": 627,
    "start_time": "2025-03-13T17:43:39.204Z"
   },
   {
    "duration": 46,
    "start_time": "2025-03-13T17:43:39.833Z"
   },
   {
    "duration": 196,
    "start_time": "2025-03-13T17:43:39.881Z"
   },
   {
    "duration": 670,
    "start_time": "2025-03-13T17:43:40.079Z"
   },
   {
    "duration": 166,
    "start_time": "2025-03-13T17:43:40.750Z"
   },
   {
    "duration": 157,
    "start_time": "2025-03-13T17:43:40.918Z"
   },
   {
    "duration": 254,
    "start_time": "2025-03-13T17:43:41.077Z"
   },
   {
    "duration": 29,
    "start_time": "2025-03-13T17:43:41.333Z"
   },
   {
    "duration": 20,
    "start_time": "2025-03-13T17:43:41.365Z"
   },
   {
    "duration": 74,
    "start_time": "2025-03-13T17:43:41.387Z"
   },
   {
    "duration": 165,
    "start_time": "2025-03-13T17:43:41.463Z"
   },
   {
    "duration": 427,
    "start_time": "2025-03-13T17:43:41.629Z"
   },
   {
    "duration": 188,
    "start_time": "2025-03-13T17:43:42.058Z"
   },
   {
    "duration": 32,
    "start_time": "2025-03-13T17:43:42.248Z"
   },
   {
    "duration": 7,
    "start_time": "2025-03-13T17:43:42.281Z"
   },
   {
    "duration": 21,
    "start_time": "2025-03-13T17:43:42.289Z"
   },
   {
    "duration": 81,
    "start_time": "2025-03-13T17:43:42.311Z"
   },
   {
    "duration": 17,
    "start_time": "2025-03-13T17:43:42.394Z"
   },
   {
    "duration": 8,
    "start_time": "2025-03-13T17:43:42.412Z"
   },
   {
    "duration": 18,
    "start_time": "2025-03-13T17:43:42.422Z"
   },
   {
    "duration": 111,
    "start_time": "2025-03-13T17:43:42.442Z"
   },
   {
    "duration": 9,
    "start_time": "2025-03-13T17:43:42.555Z"
   },
   {
    "duration": 113,
    "start_time": "2025-03-13T17:43:42.566Z"
   },
   {
    "duration": 8,
    "start_time": "2025-03-13T17:43:42.680Z"
   },
   {
    "duration": 185,
    "start_time": "2025-03-13T17:43:42.703Z"
   },
   {
    "duration": 16,
    "start_time": "2025-03-13T17:43:42.890Z"
   },
   {
    "duration": 127,
    "start_time": "2025-03-13T17:43:42.909Z"
   },
   {
    "duration": 267,
    "start_time": "2025-03-13T17:43:43.037Z"
   },
   {
    "duration": 19,
    "start_time": "2025-03-13T17:43:43.306Z"
   },
   {
    "duration": 49,
    "start_time": "2025-03-13T17:43:43.326Z"
   },
   {
    "duration": 29,
    "start_time": "2025-03-13T17:43:43.377Z"
   },
   {
    "duration": 7,
    "start_time": "2025-03-13T18:01:32.033Z"
   },
   {
    "duration": 19,
    "start_time": "2025-03-13T18:03:51.094Z"
   },
   {
    "duration": 19,
    "start_time": "2025-03-13T18:04:02.139Z"
   },
   {
    "duration": 33,
    "start_time": "2025-03-13T18:06:30.346Z"
   },
   {
    "duration": 32,
    "start_time": "2025-03-13T18:06:37.823Z"
   },
   {
    "duration": 60,
    "start_time": "2025-03-13T18:11:45.009Z"
   },
   {
    "duration": 58,
    "start_time": "2025-03-13T18:15:11.069Z"
   },
   {
    "duration": 58,
    "start_time": "2025-03-13T18:16:21.034Z"
   },
   {
    "duration": 173,
    "start_time": "2025-03-13T18:16:43.887Z"
   },
   {
    "duration": 72,
    "start_time": "2025-03-13T18:16:48.567Z"
   },
   {
    "duration": 57,
    "start_time": "2025-03-13T18:16:55.001Z"
   },
   {
    "duration": 60,
    "start_time": "2025-03-13T18:17:02.791Z"
   },
   {
    "duration": 61,
    "start_time": "2025-03-13T18:17:20.100Z"
   },
   {
    "duration": 56,
    "start_time": "2025-03-13T18:17:43.780Z"
   },
   {
    "duration": 82,
    "start_time": "2025-03-13T18:18:59.960Z"
   },
   {
    "duration": 59,
    "start_time": "2025-03-13T18:19:07.188Z"
   },
   {
    "duration": 82,
    "start_time": "2025-03-13T18:19:25.247Z"
   },
   {
    "duration": 79,
    "start_time": "2025-03-13T18:19:31.569Z"
   },
   {
    "duration": 61,
    "start_time": "2025-03-13T18:19:35.150Z"
   },
   {
    "duration": 57,
    "start_time": "2025-03-13T18:22:29.636Z"
   },
   {
    "duration": 33,
    "start_time": "2025-03-13T19:07:26.166Z"
   },
   {
    "duration": 36,
    "start_time": "2025-03-13T19:10:17.641Z"
   },
   {
    "duration": 103,
    "start_time": "2025-03-13T19:13:57.974Z"
   },
   {
    "duration": 5,
    "start_time": "2025-03-13T19:14:10.810Z"
   },
   {
    "duration": 11,
    "start_time": "2025-03-13T19:15:29.699Z"
   },
   {
    "duration": 6,
    "start_time": "2025-03-13T19:16:05.260Z"
   },
   {
    "duration": 51,
    "start_time": "2025-03-13T19:37:29.821Z"
   },
   {
    "duration": 34,
    "start_time": "2025-03-13T19:37:42.701Z"
   },
   {
    "duration": 36,
    "start_time": "2025-03-13T19:37:48.078Z"
   },
   {
    "duration": 36,
    "start_time": "2025-03-13T19:38:11.005Z"
   },
   {
    "duration": 38,
    "start_time": "2025-03-13T19:38:30.252Z"
   },
   {
    "duration": 37,
    "start_time": "2025-03-13T19:38:37.115Z"
   },
   {
    "duration": 37,
    "start_time": "2025-03-13T19:38:40.879Z"
   },
   {
    "duration": 31,
    "start_time": "2025-03-13T19:38:52.392Z"
   },
   {
    "duration": 36,
    "start_time": "2025-03-13T19:38:56.471Z"
   },
   {
    "duration": 35,
    "start_time": "2025-03-13T19:39:04.864Z"
   },
   {
    "duration": 23,
    "start_time": "2025-03-13T19:39:23.360Z"
   },
   {
    "duration": 31,
    "start_time": "2025-03-13T19:39:31.775Z"
   },
   {
    "duration": 96,
    "start_time": "2025-03-13T20:03:36.710Z"
   },
   {
    "duration": 1419,
    "start_time": "2025-03-14T14:18:47.649Z"
   },
   {
    "duration": 525,
    "start_time": "2025-03-14T14:18:49.070Z"
   },
   {
    "duration": 36,
    "start_time": "2025-03-14T14:18:49.597Z"
   },
   {
    "duration": 277,
    "start_time": "2025-03-14T14:18:49.635Z"
   },
   {
    "duration": 797,
    "start_time": "2025-03-14T14:18:49.914Z"
   },
   {
    "duration": 315,
    "start_time": "2025-03-14T14:18:50.766Z"
   },
   {
    "duration": 171,
    "start_time": "2025-03-14T14:18:51.083Z"
   },
   {
    "duration": 183,
    "start_time": "2025-03-14T14:18:51.256Z"
   },
   {
    "duration": 33,
    "start_time": "2025-03-14T14:18:51.441Z"
   },
   {
    "duration": 18,
    "start_time": "2025-03-14T14:18:51.475Z"
   },
   {
    "duration": 79,
    "start_time": "2025-03-14T14:18:51.495Z"
   },
   {
    "duration": 206,
    "start_time": "2025-03-14T14:18:51.576Z"
   },
   {
    "duration": 442,
    "start_time": "2025-03-14T14:18:51.783Z"
   },
   {
    "duration": 174,
    "start_time": "2025-03-14T14:18:52.228Z"
   },
   {
    "duration": 30,
    "start_time": "2025-03-14T14:18:52.403Z"
   },
   {
    "duration": 5,
    "start_time": "2025-03-14T14:18:52.435Z"
   },
   {
    "duration": 8,
    "start_time": "2025-03-14T14:18:52.442Z"
   },
   {
    "duration": 82,
    "start_time": "2025-03-14T14:18:52.451Z"
   },
   {
    "duration": 10,
    "start_time": "2025-03-14T14:18:52.535Z"
   },
   {
    "duration": 23,
    "start_time": "2025-03-14T14:18:52.547Z"
   },
   {
    "duration": 103,
    "start_time": "2025-03-14T14:18:52.571Z"
   },
   {
    "duration": 8,
    "start_time": "2025-03-14T14:18:52.676Z"
   },
   {
    "duration": 110,
    "start_time": "2025-03-14T14:18:52.686Z"
   },
   {
    "duration": 9,
    "start_time": "2025-03-14T14:18:52.798Z"
   },
   {
    "duration": 132,
    "start_time": "2025-03-14T14:18:52.808Z"
   },
   {
    "duration": 7,
    "start_time": "2025-03-14T14:18:52.942Z"
   },
   {
    "duration": 186,
    "start_time": "2025-03-14T14:18:52.951Z"
   },
   {
    "duration": 247,
    "start_time": "2025-03-14T14:18:53.138Z"
   },
   {
    "duration": 18,
    "start_time": "2025-03-14T14:18:53.387Z"
   },
   {
    "duration": 44,
    "start_time": "2025-03-14T14:18:53.407Z"
   },
   {
    "duration": 19,
    "start_time": "2025-03-14T14:18:53.453Z"
   },
   {
    "duration": 58,
    "start_time": "2025-03-14T14:18:53.474Z"
   },
   {
    "duration": 50,
    "start_time": "2025-03-14T14:18:53.534Z"
   },
   {
    "duration": 9,
    "start_time": "2025-03-14T14:18:53.586Z"
   },
   {
    "duration": 63,
    "start_time": "2025-03-14T14:21:06.947Z"
   },
   {
    "duration": 154,
    "start_time": "2025-03-14T14:21:08.547Z"
   },
   {
    "duration": 150,
    "start_time": "2025-03-14T14:23:25.355Z"
   },
   {
    "duration": 62,
    "start_time": "2025-03-14T14:23:28.238Z"
   },
   {
    "duration": 153,
    "start_time": "2025-03-14T14:23:28.464Z"
   },
   {
    "duration": 79,
    "start_time": "2025-03-14T14:25:41.632Z"
   },
   {
    "duration": 54,
    "start_time": "2025-03-14T18:13:55.656Z"
   },
   {
    "duration": 1480,
    "start_time": "2025-03-14T18:14:01.467Z"
   },
   {
    "duration": 602,
    "start_time": "2025-03-14T18:14:02.948Z"
   },
   {
    "duration": 41,
    "start_time": "2025-03-14T18:14:03.552Z"
   },
   {
    "duration": 266,
    "start_time": "2025-03-14T18:14:03.595Z"
   },
   {
    "duration": 591,
    "start_time": "2025-03-14T18:14:03.863Z"
   },
   {
    "duration": 154,
    "start_time": "2025-03-14T18:14:04.456Z"
   },
   {
    "duration": 152,
    "start_time": "2025-03-14T18:14:04.611Z"
   },
   {
    "duration": 261,
    "start_time": "2025-03-14T18:14:04.765Z"
   },
   {
    "duration": 35,
    "start_time": "2025-03-14T18:14:05.028Z"
   },
   {
    "duration": 18,
    "start_time": "2025-03-14T18:14:05.066Z"
   },
   {
    "duration": 87,
    "start_time": "2025-03-14T18:14:05.085Z"
   },
   {
    "duration": 154,
    "start_time": "2025-03-14T18:14:05.174Z"
   },
   {
    "duration": 478,
    "start_time": "2025-03-14T18:14:05.330Z"
   },
   {
    "duration": 182,
    "start_time": "2025-03-14T18:14:05.810Z"
   },
   {
    "duration": 31,
    "start_time": "2025-03-14T18:14:05.994Z"
   },
   {
    "duration": 6,
    "start_time": "2025-03-14T18:14:06.026Z"
   },
   {
    "duration": 3,
    "start_time": "2025-03-14T18:14:06.034Z"
   },
   {
    "duration": 88,
    "start_time": "2025-03-14T18:14:06.039Z"
   },
   {
    "duration": 12,
    "start_time": "2025-03-14T18:14:06.129Z"
   },
   {
    "duration": 23,
    "start_time": "2025-03-14T18:14:06.142Z"
   },
   {
    "duration": 127,
    "start_time": "2025-03-14T18:14:06.167Z"
   },
   {
    "duration": 8,
    "start_time": "2025-03-14T18:14:06.296Z"
   },
   {
    "duration": 109,
    "start_time": "2025-03-14T18:14:06.306Z"
   },
   {
    "duration": 8,
    "start_time": "2025-03-14T18:14:06.417Z"
   },
   {
    "duration": 189,
    "start_time": "2025-03-14T18:14:06.427Z"
   },
   {
    "duration": 7,
    "start_time": "2025-03-14T18:14:06.618Z"
   },
   {
    "duration": 123,
    "start_time": "2025-03-14T18:14:06.627Z"
   },
   {
    "duration": 250,
    "start_time": "2025-03-14T18:14:06.753Z"
   },
   {
    "duration": 17,
    "start_time": "2025-03-14T18:14:07.005Z"
   },
   {
    "duration": 64,
    "start_time": "2025-03-14T18:14:07.023Z"
   },
   {
    "duration": 7,
    "start_time": "2025-03-14T18:14:07.089Z"
   },
   {
    "duration": 79,
    "start_time": "2025-03-14T18:14:07.098Z"
   },
   {
    "duration": 29,
    "start_time": "2025-03-14T18:14:07.179Z"
   },
   {
    "duration": 35,
    "start_time": "2025-03-14T18:14:07.210Z"
   },
   {
    "duration": 8,
    "start_time": "2025-03-14T18:27:51.966Z"
   },
   {
    "duration": 10,
    "start_time": "2025-03-14T18:29:32.791Z"
   },
   {
    "duration": 9,
    "start_time": "2025-03-14T18:32:28.194Z"
   },
   {
    "duration": 8,
    "start_time": "2025-03-14T18:33:28.176Z"
   },
   {
    "duration": 87,
    "start_time": "2025-03-14T18:33:34.270Z"
   },
   {
    "duration": 86,
    "start_time": "2025-03-14T18:33:38.833Z"
   },
   {
    "duration": 8,
    "start_time": "2025-03-14T18:40:16.284Z"
   },
   {
    "duration": 9,
    "start_time": "2025-03-14T18:40:19.347Z"
   },
   {
    "duration": 8,
    "start_time": "2025-03-14T18:40:24.709Z"
   },
   {
    "duration": 105,
    "start_time": "2025-03-14T18:40:28.568Z"
   },
   {
    "duration": 8,
    "start_time": "2025-03-14T18:40:44.728Z"
   },
   {
    "duration": 105,
    "start_time": "2025-03-14T18:40:49.934Z"
   },
   {
    "duration": 105,
    "start_time": "2025-03-14T18:41:53.922Z"
   },
   {
    "duration": 8,
    "start_time": "2025-03-14T18:41:57.180Z"
   },
   {
    "duration": 8,
    "start_time": "2025-03-14T18:41:59.475Z"
   },
   {
    "duration": 5,
    "start_time": "2025-03-14T18:58:16.964Z"
   },
   {
    "duration": 6,
    "start_time": "2025-03-14T18:58:20.666Z"
   },
   {
    "duration": 7,
    "start_time": "2025-03-14T19:10:04.302Z"
   },
   {
    "duration": 1546,
    "start_time": "2025-03-14T19:16:41.036Z"
   },
   {
    "duration": 645,
    "start_time": "2025-03-14T19:16:42.584Z"
   },
   {
    "duration": 44,
    "start_time": "2025-03-14T19:16:43.231Z"
   },
   {
    "duration": 214,
    "start_time": "2025-03-14T19:16:43.278Z"
   },
   {
    "duration": 431,
    "start_time": "2025-03-14T19:16:43.493Z"
   },
   {
    "duration": 159,
    "start_time": "2025-03-14T19:16:43.926Z"
   },
   {
    "duration": 155,
    "start_time": "2025-03-14T19:16:44.086Z"
   },
   {
    "duration": 180,
    "start_time": "2025-03-14T19:16:44.243Z"
   },
   {
    "duration": 38,
    "start_time": "2025-03-14T19:16:44.425Z"
   },
   {
    "duration": 19,
    "start_time": "2025-03-14T19:16:44.466Z"
   },
   {
    "duration": 82,
    "start_time": "2025-03-14T19:16:44.487Z"
   },
   {
    "duration": 209,
    "start_time": "2025-03-14T19:16:44.571Z"
   },
   {
    "duration": 430,
    "start_time": "2025-03-14T19:16:44.782Z"
   },
   {
    "duration": 176,
    "start_time": "2025-03-14T19:16:45.213Z"
   },
   {
    "duration": 31,
    "start_time": "2025-03-14T19:16:45.390Z"
   },
   {
    "duration": 48,
    "start_time": "2025-03-14T19:16:45.422Z"
   },
   {
    "duration": 25,
    "start_time": "2025-03-14T19:16:45.472Z"
   },
   {
    "duration": 107,
    "start_time": "2025-03-14T19:16:45.499Z"
   },
   {
    "duration": 11,
    "start_time": "2025-03-14T19:16:45.607Z"
   },
   {
    "duration": 7,
    "start_time": "2025-03-14T19:16:45.620Z"
   },
   {
    "duration": 117,
    "start_time": "2025-03-14T19:16:45.629Z"
   },
   {
    "duration": 19,
    "start_time": "2025-03-14T19:16:45.749Z"
   },
   {
    "duration": 138,
    "start_time": "2025-03-14T19:16:45.770Z"
   },
   {
    "duration": 14,
    "start_time": "2025-03-14T19:16:45.909Z"
   },
   {
    "duration": 174,
    "start_time": "2025-03-14T19:16:45.925Z"
   },
   {
    "duration": 9,
    "start_time": "2025-03-14T19:16:46.101Z"
   },
   {
    "duration": 216,
    "start_time": "2025-03-14T19:16:46.112Z"
   },
   {
    "duration": 268,
    "start_time": "2025-03-14T19:16:46.331Z"
   },
   {
    "duration": 18,
    "start_time": "2025-03-14T19:16:46.600Z"
   },
   {
    "duration": 168,
    "start_time": "2025-03-14T19:16:46.620Z"
   },
   {
    "duration": 6,
    "start_time": "2025-03-14T19:16:46.790Z"
   },
   {
    "duration": 85,
    "start_time": "2025-03-14T19:16:46.798Z"
   },
   {
    "duration": 33,
    "start_time": "2025-03-14T19:16:46.885Z"
   },
   {
    "duration": 8,
    "start_time": "2025-03-14T19:16:46.919Z"
   },
   {
    "duration": 5,
    "start_time": "2025-03-14T19:30:48.946Z"
   },
   {
    "duration": 5,
    "start_time": "2025-03-14T19:30:55.831Z"
   },
   {
    "duration": 1509,
    "start_time": "2025-03-14T19:47:50.734Z"
   },
   {
    "duration": 617,
    "start_time": "2025-03-14T19:47:52.245Z"
   },
   {
    "duration": 40,
    "start_time": "2025-03-14T19:47:52.863Z"
   },
   {
    "duration": 209,
    "start_time": "2025-03-14T19:47:52.905Z"
   },
   {
    "duration": 434,
    "start_time": "2025-03-14T19:47:53.116Z"
   },
   {
    "duration": 157,
    "start_time": "2025-03-14T19:47:53.552Z"
   },
   {
    "duration": 144,
    "start_time": "2025-03-14T19:47:53.711Z"
   },
   {
    "duration": 177,
    "start_time": "2025-03-14T19:47:53.861Z"
   },
   {
    "duration": 38,
    "start_time": "2025-03-14T19:47:54.040Z"
   },
   {
    "duration": 86,
    "start_time": "2025-03-14T19:47:54.080Z"
   },
   {
    "duration": 70,
    "start_time": "2025-03-14T19:47:54.168Z"
   },
   {
    "duration": 218,
    "start_time": "2025-03-14T19:47:54.240Z"
   },
   {
    "duration": 441,
    "start_time": "2025-03-14T19:47:54.459Z"
   },
   {
    "duration": 189,
    "start_time": "2025-03-14T19:47:54.902Z"
   },
   {
    "duration": 30,
    "start_time": "2025-03-14T19:47:55.093Z"
   },
   {
    "duration": 6,
    "start_time": "2025-03-14T19:47:55.125Z"
   },
   {
    "duration": 12,
    "start_time": "2025-03-14T19:47:55.132Z"
   },
   {
    "duration": 108,
    "start_time": "2025-03-14T19:47:55.146Z"
   },
   {
    "duration": 11,
    "start_time": "2025-03-14T19:47:55.255Z"
   },
   {
    "duration": 20,
    "start_time": "2025-03-14T19:47:55.268Z"
   },
   {
    "duration": 97,
    "start_time": "2025-03-14T19:47:55.290Z"
   },
   {
    "duration": 8,
    "start_time": "2025-03-14T19:47:55.389Z"
   },
   {
    "duration": 103,
    "start_time": "2025-03-14T19:47:55.399Z"
   },
   {
    "duration": 9,
    "start_time": "2025-03-14T19:47:55.503Z"
   },
   {
    "duration": 126,
    "start_time": "2025-03-14T19:47:55.513Z"
   },
   {
    "duration": 9,
    "start_time": "2025-03-14T19:47:55.640Z"
   },
   {
    "duration": 215,
    "start_time": "2025-03-14T19:47:55.650Z"
   },
   {
    "duration": 261,
    "start_time": "2025-03-14T19:47:55.868Z"
   },
   {
    "duration": 18,
    "start_time": "2025-03-14T19:47:56.131Z"
   },
   {
    "duration": 58,
    "start_time": "2025-03-14T19:47:56.151Z"
   },
   {
    "duration": 7,
    "start_time": "2025-03-14T19:47:56.210Z"
   },
   {
    "duration": 92,
    "start_time": "2025-03-14T19:47:56.219Z"
   },
   {
    "duration": 34,
    "start_time": "2025-03-14T19:47:56.312Z"
   },
   {
    "duration": 19,
    "start_time": "2025-03-14T19:47:56.348Z"
   },
   {
    "duration": 1438,
    "start_time": "2025-03-15T12:39:40.503Z"
   },
   {
    "duration": 657,
    "start_time": "2025-03-15T12:39:41.943Z"
   },
   {
    "duration": 47,
    "start_time": "2025-03-15T12:39:42.601Z"
   },
   {
    "duration": 190,
    "start_time": "2025-03-15T12:39:42.650Z"
   },
   {
    "duration": 430,
    "start_time": "2025-03-15T12:39:42.842Z"
   },
   {
    "duration": 166,
    "start_time": "2025-03-15T12:39:43.274Z"
   },
   {
    "duration": 150,
    "start_time": "2025-03-15T12:39:43.441Z"
   },
   {
    "duration": 179,
    "start_time": "2025-03-15T12:39:43.592Z"
   },
   {
    "duration": 86,
    "start_time": "2025-03-15T12:39:43.773Z"
   },
   {
    "duration": 74,
    "start_time": "2025-03-15T12:39:43.863Z"
   },
   {
    "duration": 112,
    "start_time": "2025-03-15T12:39:43.939Z"
   },
   {
    "duration": 418,
    "start_time": "2025-03-15T12:39:44.052Z"
   },
   {
    "duration": 684,
    "start_time": "2025-03-15T12:39:44.472Z"
   },
   {
    "duration": 252,
    "start_time": "2025-03-15T12:39:45.157Z"
   },
   {
    "duration": 38,
    "start_time": "2025-03-15T12:39:45.411Z"
   },
   {
    "duration": 6,
    "start_time": "2025-03-15T12:39:45.450Z"
   },
   {
    "duration": 3,
    "start_time": "2025-03-15T12:39:45.457Z"
   },
   {
    "duration": 82,
    "start_time": "2025-03-15T12:39:45.461Z"
   },
   {
    "duration": 10,
    "start_time": "2025-03-15T12:39:45.545Z"
   },
   {
    "duration": 7,
    "start_time": "2025-03-15T12:39:45.556Z"
   },
   {
    "duration": 108,
    "start_time": "2025-03-15T12:39:45.564Z"
   },
   {
    "duration": 7,
    "start_time": "2025-03-15T12:39:45.674Z"
   },
   {
    "duration": 90,
    "start_time": "2025-03-15T12:39:45.682Z"
   },
   {
    "duration": 7,
    "start_time": "2025-03-15T12:39:45.774Z"
   },
   {
    "duration": 142,
    "start_time": "2025-03-15T12:39:45.782Z"
   },
   {
    "duration": 15,
    "start_time": "2025-03-15T12:39:45.926Z"
   },
   {
    "duration": 161,
    "start_time": "2025-03-15T12:39:45.942Z"
   },
   {
    "duration": 229,
    "start_time": "2025-03-15T12:39:46.106Z"
   },
   {
    "duration": 16,
    "start_time": "2025-03-15T12:39:46.337Z"
   },
   {
    "duration": 42,
    "start_time": "2025-03-15T12:39:46.355Z"
   },
   {
    "duration": 6,
    "start_time": "2025-03-15T12:39:46.399Z"
   },
   {
    "duration": 74,
    "start_time": "2025-03-15T12:39:46.406Z"
   },
   {
    "duration": 34,
    "start_time": "2025-03-15T12:39:46.482Z"
   },
   {
    "duration": 12,
    "start_time": "2025-03-15T12:39:46.537Z"
   },
   {
    "duration": 5,
    "start_time": "2025-03-15T12:43:41.710Z"
   },
   {
    "duration": 5,
    "start_time": "2025-03-15T12:44:08.065Z"
   },
   {
    "duration": 5,
    "start_time": "2025-03-15T12:53:42.691Z"
   },
   {
    "duration": 6,
    "start_time": "2025-03-15T12:53:58.215Z"
   },
   {
    "duration": 887,
    "start_time": "2025-03-15T21:06:20.013Z"
   },
   {
    "duration": 1465,
    "start_time": "2025-03-15T21:06:32.769Z"
   },
   {
    "duration": 592,
    "start_time": "2025-03-15T21:06:34.236Z"
   },
   {
    "duration": 41,
    "start_time": "2025-03-15T21:06:34.830Z"
   },
   {
    "duration": 194,
    "start_time": "2025-03-15T21:06:34.873Z"
   },
   {
    "duration": 557,
    "start_time": "2025-03-15T21:06:35.068Z"
   },
   {
    "duration": 157,
    "start_time": "2025-03-15T21:06:35.627Z"
   },
   {
    "duration": 147,
    "start_time": "2025-03-15T21:06:35.786Z"
   },
   {
    "duration": 236,
    "start_time": "2025-03-15T21:06:35.935Z"
   },
   {
    "duration": 28,
    "start_time": "2025-03-15T21:06:36.173Z"
   },
   {
    "duration": 30,
    "start_time": "2025-03-15T21:06:36.204Z"
   },
   {
    "duration": 92,
    "start_time": "2025-03-15T21:06:36.235Z"
   },
   {
    "duration": 136,
    "start_time": "2025-03-15T21:06:36.329Z"
   },
   {
    "duration": 424,
    "start_time": "2025-03-15T21:06:36.466Z"
   },
   {
    "duration": 179,
    "start_time": "2025-03-15T21:06:36.892Z"
   },
   {
    "duration": 29,
    "start_time": "2025-03-15T21:06:37.073Z"
   },
   {
    "duration": 6,
    "start_time": "2025-03-15T21:06:37.104Z"
   },
   {
    "duration": 3,
    "start_time": "2025-03-15T21:06:37.111Z"
   },
   {
    "duration": 97,
    "start_time": "2025-03-15T21:06:37.116Z"
   },
   {
    "duration": 12,
    "start_time": "2025-03-15T21:06:37.215Z"
   },
   {
    "duration": 65,
    "start_time": "2025-03-15T21:06:37.229Z"
   },
   {
    "duration": 82,
    "start_time": "2025-03-15T21:06:37.296Z"
   },
   {
    "duration": 8,
    "start_time": "2025-03-15T21:06:37.379Z"
   },
   {
    "duration": 93,
    "start_time": "2025-03-15T21:06:37.388Z"
   },
   {
    "duration": 7,
    "start_time": "2025-03-15T21:06:37.483Z"
   },
   {
    "duration": 225,
    "start_time": "2025-03-15T21:06:37.492Z"
   },
   {
    "duration": 8,
    "start_time": "2025-03-15T21:06:37.719Z"
   },
   {
    "duration": 114,
    "start_time": "2025-03-15T21:06:37.728Z"
   },
   {
    "duration": 250,
    "start_time": "2025-03-15T21:06:37.845Z"
   },
   {
    "duration": 17,
    "start_time": "2025-03-15T21:06:38.097Z"
   },
   {
    "duration": 59,
    "start_time": "2025-03-15T21:06:38.115Z"
   },
   {
    "duration": 7,
    "start_time": "2025-03-15T21:06:38.175Z"
   },
   {
    "duration": 76,
    "start_time": "2025-03-15T21:06:38.183Z"
   },
   {
    "duration": 29,
    "start_time": "2025-03-15T21:06:38.260Z"
   },
   {
    "duration": 8,
    "start_time": "2025-03-15T21:06:38.290Z"
   },
   {
    "duration": 5,
    "start_time": "2025-03-15T21:12:01.830Z"
   },
   {
    "duration": 1089,
    "start_time": "2025-04-20T14:11:45.157Z"
   },
   {
    "duration": 1030,
    "start_time": "2025-04-20T14:11:46.248Z"
   },
   {
    "duration": 576,
    "start_time": "2025-04-20T14:11:47.279Z"
   },
   {
    "duration": 36,
    "start_time": "2025-04-20T14:11:47.857Z"
   },
   {
    "duration": 189,
    "start_time": "2025-04-20T14:11:47.894Z"
   },
   {
    "duration": 184,
    "start_time": "2025-04-20T14:11:48.085Z"
   },
   {
    "duration": 154,
    "start_time": "2025-04-20T14:11:48.271Z"
   },
   {
    "duration": 149,
    "start_time": "2025-04-20T14:11:48.427Z"
   },
   {
    "duration": 175,
    "start_time": "2025-04-20T14:11:48.578Z"
   },
   {
    "duration": 26,
    "start_time": "2025-04-20T14:11:48.756Z"
   },
   {
    "duration": 16,
    "start_time": "2025-04-20T14:11:48.784Z"
   },
   {
    "duration": 81,
    "start_time": "2025-04-20T14:11:48.802Z"
   },
   {
    "duration": 153,
    "start_time": "2025-04-20T14:11:48.884Z"
   },
   {
    "duration": 15,
    "start_time": "2025-04-20T14:11:49.038Z"
   },
   {
    "duration": 165,
    "start_time": "2025-04-20T14:11:49.054Z"
   },
   {
    "duration": 32,
    "start_time": "2025-04-20T14:11:49.221Z"
   },
   {
    "duration": 6,
    "start_time": "2025-04-20T14:11:49.255Z"
   },
   {
    "duration": 5,
    "start_time": "2025-04-20T14:11:49.263Z"
   },
   {
    "duration": 95,
    "start_time": "2025-04-20T14:11:49.269Z"
   },
   {
    "duration": 10,
    "start_time": "2025-04-20T14:11:49.366Z"
   },
   {
    "duration": 7,
    "start_time": "2025-04-20T14:11:49.378Z"
   },
   {
    "duration": 105,
    "start_time": "2025-04-20T14:11:49.386Z"
   },
   {
    "duration": 8,
    "start_time": "2025-04-20T14:11:49.492Z"
   },
   {
    "duration": 109,
    "start_time": "2025-04-20T14:11:49.502Z"
   },
   {
    "duration": 8,
    "start_time": "2025-04-20T14:11:49.613Z"
   },
   {
    "duration": 109,
    "start_time": "2025-04-20T14:11:49.635Z"
   },
   {
    "duration": 8,
    "start_time": "2025-04-20T14:11:49.746Z"
   },
   {
    "duration": 233,
    "start_time": "2025-04-20T14:11:49.757Z"
   },
   {
    "duration": 240,
    "start_time": "2025-04-20T14:11:49.991Z"
   },
   {
    "duration": 18,
    "start_time": "2025-04-20T14:11:50.234Z"
   },
   {
    "duration": 44,
    "start_time": "2025-04-20T14:11:50.254Z"
   },
   {
    "duration": 7,
    "start_time": "2025-04-20T14:11:50.300Z"
   },
   {
    "duration": 81,
    "start_time": "2025-04-20T14:11:50.309Z"
   },
   {
    "duration": 44,
    "start_time": "2025-04-20T14:11:50.391Z"
   },
   {
    "duration": 5,
    "start_time": "2025-04-20T14:11:50.437Z"
   },
   {
    "duration": 73,
    "start_time": "2025-04-20T14:43:22.549Z"
   },
   {
    "duration": 1262,
    "start_time": "2025-04-20T14:46:01.763Z"
   },
   {
    "duration": 1098,
    "start_time": "2025-04-20T14:46:03.027Z"
   },
   {
    "duration": 638,
    "start_time": "2025-04-20T14:46:04.126Z"
   },
   {
    "duration": 38,
    "start_time": "2025-04-20T14:46:04.766Z"
   },
   {
    "duration": 219,
    "start_time": "2025-04-20T14:46:04.806Z"
   },
   {
    "duration": 194,
    "start_time": "2025-04-20T14:46:05.027Z"
   },
   {
    "duration": 160,
    "start_time": "2025-04-20T14:46:05.223Z"
   },
   {
    "duration": 142,
    "start_time": "2025-04-20T14:46:05.385Z"
   },
   {
    "duration": 185,
    "start_time": "2025-04-20T14:46:05.529Z"
   },
   {
    "duration": 56,
    "start_time": "2025-04-20T14:46:05.719Z"
   },
   {
    "duration": 18,
    "start_time": "2025-04-20T14:46:05.777Z"
   },
   {
    "duration": 79,
    "start_time": "2025-04-20T14:46:05.797Z"
   },
   {
    "duration": 151,
    "start_time": "2025-04-20T14:46:05.878Z"
   },
   {
    "duration": 27,
    "start_time": "2025-04-20T14:46:06.031Z"
   },
   {
    "duration": 255,
    "start_time": "2025-04-20T14:46:06.060Z"
   },
   {
    "duration": 33,
    "start_time": "2025-04-20T14:46:06.317Z"
   },
   {
    "duration": 6,
    "start_time": "2025-04-20T14:46:06.352Z"
   },
   {
    "duration": 9,
    "start_time": "2025-04-20T14:46:06.360Z"
   },
   {
    "duration": 87,
    "start_time": "2025-04-20T14:46:06.371Z"
   },
   {
    "duration": 11,
    "start_time": "2025-04-20T14:46:06.460Z"
   },
   {
    "duration": 13,
    "start_time": "2025-04-20T14:46:06.472Z"
   },
   {
    "duration": 253,
    "start_time": "2025-04-20T14:46:06.487Z"
   },
   {
    "duration": 9,
    "start_time": "2025-04-20T14:46:06.741Z"
   },
   {
    "duration": 105,
    "start_time": "2025-04-20T14:46:06.751Z"
   },
   {
    "duration": 7,
    "start_time": "2025-04-20T14:46:06.858Z"
   },
   {
    "duration": 133,
    "start_time": "2025-04-20T14:46:06.866Z"
   },
   {
    "duration": 9,
    "start_time": "2025-04-20T14:46:07.001Z"
   },
   {
    "duration": 201,
    "start_time": "2025-04-20T14:46:07.014Z"
   },
   {
    "duration": 253,
    "start_time": "2025-04-20T14:46:07.217Z"
   },
   {
    "duration": 19,
    "start_time": "2025-04-20T14:46:07.472Z"
   },
   {
    "duration": 66,
    "start_time": "2025-04-20T14:46:07.493Z"
   },
   {
    "duration": 6,
    "start_time": "2025-04-20T14:46:07.561Z"
   },
   {
    "duration": 80,
    "start_time": "2025-04-20T14:46:07.569Z"
   },
   {
    "duration": 31,
    "start_time": "2025-04-20T14:46:07.651Z"
   },
   {
    "duration": 6,
    "start_time": "2025-04-20T14:46:07.684Z"
   },
   {
    "duration": 17,
    "start_time": "2025-04-20T14:47:16.854Z"
   },
   {
    "duration": 1106,
    "start_time": "2025-04-20T14:47:38.108Z"
   },
   {
    "duration": 1069,
    "start_time": "2025-04-20T14:47:39.217Z"
   },
   {
    "duration": 648,
    "start_time": "2025-04-20T14:47:40.288Z"
   },
   {
    "duration": 37,
    "start_time": "2025-04-20T14:47:40.937Z"
   },
   {
    "duration": 207,
    "start_time": "2025-04-20T14:47:40.976Z"
   },
   {
    "duration": 197,
    "start_time": "2025-04-20T14:47:41.185Z"
   },
   {
    "duration": 165,
    "start_time": "2025-04-20T14:47:41.384Z"
   },
   {
    "duration": 148,
    "start_time": "2025-04-20T14:47:41.551Z"
   },
   {
    "duration": 180,
    "start_time": "2025-04-20T14:47:41.700Z"
   },
   {
    "duration": 28,
    "start_time": "2025-04-20T14:47:41.883Z"
   },
   {
    "duration": 30,
    "start_time": "2025-04-20T14:47:41.913Z"
   },
   {
    "duration": 66,
    "start_time": "2025-04-20T14:47:41.945Z"
   },
   {
    "duration": 157,
    "start_time": "2025-04-20T14:47:42.013Z"
   },
   {
    "duration": 14,
    "start_time": "2025-04-20T14:47:42.171Z"
   },
   {
    "duration": 178,
    "start_time": "2025-04-20T14:47:42.187Z"
   },
   {
    "duration": 32,
    "start_time": "2025-04-20T14:47:42.367Z"
   },
   {
    "duration": 7,
    "start_time": "2025-04-20T14:47:42.401Z"
   },
   {
    "duration": 4,
    "start_time": "2025-04-20T14:47:42.409Z"
   },
   {
    "duration": 89,
    "start_time": "2025-04-20T14:47:42.414Z"
   },
   {
    "duration": 10,
    "start_time": "2025-04-20T14:47:42.505Z"
   },
   {
    "duration": 64,
    "start_time": "2025-04-20T14:47:42.517Z"
   },
   {
    "duration": 163,
    "start_time": "2025-04-20T14:47:42.582Z"
   },
   {
    "duration": 9,
    "start_time": "2025-04-20T14:47:42.747Z"
   },
   {
    "duration": 108,
    "start_time": "2025-04-20T14:47:42.758Z"
   },
   {
    "duration": 8,
    "start_time": "2025-04-20T14:47:42.868Z"
   },
   {
    "duration": 122,
    "start_time": "2025-04-20T14:47:42.877Z"
   },
   {
    "duration": 8,
    "start_time": "2025-04-20T14:47:43.001Z"
   },
   {
    "duration": 187,
    "start_time": "2025-04-20T14:47:43.012Z"
   },
   {
    "duration": 252,
    "start_time": "2025-04-20T14:47:43.200Z"
   },
   {
    "duration": 18,
    "start_time": "2025-04-20T14:47:43.454Z"
   },
   {
    "duration": 63,
    "start_time": "2025-04-20T14:47:43.474Z"
   },
   {
    "duration": 7,
    "start_time": "2025-04-20T14:47:43.539Z"
   },
   {
    "duration": 62,
    "start_time": "2025-04-20T14:47:43.548Z"
   },
   {
    "duration": 31,
    "start_time": "2025-04-20T14:47:43.636Z"
   },
   {
    "duration": 4,
    "start_time": "2025-04-20T14:47:43.669Z"
   }
  ],
  "colab": {
   "provenance": []
  },
  "kernelspec": {
   "display_name": "Python 3 (ipykernel)",
   "language": "python",
   "name": "python3"
  },
  "language_info": {
   "codemirror_mode": {
    "name": "ipython",
    "version": 3
   },
   "file_extension": ".py",
   "mimetype": "text/x-python",
   "name": "python",
   "nbconvert_exporter": "python",
   "pygments_lexer": "ipython3",
   "version": "3.9.5"
  },
  "toc": {
   "base_numbering": 1,
   "nav_menu": {
    "height": "237px",
    "width": "267px"
   },
   "number_sections": true,
   "sideBar": true,
   "skip_h1_title": true,
   "title_cell": "Table of Contents",
   "title_sidebar": "Contents",
   "toc_cell": false,
   "toc_position": {
    "height": "calc(100% - 180px)",
    "left": "10px",
    "top": "150px",
    "width": "359.391px"
   },
   "toc_section_display": true,
   "toc_window_display": true
  }
 },
 "nbformat": 4,
 "nbformat_minor": 1
}
