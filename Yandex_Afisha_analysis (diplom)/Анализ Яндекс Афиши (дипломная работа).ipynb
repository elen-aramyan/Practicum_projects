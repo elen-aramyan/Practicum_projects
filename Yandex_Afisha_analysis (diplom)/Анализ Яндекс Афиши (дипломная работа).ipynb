{
 "cells": [
  {
   "cell_type": "markdown",
   "metadata": {
    "id": "LMuaGIE3lGcr"
   },
   "source": [
    "# Исследовательский анализ данных  сервиса Яндекс.Афиши в Python и проверка гипотез"
   ]
  },
  {
   "cell_type": "markdown",
   "metadata": {},
   "source": [
    "**Автор: Арамян Элен**\n",
    "\n",
    "**Дата: 01.04.2025**"
   ]
  },
  {
   "cell_type": "markdown",
   "metadata": {},
   "source": [
    "##   Описание данных\n",
    "Первый датасет final_tickets_orders_df.csv включает информацию обо всех заказах билетов:\n",
    "+ order_id — уникальный идентификатор заказа.\n",
    "+ user_id — уникальный идентификатор пользователя.\n",
    "+ created_dt_msk — дата создания заказа (московское время).\n",
    "+ created_ts_msk — дата и время создания заказа (московское время).\n",
    "+ event_id — идентификатор мероприятия из таблицы events.\n",
    "+ cinema_circuit — сеть кинотеатров. Если не применимо, то здесь будет значение 'нет'.\n",
    "+ age_limit — возрастное ограничение мероприятия.\n",
    "+ currency_code — валюта оплаты, например rub для российских рублей.\n",
    "+ device_type_canonical — тип устройства, с которого был оформлен заказ, например mobile для мобильных устройств, desktop для стационарных.\n",
    "+ revenue — выручка от заказа.\n",
    "+ service_name — название билетного оператора.\n",
    "+ tickets_count — количество купленных билетов.\n",
    "+ total — общая сумма заказа.\n",
    "+ days_since_prev - количество дней с предыдущей покупки для каждого пользователя. Если покупки не было, то данные содержат пропуск.\n",
    "\n",
    "Второй датасет final_tickets_events_df содержит информацию о событиях, включая город и регион события, а также информацию о площадке проведения мероприятия. Датасет содержит такие поля:\n",
    "+ event_id — уникальный идентификатор мероприятия.\n",
    "+ event_name — название мероприятия. Аналог поля event_name_code из исходной базы данных.\n",
    "+ event_type_description — описание типа мероприятия.\n",
    "+ event_type_main — основной тип мероприятия: театральная постановка, концерт и так далее.\n",
    "+ organizers — организаторы мероприятия.\n",
    "+ region_name — название региона.\n",
    "+ city_name — название города.\n",
    "+ venue_id — уникальный идентификатор площадки.\n",
    "+ venue_name — название площадки.\n",
    "+ venue_address — адрес площадки.\n",
    "\n",
    "Датасет final_tickets_tenge_df.csv с информацией о курсе тенге к российскому рублю за 2024 год. Значения в рублях представлено для 100 тенге. Датасет содержит такие поля:\n",
    "+ nominal — номинал (100 тенге).\n",
    "+ data — дата.\n",
    "+ curs — курс тенге к рублю.\n",
    "+ cdx — обозначение валюты (kzt)."
   ]
  },
  {
   "cell_type": "markdown",
   "metadata": {},
   "source": [
    "## Цели и задачи проекта\n",
    "\n",
    "**Цель:** проведение исследовательского анализа данных в Python, чтобы выявить инсайты об изменении пользовательских предпочтений и популярности событий осенью 2024 года, а также проверить гипотезы о разнице в поведении пользователей с мобильными и стационарными устройствами.\n",
    "\n",
    "**Задачи:**\n",
    "1) загрузка данных и знакомство с ними\n",
    "\n",
    "2) предобработка данных и их нормализация\n",
    "\n",
    "3) исследовательский анализ данных\n",
    "\n",
    "3) проверка гипотез о поведении пользовательей мобильной и десктопной приложений"
   ]
  },
  {
   "cell_type": "markdown",
   "metadata": {},
   "source": [
    "## Содержание проекта\n",
    "1. Загрузка данных и знакомство с ними\n",
    "\n",
    "2. Предобработка данных и подготовка их к исследованию\n",
    "\n",
    "3. Исследовательский анализ данных\n",
    "\n",
    "    3.1. Анализ распределения заказов по сегментам и их сезонные изменения\n",
    "    \n",
    "    3.2. Осенняя активность пользователей\n",
    "    \n",
    "    3.3. Популярные события и партнёры\n",
    "    \n",
    "\n",
    "4. Статистический анализ данных\n",
    "\n",
    "5. Общий вывод и рекомендации"
   ]
  },
  {
   "cell_type": "markdown",
   "metadata": {},
   "source": [
    "## Загрузка данных и знакомство с ними (шаг 1) "
   ]
  },
  {
   "cell_type": "markdown",
   "metadata": {},
   "source": [
    "Загрузите данные и получите первую информацию о них. Оцените объём данных, их корректность и соответствие описанию, а также предположите, какие шаги необходимо сделать на стадии предобработки данных. Основные моменты зафиксируйте в промежуточном выводе. "
   ]
  },
  {
   "cell_type": "code",
   "execution_count": 1,
   "metadata": {},
   "outputs": [],
   "source": [
    "# Импортируем библиотеки\n",
    "import pandas as pd\n",
    "import matplotlib.pyplot as plt\n",
    "import seaborn as sns\n",
    "from scipy.stats import ttest_ind, mannwhitneyu"
   ]
  },
  {
   "cell_type": "code",
   "execution_count": 2,
   "metadata": {},
   "outputs": [],
   "source": [
    "# Загружаем данные в датасеты\n",
    "URL = '/datasets/'\n",
    "purchases = pd.read_csv(URL + 'final_tickets_orders_df.csv')\n",
    "events = pd.read_csv(URL + 'final_tickets_events_df.csv')\n",
    "tenge = pd.read_csv(URL + 'final_tickets_tenge_df.csv')"
   ]
  },
  {
   "cell_type": "markdown",
   "metadata": {},
   "source": [
    "Изучим датасет **purchases**"
   ]
  },
  {
   "cell_type": "code",
   "execution_count": 3,
   "metadata": {},
   "outputs": [
    {
     "data": {
      "text/html": [
       "<div>\n",
       "<style scoped>\n",
       "    .dataframe tbody tr th:only-of-type {\n",
       "        vertical-align: middle;\n",
       "    }\n",
       "\n",
       "    .dataframe tbody tr th {\n",
       "        vertical-align: top;\n",
       "    }\n",
       "\n",
       "    .dataframe thead th {\n",
       "        text-align: right;\n",
       "    }\n",
       "</style>\n",
       "<table border=\"1\" class=\"dataframe\">\n",
       "  <thead>\n",
       "    <tr style=\"text-align: right;\">\n",
       "      <th></th>\n",
       "      <th>order_id</th>\n",
       "      <th>user_id</th>\n",
       "      <th>created_dt_msk</th>\n",
       "      <th>created_ts_msk</th>\n",
       "      <th>event_id</th>\n",
       "      <th>cinema_circuit</th>\n",
       "      <th>age_limit</th>\n",
       "      <th>currency_code</th>\n",
       "      <th>device_type_canonical</th>\n",
       "      <th>revenue</th>\n",
       "      <th>service_name</th>\n",
       "      <th>tickets_count</th>\n",
       "      <th>total</th>\n",
       "      <th>days_since_prev</th>\n",
       "    </tr>\n",
       "  </thead>\n",
       "  <tbody>\n",
       "    <tr>\n",
       "      <th>0</th>\n",
       "      <td>4359165</td>\n",
       "      <td>0002849b70a3ce2</td>\n",
       "      <td>2024-08-20</td>\n",
       "      <td>2024-08-20 16:08:03</td>\n",
       "      <td>169230</td>\n",
       "      <td>нет</td>\n",
       "      <td>16</td>\n",
       "      <td>rub</td>\n",
       "      <td>mobile</td>\n",
       "      <td>1521.94</td>\n",
       "      <td>Край билетов</td>\n",
       "      <td>4</td>\n",
       "      <td>10870.99</td>\n",
       "      <td>NaN</td>\n",
       "    </tr>\n",
       "    <tr>\n",
       "      <th>1</th>\n",
       "      <td>7965605</td>\n",
       "      <td>0005ca5e93f2cf4</td>\n",
       "      <td>2024-07-23</td>\n",
       "      <td>2024-07-23 18:36:24</td>\n",
       "      <td>237325</td>\n",
       "      <td>нет</td>\n",
       "      <td>0</td>\n",
       "      <td>rub</td>\n",
       "      <td>mobile</td>\n",
       "      <td>289.45</td>\n",
       "      <td>Мой билет</td>\n",
       "      <td>2</td>\n",
       "      <td>2067.51</td>\n",
       "      <td>NaN</td>\n",
       "    </tr>\n",
       "    <tr>\n",
       "      <th>2</th>\n",
       "      <td>7292370</td>\n",
       "      <td>0005ca5e93f2cf4</td>\n",
       "      <td>2024-10-06</td>\n",
       "      <td>2024-10-06 13:56:02</td>\n",
       "      <td>578454</td>\n",
       "      <td>нет</td>\n",
       "      <td>0</td>\n",
       "      <td>rub</td>\n",
       "      <td>mobile</td>\n",
       "      <td>1258.57</td>\n",
       "      <td>За билетом!</td>\n",
       "      <td>4</td>\n",
       "      <td>13984.16</td>\n",
       "      <td>75.0</td>\n",
       "    </tr>\n",
       "    <tr>\n",
       "      <th>3</th>\n",
       "      <td>1139875</td>\n",
       "      <td>000898990054619</td>\n",
       "      <td>2024-07-13</td>\n",
       "      <td>2024-07-13 19:40:48</td>\n",
       "      <td>387271</td>\n",
       "      <td>нет</td>\n",
       "      <td>0</td>\n",
       "      <td>rub</td>\n",
       "      <td>mobile</td>\n",
       "      <td>8.49</td>\n",
       "      <td>Лови билет!</td>\n",
       "      <td>2</td>\n",
       "      <td>212.28</td>\n",
       "      <td>NaN</td>\n",
       "    </tr>\n",
       "    <tr>\n",
       "      <th>4</th>\n",
       "      <td>972400</td>\n",
       "      <td>000898990054619</td>\n",
       "      <td>2024-10-04</td>\n",
       "      <td>2024-10-04 22:33:15</td>\n",
       "      <td>509453</td>\n",
       "      <td>нет</td>\n",
       "      <td>18</td>\n",
       "      <td>rub</td>\n",
       "      <td>mobile</td>\n",
       "      <td>1390.41</td>\n",
       "      <td>Билеты без проблем</td>\n",
       "      <td>3</td>\n",
       "      <td>10695.43</td>\n",
       "      <td>83.0</td>\n",
       "    </tr>\n",
       "  </tbody>\n",
       "</table>\n",
       "</div>"
      ],
      "text/plain": [
       "   order_id          user_id created_dt_msk       created_ts_msk  event_id  \\\n",
       "0   4359165  0002849b70a3ce2     2024-08-20  2024-08-20 16:08:03    169230   \n",
       "1   7965605  0005ca5e93f2cf4     2024-07-23  2024-07-23 18:36:24    237325   \n",
       "2   7292370  0005ca5e93f2cf4     2024-10-06  2024-10-06 13:56:02    578454   \n",
       "3   1139875  000898990054619     2024-07-13  2024-07-13 19:40:48    387271   \n",
       "4    972400  000898990054619     2024-10-04  2024-10-04 22:33:15    509453   \n",
       "\n",
       "  cinema_circuit  age_limit currency_code device_type_canonical  revenue  \\\n",
       "0            нет         16           rub                mobile  1521.94   \n",
       "1            нет          0           rub                mobile   289.45   \n",
       "2            нет          0           rub                mobile  1258.57   \n",
       "3            нет          0           rub                mobile     8.49   \n",
       "4            нет         18           rub                mobile  1390.41   \n",
       "\n",
       "         service_name  tickets_count     total  days_since_prev  \n",
       "0        Край билетов              4  10870.99              NaN  \n",
       "1           Мой билет              2   2067.51              NaN  \n",
       "2         За билетом!              4  13984.16             75.0  \n",
       "3         Лови билет!              2    212.28              NaN  \n",
       "4  Билеты без проблем              3  10695.43             83.0  "
      ]
     },
     "execution_count": 3,
     "metadata": {},
     "output_type": "execute_result"
    }
   ],
   "source": [
    "purchases.head()"
   ]
  },
  {
   "cell_type": "code",
   "execution_count": 4,
   "metadata": {},
   "outputs": [
    {
     "name": "stdout",
     "output_type": "stream",
     "text": [
      "<class 'pandas.core.frame.DataFrame'>\n",
      "RangeIndex: 290849 entries, 0 to 290848\n",
      "Data columns (total 14 columns):\n",
      " #   Column                 Non-Null Count   Dtype  \n",
      "---  ------                 --------------   -----  \n",
      " 0   order_id               290849 non-null  int64  \n",
      " 1   user_id                290849 non-null  object \n",
      " 2   created_dt_msk         290849 non-null  object \n",
      " 3   created_ts_msk         290849 non-null  object \n",
      " 4   event_id               290849 non-null  int64  \n",
      " 5   cinema_circuit         290849 non-null  object \n",
      " 6   age_limit              290849 non-null  int64  \n",
      " 7   currency_code          290849 non-null  object \n",
      " 8   device_type_canonical  290849 non-null  object \n",
      " 9   revenue                290849 non-null  float64\n",
      " 10  service_name           290849 non-null  object \n",
      " 11  tickets_count          290849 non-null  int64  \n",
      " 12  total                  290849 non-null  float64\n",
      " 13  days_since_prev        268909 non-null  float64\n",
      "dtypes: float64(3), int64(4), object(7)\n",
      "memory usage: 31.1+ MB\n"
     ]
    }
   ],
   "source": [
    "purchases.info()"
   ]
  },
  {
   "cell_type": "markdown",
   "metadata": {},
   "source": [
    "Изучим датасет **events**"
   ]
  },
  {
   "cell_type": "code",
   "execution_count": 5,
   "metadata": {},
   "outputs": [
    {
     "data": {
      "text/html": [
       "<div>\n",
       "<style scoped>\n",
       "    .dataframe tbody tr th:only-of-type {\n",
       "        vertical-align: middle;\n",
       "    }\n",
       "\n",
       "    .dataframe tbody tr th {\n",
       "        vertical-align: top;\n",
       "    }\n",
       "\n",
       "    .dataframe thead th {\n",
       "        text-align: right;\n",
       "    }\n",
       "</style>\n",
       "<table border=\"1\" class=\"dataframe\">\n",
       "  <thead>\n",
       "    <tr style=\"text-align: right;\">\n",
       "      <th></th>\n",
       "      <th>event_id</th>\n",
       "      <th>event_name</th>\n",
       "      <th>event_type_description</th>\n",
       "      <th>event_type_main</th>\n",
       "      <th>organizers</th>\n",
       "      <th>region_name</th>\n",
       "      <th>city_name</th>\n",
       "      <th>city_id</th>\n",
       "      <th>venue_id</th>\n",
       "      <th>venue_name</th>\n",
       "      <th>venue_address</th>\n",
       "    </tr>\n",
       "  </thead>\n",
       "  <tbody>\n",
       "    <tr>\n",
       "      <th>0</th>\n",
       "      <td>4436</td>\n",
       "      <td>e4f26fba-da77-4c61-928a-6c3e434d793f</td>\n",
       "      <td>спектакль</td>\n",
       "      <td>театр</td>\n",
       "      <td>№4893</td>\n",
       "      <td>Североярская область</td>\n",
       "      <td>Озёрск</td>\n",
       "      <td>2</td>\n",
       "      <td>1600</td>\n",
       "      <td>Кладбище искусств \"Проблема\" и партнеры</td>\n",
       "      <td>наб. Загородная, д. 785</td>\n",
       "    </tr>\n",
       "    <tr>\n",
       "      <th>1</th>\n",
       "      <td>5785</td>\n",
       "      <td>5cc08a60-fdea-4186-9bb2-bffc3603fb77</td>\n",
       "      <td>спектакль</td>\n",
       "      <td>театр</td>\n",
       "      <td>№1931</td>\n",
       "      <td>Светополянский округ</td>\n",
       "      <td>Глиноград</td>\n",
       "      <td>54</td>\n",
       "      <td>2196</td>\n",
       "      <td>Лекции по искусству \"Свет\" Групп</td>\n",
       "      <td>ул. Ягодная, д. 942</td>\n",
       "    </tr>\n",
       "    <tr>\n",
       "      <th>2</th>\n",
       "      <td>8817</td>\n",
       "      <td>8e379a89-3a10-4811-ba06-ec22ebebe989</td>\n",
       "      <td>спектакль</td>\n",
       "      <td>театр</td>\n",
       "      <td>№4896</td>\n",
       "      <td>Североярская область</td>\n",
       "      <td>Озёрск</td>\n",
       "      <td>2</td>\n",
       "      <td>4043</td>\n",
       "      <td>Кинокомитет \"Золотая\" Инк</td>\n",
       "      <td>ш. Коммуны, д. 92 стр. 6</td>\n",
       "    </tr>\n",
       "    <tr>\n",
       "      <th>3</th>\n",
       "      <td>8849</td>\n",
       "      <td>682e3129-6a32-4952-9d8a-ef7f60d4c247</td>\n",
       "      <td>спектакль</td>\n",
       "      <td>театр</td>\n",
       "      <td>№4960</td>\n",
       "      <td>Каменевский регион</td>\n",
       "      <td>Глиногорск</td>\n",
       "      <td>213</td>\n",
       "      <td>1987</td>\n",
       "      <td>Выставка ремесел \"Свет\" Лтд</td>\n",
       "      <td>пер. Набережный, д. 35</td>\n",
       "    </tr>\n",
       "    <tr>\n",
       "      <th>4</th>\n",
       "      <td>8850</td>\n",
       "      <td>d6e99176-c77f-4af0-9222-07c571f6c624</td>\n",
       "      <td>спектакль</td>\n",
       "      <td>театр</td>\n",
       "      <td>№4770</td>\n",
       "      <td>Лесодальний край</td>\n",
       "      <td>Родниковец</td>\n",
       "      <td>55</td>\n",
       "      <td>4230</td>\n",
       "      <td>Фестивальный проект \"Листья\" Групп</td>\n",
       "      <td>пер. Проезжий, д. 9</td>\n",
       "    </tr>\n",
       "  </tbody>\n",
       "</table>\n",
       "</div>"
      ],
      "text/plain": [
       "   event_id                            event_name event_type_description  \\\n",
       "0      4436  e4f26fba-da77-4c61-928a-6c3e434d793f              спектакль   \n",
       "1      5785  5cc08a60-fdea-4186-9bb2-bffc3603fb77              спектакль   \n",
       "2      8817  8e379a89-3a10-4811-ba06-ec22ebebe989              спектакль   \n",
       "3      8849  682e3129-6a32-4952-9d8a-ef7f60d4c247              спектакль   \n",
       "4      8850  d6e99176-c77f-4af0-9222-07c571f6c624              спектакль   \n",
       "\n",
       "  event_type_main organizers           region_name   city_name  city_id  \\\n",
       "0           театр      №4893  Североярская область      Озёрск        2   \n",
       "1           театр      №1931  Светополянский округ   Глиноград       54   \n",
       "2           театр      №4896  Североярская область      Озёрск        2   \n",
       "3           театр      №4960    Каменевский регион  Глиногорск      213   \n",
       "4           театр      №4770      Лесодальний край  Родниковец       55   \n",
       "\n",
       "   venue_id                               venue_name             venue_address  \n",
       "0      1600  Кладбище искусств \"Проблема\" и партнеры   наб. Загородная, д. 785  \n",
       "1      2196         Лекции по искусству \"Свет\" Групп       ул. Ягодная, д. 942  \n",
       "2      4043                Кинокомитет \"Золотая\" Инк  ш. Коммуны, д. 92 стр. 6  \n",
       "3      1987              Выставка ремесел \"Свет\" Лтд    пер. Набережный, д. 35  \n",
       "4      4230       Фестивальный проект \"Листья\" Групп       пер. Проезжий, д. 9  "
      ]
     },
     "execution_count": 5,
     "metadata": {},
     "output_type": "execute_result"
    }
   ],
   "source": [
    "events.head()"
   ]
  },
  {
   "cell_type": "code",
   "execution_count": 6,
   "metadata": {
    "scrolled": true
   },
   "outputs": [
    {
     "name": "stdout",
     "output_type": "stream",
     "text": [
      "<class 'pandas.core.frame.DataFrame'>\n",
      "RangeIndex: 22427 entries, 0 to 22426\n",
      "Data columns (total 11 columns):\n",
      " #   Column                  Non-Null Count  Dtype \n",
      "---  ------                  --------------  ----- \n",
      " 0   event_id                22427 non-null  int64 \n",
      " 1   event_name              22427 non-null  object\n",
      " 2   event_type_description  22427 non-null  object\n",
      " 3   event_type_main         22427 non-null  object\n",
      " 4   organizers              22427 non-null  object\n",
      " 5   region_name             22427 non-null  object\n",
      " 6   city_name               22427 non-null  object\n",
      " 7   city_id                 22427 non-null  int64 \n",
      " 8   venue_id                22427 non-null  int64 \n",
      " 9   venue_name              22427 non-null  object\n",
      " 10  venue_address           22427 non-null  object\n",
      "dtypes: int64(3), object(8)\n",
      "memory usage: 1.9+ MB\n"
     ]
    }
   ],
   "source": [
    "events.info()"
   ]
  },
  {
   "cell_type": "markdown",
   "metadata": {},
   "source": [
    "Изучим датасет **tenge**"
   ]
  },
  {
   "cell_type": "code",
   "execution_count": 7,
   "metadata": {},
   "outputs": [
    {
     "data": {
      "text/html": [
       "<div>\n",
       "<style scoped>\n",
       "    .dataframe tbody tr th:only-of-type {\n",
       "        vertical-align: middle;\n",
       "    }\n",
       "\n",
       "    .dataframe tbody tr th {\n",
       "        vertical-align: top;\n",
       "    }\n",
       "\n",
       "    .dataframe thead th {\n",
       "        text-align: right;\n",
       "    }\n",
       "</style>\n",
       "<table border=\"1\" class=\"dataframe\">\n",
       "  <thead>\n",
       "    <tr style=\"text-align: right;\">\n",
       "      <th></th>\n",
       "      <th>data</th>\n",
       "      <th>nominal</th>\n",
       "      <th>curs</th>\n",
       "      <th>cdx</th>\n",
       "    </tr>\n",
       "  </thead>\n",
       "  <tbody>\n",
       "    <tr>\n",
       "      <th>0</th>\n",
       "      <td>2024-01-10</td>\n",
       "      <td>100</td>\n",
       "      <td>19.9391</td>\n",
       "      <td>kzt</td>\n",
       "    </tr>\n",
       "    <tr>\n",
       "      <th>1</th>\n",
       "      <td>2024-01-11</td>\n",
       "      <td>100</td>\n",
       "      <td>19.7255</td>\n",
       "      <td>kzt</td>\n",
       "    </tr>\n",
       "    <tr>\n",
       "      <th>2</th>\n",
       "      <td>2024-01-12</td>\n",
       "      <td>100</td>\n",
       "      <td>19.5839</td>\n",
       "      <td>kzt</td>\n",
       "    </tr>\n",
       "    <tr>\n",
       "      <th>3</th>\n",
       "      <td>2024-01-13</td>\n",
       "      <td>100</td>\n",
       "      <td>19.4501</td>\n",
       "      <td>kzt</td>\n",
       "    </tr>\n",
       "    <tr>\n",
       "      <th>4</th>\n",
       "      <td>2024-01-14</td>\n",
       "      <td>100</td>\n",
       "      <td>19.4501</td>\n",
       "      <td>kzt</td>\n",
       "    </tr>\n",
       "  </tbody>\n",
       "</table>\n",
       "</div>"
      ],
      "text/plain": [
       "         data  nominal     curs  cdx\n",
       "0  2024-01-10      100  19.9391  kzt\n",
       "1  2024-01-11      100  19.7255  kzt\n",
       "2  2024-01-12      100  19.5839  kzt\n",
       "3  2024-01-13      100  19.4501  kzt\n",
       "4  2024-01-14      100  19.4501  kzt"
      ]
     },
     "execution_count": 7,
     "metadata": {},
     "output_type": "execute_result"
    }
   ],
   "source": [
    "tenge.head()"
   ]
  },
  {
   "cell_type": "code",
   "execution_count": 8,
   "metadata": {},
   "outputs": [
    {
     "name": "stdout",
     "output_type": "stream",
     "text": [
      "<class 'pandas.core.frame.DataFrame'>\n",
      "RangeIndex: 357 entries, 0 to 356\n",
      "Data columns (total 4 columns):\n",
      " #   Column   Non-Null Count  Dtype  \n",
      "---  ------   --------------  -----  \n",
      " 0   data     357 non-null    object \n",
      " 1   nominal  357 non-null    int64  \n",
      " 2   curs     357 non-null    float64\n",
      " 3   cdx      357 non-null    object \n",
      "dtypes: float64(1), int64(1), object(2)\n",
      "memory usage: 11.3+ KB\n"
     ]
    }
   ],
   "source": [
    "tenge.info()"
   ]
  },
  {
   "cell_type": "markdown",
   "metadata": {},
   "source": [
    "Познакомившись с датасетами видим, что все данные соответствуют описанию и не содержат пропусков (кроме столбца `days_since_prev` из таблицы `purchases`, где пропуски возможны). Также можно заметить, что столбцы с датой/датой и временем содержат некорректный тип данных - ниже поправим это"
   ]
  },
  {
   "cell_type": "markdown",
   "metadata": {},
   "source": [
    "## Предобработка данных и подготовка их к исследованию (шаг 2)"
   ]
  },
  {
   "cell_type": "markdown",
   "metadata": {},
   "source": [
    "Проведите предобработку данных:\n",
    "+ **Проверьте данные на пропуски.** Проверьте, что выгрузка данных из SQL была успешной. Кроме столбца days_since_prev, данные не должны содержать пропусков.\n",
    "+**Изучите значения в ключевых столбцах** и при обнаружении ошибок обработайте их. \n",
    "    + **Для категориальных значений** изучите, какие категории присутствуют в данных. Проверьте, встречаются ли значения, которые могут обозначать пропуски в данных или отсутствие информации. Проведите нормализацию данных, если это необходимо. \n",
    "    + **Для количественных значений** посмотрите на распределение и наличие выбросов. Для этого используйте статистические показатели, гистограммы распределения значений или диаграммы размаха. Для анализа данных важными показателями являются выручка с заказа revenue и количество билетов в заказе tickets_count, поэтому в первую очередь проверьте данные в этих столбцах. Если найдутся выбросы в выручке с заказа revenue, то отберите значения по 99-му процентилю. Не забудьте, что данные изначально были представлены в разных валютах, поэтому разделите анализ на рубли и тенге. \n",
    "+ **Проверьте явные и неявные дубликаты.** Сделайте акцент на неявных дубликатах по бронированию билета без учёта идентификаторов заказа и, если такие будут, примите обоснованное решение, как их стоит обработать. \n",
    "+ **Проведите преобразования типов данных.** Обратите внимание на типы данных с датой и временем, а также проверьте возможность снижения размерности количественных данных. \n",
    "+ **Создайте несколько новых столбцов:**\n",
    "    + revenue_rub — приведите выручку с заказа к единой валюте — российскому рублю. Для этого используйте датасет с информацией о курсе казахстанского тенге по отношению к российскому рублю final_tickets_tenge_df.csv за 2024 год. Значения в рублях представлены для 100 тенге. \n",
    "    + one_ticket_revenue_rub — рассчитайте выручку с продажи одного билета на мероприятие. \n",
    "    + month — выделите месяц оформления заказа в отдельный столбец. \n",
    "    + season — создайте столбец с информацией о сезонности, включая такие категории, как: 'лето', 'осень', 'зима', 'весна'. \n",
    "    \n",
    "    \n",
    "Рекомендация: вначале можно объединить данные в один датафрейм, а затем провести общую предобработку. **ок**\n",
    "\n",
    "После предобработки проверьте, сколько данных вы отобрали, если выполняли фильтрацию, а также дайте промежуточный вывод с основными действиями и описанием новых столбцов."
   ]
  },
  {
   "cell_type": "code",
   "execution_count": 9,
   "metadata": {},
   "outputs": [
    {
     "name": "stdout",
     "output_type": "stream",
     "text": [
      "<class 'pandas.core.frame.DataFrame'>\n",
      "Int64Index: 290611 entries, 0 to 290610\n",
      "Data columns (total 24 columns):\n",
      " #   Column                  Non-Null Count   Dtype  \n",
      "---  ------                  --------------   -----  \n",
      " 0   order_id                290611 non-null  int64  \n",
      " 1   user_id                 290611 non-null  object \n",
      " 2   created_dt_msk          290611 non-null  object \n",
      " 3   created_ts_msk          290611 non-null  object \n",
      " 4   event_id                290611 non-null  int64  \n",
      " 5   cinema_circuit          290611 non-null  object \n",
      " 6   age_limit               290611 non-null  int64  \n",
      " 7   currency_code           290611 non-null  object \n",
      " 8   device_type_canonical   290611 non-null  object \n",
      " 9   revenue                 290611 non-null  float64\n",
      " 10  service_name            290611 non-null  object \n",
      " 11  tickets_count           290611 non-null  int64  \n",
      " 12  total                   290611 non-null  float64\n",
      " 13  days_since_prev         268698 non-null  float64\n",
      " 14  event_name              290611 non-null  object \n",
      " 15  event_type_description  290611 non-null  object \n",
      " 16  event_type_main         290611 non-null  object \n",
      " 17  organizers              290611 non-null  object \n",
      " 18  region_name             290611 non-null  object \n",
      " 19  city_name               290611 non-null  object \n",
      " 20  city_id                 290611 non-null  int64  \n",
      " 21  venue_id                290611 non-null  int64  \n",
      " 22  venue_name              290611 non-null  object \n",
      " 23  venue_address           290611 non-null  object \n",
      "dtypes: float64(3), int64(6), object(15)\n",
      "memory usage: 55.4+ MB\n"
     ]
    }
   ],
   "source": [
    "# Сначала объединим все 3 датасета в единый df\n",
    "purchases = purchases.merge(events, on='event_id', how='inner')\n",
    "purchases.info()"
   ]
  },
  {
   "cell_type": "markdown",
   "metadata": {},
   "source": [
    "Видим, что столбцы `created_dt_msk` и `created_ts_msk` содержат некорретный тип данных - object, аналогично и `data` в датафрейме `tenge`, поэтому для дальнейшего присоединения `purchases` с `tenge` заменим в обоих датасетах тип столбцов на корректный"
   ]
  },
  {
   "cell_type": "code",
   "execution_count": 10,
   "metadata": {},
   "outputs": [],
   "source": [
    "# Преобразуем типы данных на корректные\n",
    "purchases[['created_dt_msk', 'created_ts_msk']] = purchases[['created_dt_msk', 'created_ts_msk']].astype('datetime64[ns]')\n",
    "\n",
    "tenge['data'] = tenge['data'].astype('datetime64[ns]')"
   ]
  },
  {
   "cell_type": "code",
   "execution_count": 11,
   "metadata": {},
   "outputs": [
    {
     "name": "stdout",
     "output_type": "stream",
     "text": [
      "<class 'pandas.core.frame.DataFrame'>\n",
      "Int64Index: 290611 entries, 0 to 290610\n",
      "Data columns (total 24 columns):\n",
      " #   Column                  Non-Null Count   Dtype         \n",
      "---  ------                  --------------   -----         \n",
      " 0   order_id                290611 non-null  int64         \n",
      " 1   user_id                 290611 non-null  object        \n",
      " 2   created_dt_msk          290611 non-null  datetime64[ns]\n",
      " 3   created_ts_msk          290611 non-null  datetime64[ns]\n",
      " 4   event_id                290611 non-null  int64         \n",
      " 5   cinema_circuit          290611 non-null  object        \n",
      " 6   age_limit               290611 non-null  int64         \n",
      " 7   currency_code           290611 non-null  object        \n",
      " 8   device_type_canonical   290611 non-null  object        \n",
      " 9   revenue                 290611 non-null  float64       \n",
      " 10  service_name            290611 non-null  object        \n",
      " 11  tickets_count           290611 non-null  int64         \n",
      " 12  total                   290611 non-null  float64       \n",
      " 13  days_since_prev         268698 non-null  float64       \n",
      " 14  event_name              290611 non-null  object        \n",
      " 15  event_type_description  290611 non-null  object        \n",
      " 16  event_type_main         290611 non-null  object        \n",
      " 17  organizers              290611 non-null  object        \n",
      " 18  region_name             290611 non-null  object        \n",
      " 19  city_name               290611 non-null  object        \n",
      " 20  city_id                 290611 non-null  int64         \n",
      " 21  venue_id                290611 non-null  int64         \n",
      " 22  venue_name              290611 non-null  object        \n",
      " 23  venue_address           290611 non-null  object        \n",
      "dtypes: datetime64[ns](2), float64(3), int64(6), object(13)\n",
      "memory usage: 55.4+ MB\n",
      "None\n",
      "<class 'pandas.core.frame.DataFrame'>\n",
      "RangeIndex: 357 entries, 0 to 356\n",
      "Data columns (total 4 columns):\n",
      " #   Column   Non-Null Count  Dtype         \n",
      "---  ------   --------------  -----         \n",
      " 0   data     357 non-null    datetime64[ns]\n",
      " 1   nominal  357 non-null    int64         \n",
      " 2   curs     357 non-null    float64       \n",
      " 3   cdx      357 non-null    object        \n",
      "dtypes: datetime64[ns](1), float64(1), int64(1), object(1)\n",
      "memory usage: 11.3+ KB\n",
      "None\n"
     ]
    }
   ],
   "source": [
    "print(purchases.info())\n",
    "print(tenge.info())"
   ]
  },
  {
   "cell_type": "code",
   "execution_count": 12,
   "metadata": {},
   "outputs": [
    {
     "data": {
      "text/html": [
       "<div>\n",
       "<style scoped>\n",
       "    .dataframe tbody tr th:only-of-type {\n",
       "        vertical-align: middle;\n",
       "    }\n",
       "\n",
       "    .dataframe tbody tr th {\n",
       "        vertical-align: top;\n",
       "    }\n",
       "\n",
       "    .dataframe thead th {\n",
       "        text-align: right;\n",
       "    }\n",
       "</style>\n",
       "<table border=\"1\" class=\"dataframe\">\n",
       "  <thead>\n",
       "    <tr style=\"text-align: right;\">\n",
       "      <th></th>\n",
       "      <th>order_id</th>\n",
       "      <th>user_id</th>\n",
       "      <th>created_dt_msk</th>\n",
       "      <th>created_ts_msk</th>\n",
       "      <th>event_id</th>\n",
       "      <th>cinema_circuit</th>\n",
       "      <th>age_limit</th>\n",
       "      <th>currency_code</th>\n",
       "      <th>device_type_canonical</th>\n",
       "      <th>revenue</th>\n",
       "      <th>...</th>\n",
       "      <th>region_name</th>\n",
       "      <th>city_name</th>\n",
       "      <th>city_id</th>\n",
       "      <th>venue_id</th>\n",
       "      <th>venue_name</th>\n",
       "      <th>venue_address</th>\n",
       "      <th>data</th>\n",
       "      <th>nominal</th>\n",
       "      <th>curs</th>\n",
       "      <th>cdx</th>\n",
       "    </tr>\n",
       "  </thead>\n",
       "  <tbody>\n",
       "    <tr>\n",
       "      <th>286247</th>\n",
       "      <td>1553937</td>\n",
       "      <td>d4f86a2e47f76dc</td>\n",
       "      <td>2024-07-01</td>\n",
       "      <td>2024-07-01 19:27:17</td>\n",
       "      <td>541345</td>\n",
       "      <td>нет</td>\n",
       "      <td>12</td>\n",
       "      <td>rub</td>\n",
       "      <td>mobile</td>\n",
       "      <td>452.73</td>\n",
       "      <td>...</td>\n",
       "      <td>Североярская область</td>\n",
       "      <td>Озёрск</td>\n",
       "      <td>2</td>\n",
       "      <td>2805</td>\n",
       "      <td>Центр культурного наследия \"Заряд\" и партнеры</td>\n",
       "      <td>ш. Пугачева, д. 9/7 к. 39</td>\n",
       "      <td>2024-07-01</td>\n",
       "      <td>100</td>\n",
       "      <td>18.4198</td>\n",
       "      <td>kzt</td>\n",
       "    </tr>\n",
       "    <tr>\n",
       "      <th>272449</th>\n",
       "      <td>3565580</td>\n",
       "      <td>d5f07a65694f995</td>\n",
       "      <td>2024-07-14</td>\n",
       "      <td>2024-07-14 23:22:52</td>\n",
       "      <td>379266</td>\n",
       "      <td>нет</td>\n",
       "      <td>0</td>\n",
       "      <td>rub</td>\n",
       "      <td>mobile</td>\n",
       "      <td>107.96</td>\n",
       "      <td>...</td>\n",
       "      <td>Североярская область</td>\n",
       "      <td>Озёрск</td>\n",
       "      <td>2</td>\n",
       "      <td>1283</td>\n",
       "      <td>Клуб начинающих писателей \"Детство\" Лимитед</td>\n",
       "      <td>ул. Заозерная, д. 9</td>\n",
       "      <td>2024-07-14</td>\n",
       "      <td>100</td>\n",
       "      <td>18.5010</td>\n",
       "      <td>kzt</td>\n",
       "    </tr>\n",
       "    <tr>\n",
       "      <th>124864</th>\n",
       "      <td>7902269</td>\n",
       "      <td>dee8771de6229c6</td>\n",
       "      <td>2024-10-04</td>\n",
       "      <td>2024-10-04 12:26:56</td>\n",
       "      <td>485007</td>\n",
       "      <td>нет</td>\n",
       "      <td>0</td>\n",
       "      <td>rub</td>\n",
       "      <td>mobile</td>\n",
       "      <td>1273.19</td>\n",
       "      <td>...</td>\n",
       "      <td>Каменевский регион</td>\n",
       "      <td>Глиногорск</td>\n",
       "      <td>213</td>\n",
       "      <td>4507</td>\n",
       "      <td>Училище искусств \"Нирвана\" Инк</td>\n",
       "      <td>алл. Юбилейная, д. 5/6</td>\n",
       "      <td>2024-10-04</td>\n",
       "      <td>100</td>\n",
       "      <td>19.6648</td>\n",
       "      <td>kzt</td>\n",
       "    </tr>\n",
       "    <tr>\n",
       "      <th>189774</th>\n",
       "      <td>2244195</td>\n",
       "      <td>0beb8fc0c0a9ce1</td>\n",
       "      <td>2024-09-03</td>\n",
       "      <td>2024-09-03 11:10:09</td>\n",
       "      <td>563901</td>\n",
       "      <td>нет</td>\n",
       "      <td>0</td>\n",
       "      <td>rub</td>\n",
       "      <td>mobile</td>\n",
       "      <td>68.71</td>\n",
       "      <td>...</td>\n",
       "      <td>Медовская область</td>\n",
       "      <td>Радужсвет</td>\n",
       "      <td>47</td>\n",
       "      <td>2157</td>\n",
       "      <td>Студия дизайна \"Платформа\" Инкорпорэйтед</td>\n",
       "      <td>наб. Магистральная, д. 5</td>\n",
       "      <td>2024-09-03</td>\n",
       "      <td>100</td>\n",
       "      <td>18.6868</td>\n",
       "      <td>kzt</td>\n",
       "    </tr>\n",
       "    <tr>\n",
       "      <th>56902</th>\n",
       "      <td>1446898</td>\n",
       "      <td>0beb8fc0c0a9ce1</td>\n",
       "      <td>2024-10-17</td>\n",
       "      <td>2024-10-17 11:59:23</td>\n",
       "      <td>169844</td>\n",
       "      <td>нет</td>\n",
       "      <td>6</td>\n",
       "      <td>rub</td>\n",
       "      <td>desktop</td>\n",
       "      <td>639.79</td>\n",
       "      <td>...</td>\n",
       "      <td>Светополянский округ</td>\n",
       "      <td>Глиноград</td>\n",
       "      <td>54</td>\n",
       "      <td>4038</td>\n",
       "      <td>Кинокомпания \"Прозрачность\" Инкорпорэйтед</td>\n",
       "      <td>пр. Омский, д. 7/3 стр. 9</td>\n",
       "      <td>2024-10-17</td>\n",
       "      <td>100</td>\n",
       "      <td>19.9534</td>\n",
       "      <td>kzt</td>\n",
       "    </tr>\n",
       "    <tr>\n",
       "      <th>81053</th>\n",
       "      <td>3982107</td>\n",
       "      <td>8d6c1ff89fac35f</td>\n",
       "      <td>2024-08-25</td>\n",
       "      <td>2024-08-25 12:48:55</td>\n",
       "      <td>559625</td>\n",
       "      <td>нет</td>\n",
       "      <td>18</td>\n",
       "      <td>rub</td>\n",
       "      <td>mobile</td>\n",
       "      <td>3417.78</td>\n",
       "      <td>...</td>\n",
       "      <td>Каменевский регион</td>\n",
       "      <td>Глиногорск</td>\n",
       "      <td>213</td>\n",
       "      <td>1236</td>\n",
       "      <td>Центр традиционных ремесел \"Тепло\" и партнеры</td>\n",
       "      <td>алл. Димитрова, д. 651 к. 27</td>\n",
       "      <td>2024-08-25</td>\n",
       "      <td>100</td>\n",
       "      <td>19.1202</td>\n",
       "      <td>kzt</td>\n",
       "    </tr>\n",
       "    <tr>\n",
       "      <th>215939</th>\n",
       "      <td>4043906</td>\n",
       "      <td>8ed1134f01bb82b</td>\n",
       "      <td>2024-09-28</td>\n",
       "      <td>2024-09-28 18:18:16</td>\n",
       "      <td>506552</td>\n",
       "      <td>нет</td>\n",
       "      <td>16</td>\n",
       "      <td>rub</td>\n",
       "      <td>mobile</td>\n",
       "      <td>337.12</td>\n",
       "      <td>...</td>\n",
       "      <td>Каменевский регион</td>\n",
       "      <td>Глиногорск</td>\n",
       "      <td>213</td>\n",
       "      <td>1365</td>\n",
       "      <td>Картинная галерея \"Светлячок\" Лтд</td>\n",
       "      <td>ул. Дальневосточная, д. 97 к. 1/4</td>\n",
       "      <td>2024-09-28</td>\n",
       "      <td>100</td>\n",
       "      <td>19.3741</td>\n",
       "      <td>kzt</td>\n",
       "    </tr>\n",
       "  </tbody>\n",
       "</table>\n",
       "<p>7 rows × 28 columns</p>\n",
       "</div>"
      ],
      "text/plain": [
       "        order_id          user_id created_dt_msk      created_ts_msk  \\\n",
       "286247   1553937  d4f86a2e47f76dc     2024-07-01 2024-07-01 19:27:17   \n",
       "272449   3565580  d5f07a65694f995     2024-07-14 2024-07-14 23:22:52   \n",
       "124864   7902269  dee8771de6229c6     2024-10-04 2024-10-04 12:26:56   \n",
       "189774   2244195  0beb8fc0c0a9ce1     2024-09-03 2024-09-03 11:10:09   \n",
       "56902    1446898  0beb8fc0c0a9ce1     2024-10-17 2024-10-17 11:59:23   \n",
       "81053    3982107  8d6c1ff89fac35f     2024-08-25 2024-08-25 12:48:55   \n",
       "215939   4043906  8ed1134f01bb82b     2024-09-28 2024-09-28 18:18:16   \n",
       "\n",
       "        event_id cinema_circuit  age_limit currency_code  \\\n",
       "286247    541345            нет         12           rub   \n",
       "272449    379266            нет          0           rub   \n",
       "124864    485007            нет          0           rub   \n",
       "189774    563901            нет          0           rub   \n",
       "56902     169844            нет          6           rub   \n",
       "81053     559625            нет         18           rub   \n",
       "215939    506552            нет         16           rub   \n",
       "\n",
       "       device_type_canonical  revenue  ...           region_name   city_name  \\\n",
       "286247                mobile   452.73  ...  Североярская область      Озёрск   \n",
       "272449                mobile   107.96  ...  Североярская область      Озёрск   \n",
       "124864                mobile  1273.19  ...    Каменевский регион  Глиногорск   \n",
       "189774                mobile    68.71  ...     Медовская область   Радужсвет   \n",
       "56902                desktop   639.79  ...  Светополянский округ   Глиноград   \n",
       "81053                 mobile  3417.78  ...    Каменевский регион  Глиногорск   \n",
       "215939                mobile   337.12  ...    Каменевский регион  Глиногорск   \n",
       "\n",
       "        city_id  venue_id                                     venue_name  \\\n",
       "286247        2      2805  Центр культурного наследия \"Заряд\" и партнеры   \n",
       "272449        2      1283    Клуб начинающих писателей \"Детство\" Лимитед   \n",
       "124864      213      4507                 Училище искусств \"Нирвана\" Инк   \n",
       "189774       47      2157       Студия дизайна \"Платформа\" Инкорпорэйтед   \n",
       "56902        54      4038      Кинокомпания \"Прозрачность\" Инкорпорэйтед   \n",
       "81053       213      1236  Центр традиционных ремесел \"Тепло\" и партнеры   \n",
       "215939      213      1365              Картинная галерея \"Светлячок\" Лтд   \n",
       "\n",
       "                            venue_address       data nominal     curs  cdx  \n",
       "286247          ш. Пугачева, д. 9/7 к. 39 2024-07-01     100  18.4198  kzt  \n",
       "272449                ул. Заозерная, д. 9 2024-07-14     100  18.5010  kzt  \n",
       "124864             алл. Юбилейная, д. 5/6 2024-10-04     100  19.6648  kzt  \n",
       "189774           наб. Магистральная, д. 5 2024-09-03     100  18.6868  kzt  \n",
       "56902           пр. Омский, д. 7/3 стр. 9 2024-10-17     100  19.9534  kzt  \n",
       "81053        алл. Димитрова, д. 651 к. 27 2024-08-25     100  19.1202  kzt  \n",
       "215939  ул. Дальневосточная, д. 97 к. 1/4 2024-09-28     100  19.3741  kzt  \n",
       "\n",
       "[7 rows x 28 columns]"
      ]
     },
     "execution_count": 12,
     "metadata": {},
     "output_type": "execute_result"
    }
   ],
   "source": [
    "# Объединим 2 датасета с tenge\n",
    "df = purchases.merge(tenge, left_on='created_dt_msk', right_on='data')\n",
    "df.sample(7)"
   ]
  },
  {
   "cell_type": "code",
   "execution_count": 13,
   "metadata": {},
   "outputs": [
    {
     "name": "stdout",
     "output_type": "stream",
     "text": [
      "<class 'pandas.core.frame.DataFrame'>\n",
      "Int64Index: 290611 entries, 0 to 290610\n",
      "Data columns (total 28 columns):\n",
      " #   Column                  Non-Null Count   Dtype         \n",
      "---  ------                  --------------   -----         \n",
      " 0   order_id                290611 non-null  int64         \n",
      " 1   user_id                 290611 non-null  object        \n",
      " 2   created_dt_msk          290611 non-null  datetime64[ns]\n",
      " 3   created_ts_msk          290611 non-null  datetime64[ns]\n",
      " 4   event_id                290611 non-null  int64         \n",
      " 5   cinema_circuit          290611 non-null  object        \n",
      " 6   age_limit               290611 non-null  int64         \n",
      " 7   currency_code           290611 non-null  object        \n",
      " 8   device_type_canonical   290611 non-null  object        \n",
      " 9   revenue                 290611 non-null  float64       \n",
      " 10  service_name            290611 non-null  object        \n",
      " 11  tickets_count           290611 non-null  int64         \n",
      " 12  total                   290611 non-null  float64       \n",
      " 13  days_since_prev         268698 non-null  float64       \n",
      " 14  event_name              290611 non-null  object        \n",
      " 15  event_type_description  290611 non-null  object        \n",
      " 16  event_type_main         290611 non-null  object        \n",
      " 17  organizers              290611 non-null  object        \n",
      " 18  region_name             290611 non-null  object        \n",
      " 19  city_name               290611 non-null  object        \n",
      " 20  city_id                 290611 non-null  int64         \n",
      " 21  venue_id                290611 non-null  int64         \n",
      " 22  venue_name              290611 non-null  object        \n",
      " 23  venue_address           290611 non-null  object        \n",
      " 24  data                    290611 non-null  datetime64[ns]\n",
      " 25  nominal                 290611 non-null  int64         \n",
      " 26  curs                    290611 non-null  float64       \n",
      " 27  cdx                     290611 non-null  object        \n",
      "dtypes: datetime64[ns](3), float64(4), int64(7), object(14)\n",
      "memory usage: 64.3+ MB\n"
     ]
    }
   ],
   "source": [
    "df.info()\n",
    "\n",
    "# Сохраним начальное кол-во строк\n",
    "initial_row_count = df.shape[0]"
   ]
  },
  {
   "cell_type": "markdown",
   "metadata": {},
   "source": [
    "О корректности типов данных (раз уж начала с датами работать) - можно также понизить разрядность столбцов, содержащих тип данных int и float"
   ]
  },
  {
   "cell_type": "code",
   "execution_count": 14,
   "metadata": {},
   "outputs": [],
   "source": [
    "# Меняем тип данных с помощью цикла\n",
    "for col in ['order_id','event_id', 'age_limit', 'tickets_count', 'nominal', 'city_id', 'venue_id']:\n",
    "    df[col] = pd.to_numeric(df[col], downcast='integer')\n",
    "    \n",
    "for col in ['revenue','total', 'days_since_prev', 'curs']:\n",
    "    df[col] = pd.to_numeric(df[col], downcast='float')"
   ]
  },
  {
   "cell_type": "code",
   "execution_count": 15,
   "metadata": {},
   "outputs": [
    {
     "name": "stdout",
     "output_type": "stream",
     "text": [
      "<class 'pandas.core.frame.DataFrame'>\n",
      "Int64Index: 290611 entries, 0 to 290610\n",
      "Data columns (total 28 columns):\n",
      " #   Column                  Non-Null Count   Dtype         \n",
      "---  ------                  --------------   -----         \n",
      " 0   order_id                290611 non-null  int32         \n",
      " 1   user_id                 290611 non-null  object        \n",
      " 2   created_dt_msk          290611 non-null  datetime64[ns]\n",
      " 3   created_ts_msk          290611 non-null  datetime64[ns]\n",
      " 4   event_id                290611 non-null  int32         \n",
      " 5   cinema_circuit          290611 non-null  object        \n",
      " 6   age_limit               290611 non-null  int8          \n",
      " 7   currency_code           290611 non-null  object        \n",
      " 8   device_type_canonical   290611 non-null  object        \n",
      " 9   revenue                 290611 non-null  float32       \n",
      " 10  service_name            290611 non-null  object        \n",
      " 11  tickets_count           290611 non-null  int8          \n",
      " 12  total                   290611 non-null  float32       \n",
      " 13  days_since_prev         268698 non-null  float32       \n",
      " 14  event_name              290611 non-null  object        \n",
      " 15  event_type_description  290611 non-null  object        \n",
      " 16  event_type_main         290611 non-null  object        \n",
      " 17  organizers              290611 non-null  object        \n",
      " 18  region_name             290611 non-null  object        \n",
      " 19  city_name               290611 non-null  object        \n",
      " 20  city_id                 290611 non-null  int32         \n",
      " 21  venue_id                290611 non-null  int16         \n",
      " 22  venue_name              290611 non-null  object        \n",
      " 23  venue_address           290611 non-null  object        \n",
      " 24  data                    290611 non-null  datetime64[ns]\n",
      " 25  nominal                 290611 non-null  int8          \n",
      " 26  curs                    290611 non-null  float32       \n",
      " 27  cdx                     290611 non-null  object        \n",
      "dtypes: datetime64[ns](3), float32(4), int16(1), int32(3), int8(3), object(14)\n",
      "memory usage: 49.1+ MB\n"
     ]
    }
   ],
   "source": [
    "# Проверка\n",
    "df.info()"
   ]
  },
  {
   "cell_type": "markdown",
   "metadata": {},
   "source": [
    "Далее, для правильного анализа данных нужно привести выручку к единой валюте - к рублям (и только после этого приступить к изучению датасета). Для этого добавим столбец `revenue_rub`, содержащий выручку в рублях"
   ]
  },
  {
   "cell_type": "code",
   "execution_count": 16,
   "metadata": {},
   "outputs": [],
   "source": [
    "# Напишем пользовательскую функцию, которая сконвертирует тенге в рубли\n",
    "def calculate_revenue_to_rub(row):\n",
    "    if row['currency_code'] == 'kzt':\n",
    "        kurs = row['curs'] / row['nominal'] \n",
    "        return row['revenue'] * kurs\n",
    "    else:\n",
    "        return row['revenue']\n",
    "\n",
    "df['revenue_rub'] = df.apply(calculate_revenue_to_rub, axis=1)      "
   ]
  },
  {
   "cell_type": "code",
   "execution_count": 17,
   "metadata": {},
   "outputs": [
    {
     "name": "stdout",
     "output_type": "stream",
     "text": [
      "<class 'pandas.core.frame.DataFrame'>\n",
      "Int64Index: 290611 entries, 0 to 290610\n",
      "Data columns (total 29 columns):\n",
      " #   Column                  Non-Null Count   Dtype         \n",
      "---  ------                  --------------   -----         \n",
      " 0   order_id                290611 non-null  int32         \n",
      " 1   user_id                 290611 non-null  object        \n",
      " 2   created_dt_msk          290611 non-null  datetime64[ns]\n",
      " 3   created_ts_msk          290611 non-null  datetime64[ns]\n",
      " 4   event_id                290611 non-null  int32         \n",
      " 5   cinema_circuit          290611 non-null  object        \n",
      " 6   age_limit               290611 non-null  int8          \n",
      " 7   currency_code           290611 non-null  object        \n",
      " 8   device_type_canonical   290611 non-null  object        \n",
      " 9   revenue                 290611 non-null  float32       \n",
      " 10  service_name            290611 non-null  object        \n",
      " 11  tickets_count           290611 non-null  int8          \n",
      " 12  total                   290611 non-null  float32       \n",
      " 13  days_since_prev         268698 non-null  float32       \n",
      " 14  event_name              290611 non-null  object        \n",
      " 15  event_type_description  290611 non-null  object        \n",
      " 16  event_type_main         290611 non-null  object        \n",
      " 17  organizers              290611 non-null  object        \n",
      " 18  region_name             290611 non-null  object        \n",
      " 19  city_name               290611 non-null  object        \n",
      " 20  city_id                 290611 non-null  int32         \n",
      " 21  venue_id                290611 non-null  int16         \n",
      " 22  venue_name              290611 non-null  object        \n",
      " 23  venue_address           290611 non-null  object        \n",
      " 24  data                    290611 non-null  datetime64[ns]\n",
      " 25  nominal                 290611 non-null  int8          \n",
      " 26  curs                    290611 non-null  float32       \n",
      " 27  cdx                     290611 non-null  object        \n",
      " 28  revenue_rub             290611 non-null  float64       \n",
      "dtypes: datetime64[ns](3), float32(4), float64(1), int16(1), int32(3), int8(3), object(14)\n",
      "memory usage: 51.3+ MB\n",
      "None\n"
     ]
    },
    {
     "data": {
      "text/html": [
       "<div>\n",
       "<style scoped>\n",
       "    .dataframe tbody tr th:only-of-type {\n",
       "        vertical-align: middle;\n",
       "    }\n",
       "\n",
       "    .dataframe tbody tr th {\n",
       "        vertical-align: top;\n",
       "    }\n",
       "\n",
       "    .dataframe thead th {\n",
       "        text-align: right;\n",
       "    }\n",
       "</style>\n",
       "<table border=\"1\" class=\"dataframe\">\n",
       "  <thead>\n",
       "    <tr style=\"text-align: right;\">\n",
       "      <th></th>\n",
       "      <th>order_id</th>\n",
       "      <th>user_id</th>\n",
       "      <th>created_dt_msk</th>\n",
       "      <th>created_ts_msk</th>\n",
       "      <th>event_id</th>\n",
       "      <th>cinema_circuit</th>\n",
       "      <th>age_limit</th>\n",
       "      <th>currency_code</th>\n",
       "      <th>device_type_canonical</th>\n",
       "      <th>revenue</th>\n",
       "      <th>...</th>\n",
       "      <th>city_name</th>\n",
       "      <th>city_id</th>\n",
       "      <th>venue_id</th>\n",
       "      <th>venue_name</th>\n",
       "      <th>venue_address</th>\n",
       "      <th>data</th>\n",
       "      <th>nominal</th>\n",
       "      <th>curs</th>\n",
       "      <th>cdx</th>\n",
       "      <th>revenue_rub</th>\n",
       "    </tr>\n",
       "  </thead>\n",
       "  <tbody>\n",
       "    <tr>\n",
       "      <th>197</th>\n",
       "      <td>7315193</td>\n",
       "      <td>3ee7dc2e115847f</td>\n",
       "      <td>2024-08-20</td>\n",
       "      <td>2024-08-20 17:11:15</td>\n",
       "      <td>533803</td>\n",
       "      <td>нет</td>\n",
       "      <td>16</td>\n",
       "      <td>kzt</td>\n",
       "      <td>mobile</td>\n",
       "      <td>1849.410034</td>\n",
       "      <td>...</td>\n",
       "      <td>Широковка</td>\n",
       "      <td>162</td>\n",
       "      <td>3407</td>\n",
       "      <td>Арт-кафе \"Речка\" Лимитед</td>\n",
       "      <td>алл. Путейская, д. 548 стр. 7</td>\n",
       "      <td>2024-08-20</td>\n",
       "      <td>100</td>\n",
       "      <td>18.697201</td>\n",
       "      <td>kzt</td>\n",
       "      <td>345.787907</td>\n",
       "    </tr>\n",
       "    <tr>\n",
       "      <th>198</th>\n",
       "      <td>5512843</td>\n",
       "      <td>6c343a9a8a5fb89</td>\n",
       "      <td>2024-08-20</td>\n",
       "      <td>2024-08-20 14:51:57</td>\n",
       "      <td>533803</td>\n",
       "      <td>нет</td>\n",
       "      <td>16</td>\n",
       "      <td>kzt</td>\n",
       "      <td>mobile</td>\n",
       "      <td>5548.240234</td>\n",
       "      <td>...</td>\n",
       "      <td>Широковка</td>\n",
       "      <td>162</td>\n",
       "      <td>3407</td>\n",
       "      <td>Арт-кафе \"Речка\" Лимитед</td>\n",
       "      <td>алл. Путейская, д. 548 стр. 7</td>\n",
       "      <td>2024-08-20</td>\n",
       "      <td>100</td>\n",
       "      <td>18.697201</td>\n",
       "      <td>kzt</td>\n",
       "      <td>1037.365616</td>\n",
       "    </tr>\n",
       "    <tr>\n",
       "      <th>199</th>\n",
       "      <td>5512785</td>\n",
       "      <td>6c343a9a8a5fb89</td>\n",
       "      <td>2024-08-20</td>\n",
       "      <td>2024-08-20 15:00:41</td>\n",
       "      <td>533803</td>\n",
       "      <td>нет</td>\n",
       "      <td>16</td>\n",
       "      <td>kzt</td>\n",
       "      <td>mobile</td>\n",
       "      <td>1849.410034</td>\n",
       "      <td>...</td>\n",
       "      <td>Широковка</td>\n",
       "      <td>162</td>\n",
       "      <td>3407</td>\n",
       "      <td>Арт-кафе \"Речка\" Лимитед</td>\n",
       "      <td>алл. Путейская, д. 548 стр. 7</td>\n",
       "      <td>2024-08-20</td>\n",
       "      <td>100</td>\n",
       "      <td>18.697201</td>\n",
       "      <td>kzt</td>\n",
       "      <td>345.787907</td>\n",
       "    </tr>\n",
       "    <tr>\n",
       "      <th>200</th>\n",
       "      <td>5512814</td>\n",
       "      <td>6c343a9a8a5fb89</td>\n",
       "      <td>2024-08-20</td>\n",
       "      <td>2024-08-20 14:55:30</td>\n",
       "      <td>533803</td>\n",
       "      <td>нет</td>\n",
       "      <td>16</td>\n",
       "      <td>kzt</td>\n",
       "      <td>mobile</td>\n",
       "      <td>5548.240234</td>\n",
       "      <td>...</td>\n",
       "      <td>Широковка</td>\n",
       "      <td>162</td>\n",
       "      <td>3407</td>\n",
       "      <td>Арт-кафе \"Речка\" Лимитед</td>\n",
       "      <td>алл. Путейская, д. 548 стр. 7</td>\n",
       "      <td>2024-08-20</td>\n",
       "      <td>100</td>\n",
       "      <td>18.697201</td>\n",
       "      <td>kzt</td>\n",
       "      <td>1037.365616</td>\n",
       "    </tr>\n",
       "    <tr>\n",
       "      <th>201</th>\n",
       "      <td>7134697</td>\n",
       "      <td>8a3dacb24c96aa2</td>\n",
       "      <td>2024-08-20</td>\n",
       "      <td>2024-08-20 07:56:42</td>\n",
       "      <td>533803</td>\n",
       "      <td>нет</td>\n",
       "      <td>16</td>\n",
       "      <td>kzt</td>\n",
       "      <td>mobile</td>\n",
       "      <td>1849.410034</td>\n",
       "      <td>...</td>\n",
       "      <td>Широковка</td>\n",
       "      <td>162</td>\n",
       "      <td>3407</td>\n",
       "      <td>Арт-кафе \"Речка\" Лимитед</td>\n",
       "      <td>алл. Путейская, д. 548 стр. 7</td>\n",
       "      <td>2024-08-20</td>\n",
       "      <td>100</td>\n",
       "      <td>18.697201</td>\n",
       "      <td>kzt</td>\n",
       "      <td>345.787907</td>\n",
       "    </tr>\n",
       "    <tr>\n",
       "      <th>...</th>\n",
       "      <td>...</td>\n",
       "      <td>...</td>\n",
       "      <td>...</td>\n",
       "      <td>...</td>\n",
       "      <td>...</td>\n",
       "      <td>...</td>\n",
       "      <td>...</td>\n",
       "      <td>...</td>\n",
       "      <td>...</td>\n",
       "      <td>...</td>\n",
       "      <td>...</td>\n",
       "      <td>...</td>\n",
       "      <td>...</td>\n",
       "      <td>...</td>\n",
       "      <td>...</td>\n",
       "      <td>...</td>\n",
       "      <td>...</td>\n",
       "      <td>...</td>\n",
       "      <td>...</td>\n",
       "      <td>...</td>\n",
       "      <td>...</td>\n",
       "    </tr>\n",
       "    <tr>\n",
       "      <th>289705</th>\n",
       "      <td>2844901</td>\n",
       "      <td>655911492b87f97</td>\n",
       "      <td>2024-06-14</td>\n",
       "      <td>2024-06-14 00:31:07</td>\n",
       "      <td>536825</td>\n",
       "      <td>нет</td>\n",
       "      <td>12</td>\n",
       "      <td>kzt</td>\n",
       "      <td>mobile</td>\n",
       "      <td>13784.259766</td>\n",
       "      <td>...</td>\n",
       "      <td>Широковка</td>\n",
       "      <td>162</td>\n",
       "      <td>2169</td>\n",
       "      <td>Кладбище искусств \"Феномен\" Инк</td>\n",
       "      <td>ш. Саратовское, д. 73 стр. 367</td>\n",
       "      <td>2024-06-14</td>\n",
       "      <td>100</td>\n",
       "      <td>19.525000</td>\n",
       "      <td>kzt</td>\n",
       "      <td>2691.376667</td>\n",
       "    </tr>\n",
       "    <tr>\n",
       "      <th>289706</th>\n",
       "      <td>4037149</td>\n",
       "      <td>7eb4fc207ecc10f</td>\n",
       "      <td>2024-06-14</td>\n",
       "      <td>2024-06-14 09:31:53</td>\n",
       "      <td>536825</td>\n",
       "      <td>нет</td>\n",
       "      <td>12</td>\n",
       "      <td>kzt</td>\n",
       "      <td>mobile</td>\n",
       "      <td>3446.060059</td>\n",
       "      <td>...</td>\n",
       "      <td>Широковка</td>\n",
       "      <td>162</td>\n",
       "      <td>2169</td>\n",
       "      <td>Кладбище искусств \"Феномен\" Инк</td>\n",
       "      <td>ш. Саратовское, д. 73 стр. 367</td>\n",
       "      <td>2024-06-14</td>\n",
       "      <td>100</td>\n",
       "      <td>19.525000</td>\n",
       "      <td>kzt</td>\n",
       "      <td>672.843213</td>\n",
       "    </tr>\n",
       "    <tr>\n",
       "      <th>289707</th>\n",
       "      <td>8474236</td>\n",
       "      <td>c6ef049c34ebdc5</td>\n",
       "      <td>2024-06-14</td>\n",
       "      <td>2024-06-14 09:18:47</td>\n",
       "      <td>536825</td>\n",
       "      <td>нет</td>\n",
       "      <td>12</td>\n",
       "      <td>kzt</td>\n",
       "      <td>mobile</td>\n",
       "      <td>10338.190430</td>\n",
       "      <td>...</td>\n",
       "      <td>Широковка</td>\n",
       "      <td>162</td>\n",
       "      <td>2169</td>\n",
       "      <td>Кладбище искусств \"Феномен\" Инк</td>\n",
       "      <td>ш. Саратовское, д. 73 стр. 367</td>\n",
       "      <td>2024-06-14</td>\n",
       "      <td>100</td>\n",
       "      <td>19.525000</td>\n",
       "      <td>kzt</td>\n",
       "      <td>2018.531642</td>\n",
       "    </tr>\n",
       "    <tr>\n",
       "      <th>289708</th>\n",
       "      <td>8474265</td>\n",
       "      <td>c6ef049c34ebdc5</td>\n",
       "      <td>2024-06-14</td>\n",
       "      <td>2024-06-14 09:22:54</td>\n",
       "      <td>536825</td>\n",
       "      <td>нет</td>\n",
       "      <td>12</td>\n",
       "      <td>kzt</td>\n",
       "      <td>mobile</td>\n",
       "      <td>3446.060059</td>\n",
       "      <td>...</td>\n",
       "      <td>Широковка</td>\n",
       "      <td>162</td>\n",
       "      <td>2169</td>\n",
       "      <td>Кладбище искусств \"Феномен\" Инк</td>\n",
       "      <td>ш. Саратовское, д. 73 стр. 367</td>\n",
       "      <td>2024-06-14</td>\n",
       "      <td>100</td>\n",
       "      <td>19.525000</td>\n",
       "      <td>kzt</td>\n",
       "      <td>672.843213</td>\n",
       "    </tr>\n",
       "    <tr>\n",
       "      <th>289709</th>\n",
       "      <td>8474352</td>\n",
       "      <td>c6ef049c34ebdc5</td>\n",
       "      <td>2024-06-14</td>\n",
       "      <td>2024-06-14 09:15:10</td>\n",
       "      <td>536825</td>\n",
       "      <td>нет</td>\n",
       "      <td>12</td>\n",
       "      <td>kzt</td>\n",
       "      <td>mobile</td>\n",
       "      <td>10338.190430</td>\n",
       "      <td>...</td>\n",
       "      <td>Широковка</td>\n",
       "      <td>162</td>\n",
       "      <td>2169</td>\n",
       "      <td>Кладбище искусств \"Феномен\" Инк</td>\n",
       "      <td>ш. Саратовское, д. 73 стр. 367</td>\n",
       "      <td>2024-06-14</td>\n",
       "      <td>100</td>\n",
       "      <td>19.525000</td>\n",
       "      <td>kzt</td>\n",
       "      <td>2018.531642</td>\n",
       "    </tr>\n",
       "  </tbody>\n",
       "</table>\n",
       "<p>5069 rows × 29 columns</p>\n",
       "</div>"
      ],
      "text/plain": [
       "        order_id          user_id created_dt_msk      created_ts_msk  \\\n",
       "197      7315193  3ee7dc2e115847f     2024-08-20 2024-08-20 17:11:15   \n",
       "198      5512843  6c343a9a8a5fb89     2024-08-20 2024-08-20 14:51:57   \n",
       "199      5512785  6c343a9a8a5fb89     2024-08-20 2024-08-20 15:00:41   \n",
       "200      5512814  6c343a9a8a5fb89     2024-08-20 2024-08-20 14:55:30   \n",
       "201      7134697  8a3dacb24c96aa2     2024-08-20 2024-08-20 07:56:42   \n",
       "...          ...              ...            ...                 ...   \n",
       "289705   2844901  655911492b87f97     2024-06-14 2024-06-14 00:31:07   \n",
       "289706   4037149  7eb4fc207ecc10f     2024-06-14 2024-06-14 09:31:53   \n",
       "289707   8474236  c6ef049c34ebdc5     2024-06-14 2024-06-14 09:18:47   \n",
       "289708   8474265  c6ef049c34ebdc5     2024-06-14 2024-06-14 09:22:54   \n",
       "289709   8474352  c6ef049c34ebdc5     2024-06-14 2024-06-14 09:15:10   \n",
       "\n",
       "        event_id cinema_circuit  age_limit currency_code  \\\n",
       "197       533803            нет         16           kzt   \n",
       "198       533803            нет         16           kzt   \n",
       "199       533803            нет         16           kzt   \n",
       "200       533803            нет         16           kzt   \n",
       "201       533803            нет         16           kzt   \n",
       "...          ...            ...        ...           ...   \n",
       "289705    536825            нет         12           kzt   \n",
       "289706    536825            нет         12           kzt   \n",
       "289707    536825            нет         12           kzt   \n",
       "289708    536825            нет         12           kzt   \n",
       "289709    536825            нет         12           kzt   \n",
       "\n",
       "       device_type_canonical       revenue  ...  city_name  city_id  venue_id  \\\n",
       "197                   mobile   1849.410034  ...  Широковка      162      3407   \n",
       "198                   mobile   5548.240234  ...  Широковка      162      3407   \n",
       "199                   mobile   1849.410034  ...  Широковка      162      3407   \n",
       "200                   mobile   5548.240234  ...  Широковка      162      3407   \n",
       "201                   mobile   1849.410034  ...  Широковка      162      3407   \n",
       "...                      ...           ...  ...        ...      ...       ...   \n",
       "289705                mobile  13784.259766  ...  Широковка      162      2169   \n",
       "289706                mobile   3446.060059  ...  Широковка      162      2169   \n",
       "289707                mobile  10338.190430  ...  Широковка      162      2169   \n",
       "289708                mobile   3446.060059  ...  Широковка      162      2169   \n",
       "289709                mobile  10338.190430  ...  Широковка      162      2169   \n",
       "\n",
       "                             venue_name                   venue_address  \\\n",
       "197            Арт-кафе \"Речка\" Лимитед   алл. Путейская, д. 548 стр. 7   \n",
       "198            Арт-кафе \"Речка\" Лимитед   алл. Путейская, д. 548 стр. 7   \n",
       "199            Арт-кафе \"Речка\" Лимитед   алл. Путейская, д. 548 стр. 7   \n",
       "200            Арт-кафе \"Речка\" Лимитед   алл. Путейская, д. 548 стр. 7   \n",
       "201            Арт-кафе \"Речка\" Лимитед   алл. Путейская, д. 548 стр. 7   \n",
       "...                                 ...                             ...   \n",
       "289705  Кладбище искусств \"Феномен\" Инк  ш. Саратовское, д. 73 стр. 367   \n",
       "289706  Кладбище искусств \"Феномен\" Инк  ш. Саратовское, д. 73 стр. 367   \n",
       "289707  Кладбище искусств \"Феномен\" Инк  ш. Саратовское, д. 73 стр. 367   \n",
       "289708  Кладбище искусств \"Феномен\" Инк  ш. Саратовское, д. 73 стр. 367   \n",
       "289709  Кладбище искусств \"Феномен\" Инк  ш. Саратовское, д. 73 стр. 367   \n",
       "\n",
       "             data nominal       curs  cdx  revenue_rub  \n",
       "197    2024-08-20     100  18.697201  kzt   345.787907  \n",
       "198    2024-08-20     100  18.697201  kzt  1037.365616  \n",
       "199    2024-08-20     100  18.697201  kzt   345.787907  \n",
       "200    2024-08-20     100  18.697201  kzt  1037.365616  \n",
       "201    2024-08-20     100  18.697201  kzt   345.787907  \n",
       "...           ...     ...        ...  ...          ...  \n",
       "289705 2024-06-14     100  19.525000  kzt  2691.376667  \n",
       "289706 2024-06-14     100  19.525000  kzt   672.843213  \n",
       "289707 2024-06-14     100  19.525000  kzt  2018.531642  \n",
       "289708 2024-06-14     100  19.525000  kzt   672.843213  \n",
       "289709 2024-06-14     100  19.525000  kzt  2018.531642  \n",
       "\n",
       "[5069 rows x 29 columns]"
      ]
     },
     "execution_count": 17,
     "metadata": {},
     "output_type": "execute_result"
    }
   ],
   "source": [
    "# Проверка\n",
    "print(df.info())\n",
    "df[df['currency_code']== 'kzt'] # Переведем пару значений тенге в рубли самостоятельно и сравним результаты - ура ура сошлось!!"
   ]
  },
  {
   "cell_type": "markdown",
   "metadata": {},
   "source": [
    "**Далее изучим значения в ключевых столбцах**"
   ]
  },
  {
   "cell_type": "code",
   "execution_count": 18,
   "metadata": {},
   "outputs": [
    {
     "data": {
      "text/html": [
       "<div>\n",
       "<style scoped>\n",
       "    .dataframe tbody tr th:only-of-type {\n",
       "        vertical-align: middle;\n",
       "    }\n",
       "\n",
       "    .dataframe tbody tr th {\n",
       "        vertical-align: top;\n",
       "    }\n",
       "\n",
       "    .dataframe thead th {\n",
       "        text-align: right;\n",
       "    }\n",
       "</style>\n",
       "<table border=\"1\" class=\"dataframe\">\n",
       "  <thead>\n",
       "    <tr style=\"text-align: right;\">\n",
       "      <th></th>\n",
       "      <th>order_id</th>\n",
       "      <th>user_id</th>\n",
       "      <th>created_dt_msk</th>\n",
       "      <th>created_ts_msk</th>\n",
       "      <th>event_id</th>\n",
       "      <th>cinema_circuit</th>\n",
       "      <th>age_limit</th>\n",
       "      <th>currency_code</th>\n",
       "      <th>device_type_canonical</th>\n",
       "      <th>revenue</th>\n",
       "      <th>...</th>\n",
       "      <th>city_name</th>\n",
       "      <th>city_id</th>\n",
       "      <th>venue_id</th>\n",
       "      <th>venue_name</th>\n",
       "      <th>venue_address</th>\n",
       "      <th>data</th>\n",
       "      <th>nominal</th>\n",
       "      <th>curs</th>\n",
       "      <th>cdx</th>\n",
       "      <th>revenue_rub</th>\n",
       "    </tr>\n",
       "  </thead>\n",
       "  <tbody>\n",
       "    <tr>\n",
       "      <th>0</th>\n",
       "      <td>4359165</td>\n",
       "      <td>0002849b70a3ce2</td>\n",
       "      <td>2024-08-20</td>\n",
       "      <td>2024-08-20 16:08:03</td>\n",
       "      <td>169230</td>\n",
       "      <td>нет</td>\n",
       "      <td>16</td>\n",
       "      <td>rub</td>\n",
       "      <td>mobile</td>\n",
       "      <td>1521.939941</td>\n",
       "      <td>...</td>\n",
       "      <td>Глиногорск</td>\n",
       "      <td>213</td>\n",
       "      <td>3972</td>\n",
       "      <td>Сценический центр \"Деталь\" Групп</td>\n",
       "      <td>алл. Машиностроителей, д. 19 стр. 6</td>\n",
       "      <td>2024-08-20</td>\n",
       "      <td>100</td>\n",
       "      <td>18.697201</td>\n",
       "      <td>kzt</td>\n",
       "      <td>1521.939941</td>\n",
       "    </tr>\n",
       "    <tr>\n",
       "      <th>1</th>\n",
       "      <td>6274963</td>\n",
       "      <td>44c1c640a242aea</td>\n",
       "      <td>2024-08-20</td>\n",
       "      <td>2024-08-20 22:12:04</td>\n",
       "      <td>237325</td>\n",
       "      <td>нет</td>\n",
       "      <td>0</td>\n",
       "      <td>rub</td>\n",
       "      <td>mobile</td>\n",
       "      <td>144.729996</td>\n",
       "      <td>...</td>\n",
       "      <td>Глиногорск</td>\n",
       "      <td>213</td>\n",
       "      <td>2941</td>\n",
       "      <td>Музыкальная школа для детей \"Аккаунт\" Лтд</td>\n",
       "      <td>алл. Шмидта, д. 9 стр. 4</td>\n",
       "      <td>2024-08-20</td>\n",
       "      <td>100</td>\n",
       "      <td>18.697201</td>\n",
       "      <td>kzt</td>\n",
       "      <td>144.729996</td>\n",
       "    </tr>\n",
       "    <tr>\n",
       "      <th>2</th>\n",
       "      <td>474528</td>\n",
       "      <td>2b1f730d7024681</td>\n",
       "      <td>2024-08-20</td>\n",
       "      <td>2024-08-20 15:29:56</td>\n",
       "      <td>373657</td>\n",
       "      <td>нет</td>\n",
       "      <td>18</td>\n",
       "      <td>rub</td>\n",
       "      <td>mobile</td>\n",
       "      <td>318.269989</td>\n",
       "      <td>...</td>\n",
       "      <td>Озёрск</td>\n",
       "      <td>2</td>\n",
       "      <td>1631</td>\n",
       "      <td>Музей истории \"Воспоминание\" Групп</td>\n",
       "      <td>наб. Тамбовская, д. 1/4 к. 577</td>\n",
       "      <td>2024-08-20</td>\n",
       "      <td>100</td>\n",
       "      <td>18.697201</td>\n",
       "      <td>kzt</td>\n",
       "      <td>318.269989</td>\n",
       "    </tr>\n",
       "    <tr>\n",
       "      <th>3</th>\n",
       "      <td>7477361</td>\n",
       "      <td>05ba93f1b1e1fdd</td>\n",
       "      <td>2024-08-20</td>\n",
       "      <td>2024-08-20 17:06:44</td>\n",
       "      <td>534657</td>\n",
       "      <td>нет</td>\n",
       "      <td>16</td>\n",
       "      <td>rub</td>\n",
       "      <td>mobile</td>\n",
       "      <td>339.609985</td>\n",
       "      <td>...</td>\n",
       "      <td>Кокжар</td>\n",
       "      <td>20</td>\n",
       "      <td>2866</td>\n",
       "      <td>Школа фотографии \"Золотое\" Инк</td>\n",
       "      <td>ш. Микрорайон, д. 79 стр. 50</td>\n",
       "      <td>2024-08-20</td>\n",
       "      <td>100</td>\n",
       "      <td>18.697201</td>\n",
       "      <td>kzt</td>\n",
       "      <td>339.609985</td>\n",
       "    </tr>\n",
       "    <tr>\n",
       "      <th>4</th>\n",
       "      <td>472150</td>\n",
       "      <td>3ee7dc2e115847f</td>\n",
       "      <td>2024-08-20</td>\n",
       "      <td>2024-08-20 02:57:22</td>\n",
       "      <td>534657</td>\n",
       "      <td>нет</td>\n",
       "      <td>16</td>\n",
       "      <td>rub</td>\n",
       "      <td>mobile</td>\n",
       "      <td>339.609985</td>\n",
       "      <td>...</td>\n",
       "      <td>Кокжар</td>\n",
       "      <td>20</td>\n",
       "      <td>2866</td>\n",
       "      <td>Школа фотографии \"Золотое\" Инк</td>\n",
       "      <td>ш. Микрорайон, д. 79 стр. 50</td>\n",
       "      <td>2024-08-20</td>\n",
       "      <td>100</td>\n",
       "      <td>18.697201</td>\n",
       "      <td>kzt</td>\n",
       "      <td>339.609985</td>\n",
       "    </tr>\n",
       "  </tbody>\n",
       "</table>\n",
       "<p>5 rows × 29 columns</p>\n",
       "</div>"
      ],
      "text/plain": [
       "   order_id          user_id created_dt_msk      created_ts_msk  event_id  \\\n",
       "0   4359165  0002849b70a3ce2     2024-08-20 2024-08-20 16:08:03    169230   \n",
       "1   6274963  44c1c640a242aea     2024-08-20 2024-08-20 22:12:04    237325   \n",
       "2    474528  2b1f730d7024681     2024-08-20 2024-08-20 15:29:56    373657   \n",
       "3   7477361  05ba93f1b1e1fdd     2024-08-20 2024-08-20 17:06:44    534657   \n",
       "4    472150  3ee7dc2e115847f     2024-08-20 2024-08-20 02:57:22    534657   \n",
       "\n",
       "  cinema_circuit  age_limit currency_code device_type_canonical      revenue  \\\n",
       "0            нет         16           rub                mobile  1521.939941   \n",
       "1            нет          0           rub                mobile   144.729996   \n",
       "2            нет         18           rub                mobile   318.269989   \n",
       "3            нет         16           rub                mobile   339.609985   \n",
       "4            нет         16           rub                mobile   339.609985   \n",
       "\n",
       "   ...   city_name  city_id  venue_id  \\\n",
       "0  ...  Глиногорск      213      3972   \n",
       "1  ...  Глиногорск      213      2941   \n",
       "2  ...      Озёрск        2      1631   \n",
       "3  ...      Кокжар       20      2866   \n",
       "4  ...      Кокжар       20      2866   \n",
       "\n",
       "                                  venue_name  \\\n",
       "0           Сценический центр \"Деталь\" Групп   \n",
       "1  Музыкальная школа для детей \"Аккаунт\" Лтд   \n",
       "2         Музей истории \"Воспоминание\" Групп   \n",
       "3             Школа фотографии \"Золотое\" Инк   \n",
       "4             Школа фотографии \"Золотое\" Инк   \n",
       "\n",
       "                         venue_address       data nominal       curs  cdx  \\\n",
       "0  алл. Машиностроителей, д. 19 стр. 6 2024-08-20     100  18.697201  kzt   \n",
       "1             алл. Шмидта, д. 9 стр. 4 2024-08-20     100  18.697201  kzt   \n",
       "2       наб. Тамбовская, д. 1/4 к. 577 2024-08-20     100  18.697201  kzt   \n",
       "3         ш. Микрорайон, д. 79 стр. 50 2024-08-20     100  18.697201  kzt   \n",
       "4         ш. Микрорайон, д. 79 стр. 50 2024-08-20     100  18.697201  kzt   \n",
       "\n",
       "   revenue_rub  \n",
       "0  1521.939941  \n",
       "1   144.729996  \n",
       "2   318.269989  \n",
       "3   339.609985  \n",
       "4   339.609985  \n",
       "\n",
       "[5 rows x 29 columns]"
      ]
     },
     "execution_count": 18,
     "metadata": {},
     "output_type": "execute_result"
    }
   ],
   "source": [
    "df.head()"
   ]
  },
  {
   "cell_type": "code",
   "execution_count": 19,
   "metadata": {},
   "outputs": [
    {
     "name": "stdout",
     "output_type": "stream",
     "text": [
      "Уникальные значения в age_limit:\n",
      "[16  0 18  6 12]\n",
      "Уникальные значения в service_name:\n",
      "['Край билетов' 'Мой билет' 'Облачко' 'Быстробилет' 'Билеты без проблем'\n",
      " 'Весь в билетах' 'Билеты в руки' 'Прачечная' 'Лови билет!'\n",
      " 'Лучшие билеты' 'Дом культуры' 'За билетом!' 'Яблоко' 'Show_ticket'\n",
      " 'Тебе билет!' 'Мир касс' 'Выступления.ру' 'Восьмёрка'\n",
      " 'Городской дом культуры' 'Росбилет' 'Вперёд!' 'Crazy ticket!' 'Телебилет'\n",
      " 'Радио ticket' 'Кино билет' 'Зе Бест!' 'КарандашРУ' 'Шоу начинается!'\n",
      " 'Лимоны' 'Билет по телефону' 'Тех билет' 'Дырокол' 'Быстрый кассир'\n",
      " 'Реестр' 'Цвет и билет' 'Билеты в интернете']\n",
      "Уникальные значения в currency_code:\n",
      "['rub' 'kzt']\n",
      "Уникальные значения в device_type_canonical:\n",
      "['mobile' 'desktop']\n",
      "Уникальные значения в venue_name:\n",
      "['Сценический центр \"Деталь\" Групп'\n",
      " 'Музыкальная школа для детей \"Аккаунт\" Лтд'\n",
      " 'Музей истории \"Воспоминание\" Групп' ...\n",
      " 'Фонд искусств \"Синие\" и партнеры'\n",
      " 'Образовательное учреждение искусства \"Эксперт\" Инкорпорэйтед'\n",
      " 'Клуб стендап-комедии \"Традиция\" и партнеры']\n",
      "Уникальные значения в event_type_description:\n",
      "['спектакль' 'событие' 'шоу' 'концерт' 'ёлка' 'цирковое шоу' 'выставка'\n",
      " 'мюзикл' 'фестиваль' 'балет' 'спортивное мероприятие' 'спорт' 'опера'\n",
      " 'музыкальный спектакль' 'экскурсия' 'кукольный спектакль' 'подарок'\n",
      " 'снегурочка' 'оперетта' 'рок-мюзикл']\n",
      "Уникальные значения в event_type_main:\n",
      "['театр' 'выставки' 'стендап' 'концерты' 'ёлки' 'другое' 'спорт']\n"
     ]
    }
   ],
   "source": [
    "# Изучим категориальные значения в ключевых столбцах датасета\n",
    "for column in ['age_limit', 'service_name', 'currency_code', 'device_type_canonical', 'venue_name', 'event_type_description', 'event_type_main']:\n",
    "    print(f'Уникальные значения в {column}:')\n",
    "    print(df[column].unique())"
   ]
  },
  {
   "cell_type": "code",
   "execution_count": 20,
   "metadata": {
    "scrolled": false
   },
   "outputs": [
    {
     "name": "stdout",
     "output_type": "stream",
     "text": [
      "Описание столбца revenue_rub:\n",
      "count    290611.000000\n",
      "mean        555.571986\n",
      "std         875.498165\n",
      "min         -90.760002\n",
      "25%         113.970001\n",
      "50%         351.140015\n",
      "75%         802.049988\n",
      "max       81174.539062\n",
      "Name: revenue_rub, dtype: float64\n",
      "\n",
      "Описание столбца tickets_count:\n",
      "count    290611.000000\n",
      "mean          2.754311\n",
      "std           1.170620\n",
      "min           1.000000\n",
      "25%           2.000000\n",
      "50%           3.000000\n",
      "75%           4.000000\n",
      "max          57.000000\n",
      "Name: tickets_count, dtype: float64\n",
      "\n"
     ]
    }
   ],
   "source": [
    "# Изучим количественные значения в ключевых столбцах датасета\n",
    "for column in ['revenue_rub', 'tickets_count']:\n",
    "    print(f'Описание столбца {column}:')\n",
    "    print(df[column].describe())\n",
    "    print()"
   ]
  },
  {
   "cell_type": "markdown",
   "metadata": {},
   "source": [
    "В категориальных данных датасета `df` все корректно. В количественных же данных: \n",
    " + в столбце `revenue_rub` видим выбросы в большую сторону\n",
    " + в столбце `tickets_count` видим очень большое макс кол-во билетов - 57. Необходимо проверить, ок это или нет"
   ]
  },
  {
   "cell_type": "code",
   "execution_count": 21,
   "metadata": {},
   "outputs": [
    {
     "data": {
      "text/html": [
       "<div>\n",
       "<style scoped>\n",
       "    .dataframe tbody tr th:only-of-type {\n",
       "        vertical-align: middle;\n",
       "    }\n",
       "\n",
       "    .dataframe tbody tr th {\n",
       "        vertical-align: top;\n",
       "    }\n",
       "\n",
       "    .dataframe thead th {\n",
       "        text-align: right;\n",
       "    }\n",
       "</style>\n",
       "<table border=\"1\" class=\"dataframe\">\n",
       "  <thead>\n",
       "    <tr style=\"text-align: right;\">\n",
       "      <th></th>\n",
       "      <th>order_id</th>\n",
       "      <th>user_id</th>\n",
       "      <th>created_dt_msk</th>\n",
       "      <th>created_ts_msk</th>\n",
       "      <th>event_id</th>\n",
       "      <th>cinema_circuit</th>\n",
       "      <th>age_limit</th>\n",
       "      <th>currency_code</th>\n",
       "      <th>device_type_canonical</th>\n",
       "      <th>revenue</th>\n",
       "      <th>...</th>\n",
       "      <th>city_name</th>\n",
       "      <th>city_id</th>\n",
       "      <th>venue_id</th>\n",
       "      <th>venue_name</th>\n",
       "      <th>venue_address</th>\n",
       "      <th>data</th>\n",
       "      <th>nominal</th>\n",
       "      <th>curs</th>\n",
       "      <th>cdx</th>\n",
       "      <th>revenue_rub</th>\n",
       "    </tr>\n",
       "  </thead>\n",
       "  <tbody>\n",
       "    <tr>\n",
       "      <th>8036</th>\n",
       "      <td>3526546</td>\n",
       "      <td>7eb4fc207ecc10f</td>\n",
       "      <td>2024-08-29</td>\n",
       "      <td>2024-08-29 12:55:06</td>\n",
       "      <td>557574</td>\n",
       "      <td>нет</td>\n",
       "      <td>0</td>\n",
       "      <td>rub</td>\n",
       "      <td>desktop</td>\n",
       "      <td>0.000000</td>\n",
       "      <td>...</td>\n",
       "      <td>Глиногорск</td>\n",
       "      <td>213</td>\n",
       "      <td>1614</td>\n",
       "      <td>Культурный центр \"Общие\" Групп</td>\n",
       "      <td>ул. Владимирская, д. 87 стр. 4</td>\n",
       "      <td>2024-08-29</td>\n",
       "      <td>100</td>\n",
       "      <td>19.027599</td>\n",
       "      <td>kzt</td>\n",
       "      <td>0.000000</td>\n",
       "    </tr>\n",
       "    <tr>\n",
       "      <th>8037</th>\n",
       "      <td>3526604</td>\n",
       "      <td>7eb4fc207ecc10f</td>\n",
       "      <td>2024-08-29</td>\n",
       "      <td>2024-08-29 12:57:45</td>\n",
       "      <td>557574</td>\n",
       "      <td>нет</td>\n",
       "      <td>0</td>\n",
       "      <td>rub</td>\n",
       "      <td>desktop</td>\n",
       "      <td>0.000000</td>\n",
       "      <td>...</td>\n",
       "      <td>Глиногорск</td>\n",
       "      <td>213</td>\n",
       "      <td>1614</td>\n",
       "      <td>Культурный центр \"Общие\" Групп</td>\n",
       "      <td>ул. Владимирская, д. 87 стр. 4</td>\n",
       "      <td>2024-08-29</td>\n",
       "      <td>100</td>\n",
       "      <td>19.027599</td>\n",
       "      <td>kzt</td>\n",
       "      <td>0.000000</td>\n",
       "    </tr>\n",
       "    <tr>\n",
       "      <th>8038</th>\n",
       "      <td>3526633</td>\n",
       "      <td>7eb4fc207ecc10f</td>\n",
       "      <td>2024-08-29</td>\n",
       "      <td>2024-08-29 13:03:47</td>\n",
       "      <td>215381</td>\n",
       "      <td>нет</td>\n",
       "      <td>0</td>\n",
       "      <td>rub</td>\n",
       "      <td>desktop</td>\n",
       "      <td>0.000000</td>\n",
       "      <td>...</td>\n",
       "      <td>Глиногорск</td>\n",
       "      <td>213</td>\n",
       "      <td>1614</td>\n",
       "      <td>Культурный центр \"Общие\" Групп</td>\n",
       "      <td>ул. Владимирская, д. 87 стр. 4</td>\n",
       "      <td>2024-08-29</td>\n",
       "      <td>100</td>\n",
       "      <td>19.027599</td>\n",
       "      <td>kzt</td>\n",
       "      <td>0.000000</td>\n",
       "    </tr>\n",
       "    <tr>\n",
       "      <th>8039</th>\n",
       "      <td>3526575</td>\n",
       "      <td>7eb4fc207ecc10f</td>\n",
       "      <td>2024-08-29</td>\n",
       "      <td>2024-08-29 13:01:35</td>\n",
       "      <td>215381</td>\n",
       "      <td>нет</td>\n",
       "      <td>0</td>\n",
       "      <td>rub</td>\n",
       "      <td>desktop</td>\n",
       "      <td>0.000000</td>\n",
       "      <td>...</td>\n",
       "      <td>Глиногорск</td>\n",
       "      <td>213</td>\n",
       "      <td>1614</td>\n",
       "      <td>Культурный центр \"Общие\" Групп</td>\n",
       "      <td>ул. Владимирская, д. 87 стр. 4</td>\n",
       "      <td>2024-08-29</td>\n",
       "      <td>100</td>\n",
       "      <td>19.027599</td>\n",
       "      <td>kzt</td>\n",
       "      <td>0.000000</td>\n",
       "    </tr>\n",
       "    <tr>\n",
       "      <th>12522</th>\n",
       "      <td>8188499</td>\n",
       "      <td>f6af1139a64d911</td>\n",
       "      <td>2024-09-11</td>\n",
       "      <td>2024-09-11 19:28:17</td>\n",
       "      <td>542587</td>\n",
       "      <td>нет</td>\n",
       "      <td>6</td>\n",
       "      <td>rub</td>\n",
       "      <td>mobile</td>\n",
       "      <td>299.019989</td>\n",
       "      <td>...</td>\n",
       "      <td>Радужанов</td>\n",
       "      <td>11</td>\n",
       "      <td>2160</td>\n",
       "      <td>Клуб исторических реконструкций \"Кружка\" Инк</td>\n",
       "      <td>пр. Индустриальный, д. 1/1 стр. 348</td>\n",
       "      <td>2024-09-11</td>\n",
       "      <td>100</td>\n",
       "      <td>19.025801</td>\n",
       "      <td>kzt</td>\n",
       "      <td>299.019989</td>\n",
       "    </tr>\n",
       "    <tr>\n",
       "      <th>45627</th>\n",
       "      <td>5338292</td>\n",
       "      <td>18e9aead0a393e7</td>\n",
       "      <td>2024-09-09</td>\n",
       "      <td>2024-09-09 10:03:45</td>\n",
       "      <td>561027</td>\n",
       "      <td>нет</td>\n",
       "      <td>12</td>\n",
       "      <td>rub</td>\n",
       "      <td>desktop</td>\n",
       "      <td>640.409973</td>\n",
       "      <td>...</td>\n",
       "      <td>Леснойск</td>\n",
       "      <td>968</td>\n",
       "      <td>2805</td>\n",
       "      <td>Центр культурного наследия \"Заряд\" и партнеры</td>\n",
       "      <td>ш. Пугачева, д. 9/7 к. 39</td>\n",
       "      <td>2024-09-09</td>\n",
       "      <td>100</td>\n",
       "      <td>18.599100</td>\n",
       "      <td>kzt</td>\n",
       "      <td>640.409973</td>\n",
       "    </tr>\n",
       "    <tr>\n",
       "      <th>70977</th>\n",
       "      <td>8188789</td>\n",
       "      <td>f6af1139a64d911</td>\n",
       "      <td>2024-10-31</td>\n",
       "      <td>2024-10-31 14:02:29</td>\n",
       "      <td>563139</td>\n",
       "      <td>нет</td>\n",
       "      <td>0</td>\n",
       "      <td>rub</td>\n",
       "      <td>mobile</td>\n",
       "      <td>0.000000</td>\n",
       "      <td>...</td>\n",
       "      <td>Крутовинск</td>\n",
       "      <td>44</td>\n",
       "      <td>4481</td>\n",
       "      <td>Школа сценического мастерства \"Вдох\" Лтд</td>\n",
       "      <td>пер. Полярный, д. 87</td>\n",
       "      <td>2024-10-31</td>\n",
       "      <td>100</td>\n",
       "      <td>19.738300</td>\n",
       "      <td>kzt</td>\n",
       "      <td>0.000000</td>\n",
       "    </tr>\n",
       "    <tr>\n",
       "      <th>85777</th>\n",
       "      <td>1427845</td>\n",
       "      <td>76694a971889caa</td>\n",
       "      <td>2024-10-18</td>\n",
       "      <td>2024-10-18 09:59:15</td>\n",
       "      <td>542512</td>\n",
       "      <td>нет</td>\n",
       "      <td>0</td>\n",
       "      <td>rub</td>\n",
       "      <td>desktop</td>\n",
       "      <td>179.639999</td>\n",
       "      <td>...</td>\n",
       "      <td>Радужанов</td>\n",
       "      <td>11</td>\n",
       "      <td>2160</td>\n",
       "      <td>Клуб исторических реконструкций \"Кружка\" Инк</td>\n",
       "      <td>пр. Индустриальный, д. 1/1 стр. 348</td>\n",
       "      <td>2024-10-18</td>\n",
       "      <td>100</td>\n",
       "      <td>19.869699</td>\n",
       "      <td>kzt</td>\n",
       "      <td>179.639999</td>\n",
       "    </tr>\n",
       "    <tr>\n",
       "      <th>88461</th>\n",
       "      <td>3526517</td>\n",
       "      <td>7eb4fc207ecc10f</td>\n",
       "      <td>2024-08-22</td>\n",
       "      <td>2024-08-22 11:23:50</td>\n",
       "      <td>557574</td>\n",
       "      <td>нет</td>\n",
       "      <td>0</td>\n",
       "      <td>rub</td>\n",
       "      <td>desktop</td>\n",
       "      <td>0.000000</td>\n",
       "      <td>...</td>\n",
       "      <td>Глиногорск</td>\n",
       "      <td>213</td>\n",
       "      <td>1614</td>\n",
       "      <td>Культурный центр \"Общие\" Групп</td>\n",
       "      <td>ул. Владимирская, д. 87 стр. 4</td>\n",
       "      <td>2024-08-22</td>\n",
       "      <td>100</td>\n",
       "      <td>19.229099</td>\n",
       "      <td>kzt</td>\n",
       "      <td>0.000000</td>\n",
       "    </tr>\n",
       "    <tr>\n",
       "      <th>98730</th>\n",
       "      <td>806259</td>\n",
       "      <td>7eb4fc207ecc10f</td>\n",
       "      <td>2024-07-19</td>\n",
       "      <td>2024-07-19 17:06:30</td>\n",
       "      <td>516731</td>\n",
       "      <td>нет</td>\n",
       "      <td>16</td>\n",
       "      <td>rub</td>\n",
       "      <td>desktop</td>\n",
       "      <td>1926.709961</td>\n",
       "      <td>...</td>\n",
       "      <td>Глиногорск</td>\n",
       "      <td>213</td>\n",
       "      <td>2831</td>\n",
       "      <td>Библиотека \"Мозаика\" Лимитед</td>\n",
       "      <td>ул. Степная, д. 97 стр. 7</td>\n",
       "      <td>2024-07-19</td>\n",
       "      <td>100</td>\n",
       "      <td>18.506701</td>\n",
       "      <td>kzt</td>\n",
       "      <td>1926.709961</td>\n",
       "    </tr>\n",
       "    <tr>\n",
       "      <th>98732</th>\n",
       "      <td>806114</td>\n",
       "      <td>7eb4fc207ecc10f</td>\n",
       "      <td>2024-07-19</td>\n",
       "      <td>2024-07-19 16:51:50</td>\n",
       "      <td>516731</td>\n",
       "      <td>нет</td>\n",
       "      <td>16</td>\n",
       "      <td>rub</td>\n",
       "      <td>desktop</td>\n",
       "      <td>1723.900024</td>\n",
       "      <td>...</td>\n",
       "      <td>Глиногорск</td>\n",
       "      <td>213</td>\n",
       "      <td>2831</td>\n",
       "      <td>Библиотека \"Мозаика\" Лимитед</td>\n",
       "      <td>ул. Степная, д. 97 стр. 7</td>\n",
       "      <td>2024-07-19</td>\n",
       "      <td>100</td>\n",
       "      <td>18.506701</td>\n",
       "      <td>kzt</td>\n",
       "      <td>1723.900024</td>\n",
       "    </tr>\n",
       "    <tr>\n",
       "      <th>98733</th>\n",
       "      <td>806230</td>\n",
       "      <td>7eb4fc207ecc10f</td>\n",
       "      <td>2024-07-19</td>\n",
       "      <td>2024-07-19 17:21:09</td>\n",
       "      <td>516731</td>\n",
       "      <td>нет</td>\n",
       "      <td>16</td>\n",
       "      <td>rub</td>\n",
       "      <td>desktop</td>\n",
       "      <td>1723.900024</td>\n",
       "      <td>...</td>\n",
       "      <td>Глиногорск</td>\n",
       "      <td>213</td>\n",
       "      <td>2831</td>\n",
       "      <td>Библиотека \"Мозаика\" Лимитед</td>\n",
       "      <td>ул. Степная, д. 97 стр. 7</td>\n",
       "      <td>2024-07-19</td>\n",
       "      <td>100</td>\n",
       "      <td>18.506701</td>\n",
       "      <td>kzt</td>\n",
       "      <td>1723.900024</td>\n",
       "    </tr>\n",
       "    <tr>\n",
       "      <th>98737</th>\n",
       "      <td>806288</td>\n",
       "      <td>7eb4fc207ecc10f</td>\n",
       "      <td>2024-07-19</td>\n",
       "      <td>2024-07-19 16:34:49</td>\n",
       "      <td>516731</td>\n",
       "      <td>нет</td>\n",
       "      <td>16</td>\n",
       "      <td>rub</td>\n",
       "      <td>desktop</td>\n",
       "      <td>1723.900024</td>\n",
       "      <td>...</td>\n",
       "      <td>Глиногорск</td>\n",
       "      <td>213</td>\n",
       "      <td>2831</td>\n",
       "      <td>Библиотека \"Мозаика\" Лимитед</td>\n",
       "      <td>ул. Степная, д. 97 стр. 7</td>\n",
       "      <td>2024-07-19</td>\n",
       "      <td>100</td>\n",
       "      <td>18.506701</td>\n",
       "      <td>kzt</td>\n",
       "      <td>1723.900024</td>\n",
       "    </tr>\n",
       "    <tr>\n",
       "      <th>98740</th>\n",
       "      <td>806143</td>\n",
       "      <td>7eb4fc207ecc10f</td>\n",
       "      <td>2024-07-19</td>\n",
       "      <td>2024-07-19 17:13:59</td>\n",
       "      <td>516731</td>\n",
       "      <td>нет</td>\n",
       "      <td>16</td>\n",
       "      <td>rub</td>\n",
       "      <td>desktop</td>\n",
       "      <td>1926.709961</td>\n",
       "      <td>...</td>\n",
       "      <td>Глиногорск</td>\n",
       "      <td>213</td>\n",
       "      <td>2831</td>\n",
       "      <td>Библиотека \"Мозаика\" Лимитед</td>\n",
       "      <td>ул. Степная, д. 97 стр. 7</td>\n",
       "      <td>2024-07-19</td>\n",
       "      <td>100</td>\n",
       "      <td>18.506701</td>\n",
       "      <td>kzt</td>\n",
       "      <td>1926.709961</td>\n",
       "    </tr>\n",
       "    <tr>\n",
       "      <th>123489</th>\n",
       "      <td>5190682</td>\n",
       "      <td>3ee7dc2e115847f</td>\n",
       "      <td>2024-10-06</td>\n",
       "      <td>2024-10-06 13:08:42</td>\n",
       "      <td>575780</td>\n",
       "      <td>нет</td>\n",
       "      <td>0</td>\n",
       "      <td>rub</td>\n",
       "      <td>desktop</td>\n",
       "      <td>328.489990</td>\n",
       "      <td>...</td>\n",
       "      <td>Лесоярич</td>\n",
       "      <td>51</td>\n",
       "      <td>3665</td>\n",
       "      <td>Детская театральная студия \"Воспоминание\" Инко...</td>\n",
       "      <td>ш. Кочубея, д. 3/5</td>\n",
       "      <td>2024-10-06</td>\n",
       "      <td>100</td>\n",
       "      <td>19.647499</td>\n",
       "      <td>kzt</td>\n",
       "      <td>328.489990</td>\n",
       "    </tr>\n",
       "    <tr>\n",
       "      <th>123490</th>\n",
       "      <td>5190653</td>\n",
       "      <td>3ee7dc2e115847f</td>\n",
       "      <td>2024-10-06</td>\n",
       "      <td>2024-10-06 13:06:40</td>\n",
       "      <td>575780</td>\n",
       "      <td>нет</td>\n",
       "      <td>0</td>\n",
       "      <td>rub</td>\n",
       "      <td>desktop</td>\n",
       "      <td>328.489990</td>\n",
       "      <td>...</td>\n",
       "      <td>Лесоярич</td>\n",
       "      <td>51</td>\n",
       "      <td>3665</td>\n",
       "      <td>Детская театральная студия \"Воспоминание\" Инко...</td>\n",
       "      <td>ш. Кочубея, д. 3/5</td>\n",
       "      <td>2024-10-06</td>\n",
       "      <td>100</td>\n",
       "      <td>19.647499</td>\n",
       "      <td>kzt</td>\n",
       "      <td>328.489990</td>\n",
       "    </tr>\n",
       "    <tr>\n",
       "      <th>200895</th>\n",
       "      <td>8151843</td>\n",
       "      <td>7eb4fc207ecc10f</td>\n",
       "      <td>2024-09-17</td>\n",
       "      <td>2024-09-17 15:41:39</td>\n",
       "      <td>564789</td>\n",
       "      <td>нет</td>\n",
       "      <td>0</td>\n",
       "      <td>rub</td>\n",
       "      <td>desktop</td>\n",
       "      <td>1147.670044</td>\n",
       "      <td>...</td>\n",
       "      <td>Радужсвет</td>\n",
       "      <td>47</td>\n",
       "      <td>2157</td>\n",
       "      <td>Студия дизайна \"Платформа\" Инкорпорэйтед</td>\n",
       "      <td>наб. Магистральная, д. 5</td>\n",
       "      <td>2024-09-17</td>\n",
       "      <td>100</td>\n",
       "      <td>19.012501</td>\n",
       "      <td>kzt</td>\n",
       "      <td>1147.670044</td>\n",
       "    </tr>\n",
       "    <tr>\n",
       "      <th>213612</th>\n",
       "      <td>3091430</td>\n",
       "      <td>9e4f3ad398e1a2e</td>\n",
       "      <td>2024-10-15</td>\n",
       "      <td>2024-10-15 14:33:21</td>\n",
       "      <td>573817</td>\n",
       "      <td>нет</td>\n",
       "      <td>12</td>\n",
       "      <td>rub</td>\n",
       "      <td>desktop</td>\n",
       "      <td>190.059998</td>\n",
       "      <td>...</td>\n",
       "      <td>Леснойск</td>\n",
       "      <td>968</td>\n",
       "      <td>2805</td>\n",
       "      <td>Центр культурного наследия \"Заряд\" и партнеры</td>\n",
       "      <td>ш. Пугачева, д. 9/7 к. 39</td>\n",
       "      <td>2024-10-15</td>\n",
       "      <td>100</td>\n",
       "      <td>19.718500</td>\n",
       "      <td>kzt</td>\n",
       "      <td>190.059998</td>\n",
       "    </tr>\n",
       "  </tbody>\n",
       "</table>\n",
       "<p>18 rows × 29 columns</p>\n",
       "</div>"
      ],
      "text/plain": [
       "        order_id          user_id created_dt_msk      created_ts_msk  \\\n",
       "8036     3526546  7eb4fc207ecc10f     2024-08-29 2024-08-29 12:55:06   \n",
       "8037     3526604  7eb4fc207ecc10f     2024-08-29 2024-08-29 12:57:45   \n",
       "8038     3526633  7eb4fc207ecc10f     2024-08-29 2024-08-29 13:03:47   \n",
       "8039     3526575  7eb4fc207ecc10f     2024-08-29 2024-08-29 13:01:35   \n",
       "12522    8188499  f6af1139a64d911     2024-09-11 2024-09-11 19:28:17   \n",
       "45627    5338292  18e9aead0a393e7     2024-09-09 2024-09-09 10:03:45   \n",
       "70977    8188789  f6af1139a64d911     2024-10-31 2024-10-31 14:02:29   \n",
       "85777    1427845  76694a971889caa     2024-10-18 2024-10-18 09:59:15   \n",
       "88461    3526517  7eb4fc207ecc10f     2024-08-22 2024-08-22 11:23:50   \n",
       "98730     806259  7eb4fc207ecc10f     2024-07-19 2024-07-19 17:06:30   \n",
       "98732     806114  7eb4fc207ecc10f     2024-07-19 2024-07-19 16:51:50   \n",
       "98733     806230  7eb4fc207ecc10f     2024-07-19 2024-07-19 17:21:09   \n",
       "98737     806288  7eb4fc207ecc10f     2024-07-19 2024-07-19 16:34:49   \n",
       "98740     806143  7eb4fc207ecc10f     2024-07-19 2024-07-19 17:13:59   \n",
       "123489   5190682  3ee7dc2e115847f     2024-10-06 2024-10-06 13:08:42   \n",
       "123490   5190653  3ee7dc2e115847f     2024-10-06 2024-10-06 13:06:40   \n",
       "200895   8151843  7eb4fc207ecc10f     2024-09-17 2024-09-17 15:41:39   \n",
       "213612   3091430  9e4f3ad398e1a2e     2024-10-15 2024-10-15 14:33:21   \n",
       "\n",
       "        event_id cinema_circuit  age_limit currency_code  \\\n",
       "8036      557574            нет          0           rub   \n",
       "8037      557574            нет          0           rub   \n",
       "8038      215381            нет          0           rub   \n",
       "8039      215381            нет          0           rub   \n",
       "12522     542587            нет          6           rub   \n",
       "45627     561027            нет         12           rub   \n",
       "70977     563139            нет          0           rub   \n",
       "85777     542512            нет          0           rub   \n",
       "88461     557574            нет          0           rub   \n",
       "98730     516731            нет         16           rub   \n",
       "98732     516731            нет         16           rub   \n",
       "98733     516731            нет         16           rub   \n",
       "98737     516731            нет         16           rub   \n",
       "98740     516731            нет         16           rub   \n",
       "123489    575780            нет          0           rub   \n",
       "123490    575780            нет          0           rub   \n",
       "200895    564789            нет          0           rub   \n",
       "213612    573817            нет         12           rub   \n",
       "\n",
       "       device_type_canonical      revenue  ...   city_name  city_id  venue_id  \\\n",
       "8036                 desktop     0.000000  ...  Глиногорск      213      1614   \n",
       "8037                 desktop     0.000000  ...  Глиногорск      213      1614   \n",
       "8038                 desktop     0.000000  ...  Глиногорск      213      1614   \n",
       "8039                 desktop     0.000000  ...  Глиногорск      213      1614   \n",
       "12522                 mobile   299.019989  ...   Радужанов       11      2160   \n",
       "45627                desktop   640.409973  ...    Леснойск      968      2805   \n",
       "70977                 mobile     0.000000  ...  Крутовинск       44      4481   \n",
       "85777                desktop   179.639999  ...   Радужанов       11      2160   \n",
       "88461                desktop     0.000000  ...  Глиногорск      213      1614   \n",
       "98730                desktop  1926.709961  ...  Глиногорск      213      2831   \n",
       "98732                desktop  1723.900024  ...  Глиногорск      213      2831   \n",
       "98733                desktop  1723.900024  ...  Глиногорск      213      2831   \n",
       "98737                desktop  1723.900024  ...  Глиногорск      213      2831   \n",
       "98740                desktop  1926.709961  ...  Глиногорск      213      2831   \n",
       "123489               desktop   328.489990  ...    Лесоярич       51      3665   \n",
       "123490               desktop   328.489990  ...    Лесоярич       51      3665   \n",
       "200895               desktop  1147.670044  ...   Радужсвет       47      2157   \n",
       "213612               desktop   190.059998  ...    Леснойск      968      2805   \n",
       "\n",
       "                                               venue_name  \\\n",
       "8036                       Культурный центр \"Общие\" Групп   \n",
       "8037                       Культурный центр \"Общие\" Групп   \n",
       "8038                       Культурный центр \"Общие\" Групп   \n",
       "8039                       Культурный центр \"Общие\" Групп   \n",
       "12522        Клуб исторических реконструкций \"Кружка\" Инк   \n",
       "45627       Центр культурного наследия \"Заряд\" и партнеры   \n",
       "70977            Школа сценического мастерства \"Вдох\" Лтд   \n",
       "85777        Клуб исторических реконструкций \"Кружка\" Инк   \n",
       "88461                      Культурный центр \"Общие\" Групп   \n",
       "98730                        Библиотека \"Мозаика\" Лимитед   \n",
       "98732                        Библиотека \"Мозаика\" Лимитед   \n",
       "98733                        Библиотека \"Мозаика\" Лимитед   \n",
       "98737                        Библиотека \"Мозаика\" Лимитед   \n",
       "98740                        Библиотека \"Мозаика\" Лимитед   \n",
       "123489  Детская театральная студия \"Воспоминание\" Инко...   \n",
       "123490  Детская театральная студия \"Воспоминание\" Инко...   \n",
       "200895           Студия дизайна \"Платформа\" Инкорпорэйтед   \n",
       "213612      Центр культурного наследия \"Заряд\" и партнеры   \n",
       "\n",
       "                              venue_address       data nominal       curs  \\\n",
       "8036         ул. Владимирская, д. 87 стр. 4 2024-08-29     100  19.027599   \n",
       "8037         ул. Владимирская, д. 87 стр. 4 2024-08-29     100  19.027599   \n",
       "8038         ул. Владимирская, д. 87 стр. 4 2024-08-29     100  19.027599   \n",
       "8039         ул. Владимирская, д. 87 стр. 4 2024-08-29     100  19.027599   \n",
       "12522   пр. Индустриальный, д. 1/1 стр. 348 2024-09-11     100  19.025801   \n",
       "45627             ш. Пугачева, д. 9/7 к. 39 2024-09-09     100  18.599100   \n",
       "70977                  пер. Полярный, д. 87 2024-10-31     100  19.738300   \n",
       "85777   пр. Индустриальный, д. 1/1 стр. 348 2024-10-18     100  19.869699   \n",
       "88461        ул. Владимирская, д. 87 стр. 4 2024-08-22     100  19.229099   \n",
       "98730             ул. Степная, д. 97 стр. 7 2024-07-19     100  18.506701   \n",
       "98732             ул. Степная, д. 97 стр. 7 2024-07-19     100  18.506701   \n",
       "98733             ул. Степная, д. 97 стр. 7 2024-07-19     100  18.506701   \n",
       "98737             ул. Степная, д. 97 стр. 7 2024-07-19     100  18.506701   \n",
       "98740             ул. Степная, д. 97 стр. 7 2024-07-19     100  18.506701   \n",
       "123489                   ш. Кочубея, д. 3/5 2024-10-06     100  19.647499   \n",
       "123490                   ш. Кочубея, д. 3/5 2024-10-06     100  19.647499   \n",
       "200895             наб. Магистральная, д. 5 2024-09-17     100  19.012501   \n",
       "213612            ш. Пугачева, д. 9/7 к. 39 2024-10-15     100  19.718500   \n",
       "\n",
       "        cdx  revenue_rub  \n",
       "8036    kzt     0.000000  \n",
       "8037    kzt     0.000000  \n",
       "8038    kzt     0.000000  \n",
       "8039    kzt     0.000000  \n",
       "12522   kzt   299.019989  \n",
       "45627   kzt   640.409973  \n",
       "70977   kzt     0.000000  \n",
       "85777   kzt   179.639999  \n",
       "88461   kzt     0.000000  \n",
       "98730   kzt  1926.709961  \n",
       "98732   kzt  1723.900024  \n",
       "98733   kzt  1723.900024  \n",
       "98737   kzt  1723.900024  \n",
       "98740   kzt  1926.709961  \n",
       "123489  kzt   328.489990  \n",
       "123490  kzt   328.489990  \n",
       "200895  kzt  1147.670044  \n",
       "213612  kzt   190.059998  \n",
       "\n",
       "[18 rows x 29 columns]"
      ]
     },
     "execution_count": 21,
     "metadata": {},
     "output_type": "execute_result"
    }
   ],
   "source": [
    "# Проверим сначала выбросы по полю tickets_count\n",
    "df[df['tickets_count']>15]"
   ]
  },
  {
   "cell_type": "markdown",
   "metadata": {},
   "source": [
    "Видим, что билетов, купленных много штук за раз не так много и к тому же, это могут быть вполне реальные данные, если например мероприятие посещала группа студентов/школьников и тд (даже если и аномальные данные, то их совсем мало и они не повлияют на анализ и выводы). Изучим поробнее столбец revenue_rub"
   ]
  },
  {
   "cell_type": "code",
   "execution_count": 22,
   "metadata": {},
   "outputs": [
    {
     "data": {
      "image/png": "[encoded data removed]",
      "text/plain": [
       "<Figure size 864x720 with 1 Axes>"
      ]
     },
     "metadata": {
      "needs_background": "light"
     },
     "output_type": "display_data"
    }
   ],
   "source": [
    "# Постороим диаграмму размаха\n",
    "boxplot = df.boxplot(column='revenue_rub',\n",
    "                    vert=False, \n",
    "                    figsize=(12, 10))\n",
    "# Добавляем заголовок и метку оси X\n",
    "boxplot.set_title('Распределение выручки')\n",
    "boxplot.set_xlabel('Руб.');"
   ]
  },
  {
   "cell_type": "markdown",
   "metadata": {},
   "source": [
    "Выбросов много, чтобы от них избавиться, отфильтруем значения по 99 процентилю"
   ]
  },
  {
   "cell_type": "code",
   "execution_count": 23,
   "metadata": {},
   "outputs": [],
   "source": [
    "# Установим пороги\n",
    "upper_line = df['revenue_rub'].quantile(0.99)\n",
    "\n",
    "# Отфильтруем датасет от выбросов\n",
    "new_df = df.loc[df['revenue_rub'] < upper_line]"
   ]
  },
  {
   "cell_type": "code",
   "execution_count": 24,
   "metadata": {
    "scrolled": true
   },
   "outputs": [
    {
     "data": {
      "text/plain": [
       "count    287604.000000\n",
       "mean        516.693737\n",
       "std         509.364881\n",
       "min         -90.760002\n",
       "25%         111.675001\n",
       "50%         343.619995\n",
       "75%         787.710022\n",
       "max        2627.000000\n",
       "Name: revenue_rub, dtype: float64"
      ]
     },
     "execution_count": 24,
     "metadata": {},
     "output_type": "execute_result"
    }
   ],
   "source": [
    "# Проверка\n",
    "new_df['revenue_rub'].describe()"
   ]
  },
  {
   "cell_type": "markdown",
   "metadata": {},
   "source": [
    "Далее проверим данные на наличие явных и неявных дублей"
   ]
  },
  {
   "cell_type": "code",
   "execution_count": 25,
   "metadata": {},
   "outputs": [
    {
     "data": {
      "text/plain": [
       "0"
      ]
     },
     "execution_count": 25,
     "metadata": {},
     "output_type": "execute_result"
    }
   ],
   "source": [
    "# Ищем явные дубли\n",
    "new_df.duplicated().sum() "
   ]
  },
  {
   "cell_type": "code",
   "execution_count": 26,
   "metadata": {},
   "outputs": [
    {
     "data": {
      "text/plain": [
       "['user_id',\n",
       " 'created_dt_msk',\n",
       " 'created_ts_msk',\n",
       " 'event_id',\n",
       " 'cinema_circuit',\n",
       " 'age_limit',\n",
       " 'currency_code',\n",
       " 'device_type_canonical',\n",
       " 'revenue',\n",
       " 'service_name',\n",
       " 'tickets_count',\n",
       " 'total',\n",
       " 'days_since_prev',\n",
       " 'event_name',\n",
       " 'event_type_description',\n",
       " 'event_type_main',\n",
       " 'organizers',\n",
       " 'region_name',\n",
       " 'city_name',\n",
       " 'city_id',\n",
       " 'venue_id',\n",
       " 'venue_name',\n",
       " 'venue_address',\n",
       " 'data',\n",
       " 'nominal',\n",
       " 'curs',\n",
       " 'cdx',\n",
       " 'revenue_rub']"
      ]
     },
     "execution_count": 26,
     "metadata": {},
     "output_type": "execute_result"
    }
   ],
   "source": [
    "cols_list = new_df.columns.tolist()\n",
    "cols_list = cols_list[1:]\n",
    "cols_list"
   ]
  },
  {
   "cell_type": "code",
   "execution_count": 27,
   "metadata": {
    "scrolled": true
   },
   "outputs": [
    {
     "data": {
      "text/plain": [
       "30"
      ]
     },
     "execution_count": 27,
     "metadata": {},
     "output_type": "execute_result"
    }
   ],
   "source": [
    "# Ищем неявные дубли\n",
    "new_df.duplicated(subset=cols_list).sum() "
   ]
  },
  {
   "cell_type": "markdown",
   "metadata": {},
   "source": [
    "Видим, что неявных дублей 30 (что не так много), удалим их для \"очистки\" датасета, тк это очевидно одинаковые покупки, айди заказы которых по каким-либо причинам различаются (скорее всего тех. ошибка, из-за чего заказы просто задублились в системе)"
   ]
  },
  {
   "cell_type": "code",
   "execution_count": 28,
   "metadata": {},
   "outputs": [
    {
     "name": "stdout",
     "output_type": "stream",
     "text": [
      "<class 'pandas.core.frame.DataFrame'>\n",
      "Int64Index: 287574 entries, 0 to 290610\n",
      "Data columns (total 29 columns):\n",
      " #   Column                  Non-Null Count   Dtype         \n",
      "---  ------                  --------------   -----         \n",
      " 0   order_id                287574 non-null  int32         \n",
      " 1   user_id                 287574 non-null  object        \n",
      " 2   created_dt_msk          287574 non-null  datetime64[ns]\n",
      " 3   created_ts_msk          287574 non-null  datetime64[ns]\n",
      " 4   event_id                287574 non-null  int32         \n",
      " 5   cinema_circuit          287574 non-null  object        \n",
      " 6   age_limit               287574 non-null  int8          \n",
      " 7   currency_code           287574 non-null  object        \n",
      " 8   device_type_canonical   287574 non-null  object        \n",
      " 9   revenue                 287574 non-null  float32       \n",
      " 10  service_name            287574 non-null  object        \n",
      " 11  tickets_count           287574 non-null  int8          \n",
      " 12  total                   287574 non-null  float32       \n",
      " 13  days_since_prev         265873 non-null  float32       \n",
      " 14  event_name              287574 non-null  object        \n",
      " 15  event_type_description  287574 non-null  object        \n",
      " 16  event_type_main         287574 non-null  object        \n",
      " 17  organizers              287574 non-null  object        \n",
      " 18  region_name             287574 non-null  object        \n",
      " 19  city_name               287574 non-null  object        \n",
      " 20  city_id                 287574 non-null  int32         \n",
      " 21  venue_id                287574 non-null  int16         \n",
      " 22  venue_name              287574 non-null  object        \n",
      " 23  venue_address           287574 non-null  object        \n",
      " 24  data                    287574 non-null  datetime64[ns]\n",
      " 25  nominal                 287574 non-null  int8          \n",
      " 26  curs                    287574 non-null  float32       \n",
      " 27  cdx                     287574 non-null  object        \n",
      " 28  revenue_rub             287574 non-null  float64       \n",
      "dtypes: datetime64[ns](3), float32(4), float64(1), int16(1), int32(3), int8(3), object(14)\n",
      "memory usage: 50.7+ MB\n"
     ]
    }
   ],
   "source": [
    "new_df = new_df.drop_duplicates(subset=cols_list)\n",
    "new_df.info()"
   ]
  },
  {
   "cell_type": "markdown",
   "metadata": {},
   "source": [
    "Создадим несколько новых столбцов:\n",
    " + one_ticket_revenue_rub — выручка с продажи одного билета на мероприятие.\n",
    " + month — месяц оформления заказа в отдельный столбец.\n",
    " + season —  столбец с информацией о сезонности, включая такие категории, как: 'лето', 'осень', 'зима', 'весна'."
   ]
  },
  {
   "cell_type": "code",
   "execution_count": 29,
   "metadata": {},
   "outputs": [],
   "source": [
    "# Создадим несколько новых столбцов:\n",
    "new_df['one_ticket_revenue_rub'] = new_df['revenue_rub'] / new_df['tickets_count']\n",
    "new_df['month'] = new_df['created_dt_msk'].dt.month\n",
    "\n",
    "def seasons(row):\n",
    "    if row['month'] in [12, 1, 2]:\n",
    "        return 'зима'\n",
    "    elif row['month'] in [3, 4, 5]:\n",
    "        return 'весна'\n",
    "    elif row['month'] in [6, 7, 8]:\n",
    "        return 'лето'\n",
    "    else:\n",
    "        return 'осень'\n",
    "\n",
    "new_df['season'] = new_df.apply(seasons, axis=1)     "
   ]
  },
  {
   "cell_type": "code",
   "execution_count": 30,
   "metadata": {
    "scrolled": true
   },
   "outputs": [
    {
     "data": {
      "text/html": [
       "<div>\n",
       "<style scoped>\n",
       "    .dataframe tbody tr th:only-of-type {\n",
       "        vertical-align: middle;\n",
       "    }\n",
       "\n",
       "    .dataframe tbody tr th {\n",
       "        vertical-align: top;\n",
       "    }\n",
       "\n",
       "    .dataframe thead th {\n",
       "        text-align: right;\n",
       "    }\n",
       "</style>\n",
       "<table border=\"1\" class=\"dataframe\">\n",
       "  <thead>\n",
       "    <tr style=\"text-align: right;\">\n",
       "      <th></th>\n",
       "      <th>order_id</th>\n",
       "      <th>user_id</th>\n",
       "      <th>created_dt_msk</th>\n",
       "      <th>created_ts_msk</th>\n",
       "      <th>event_id</th>\n",
       "      <th>cinema_circuit</th>\n",
       "      <th>age_limit</th>\n",
       "      <th>currency_code</th>\n",
       "      <th>device_type_canonical</th>\n",
       "      <th>revenue</th>\n",
       "      <th>...</th>\n",
       "      <th>venue_name</th>\n",
       "      <th>venue_address</th>\n",
       "      <th>data</th>\n",
       "      <th>nominal</th>\n",
       "      <th>curs</th>\n",
       "      <th>cdx</th>\n",
       "      <th>revenue_rub</th>\n",
       "      <th>one_ticket_revenue_rub</th>\n",
       "      <th>month</th>\n",
       "      <th>season</th>\n",
       "    </tr>\n",
       "  </thead>\n",
       "  <tbody>\n",
       "    <tr>\n",
       "      <th>218695</th>\n",
       "      <td>8541400</td>\n",
       "      <td>2aa353e47d0c080</td>\n",
       "      <td>2024-10-10</td>\n",
       "      <td>2024-10-10 21:41:58</td>\n",
       "      <td>210045</td>\n",
       "      <td>нет</td>\n",
       "      <td>18</td>\n",
       "      <td>rub</td>\n",
       "      <td>mobile</td>\n",
       "      <td>419.619995</td>\n",
       "      <td>...</td>\n",
       "      <td>Дебютный проект \"Хороший\" Групп</td>\n",
       "      <td>бул. Бажова, д. 9/9</td>\n",
       "      <td>2024-10-10</td>\n",
       "      <td>100</td>\n",
       "      <td>19.930201</td>\n",
       "      <td>kzt</td>\n",
       "      <td>419.619995</td>\n",
       "      <td>104.904999</td>\n",
       "      <td>10</td>\n",
       "      <td>осень</td>\n",
       "    </tr>\n",
       "    <tr>\n",
       "      <th>279566</th>\n",
       "      <td>6450297</td>\n",
       "      <td>043f669c9f734b1</td>\n",
       "      <td>2024-06-23</td>\n",
       "      <td>2024-06-23 22:16:01</td>\n",
       "      <td>527249</td>\n",
       "      <td>нет</td>\n",
       "      <td>16</td>\n",
       "      <td>rub</td>\n",
       "      <td>mobile</td>\n",
       "      <td>1038.189941</td>\n",
       "      <td>...</td>\n",
       "      <td>Музей исторических ремесел \"Задумка\" Лимитед</td>\n",
       "      <td>алл. Гоголя, д. 910 стр. 2/7</td>\n",
       "      <td>2024-06-23</td>\n",
       "      <td>100</td>\n",
       "      <td>19.138300</td>\n",
       "      <td>kzt</td>\n",
       "      <td>1038.189941</td>\n",
       "      <td>346.063314</td>\n",
       "      <td>6</td>\n",
       "      <td>лето</td>\n",
       "    </tr>\n",
       "    <tr>\n",
       "      <th>115814</th>\n",
       "      <td>5453828</td>\n",
       "      <td>d6f694b11202e62</td>\n",
       "      <td>2024-07-24</td>\n",
       "      <td>2024-07-24 09:59:05</td>\n",
       "      <td>540263</td>\n",
       "      <td>нет</td>\n",
       "      <td>18</td>\n",
       "      <td>rub</td>\n",
       "      <td>mobile</td>\n",
       "      <td>1900.500000</td>\n",
       "      <td>...</td>\n",
       "      <td>Сообщество художников \"Секунда\" Инкорпорэйтед</td>\n",
       "      <td>пер. Астраханский, д. 23</td>\n",
       "      <td>2024-07-24</td>\n",
       "      <td>100</td>\n",
       "      <td>18.450600</td>\n",
       "      <td>kzt</td>\n",
       "      <td>1900.500000</td>\n",
       "      <td>475.125000</td>\n",
       "      <td>7</td>\n",
       "      <td>лето</td>\n",
       "    </tr>\n",
       "    <tr>\n",
       "      <th>290498</th>\n",
       "      <td>5986645</td>\n",
       "      <td>f7a0146fc193947</td>\n",
       "      <td>2024-06-14</td>\n",
       "      <td>2024-06-14 14:58:38</td>\n",
       "      <td>236435</td>\n",
       "      <td>нет</td>\n",
       "      <td>16</td>\n",
       "      <td>rub</td>\n",
       "      <td>desktop</td>\n",
       "      <td>513.479980</td>\n",
       "      <td>...</td>\n",
       "      <td>Кладбище искусств \"Проблема\" и партнеры</td>\n",
       "      <td>наб. Загородная, д. 785</td>\n",
       "      <td>2024-06-14</td>\n",
       "      <td>100</td>\n",
       "      <td>19.525000</td>\n",
       "      <td>kzt</td>\n",
       "      <td>513.479980</td>\n",
       "      <td>171.159993</td>\n",
       "      <td>6</td>\n",
       "      <td>лето</td>\n",
       "    </tr>\n",
       "    <tr>\n",
       "      <th>134198</th>\n",
       "      <td>3044566</td>\n",
       "      <td>8187dac4be757a0</td>\n",
       "      <td>2024-10-25</td>\n",
       "      <td>2024-10-25 11:07:26</td>\n",
       "      <td>486136</td>\n",
       "      <td>нет</td>\n",
       "      <td>12</td>\n",
       "      <td>rub</td>\n",
       "      <td>mobile</td>\n",
       "      <td>658.150024</td>\n",
       "      <td>...</td>\n",
       "      <td>Центр искусства и культуры \"Попугай\" и партнеры</td>\n",
       "      <td>бул. Воровского, д. 917 к. 2</td>\n",
       "      <td>2024-10-25</td>\n",
       "      <td>100</td>\n",
       "      <td>19.878799</td>\n",
       "      <td>kzt</td>\n",
       "      <td>658.150024</td>\n",
       "      <td>329.075012</td>\n",
       "      <td>10</td>\n",
       "      <td>осень</td>\n",
       "    </tr>\n",
       "    <tr>\n",
       "      <th>214784</th>\n",
       "      <td>8549984</td>\n",
       "      <td>18e9aead0a393e7</td>\n",
       "      <td>2024-09-07</td>\n",
       "      <td>2024-09-07 16:26:21</td>\n",
       "      <td>439764</td>\n",
       "      <td>нет</td>\n",
       "      <td>16</td>\n",
       "      <td>rub</td>\n",
       "      <td>mobile</td>\n",
       "      <td>325.649994</td>\n",
       "      <td>...</td>\n",
       "      <td>Академия искусств \"Angle\" Инк</td>\n",
       "      <td>ш. Химиков, д. 8</td>\n",
       "      <td>2024-09-07</td>\n",
       "      <td>100</td>\n",
       "      <td>18.599100</td>\n",
       "      <td>kzt</td>\n",
       "      <td>325.649994</td>\n",
       "      <td>108.549998</td>\n",
       "      <td>9</td>\n",
       "      <td>осень</td>\n",
       "    </tr>\n",
       "    <tr>\n",
       "      <th>164268</th>\n",
       "      <td>734426</td>\n",
       "      <td>8af3dc970d19ed7</td>\n",
       "      <td>2024-06-17</td>\n",
       "      <td>2024-06-17 16:25:01</td>\n",
       "      <td>533451</td>\n",
       "      <td>нет</td>\n",
       "      <td>12</td>\n",
       "      <td>rub</td>\n",
       "      <td>mobile</td>\n",
       "      <td>1700.050049</td>\n",
       "      <td>...</td>\n",
       "      <td>Творческое объединение \"Компас\" Инк</td>\n",
       "      <td>бул. 40 лет Октября, д. 39 стр. 78</td>\n",
       "      <td>2024-06-17</td>\n",
       "      <td>100</td>\n",
       "      <td>19.731899</td>\n",
       "      <td>kzt</td>\n",
       "      <td>1700.050049</td>\n",
       "      <td>425.012512</td>\n",
       "      <td>6</td>\n",
       "      <td>лето</td>\n",
       "    </tr>\n",
       "  </tbody>\n",
       "</table>\n",
       "<p>7 rows × 32 columns</p>\n",
       "</div>"
      ],
      "text/plain": [
       "        order_id          user_id created_dt_msk      created_ts_msk  \\\n",
       "218695   8541400  2aa353e47d0c080     2024-10-10 2024-10-10 21:41:58   \n",
       "279566   6450297  043f669c9f734b1     2024-06-23 2024-06-23 22:16:01   \n",
       "115814   5453828  d6f694b11202e62     2024-07-24 2024-07-24 09:59:05   \n",
       "290498   5986645  f7a0146fc193947     2024-06-14 2024-06-14 14:58:38   \n",
       "134198   3044566  8187dac4be757a0     2024-10-25 2024-10-25 11:07:26   \n",
       "214784   8549984  18e9aead0a393e7     2024-09-07 2024-09-07 16:26:21   \n",
       "164268    734426  8af3dc970d19ed7     2024-06-17 2024-06-17 16:25:01   \n",
       "\n",
       "        event_id cinema_circuit  age_limit currency_code  \\\n",
       "218695    210045            нет         18           rub   \n",
       "279566    527249            нет         16           rub   \n",
       "115814    540263            нет         18           rub   \n",
       "290498    236435            нет         16           rub   \n",
       "134198    486136            нет         12           rub   \n",
       "214784    439764            нет         16           rub   \n",
       "164268    533451            нет         12           rub   \n",
       "\n",
       "       device_type_canonical      revenue  ...  \\\n",
       "218695                mobile   419.619995  ...   \n",
       "279566                mobile  1038.189941  ...   \n",
       "115814                mobile  1900.500000  ...   \n",
       "290498               desktop   513.479980  ...   \n",
       "134198                mobile   658.150024  ...   \n",
       "214784                mobile   325.649994  ...   \n",
       "164268                mobile  1700.050049  ...   \n",
       "\n",
       "                                             venue_name  \\\n",
       "218695                  Дебютный проект \"Хороший\" Групп   \n",
       "279566     Музей исторических ремесел \"Задумка\" Лимитед   \n",
       "115814    Сообщество художников \"Секунда\" Инкорпорэйтед   \n",
       "290498          Кладбище искусств \"Проблема\" и партнеры   \n",
       "134198  Центр искусства и культуры \"Попугай\" и партнеры   \n",
       "214784                    Академия искусств \"Angle\" Инк   \n",
       "164268              Творческое объединение \"Компас\" Инк   \n",
       "\n",
       "                             venue_address       data  nominal       curs  \\\n",
       "218695                 бул. Бажова, д. 9/9 2024-10-10      100  19.930201   \n",
       "279566        алл. Гоголя, д. 910 стр. 2/7 2024-06-23      100  19.138300   \n",
       "115814            пер. Астраханский, д. 23 2024-07-24      100  18.450600   \n",
       "290498             наб. Загородная, д. 785 2024-06-14      100  19.525000   \n",
       "134198        бул. Воровского, д. 917 к. 2 2024-10-25      100  19.878799   \n",
       "214784                    ш. Химиков, д. 8 2024-09-07      100  18.599100   \n",
       "164268  бул. 40 лет Октября, д. 39 стр. 78 2024-06-17      100  19.731899   \n",
       "\n",
       "        cdx  revenue_rub one_ticket_revenue_rub month season  \n",
       "218695  kzt   419.619995             104.904999    10  осень  \n",
       "279566  kzt  1038.189941             346.063314     6   лето  \n",
       "115814  kzt  1900.500000             475.125000     7   лето  \n",
       "290498  kzt   513.479980             171.159993     6   лето  \n",
       "134198  kzt   658.150024             329.075012    10  осень  \n",
       "214784  kzt   325.649994             108.549998     9  осень  \n",
       "164268  kzt  1700.050049             425.012512     6   лето  \n",
       "\n",
       "[7 rows x 32 columns]"
      ]
     },
     "execution_count": 30,
     "metadata": {},
     "output_type": "execute_result"
    }
   ],
   "source": [
    "# Проверка\n",
    "new_df.sample(7)"
   ]
  },
  {
   "cell_type": "code",
   "execution_count": 31,
   "metadata": {},
   "outputs": [
    {
     "data": {
      "text/html": [
       "<div>\n",
       "<style scoped>\n",
       "    .dataframe tbody tr th:only-of-type {\n",
       "        vertical-align: middle;\n",
       "    }\n",
       "\n",
       "    .dataframe tbody tr th {\n",
       "        vertical-align: top;\n",
       "    }\n",
       "\n",
       "    .dataframe thead th {\n",
       "        text-align: right;\n",
       "    }\n",
       "</style>\n",
       "<table border=\"1\" class=\"dataframe\">\n",
       "  <thead>\n",
       "    <tr style=\"text-align: right;\">\n",
       "      <th></th>\n",
       "      <th>order_id</th>\n",
       "      <th>user_id</th>\n",
       "      <th>created_dt_msk</th>\n",
       "      <th>created_ts_msk</th>\n",
       "      <th>event_id</th>\n",
       "      <th>cinema_circuit</th>\n",
       "      <th>age_limit</th>\n",
       "      <th>currency_code</th>\n",
       "      <th>device_type_canonical</th>\n",
       "      <th>revenue</th>\n",
       "      <th>...</th>\n",
       "      <th>venue_name</th>\n",
       "      <th>venue_address</th>\n",
       "      <th>data</th>\n",
       "      <th>nominal</th>\n",
       "      <th>curs</th>\n",
       "      <th>cdx</th>\n",
       "      <th>revenue_rub</th>\n",
       "      <th>one_ticket_revenue_rub</th>\n",
       "      <th>month</th>\n",
       "      <th>season</th>\n",
       "    </tr>\n",
       "  </thead>\n",
       "  <tbody>\n",
       "    <tr>\n",
       "      <th>0</th>\n",
       "      <td>4359165</td>\n",
       "      <td>0002849b70a3ce2</td>\n",
       "      <td>2024-08-20</td>\n",
       "      <td>2024-08-20 16:08:03</td>\n",
       "      <td>169230</td>\n",
       "      <td>нет</td>\n",
       "      <td>16</td>\n",
       "      <td>rub</td>\n",
       "      <td>mobile</td>\n",
       "      <td>1521.939941</td>\n",
       "      <td>...</td>\n",
       "      <td>Сценический центр \"Деталь\" Групп</td>\n",
       "      <td>алл. Машиностроителей, д. 19 стр. 6</td>\n",
       "      <td>2024-08-20</td>\n",
       "      <td>100</td>\n",
       "      <td>18.697201</td>\n",
       "      <td>kzt</td>\n",
       "      <td>1521.939941</td>\n",
       "      <td>380.484985</td>\n",
       "      <td>август</td>\n",
       "      <td>лето</td>\n",
       "    </tr>\n",
       "    <tr>\n",
       "      <th>1</th>\n",
       "      <td>6274963</td>\n",
       "      <td>44c1c640a242aea</td>\n",
       "      <td>2024-08-20</td>\n",
       "      <td>2024-08-20 22:12:04</td>\n",
       "      <td>237325</td>\n",
       "      <td>нет</td>\n",
       "      <td>0</td>\n",
       "      <td>rub</td>\n",
       "      <td>mobile</td>\n",
       "      <td>144.729996</td>\n",
       "      <td>...</td>\n",
       "      <td>Музыкальная школа для детей \"Аккаунт\" Лтд</td>\n",
       "      <td>алл. Шмидта, д. 9 стр. 4</td>\n",
       "      <td>2024-08-20</td>\n",
       "      <td>100</td>\n",
       "      <td>18.697201</td>\n",
       "      <td>kzt</td>\n",
       "      <td>144.729996</td>\n",
       "      <td>144.729996</td>\n",
       "      <td>август</td>\n",
       "      <td>лето</td>\n",
       "    </tr>\n",
       "    <tr>\n",
       "      <th>2</th>\n",
       "      <td>474528</td>\n",
       "      <td>2b1f730d7024681</td>\n",
       "      <td>2024-08-20</td>\n",
       "      <td>2024-08-20 15:29:56</td>\n",
       "      <td>373657</td>\n",
       "      <td>нет</td>\n",
       "      <td>18</td>\n",
       "      <td>rub</td>\n",
       "      <td>mobile</td>\n",
       "      <td>318.269989</td>\n",
       "      <td>...</td>\n",
       "      <td>Музей истории \"Воспоминание\" Групп</td>\n",
       "      <td>наб. Тамбовская, д. 1/4 к. 577</td>\n",
       "      <td>2024-08-20</td>\n",
       "      <td>100</td>\n",
       "      <td>18.697201</td>\n",
       "      <td>kzt</td>\n",
       "      <td>318.269989</td>\n",
       "      <td>106.089996</td>\n",
       "      <td>август</td>\n",
       "      <td>лето</td>\n",
       "    </tr>\n",
       "    <tr>\n",
       "      <th>3</th>\n",
       "      <td>7477361</td>\n",
       "      <td>05ba93f1b1e1fdd</td>\n",
       "      <td>2024-08-20</td>\n",
       "      <td>2024-08-20 17:06:44</td>\n",
       "      <td>534657</td>\n",
       "      <td>нет</td>\n",
       "      <td>16</td>\n",
       "      <td>rub</td>\n",
       "      <td>mobile</td>\n",
       "      <td>339.609985</td>\n",
       "      <td>...</td>\n",
       "      <td>Школа фотографии \"Золотое\" Инк</td>\n",
       "      <td>ш. Микрорайон, д. 79 стр. 50</td>\n",
       "      <td>2024-08-20</td>\n",
       "      <td>100</td>\n",
       "      <td>18.697201</td>\n",
       "      <td>kzt</td>\n",
       "      <td>339.609985</td>\n",
       "      <td>339.609985</td>\n",
       "      <td>август</td>\n",
       "      <td>лето</td>\n",
       "    </tr>\n",
       "    <tr>\n",
       "      <th>4</th>\n",
       "      <td>472150</td>\n",
       "      <td>3ee7dc2e115847f</td>\n",
       "      <td>2024-08-20</td>\n",
       "      <td>2024-08-20 02:57:22</td>\n",
       "      <td>534657</td>\n",
       "      <td>нет</td>\n",
       "      <td>16</td>\n",
       "      <td>rub</td>\n",
       "      <td>mobile</td>\n",
       "      <td>339.609985</td>\n",
       "      <td>...</td>\n",
       "      <td>Школа фотографии \"Золотое\" Инк</td>\n",
       "      <td>ш. Микрорайон, д. 79 стр. 50</td>\n",
       "      <td>2024-08-20</td>\n",
       "      <td>100</td>\n",
       "      <td>18.697201</td>\n",
       "      <td>kzt</td>\n",
       "      <td>339.609985</td>\n",
       "      <td>339.609985</td>\n",
       "      <td>август</td>\n",
       "      <td>лето</td>\n",
       "    </tr>\n",
       "    <tr>\n",
       "      <th>...</th>\n",
       "      <td>...</td>\n",
       "      <td>...</td>\n",
       "      <td>...</td>\n",
       "      <td>...</td>\n",
       "      <td>...</td>\n",
       "      <td>...</td>\n",
       "      <td>...</td>\n",
       "      <td>...</td>\n",
       "      <td>...</td>\n",
       "      <td>...</td>\n",
       "      <td>...</td>\n",
       "      <td>...</td>\n",
       "      <td>...</td>\n",
       "      <td>...</td>\n",
       "      <td>...</td>\n",
       "      <td>...</td>\n",
       "      <td>...</td>\n",
       "      <td>...</td>\n",
       "      <td>...</td>\n",
       "      <td>...</td>\n",
       "      <td>...</td>\n",
       "    </tr>\n",
       "    <tr>\n",
       "      <th>290606</th>\n",
       "      <td>236989</td>\n",
       "      <td>e75abeba6dd1fc4</td>\n",
       "      <td>2024-06-14</td>\n",
       "      <td>2024-06-14 18:21:55</td>\n",
       "      <td>10229</td>\n",
       "      <td>нет</td>\n",
       "      <td>12</td>\n",
       "      <td>rub</td>\n",
       "      <td>desktop</td>\n",
       "      <td>843.869995</td>\n",
       "      <td>...</td>\n",
       "      <td>Спектакль \"Сентябрь\" Лтд</td>\n",
       "      <td>ул. Красноярская, д. 6/3 стр. 761</td>\n",
       "      <td>2024-06-14</td>\n",
       "      <td>100</td>\n",
       "      <td>19.525000</td>\n",
       "      <td>kzt</td>\n",
       "      <td>843.869995</td>\n",
       "      <td>168.773999</td>\n",
       "      <td>июнь</td>\n",
       "      <td>лето</td>\n",
       "    </tr>\n",
       "    <tr>\n",
       "      <th>290607</th>\n",
       "      <td>8365544</td>\n",
       "      <td>f29a8ec731fab1d</td>\n",
       "      <td>2024-06-14</td>\n",
       "      <td>2024-06-14 14:29:42</td>\n",
       "      <td>488578</td>\n",
       "      <td>нет</td>\n",
       "      <td>6</td>\n",
       "      <td>rub</td>\n",
       "      <td>mobile</td>\n",
       "      <td>230.750000</td>\n",
       "      <td>...</td>\n",
       "      <td>Музей музыкальных инструментов \"Разноцвет\" и п...</td>\n",
       "      <td>пр. Коллективный, д. 5 к. 6/8</td>\n",
       "      <td>2024-06-14</td>\n",
       "      <td>100</td>\n",
       "      <td>19.525000</td>\n",
       "      <td>kzt</td>\n",
       "      <td>230.750000</td>\n",
       "      <td>46.150000</td>\n",
       "      <td>июнь</td>\n",
       "      <td>лето</td>\n",
       "    </tr>\n",
       "    <tr>\n",
       "      <th>290608</th>\n",
       "      <td>7032588</td>\n",
       "      <td>f7a0146fc193947</td>\n",
       "      <td>2024-06-14</td>\n",
       "      <td>2024-06-14 23:28:07</td>\n",
       "      <td>518322</td>\n",
       "      <td>нет</td>\n",
       "      <td>12</td>\n",
       "      <td>rub</td>\n",
       "      <td>mobile</td>\n",
       "      <td>749.530029</td>\n",
       "      <td>...</td>\n",
       "      <td>Спектакль \"Ремесло\" Инк</td>\n",
       "      <td>алл. Степная, д. 5 стр. 9</td>\n",
       "      <td>2024-06-14</td>\n",
       "      <td>100</td>\n",
       "      <td>19.525000</td>\n",
       "      <td>kzt</td>\n",
       "      <td>749.530029</td>\n",
       "      <td>249.843343</td>\n",
       "      <td>июнь</td>\n",
       "      <td>лето</td>\n",
       "    </tr>\n",
       "    <tr>\n",
       "      <th>290609</th>\n",
       "      <td>6730350</td>\n",
       "      <td>fc950d43881de43</td>\n",
       "      <td>2024-06-14</td>\n",
       "      <td>2024-06-14 06:56:17</td>\n",
       "      <td>533051</td>\n",
       "      <td>нет</td>\n",
       "      <td>18</td>\n",
       "      <td>rub</td>\n",
       "      <td>mobile</td>\n",
       "      <td>162.130005</td>\n",
       "      <td>...</td>\n",
       "      <td>Группа арт-менеджеров \"Салон\" Групп</td>\n",
       "      <td>бул. Гаражный, д. 332 стр. 3</td>\n",
       "      <td>2024-06-14</td>\n",
       "      <td>100</td>\n",
       "      <td>19.525000</td>\n",
       "      <td>kzt</td>\n",
       "      <td>162.130005</td>\n",
       "      <td>81.065002</td>\n",
       "      <td>июнь</td>\n",
       "      <td>лето</td>\n",
       "    </tr>\n",
       "    <tr>\n",
       "      <th>290610</th>\n",
       "      <td>5218696</td>\n",
       "      <td>fd4d47438ebb946</td>\n",
       "      <td>2024-06-14</td>\n",
       "      <td>2024-06-14 20:51:14</td>\n",
       "      <td>527277</td>\n",
       "      <td>нет</td>\n",
       "      <td>18</td>\n",
       "      <td>rub</td>\n",
       "      <td>mobile</td>\n",
       "      <td>289.040009</td>\n",
       "      <td>...</td>\n",
       "      <td>Клуб любителей театра \"Гардероб\" Инкорпорэйтед</td>\n",
       "      <td>пер. Элеваторный, д. 8/6 к. 310</td>\n",
       "      <td>2024-06-14</td>\n",
       "      <td>100</td>\n",
       "      <td>19.525000</td>\n",
       "      <td>kzt</td>\n",
       "      <td>289.040009</td>\n",
       "      <td>96.346670</td>\n",
       "      <td>июнь</td>\n",
       "      <td>лето</td>\n",
       "    </tr>\n",
       "  </tbody>\n",
       "</table>\n",
       "<p>287574 rows × 32 columns</p>\n",
       "</div>"
      ],
      "text/plain": [
       "        order_id          user_id created_dt_msk      created_ts_msk  \\\n",
       "0        4359165  0002849b70a3ce2     2024-08-20 2024-08-20 16:08:03   \n",
       "1        6274963  44c1c640a242aea     2024-08-20 2024-08-20 22:12:04   \n",
       "2         474528  2b1f730d7024681     2024-08-20 2024-08-20 15:29:56   \n",
       "3        7477361  05ba93f1b1e1fdd     2024-08-20 2024-08-20 17:06:44   \n",
       "4         472150  3ee7dc2e115847f     2024-08-20 2024-08-20 02:57:22   \n",
       "...          ...              ...            ...                 ...   \n",
       "290606    236989  e75abeba6dd1fc4     2024-06-14 2024-06-14 18:21:55   \n",
       "290607   8365544  f29a8ec731fab1d     2024-06-14 2024-06-14 14:29:42   \n",
       "290608   7032588  f7a0146fc193947     2024-06-14 2024-06-14 23:28:07   \n",
       "290609   6730350  fc950d43881de43     2024-06-14 2024-06-14 06:56:17   \n",
       "290610   5218696  fd4d47438ebb946     2024-06-14 2024-06-14 20:51:14   \n",
       "\n",
       "        event_id cinema_circuit  age_limit currency_code  \\\n",
       "0         169230            нет         16           rub   \n",
       "1         237325            нет          0           rub   \n",
       "2         373657            нет         18           rub   \n",
       "3         534657            нет         16           rub   \n",
       "4         534657            нет         16           rub   \n",
       "...          ...            ...        ...           ...   \n",
       "290606     10229            нет         12           rub   \n",
       "290607    488578            нет          6           rub   \n",
       "290608    518322            нет         12           rub   \n",
       "290609    533051            нет         18           rub   \n",
       "290610    527277            нет         18           rub   \n",
       "\n",
       "       device_type_canonical      revenue  ...  \\\n",
       "0                     mobile  1521.939941  ...   \n",
       "1                     mobile   144.729996  ...   \n",
       "2                     mobile   318.269989  ...   \n",
       "3                     mobile   339.609985  ...   \n",
       "4                     mobile   339.609985  ...   \n",
       "...                      ...          ...  ...   \n",
       "290606               desktop   843.869995  ...   \n",
       "290607                mobile   230.750000  ...   \n",
       "290608                mobile   749.530029  ...   \n",
       "290609                mobile   162.130005  ...   \n",
       "290610                mobile   289.040009  ...   \n",
       "\n",
       "                                               venue_name  \\\n",
       "0                        Сценический центр \"Деталь\" Групп   \n",
       "1               Музыкальная школа для детей \"Аккаунт\" Лтд   \n",
       "2                      Музей истории \"Воспоминание\" Групп   \n",
       "3                          Школа фотографии \"Золотое\" Инк   \n",
       "4                          Школа фотографии \"Золотое\" Инк   \n",
       "...                                                   ...   \n",
       "290606                           Спектакль \"Сентябрь\" Лтд   \n",
       "290607  Музей музыкальных инструментов \"Разноцвет\" и п...   \n",
       "290608                            Спектакль \"Ремесло\" Инк   \n",
       "290609                Группа арт-менеджеров \"Салон\" Групп   \n",
       "290610     Клуб любителей театра \"Гардероб\" Инкорпорэйтед   \n",
       "\n",
       "                              venue_address       data  nominal       curs  \\\n",
       "0       алл. Машиностроителей, д. 19 стр. 6 2024-08-20      100  18.697201   \n",
       "1                  алл. Шмидта, д. 9 стр. 4 2024-08-20      100  18.697201   \n",
       "2            наб. Тамбовская, д. 1/4 к. 577 2024-08-20      100  18.697201   \n",
       "3              ш. Микрорайон, д. 79 стр. 50 2024-08-20      100  18.697201   \n",
       "4              ш. Микрорайон, д. 79 стр. 50 2024-08-20      100  18.697201   \n",
       "...                                     ...        ...      ...        ...   \n",
       "290606    ул. Красноярская, д. 6/3 стр. 761 2024-06-14      100  19.525000   \n",
       "290607        пр. Коллективный, д. 5 к. 6/8 2024-06-14      100  19.525000   \n",
       "290608            алл. Степная, д. 5 стр. 9 2024-06-14      100  19.525000   \n",
       "290609         бул. Гаражный, д. 332 стр. 3 2024-06-14      100  19.525000   \n",
       "290610      пер. Элеваторный, д. 8/6 к. 310 2024-06-14      100  19.525000   \n",
       "\n",
       "        cdx  revenue_rub one_ticket_revenue_rub   month season  \n",
       "0       kzt  1521.939941             380.484985  август   лето  \n",
       "1       kzt   144.729996             144.729996  август   лето  \n",
       "2       kzt   318.269989             106.089996  август   лето  \n",
       "3       kzt   339.609985             339.609985  август   лето  \n",
       "4       kzt   339.609985             339.609985  август   лето  \n",
       "...     ...          ...                    ...     ...    ...  \n",
       "290606  kzt   843.869995             168.773999    июнь   лето  \n",
       "290607  kzt   230.750000              46.150000    июнь   лето  \n",
       "290608  kzt   749.530029             249.843343    июнь   лето  \n",
       "290609  kzt   162.130005              81.065002    июнь   лето  \n",
       "290610  kzt   289.040009              96.346670    июнь   лето  \n",
       "\n",
       "[287574 rows x 32 columns]"
      ]
     },
     "execution_count": 31,
     "metadata": {},
     "output_type": "execute_result"
    }
   ],
   "source": [
    "# Для удобства переименуем данные столбца month из чисел в строчные названия\n",
    "month_dict={\n",
    "      1: 'январь',\n",
    "      2: 'февраль',\n",
    "      3: 'март',\n",
    "      4: 'апрель',\n",
    "      5: 'май',\n",
    "      6: 'июнь',\n",
    "      7: 'июль',\n",
    "      8: 'август',\n",
    "      9: 'сентябрь',\n",
    "      10: 'октябрь',\n",
    "      11: 'ноябрь',\n",
    "      12: 'декабрь'\n",
    "}\n",
    "\n",
    "new_df['month'] = new_df['month'].map(month_dict)\n",
    "new_df"
   ]
  },
  {
   "cell_type": "code",
   "execution_count": 32,
   "metadata": {},
   "outputs": [
    {
     "name": "stdout",
     "output_type": "stream",
     "text": [
      "Количество строк до предобработки: 290611\n",
      "Количество строк после предобработки: 287574\n"
     ]
    }
   ],
   "source": [
    "# Сохраним получившееся кол-во строк\n",
    "final_row_count = new_df.shape[0]\n",
    "\n",
    "print(f\"Количество строк до предобработки: {initial_row_count}\")\n",
    "print(f\"Количество строк после предобработки: {final_row_count}\")"
   ]
  },
  {
   "cell_type": "markdown",
   "metadata": {},
   "source": [
    "**Промежуточный вывод**\n",
    "\n",
    "По окончании предобработки данных можно отметить следующее - в процессе все 3 датасета были объединены в один единый, который был нормализован, обработан от дубликатов и выбросов (итого удалено около 3000 строк (1% от датасета)). Кроме того, было добавлено 4 новых столбца, необходимых для более удобного анализа в дальнейшем (а именно: `revenue_rub` с выручкой, приведенной к рублям; `one_ticket_revenue_rub` с выручкой за 1 проданный билет; `month` с месяцем покупки и `season` с сезоном покупки)"
   ]
  },
  {
   "cell_type": "markdown",
   "metadata": {},
   "source": [
    "## Исследовательский анализ данных (шаг 3)   "
   ]
  },
  {
   "cell_type": "markdown",
   "metadata": {},
   "source": [
    "### Анализ распределения заказов по сегментам и их сезонные изменения   "
   ]
  },
  {
   "cell_type": "markdown",
   "metadata": {},
   "source": [
    "Анализируйте динамику по таким разрезам:\n",
    "+ тип мероприятия event_type_main;\n",
    "+ тип устройства device_type_canonical;\n",
    "+ категория мероприятий по возрастному рейтингу age_limit.\n",
    "\n",
    "В этом разделе изучите распределение заказов по сегментам и их сезонные изменения, выполнив следующие шаги:\n",
    "+ **Для каждого месяца найдите количество заказов** и визуализируйте результаты. Проверьте, фиксируется ли увеличение заказов от июня к ноябрю 2024 года. \n",
    "+ **Для осеннего и летнего периодов сравните распределение заказов** билетов по разным категориям: тип мероприятия, тип устройства, категория мероприятия по возрастному рейтингу. Результаты визуализируйте подходящим графиком, который поможет сопоставить значения для летнего и осеннего сезонов. Рекомендация: поскольку абсолютное количество заказов в разные сезоны может меняться, при сопоставлении результатов для каждого сегмента используйте доли. \n",
    "+ **Изучите изменение выручки с продажи одного билета** в зависимости от типа мероприятия летом и осенью. Видна ли динамика средней стоимости билета в разрезе разных категорий мероприятий? Для каждого типа мероприятия рассчитайте среднее значение выручки с одного билета, затем найдите относительное изменение осенних значений по сравнению с летними. Результат сопроводите подходящей визуализацией. \n",
    "+ **Сделайте вывод** о том, как меняется распределение заказов в каждой категории с наступлением осени. Было ли изменение средней стоимости одного билета в разрезе разных типов мероприятий?"
   ]
  },
  {
   "cell_type": "code",
   "execution_count": 33,
   "metadata": {},
   "outputs": [
    {
     "data": {
      "text/plain": [
       "month\n",
       "июнь        33721\n",
       "июль        40452\n",
       "август      44573\n",
       "сентябрь    69415\n",
       "октябрь     99413\n",
       "Name: order_id, dtype: int64"
      ]
     },
     "execution_count": 33,
     "metadata": {},
     "output_type": "execute_result"
    }
   ],
   "source": [
    "# Для каждого месяца найдем количество заказов\n",
    "new_df.groupby('month')['order_id'].count().sort_values()"
   ]
  },
  {
   "cell_type": "code",
   "execution_count": 34,
   "metadata": {
    "scrolled": false
   },
   "outputs": [
    {
     "data": {
      "text/plain": [
       "<AxesSubplot:title={'center':'Количество заказов по месяцам'}, xlabel='month', ylabel='Кол-во заказов'>"
      ]
     },
     "execution_count": 34,
     "metadata": {},
     "output_type": "execute_result"
    },
    {
     "data": {
      "image/png": "[encoded data removed]",
      "text/plain": [
       "<Figure size 648x432 with 1 Axes>"
      ]
     },
     "metadata": {
      "needs_background": "light"
     },
     "output_type": "display_data"
    }
   ],
   "source": [
    "# Визуализируем\n",
    "new_df.groupby('month')['order_id'].count().sort_values().plot(kind='bar',\n",
    "                                                title='Количество заказов по месяцам',\n",
    "                                                figsize=(9, 6),\n",
    "                                                rot=0,\n",
    "                                                color='teal',\n",
    "                                                ylabel='Кол-во заказов')"
   ]
  },
  {
   "cell_type": "markdown",
   "metadata": {},
   "source": [
    "Прослеживается тенденция увеличения заказов с каждым месяцем"
   ]
  },
  {
   "cell_type": "code",
   "execution_count": 35,
   "metadata": {},
   "outputs": [
    {
     "data": {
      "text/html": [
       "<div>\n",
       "<style scoped>\n",
       "    .dataframe tbody tr th:only-of-type {\n",
       "        vertical-align: middle;\n",
       "    }\n",
       "\n",
       "    .dataframe tbody tr th {\n",
       "        vertical-align: top;\n",
       "    }\n",
       "\n",
       "    .dataframe thead th {\n",
       "        text-align: right;\n",
       "    }\n",
       "</style>\n",
       "<table border=\"1\" class=\"dataframe\">\n",
       "  <thead>\n",
       "    <tr style=\"text-align: right;\">\n",
       "      <th></th>\n",
       "      <th>season</th>\n",
       "      <th>event_type_main</th>\n",
       "      <th>share</th>\n",
       "    </tr>\n",
       "  </thead>\n",
       "  <tbody>\n",
       "    <tr>\n",
       "      <th>0</th>\n",
       "      <td>лето</td>\n",
       "      <td>выставки</td>\n",
       "      <td>0.020</td>\n",
       "    </tr>\n",
       "    <tr>\n",
       "      <th>1</th>\n",
       "      <td>лето</td>\n",
       "      <td>другое</td>\n",
       "      <td>0.273</td>\n",
       "    </tr>\n",
       "    <tr>\n",
       "      <th>2</th>\n",
       "      <td>лето</td>\n",
       "      <td>концерты</td>\n",
       "      <td>0.424</td>\n",
       "    </tr>\n",
       "    <tr>\n",
       "      <th>3</th>\n",
       "      <td>лето</td>\n",
       "      <td>спорт</td>\n",
       "      <td>0.025</td>\n",
       "    </tr>\n",
       "    <tr>\n",
       "      <th>4</th>\n",
       "      <td>лето</td>\n",
       "      <td>стендап</td>\n",
       "      <td>0.053</td>\n",
       "    </tr>\n",
       "    <tr>\n",
       "      <th>5</th>\n",
       "      <td>лето</td>\n",
       "      <td>театр</td>\n",
       "      <td>0.202</td>\n",
       "    </tr>\n",
       "    <tr>\n",
       "      <th>6</th>\n",
       "      <td>лето</td>\n",
       "      <td>ёлки</td>\n",
       "      <td>0.002</td>\n",
       "    </tr>\n",
       "    <tr>\n",
       "      <th>7</th>\n",
       "      <td>осень</td>\n",
       "      <td>выставки</td>\n",
       "      <td>0.014</td>\n",
       "    </tr>\n",
       "    <tr>\n",
       "      <th>8</th>\n",
       "      <td>осень</td>\n",
       "      <td>другое</td>\n",
       "      <td>0.197</td>\n",
       "    </tr>\n",
       "    <tr>\n",
       "      <th>9</th>\n",
       "      <td>осень</td>\n",
       "      <td>концерты</td>\n",
       "      <td>0.373</td>\n",
       "    </tr>\n",
       "    <tr>\n",
       "      <th>10</th>\n",
       "      <td>осень</td>\n",
       "      <td>спорт</td>\n",
       "      <td>0.112</td>\n",
       "    </tr>\n",
       "    <tr>\n",
       "      <th>11</th>\n",
       "      <td>осень</td>\n",
       "      <td>стендап</td>\n",
       "      <td>0.041</td>\n",
       "    </tr>\n",
       "    <tr>\n",
       "      <th>12</th>\n",
       "      <td>осень</td>\n",
       "      <td>театр</td>\n",
       "      <td>0.253</td>\n",
       "    </tr>\n",
       "    <tr>\n",
       "      <th>13</th>\n",
       "      <td>осень</td>\n",
       "      <td>ёлки</td>\n",
       "      <td>0.010</td>\n",
       "    </tr>\n",
       "  </tbody>\n",
       "</table>\n",
       "</div>"
      ],
      "text/plain": [
       "   season event_type_main  share\n",
       "0    лето        выставки  0.020\n",
       "1    лето          другое  0.273\n",
       "2    лето        концерты  0.424\n",
       "3    лето           спорт  0.025\n",
       "4    лето         стендап  0.053\n",
       "5    лето           театр  0.202\n",
       "6    лето            ёлки  0.002\n",
       "7   осень        выставки  0.014\n",
       "8   осень          другое  0.197\n",
       "9   осень        концерты  0.373\n",
       "10  осень           спорт  0.112\n",
       "11  осень         стендап  0.041\n",
       "12  осень           театр  0.253\n",
       "13  осень            ёлки  0.010"
      ]
     },
     "execution_count": 35,
     "metadata": {},
     "output_type": "execute_result"
    }
   ],
   "source": [
    "# Сравним распределение заказов по типу мероприятий в разерезе сезонов\n",
    "grouped_event = new_df.groupby(['season', 'event_type_main'], as_index=False)['order_id'].count()\n",
    "season_sum = grouped_event.groupby('season')['order_id'].sum()\n",
    "grouped_event['sum'] = grouped_event['season'].map(season_sum)\n",
    "\n",
    "# Считаем долю \n",
    "grouped_event['share'] =round( grouped_event['order_id'] / grouped_event['sum'] , 3)\n",
    "\n",
    "# Оставляем нужные столбцы\n",
    "grouped_event = grouped_event[['season', 'event_type_main', 'share']]\n",
    "grouped_event"
   ]
  },
  {
   "cell_type": "code",
   "execution_count": 36,
   "metadata": {},
   "outputs": [
    {
     "data": {
      "text/plain": [
       "Text(0.5, 1.0, 'Доля заказов в разрезе мероприятий')"
      ]
     },
     "execution_count": 36,
     "metadata": {},
     "output_type": "execute_result"
    },
    {
     "data": {
      "image/png": "[encoded data removed]",
      "text/plain": [
       "<Figure size 432x288 with 1 Axes>"
      ]
     },
     "metadata": {
      "needs_background": "light"
     },
     "output_type": "display_data"
    }
   ],
   "source": [
    "# Визуализируем\n",
    "sns.barplot(x='event_type_main', \n",
    "            y='share',\n",
    "            hue='season', \n",
    "            data=grouped_event, \n",
    "            color='teal')\n",
    "\n",
    "plt.xlabel('')\n",
    "plt.ylabel('Доля')\n",
    "plt.title('Доля заказов в разрезе мероприятий')"
   ]
  },
  {
   "cell_type": "markdown",
   "metadata": {},
   "source": [
    "Заказы по мероприятиям распределены неравномерно - с наступлением осени заказов по концертам, стендапам и другим категориям стало меньше.  Вероятнее всего, это связано с окончанием отпуска у многих, а также наступлением более холодного времени года (концерты и стендапы часто проводят на открытых территориях). А заказы связанные со споротом и театром стали увеличиваться - это можно связать с большим количесвтом спортивных игр осенью и более подходящей погодой для похода в театр (осенью ходить в театр вАйБоВеЕе)"
   ]
  },
  {
   "cell_type": "code",
   "execution_count": 37,
   "metadata": {},
   "outputs": [
    {
     "data": {
      "text/html": [
       "<div>\n",
       "<style scoped>\n",
       "    .dataframe tbody tr th:only-of-type {\n",
       "        vertical-align: middle;\n",
       "    }\n",
       "\n",
       "    .dataframe tbody tr th {\n",
       "        vertical-align: top;\n",
       "    }\n",
       "\n",
       "    .dataframe thead th {\n",
       "        text-align: right;\n",
       "    }\n",
       "</style>\n",
       "<table border=\"1\" class=\"dataframe\">\n",
       "  <thead>\n",
       "    <tr style=\"text-align: right;\">\n",
       "      <th></th>\n",
       "      <th>season</th>\n",
       "      <th>age_limit</th>\n",
       "      <th>share</th>\n",
       "    </tr>\n",
       "  </thead>\n",
       "  <tbody>\n",
       "    <tr>\n",
       "      <th>0</th>\n",
       "      <td>лето</td>\n",
       "      <td>0</td>\n",
       "      <td>0.180</td>\n",
       "    </tr>\n",
       "    <tr>\n",
       "      <th>1</th>\n",
       "      <td>лето</td>\n",
       "      <td>6</td>\n",
       "      <td>0.183</td>\n",
       "    </tr>\n",
       "    <tr>\n",
       "      <th>2</th>\n",
       "      <td>лето</td>\n",
       "      <td>12</td>\n",
       "      <td>0.202</td>\n",
       "    </tr>\n",
       "    <tr>\n",
       "      <th>3</th>\n",
       "      <td>лето</td>\n",
       "      <td>16</td>\n",
       "      <td>0.284</td>\n",
       "    </tr>\n",
       "    <tr>\n",
       "      <th>4</th>\n",
       "      <td>лето</td>\n",
       "      <td>18</td>\n",
       "      <td>0.150</td>\n",
       "    </tr>\n",
       "    <tr>\n",
       "      <th>5</th>\n",
       "      <td>осень</td>\n",
       "      <td>0</td>\n",
       "      <td>0.236</td>\n",
       "    </tr>\n",
       "    <tr>\n",
       "      <th>6</th>\n",
       "      <td>осень</td>\n",
       "      <td>6</td>\n",
       "      <td>0.177</td>\n",
       "    </tr>\n",
       "    <tr>\n",
       "      <th>7</th>\n",
       "      <td>осень</td>\n",
       "      <td>12</td>\n",
       "      <td>0.221</td>\n",
       "    </tr>\n",
       "    <tr>\n",
       "      <th>8</th>\n",
       "      <td>осень</td>\n",
       "      <td>16</td>\n",
       "      <td>0.262</td>\n",
       "    </tr>\n",
       "    <tr>\n",
       "      <th>9</th>\n",
       "      <td>осень</td>\n",
       "      <td>18</td>\n",
       "      <td>0.104</td>\n",
       "    </tr>\n",
       "  </tbody>\n",
       "</table>\n",
       "</div>"
      ],
      "text/plain": [
       "  season  age_limit  share\n",
       "0   лето          0  0.180\n",
       "1   лето          6  0.183\n",
       "2   лето         12  0.202\n",
       "3   лето         16  0.284\n",
       "4   лето         18  0.150\n",
       "5  осень          0  0.236\n",
       "6  осень          6  0.177\n",
       "7  осень         12  0.221\n",
       "8  осень         16  0.262\n",
       "9  осень         18  0.104"
      ]
     },
     "execution_count": 37,
     "metadata": {},
     "output_type": "execute_result"
    }
   ],
   "source": [
    "# Сравним распределение заказов по возрасту в разерезе сезонов\n",
    "grouped_age = new_df.groupby(['season', 'age_limit'], as_index=False)['order_id'].count()\n",
    "age_sum = grouped_age.groupby('season')['order_id'].sum()\n",
    "grouped_age['sum'] = grouped_age['season'].map(age_sum)\n",
    "\n",
    "# Считаем долю \n",
    "grouped_age['share'] =round( grouped_age['order_id'] / grouped_age['sum'] , 3)\n",
    "\n",
    "# Оставляем нужные столбцы\n",
    "grouped_age = grouped_age[['season', 'age_limit', 'share']]\n",
    "grouped_age"
   ]
  },
  {
   "cell_type": "code",
   "execution_count": 38,
   "metadata": {},
   "outputs": [
    {
     "data": {
      "text/plain": [
       "Text(0.5, 1.0, 'Доля заказов в разрезе возрастных ограничений')"
      ]
     },
     "execution_count": 38,
     "metadata": {},
     "output_type": "execute_result"
    },
    {
     "data": {
      "image/png": "[encoded data removed]",
      "text/plain": [
       "<Figure size 432x288 with 1 Axes>"
      ]
     },
     "metadata": {
      "needs_background": "light"
     },
     "output_type": "display_data"
    }
   ],
   "source": [
    "# Визуализируем\n",
    "sns.barplot(x='age_limit', \n",
    "            y='share',\n",
    "            hue='season', \n",
    "            data=grouped_age, \n",
    "            color='teal')\n",
    "\n",
    "plt.xlabel('')\n",
    "plt.ylabel('Доля')\n",
    "plt.title('Доля заказов в разрезе возрастных ограничений')"
   ]
  },
  {
   "cell_type": "markdown",
   "metadata": {},
   "source": [
    "Сильный различий между долями летних и осенних заказов нет, однако можно заметить, что\n",
    "+ на мероприятия 0+ осенью заказы увеличились\n",
    "+ на мероприятия 18+ и 16+ заказы упали"
   ]
  },
  {
   "cell_type": "code",
   "execution_count": 39,
   "metadata": {},
   "outputs": [
    {
     "data": {
      "text/html": [
       "<div>\n",
       "<style scoped>\n",
       "    .dataframe tbody tr th:only-of-type {\n",
       "        vertical-align: middle;\n",
       "    }\n",
       "\n",
       "    .dataframe tbody tr th {\n",
       "        vertical-align: top;\n",
       "    }\n",
       "\n",
       "    .dataframe thead th {\n",
       "        text-align: right;\n",
       "    }\n",
       "</style>\n",
       "<table border=\"1\" class=\"dataframe\">\n",
       "  <thead>\n",
       "    <tr style=\"text-align: right;\">\n",
       "      <th></th>\n",
       "      <th>season</th>\n",
       "      <th>device_type_canonical</th>\n",
       "      <th>share</th>\n",
       "    </tr>\n",
       "  </thead>\n",
       "  <tbody>\n",
       "    <tr>\n",
       "      <th>0</th>\n",
       "      <td>лето</td>\n",
       "      <td>desktop</td>\n",
       "      <td>0.193</td>\n",
       "    </tr>\n",
       "    <tr>\n",
       "      <th>1</th>\n",
       "      <td>лето</td>\n",
       "      <td>mobile</td>\n",
       "      <td>0.807</td>\n",
       "    </tr>\n",
       "    <tr>\n",
       "      <th>2</th>\n",
       "      <td>осень</td>\n",
       "      <td>desktop</td>\n",
       "      <td>0.203</td>\n",
       "    </tr>\n",
       "    <tr>\n",
       "      <th>3</th>\n",
       "      <td>осень</td>\n",
       "      <td>mobile</td>\n",
       "      <td>0.797</td>\n",
       "    </tr>\n",
       "  </tbody>\n",
       "</table>\n",
       "</div>"
      ],
      "text/plain": [
       "  season device_type_canonical  share\n",
       "0   лето               desktop  0.193\n",
       "1   лето                mobile  0.807\n",
       "2  осень               desktop  0.203\n",
       "3  осень                mobile  0.797"
      ]
     },
     "execution_count": 39,
     "metadata": {},
     "output_type": "execute_result"
    }
   ],
   "source": [
    "# Сравним распределение заказов по типу устройств в разерезе сезонов\n",
    "grouped_device = new_df.groupby(['season', 'device_type_canonical'], as_index=False)['order_id'].count()\n",
    "age_sum = grouped_device.groupby('season')['order_id'].sum()\n",
    "grouped_device['sum'] = grouped_device['season'].map(age_sum)\n",
    "\n",
    "# Считаем долю \n",
    "grouped_device['share'] =round( grouped_device['order_id'] / grouped_device['sum'] , 3)\n",
    "\n",
    "# Оставляем нужные столбцы\n",
    "grouped_device = grouped_device[['season', 'device_type_canonical', 'share']]\n",
    "grouped_device"
   ]
  },
  {
   "cell_type": "code",
   "execution_count": 40,
   "metadata": {
    "scrolled": true
   },
   "outputs": [
    {
     "data": {
      "text/plain": [
       "Text(0.5, 1.0, 'Доля заказов в разрезе типов устройств')"
      ]
     },
     "execution_count": 40,
     "metadata": {},
     "output_type": "execute_result"
    },
    {
     "data": {
      "image/png": "[encoded data removed]",
      "text/plain": [
       "<Figure size 432x288 with 1 Axes>"
      ]
     },
     "metadata": {
      "needs_background": "light"
     },
     "output_type": "display_data"
    }
   ],
   "source": [
    "# Визуализируем\n",
    "sns.barplot(x='device_type_canonical', \n",
    "            y='share',\n",
    "            hue='season', \n",
    "            data=grouped_device, \n",
    "            color='teal')\n",
    "\n",
    "plt.xlabel('')\n",
    "plt.ylabel('Доля')\n",
    "plt.title('Доля заказов в разрезе типов устройств')"
   ]
  },
  {
   "cell_type": "markdown",
   "metadata": {},
   "source": [
    "Видим, что и летом и осенью доля заказов по устройствам распределена одинаково - заказы, оформленные через телефон сильно превышают вне зависимости от сезонности"
   ]
  },
  {
   "cell_type": "code",
   "execution_count": 41,
   "metadata": {},
   "outputs": [
    {
     "data": {
      "text/html": [
       "<div>\n",
       "<style scoped>\n",
       "    .dataframe tbody tr th:only-of-type {\n",
       "        vertical-align: middle;\n",
       "    }\n",
       "\n",
       "    .dataframe tbody tr th {\n",
       "        vertical-align: top;\n",
       "    }\n",
       "\n",
       "    .dataframe thead th {\n",
       "        text-align: right;\n",
       "    }\n",
       "</style>\n",
       "<table border=\"1\" class=\"dataframe\">\n",
       "  <thead>\n",
       "    <tr style=\"text-align: right;\">\n",
       "      <th></th>\n",
       "      <th>season</th>\n",
       "      <th>event_type_main</th>\n",
       "      <th>revenue_rub</th>\n",
       "      <th>share</th>\n",
       "    </tr>\n",
       "  </thead>\n",
       "  <tbody>\n",
       "    <tr>\n",
       "      <th>0</th>\n",
       "      <td>лето</td>\n",
       "      <td>выставки</td>\n",
       "      <td>228.381672</td>\n",
       "      <td>0.067</td>\n",
       "    </tr>\n",
       "    <tr>\n",
       "      <th>1</th>\n",
       "      <td>лето</td>\n",
       "      <td>другое</td>\n",
       "      <td>229.084741</td>\n",
       "      <td>0.067</td>\n",
       "    </tr>\n",
       "    <tr>\n",
       "      <th>2</th>\n",
       "      <td>лето</td>\n",
       "      <td>концерты</td>\n",
       "      <td>782.495463</td>\n",
       "      <td>0.228</td>\n",
       "    </tr>\n",
       "    <tr>\n",
       "      <th>3</th>\n",
       "      <td>лето</td>\n",
       "      <td>спорт</td>\n",
       "      <td>147.248160</td>\n",
       "      <td>0.043</td>\n",
       "    </tr>\n",
       "    <tr>\n",
       "      <th>4</th>\n",
       "      <td>лето</td>\n",
       "      <td>стендап</td>\n",
       "      <td>646.888938</td>\n",
       "      <td>0.189</td>\n",
       "    </tr>\n",
       "    <tr>\n",
       "      <th>5</th>\n",
       "      <td>лето</td>\n",
       "      <td>театр</td>\n",
       "      <td>586.029010</td>\n",
       "      <td>0.171</td>\n",
       "    </tr>\n",
       "    <tr>\n",
       "      <th>6</th>\n",
       "      <td>лето</td>\n",
       "      <td>ёлки</td>\n",
       "      <td>806.906376</td>\n",
       "      <td>0.235</td>\n",
       "    </tr>\n",
       "    <tr>\n",
       "      <th>7</th>\n",
       "      <td>осень</td>\n",
       "      <td>выставки</td>\n",
       "      <td>235.990865</td>\n",
       "      <td>0.073</td>\n",
       "    </tr>\n",
       "    <tr>\n",
       "      <th>8</th>\n",
       "      <td>осень</td>\n",
       "      <td>другое</td>\n",
       "      <td>225.595369</td>\n",
       "      <td>0.070</td>\n",
       "    </tr>\n",
       "    <tr>\n",
       "      <th>9</th>\n",
       "      <td>осень</td>\n",
       "      <td>концерты</td>\n",
       "      <td>711.972726</td>\n",
       "      <td>0.221</td>\n",
       "    </tr>\n",
       "    <tr>\n",
       "      <th>10</th>\n",
       "      <td>осень</td>\n",
       "      <td>спорт</td>\n",
       "      <td>153.183784</td>\n",
       "      <td>0.047</td>\n",
       "    </tr>\n",
       "    <tr>\n",
       "      <th>11</th>\n",
       "      <td>осень</td>\n",
       "      <td>стендап</td>\n",
       "      <td>677.908326</td>\n",
       "      <td>0.210</td>\n",
       "    </tr>\n",
       "    <tr>\n",
       "      <th>12</th>\n",
       "      <td>осень</td>\n",
       "      <td>театр</td>\n",
       "      <td>484.165379</td>\n",
       "      <td>0.150</td>\n",
       "    </tr>\n",
       "    <tr>\n",
       "      <th>13</th>\n",
       "      <td>осень</td>\n",
       "      <td>ёлки</td>\n",
       "      <td>737.916621</td>\n",
       "      <td>0.229</td>\n",
       "    </tr>\n",
       "  </tbody>\n",
       "</table>\n",
       "</div>"
      ],
      "text/plain": [
       "   season event_type_main  revenue_rub  share\n",
       "0    лето        выставки   228.381672  0.067\n",
       "1    лето          другое   229.084741  0.067\n",
       "2    лето        концерты   782.495463  0.228\n",
       "3    лето           спорт   147.248160  0.043\n",
       "4    лето         стендап   646.888938  0.189\n",
       "5    лето           театр   586.029010  0.171\n",
       "6    лето            ёлки   806.906376  0.235\n",
       "7   осень        выставки   235.990865  0.073\n",
       "8   осень          другое   225.595369  0.070\n",
       "9   осень        концерты   711.972726  0.221\n",
       "10  осень           спорт   153.183784  0.047\n",
       "11  осень         стендап   677.908326  0.210\n",
       "12  осень           театр   484.165379  0.150\n",
       "13  осень            ёлки   737.916621  0.229"
      ]
     },
     "execution_count": 41,
     "metadata": {},
     "output_type": "execute_result"
    }
   ],
   "source": [
    "# Сравним выручку с 1 заказа по типу мероприятий в разерезе сезонов\n",
    "avg_revenue = new_df.groupby(['season', 'event_type_main'], as_index=False)['revenue_rub'].mean()\n",
    "season_sum = avg_revenue.groupby('season')['revenue_rub'].sum()\n",
    "avg_revenue['sum'] = avg_revenue['season'].map(season_sum)\n",
    "\n",
    "# Считаем долю \n",
    "avg_revenue['share'] =round( avg_revenue['revenue_rub'] / avg_revenue['sum'] , 3)\n",
    "\n",
    "# Оставляем нужные столбцы\n",
    "avg_revenue = avg_revenue[['season', 'event_type_main', 'revenue_rub', 'share']]\n",
    "avg_revenue"
   ]
  },
  {
   "cell_type": "code",
   "execution_count": 42,
   "metadata": {},
   "outputs": [
    {
     "data": {
      "text/plain": [
       "Text(0.5, 1.0, 'Сравнение средней выручки с 1 билета в разерезе сезонов')"
      ]
     },
     "execution_count": 42,
     "metadata": {},
     "output_type": "execute_result"
    },
    {
     "data": {
      "image/png": "[encoded data removed]",
      "text/plain": [
       "<Figure size 432x288 with 1 Axes>"
      ]
     },
     "metadata": {
      "needs_background": "light"
     },
     "output_type": "display_data"
    }
   ],
   "source": [
    "# Визуализируем\n",
    "sns.barplot(x='event_type_main', \n",
    "            y='share',\n",
    "            hue='season', \n",
    "            data=avg_revenue, \n",
    "            color='powderblue')\n",
    "\n",
    "plt.xlabel('')\n",
    "plt.ylabel('Доля')\n",
    "plt.title('Сравнение средней выручки с 1 билета в разерезе сезонов')"
   ]
  },
  {
   "cell_type": "code",
   "execution_count": 43,
   "metadata": {},
   "outputs": [
    {
     "data": {
      "text/html": [
       "<div>\n",
       "<style scoped>\n",
       "    .dataframe tbody tr th:only-of-type {\n",
       "        vertical-align: middle;\n",
       "    }\n",
       "\n",
       "    .dataframe tbody tr th {\n",
       "        vertical-align: top;\n",
       "    }\n",
       "\n",
       "    .dataframe thead th {\n",
       "        text-align: right;\n",
       "    }\n",
       "</style>\n",
       "<table border=\"1\" class=\"dataframe\">\n",
       "  <thead>\n",
       "    <tr style=\"text-align: right;\">\n",
       "      <th>season</th>\n",
       "      <th>event_type_main</th>\n",
       "      <th>лето</th>\n",
       "      <th>осень</th>\n",
       "    </tr>\n",
       "  </thead>\n",
       "  <tbody>\n",
       "    <tr>\n",
       "      <th>0</th>\n",
       "      <td>выставки</td>\n",
       "      <td>0.067</td>\n",
       "      <td>0.073</td>\n",
       "    </tr>\n",
       "    <tr>\n",
       "      <th>1</th>\n",
       "      <td>другое</td>\n",
       "      <td>0.067</td>\n",
       "      <td>0.070</td>\n",
       "    </tr>\n",
       "    <tr>\n",
       "      <th>2</th>\n",
       "      <td>концерты</td>\n",
       "      <td>0.228</td>\n",
       "      <td>0.221</td>\n",
       "    </tr>\n",
       "    <tr>\n",
       "      <th>3</th>\n",
       "      <td>спорт</td>\n",
       "      <td>0.043</td>\n",
       "      <td>0.047</td>\n",
       "    </tr>\n",
       "    <tr>\n",
       "      <th>4</th>\n",
       "      <td>стендап</td>\n",
       "      <td>0.189</td>\n",
       "      <td>0.210</td>\n",
       "    </tr>\n",
       "    <tr>\n",
       "      <th>5</th>\n",
       "      <td>театр</td>\n",
       "      <td>0.171</td>\n",
       "      <td>0.150</td>\n",
       "    </tr>\n",
       "    <tr>\n",
       "      <th>6</th>\n",
       "      <td>ёлки</td>\n",
       "      <td>0.235</td>\n",
       "      <td>0.229</td>\n",
       "    </tr>\n",
       "  </tbody>\n",
       "</table>\n",
       "</div>"
      ],
      "text/plain": [
       "season event_type_main   лето  осень\n",
       "0             выставки  0.067  0.073\n",
       "1               другое  0.067  0.070\n",
       "2             концерты  0.228  0.221\n",
       "3                спорт  0.043  0.047\n",
       "4              стендап  0.189  0.210\n",
       "5                театр  0.171  0.150\n",
       "6                 ёлки  0.235  0.229"
      ]
     },
     "execution_count": 43,
     "metadata": {},
     "output_type": "execute_result"
    }
   ],
   "source": [
    "# Чтобы найти относительное изменение осенний значений с летними, создадим сводную\n",
    "pivot_df = avg_revenue.pivot_table(index='event_type_main', columns='season', values='share')\n",
    "pivot_df.reset_index()"
   ]
  },
  {
   "cell_type": "code",
   "execution_count": 44,
   "metadata": {},
   "outputs": [
    {
     "data": {
      "text/html": [
       "<div>\n",
       "<style scoped>\n",
       "    .dataframe tbody tr th:only-of-type {\n",
       "        vertical-align: middle;\n",
       "    }\n",
       "\n",
       "    .dataframe tbody tr th {\n",
       "        vertical-align: top;\n",
       "    }\n",
       "\n",
       "    .dataframe thead th {\n",
       "        text-align: right;\n",
       "    }\n",
       "</style>\n",
       "<table border=\"1\" class=\"dataframe\">\n",
       "  <thead>\n",
       "    <tr style=\"text-align: right;\">\n",
       "      <th>season</th>\n",
       "      <th>лето</th>\n",
       "      <th>осень</th>\n",
       "      <th>разница</th>\n",
       "    </tr>\n",
       "    <tr>\n",
       "      <th>event_type_main</th>\n",
       "      <th></th>\n",
       "      <th></th>\n",
       "      <th></th>\n",
       "    </tr>\n",
       "  </thead>\n",
       "  <tbody>\n",
       "    <tr>\n",
       "      <th>выставки</th>\n",
       "      <td>0.067</td>\n",
       "      <td>0.073</td>\n",
       "      <td>0.6</td>\n",
       "    </tr>\n",
       "    <tr>\n",
       "      <th>другое</th>\n",
       "      <td>0.067</td>\n",
       "      <td>0.070</td>\n",
       "      <td>0.3</td>\n",
       "    </tr>\n",
       "    <tr>\n",
       "      <th>концерты</th>\n",
       "      <td>0.228</td>\n",
       "      <td>0.221</td>\n",
       "      <td>-0.7</td>\n",
       "    </tr>\n",
       "    <tr>\n",
       "      <th>спорт</th>\n",
       "      <td>0.043</td>\n",
       "      <td>0.047</td>\n",
       "      <td>0.4</td>\n",
       "    </tr>\n",
       "    <tr>\n",
       "      <th>стендап</th>\n",
       "      <td>0.189</td>\n",
       "      <td>0.210</td>\n",
       "      <td>2.1</td>\n",
       "    </tr>\n",
       "    <tr>\n",
       "      <th>театр</th>\n",
       "      <td>0.171</td>\n",
       "      <td>0.150</td>\n",
       "      <td>-2.1</td>\n",
       "    </tr>\n",
       "    <tr>\n",
       "      <th>ёлки</th>\n",
       "      <td>0.235</td>\n",
       "      <td>0.229</td>\n",
       "      <td>-0.6</td>\n",
       "    </tr>\n",
       "  </tbody>\n",
       "</table>\n",
       "</div>"
      ],
      "text/plain": [
       "season            лето  осень  разница\n",
       "event_type_main                       \n",
       "выставки         0.067  0.073      0.6\n",
       "другое           0.067  0.070      0.3\n",
       "концерты         0.228  0.221     -0.7\n",
       "спорт            0.043  0.047      0.4\n",
       "стендап          0.189  0.210      2.1\n",
       "театр            0.171  0.150     -2.1\n",
       "ёлки             0.235  0.229     -0.6"
      ]
     },
     "execution_count": 44,
     "metadata": {},
     "output_type": "execute_result"
    }
   ],
   "source": [
    "# Далее вычтем из столбца \"осень\" столбец \"лето\" и умножим на 100%\n",
    "pivot_df['разница'] = (pivot_df['осень'] - pivot_df['лето'] ) * 100\n",
    "pivot_df"
   ]
  },
  {
   "cell_type": "markdown",
   "metadata": {},
   "source": [
    "Итого получили гистограмму со средней выручкой за 1 заказ в разрезе мероприятий и сезонов, и таблицу, которая содержит инфо об отнсоительной разнице между средней выручкой заказа по сезонам. Можно заметить, что все изменения в разрезе сезонов незначительные - менее 1%, кроме стендапов и театров, где разница около 2%, т.е. с натусплением осени в других сферах ничего кардинально не менялось. А вот средняя выручка в разере мероприятий различается - больше всего средний чек выручки с заказа у елок, концертов и стендапов, причем в оба сезона. Значит в дальнейшем можно акцентировать внимание и увеличивать кол-во продаж билетов именно эти категории, тк они наиболее \"прибылеприносящие\""
   ]
  },
  {
   "cell_type": "markdown",
   "metadata": {},
   "source": [
    "###  Осенняя активность пользователей  "
   ]
  },
  {
   "cell_type": "markdown",
   "metadata": {},
   "source": [
    "Изучите активность пользователей осенью 2024 года. В вашем распоряжении данные за два осенних месяца. Используйте только эти данные и сделайте следующее:\n",
    "+ Проанализируйте динамику изменений по дням для: \n",
    "    + общего числа заказов; \n",
    "    + количества активных пользователей DAU; \n",
    "    + среднего числа заказов на одного пользователя; \n",
    "    + средней стоимости одного билета. \n",
    "    \n",
    "    Рекомендация: удобно создать одну сводную таблицу, и в ней по дням рассчитать число заказов и число уникальных пользователей, а затем найти величину — количество заказов на одного пользователя. Полученные результаты можно визуализировать с помощью линейного графика. Подобные графики вы строили на дашборде, только делали это с агрегацией по неделям. \n",
    "\n",
    "\n",
    "+ Изучите недельную цикличность. Выделите день недели и сравните пользовательскую активность в будни и выходные. \n",
    "+ Напишите промежуточный вывод о пользовательской активности и недельной цикличности. "
   ]
  },
  {
   "cell_type": "code",
   "execution_count": 45,
   "metadata": {},
   "outputs": [
    {
     "data": {
      "text/html": [
       "<div>\n",
       "<style scoped>\n",
       "    .dataframe tbody tr th:only-of-type {\n",
       "        vertical-align: middle;\n",
       "    }\n",
       "\n",
       "    .dataframe tbody tr th {\n",
       "        vertical-align: top;\n",
       "    }\n",
       "\n",
       "    .dataframe thead th {\n",
       "        text-align: right;\n",
       "    }\n",
       "</style>\n",
       "<table border=\"1\" class=\"dataframe\">\n",
       "  <thead>\n",
       "    <tr style=\"text-align: right;\">\n",
       "      <th></th>\n",
       "      <th>order_id</th>\n",
       "      <th>user_id</th>\n",
       "      <th>created_dt_msk</th>\n",
       "      <th>created_ts_msk</th>\n",
       "      <th>event_id</th>\n",
       "      <th>cinema_circuit</th>\n",
       "      <th>age_limit</th>\n",
       "      <th>currency_code</th>\n",
       "      <th>device_type_canonical</th>\n",
       "      <th>revenue</th>\n",
       "      <th>...</th>\n",
       "      <th>venue_name</th>\n",
       "      <th>venue_address</th>\n",
       "      <th>data</th>\n",
       "      <th>nominal</th>\n",
       "      <th>curs</th>\n",
       "      <th>cdx</th>\n",
       "      <th>revenue_rub</th>\n",
       "      <th>one_ticket_revenue_rub</th>\n",
       "      <th>month</th>\n",
       "      <th>season</th>\n",
       "    </tr>\n",
       "  </thead>\n",
       "  <tbody>\n",
       "    <tr>\n",
       "      <th>271018</th>\n",
       "      <td>6787741</td>\n",
       "      <td>97f53f0d45817d6</td>\n",
       "      <td>2024-07-06</td>\n",
       "      <td>2024-07-06 14:33:17</td>\n",
       "      <td>525084</td>\n",
       "      <td>нет</td>\n",
       "      <td>0</td>\n",
       "      <td>rub</td>\n",
       "      <td>mobile</td>\n",
       "      <td>26.340000</td>\n",
       "      <td>...</td>\n",
       "      <td>Команда артистов \"Ведро\" Групп</td>\n",
       "      <td>ул. Льва Толстого, д. 76 к. 331</td>\n",
       "      <td>2024-07-06</td>\n",
       "      <td>100</td>\n",
       "      <td>18.539499</td>\n",
       "      <td>kzt</td>\n",
       "      <td>26.340000</td>\n",
       "      <td>13.170000</td>\n",
       "      <td>июль</td>\n",
       "      <td>лето</td>\n",
       "    </tr>\n",
       "    <tr>\n",
       "      <th>174070</th>\n",
       "      <td>2325163</td>\n",
       "      <td>e617bb564c5812e</td>\n",
       "      <td>2024-06-26</td>\n",
       "      <td>2024-06-26 00:03:21</td>\n",
       "      <td>460567</td>\n",
       "      <td>нет</td>\n",
       "      <td>6</td>\n",
       "      <td>rub</td>\n",
       "      <td>mobile</td>\n",
       "      <td>872.489990</td>\n",
       "      <td>...</td>\n",
       "      <td>Клуб хорового пения \"Гардероб\" и партнеры</td>\n",
       "      <td>ул. Пионерская, д. 86 стр. 936</td>\n",
       "      <td>2024-06-26</td>\n",
       "      <td>100</td>\n",
       "      <td>18.757999</td>\n",
       "      <td>kzt</td>\n",
       "      <td>872.489990</td>\n",
       "      <td>436.244995</td>\n",
       "      <td>июнь</td>\n",
       "      <td>лето</td>\n",
       "    </tr>\n",
       "    <tr>\n",
       "      <th>259359</th>\n",
       "      <td>8530960</td>\n",
       "      <td>60d09a82e783d09</td>\n",
       "      <td>2024-09-06</td>\n",
       "      <td>2024-09-06 20:20:31</td>\n",
       "      <td>535735</td>\n",
       "      <td>нет</td>\n",
       "      <td>6</td>\n",
       "      <td>rub</td>\n",
       "      <td>mobile</td>\n",
       "      <td>964.640015</td>\n",
       "      <td>...</td>\n",
       "      <td>Группа арт-менеджеров \"Таблетка\" Инкорпорэйтед</td>\n",
       "      <td>наб. Шевченко, д. 867 стр. 2</td>\n",
       "      <td>2024-09-06</td>\n",
       "      <td>100</td>\n",
       "      <td>18.550400</td>\n",
       "      <td>kzt</td>\n",
       "      <td>964.640015</td>\n",
       "      <td>321.546672</td>\n",
       "      <td>сентябрь</td>\n",
       "      <td>осень</td>\n",
       "    </tr>\n",
       "    <tr>\n",
       "      <th>207357</th>\n",
       "      <td>2056536</td>\n",
       "      <td>b52e1b054c35a9d</td>\n",
       "      <td>2024-10-01</td>\n",
       "      <td>2024-10-01 12:39:38</td>\n",
       "      <td>438335</td>\n",
       "      <td>нет</td>\n",
       "      <td>12</td>\n",
       "      <td>rub</td>\n",
       "      <td>mobile</td>\n",
       "      <td>1803.140015</td>\n",
       "      <td>...</td>\n",
       "      <td>Киновидеостудия \"Angle\" Лтд</td>\n",
       "      <td>пер. Деповский, д. 120</td>\n",
       "      <td>2024-10-01</td>\n",
       "      <td>100</td>\n",
       "      <td>19.452499</td>\n",
       "      <td>kzt</td>\n",
       "      <td>1803.140015</td>\n",
       "      <td>601.046672</td>\n",
       "      <td>октябрь</td>\n",
       "      <td>осень</td>\n",
       "    </tr>\n",
       "    <tr>\n",
       "      <th>29446</th>\n",
       "      <td>2867956</td>\n",
       "      <td>02ea4583333f064</td>\n",
       "      <td>2024-07-09</td>\n",
       "      <td>2024-07-09 15:41:26</td>\n",
       "      <td>445818</td>\n",
       "      <td>нет</td>\n",
       "      <td>18</td>\n",
       "      <td>rub</td>\n",
       "      <td>mobile</td>\n",
       "      <td>1217.810059</td>\n",
       "      <td>...</td>\n",
       "      <td>Школа театрального мастерства \"Магнит\" и партнеры</td>\n",
       "      <td>наб. Малая, д. 392 стр. 37</td>\n",
       "      <td>2024-07-09</td>\n",
       "      <td>100</td>\n",
       "      <td>18.512400</td>\n",
       "      <td>kzt</td>\n",
       "      <td>1217.810059</td>\n",
       "      <td>608.905029</td>\n",
       "      <td>июль</td>\n",
       "      <td>лето</td>\n",
       "    </tr>\n",
       "  </tbody>\n",
       "</table>\n",
       "<p>5 rows × 32 columns</p>\n",
       "</div>"
      ],
      "text/plain": [
       "        order_id          user_id created_dt_msk      created_ts_msk  \\\n",
       "271018   6787741  97f53f0d45817d6     2024-07-06 2024-07-06 14:33:17   \n",
       "174070   2325163  e617bb564c5812e     2024-06-26 2024-06-26 00:03:21   \n",
       "259359   8530960  60d09a82e783d09     2024-09-06 2024-09-06 20:20:31   \n",
       "207357   2056536  b52e1b054c35a9d     2024-10-01 2024-10-01 12:39:38   \n",
       "29446    2867956  02ea4583333f064     2024-07-09 2024-07-09 15:41:26   \n",
       "\n",
       "        event_id cinema_circuit  age_limit currency_code  \\\n",
       "271018    525084            нет          0           rub   \n",
       "174070    460567            нет          6           rub   \n",
       "259359    535735            нет          6           rub   \n",
       "207357    438335            нет         12           rub   \n",
       "29446     445818            нет         18           rub   \n",
       "\n",
       "       device_type_canonical      revenue  ...  \\\n",
       "271018                mobile    26.340000  ...   \n",
       "174070                mobile   872.489990  ...   \n",
       "259359                mobile   964.640015  ...   \n",
       "207357                mobile  1803.140015  ...   \n",
       "29446                 mobile  1217.810059  ...   \n",
       "\n",
       "                                               venue_name  \\\n",
       "271018                     Команда артистов \"Ведро\" Групп   \n",
       "174070          Клуб хорового пения \"Гардероб\" и партнеры   \n",
       "259359     Группа арт-менеджеров \"Таблетка\" Инкорпорэйтед   \n",
       "207357                        Киновидеостудия \"Angle\" Лтд   \n",
       "29446   Школа театрального мастерства \"Магнит\" и партнеры   \n",
       "\n",
       "                          venue_address       data  nominal       curs  cdx  \\\n",
       "271018  ул. Льва Толстого, д. 76 к. 331 2024-07-06      100  18.539499  kzt   \n",
       "174070   ул. Пионерская, д. 86 стр. 936 2024-06-26      100  18.757999  kzt   \n",
       "259359     наб. Шевченко, д. 867 стр. 2 2024-09-06      100  18.550400  kzt   \n",
       "207357           пер. Деповский, д. 120 2024-10-01      100  19.452499  kzt   \n",
       "29446        наб. Малая, д. 392 стр. 37 2024-07-09      100  18.512400  kzt   \n",
       "\n",
       "        revenue_rub one_ticket_revenue_rub     month season  \n",
       "271018    26.340000              13.170000      июль   лето  \n",
       "174070   872.489990             436.244995      июнь   лето  \n",
       "259359   964.640015             321.546672  сентябрь  осень  \n",
       "207357  1803.140015             601.046672   октябрь  осень  \n",
       "29446   1217.810059             608.905029      июль   лето  \n",
       "\n",
       "[5 rows x 32 columns]"
      ]
     },
     "execution_count": 45,
     "metadata": {},
     "output_type": "execute_result"
    }
   ],
   "source": [
    "new_df.sample(5)"
   ]
  },
  {
   "cell_type": "code",
   "execution_count": 46,
   "metadata": {},
   "outputs": [
    {
     "data": {
      "text/html": [
       "<div>\n",
       "<style scoped>\n",
       "    .dataframe tbody tr th:only-of-type {\n",
       "        vertical-align: middle;\n",
       "    }\n",
       "\n",
       "    .dataframe tbody tr th {\n",
       "        vertical-align: top;\n",
       "    }\n",
       "\n",
       "    .dataframe thead th {\n",
       "        text-align: right;\n",
       "    }\n",
       "</style>\n",
       "<table border=\"1\" class=\"dataframe\">\n",
       "  <thead>\n",
       "    <tr style=\"text-align: right;\">\n",
       "      <th></th>\n",
       "      <th>order_id</th>\n",
       "      <th>user_id</th>\n",
       "      <th>created_dt_msk</th>\n",
       "      <th>created_ts_msk</th>\n",
       "      <th>event_id</th>\n",
       "      <th>cinema_circuit</th>\n",
       "      <th>age_limit</th>\n",
       "      <th>currency_code</th>\n",
       "      <th>device_type_canonical</th>\n",
       "      <th>revenue</th>\n",
       "      <th>...</th>\n",
       "      <th>venue_name</th>\n",
       "      <th>venue_address</th>\n",
       "      <th>data</th>\n",
       "      <th>nominal</th>\n",
       "      <th>curs</th>\n",
       "      <th>cdx</th>\n",
       "      <th>revenue_rub</th>\n",
       "      <th>one_ticket_revenue_rub</th>\n",
       "      <th>month</th>\n",
       "      <th>season</th>\n",
       "    </tr>\n",
       "  </thead>\n",
       "  <tbody>\n",
       "    <tr>\n",
       "      <th>8058</th>\n",
       "      <td>4222372</td>\n",
       "      <td>0beb8fc0c0a9ce1</td>\n",
       "      <td>2024-10-21</td>\n",
       "      <td>2024-10-21 14:14:26</td>\n",
       "      <td>169230</td>\n",
       "      <td>нет</td>\n",
       "      <td>16</td>\n",
       "      <td>rub</td>\n",
       "      <td>mobile</td>\n",
       "      <td>1521.939941</td>\n",
       "      <td>...</td>\n",
       "      <td>Сценический центр \"Деталь\" Групп</td>\n",
       "      <td>алл. Машиностроителей, д. 19 стр. 6</td>\n",
       "      <td>2024-10-21</td>\n",
       "      <td>100</td>\n",
       "      <td>19.788401</td>\n",
       "      <td>kzt</td>\n",
       "      <td>1521.939941</td>\n",
       "      <td>380.484985</td>\n",
       "      <td>октябрь</td>\n",
       "      <td>осень</td>\n",
       "    </tr>\n",
       "    <tr>\n",
       "      <th>8059</th>\n",
       "      <td>3188290</td>\n",
       "      <td>fc950d43881de43</td>\n",
       "      <td>2024-10-21</td>\n",
       "      <td>2024-10-21 21:42:42</td>\n",
       "      <td>169230</td>\n",
       "      <td>нет</td>\n",
       "      <td>16</td>\n",
       "      <td>rub</td>\n",
       "      <td>mobile</td>\n",
       "      <td>1141.449951</td>\n",
       "      <td>...</td>\n",
       "      <td>Сценический центр \"Деталь\" Групп</td>\n",
       "      <td>алл. Машиностроителей, д. 19 стр. 6</td>\n",
       "      <td>2024-10-21</td>\n",
       "      <td>100</td>\n",
       "      <td>19.788401</td>\n",
       "      <td>kzt</td>\n",
       "      <td>1141.449951</td>\n",
       "      <td>380.483317</td>\n",
       "      <td>октябрь</td>\n",
       "      <td>осень</td>\n",
       "    </tr>\n",
       "    <tr>\n",
       "      <th>8060</th>\n",
       "      <td>2217370</td>\n",
       "      <td>b11294e5f3e6da6</td>\n",
       "      <td>2024-10-21</td>\n",
       "      <td>2024-10-21 14:05:34</td>\n",
       "      <td>237325</td>\n",
       "      <td>нет</td>\n",
       "      <td>0</td>\n",
       "      <td>rub</td>\n",
       "      <td>mobile</td>\n",
       "      <td>289.450012</td>\n",
       "      <td>...</td>\n",
       "      <td>Музыкальная школа для детей \"Аккаунт\" Лтд</td>\n",
       "      <td>алл. Шмидта, д. 9 стр. 4</td>\n",
       "      <td>2024-10-21</td>\n",
       "      <td>100</td>\n",
       "      <td>19.788401</td>\n",
       "      <td>kzt</td>\n",
       "      <td>289.450012</td>\n",
       "      <td>144.725006</td>\n",
       "      <td>октябрь</td>\n",
       "      <td>осень</td>\n",
       "    </tr>\n",
       "    <tr>\n",
       "      <th>8061</th>\n",
       "      <td>7926136</td>\n",
       "      <td>b5ecbee7c8fe379</td>\n",
       "      <td>2024-10-21</td>\n",
       "      <td>2024-10-21 21:36:31</td>\n",
       "      <td>237325</td>\n",
       "      <td>нет</td>\n",
       "      <td>0</td>\n",
       "      <td>rub</td>\n",
       "      <td>mobile</td>\n",
       "      <td>434.179993</td>\n",
       "      <td>...</td>\n",
       "      <td>Музыкальная школа для детей \"Аккаунт\" Лтд</td>\n",
       "      <td>алл. Шмидта, д. 9 стр. 4</td>\n",
       "      <td>2024-10-21</td>\n",
       "      <td>100</td>\n",
       "      <td>19.788401</td>\n",
       "      <td>kzt</td>\n",
       "      <td>434.179993</td>\n",
       "      <td>144.726664</td>\n",
       "      <td>октябрь</td>\n",
       "      <td>осень</td>\n",
       "    </tr>\n",
       "    <tr>\n",
       "      <th>8062</th>\n",
       "      <td>7453001</td>\n",
       "      <td>c87b8d1ab30ce07</td>\n",
       "      <td>2024-10-21</td>\n",
       "      <td>2024-10-21 10:19:19</td>\n",
       "      <td>578454</td>\n",
       "      <td>нет</td>\n",
       "      <td>0</td>\n",
       "      <td>rub</td>\n",
       "      <td>mobile</td>\n",
       "      <td>1258.569946</td>\n",
       "      <td>...</td>\n",
       "      <td>Училище искусств \"Нирвана\" Инк</td>\n",
       "      <td>алл. Юбилейная, д. 5/6</td>\n",
       "      <td>2024-10-21</td>\n",
       "      <td>100</td>\n",
       "      <td>19.788401</td>\n",
       "      <td>kzt</td>\n",
       "      <td>1258.569946</td>\n",
       "      <td>314.642487</td>\n",
       "      <td>октябрь</td>\n",
       "      <td>осень</td>\n",
       "    </tr>\n",
       "    <tr>\n",
       "      <th>...</th>\n",
       "      <td>...</td>\n",
       "      <td>...</td>\n",
       "      <td>...</td>\n",
       "      <td>...</td>\n",
       "      <td>...</td>\n",
       "      <td>...</td>\n",
       "      <td>...</td>\n",
       "      <td>...</td>\n",
       "      <td>...</td>\n",
       "      <td>...</td>\n",
       "      <td>...</td>\n",
       "      <td>...</td>\n",
       "      <td>...</td>\n",
       "      <td>...</td>\n",
       "      <td>...</td>\n",
       "      <td>...</td>\n",
       "      <td>...</td>\n",
       "      <td>...</td>\n",
       "      <td>...</td>\n",
       "      <td>...</td>\n",
       "      <td>...</td>\n",
       "    </tr>\n",
       "    <tr>\n",
       "      <th>269633</th>\n",
       "      <td>8200389</td>\n",
       "      <td>efd7b595af23463</td>\n",
       "      <td>2024-09-18</td>\n",
       "      <td>2024-09-18 06:58:53</td>\n",
       "      <td>560184</td>\n",
       "      <td>нет</td>\n",
       "      <td>16</td>\n",
       "      <td>rub</td>\n",
       "      <td>mobile</td>\n",
       "      <td>224.740005</td>\n",
       "      <td>...</td>\n",
       "      <td>Заповедник \"Ода\" и партнеры</td>\n",
       "      <td>ул. Ленская, д. 1/6 к. 2</td>\n",
       "      <td>2024-09-18</td>\n",
       "      <td>100</td>\n",
       "      <td>19.023600</td>\n",
       "      <td>kzt</td>\n",
       "      <td>224.740005</td>\n",
       "      <td>112.370003</td>\n",
       "      <td>сентябрь</td>\n",
       "      <td>осень</td>\n",
       "    </tr>\n",
       "    <tr>\n",
       "      <th>269634</th>\n",
       "      <td>5309379</td>\n",
       "      <td>f5f605cc1c89b39</td>\n",
       "      <td>2024-09-18</td>\n",
       "      <td>2024-09-18 13:03:00</td>\n",
       "      <td>563889</td>\n",
       "      <td>нет</td>\n",
       "      <td>6</td>\n",
       "      <td>rub</td>\n",
       "      <td>mobile</td>\n",
       "      <td>76.300003</td>\n",
       "      <td>...</td>\n",
       "      <td>Искусственная сцена \"Краски\" и партнеры</td>\n",
       "      <td>пер. Р.Люксембург, д. 499 к. 997</td>\n",
       "      <td>2024-09-18</td>\n",
       "      <td>100</td>\n",
       "      <td>19.023600</td>\n",
       "      <td>kzt</td>\n",
       "      <td>76.300003</td>\n",
       "      <td>15.260001</td>\n",
       "      <td>сентябрь</td>\n",
       "      <td>осень</td>\n",
       "    </tr>\n",
       "    <tr>\n",
       "      <th>269635</th>\n",
       "      <td>4601750</td>\n",
       "      <td>fc950d43881de43</td>\n",
       "      <td>2024-09-18</td>\n",
       "      <td>2024-09-18 18:02:43</td>\n",
       "      <td>213019</td>\n",
       "      <td>нет</td>\n",
       "      <td>18</td>\n",
       "      <td>rub</td>\n",
       "      <td>mobile</td>\n",
       "      <td>1372.579956</td>\n",
       "      <td>...</td>\n",
       "      <td>Школа музыкального театра \"Труд\" Групп</td>\n",
       "      <td>пер. Городской, д. 8/6 к. 8/3</td>\n",
       "      <td>2024-09-18</td>\n",
       "      <td>100</td>\n",
       "      <td>19.023600</td>\n",
       "      <td>kzt</td>\n",
       "      <td>1372.579956</td>\n",
       "      <td>457.526652</td>\n",
       "      <td>сентябрь</td>\n",
       "      <td>осень</td>\n",
       "    </tr>\n",
       "    <tr>\n",
       "      <th>269636</th>\n",
       "      <td>5523892</td>\n",
       "      <td>fce8b5e7ceaf416</td>\n",
       "      <td>2024-09-18</td>\n",
       "      <td>2024-09-18 21:00:12</td>\n",
       "      <td>543039</td>\n",
       "      <td>нет</td>\n",
       "      <td>12</td>\n",
       "      <td>rub</td>\n",
       "      <td>mobile</td>\n",
       "      <td>124.800003</td>\n",
       "      <td>...</td>\n",
       "      <td>Кабинет Искусств \"Восход\" Групп</td>\n",
       "      <td>алл. Поперечная, д. 6</td>\n",
       "      <td>2024-09-18</td>\n",
       "      <td>100</td>\n",
       "      <td>19.023600</td>\n",
       "      <td>kzt</td>\n",
       "      <td>124.800003</td>\n",
       "      <td>41.600001</td>\n",
       "      <td>сентябрь</td>\n",
       "      <td>осень</td>\n",
       "    </tr>\n",
       "    <tr>\n",
       "      <th>269637</th>\n",
       "      <td>5523921</td>\n",
       "      <td>fce8b5e7ceaf416</td>\n",
       "      <td>2024-09-18</td>\n",
       "      <td>2024-09-18 20:58:51</td>\n",
       "      <td>543039</td>\n",
       "      <td>нет</td>\n",
       "      <td>12</td>\n",
       "      <td>rub</td>\n",
       "      <td>mobile</td>\n",
       "      <td>124.800003</td>\n",
       "      <td>...</td>\n",
       "      <td>Кабинет Искусств \"Восход\" Групп</td>\n",
       "      <td>алл. Поперечная, д. 6</td>\n",
       "      <td>2024-09-18</td>\n",
       "      <td>100</td>\n",
       "      <td>19.023600</td>\n",
       "      <td>kzt</td>\n",
       "      <td>124.800003</td>\n",
       "      <td>41.600001</td>\n",
       "      <td>сентябрь</td>\n",
       "      <td>осень</td>\n",
       "    </tr>\n",
       "  </tbody>\n",
       "</table>\n",
       "<p>168828 rows × 32 columns</p>\n",
       "</div>"
      ],
      "text/plain": [
       "        order_id          user_id created_dt_msk      created_ts_msk  \\\n",
       "8058     4222372  0beb8fc0c0a9ce1     2024-10-21 2024-10-21 14:14:26   \n",
       "8059     3188290  fc950d43881de43     2024-10-21 2024-10-21 21:42:42   \n",
       "8060     2217370  b11294e5f3e6da6     2024-10-21 2024-10-21 14:05:34   \n",
       "8061     7926136  b5ecbee7c8fe379     2024-10-21 2024-10-21 21:36:31   \n",
       "8062     7453001  c87b8d1ab30ce07     2024-10-21 2024-10-21 10:19:19   \n",
       "...          ...              ...            ...                 ...   \n",
       "269633   8200389  efd7b595af23463     2024-09-18 2024-09-18 06:58:53   \n",
       "269634   5309379  f5f605cc1c89b39     2024-09-18 2024-09-18 13:03:00   \n",
       "269635   4601750  fc950d43881de43     2024-09-18 2024-09-18 18:02:43   \n",
       "269636   5523892  fce8b5e7ceaf416     2024-09-18 2024-09-18 21:00:12   \n",
       "269637   5523921  fce8b5e7ceaf416     2024-09-18 2024-09-18 20:58:51   \n",
       "\n",
       "        event_id cinema_circuit  age_limit currency_code  \\\n",
       "8058      169230            нет         16           rub   \n",
       "8059      169230            нет         16           rub   \n",
       "8060      237325            нет          0           rub   \n",
       "8061      237325            нет          0           rub   \n",
       "8062      578454            нет          0           rub   \n",
       "...          ...            ...        ...           ...   \n",
       "269633    560184            нет         16           rub   \n",
       "269634    563889            нет          6           rub   \n",
       "269635    213019            нет         18           rub   \n",
       "269636    543039            нет         12           rub   \n",
       "269637    543039            нет         12           rub   \n",
       "\n",
       "       device_type_canonical      revenue  ...  \\\n",
       "8058                  mobile  1521.939941  ...   \n",
       "8059                  mobile  1141.449951  ...   \n",
       "8060                  mobile   289.450012  ...   \n",
       "8061                  mobile   434.179993  ...   \n",
       "8062                  mobile  1258.569946  ...   \n",
       "...                      ...          ...  ...   \n",
       "269633                mobile   224.740005  ...   \n",
       "269634                mobile    76.300003  ...   \n",
       "269635                mobile  1372.579956  ...   \n",
       "269636                mobile   124.800003  ...   \n",
       "269637                mobile   124.800003  ...   \n",
       "\n",
       "                                       venue_name  \\\n",
       "8058             Сценический центр \"Деталь\" Групп   \n",
       "8059             Сценический центр \"Деталь\" Групп   \n",
       "8060    Музыкальная школа для детей \"Аккаунт\" Лтд   \n",
       "8061    Музыкальная школа для детей \"Аккаунт\" Лтд   \n",
       "8062               Училище искусств \"Нирвана\" Инк   \n",
       "...                                           ...   \n",
       "269633                Заповедник \"Ода\" и партнеры   \n",
       "269634    Искусственная сцена \"Краски\" и партнеры   \n",
       "269635     Школа музыкального театра \"Труд\" Групп   \n",
       "269636            Кабинет Искусств \"Восход\" Групп   \n",
       "269637            Кабинет Искусств \"Восход\" Групп   \n",
       "\n",
       "                              venue_address       data  nominal       curs  \\\n",
       "8058    алл. Машиностроителей, д. 19 стр. 6 2024-10-21      100  19.788401   \n",
       "8059    алл. Машиностроителей, д. 19 стр. 6 2024-10-21      100  19.788401   \n",
       "8060               алл. Шмидта, д. 9 стр. 4 2024-10-21      100  19.788401   \n",
       "8061               алл. Шмидта, д. 9 стр. 4 2024-10-21      100  19.788401   \n",
       "8062                 алл. Юбилейная, д. 5/6 2024-10-21      100  19.788401   \n",
       "...                                     ...        ...      ...        ...   \n",
       "269633             ул. Ленская, д. 1/6 к. 2 2024-09-18      100  19.023600   \n",
       "269634     пер. Р.Люксембург, д. 499 к. 997 2024-09-18      100  19.023600   \n",
       "269635        пер. Городской, д. 8/6 к. 8/3 2024-09-18      100  19.023600   \n",
       "269636                алл. Поперечная, д. 6 2024-09-18      100  19.023600   \n",
       "269637                алл. Поперечная, д. 6 2024-09-18      100  19.023600   \n",
       "\n",
       "        cdx  revenue_rub one_ticket_revenue_rub     month season  \n",
       "8058    kzt  1521.939941             380.484985   октябрь  осень  \n",
       "8059    kzt  1141.449951             380.483317   октябрь  осень  \n",
       "8060    kzt   289.450012             144.725006   октябрь  осень  \n",
       "8061    kzt   434.179993             144.726664   октябрь  осень  \n",
       "8062    kzt  1258.569946             314.642487   октябрь  осень  \n",
       "...     ...          ...                    ...       ...    ...  \n",
       "269633  kzt   224.740005             112.370003  сентябрь  осень  \n",
       "269634  kzt    76.300003              15.260001  сентябрь  осень  \n",
       "269635  kzt  1372.579956             457.526652  сентябрь  осень  \n",
       "269636  kzt   124.800003              41.600001  сентябрь  осень  \n",
       "269637  kzt   124.800003              41.600001  сентябрь  осень  \n",
       "\n",
       "[168828 rows x 32 columns]"
      ]
     },
     "execution_count": 46,
     "metadata": {},
     "output_type": "execute_result"
    }
   ],
   "source": [
    "# Cоздадим новый датасет \n",
    "autumn_df = new_df[new_df['season']=='осень'].copy()\n",
    "autumn_df"
   ]
  },
  {
   "cell_type": "code",
   "execution_count": 47,
   "metadata": {
    "scrolled": true
   },
   "outputs": [
    {
     "data": {
      "text/html": [
       "<div>\n",
       "<style scoped>\n",
       "    .dataframe tbody tr th:only-of-type {\n",
       "        vertical-align: middle;\n",
       "    }\n",
       "\n",
       "    .dataframe tbody tr th {\n",
       "        vertical-align: top;\n",
       "    }\n",
       "\n",
       "    .dataframe thead th {\n",
       "        text-align: right;\n",
       "    }\n",
       "</style>\n",
       "<table border=\"1\" class=\"dataframe\">\n",
       "  <thead>\n",
       "    <tr style=\"text-align: right;\">\n",
       "      <th></th>\n",
       "      <th>created_dt_msk</th>\n",
       "      <th>order_id</th>\n",
       "      <th>revenue_rub</th>\n",
       "      <th>user_id</th>\n",
       "      <th>orders_per_user</th>\n",
       "    </tr>\n",
       "  </thead>\n",
       "  <tbody>\n",
       "    <tr>\n",
       "      <th>0</th>\n",
       "      <td>2024-09-01</td>\n",
       "      <td>1331</td>\n",
       "      <td>553.404260</td>\n",
       "      <td>565</td>\n",
       "      <td>2.36</td>\n",
       "    </tr>\n",
       "    <tr>\n",
       "      <th>1</th>\n",
       "      <td>2024-09-02</td>\n",
       "      <td>1380</td>\n",
       "      <td>509.810411</td>\n",
       "      <td>574</td>\n",
       "      <td>2.40</td>\n",
       "    </tr>\n",
       "    <tr>\n",
       "      <th>2</th>\n",
       "      <td>2024-09-03</td>\n",
       "      <td>5114</td>\n",
       "      <td>226.617394</td>\n",
       "      <td>778</td>\n",
       "      <td>6.57</td>\n",
       "    </tr>\n",
       "    <tr>\n",
       "      <th>3</th>\n",
       "      <td>2024-09-04</td>\n",
       "      <td>1774</td>\n",
       "      <td>486.052003</td>\n",
       "      <td>686</td>\n",
       "      <td>2.59</td>\n",
       "    </tr>\n",
       "    <tr>\n",
       "      <th>4</th>\n",
       "      <td>2024-09-05</td>\n",
       "      <td>1945</td>\n",
       "      <td>510.029725</td>\n",
       "      <td>740</td>\n",
       "      <td>2.63</td>\n",
       "    </tr>\n",
       "    <tr>\n",
       "      <th>...</th>\n",
       "      <td>...</td>\n",
       "      <td>...</td>\n",
       "      <td>...</td>\n",
       "      <td>...</td>\n",
       "      <td>...</td>\n",
       "    </tr>\n",
       "    <tr>\n",
       "      <th>56</th>\n",
       "      <td>2024-10-27</td>\n",
       "      <td>2854</td>\n",
       "      <td>516.429324</td>\n",
       "      <td>1036</td>\n",
       "      <td>2.75</td>\n",
       "    </tr>\n",
       "    <tr>\n",
       "      <th>57</th>\n",
       "      <td>2024-10-28</td>\n",
       "      <td>2841</td>\n",
       "      <td>479.990760</td>\n",
       "      <td>985</td>\n",
       "      <td>2.88</td>\n",
       "    </tr>\n",
       "    <tr>\n",
       "      <th>58</th>\n",
       "      <td>2024-10-29</td>\n",
       "      <td>2842</td>\n",
       "      <td>479.686667</td>\n",
       "      <td>999</td>\n",
       "      <td>2.84</td>\n",
       "    </tr>\n",
       "    <tr>\n",
       "      <th>59</th>\n",
       "      <td>2024-10-30</td>\n",
       "      <td>2930</td>\n",
       "      <td>500.916296</td>\n",
       "      <td>1040</td>\n",
       "      <td>2.82</td>\n",
       "    </tr>\n",
       "    <tr>\n",
       "      <th>60</th>\n",
       "      <td>2024-10-31</td>\n",
       "      <td>5967</td>\n",
       "      <td>390.690085</td>\n",
       "      <td>1275</td>\n",
       "      <td>4.68</td>\n",
       "    </tr>\n",
       "  </tbody>\n",
       "</table>\n",
       "<p>61 rows × 5 columns</p>\n",
       "</div>"
      ],
      "text/plain": [
       "   created_dt_msk  order_id  revenue_rub  user_id  orders_per_user\n",
       "0      2024-09-01      1331   553.404260      565             2.36\n",
       "1      2024-09-02      1380   509.810411      574             2.40\n",
       "2      2024-09-03      5114   226.617394      778             6.57\n",
       "3      2024-09-04      1774   486.052003      686             2.59\n",
       "4      2024-09-05      1945   510.029725      740             2.63\n",
       "..            ...       ...          ...      ...              ...\n",
       "56     2024-10-27      2854   516.429324     1036             2.75\n",
       "57     2024-10-28      2841   479.990760      985             2.88\n",
       "58     2024-10-29      2842   479.686667      999             2.84\n",
       "59     2024-10-30      2930   500.916296     1040             2.82\n",
       "60     2024-10-31      5967   390.690085     1275             4.68\n",
       "\n",
       "[61 rows x 5 columns]"
      ]
     },
     "execution_count": 47,
     "metadata": {},
     "output_type": "execute_result"
    }
   ],
   "source": [
    "# Cоздадим сводную таблицу\n",
    "pivot_autumn = pd.pivot_table(autumn_df,\n",
    "                              index='created_dt_msk',\n",
    "                              values=['order_id', 'user_id', 'revenue_rub'],\n",
    "                              aggfunc={'order_id':'count', # общее число заказов\n",
    "                              'user_id': 'nunique', # DAU\n",
    "                              'revenue_rub': 'mean'}) # ср выручка с 1 билета\n",
    "\n",
    "pivot_autumn = pivot_autumn.reset_index()\n",
    "# Добавим столбец со средним кол-вом заказов на пользователя\n",
    "pivot_autumn['orders_per_user'] = round( pivot_autumn['order_id'] / pivot_autumn['user_id'] , 2)\n",
    "pivot_autumn"
   ]
  },
  {
   "cell_type": "code",
   "execution_count": 48,
   "metadata": {},
   "outputs": [
    {
     "data": {
      "image/png": "[encoded data removed]",
      "text/plain": [
       "<Figure size 504x216 with 1 Axes>"
      ]
     },
     "metadata": {
      "needs_background": "light"
     },
     "output_type": "display_data"
    },
    {
     "data": {
      "image/png": "[encoded data removed]",
      "text/plain": [
       "<Figure size 504x216 with 1 Axes>"
      ]
     },
     "metadata": {
      "needs_background": "light"
     },
     "output_type": "display_data"
    },
    {
     "data": {
      "image/png": "[encoded data removed]",
      "text/plain": [
       "<Figure size 504x216 with 1 Axes>"
      ]
     },
     "metadata": {
      "needs_background": "light"
     },
     "output_type": "display_data"
    },
    {
     "data": {
      "image/png": "[encoded data removed]",
      "text/plain": [
       "<Figure size 504x216 with 1 Axes>"
      ]
     },
     "metadata": {
      "needs_background": "light"
     },
     "output_type": "display_data"
    }
   ],
   "source": [
    "# Строим линейные графики\n",
    "# я честно пыталась через цикл, но у меня что-то не вышло, в итоге быстрее получилось скопипастить:) \n",
    "\n",
    "pivot_autumn.plot(kind='line', x='created_dt_msk', y='order_id', figsize=(7, 3), legend=False, color='teal',\n",
    "                 ylabel='Кол-во заказов')   \n",
    "plt.title('Общее количество заказов по дням')\n",
    "plt.xlabel('Дата')\n",
    "plt.show()\n",
    "\n",
    "pivot_autumn.plot(kind='line', x='created_dt_msk', y='revenue_rub', figsize=(7, 3), legend=False, color='teal',\n",
    "                  ylabel='Выручка (руб.)')  \n",
    "plt.title('Средняя выручка с 1 билета')\n",
    "plt.xlabel('Дата')\n",
    "plt.show()\n",
    "\n",
    "pivot_autumn.plot(kind='line', x='created_dt_msk', y='user_id', figsize=(7, 3), legend=False, color='teal',\n",
    "                 ylabel='Кол-во пользователей') \n",
    "plt.title('Количество активных пользователей DAU по дням')\n",
    "plt.xlabel('Дата')\n",
    "plt.show()\n",
    "\n",
    "pivot_autumn.plot(kind='line', x='created_dt_msk', y='orders_per_user', figsize=(7, 3), legend=False, color='teal',\n",
    "                  ylabel='Кол-во заказов') \n",
    "plt.title('Среднее число заказов на 1 пользователя')\n",
    "plt.xlabel('Дата')\n",
    "plt.show()"
   ]
  },
  {
   "cell_type": "markdown",
   "metadata": {},
   "source": [
    "**Анализ графиков по дням**\n",
    "\n",
    "1) **Общее кол-во заказов по дням** - в конце/начале месяца люди сильно больше всего совершают заказы, в середине же месяца показатель не сильно колеблется\n",
    "\n",
    "2) **Средняя выручка с 1 билета** - в конце/начале видим, что выручка сильно падает, скорее всего это связано с проведением различных акций/скидок, из-за и чего кол-ва заказов увеличивается, а выручка падает\n",
    "\n",
    "3) **Количество активных пользователей DAU по дням** -  наблюдается тенденция к увеличению DAU\n",
    "\n",
    "4) **Среднее число заказов на 1 пользователя** - в течение месяца показатель можно назвать стабильным, но к концу/началу месяца график линия резко растет, это также является следствием акций/скидок"
   ]
  },
  {
   "cell_type": "code",
   "execution_count": 49,
   "metadata": {},
   "outputs": [
    {
     "data": {
      "text/html": [
       "<div>\n",
       "<style scoped>\n",
       "    .dataframe tbody tr th:only-of-type {\n",
       "        vertical-align: middle;\n",
       "    }\n",
       "\n",
       "    .dataframe tbody tr th {\n",
       "        vertical-align: top;\n",
       "    }\n",
       "\n",
       "    .dataframe thead th {\n",
       "        text-align: right;\n",
       "    }\n",
       "</style>\n",
       "<table border=\"1\" class=\"dataframe\">\n",
       "  <thead>\n",
       "    <tr style=\"text-align: right;\">\n",
       "      <th></th>\n",
       "      <th>order_id</th>\n",
       "      <th>user_id</th>\n",
       "      <th>created_dt_msk</th>\n",
       "      <th>created_ts_msk</th>\n",
       "      <th>event_id</th>\n",
       "      <th>cinema_circuit</th>\n",
       "      <th>age_limit</th>\n",
       "      <th>currency_code</th>\n",
       "      <th>device_type_canonical</th>\n",
       "      <th>revenue</th>\n",
       "      <th>...</th>\n",
       "      <th>data</th>\n",
       "      <th>nominal</th>\n",
       "      <th>curs</th>\n",
       "      <th>cdx</th>\n",
       "      <th>revenue_rub</th>\n",
       "      <th>one_ticket_revenue_rub</th>\n",
       "      <th>month</th>\n",
       "      <th>season</th>\n",
       "      <th>weekday</th>\n",
       "      <th>weekday_name</th>\n",
       "    </tr>\n",
       "  </thead>\n",
       "  <tbody>\n",
       "    <tr>\n",
       "      <th>151409</th>\n",
       "      <td>2048880</td>\n",
       "      <td>b1d1cba963a4038</td>\n",
       "      <td>2024-09-20</td>\n",
       "      <td>2024-09-20 14:32:49</td>\n",
       "      <td>552016</td>\n",
       "      <td>нет</td>\n",
       "      <td>18</td>\n",
       "      <td>rub</td>\n",
       "      <td>mobile</td>\n",
       "      <td>2457.550049</td>\n",
       "      <td>...</td>\n",
       "      <td>2024-09-20</td>\n",
       "      <td>100</td>\n",
       "      <td>19.353600</td>\n",
       "      <td>kzt</td>\n",
       "      <td>2457.550049</td>\n",
       "      <td>614.387512</td>\n",
       "      <td>сентябрь</td>\n",
       "      <td>осень</td>\n",
       "      <td>4</td>\n",
       "      <td>Пятница</td>\n",
       "    </tr>\n",
       "    <tr>\n",
       "      <th>258578</th>\n",
       "      <td>360587</td>\n",
       "      <td>85929277659c29f</td>\n",
       "      <td>2024-09-06</td>\n",
       "      <td>2024-09-06 12:15:54</td>\n",
       "      <td>446922</td>\n",
       "      <td>нет</td>\n",
       "      <td>6</td>\n",
       "      <td>rub</td>\n",
       "      <td>mobile</td>\n",
       "      <td>905.640015</td>\n",
       "      <td>...</td>\n",
       "      <td>2024-09-06</td>\n",
       "      <td>100</td>\n",
       "      <td>18.550400</td>\n",
       "      <td>kzt</td>\n",
       "      <td>905.640015</td>\n",
       "      <td>181.128003</td>\n",
       "      <td>сентябрь</td>\n",
       "      <td>осень</td>\n",
       "      <td>4</td>\n",
       "      <td>Пятница</td>\n",
       "    </tr>\n",
       "    <tr>\n",
       "      <th>124304</th>\n",
       "      <td>2545041</td>\n",
       "      <td>a2178ce9bb4d911</td>\n",
       "      <td>2024-10-06</td>\n",
       "      <td>2024-10-06 13:13:47</td>\n",
       "      <td>422166</td>\n",
       "      <td>нет</td>\n",
       "      <td>0</td>\n",
       "      <td>rub</td>\n",
       "      <td>mobile</td>\n",
       "      <td>194.839996</td>\n",
       "      <td>...</td>\n",
       "      <td>2024-10-06</td>\n",
       "      <td>100</td>\n",
       "      <td>19.647499</td>\n",
       "      <td>kzt</td>\n",
       "      <td>194.839996</td>\n",
       "      <td>48.709999</td>\n",
       "      <td>октябрь</td>\n",
       "      <td>осень</td>\n",
       "      <td>6</td>\n",
       "      <td>Воскресенье</td>\n",
       "    </tr>\n",
       "    <tr>\n",
       "      <th>233197</th>\n",
       "      <td>7397263</td>\n",
       "      <td>c9b8c86a0f6dc8d</td>\n",
       "      <td>2024-09-05</td>\n",
       "      <td>2024-09-05 19:12:55</td>\n",
       "      <td>286882</td>\n",
       "      <td>нет</td>\n",
       "      <td>18</td>\n",
       "      <td>rub</td>\n",
       "      <td>mobile</td>\n",
       "      <td>438.429993</td>\n",
       "      <td>...</td>\n",
       "      <td>2024-09-05</td>\n",
       "      <td>100</td>\n",
       "      <td>18.421700</td>\n",
       "      <td>kzt</td>\n",
       "      <td>438.429993</td>\n",
       "      <td>219.214996</td>\n",
       "      <td>сентябрь</td>\n",
       "      <td>осень</td>\n",
       "      <td>3</td>\n",
       "      <td>Четверг</td>\n",
       "    </tr>\n",
       "    <tr>\n",
       "      <th>197992</th>\n",
       "      <td>7198961</td>\n",
       "      <td>1ecc9e34a3159f8</td>\n",
       "      <td>2024-09-22</td>\n",
       "      <td>2024-09-22 16:51:45</td>\n",
       "      <td>554908</td>\n",
       "      <td>КиноСити</td>\n",
       "      <td>18</td>\n",
       "      <td>rub</td>\n",
       "      <td>mobile</td>\n",
       "      <td>344.299988</td>\n",
       "      <td>...</td>\n",
       "      <td>2024-09-22</td>\n",
       "      <td>100</td>\n",
       "      <td>19.331600</td>\n",
       "      <td>kzt</td>\n",
       "      <td>344.299988</td>\n",
       "      <td>114.766663</td>\n",
       "      <td>сентябрь</td>\n",
       "      <td>осень</td>\n",
       "      <td>6</td>\n",
       "      <td>Воскресенье</td>\n",
       "    </tr>\n",
       "    <tr>\n",
       "      <th>219129</th>\n",
       "      <td>2820338</td>\n",
       "      <td>29c39fbf31d948d</td>\n",
       "      <td>2024-10-10</td>\n",
       "      <td>2024-10-10 15:23:26</td>\n",
       "      <td>422827</td>\n",
       "      <td>нет</td>\n",
       "      <td>12</td>\n",
       "      <td>rub</td>\n",
       "      <td>mobile</td>\n",
       "      <td>530.320007</td>\n",
       "      <td>...</td>\n",
       "      <td>2024-10-10</td>\n",
       "      <td>100</td>\n",
       "      <td>19.930201</td>\n",
       "      <td>kzt</td>\n",
       "      <td>530.320007</td>\n",
       "      <td>265.160004</td>\n",
       "      <td>октябрь</td>\n",
       "      <td>осень</td>\n",
       "      <td>3</td>\n",
       "      <td>Четверг</td>\n",
       "    </tr>\n",
       "    <tr>\n",
       "      <th>229956</th>\n",
       "      <td>4322103</td>\n",
       "      <td>c7d4d0d8a2f0135</td>\n",
       "      <td>2024-09-12</td>\n",
       "      <td>2024-09-12 09:58:33</td>\n",
       "      <td>563318</td>\n",
       "      <td>нет</td>\n",
       "      <td>6</td>\n",
       "      <td>rub</td>\n",
       "      <td>mobile</td>\n",
       "      <td>27.030001</td>\n",
       "      <td>...</td>\n",
       "      <td>2024-09-12</td>\n",
       "      <td>100</td>\n",
       "      <td>19.115200</td>\n",
       "      <td>kzt</td>\n",
       "      <td>27.030001</td>\n",
       "      <td>27.030001</td>\n",
       "      <td>сентябрь</td>\n",
       "      <td>осень</td>\n",
       "      <td>3</td>\n",
       "      <td>Четверг</td>\n",
       "    </tr>\n",
       "  </tbody>\n",
       "</table>\n",
       "<p>7 rows × 34 columns</p>\n",
       "</div>"
      ],
      "text/plain": [
       "        order_id          user_id created_dt_msk      created_ts_msk  \\\n",
       "151409   2048880  b1d1cba963a4038     2024-09-20 2024-09-20 14:32:49   \n",
       "258578    360587  85929277659c29f     2024-09-06 2024-09-06 12:15:54   \n",
       "124304   2545041  a2178ce9bb4d911     2024-10-06 2024-10-06 13:13:47   \n",
       "233197   7397263  c9b8c86a0f6dc8d     2024-09-05 2024-09-05 19:12:55   \n",
       "197992   7198961  1ecc9e34a3159f8     2024-09-22 2024-09-22 16:51:45   \n",
       "219129   2820338  29c39fbf31d948d     2024-10-10 2024-10-10 15:23:26   \n",
       "229956   4322103  c7d4d0d8a2f0135     2024-09-12 2024-09-12 09:58:33   \n",
       "\n",
       "        event_id cinema_circuit  age_limit currency_code  \\\n",
       "151409    552016            нет         18           rub   \n",
       "258578    446922            нет          6           rub   \n",
       "124304    422166            нет          0           rub   \n",
       "233197    286882            нет         18           rub   \n",
       "197992    554908       КиноСити         18           rub   \n",
       "219129    422827            нет         12           rub   \n",
       "229956    563318            нет          6           rub   \n",
       "\n",
       "       device_type_canonical      revenue  ...       data  nominal       curs  \\\n",
       "151409                mobile  2457.550049  ... 2024-09-20      100  19.353600   \n",
       "258578                mobile   905.640015  ... 2024-09-06      100  18.550400   \n",
       "124304                mobile   194.839996  ... 2024-10-06      100  19.647499   \n",
       "233197                mobile   438.429993  ... 2024-09-05      100  18.421700   \n",
       "197992                mobile   344.299988  ... 2024-09-22      100  19.331600   \n",
       "219129                mobile   530.320007  ... 2024-10-10      100  19.930201   \n",
       "229956                mobile    27.030001  ... 2024-09-12      100  19.115200   \n",
       "\n",
       "        cdx  revenue_rub one_ticket_revenue_rub     month season weekday  \\\n",
       "151409  kzt  2457.550049             614.387512  сентябрь  осень       4   \n",
       "258578  kzt   905.640015             181.128003  сентябрь  осень       4   \n",
       "124304  kzt   194.839996              48.709999   октябрь  осень       6   \n",
       "233197  kzt   438.429993             219.214996  сентябрь  осень       3   \n",
       "197992  kzt   344.299988             114.766663  сентябрь  осень       6   \n",
       "219129  kzt   530.320007             265.160004   октябрь  осень       3   \n",
       "229956  kzt    27.030001              27.030001  сентябрь  осень       3   \n",
       "\n",
       "       weekday_name  \n",
       "151409      Пятница  \n",
       "258578      Пятница  \n",
       "124304  Воскресенье  \n",
       "233197      Четверг  \n",
       "197992  Воскресенье  \n",
       "219129      Четверг  \n",
       "229956      Четверг  \n",
       "\n",
       "[7 rows x 34 columns]"
      ]
     },
     "execution_count": 49,
     "metadata": {},
     "output_type": "execute_result"
    }
   ],
   "source": [
    "# Создадим новый датасет по дням недели\n",
    "autumn_df['weekday'] = autumn_df['created_dt_msk'].dt.weekday \n",
    "\n",
    "def week(weekday):  \n",
    "    if weekday == 0:\n",
    "        return 'Понедельник'\n",
    "    elif weekday == 1:  \n",
    "        return 'Вторник'\n",
    "    elif weekday == 2:\n",
    "        return 'Среда'\n",
    "    elif weekday == 3:\n",
    "        return 'Четверг'\n",
    "    elif weekday == 4:\n",
    "        return 'Пятница'\n",
    "    elif weekday == 5:\n",
    "        return 'Суббота'\n",
    "    else:\n",
    "        return 'Воскресенье'\n",
    "\n",
    "autumn_df['weekday_name'] = autumn_df['weekday'].apply(week) \n",
    "autumn_df.sample(7)"
   ]
  },
  {
   "cell_type": "code",
   "execution_count": 50,
   "metadata": {},
   "outputs": [
    {
     "data": {
      "text/html": [
       "<div>\n",
       "<style scoped>\n",
       "    .dataframe tbody tr th:only-of-type {\n",
       "        vertical-align: middle;\n",
       "    }\n",
       "\n",
       "    .dataframe tbody tr th {\n",
       "        vertical-align: top;\n",
       "    }\n",
       "\n",
       "    .dataframe thead th {\n",
       "        text-align: right;\n",
       "    }\n",
       "</style>\n",
       "<table border=\"1\" class=\"dataframe\">\n",
       "  <thead>\n",
       "    <tr style=\"text-align: right;\">\n",
       "      <th></th>\n",
       "      <th>weekday_name</th>\n",
       "      <th>order_id</th>\n",
       "      <th>user_id</th>\n",
       "      <th>revenue_rub</th>\n",
       "    </tr>\n",
       "  </thead>\n",
       "  <tbody>\n",
       "    <tr>\n",
       "      <th>2</th>\n",
       "      <td>Понедельник</td>\n",
       "      <td>21535</td>\n",
       "      <td>4450</td>\n",
       "      <td>502.046489</td>\n",
       "    </tr>\n",
       "    <tr>\n",
       "      <th>1</th>\n",
       "      <td>Вторник</td>\n",
       "      <td>31533</td>\n",
       "      <td>4799</td>\n",
       "      <td>389.811782</td>\n",
       "    </tr>\n",
       "    <tr>\n",
       "      <th>4</th>\n",
       "      <td>Среда</td>\n",
       "      <td>22917</td>\n",
       "      <td>4818</td>\n",
       "      <td>506.072375</td>\n",
       "    </tr>\n",
       "    <tr>\n",
       "      <th>6</th>\n",
       "      <td>Четверг</td>\n",
       "      <td>27197</td>\n",
       "      <td>4974</td>\n",
       "      <td>481.189278</td>\n",
       "    </tr>\n",
       "    <tr>\n",
       "      <th>3</th>\n",
       "      <td>Пятница</td>\n",
       "      <td>24859</td>\n",
       "      <td>4872</td>\n",
       "      <td>510.130888</td>\n",
       "    </tr>\n",
       "    <tr>\n",
       "      <th>5</th>\n",
       "      <td>Суббота</td>\n",
       "      <td>21362</td>\n",
       "      <td>4574</td>\n",
       "      <td>531.174766</td>\n",
       "    </tr>\n",
       "    <tr>\n",
       "      <th>0</th>\n",
       "      <td>Воскресенье</td>\n",
       "      <td>19425</td>\n",
       "      <td>4399</td>\n",
       "      <td>544.725997</td>\n",
       "    </tr>\n",
       "  </tbody>\n",
       "</table>\n",
       "</div>"
      ],
      "text/plain": [
       "  weekday_name  order_id  user_id  revenue_rub\n",
       "2  Понедельник     21535     4450   502.046489\n",
       "1      Вторник     31533     4799   389.811782\n",
       "4        Среда     22917     4818   506.072375\n",
       "6      Четверг     27197     4974   481.189278\n",
       "3      Пятница     24859     4872   510.130888\n",
       "5      Суббота     21362     4574   531.174766\n",
       "0  Воскресенье     19425     4399   544.725997"
      ]
     },
     "execution_count": 50,
     "metadata": {},
     "output_type": "execute_result"
    }
   ],
   "source": [
    "# Cгруппируем по дням недели\n",
    "autumn_df_grouped = autumn_df.groupby('weekday_name').agg({'order_id':'count', \n",
    "                                                      'user_id': 'nunique', \n",
    "                                                      'revenue_rub': 'mean'})\n",
    "autumn_df_grouped = autumn_df_grouped.reset_index()\n",
    "\n",
    "# тут я с помощью ИИ поправила порядок дней недели, если есть способ полегче - будет супер, потому что этот я не поняла)\n",
    "ordered_days = ['Понедельник', 'Вторник', 'Среда', 'Четверг', 'Пятница', 'Суббота', 'Воскресенье']\n",
    "autumn_df_grouped['weekday_name'] = pd.Categorical(autumn_df_grouped['weekday_name'], categories=ordered_days, ordered=True)\n",
    "autumn_df_grouped = autumn_df_grouped.sort_values('weekday_name')\n",
    "\n",
    "autumn_df_grouped"
   ]
  },
  {
   "cell_type": "code",
   "execution_count": 51,
   "metadata": {},
   "outputs": [
    {
     "data": {
      "image/png": "[encoded data removed]",
      "text/plain": [
       "<Figure size 720x288 with 1 Axes>"
      ]
     },
     "metadata": {
      "needs_background": "light"
     },
     "output_type": "display_data"
    },
    {
     "data": {
      "image/png": "[encoded data removed]",
      "text/plain": [
       "<Figure size 720x288 with 1 Axes>"
      ]
     },
     "metadata": {
      "needs_background": "light"
     },
     "output_type": "display_data"
    },
    {
     "data": {
      "image/png": "[encoded data removed]",
      "text/plain": [
       "<Figure size 720x288 with 1 Axes>"
      ]
     },
     "metadata": {
      "needs_background": "light"
     },
     "output_type": "display_data"
    }
   ],
   "source": [
    "# Строим линейные графики\n",
    "\n",
    "autumn_df_grouped.plot(kind='bar', x='weekday_name', y='order_id', figsize=(10, 4), legend=False, color='lightblue', rot=0)   \n",
    "plt.title('Общее количество заказов по неделям')\n",
    "plt.xlabel('')\n",
    "plt.show()\n",
    "\n",
    "autumn_df_grouped.plot(kind='bar', x='weekday_name', y='revenue_rub', figsize=(10, 4), legend=False, color='lavender', rot=0) \n",
    "plt.title('Средняя выручка с 1 билета по неделям')\n",
    "plt.xlabel('')\n",
    "plt.show()\n",
    "\n",
    "autumn_df_grouped.plot(kind='bar', x='weekday_name', y='user_id', figsize=(10, 4), legend=False, color='lightblue', rot=0)\n",
    "plt.title('Количество активных пользователей DAU по неделям')\n",
    "plt.xlabel('')\n",
    "plt.show()"
   ]
  },
  {
   "cell_type": "markdown",
   "metadata": {},
   "source": [
    "**Анализ графиков по неделям**\n",
    "\n",
    "1) **Общее кол-во заказов** - в выходные дни количество заказов не сильно меньше будних заказов, однако во вторник виден пик активности по заказам, это может говорить о проведении акций именно по вторникам\n",
    "\n",
    "2) **Средняя выручка с 1 билета** - в течение всей недели средняя выручка примерно одинаковая (в будние дни видим даже чуть большую выручка при меньшем кол-ве заказов - это хороший показатель). Во втоник видно снижение выручки с заказа, что также подветрждает догадку о проведении акций/скидок\n",
    "\n",
    "3) **Количество активных пользователей DAU по дням** -  количество DAU примерно одинаковое на протяжении всей недели, с небольшим перевесом в середине недели."
   ]
  },
  {
   "cell_type": "markdown",
   "metadata": {},
   "source": [
    "### Популярные события и партнёры"
   ]
  },
  {
   "cell_type": "markdown",
   "metadata": {},
   "source": [
    "+ Для каждого региона посчитайте уникальное количество мероприятий и общее число заказов. В каких регионах предлагается наибольшее разнообразие мероприятий?\n",
    "+ Для каждого билетного партнёра посчитайте общее число уникальных мероприятий, обработанных заказов и суммарную выручку с заказов билетов. Сделайте акцент на наиболее активных партнёрах.\n",
    "\n",
    "Рекомендация: исследуйте не только абсолютные значения, но и доли. Например, для каждого региона посчитайте долю проводимых мероприятий от их общего числа или долю заказов в регионе от общего числа заказов.\n",
    "\n",
    "В конце напишите промежуточный вывод, проанализируйте не только топ-категории, но и общее распределение данных между категориями. Существуют ли явные лидеры среди регионов и партнёров?"
   ]
  },
  {
   "cell_type": "code",
   "execution_count": 52,
   "metadata": {},
   "outputs": [
    {
     "data": {
      "text/html": [
       "<div>\n",
       "<style scoped>\n",
       "    .dataframe tbody tr th:only-of-type {\n",
       "        vertical-align: middle;\n",
       "    }\n",
       "\n",
       "    .dataframe tbody tr th {\n",
       "        vertical-align: top;\n",
       "    }\n",
       "\n",
       "    .dataframe thead th {\n",
       "        text-align: right;\n",
       "    }\n",
       "</style>\n",
       "<table border=\"1\" class=\"dataframe\">\n",
       "  <thead>\n",
       "    <tr style=\"text-align: right;\">\n",
       "      <th></th>\n",
       "      <th>region_name</th>\n",
       "      <th>event_id</th>\n",
       "      <th>order_id</th>\n",
       "      <th>events_share</th>\n",
       "      <th>orders_share</th>\n",
       "    </tr>\n",
       "  </thead>\n",
       "  <tbody>\n",
       "    <tr>\n",
       "      <th>23</th>\n",
       "      <td>Каменевский регион</td>\n",
       "      <td>5940</td>\n",
       "      <td>89749</td>\n",
       "      <td>0.26561</td>\n",
       "      <td>0.31209</td>\n",
       "    </tr>\n",
       "    <tr>\n",
       "      <th>60</th>\n",
       "      <td>Североярская область</td>\n",
       "      <td>3800</td>\n",
       "      <td>43752</td>\n",
       "      <td>0.16992</td>\n",
       "      <td>0.15214</td>\n",
       "    </tr>\n",
       "    <tr>\n",
       "      <th>77</th>\n",
       "      <td>Широковская область</td>\n",
       "      <td>1232</td>\n",
       "      <td>16172</td>\n",
       "      <td>0.05509</td>\n",
       "      <td>0.05624</td>\n",
       "    </tr>\n",
       "    <tr>\n",
       "      <th>57</th>\n",
       "      <td>Светополянский округ</td>\n",
       "      <td>1075</td>\n",
       "      <td>7502</td>\n",
       "      <td>0.04807</td>\n",
       "      <td>0.02609</td>\n",
       "    </tr>\n",
       "    <tr>\n",
       "      <th>52</th>\n",
       "      <td>Речиновская область</td>\n",
       "      <td>702</td>\n",
       "      <td>6268</td>\n",
       "      <td>0.03139</td>\n",
       "      <td>0.02180</td>\n",
       "    </tr>\n",
       "    <tr>\n",
       "      <th>...</th>\n",
       "      <td>...</td>\n",
       "      <td>...</td>\n",
       "      <td>...</td>\n",
       "      <td>...</td>\n",
       "      <td>...</td>\n",
       "    </tr>\n",
       "    <tr>\n",
       "      <th>56</th>\n",
       "      <td>Светолесский край</td>\n",
       "      <td>2</td>\n",
       "      <td>24</td>\n",
       "      <td>0.00009</td>\n",
       "      <td>0.00008</td>\n",
       "    </tr>\n",
       "    <tr>\n",
       "      <th>33</th>\n",
       "      <td>Лесноярский край</td>\n",
       "      <td>2</td>\n",
       "      <td>19</td>\n",
       "      <td>0.00009</td>\n",
       "      <td>0.00007</td>\n",
       "    </tr>\n",
       "    <tr>\n",
       "      <th>5</th>\n",
       "      <td>Верхозёрский край</td>\n",
       "      <td>2</td>\n",
       "      <td>11</td>\n",
       "      <td>0.00009</td>\n",
       "      <td>0.00004</td>\n",
       "    </tr>\n",
       "    <tr>\n",
       "      <th>66</th>\n",
       "      <td>Сосноводолинская область</td>\n",
       "      <td>2</td>\n",
       "      <td>10</td>\n",
       "      <td>0.00009</td>\n",
       "      <td>0.00003</td>\n",
       "    </tr>\n",
       "    <tr>\n",
       "      <th>68</th>\n",
       "      <td>Теплоозёрский округ</td>\n",
       "      <td>2</td>\n",
       "      <td>7</td>\n",
       "      <td>0.00009</td>\n",
       "      <td>0.00002</td>\n",
       "    </tr>\n",
       "  </tbody>\n",
       "</table>\n",
       "<p>81 rows × 5 columns</p>\n",
       "</div>"
      ],
      "text/plain": [
       "                 region_name  event_id  order_id  events_share  orders_share\n",
       "23        Каменевский регион      5940     89749       0.26561       0.31209\n",
       "60      Североярская область      3800     43752       0.16992       0.15214\n",
       "77       Широковская область      1232     16172       0.05509       0.05624\n",
       "57      Светополянский округ      1075      7502       0.04807       0.02609\n",
       "52       Речиновская область       702      6268       0.03139       0.02180\n",
       "..                       ...       ...       ...           ...           ...\n",
       "56         Светолесский край         2        24       0.00009       0.00008\n",
       "33          Лесноярский край         2        19       0.00009       0.00007\n",
       "5          Верхозёрский край         2        11       0.00009       0.00004\n",
       "66  Сосноводолинская область         2        10       0.00009       0.00003\n",
       "68       Теплоозёрский округ         2         7       0.00009       0.00002\n",
       "\n",
       "[81 rows x 5 columns]"
      ]
     },
     "execution_count": 52,
     "metadata": {},
     "output_type": "execute_result"
    }
   ],
   "source": [
    "# Создадим новый датасет и сгруппируем по региону\n",
    "region_df = new_df.groupby('region_name').agg({'event_id':'nunique',\n",
    "                                               'order_id':'count'})\n",
    "region_df = region_df.reset_index()\n",
    "region_df['events_share'] = round( region_df['event_id'] / region_df['event_id'].sum(),5)\n",
    "region_df['orders_share'] = round( region_df['order_id'] / region_df['order_id'].sum(),5)\n",
    "region_df = region_df.sort_values(by=['events_share', 'orders_share'], ascending=[False, False])\n",
    "region_df"
   ]
  },
  {
   "cell_type": "code",
   "execution_count": 53,
   "metadata": {},
   "outputs": [
    {
     "data": {
      "text/html": [
       "<div>\n",
       "<style scoped>\n",
       "    .dataframe tbody tr th:only-of-type {\n",
       "        vertical-align: middle;\n",
       "    }\n",
       "\n",
       "    .dataframe tbody tr th {\n",
       "        vertical-align: top;\n",
       "    }\n",
       "\n",
       "    .dataframe thead th {\n",
       "        text-align: right;\n",
       "    }\n",
       "</style>\n",
       "<table border=\"1\" class=\"dataframe\">\n",
       "  <thead>\n",
       "    <tr style=\"text-align: right;\">\n",
       "      <th></th>\n",
       "      <th>region_name</th>\n",
       "      <th>event_id</th>\n",
       "      <th>order_id</th>\n",
       "      <th>events_share</th>\n",
       "      <th>orders_share</th>\n",
       "    </tr>\n",
       "  </thead>\n",
       "  <tbody>\n",
       "    <tr>\n",
       "      <th>23</th>\n",
       "      <td>Каменевский регион</td>\n",
       "      <td>5940</td>\n",
       "      <td>89749</td>\n",
       "      <td>0.26561</td>\n",
       "      <td>0.31209</td>\n",
       "    </tr>\n",
       "    <tr>\n",
       "      <th>60</th>\n",
       "      <td>Североярская область</td>\n",
       "      <td>3800</td>\n",
       "      <td>43752</td>\n",
       "      <td>0.16992</td>\n",
       "      <td>0.15214</td>\n",
       "    </tr>\n",
       "    <tr>\n",
       "      <th>77</th>\n",
       "      <td>Широковская область</td>\n",
       "      <td>1232</td>\n",
       "      <td>16172</td>\n",
       "      <td>0.05509</td>\n",
       "      <td>0.05624</td>\n",
       "    </tr>\n",
       "    <tr>\n",
       "      <th>57</th>\n",
       "      <td>Светополянский округ</td>\n",
       "      <td>1075</td>\n",
       "      <td>7502</td>\n",
       "      <td>0.04807</td>\n",
       "      <td>0.02609</td>\n",
       "    </tr>\n",
       "    <tr>\n",
       "      <th>52</th>\n",
       "      <td>Речиновская область</td>\n",
       "      <td>702</td>\n",
       "      <td>6268</td>\n",
       "      <td>0.03139</td>\n",
       "      <td>0.02180</td>\n",
       "    </tr>\n",
       "    <tr>\n",
       "      <th>74</th>\n",
       "      <td>Травяная область</td>\n",
       "      <td>683</td>\n",
       "      <td>5036</td>\n",
       "      <td>0.03054</td>\n",
       "      <td>0.01751</td>\n",
       "    </tr>\n",
       "    <tr>\n",
       "      <th>11</th>\n",
       "      <td>Горицветская область</td>\n",
       "      <td>551</td>\n",
       "      <td>5154</td>\n",
       "      <td>0.02464</td>\n",
       "      <td>0.01792</td>\n",
       "    </tr>\n",
       "    <tr>\n",
       "      <th>61</th>\n",
       "      <td>Серебринская область</td>\n",
       "      <td>541</td>\n",
       "      <td>5591</td>\n",
       "      <td>0.02419</td>\n",
       "      <td>0.01944</td>\n",
       "    </tr>\n",
       "    <tr>\n",
       "      <th>78</th>\n",
       "      <td>Яблоневская область</td>\n",
       "      <td>535</td>\n",
       "      <td>6123</td>\n",
       "      <td>0.02392</td>\n",
       "      <td>0.02129</td>\n",
       "    </tr>\n",
       "    <tr>\n",
       "      <th>69</th>\n",
       "      <td>Тепляковская область</td>\n",
       "      <td>528</td>\n",
       "      <td>4385</td>\n",
       "      <td>0.02361</td>\n",
       "      <td>0.01525</td>\n",
       "    </tr>\n",
       "  </tbody>\n",
       "</table>\n",
       "</div>"
      ],
      "text/plain": [
       "             region_name  event_id  order_id  events_share  orders_share\n",
       "23    Каменевский регион      5940     89749       0.26561       0.31209\n",
       "60  Североярская область      3800     43752       0.16992       0.15214\n",
       "77   Широковская область      1232     16172       0.05509       0.05624\n",
       "57  Светополянский округ      1075      7502       0.04807       0.02609\n",
       "52   Речиновская область       702      6268       0.03139       0.02180\n",
       "74      Травяная область       683      5036       0.03054       0.01751\n",
       "11  Горицветская область       551      5154       0.02464       0.01792\n",
       "61  Серебринская область       541      5591       0.02419       0.01944\n",
       "78   Яблоневская область       535      6123       0.02392       0.02129\n",
       "69  Тепляковская область       528      4385       0.02361       0.01525"
      ]
     },
     "execution_count": 53,
     "metadata": {},
     "output_type": "execute_result"
    }
   ],
   "source": [
    "# Отберем топ-10 регионов\n",
    "region_df = region_df[:10]\n",
    "region_df"
   ]
  },
  {
   "cell_type": "code",
   "execution_count": 54,
   "metadata": {},
   "outputs": [
    {
     "data": {
      "text/html": [
       "<div>\n",
       "<style scoped>\n",
       "    .dataframe tbody tr th:only-of-type {\n",
       "        vertical-align: middle;\n",
       "    }\n",
       "\n",
       "    .dataframe tbody tr th {\n",
       "        vertical-align: top;\n",
       "    }\n",
       "\n",
       "    .dataframe thead th {\n",
       "        text-align: right;\n",
       "    }\n",
       "</style>\n",
       "<table border=\"1\" class=\"dataframe\">\n",
       "  <thead>\n",
       "    <tr style=\"text-align: right;\">\n",
       "      <th></th>\n",
       "      <th>service_name</th>\n",
       "      <th>event_id</th>\n",
       "      <th>order_id</th>\n",
       "      <th>revenue_rub</th>\n",
       "      <th>events_share</th>\n",
       "      <th>orders_share</th>\n",
       "      <th>revenue_share</th>\n",
       "    </tr>\n",
       "  </thead>\n",
       "  <tbody>\n",
       "    <tr>\n",
       "      <th>21</th>\n",
       "      <td>Лови билет!</td>\n",
       "      <td>4870</td>\n",
       "      <td>40823</td>\n",
       "      <td>16729886.46</td>\n",
       "      <td>0.19967</td>\n",
       "      <td>0.14196</td>\n",
       "      <td>0.11259</td>\n",
       "    </tr>\n",
       "    <tr>\n",
       "      <th>3</th>\n",
       "      <td>Билеты без проблем</td>\n",
       "      <td>4248</td>\n",
       "      <td>63064</td>\n",
       "      <td>24856575.70</td>\n",
       "      <td>0.17417</td>\n",
       "      <td>0.21930</td>\n",
       "      <td>0.16728</td>\n",
       "    </tr>\n",
       "    <tr>\n",
       "      <th>5</th>\n",
       "      <td>Билеты в руки</td>\n",
       "      <td>3530</td>\n",
       "      <td>40284</td>\n",
       "      <td>13202172.26</td>\n",
       "      <td>0.14473</td>\n",
       "      <td>0.14008</td>\n",
       "      <td>0.08885</td>\n",
       "    </tr>\n",
       "    <tr>\n",
       "      <th>25</th>\n",
       "      <td>Облачко</td>\n",
       "      <td>2335</td>\n",
       "      <td>26410</td>\n",
       "      <td>18609295.32</td>\n",
       "      <td>0.09574</td>\n",
       "      <td>0.09184</td>\n",
       "      <td>0.12524</td>\n",
       "    </tr>\n",
       "    <tr>\n",
       "      <th>22</th>\n",
       "      <td>Лучшие билеты</td>\n",
       "      <td>1762</td>\n",
       "      <td>17741</td>\n",
       "      <td>2724060.58</td>\n",
       "      <td>0.07224</td>\n",
       "      <td>0.06169</td>\n",
       "      <td>0.01833</td>\n",
       "    </tr>\n",
       "    <tr>\n",
       "      <th>24</th>\n",
       "      <td>Мой билет</td>\n",
       "      <td>1300</td>\n",
       "      <td>33957</td>\n",
       "      <td>20583733.43</td>\n",
       "      <td>0.05330</td>\n",
       "      <td>0.11808</td>\n",
       "      <td>0.13852</td>\n",
       "    </tr>\n",
       "    <tr>\n",
       "      <th>30</th>\n",
       "      <td>Тебе билет!</td>\n",
       "      <td>1062</td>\n",
       "      <td>5200</td>\n",
       "      <td>2988324.62</td>\n",
       "      <td>0.04354</td>\n",
       "      <td>0.01808</td>\n",
       "      <td>0.02011</td>\n",
       "    </tr>\n",
       "    <tr>\n",
       "      <th>26</th>\n",
       "      <td>Прачечная</td>\n",
       "      <td>1026</td>\n",
       "      <td>10222</td>\n",
       "      <td>4746810.51</td>\n",
       "      <td>0.04207</td>\n",
       "      <td>0.03555</td>\n",
       "      <td>0.03195</td>\n",
       "    </tr>\n",
       "    <tr>\n",
       "      <th>8</th>\n",
       "      <td>Весь в билетах</td>\n",
       "      <td>856</td>\n",
       "      <td>16438</td>\n",
       "      <td>16566881.16</td>\n",
       "      <td>0.03510</td>\n",
       "      <td>0.05716</td>\n",
       "      <td>0.11149</td>\n",
       "    </tr>\n",
       "    <tr>\n",
       "      <th>35</th>\n",
       "      <td>Яблоко</td>\n",
       "      <td>714</td>\n",
       "      <td>5005</td>\n",
       "      <td>3870922.60</td>\n",
       "      <td>0.02927</td>\n",
       "      <td>0.01740</td>\n",
       "      <td>0.02605</td>\n",
       "    </tr>\n",
       "    <tr>\n",
       "      <th>12</th>\n",
       "      <td>Городской дом культуры</td>\n",
       "      <td>378</td>\n",
       "      <td>2728</td>\n",
       "      <td>1643931.56</td>\n",
       "      <td>0.01550</td>\n",
       "      <td>0.00949</td>\n",
       "      <td>0.01106</td>\n",
       "    </tr>\n",
       "    <tr>\n",
       "      <th>1</th>\n",
       "      <td>Show_ticket</td>\n",
       "      <td>295</td>\n",
       "      <td>2091</td>\n",
       "      <td>1451899.37</td>\n",
       "      <td>0.01210</td>\n",
       "      <td>0.00727</td>\n",
       "      <td>0.00977</td>\n",
       "    </tr>\n",
       "    <tr>\n",
       "      <th>13</th>\n",
       "      <td>Дом культуры</td>\n",
       "      <td>272</td>\n",
       "      <td>4428</td>\n",
       "      <td>4400412.60</td>\n",
       "      <td>0.01115</td>\n",
       "      <td>0.01540</td>\n",
       "      <td>0.02961</td>\n",
       "    </tr>\n",
       "    <tr>\n",
       "      <th>0</th>\n",
       "      <td>Crazy ticket!</td>\n",
       "      <td>256</td>\n",
       "      <td>789</td>\n",
       "      <td>451924.80</td>\n",
       "      <td>0.01050</td>\n",
       "      <td>0.00274</td>\n",
       "      <td>0.00304</td>\n",
       "    </tr>\n",
       "    <tr>\n",
       "      <th>6</th>\n",
       "      <td>Быстробилет</td>\n",
       "      <td>255</td>\n",
       "      <td>1982</td>\n",
       "      <td>1532846.94</td>\n",
       "      <td>0.01046</td>\n",
       "      <td>0.00689</td>\n",
       "      <td>0.01032</td>\n",
       "    </tr>\n",
       "    <tr>\n",
       "      <th>19</th>\n",
       "      <td>Край билетов</td>\n",
       "      <td>252</td>\n",
       "      <td>6118</td>\n",
       "      <td>6429181.53</td>\n",
       "      <td>0.01033</td>\n",
       "      <td>0.02127</td>\n",
       "      <td>0.04327</td>\n",
       "    </tr>\n",
       "    <tr>\n",
       "      <th>15</th>\n",
       "      <td>За билетом!</td>\n",
       "      <td>235</td>\n",
       "      <td>2854</td>\n",
       "      <td>2035900.16</td>\n",
       "      <td>0.00964</td>\n",
       "      <td>0.00992</td>\n",
       "      <td>0.01370</td>\n",
       "    </tr>\n",
       "    <tr>\n",
       "      <th>23</th>\n",
       "      <td>Мир касс</td>\n",
       "      <td>192</td>\n",
       "      <td>2143</td>\n",
       "      <td>1852522.09</td>\n",
       "      <td>0.00787</td>\n",
       "      <td>0.00745</td>\n",
       "      <td>0.01247</td>\n",
       "    </tr>\n",
       "    <tr>\n",
       "      <th>11</th>\n",
       "      <td>Выступления.ру</td>\n",
       "      <td>147</td>\n",
       "      <td>1590</td>\n",
       "      <td>1218604.80</td>\n",
       "      <td>0.00603</td>\n",
       "      <td>0.00553</td>\n",
       "      <td>0.00820</td>\n",
       "    </tr>\n",
       "    <tr>\n",
       "      <th>9</th>\n",
       "      <td>Восьмёрка</td>\n",
       "      <td>143</td>\n",
       "      <td>1106</td>\n",
       "      <td>657809.23</td>\n",
       "      <td>0.00586</td>\n",
       "      <td>0.00385</td>\n",
       "      <td>0.00443</td>\n",
       "    </tr>\n",
       "    <tr>\n",
       "      <th>29</th>\n",
       "      <td>Росбилет</td>\n",
       "      <td>60</td>\n",
       "      <td>407</td>\n",
       "      <td>545637.75</td>\n",
       "      <td>0.00246</td>\n",
       "      <td>0.00142</td>\n",
       "      <td>0.00367</td>\n",
       "    </tr>\n",
       "    <tr>\n",
       "      <th>17</th>\n",
       "      <td>КарандашРУ</td>\n",
       "      <td>46</td>\n",
       "      <td>133</td>\n",
       "      <td>24472.86</td>\n",
       "      <td>0.00189</td>\n",
       "      <td>0.00046</td>\n",
       "      <td>0.00016</td>\n",
       "    </tr>\n",
       "    <tr>\n",
       "      <th>10</th>\n",
       "      <td>Вперёд!</td>\n",
       "      <td>37</td>\n",
       "      <td>80</td>\n",
       "      <td>31539.65</td>\n",
       "      <td>0.00152</td>\n",
       "      <td>0.00028</td>\n",
       "      <td>0.00021</td>\n",
       "    </tr>\n",
       "    <tr>\n",
       "      <th>31</th>\n",
       "      <td>Телебилет</td>\n",
       "      <td>24</td>\n",
       "      <td>321</td>\n",
       "      <td>187322.66</td>\n",
       "      <td>0.00098</td>\n",
       "      <td>0.00112</td>\n",
       "      <td>0.00126</td>\n",
       "    </tr>\n",
       "    <tr>\n",
       "      <th>7</th>\n",
       "      <td>Быстрый кассир</td>\n",
       "      <td>20</td>\n",
       "      <td>379</td>\n",
       "      <td>396689.93</td>\n",
       "      <td>0.00082</td>\n",
       "      <td>0.00132</td>\n",
       "      <td>0.00267</td>\n",
       "    </tr>\n",
       "    <tr>\n",
       "      <th>2</th>\n",
       "      <td>Билет по телефону</td>\n",
       "      <td>20</td>\n",
       "      <td>85</td>\n",
       "      <td>72447.40</td>\n",
       "      <td>0.00082</td>\n",
       "      <td>0.00030</td>\n",
       "      <td>0.00049</td>\n",
       "    </tr>\n",
       "    <tr>\n",
       "      <th>33</th>\n",
       "      <td>Цвет и билет</td>\n",
       "      <td>18</td>\n",
       "      <td>59</td>\n",
       "      <td>45272.00</td>\n",
       "      <td>0.00074</td>\n",
       "      <td>0.00021</td>\n",
       "      <td>0.00030</td>\n",
       "    </tr>\n",
       "    <tr>\n",
       "      <th>34</th>\n",
       "      <td>Шоу начинается!</td>\n",
       "      <td>11</td>\n",
       "      <td>460</td>\n",
       "      <td>463641.17</td>\n",
       "      <td>0.00045</td>\n",
       "      <td>0.00160</td>\n",
       "      <td>0.00312</td>\n",
       "    </tr>\n",
       "    <tr>\n",
       "      <th>27</th>\n",
       "      <td>Радио ticket</td>\n",
       "      <td>8</td>\n",
       "      <td>376</td>\n",
       "      <td>81893.24</td>\n",
       "      <td>0.00033</td>\n",
       "      <td>0.00131</td>\n",
       "      <td>0.00055</td>\n",
       "    </tr>\n",
       "    <tr>\n",
       "      <th>28</th>\n",
       "      <td>Реестр</td>\n",
       "      <td>7</td>\n",
       "      <td>125</td>\n",
       "      <td>57712.29</td>\n",
       "      <td>0.00029</td>\n",
       "      <td>0.00043</td>\n",
       "      <td>0.00039</td>\n",
       "    </tr>\n",
       "    <tr>\n",
       "      <th>20</th>\n",
       "      <td>Лимоны</td>\n",
       "      <td>4</td>\n",
       "      <td>8</td>\n",
       "      <td>636.51</td>\n",
       "      <td>0.00016</td>\n",
       "      <td>0.00003</td>\n",
       "      <td>0.00000</td>\n",
       "    </tr>\n",
       "    <tr>\n",
       "      <th>14</th>\n",
       "      <td>Дырокол</td>\n",
       "      <td>2</td>\n",
       "      <td>70</td>\n",
       "      <td>104077.95</td>\n",
       "      <td>0.00008</td>\n",
       "      <td>0.00024</td>\n",
       "      <td>0.00070</td>\n",
       "    </tr>\n",
       "    <tr>\n",
       "      <th>32</th>\n",
       "      <td>Тех билет</td>\n",
       "      <td>2</td>\n",
       "      <td>22</td>\n",
       "      <td>5665.74</td>\n",
       "      <td>0.00008</td>\n",
       "      <td>0.00008</td>\n",
       "      <td>0.00004</td>\n",
       "    </tr>\n",
       "    <tr>\n",
       "      <th>18</th>\n",
       "      <td>Кино билет</td>\n",
       "      <td>1</td>\n",
       "      <td>67</td>\n",
       "      <td>21808.64</td>\n",
       "      <td>0.00004</td>\n",
       "      <td>0.00023</td>\n",
       "      <td>0.00015</td>\n",
       "    </tr>\n",
       "    <tr>\n",
       "      <th>16</th>\n",
       "      <td>Зе Бест!</td>\n",
       "      <td>1</td>\n",
       "      <td>5</td>\n",
       "      <td>64.30</td>\n",
       "      <td>0.00004</td>\n",
       "      <td>0.00002</td>\n",
       "      <td>0.00000</td>\n",
       "    </tr>\n",
       "    <tr>\n",
       "      <th>4</th>\n",
       "      <td>Билеты в интернете</td>\n",
       "      <td>1</td>\n",
       "      <td>4</td>\n",
       "      <td>548.23</td>\n",
       "      <td>0.00004</td>\n",
       "      <td>0.00001</td>\n",
       "      <td>0.00000</td>\n",
       "    </tr>\n",
       "  </tbody>\n",
       "</table>\n",
       "</div>"
      ],
      "text/plain": [
       "              service_name  event_id  order_id  revenue_rub  events_share  \\\n",
       "21             Лови билет!      4870     40823  16729886.46       0.19967   \n",
       "3       Билеты без проблем      4248     63064  24856575.70       0.17417   \n",
       "5            Билеты в руки      3530     40284  13202172.26       0.14473   \n",
       "25                 Облачко      2335     26410  18609295.32       0.09574   \n",
       "22           Лучшие билеты      1762     17741   2724060.58       0.07224   \n",
       "24               Мой билет      1300     33957  20583733.43       0.05330   \n",
       "30             Тебе билет!      1062      5200   2988324.62       0.04354   \n",
       "26               Прачечная      1026     10222   4746810.51       0.04207   \n",
       "8           Весь в билетах       856     16438  16566881.16       0.03510   \n",
       "35                  Яблоко       714      5005   3870922.60       0.02927   \n",
       "12  Городской дом культуры       378      2728   1643931.56       0.01550   \n",
       "1              Show_ticket       295      2091   1451899.37       0.01210   \n",
       "13            Дом культуры       272      4428   4400412.60       0.01115   \n",
       "0            Crazy ticket!       256       789    451924.80       0.01050   \n",
       "6              Быстробилет       255      1982   1532846.94       0.01046   \n",
       "19            Край билетов       252      6118   6429181.53       0.01033   \n",
       "15             За билетом!       235      2854   2035900.16       0.00964   \n",
       "23                Мир касс       192      2143   1852522.09       0.00787   \n",
       "11          Выступления.ру       147      1590   1218604.80       0.00603   \n",
       "9                Восьмёрка       143      1106    657809.23       0.00586   \n",
       "29                Росбилет        60       407    545637.75       0.00246   \n",
       "17              КарандашРУ        46       133     24472.86       0.00189   \n",
       "10                 Вперёд!        37        80     31539.65       0.00152   \n",
       "31               Телебилет        24       321    187322.66       0.00098   \n",
       "7           Быстрый кассир        20       379    396689.93       0.00082   \n",
       "2        Билет по телефону        20        85     72447.40       0.00082   \n",
       "33            Цвет и билет        18        59     45272.00       0.00074   \n",
       "34         Шоу начинается!        11       460    463641.17       0.00045   \n",
       "27            Радио ticket         8       376     81893.24       0.00033   \n",
       "28                  Реестр         7       125     57712.29       0.00029   \n",
       "20                  Лимоны         4         8       636.51       0.00016   \n",
       "14                 Дырокол         2        70    104077.95       0.00008   \n",
       "32               Тех билет         2        22      5665.74       0.00008   \n",
       "18              Кино билет         1        67     21808.64       0.00004   \n",
       "16                Зе Бест!         1         5        64.30       0.00004   \n",
       "4       Билеты в интернете         1         4       548.23       0.00004   \n",
       "\n",
       "    orders_share  revenue_share  \n",
       "21       0.14196        0.11259  \n",
       "3        0.21930        0.16728  \n",
       "5        0.14008        0.08885  \n",
       "25       0.09184        0.12524  \n",
       "22       0.06169        0.01833  \n",
       "24       0.11808        0.13852  \n",
       "30       0.01808        0.02011  \n",
       "26       0.03555        0.03195  \n",
       "8        0.05716        0.11149  \n",
       "35       0.01740        0.02605  \n",
       "12       0.00949        0.01106  \n",
       "1        0.00727        0.00977  \n",
       "13       0.01540        0.02961  \n",
       "0        0.00274        0.00304  \n",
       "6        0.00689        0.01032  \n",
       "19       0.02127        0.04327  \n",
       "15       0.00992        0.01370  \n",
       "23       0.00745        0.01247  \n",
       "11       0.00553        0.00820  \n",
       "9        0.00385        0.00443  \n",
       "29       0.00142        0.00367  \n",
       "17       0.00046        0.00016  \n",
       "10       0.00028        0.00021  \n",
       "31       0.00112        0.00126  \n",
       "7        0.00132        0.00267  \n",
       "2        0.00030        0.00049  \n",
       "33       0.00021        0.00030  \n",
       "34       0.00160        0.00312  \n",
       "27       0.00131        0.00055  \n",
       "28       0.00043        0.00039  \n",
       "20       0.00003        0.00000  \n",
       "14       0.00024        0.00070  \n",
       "32       0.00008        0.00004  \n",
       "18       0.00023        0.00015  \n",
       "16       0.00002        0.00000  \n",
       "4        0.00001        0.00000  "
      ]
     },
     "execution_count": 54,
     "metadata": {},
     "output_type": "execute_result"
    }
   ],
   "source": [
    "# Создадим новый датасет и сгруппируем по партнерам\n",
    "partners_df = new_df.groupby('service_name').agg({'event_id':'nunique',\n",
    "                                               'order_id':'count',\n",
    "                                               'revenue_rub':'sum'})\n",
    "partners_df = partners_df.reset_index()\n",
    "partners_df['events_share'] = round( partners_df['event_id'] / partners_df['event_id'].sum(),5)\n",
    "partners_df['orders_share'] = round( partners_df['order_id'] / partners_df['order_id'].sum(),5)\n",
    "partners_df['revenue_share'] = round( partners_df['revenue_rub'] / partners_df['revenue_rub'].sum(),5)\n",
    "partners_df['revenue_rub'] = round( partners_df['revenue_rub'] , 2)\n",
    "partners_df = partners_df.sort_values(by=['events_share', 'orders_share', 'revenue_share'], ascending=[False, False, False])\n",
    "partners_df"
   ]
  },
  {
   "cell_type": "code",
   "execution_count": 55,
   "metadata": {},
   "outputs": [
    {
     "data": {
      "text/html": [
       "<div>\n",
       "<style scoped>\n",
       "    .dataframe tbody tr th:only-of-type {\n",
       "        vertical-align: middle;\n",
       "    }\n",
       "\n",
       "    .dataframe tbody tr th {\n",
       "        vertical-align: top;\n",
       "    }\n",
       "\n",
       "    .dataframe thead th {\n",
       "        text-align: right;\n",
       "    }\n",
       "</style>\n",
       "<table border=\"1\" class=\"dataframe\">\n",
       "  <thead>\n",
       "    <tr style=\"text-align: right;\">\n",
       "      <th></th>\n",
       "      <th>service_name</th>\n",
       "      <th>event_id</th>\n",
       "      <th>order_id</th>\n",
       "      <th>revenue_rub</th>\n",
       "      <th>events_share</th>\n",
       "      <th>orders_share</th>\n",
       "      <th>revenue_share</th>\n",
       "    </tr>\n",
       "  </thead>\n",
       "  <tbody>\n",
       "    <tr>\n",
       "      <th>21</th>\n",
       "      <td>Лови билет!</td>\n",
       "      <td>4870</td>\n",
       "      <td>40823</td>\n",
       "      <td>16729886.46</td>\n",
       "      <td>0.19967</td>\n",
       "      <td>0.14196</td>\n",
       "      <td>0.11259</td>\n",
       "    </tr>\n",
       "    <tr>\n",
       "      <th>3</th>\n",
       "      <td>Билеты без проблем</td>\n",
       "      <td>4248</td>\n",
       "      <td>63064</td>\n",
       "      <td>24856575.70</td>\n",
       "      <td>0.17417</td>\n",
       "      <td>0.21930</td>\n",
       "      <td>0.16728</td>\n",
       "    </tr>\n",
       "    <tr>\n",
       "      <th>5</th>\n",
       "      <td>Билеты в руки</td>\n",
       "      <td>3530</td>\n",
       "      <td>40284</td>\n",
       "      <td>13202172.26</td>\n",
       "      <td>0.14473</td>\n",
       "      <td>0.14008</td>\n",
       "      <td>0.08885</td>\n",
       "    </tr>\n",
       "    <tr>\n",
       "      <th>25</th>\n",
       "      <td>Облачко</td>\n",
       "      <td>2335</td>\n",
       "      <td>26410</td>\n",
       "      <td>18609295.32</td>\n",
       "      <td>0.09574</td>\n",
       "      <td>0.09184</td>\n",
       "      <td>0.12524</td>\n",
       "    </tr>\n",
       "    <tr>\n",
       "      <th>22</th>\n",
       "      <td>Лучшие билеты</td>\n",
       "      <td>1762</td>\n",
       "      <td>17741</td>\n",
       "      <td>2724060.58</td>\n",
       "      <td>0.07224</td>\n",
       "      <td>0.06169</td>\n",
       "      <td>0.01833</td>\n",
       "    </tr>\n",
       "    <tr>\n",
       "      <th>24</th>\n",
       "      <td>Мой билет</td>\n",
       "      <td>1300</td>\n",
       "      <td>33957</td>\n",
       "      <td>20583733.43</td>\n",
       "      <td>0.05330</td>\n",
       "      <td>0.11808</td>\n",
       "      <td>0.13852</td>\n",
       "    </tr>\n",
       "    <tr>\n",
       "      <th>30</th>\n",
       "      <td>Тебе билет!</td>\n",
       "      <td>1062</td>\n",
       "      <td>5200</td>\n",
       "      <td>2988324.62</td>\n",
       "      <td>0.04354</td>\n",
       "      <td>0.01808</td>\n",
       "      <td>0.02011</td>\n",
       "    </tr>\n",
       "    <tr>\n",
       "      <th>26</th>\n",
       "      <td>Прачечная</td>\n",
       "      <td>1026</td>\n",
       "      <td>10222</td>\n",
       "      <td>4746810.51</td>\n",
       "      <td>0.04207</td>\n",
       "      <td>0.03555</td>\n",
       "      <td>0.03195</td>\n",
       "    </tr>\n",
       "    <tr>\n",
       "      <th>8</th>\n",
       "      <td>Весь в билетах</td>\n",
       "      <td>856</td>\n",
       "      <td>16438</td>\n",
       "      <td>16566881.16</td>\n",
       "      <td>0.03510</td>\n",
       "      <td>0.05716</td>\n",
       "      <td>0.11149</td>\n",
       "    </tr>\n",
       "    <tr>\n",
       "      <th>35</th>\n",
       "      <td>Яблоко</td>\n",
       "      <td>714</td>\n",
       "      <td>5005</td>\n",
       "      <td>3870922.60</td>\n",
       "      <td>0.02927</td>\n",
       "      <td>0.01740</td>\n",
       "      <td>0.02605</td>\n",
       "    </tr>\n",
       "  </tbody>\n",
       "</table>\n",
       "</div>"
      ],
      "text/plain": [
       "          service_name  event_id  order_id  revenue_rub  events_share  \\\n",
       "21         Лови билет!      4870     40823  16729886.46       0.19967   \n",
       "3   Билеты без проблем      4248     63064  24856575.70       0.17417   \n",
       "5        Билеты в руки      3530     40284  13202172.26       0.14473   \n",
       "25             Облачко      2335     26410  18609295.32       0.09574   \n",
       "22       Лучшие билеты      1762     17741   2724060.58       0.07224   \n",
       "24           Мой билет      1300     33957  20583733.43       0.05330   \n",
       "30         Тебе билет!      1062      5200   2988324.62       0.04354   \n",
       "26           Прачечная      1026     10222   4746810.51       0.04207   \n",
       "8       Весь в билетах       856     16438  16566881.16       0.03510   \n",
       "35              Яблоко       714      5005   3870922.60       0.02927   \n",
       "\n",
       "    orders_share  revenue_share  \n",
       "21       0.14196        0.11259  \n",
       "3        0.21930        0.16728  \n",
       "5        0.14008        0.08885  \n",
       "25       0.09184        0.12524  \n",
       "22       0.06169        0.01833  \n",
       "24       0.11808        0.13852  \n",
       "30       0.01808        0.02011  \n",
       "26       0.03555        0.03195  \n",
       "8        0.05716        0.11149  \n",
       "35       0.01740        0.02605  "
      ]
     },
     "execution_count": 55,
     "metadata": {},
     "output_type": "execute_result"
    }
   ],
   "source": [
    "# Отберем топ-10 партнеров\n",
    "partners_df = partners_df[:10]\n",
    "partners_df"
   ]
  },
  {
   "cell_type": "markdown",
   "metadata": {},
   "source": [
    "Итого мы имеем 2 датасета (специально не визуализировала их, тк в данном случае мне кажется более уместно посмотреть на таблицы и все будет наглядно и понятно, нежели создавать графики для каждого столбца). \n",
    "\n",
    "Анализируя таблицу `region_df`, видим:\n",
    "+ Каменевский регион и Североярская область занимают топ и по доле заказов, и по доле мероприятий, причем оба региона сильно перевешивают по показателям, это явные лидеры, а доля остальных регионов уже менее 6%, это говорит о неравномером распределении заказов по регионам, что ожидаемо, тк это скорее всего крупные мегаполисы, в других же регионах и кол-во проводимых мероприятий, вероятно, меньше, и доход населения меньше. \n",
    "\n",
    "Анализируя таблицу `partners_df`, видим:\n",
    "+ Партнеры Лови билет!, Билеты без проблем также являются лидерами, тк доли заказов, мероприятий и выручки сосредоточены именно на них. Аналогично с регионами, видим, что распределение по всем партнерам неравномерное - у большинства партнеров менее 1% по каждому показателю, это может послужить сигналом для улучшения продаж по данным сервисам"
   ]
  },
  {
   "cell_type": "markdown",
   "metadata": {},
   "source": [
    "## Статистический анализ данных (шаг 4)"
   ]
  },
  {
   "cell_type": "markdown",
   "metadata": {},
   "source": [
    "Проверьте две гипотезы, которые предполагают большую активность пользователей мобильных устройств:\n",
    "+ Среднее количество заказов на одного пользователя мобильного приложения выше по сравнению с пользователями стационарных устройств.\n",
    "+ Среднее время между заказами пользователей мобильных приложений выше по сравнению с пользователями стационарных устройств.\n",
    "\n",
    "Перед проведением гипотез изучите сравниваемые данные, обоснуйте выбор статистического теста, укажите формулировку нулевой и альтернативной гипотез. Результаты тестов прокомментируйте в промежуточном выводе. Используйте данные только за осенний период."
   ]
  },
  {
   "cell_type": "markdown",
   "metadata": {},
   "source": [
    "**ЧАСТЬ 1**\n",
    "\n",
    "Для начала сформулируем гипотезы:\n",
    "+ **Нулевая:** Среднее кол-во заказов на одного пользователя мобильного приложения не больше среднего кол-ва заказов на пользователя стационарного устройства.     \n",
    "+ **Альтернативная:** Среднее кол-во заказов на одного пользователя мобильного приложения больше среднего кол-ва заказов на пользователя стационарного устройства. "
   ]
  },
  {
   "cell_type": "code",
   "execution_count": 56,
   "metadata": {
    "scrolled": true
   },
   "outputs": [
    {
     "data": {
      "text/html": [
       "<div>\n",
       "<style scoped>\n",
       "    .dataframe tbody tr th:only-of-type {\n",
       "        vertical-align: middle;\n",
       "    }\n",
       "\n",
       "    .dataframe tbody tr th {\n",
       "        vertical-align: top;\n",
       "    }\n",
       "\n",
       "    .dataframe thead th {\n",
       "        text-align: right;\n",
       "    }\n",
       "</style>\n",
       "<table border=\"1\" class=\"dataframe\">\n",
       "  <thead>\n",
       "    <tr style=\"text-align: right;\">\n",
       "      <th></th>\n",
       "      <th>user_id</th>\n",
       "      <th>device_type_canonical</th>\n",
       "      <th>order_id</th>\n",
       "    </tr>\n",
       "  </thead>\n",
       "  <tbody>\n",
       "    <tr>\n",
       "      <th>0</th>\n",
       "      <td>0005ca5e93f2cf4</td>\n",
       "      <td>mobile</td>\n",
       "      <td>1</td>\n",
       "    </tr>\n",
       "    <tr>\n",
       "      <th>1</th>\n",
       "      <td>000898990054619</td>\n",
       "      <td>mobile</td>\n",
       "      <td>2</td>\n",
       "    </tr>\n",
       "    <tr>\n",
       "      <th>2</th>\n",
       "      <td>000a55a418c128c</td>\n",
       "      <td>mobile</td>\n",
       "      <td>2</td>\n",
       "    </tr>\n",
       "    <tr>\n",
       "      <th>3</th>\n",
       "      <td>001e7037d013f0f</td>\n",
       "      <td>mobile</td>\n",
       "      <td>2</td>\n",
       "    </tr>\n",
       "    <tr>\n",
       "      <th>4</th>\n",
       "      <td>00245c702bc343e</td>\n",
       "      <td>mobile</td>\n",
       "      <td>2</td>\n",
       "    </tr>\n",
       "    <tr>\n",
       "      <th>...</th>\n",
       "      <td>...</td>\n",
       "      <td>...</td>\n",
       "      <td>...</td>\n",
       "    </tr>\n",
       "    <tr>\n",
       "      <th>19066</th>\n",
       "      <td>fff32fc9ad0f9f6</td>\n",
       "      <td>desktop</td>\n",
       "      <td>1</td>\n",
       "    </tr>\n",
       "    <tr>\n",
       "      <th>19067</th>\n",
       "      <td>fffcd3dde79eb2c</td>\n",
       "      <td>desktop</td>\n",
       "      <td>2</td>\n",
       "    </tr>\n",
       "    <tr>\n",
       "      <th>19068</th>\n",
       "      <td>fffcd3dde79eb2c</td>\n",
       "      <td>mobile</td>\n",
       "      <td>14</td>\n",
       "    </tr>\n",
       "    <tr>\n",
       "      <th>19069</th>\n",
       "      <td>fffeeb3c120cf0b</td>\n",
       "      <td>desktop</td>\n",
       "      <td>1</td>\n",
       "    </tr>\n",
       "    <tr>\n",
       "      <th>19070</th>\n",
       "      <td>ffff00725179321</td>\n",
       "      <td>mobile</td>\n",
       "      <td>1</td>\n",
       "    </tr>\n",
       "  </tbody>\n",
       "</table>\n",
       "<p>19071 rows × 3 columns</p>\n",
       "</div>"
      ],
      "text/plain": [
       "               user_id device_type_canonical  order_id\n",
       "0      0005ca5e93f2cf4                mobile         1\n",
       "1      000898990054619                mobile         2\n",
       "2      000a55a418c128c                mobile         2\n",
       "3      001e7037d013f0f                mobile         2\n",
       "4      00245c702bc343e                mobile         2\n",
       "...                ...                   ...       ...\n",
       "19066  fff32fc9ad0f9f6               desktop         1\n",
       "19067  fffcd3dde79eb2c               desktop         2\n",
       "19068  fffcd3dde79eb2c                mobile        14\n",
       "19069  fffeeb3c120cf0b               desktop         1\n",
       "19070  ffff00725179321                mobile         1\n",
       "\n",
       "[19071 rows x 3 columns]"
      ]
     },
     "execution_count": 56,
     "metadata": {},
     "output_type": "execute_result"
    }
   ],
   "source": [
    "# Cгруппируем данные по типу устройства\n",
    "user_orders = autumn_df.groupby(['user_id', 'device_type_canonical'])['order_id'].nunique().reset_index()\n",
    "mobile_orders = user_orders[user_orders['device_type_canonical'] == 'mobile']['order_id'].reset_index()\n",
    "desktop_orders = user_orders[user_orders['device_type_canonical'] == 'desktop']['order_id'].reset_index()\n",
    "user_orders"
   ]
  },
  {
   "cell_type": "code",
   "execution_count": 57,
   "metadata": {},
   "outputs": [
    {
     "name": "stdout",
     "output_type": "stream",
     "text": [
      "Среднее кол-во заказов на пользователя мобильной версии: 9.471193125792364\n",
      "Среднее кол-во заказов на пользователя десктопной версии: 7.050277036733019\n"
     ]
    }
   ],
   "source": [
    "avg_orders_per_mob_user = mobile_orders['order_id'].mean()\n",
    "avg_orders_per_dp_user = desktop_orders['order_id'].mean()\n",
    "print(f'Среднее кол-во заказов на пользователя мобильной версии: {avg_orders_per_mob_user}')\n",
    "print(f'Среднее кол-во заказов на пользователя десктопной версии: {avg_orders_per_dp_user}')"
   ]
  },
  {
   "cell_type": "markdown",
   "metadata": {},
   "source": [
    "Видим, что у пользователя мобилиной версии показатель выше, но, чтобы понять, насколько это статзначимо, нужно провести тест."
   ]
  },
  {
   "cell_type": "code",
   "execution_count": 58,
   "metadata": {},
   "outputs": [
    {
     "data": {
      "text/plain": [
       "count    14198.000000\n",
       "mean         9.471193\n",
       "std         68.095629\n",
       "min          1.000000\n",
       "25%          1.000000\n",
       "50%          2.000000\n",
       "75%          5.000000\n",
       "max       4335.000000\n",
       "Name: order_id, dtype: float64"
      ]
     },
     "execution_count": 58,
     "metadata": {},
     "output_type": "execute_result"
    }
   ],
   "source": [
    "# Сначала проверим распределение заказов\n",
    "mobile_orders['order_id'].describe()"
   ]
  },
  {
   "cell_type": "code",
   "execution_count": 59,
   "metadata": {},
   "outputs": [
    {
     "data": {
      "text/plain": [
       "count    4873.000000\n",
       "mean        7.050277\n",
       "std        36.029826\n",
       "min         1.000000\n",
       "25%         1.000000\n",
       "50%         2.000000\n",
       "75%         4.000000\n",
       "max      1504.000000\n",
       "Name: order_id, dtype: float64"
      ]
     },
     "execution_count": 59,
     "metadata": {},
     "output_type": "execute_result"
    }
   ],
   "source": [
    "desktop_orders['order_id'].describe()"
   ]
  },
  {
   "cell_type": "markdown",
   "metadata": {},
   "source": [
    "Видим, что есть выбросы в большую сторону, поэтому можно поступить 2 способами:\n",
    "+ обработать данные, очистив от выбросов, и использовать **классический t-тест**\n",
    "+ оставить выбросы и использовать **тест Манна — Уитни**."
   ]
  },
  {
   "cell_type": "code",
   "execution_count": 60,
   "metadata": {},
   "outputs": [
    {
     "name": "stdout",
     "output_type": "stream",
     "text": [
      "pvalue=3.2816388922348474e-07 < 0.05\n",
      "Нулевая гипотеза не находит подтверждения!\n",
      "Среднее кол-во заказов у пользователей мобильной версии выше, чем у пользователей десктопной версии\n"
     ]
    }
   ],
   "source": [
    "# Выборка целевой метрики для группы A\n",
    "metric_a = mobile_orders['order_id']\n",
    "# Выборка целевой метрики для группы B\n",
    "metric_b = desktop_orders['order_id']\n",
    "\n",
    "# На каком уровне значимости проверяем гипотезу о равенстве распределений\n",
    "alpha = 0.05 \n",
    "\n",
    "# Применяем тест Манна — Уитни\n",
    "stat_mw, p_value_mw = mannwhitneyu(\n",
    "    metric_a, \n",
    "    metric_b, \n",
    "    alternative='greater' # односторонняя альтернативаня гипотеща\n",
    ") \n",
    "\n",
    "if p_value_mw > alpha:\n",
    "    print(f'pvalue={p_value_mw} > {alpha}')\n",
    "    print('Нулевая гипотеза находит подтверждение!')\n",
    "else:\n",
    "    print(f'pvalue={p_value_mw} < {alpha}')\n",
    "    print('Нулевая гипотеза не находит подтверждения!\\nСреднее кол-во заказов у пользователей мобильной версии выше, чем у пользователей десктопной версии')"
   ]
  },
  {
   "cell_type": "markdown",
   "metadata": {},
   "source": [
    "**Итак, мы опровергаем нулевую гипотезу, а значит среднее кол-во заказов у пользователей мобильной версии действительно выше, чем у пользователей десктопной версии**"
   ]
  },
  {
   "cell_type": "markdown",
   "metadata": {},
   "source": [
    "**ЧАСТЬ 2**\n",
    "\n",
    "Также сформулируем гипотезы:\n",
    "+ **Нулевая:** Среднее время между заказами пользователя мобильного приложения не выше по сравнению с пользователями стационарных устройств\n",
    "+ **Альтернативная:** Среднее время между заказами пользователей мобильных приложений выше по сравнению с пользователями стационарных устройств"
   ]
  },
  {
   "cell_type": "code",
   "execution_count": 61,
   "metadata": {},
   "outputs": [
    {
     "data": {
      "text/html": [
       "<div>\n",
       "<style scoped>\n",
       "    .dataframe tbody tr th:only-of-type {\n",
       "        vertical-align: middle;\n",
       "    }\n",
       "\n",
       "    .dataframe tbody tr th {\n",
       "        vertical-align: top;\n",
       "    }\n",
       "\n",
       "    .dataframe thead th {\n",
       "        text-align: right;\n",
       "    }\n",
       "</style>\n",
       "<table border=\"1\" class=\"dataframe\">\n",
       "  <thead>\n",
       "    <tr style=\"text-align: right;\">\n",
       "      <th></th>\n",
       "      <th>user_id</th>\n",
       "      <th>device_type_canonical</th>\n",
       "      <th>days_since_prev</th>\n",
       "    </tr>\n",
       "  </thead>\n",
       "  <tbody>\n",
       "    <tr>\n",
       "      <th>0</th>\n",
       "      <td>0005ca5e93f2cf4</td>\n",
       "      <td>mobile</td>\n",
       "      <td>75.0</td>\n",
       "    </tr>\n",
       "    <tr>\n",
       "      <th>1</th>\n",
       "      <td>000898990054619</td>\n",
       "      <td>mobile</td>\n",
       "      <td>51.0</td>\n",
       "    </tr>\n",
       "    <tr>\n",
       "      <th>2</th>\n",
       "      <td>000a55a418c128c</td>\n",
       "      <td>mobile</td>\n",
       "      <td>16.0</td>\n",
       "    </tr>\n",
       "    <tr>\n",
       "      <th>3</th>\n",
       "      <td>001e7037d013f0f</td>\n",
       "      <td>mobile</td>\n",
       "      <td>43.5</td>\n",
       "    </tr>\n",
       "    <tr>\n",
       "      <th>4</th>\n",
       "      <td>00245c702bc343e</td>\n",
       "      <td>mobile</td>\n",
       "      <td>27.5</td>\n",
       "    </tr>\n",
       "    <tr>\n",
       "      <th>...</th>\n",
       "      <td>...</td>\n",
       "      <td>...</td>\n",
       "      <td>...</td>\n",
       "    </tr>\n",
       "    <tr>\n",
       "      <th>19066</th>\n",
       "      <td>fff32fc9ad0f9f6</td>\n",
       "      <td>desktop</td>\n",
       "      <td>74.0</td>\n",
       "    </tr>\n",
       "    <tr>\n",
       "      <th>19067</th>\n",
       "      <td>fffcd3dde79eb2c</td>\n",
       "      <td>desktop</td>\n",
       "      <td>2.5</td>\n",
       "    </tr>\n",
       "    <tr>\n",
       "      <th>19068</th>\n",
       "      <td>fffcd3dde79eb2c</td>\n",
       "      <td>mobile</td>\n",
       "      <td>4.0</td>\n",
       "    </tr>\n",
       "    <tr>\n",
       "      <th>19069</th>\n",
       "      <td>fffeeb3c120cf0b</td>\n",
       "      <td>desktop</td>\n",
       "      <td>NaN</td>\n",
       "    </tr>\n",
       "    <tr>\n",
       "      <th>19070</th>\n",
       "      <td>ffff00725179321</td>\n",
       "      <td>mobile</td>\n",
       "      <td>NaN</td>\n",
       "    </tr>\n",
       "  </tbody>\n",
       "</table>\n",
       "<p>19071 rows × 3 columns</p>\n",
       "</div>"
      ],
      "text/plain": [
       "               user_id device_type_canonical  days_since_prev\n",
       "0      0005ca5e93f2cf4                mobile             75.0\n",
       "1      000898990054619                mobile             51.0\n",
       "2      000a55a418c128c                mobile             16.0\n",
       "3      001e7037d013f0f                mobile             43.5\n",
       "4      00245c702bc343e                mobile             27.5\n",
       "...                ...                   ...              ...\n",
       "19066  fff32fc9ad0f9f6               desktop             74.0\n",
       "19067  fffcd3dde79eb2c               desktop              2.5\n",
       "19068  fffcd3dde79eb2c                mobile              4.0\n",
       "19069  fffeeb3c120cf0b               desktop              NaN\n",
       "19070  ffff00725179321                mobile              NaN\n",
       "\n",
       "[19071 rows x 3 columns]"
      ]
     },
     "execution_count": 61,
     "metadata": {},
     "output_type": "execute_result"
    }
   ],
   "source": [
    "# Cгруппируем данные\n",
    "days_since_prev = autumn_df.groupby(['user_id', 'device_type_canonical'])['days_since_prev'].mean().reset_index()\n",
    "days_since_prev_mob = days_since_prev[days_since_prev['device_type_canonical'] == 'mobile']['days_since_prev'].reset_index()\n",
    "days_since_prev_dp = days_since_prev[days_since_prev['device_type_canonical'] == 'desktop']['days_since_prev'].reset_index()\n",
    "days_since_prev"
   ]
  },
  {
   "cell_type": "code",
   "execution_count": 62,
   "metadata": {},
   "outputs": [],
   "source": [
    "# Удалим пользователей, у который пропуск в столбце days_since_prev\n",
    "# тк у них не было повторных покупок, а значит они не подходят под наш тест\n",
    "days_since_prev_mob = days_since_prev_mob.dropna(subset=['days_since_prev']) \n",
    "days_since_prev_dp = days_since_prev_dp.dropna(subset=['days_since_prev']) "
   ]
  },
  {
   "cell_type": "code",
   "execution_count": 63,
   "metadata": {},
   "outputs": [
    {
     "name": "stdout",
     "output_type": "stream",
     "text": [
      "Среднее время между заказами пользователя мобильной версии: 20.632524490356445\n",
      "Среднее время между заказами пользователядесктопной версии: 14.87830924987793\n"
     ]
    }
   ],
   "source": [
    "avg_days_since_prev_mob = days_since_prev_mob['days_since_prev'].mean()\n",
    "avg_days_since_prev_dp = days_since_prev_dp['days_since_prev'].mean()\n",
    "print(f'Среднее время между заказами пользователя мобильной версии: {avg_days_since_prev_mob}')\n",
    "print(f'Среднее время между заказами пользователядесктопной версии: {avg_days_since_prev_dp}')"
   ]
  },
  {
   "cell_type": "markdown",
   "metadata": {},
   "source": [
    "Видим, что у пользователя мобилиной версии выше, но, чтобы понять, насколько это статзначимо, нужно провести тест"
   ]
  },
  {
   "cell_type": "code",
   "execution_count": 64,
   "metadata": {},
   "outputs": [
    {
     "data": {
      "text/plain": [
       "count    10198.000000\n",
       "mean        20.632524\n",
       "std         27.370680\n",
       "min          0.000000\n",
       "25%          2.052632\n",
       "50%          9.500000\n",
       "75%         28.000000\n",
       "max        148.000000\n",
       "Name: days_since_prev, dtype: float64"
      ]
     },
     "execution_count": 64,
     "metadata": {},
     "output_type": "execute_result"
    }
   ],
   "source": [
    "# Сначала проверим распределение времени\n",
    "days_since_prev_mob['days_since_prev'].describe()"
   ]
  },
  {
   "cell_type": "code",
   "execution_count": 65,
   "metadata": {},
   "outputs": [
    {
     "data": {
      "text/plain": [
       "count    4035.000000\n",
       "mean       14.878309\n",
       "std        24.218756\n",
       "min         0.000000\n",
       "25%         1.000000\n",
       "50%         4.500000\n",
       "75%        17.000000\n",
       "max       146.000000\n",
       "Name: days_since_prev, dtype: float64"
      ]
     },
     "execution_count": 65,
     "metadata": {},
     "output_type": "execute_result"
    }
   ],
   "source": [
    "days_since_prev_dp['days_since_prev'].describe()"
   ]
  },
  {
   "cell_type": "markdown",
   "metadata": {},
   "source": [
    "Аналогично, видим, что есть выбросы в большую сторону, поэтому будем использовать **тест Манна — Уитни**"
   ]
  },
  {
   "cell_type": "code",
   "execution_count": 66,
   "metadata": {},
   "outputs": [
    {
     "name": "stdout",
     "output_type": "stream",
     "text": [
      "pvalue=2.7000892229018948e-52 < 0.05\n",
      "Нулевая гипотеза не находит подтверждения!\n",
      "Среднее время между заказами пользователей мобильных приложений выше по сравнению с пользователями стационарных устройств\n"
     ]
    }
   ],
   "source": [
    "# Выборка целевой метрики для группы A\n",
    "a = days_since_prev_mob['days_since_prev']\n",
    "# Выборка целевой метрики для группы B\n",
    "b = days_since_prev_dp['days_since_prev']\n",
    "\n",
    "# На каком уровне значимости проверяем гипотезу о равенстве распределений\n",
    "alpha = 0.05 \n",
    "\n",
    "# Применяем тест Манна — Уитни\n",
    "stat_mw, p_value_mw = mannwhitneyu(\n",
    "    a, \n",
    "    b, \n",
    "    alternative='greater' # односторонняя альтернативаня гипотеща\n",
    ") \n",
    "\n",
    "if p_value_mw > alpha:\n",
    "    print(f'pvalue={p_value_mw} > {alpha}')\n",
    "    print('Нулевая гипотеза находит подтверждение!')\n",
    "else:\n",
    "    print(f'pvalue={p_value_mw} < {alpha}')\n",
    "    print('Нулевая гипотеза не находит подтверждения!\\nСреднее время между заказами пользователей мобильных приложений выше по сравнению с пользователями стационарных устройств')"
   ]
  },
  {
   "cell_type": "markdown",
   "metadata": {},
   "source": [
    "**Мы также опровергаем нулевую гипотезу, а значит среднее время между заказами пользователей мобильных приложений действительно выше по сравнению с пользователями стационарных устройств**"
   ]
  },
  {
   "cell_type": "markdown",
   "metadata": {},
   "source": [
    "## Общий вывод и рекомендации (шаг 5)"
   ]
  },
  {
   "cell_type": "markdown",
   "metadata": {},
   "source": [
    "В конце проекта напишите общий вывод и рекомендации — на что обратить внимание. В выводах коротко укажите:\n",
    "+ Информацию о данных, с которыми вы работали. \n",
    "+ Основные результаты анализа: какие мероприятия наиболее востребованы, как изменилась популярность мероприятий осенью, как изменилась стоимость среднего чека. Какую информацию можно получить после изучения пользовательской активности? Существуют ли среди регионов и партнёров явные лидеры по числу заказов и выручке с продажи билетов? Дополните вывод другой информацией, которая покажется вам важной и интересной. Следите за общим объёмом выводов — они должны быть компактными и ёмкими.\n",
    "+ Прокомментируйте результаты проверки гипотез. \n",
    "\n",
    "В конце предложите рекомендации, на что стоит обратить внимание в первую очередь."
   ]
  },
  {
   "cell_type": "markdown",
   "metadata": {},
   "source": [
    "**Итак, по результатам проделанной работы можно сделать следующие выводы:**\n",
    "+ 3 доступных датасета были объединены в 1 единый, который был нормализован, обработан от дубликатов и выбросов. А также, было добавлено 4 новых столбца, необходимых для более удобного анализа в дальнейшем\n",
    "+ Наиболее востребованные мероприятия - концерты и театрты, причем вне зависимости от сезона\n",
    "+ Средняя выручка с продажи 1 билета с наступлением осени также значительно не изменилась\n",
    "+ наибольшую выручку приносят билеты на елки, концерты и стендапы (вне зависимости от сезона)\n",
    "+ Видна тенденция увеличения заказов с каждым месяцем\n",
    "+ Каменевский регион и Североярская область занимают топ и по доле заказов, и по доле мероприятий, причем оба региона сильно перевешивают по показателям\n",
    "+ Партнеры \"Лови билет!\", \"Билеты без проблем\" также являются лидерами, тк бОльшие доли заказов, мероприятий и выручки сосредоточены именно на них\n",
    "+ В начале/конце месяца проводятся различные акции/скидки, вследствие чего кол-во заказов увеличивается, а выручка падает\n",
    "+ Наблюдается тенденция к увеличению DAU\n",
    "+ В выходные дни количество заказов незначительно меньше по сравнению с будними днями\n",
    "+ По вторникам наблюдается пик активности по заказам и одновременное снижение выручки, это также может говорить о проведении акций именно по вторникам\n",
    "+ Большинство пользователей заказывают билеты с телефона, а не со стационарных устройсвт\n",
    "+ Среднее кол-во заказов у пользователей мобильной версии выше, чем у пользователей десктопной версии. Если сранивать среднее время между заказами - у пользователей мобильных приложений оно также больше по сравнению с пользователями десктопа."
   ]
  },
  {
   "cell_type": "markdown",
   "metadata": {},
   "source": [
    "**Рекомендации:**\n",
    "+ Тщательное планирование акций (особенно по вторникам и в начале/конце месяца) - сильное снижение выручки указывает на неэффективные скидки, несмотря на увеличение кол-ва заказов. Более детальное планирование акций может помочь максимизировать выручку, а не только количество заказов\n",
    "+ Фокус на Каменевский регион и Североярскую область - это, скорее всего, крупные регионы, которые демонстрируют высокую вовлеченность. Можно усилить маркетинг и адаптировать предложения к потребностям местной аудитории\n",
    "+ Исследование других регионов - необходимо провести дополнительный анализ менее активных регионов, чтобы выявить причины низкой вовлеченности и разработать стратегии для их повышения\n",
    "+ Поддержка и развитие партнерства с “Лови билет!” и “Билеты без проблем”\n",
    "+ Разработка программ лояльности для мобильных пользователей - учитывая более долгое время между заказами у пользователей мобильных приложений, можно разработать специальные программы лояльности, чтобы стимулировать повторные покупки\n",
    "+ Продвижение других типов мероприятий - несмотря на популярность концертов и театров, важно также продвигать другие типы мероприятий, чтобы расширить аудиторию и увеличить выручку\n",
    "+ Изменить стратегию для выходных, поскольку небольшое снижение заказов в выходные дни"
   ]
  }
 ],
 "metadata": {
  "ExecuteTimeLog": [
   {
    "duration": 98,
    "start_time": "2025-04-01T16:33:24.391Z"
   },
   {
    "duration": 2,
    "start_time": "2025-04-01T16:34:47.678Z"
   },
   {
    "duration": 846,
    "start_time": "2025-04-01T16:58:24.989Z"
   },
   {
    "duration": 115,
    "start_time": "2025-04-01T17:03:56.812Z"
   },
   {
    "duration": 14,
    "start_time": "2025-04-01T17:08:46.635Z"
   },
   {
    "duration": 901,
    "start_time": "2025-04-01T17:19:30.815Z"
   },
   {
    "duration": 862,
    "start_time": "2025-04-01T17:20:31.698Z"
   },
   {
    "duration": 852,
    "start_time": "2025-04-01T17:21:06.616Z"
   },
   {
    "duration": 21,
    "start_time": "2025-04-01T17:34:20.180Z"
   },
   {
    "duration": 99,
    "start_time": "2025-04-01T17:35:27.187Z"
   },
   {
    "duration": 13,
    "start_time": "2025-04-01T17:40:50.753Z"
   },
   {
    "duration": 20,
    "start_time": "2025-04-01T17:40:52.840Z"
   },
   {
    "duration": 8,
    "start_time": "2025-04-01T17:42:06.786Z"
   },
   {
    "duration": 13,
    "start_time": "2025-04-01T17:42:10.492Z"
   },
   {
    "duration": 9,
    "start_time": "2025-04-01T17:42:17.401Z"
   },
   {
    "duration": 14,
    "start_time": "2025-04-01T17:42:18.967Z"
   },
   {
    "duration": 24,
    "start_time": "2025-04-01T18:00:41.413Z"
   },
   {
    "duration": 5,
    "start_time": "2025-04-01T18:01:23.486Z"
   },
   {
    "duration": 26,
    "start_time": "2025-04-01T18:02:03.234Z"
   },
   {
    "duration": 26,
    "start_time": "2025-04-01T18:02:33.024Z"
   },
   {
    "duration": 24,
    "start_time": "2025-04-01T18:03:05.365Z"
   },
   {
    "duration": 8,
    "start_time": "2025-04-01T18:03:21.957Z"
   },
   {
    "duration": 17,
    "start_time": "2025-04-01T18:03:23.623Z"
   },
   {
    "duration": 5,
    "start_time": "2025-04-01T18:05:34.042Z"
   },
   {
    "duration": 7,
    "start_time": "2025-04-01T18:05:54.404Z"
   },
   {
    "duration": 11,
    "start_time": "2025-04-01T18:06:23.675Z"
   },
   {
    "duration": 7,
    "start_time": "2025-04-01T18:06:29.311Z"
   },
   {
    "duration": 22,
    "start_time": "2025-04-01T18:08:11.331Z"
   },
   {
    "duration": 47,
    "start_time": "2025-04-01T18:15:44.402Z"
   },
   {
    "duration": 13,
    "start_time": "2025-04-01T18:16:08.742Z"
   },
   {
    "duration": 19,
    "start_time": "2025-04-01T18:16:30.181Z"
   },
   {
    "duration": 28,
    "start_time": "2025-04-01T18:17:13.717Z"
   },
   {
    "duration": 27,
    "start_time": "2025-04-01T18:17:28.192Z"
   },
   {
    "duration": 28,
    "start_time": "2025-04-01T18:17:31.436Z"
   },
   {
    "duration": 48,
    "start_time": "2025-04-01T18:18:03.092Z"
   },
   {
    "duration": 58,
    "start_time": "2025-04-01T18:18:38.953Z"
   },
   {
    "duration": 45,
    "start_time": "2025-04-01T18:27:30.019Z"
   },
   {
    "duration": 26,
    "start_time": "2025-04-01T18:32:37.075Z"
   },
   {
    "duration": 55,
    "start_time": "2025-04-01T18:33:24.592Z"
   },
   {
    "duration": 47,
    "start_time": "2025-04-01T18:33:39.278Z"
   },
   {
    "duration": 43,
    "start_time": "2025-04-01T18:33:41.967Z"
   },
   {
    "duration": 9,
    "start_time": "2025-04-01T18:36:09.948Z"
   },
   {
    "duration": 860,
    "start_time": "2025-04-01T18:36:15.401Z"
   },
   {
    "duration": 15,
    "start_time": "2025-04-01T18:36:17.584Z"
   },
   {
    "duration": 10,
    "start_time": "2025-04-01T19:19:10.315Z"
   },
   {
    "duration": 1000,
    "start_time": "2025-04-01T19:54:07.480Z"
   },
   {
    "duration": 420,
    "start_time": "2025-04-01T19:54:12.447Z"
   },
   {
    "duration": 410,
    "start_time": "2025-04-01T19:54:43.980Z"
   },
   {
    "duration": 414,
    "start_time": "2025-04-01T19:54:51.809Z"
   },
   {
    "duration": 418,
    "start_time": "2025-04-01T19:55:18.611Z"
   },
   {
    "duration": 512,
    "start_time": "2025-04-01T19:55:49.660Z"
   },
   {
    "duration": 15,
    "start_time": "2025-04-01T19:56:55.235Z"
   },
   {
    "duration": 290,
    "start_time": "2025-04-01T20:03:04.824Z"
   },
   {
    "duration": 73,
    "start_time": "2025-04-01T20:03:11.160Z"
   },
   {
    "duration": 21,
    "start_time": "2025-04-01T20:03:16.615Z"
   },
   {
    "duration": 14,
    "start_time": "2025-04-01T20:03:21.878Z"
   },
   {
    "duration": 9,
    "start_time": "2025-04-01T20:03:26.193Z"
   },
   {
    "duration": 74,
    "start_time": "2025-04-01T20:03:29.547Z"
   },
   {
    "duration": 102,
    "start_time": "2025-04-01T20:04:44.761Z"
   },
   {
    "duration": 84,
    "start_time": "2025-04-01T20:04:50.587Z"
   },
   {
    "duration": 12,
    "start_time": "2025-04-01T20:04:55.479Z"
   },
   {
    "duration": 83,
    "start_time": "2025-04-01T20:05:01.187Z"
   },
   {
    "duration": 360,
    "start_time": "2025-04-01T20:05:17.006Z"
   },
   {
    "duration": 26,
    "start_time": "2025-04-01T20:07:28.803Z"
   },
   {
    "duration": 49,
    "start_time": "2025-04-01T20:07:31.796Z"
   },
   {
    "duration": 1271,
    "start_time": "2025-04-01T20:08:51.375Z"
   },
   {
    "duration": 35,
    "start_time": "2025-04-01T20:08:56.042Z"
   },
   {
    "duration": 99,
    "start_time": "2025-04-01T20:09:06.946Z"
   },
   {
    "duration": 1350,
    "start_time": "2025-04-01T20:09:54.493Z"
   },
   {
    "duration": 34,
    "start_time": "2025-04-01T20:09:56.059Z"
   },
   {
    "duration": 10,
    "start_time": "2025-04-01T20:10:52.436Z"
   },
   {
    "duration": 22,
    "start_time": "2025-04-01T20:10:55.759Z"
   },
   {
    "duration": 87,
    "start_time": "2025-04-01T20:11:30.219Z"
   },
   {
    "duration": 185,
    "start_time": "2025-04-01T20:13:06.225Z"
   },
   {
    "duration": 30,
    "start_time": "2025-04-01T20:13:16.261Z"
   },
   {
    "duration": 696,
    "start_time": "2025-04-01T20:13:43.634Z"
   },
   {
    "duration": 1003,
    "start_time": "2025-04-01T20:13:44.331Z"
   },
   {
    "duration": 20,
    "start_time": "2025-04-01T20:13:45.336Z"
   },
   {
    "duration": 131,
    "start_time": "2025-04-01T20:13:45.359Z"
   },
   {
    "duration": 12,
    "start_time": "2025-04-01T20:13:45.494Z"
   },
   {
    "duration": 52,
    "start_time": "2025-04-01T20:13:45.508Z"
   },
   {
    "duration": 72,
    "start_time": "2025-04-01T20:13:45.563Z"
   },
   {
    "duration": 66,
    "start_time": "2025-04-01T20:13:45.637Z"
   },
   {
    "duration": 625,
    "start_time": "2025-04-01T20:13:45.706Z"
   },
   {
    "duration": 314,
    "start_time": "2025-04-01T20:13:46.333Z"
   },
   {
    "duration": 100,
    "start_time": "2025-04-01T20:13:46.649Z"
   },
   {
    "duration": 206,
    "start_time": "2025-04-01T20:13:46.751Z"
   },
   {
    "duration": 75,
    "start_time": "2025-04-01T20:13:46.962Z"
   },
   {
    "duration": 88,
    "start_time": "2025-04-01T20:13:47.039Z"
   },
   {
    "duration": 16,
    "start_time": "2025-04-01T20:13:47.129Z"
   },
   {
    "duration": 140,
    "start_time": "2025-04-01T20:13:47.147Z"
   },
   {
    "duration": 98,
    "start_time": "2025-04-01T20:13:47.288Z"
   },
   {
    "duration": 0,
    "start_time": "2025-04-01T20:13:47.388Z"
   },
   {
    "duration": 0,
    "start_time": "2025-04-01T20:13:47.390Z"
   },
   {
    "duration": 0,
    "start_time": "2025-04-01T20:13:47.392Z"
   },
   {
    "duration": 106,
    "start_time": "2025-04-01T20:16:37.902Z"
   },
   {
    "duration": 34,
    "start_time": "2025-04-01T20:16:50.575Z"
   },
   {
    "duration": 139,
    "start_time": "2025-04-01T20:18:35.463Z"
   },
   {
    "duration": 102,
    "start_time": "2025-04-01T20:18:38.135Z"
   },
   {
    "duration": 209,
    "start_time": "2025-04-01T20:18:43.903Z"
   },
   {
    "duration": 99,
    "start_time": "2025-04-01T20:18:45.180Z"
   },
   {
    "duration": 179,
    "start_time": "2025-04-01T20:19:59.348Z"
   },
   {
    "duration": 259,
    "start_time": "2025-04-01T20:20:11.246Z"
   },
   {
    "duration": 90,
    "start_time": "2025-04-01T20:20:13.594Z"
   },
   {
    "duration": 39,
    "start_time": "2025-04-01T20:29:24.560Z"
   },
   {
    "duration": 94,
    "start_time": "2025-04-01T20:29:29.479Z"
   },
   {
    "duration": 21,
    "start_time": "2025-04-01T20:31:20.783Z"
   },
   {
    "duration": 88,
    "start_time": "2025-04-01T20:31:22.655Z"
   },
   {
    "duration": 88,
    "start_time": "2025-04-01T20:32:05.301Z"
   },
   {
    "duration": 76,
    "start_time": "2025-04-01T20:53:22.437Z"
   },
   {
    "duration": 94,
    "start_time": "2025-04-01T20:55:50.088Z"
   },
   {
    "duration": 5082,
    "start_time": "2025-04-01T20:58:11.092Z"
   },
   {
    "duration": 30,
    "start_time": "2025-04-01T20:58:16.226Z"
   },
   {
    "duration": 5078,
    "start_time": "2025-04-01T20:59:51.482Z"
   },
   {
    "duration": 31,
    "start_time": "2025-04-01T20:59:56.595Z"
   },
   {
    "duration": 5012,
    "start_time": "2025-04-01T21:00:26.577Z"
   },
   {
    "duration": 30,
    "start_time": "2025-04-01T21:00:43.276Z"
   },
   {
    "duration": 24,
    "start_time": "2025-04-01T21:02:32.267Z"
   },
   {
    "duration": 24,
    "start_time": "2025-04-01T21:02:52.788Z"
   },
   {
    "duration": 15,
    "start_time": "2025-04-01T21:02:54.834Z"
   },
   {
    "duration": 24,
    "start_time": "2025-04-01T21:02:56.524Z"
   },
   {
    "duration": 25,
    "start_time": "2025-04-01T21:02:57.605Z"
   },
   {
    "duration": 24,
    "start_time": "2025-04-01T21:02:58.771Z"
   },
   {
    "duration": 25,
    "start_time": "2025-04-01T21:03:00.063Z"
   },
   {
    "duration": 25,
    "start_time": "2025-04-01T21:03:01.093Z"
   },
   {
    "duration": 25,
    "start_time": "2025-04-01T21:03:02.090Z"
   },
   {
    "duration": 31,
    "start_time": "2025-04-01T21:03:07.082Z"
   },
   {
    "duration": 29,
    "start_time": "2025-04-01T21:03:10.695Z"
   },
   {
    "duration": 32,
    "start_time": "2025-04-01T21:03:15.451Z"
   },
   {
    "duration": 31,
    "start_time": "2025-04-01T21:03:17.344Z"
   },
   {
    "duration": 30,
    "start_time": "2025-04-01T21:03:20.509Z"
   },
   {
    "duration": 34,
    "start_time": "2025-04-01T21:03:27.092Z"
   },
   {
    "duration": 35,
    "start_time": "2025-04-01T21:03:35.551Z"
   },
   {
    "duration": 122,
    "start_time": "2025-04-01T21:04:03.998Z"
   },
   {
    "duration": 48,
    "start_time": "2025-04-01T21:04:11.867Z"
   },
   {
    "duration": 132,
    "start_time": "2025-04-01T21:05:29.261Z"
   },
   {
    "duration": 18,
    "start_time": "2025-04-01T21:06:59.559Z"
   },
   {
    "duration": 30,
    "start_time": "2025-04-01T21:08:54.657Z"
   },
   {
    "duration": 40,
    "start_time": "2025-04-01T21:09:20.680Z"
   },
   {
    "duration": 45,
    "start_time": "2025-04-01T21:18:32.091Z"
   },
   {
    "duration": 100,
    "start_time": "2025-04-01T21:18:45.468Z"
   },
   {
    "duration": 32,
    "start_time": "2025-04-01T21:18:48.316Z"
   },
   {
    "duration": 25,
    "start_time": "2025-04-01T21:19:34.363Z"
   },
   {
    "duration": 35,
    "start_time": "2025-04-01T21:26:30.154Z"
   },
   {
    "duration": 25,
    "start_time": "2025-04-01T21:26:43.899Z"
   },
   {
    "duration": 1239,
    "start_time": "2025-04-01T21:28:55.982Z"
   },
   {
    "duration": 37,
    "start_time": "2025-04-01T21:29:12.850Z"
   },
   {
    "duration": 394,
    "start_time": "2025-04-01T21:42:39.132Z"
   },
   {
    "duration": 409,
    "start_time": "2025-04-01T21:43:03.619Z"
   },
   {
    "duration": 394,
    "start_time": "2025-04-01T21:43:25.878Z"
   },
   {
    "duration": 416,
    "start_time": "2025-04-01T21:43:53.618Z"
   },
   {
    "duration": 380,
    "start_time": "2025-04-01T21:44:56.368Z"
   },
   {
    "duration": 409,
    "start_time": "2025-04-01T21:45:42.158Z"
   },
   {
    "duration": 16,
    "start_time": "2025-04-01T21:50:36.298Z"
   },
   {
    "duration": 30,
    "start_time": "2025-04-01T21:50:42.307Z"
   },
   {
    "duration": 54,
    "start_time": "2025-04-01T21:50:46.106Z"
   },
   {
    "duration": 40,
    "start_time": "2025-04-01T21:52:12.229Z"
   },
   {
    "duration": 8,
    "start_time": "2025-04-01T21:54:25.716Z"
   },
   {
    "duration": 25,
    "start_time": "2025-04-01T21:54:47.453Z"
   },
   {
    "duration": 20,
    "start_time": "2025-04-01T21:55:01.082Z"
   },
   {
    "duration": 26,
    "start_time": "2025-04-01T21:55:40.544Z"
   },
   {
    "duration": 259,
    "start_time": "2025-04-01T22:33:14.347Z"
   },
   {
    "duration": 250,
    "start_time": "2025-04-01T22:33:29.591Z"
   },
   {
    "duration": 80,
    "start_time": "2025-04-01T22:39:24.941Z"
   },
   {
    "duration": 83,
    "start_time": "2025-04-01T22:48:03.748Z"
   },
   {
    "duration": 97,
    "start_time": "2025-04-01T22:48:11.812Z"
   },
   {
    "duration": 188,
    "start_time": "2025-04-01T22:48:22.952Z"
   },
   {
    "duration": 5,
    "start_time": "2025-04-01T22:53:15.399Z"
   },
   {
    "duration": 29,
    "start_time": "2025-04-01T22:54:50.656Z"
   },
   {
    "duration": 31,
    "start_time": "2025-04-01T22:55:00.306Z"
   },
   {
    "duration": 81,
    "start_time": "2025-04-01T22:58:33.049Z"
   },
   {
    "duration": 4456,
    "start_time": "2025-04-01T23:01:46.144Z"
   },
   {
    "duration": 53,
    "start_time": "2025-04-01T23:01:51.838Z"
   },
   {
    "duration": 4,
    "start_time": "2025-04-01T23:02:43.113Z"
   },
   {
    "duration": 4,
    "start_time": "2025-04-01T23:02:56.912Z"
   },
   {
    "duration": 4,
    "start_time": "2025-04-01T23:03:30.639Z"
   },
   {
    "duration": 5771,
    "start_time": "2025-04-01T23:03:57.831Z"
   },
   {
    "duration": 32,
    "start_time": "2025-04-01T23:04:03.604Z"
   },
   {
    "duration": 29,
    "start_time": "2025-04-01T23:04:07.721Z"
   },
   {
    "duration": 33,
    "start_time": "2025-04-01T23:04:14.204Z"
   },
   {
    "duration": 32,
    "start_time": "2025-04-01T23:04:21.327Z"
   },
   {
    "duration": 84,
    "start_time": "2025-04-01T23:04:53.735Z"
   },
   {
    "duration": 28,
    "start_time": "2025-04-01T23:05:06.138Z"
   },
   {
    "duration": 28,
    "start_time": "2025-04-01T23:05:09.934Z"
   },
   {
    "duration": 30,
    "start_time": "2025-04-01T23:05:12.965Z"
   },
   {
    "duration": 31,
    "start_time": "2025-04-01T23:06:51.531Z"
   },
   {
    "duration": 30,
    "start_time": "2025-04-01T23:06:53.275Z"
   },
   {
    "duration": 16,
    "start_time": "2025-04-01T23:07:09.479Z"
   },
   {
    "duration": 54,
    "start_time": "2025-04-01T23:07:13.363Z"
   },
   {
    "duration": 51,
    "start_time": "2025-04-01T23:07:19.879Z"
   },
   {
    "duration": 5976,
    "start_time": "2025-04-01T23:07:46.464Z"
   },
   {
    "duration": 110,
    "start_time": "2025-04-01T23:07:53.690Z"
   },
   {
    "duration": 30,
    "start_time": "2025-04-01T23:08:06.600Z"
   },
   {
    "duration": 27,
    "start_time": "2025-04-01T23:08:29.433Z"
   },
   {
    "duration": 31,
    "start_time": "2025-04-01T23:08:34.851Z"
   },
   {
    "duration": 101,
    "start_time": "2025-04-01T23:12:22.969Z"
   },
   {
    "duration": 3,
    "start_time": "2025-04-01T23:13:34.130Z"
   },
   {
    "duration": 50,
    "start_time": "2025-04-02T10:47:04.308Z"
   },
   {
    "duration": 878,
    "start_time": "2025-04-02T10:47:11.978Z"
   },
   {
    "duration": 1250,
    "start_time": "2025-04-02T10:47:12.858Z"
   },
   {
    "duration": 21,
    "start_time": "2025-04-02T10:47:14.110Z"
   },
   {
    "duration": 128,
    "start_time": "2025-04-02T10:47:14.133Z"
   },
   {
    "duration": 12,
    "start_time": "2025-04-02T10:47:14.263Z"
   },
   {
    "duration": 63,
    "start_time": "2025-04-02T10:47:14.276Z"
   },
   {
    "duration": 48,
    "start_time": "2025-04-02T10:47:14.341Z"
   },
   {
    "duration": 62,
    "start_time": "2025-04-02T10:47:14.390Z"
   },
   {
    "duration": 658,
    "start_time": "2025-04-02T10:47:14.454Z"
   },
   {
    "duration": 313,
    "start_time": "2025-04-02T10:47:15.117Z"
   },
   {
    "duration": 84,
    "start_time": "2025-04-02T10:47:15.432Z"
   },
   {
    "duration": 313,
    "start_time": "2025-04-02T10:47:15.518Z"
   },
   {
    "duration": 90,
    "start_time": "2025-04-02T10:47:15.836Z"
   },
   {
    "duration": 51,
    "start_time": "2025-04-02T10:47:15.927Z"
   },
   {
    "duration": 174,
    "start_time": "2025-04-02T10:47:15.980Z"
   },
   {
    "duration": 5291,
    "start_time": "2025-04-02T10:47:16.156Z"
   },
   {
    "duration": 150,
    "start_time": "2025-04-02T10:47:21.448Z"
   },
   {
    "duration": 18,
    "start_time": "2025-04-02T10:47:21.599Z"
   },
   {
    "duration": 42,
    "start_time": "2025-04-02T10:47:21.618Z"
   },
   {
    "duration": 29,
    "start_time": "2025-04-02T10:47:21.661Z"
   },
   {
    "duration": 26,
    "start_time": "2025-04-02T10:47:21.692Z"
   },
   {
    "duration": 438,
    "start_time": "2025-04-02T10:47:21.738Z"
   },
   {
    "duration": 28,
    "start_time": "2025-04-02T10:47:22.178Z"
   },
   {
    "duration": 36,
    "start_time": "2025-04-02T10:47:22.208Z"
   },
   {
    "duration": 283,
    "start_time": "2025-04-02T10:47:22.246Z"
   },
   {
    "duration": 94,
    "start_time": "2025-04-02T10:47:22.531Z"
   },
   {
    "duration": 209,
    "start_time": "2025-04-02T10:47:22.626Z"
   },
   {
    "duration": 6164,
    "start_time": "2025-04-02T10:47:22.839Z"
   },
   {
    "duration": 64,
    "start_time": "2025-04-02T10:47:29.005Z"
   },
   {
    "duration": 4,
    "start_time": "2025-04-02T10:47:29.071Z"
   },
   {
    "duration": 5,
    "start_time": "2025-04-02T10:47:34.156Z"
   },
   {
    "duration": 11,
    "start_time": "2025-04-02T10:52:35.987Z"
   },
   {
    "duration": 79,
    "start_time": "2025-04-02T10:55:17.145Z"
   },
   {
    "duration": 134,
    "start_time": "2025-04-02T10:56:39.780Z"
   },
   {
    "duration": 1134,
    "start_time": "2025-04-02T11:00:01.414Z"
   },
   {
    "duration": 33,
    "start_time": "2025-04-02T11:01:00.790Z"
   },
   {
    "duration": 51,
    "start_time": "2025-04-02T11:07:22.474Z"
   },
   {
    "duration": 205,
    "start_time": "2025-04-02T11:07:30.072Z"
   },
   {
    "duration": 695,
    "start_time": "2025-04-02T11:07:37.760Z"
   },
   {
    "duration": 940,
    "start_time": "2025-04-02T11:07:38.460Z"
   },
   {
    "duration": 19,
    "start_time": "2025-04-02T11:07:39.403Z"
   },
   {
    "duration": 105,
    "start_time": "2025-04-02T11:07:39.423Z"
   },
   {
    "duration": 12,
    "start_time": "2025-04-02T11:07:39.530Z"
   },
   {
    "duration": 25,
    "start_time": "2025-04-02T11:07:39.543Z"
   },
   {
    "duration": 9,
    "start_time": "2025-04-02T11:07:39.570Z"
   },
   {
    "duration": 13,
    "start_time": "2025-04-02T11:07:39.581Z"
   },
   {
    "duration": 575,
    "start_time": "2025-04-02T11:07:39.597Z"
   },
   {
    "duration": 317,
    "start_time": "2025-04-02T11:07:40.173Z"
   },
   {
    "duration": 91,
    "start_time": "2025-04-02T11:07:40.492Z"
   },
   {
    "duration": 298,
    "start_time": "2025-04-02T11:07:40.585Z"
   },
   {
    "duration": 99,
    "start_time": "2025-04-02T11:07:40.884Z"
   },
   {
    "duration": 52,
    "start_time": "2025-04-02T11:07:40.985Z"
   },
   {
    "duration": 98,
    "start_time": "2025-04-02T11:07:41.039Z"
   },
   {
    "duration": 5441,
    "start_time": "2025-04-02T11:07:41.139Z"
   },
   {
    "duration": 147,
    "start_time": "2025-04-02T11:07:46.581Z"
   },
   {
    "duration": 23,
    "start_time": "2025-04-02T11:07:46.730Z"
   },
   {
    "duration": 51,
    "start_time": "2025-04-02T11:07:46.754Z"
   },
   {
    "duration": 30,
    "start_time": "2025-04-02T11:07:46.807Z"
   },
   {
    "duration": 26,
    "start_time": "2025-04-02T11:07:46.839Z"
   },
   {
    "duration": 484,
    "start_time": "2025-04-02T11:07:46.867Z"
   },
   {
    "duration": 28,
    "start_time": "2025-04-02T11:07:47.354Z"
   },
   {
    "duration": 26,
    "start_time": "2025-04-02T11:07:47.384Z"
   },
   {
    "duration": 300,
    "start_time": "2025-04-02T11:07:47.412Z"
   },
   {
    "duration": 97,
    "start_time": "2025-04-02T11:07:47.714Z"
   },
   {
    "duration": 206,
    "start_time": "2025-04-02T11:07:47.814Z"
   },
   {
    "duration": 6076,
    "start_time": "2025-04-02T11:07:48.021Z"
   },
   {
    "duration": 72,
    "start_time": "2025-04-02T11:07:54.098Z"
   },
   {
    "duration": 188,
    "start_time": "2025-04-02T11:07:54.172Z"
   },
   {
    "duration": 4,
    "start_time": "2025-04-02T11:07:54.361Z"
   },
   {
    "duration": 53,
    "start_time": "2025-04-02T11:07:54.366Z"
   },
   {
    "duration": 139,
    "start_time": "2025-04-02T11:09:57.577Z"
   },
   {
    "duration": 99,
    "start_time": "2025-04-02T11:10:04.441Z"
   },
   {
    "duration": 140,
    "start_time": "2025-04-02T11:10:12.186Z"
   },
   {
    "duration": 140,
    "start_time": "2025-04-02T11:10:42.687Z"
   },
   {
    "duration": 204,
    "start_time": "2025-04-02T11:14:08.266Z"
   },
   {
    "duration": 154,
    "start_time": "2025-04-02T11:14:46.743Z"
   },
   {
    "duration": 158,
    "start_time": "2025-04-02T11:17:00.261Z"
   },
   {
    "duration": 156,
    "start_time": "2025-04-02T11:17:06.228Z"
   },
   {
    "duration": 164,
    "start_time": "2025-04-02T11:17:11.009Z"
   },
   {
    "duration": 143,
    "start_time": "2025-04-02T11:17:17.765Z"
   },
   {
    "duration": 178,
    "start_time": "2025-04-02T11:17:21.720Z"
   },
   {
    "duration": 156,
    "start_time": "2025-04-02T11:17:27.783Z"
   },
   {
    "duration": 161,
    "start_time": "2025-04-02T11:22:21.037Z"
   },
   {
    "duration": 177,
    "start_time": "2025-04-02T11:22:48.227Z"
   },
   {
    "duration": 156,
    "start_time": "2025-04-02T11:22:56.470Z"
   },
   {
    "duration": 168,
    "start_time": "2025-04-02T11:23:00.611Z"
   },
   {
    "duration": 193,
    "start_time": "2025-04-02T11:23:15.784Z"
   },
   {
    "duration": 163,
    "start_time": "2025-04-02T11:23:28.324Z"
   },
   {
    "duration": 172,
    "start_time": "2025-04-02T11:23:29.982Z"
   },
   {
    "duration": 172,
    "start_time": "2025-04-02T11:23:35.638Z"
   },
   {
    "duration": 168,
    "start_time": "2025-04-02T11:23:53.647Z"
   },
   {
    "duration": 175,
    "start_time": "2025-04-02T11:23:57.595Z"
   },
   {
    "duration": 192,
    "start_time": "2025-04-02T11:24:03.069Z"
   },
   {
    "duration": 173,
    "start_time": "2025-04-02T11:24:07.433Z"
   },
   {
    "duration": 163,
    "start_time": "2025-04-02T11:24:10.817Z"
   },
   {
    "duration": 163,
    "start_time": "2025-04-02T11:24:14.272Z"
   },
   {
    "duration": 159,
    "start_time": "2025-04-02T11:24:22.277Z"
   },
   {
    "duration": 65,
    "start_time": "2025-04-02T11:50:30.176Z"
   },
   {
    "duration": 3,
    "start_time": "2025-04-02T11:55:53.972Z"
   },
   {
    "duration": 38,
    "start_time": "2025-04-02T11:56:15.027Z"
   },
   {
    "duration": 197,
    "start_time": "2025-04-02T11:56:18.403Z"
   },
   {
    "duration": 86,
    "start_time": "2025-04-02T11:58:50.009Z"
   },
   {
    "duration": 83,
    "start_time": "2025-04-02T11:59:04.648Z"
   },
   {
    "duration": 146,
    "start_time": "2025-04-02T12:02:32.668Z"
   },
   {
    "duration": 156,
    "start_time": "2025-04-02T12:02:48.420Z"
   },
   {
    "duration": 180,
    "start_time": "2025-04-02T12:02:54.620Z"
   },
   {
    "duration": 119,
    "start_time": "2025-04-02T12:03:07.925Z"
   },
   {
    "duration": 115,
    "start_time": "2025-04-02T12:03:16.524Z"
   },
   {
    "duration": 121,
    "start_time": "2025-04-02T12:03:21.586Z"
   },
   {
    "duration": 118,
    "start_time": "2025-04-02T12:03:27.624Z"
   },
   {
    "duration": 123,
    "start_time": "2025-04-02T12:03:30.462Z"
   },
   {
    "duration": 218,
    "start_time": "2025-04-02T12:03:49.822Z"
   },
   {
    "duration": 128,
    "start_time": "2025-04-02T12:04:01.242Z"
   },
   {
    "duration": 121,
    "start_time": "2025-04-02T12:04:08.581Z"
   },
   {
    "duration": 111,
    "start_time": "2025-04-02T12:05:31.393Z"
   },
   {
    "duration": 123,
    "start_time": "2025-04-02T12:05:36.355Z"
   },
   {
    "duration": 122,
    "start_time": "2025-04-02T12:05:51.391Z"
   },
   {
    "duration": 123,
    "start_time": "2025-04-02T12:06:04.259Z"
   },
   {
    "duration": 126,
    "start_time": "2025-04-02T12:06:07.863Z"
   },
   {
    "duration": 120,
    "start_time": "2025-04-02T12:07:11.787Z"
   },
   {
    "duration": 128,
    "start_time": "2025-04-02T12:07:20.729Z"
   },
   {
    "duration": 119,
    "start_time": "2025-04-02T12:07:26.410Z"
   },
   {
    "duration": 120,
    "start_time": "2025-04-02T12:07:48.897Z"
   },
   {
    "duration": 123,
    "start_time": "2025-04-02T12:07:54.442Z"
   },
   {
    "duration": 121,
    "start_time": "2025-04-02T12:07:56.640Z"
   },
   {
    "duration": 124,
    "start_time": "2025-04-02T12:08:03.697Z"
   },
   {
    "duration": 118,
    "start_time": "2025-04-02T12:08:12.078Z"
   },
   {
    "duration": 120,
    "start_time": "2025-04-02T12:08:16.641Z"
   },
   {
    "duration": 124,
    "start_time": "2025-04-02T12:08:33.727Z"
   },
   {
    "duration": 126,
    "start_time": "2025-04-02T12:08:41.001Z"
   },
   {
    "duration": 125,
    "start_time": "2025-04-02T12:08:49.407Z"
   },
   {
    "duration": 116,
    "start_time": "2025-04-02T12:08:53.793Z"
   },
   {
    "duration": 121,
    "start_time": "2025-04-02T12:09:06.137Z"
   },
   {
    "duration": 116,
    "start_time": "2025-04-02T12:09:12.996Z"
   },
   {
    "duration": 125,
    "start_time": "2025-04-02T12:09:14.847Z"
   },
   {
    "duration": 124,
    "start_time": "2025-04-02T12:09:19.824Z"
   },
   {
    "duration": 121,
    "start_time": "2025-04-02T12:09:35.212Z"
   },
   {
    "duration": 119,
    "start_time": "2025-04-02T12:09:39.976Z"
   },
   {
    "duration": 128,
    "start_time": "2025-04-02T12:09:45.221Z"
   },
   {
    "duration": 118,
    "start_time": "2025-04-02T12:10:07.346Z"
   },
   {
    "duration": 119,
    "start_time": "2025-04-02T12:10:20.173Z"
   },
   {
    "duration": 119,
    "start_time": "2025-04-02T12:10:23.746Z"
   },
   {
    "duration": 121,
    "start_time": "2025-04-02T12:10:34.387Z"
   },
   {
    "duration": 119,
    "start_time": "2025-04-02T12:10:46.802Z"
   },
   {
    "duration": 122,
    "start_time": "2025-04-02T12:11:05.655Z"
   },
   {
    "duration": 270,
    "start_time": "2025-04-02T12:11:08.487Z"
   },
   {
    "duration": 120,
    "start_time": "2025-04-02T12:11:22.617Z"
   },
   {
    "duration": 119,
    "start_time": "2025-04-02T12:11:47.163Z"
   },
   {
    "duration": 133,
    "start_time": "2025-04-02T12:12:06.119Z"
   },
   {
    "duration": 119,
    "start_time": "2025-04-02T12:12:12.807Z"
   },
   {
    "duration": 124,
    "start_time": "2025-04-02T12:12:17.869Z"
   },
   {
    "duration": 118,
    "start_time": "2025-04-02T12:12:22.783Z"
   },
   {
    "duration": 127,
    "start_time": "2025-04-02T12:12:31.816Z"
   },
   {
    "duration": 126,
    "start_time": "2025-04-02T12:12:47.441Z"
   },
   {
    "duration": 120,
    "start_time": "2025-04-02T12:13:34.441Z"
   },
   {
    "duration": 122,
    "start_time": "2025-04-02T12:14:01.983Z"
   },
   {
    "duration": 121,
    "start_time": "2025-04-02T12:14:28.455Z"
   },
   {
    "duration": 13,
    "start_time": "2025-04-02T12:16:15.603Z"
   },
   {
    "duration": 3,
    "start_time": "2025-04-02T12:16:54.531Z"
   },
   {
    "duration": 11,
    "start_time": "2025-04-02T12:18:58.609Z"
   },
   {
    "duration": 15,
    "start_time": "2025-04-02T12:19:33.950Z"
   },
   {
    "duration": 718,
    "start_time": "2025-04-02T12:19:51.000Z"
   },
   {
    "duration": 1081,
    "start_time": "2025-04-02T12:19:51.720Z"
   },
   {
    "duration": 19,
    "start_time": "2025-04-02T12:19:52.803Z"
   },
   {
    "duration": 120,
    "start_time": "2025-04-02T12:19:52.824Z"
   },
   {
    "duration": 12,
    "start_time": "2025-04-02T12:19:52.945Z"
   },
   {
    "duration": 33,
    "start_time": "2025-04-02T12:19:52.959Z"
   },
   {
    "duration": 9,
    "start_time": "2025-04-02T12:19:52.994Z"
   },
   {
    "duration": 33,
    "start_time": "2025-04-02T12:19:53.004Z"
   },
   {
    "duration": 591,
    "start_time": "2025-04-02T12:19:53.040Z"
   },
   {
    "duration": 347,
    "start_time": "2025-04-02T12:19:53.640Z"
   },
   {
    "duration": 98,
    "start_time": "2025-04-02T12:19:53.989Z"
   },
   {
    "duration": 382,
    "start_time": "2025-04-02T12:19:54.088Z"
   },
   {
    "duration": 115,
    "start_time": "2025-04-02T12:19:54.472Z"
   },
   {
    "duration": 41,
    "start_time": "2025-04-02T12:19:54.589Z"
   },
   {
    "duration": 168,
    "start_time": "2025-04-02T12:19:54.632Z"
   },
   {
    "duration": 5972,
    "start_time": "2025-04-02T12:19:54.801Z"
   },
   {
    "duration": 159,
    "start_time": "2025-04-02T12:20:00.775Z"
   },
   {
    "duration": 29,
    "start_time": "2025-04-02T12:20:00.939Z"
   },
   {
    "duration": 42,
    "start_time": "2025-04-02T12:20:00.970Z"
   },
   {
    "duration": 47,
    "start_time": "2025-04-02T12:20:01.013Z"
   },
   {
    "duration": 25,
    "start_time": "2025-04-02T12:20:01.062Z"
   },
   {
    "duration": 514,
    "start_time": "2025-04-02T12:20:01.089Z"
   },
   {
    "duration": 39,
    "start_time": "2025-04-02T12:20:01.605Z"
   },
   {
    "duration": 32,
    "start_time": "2025-04-02T12:20:01.649Z"
   },
   {
    "duration": 350,
    "start_time": "2025-04-02T12:20:01.683Z"
   },
   {
    "duration": 103,
    "start_time": "2025-04-02T12:20:02.037Z"
   },
   {
    "duration": 225,
    "start_time": "2025-04-02T12:20:02.142Z"
   },
   {
    "duration": 6597,
    "start_time": "2025-04-02T12:20:02.373Z"
   },
   {
    "duration": 52,
    "start_time": "2025-04-02T12:20:08.971Z"
   },
   {
    "duration": 194,
    "start_time": "2025-04-02T12:20:09.024Z"
   },
   {
    "duration": 4,
    "start_time": "2025-04-02T12:20:09.220Z"
   },
   {
    "duration": 158,
    "start_time": "2025-04-02T12:20:09.238Z"
   },
   {
    "duration": 96,
    "start_time": "2025-04-02T12:20:09.397Z"
   },
   {
    "duration": 470,
    "start_time": "2025-04-02T12:22:56.890Z"
   },
   {
    "duration": 666,
    "start_time": "2025-04-02T12:23:08.899Z"
   },
   {
    "duration": 1001,
    "start_time": "2025-04-02T12:23:09.569Z"
   },
   {
    "duration": 20,
    "start_time": "2025-04-02T12:23:10.571Z"
   },
   {
    "duration": 119,
    "start_time": "2025-04-02T12:23:10.594Z"
   },
   {
    "duration": 12,
    "start_time": "2025-04-02T12:23:10.714Z"
   },
   {
    "duration": 32,
    "start_time": "2025-04-02T12:23:10.737Z"
   },
   {
    "duration": 19,
    "start_time": "2025-04-02T12:23:10.771Z"
   },
   {
    "duration": 25,
    "start_time": "2025-04-02T12:23:10.792Z"
   },
   {
    "duration": 733,
    "start_time": "2025-04-02T12:23:10.819Z"
   },
   {
    "duration": 802,
    "start_time": "2025-04-02T12:23:11.556Z"
   },
   {
    "duration": 229,
    "start_time": "2025-04-02T12:23:12.359Z"
   },
   {
    "duration": 725,
    "start_time": "2025-04-02T12:23:12.590Z"
   },
   {
    "duration": 215,
    "start_time": "2025-04-02T12:23:13.316Z"
   },
   {
    "duration": 58,
    "start_time": "2025-04-02T12:23:13.537Z"
   },
   {
    "duration": 225,
    "start_time": "2025-04-02T12:23:13.597Z"
   },
   {
    "duration": 5857,
    "start_time": "2025-04-02T12:23:13.823Z"
   },
   {
    "duration": 271,
    "start_time": "2025-04-02T12:23:19.681Z"
   },
   {
    "duration": 24,
    "start_time": "2025-04-02T12:23:19.955Z"
   },
   {
    "duration": 27,
    "start_time": "2025-04-02T12:23:19.981Z"
   },
   {
    "duration": 55,
    "start_time": "2025-04-02T12:23:20.009Z"
   },
   {
    "duration": 31,
    "start_time": "2025-04-02T12:23:20.066Z"
   },
   {
    "duration": 481,
    "start_time": "2025-04-02T12:23:20.099Z"
   },
   {
    "duration": 46,
    "start_time": "2025-04-02T12:23:20.581Z"
   },
   {
    "duration": 33,
    "start_time": "2025-04-02T12:23:20.628Z"
   },
   {
    "duration": 657,
    "start_time": "2025-04-02T12:23:20.663Z"
   },
   {
    "duration": 105,
    "start_time": "2025-04-02T12:23:21.321Z"
   },
   {
    "duration": 381,
    "start_time": "2025-04-02T12:23:21.427Z"
   },
   {
    "duration": 6676,
    "start_time": "2025-04-02T12:23:21.811Z"
   },
   {
    "duration": 188,
    "start_time": "2025-04-02T12:23:28.489Z"
   },
   {
    "duration": 238,
    "start_time": "2025-04-02T12:23:28.679Z"
   },
   {
    "duration": 3,
    "start_time": "2025-04-02T12:23:28.919Z"
   },
   {
    "duration": 154,
    "start_time": "2025-04-02T12:23:28.924Z"
   },
   {
    "duration": 44,
    "start_time": "2025-04-02T12:23:29.080Z"
   },
   {
    "duration": 35,
    "start_time": "2025-04-02T12:25:27.181Z"
   },
   {
    "duration": 5871,
    "start_time": "2025-04-02T12:25:29.807Z"
   },
   {
    "duration": 5778,
    "start_time": "2025-04-02T12:25:37.851Z"
   },
   {
    "duration": 275,
    "start_time": "2025-04-02T12:25:43.631Z"
   },
   {
    "duration": 59,
    "start_time": "2025-04-02T12:28:56.376Z"
   },
   {
    "duration": 27,
    "start_time": "2025-04-02T12:29:01.200Z"
   },
   {
    "duration": 30,
    "start_time": "2025-04-02T12:29:03.714Z"
   },
   {
    "duration": 29,
    "start_time": "2025-04-02T12:29:24.850Z"
   },
   {
    "duration": 97,
    "start_time": "2025-04-02T12:29:41.798Z"
   },
   {
    "duration": 729,
    "start_time": "2025-04-02T12:29:53.132Z"
   },
   {
    "duration": 1035,
    "start_time": "2025-04-02T12:29:53.863Z"
   },
   {
    "duration": 22,
    "start_time": "2025-04-02T12:29:54.899Z"
   },
   {
    "duration": 132,
    "start_time": "2025-04-02T12:29:54.923Z"
   },
   {
    "duration": 12,
    "start_time": "2025-04-02T12:29:55.058Z"
   },
   {
    "duration": 80,
    "start_time": "2025-04-02T12:29:55.073Z"
   },
   {
    "duration": 33,
    "start_time": "2025-04-02T12:29:55.155Z"
   },
   {
    "duration": 29,
    "start_time": "2025-04-02T12:29:55.190Z"
   },
   {
    "duration": 740,
    "start_time": "2025-04-02T12:29:55.221Z"
   },
   {
    "duration": 831,
    "start_time": "2025-04-02T12:29:55.965Z"
   },
   {
    "duration": 210,
    "start_time": "2025-04-02T12:29:56.798Z"
   },
   {
    "duration": 754,
    "start_time": "2025-04-02T12:29:57.010Z"
   },
   {
    "duration": 210,
    "start_time": "2025-04-02T12:29:57.766Z"
   },
   {
    "duration": 88,
    "start_time": "2025-04-02T12:29:57.979Z"
   },
   {
    "duration": 215,
    "start_time": "2025-04-02T12:29:58.069Z"
   },
   {
    "duration": 5735,
    "start_time": "2025-04-02T12:29:58.286Z"
   },
   {
    "duration": 287,
    "start_time": "2025-04-02T12:30:04.022Z"
   },
   {
    "duration": 43,
    "start_time": "2025-04-02T12:30:04.310Z"
   },
   {
    "duration": 52,
    "start_time": "2025-04-02T12:30:04.355Z"
   },
   {
    "duration": 41,
    "start_time": "2025-04-02T12:30:04.408Z"
   },
   {
    "duration": 37,
    "start_time": "2025-04-02T12:30:04.454Z"
   },
   {
    "duration": 503,
    "start_time": "2025-04-02T12:30:04.493Z"
   },
   {
    "duration": 64,
    "start_time": "2025-04-02T12:30:04.998Z"
   },
   {
    "duration": 21,
    "start_time": "2025-04-02T12:30:05.063Z"
   },
   {
    "duration": 622,
    "start_time": "2025-04-02T12:30:05.086Z"
   },
   {
    "duration": 107,
    "start_time": "2025-04-02T12:30:05.710Z"
   },
   {
    "duration": 373,
    "start_time": "2025-04-02T12:30:05.818Z"
   },
   {
    "duration": 6589,
    "start_time": "2025-04-02T12:30:06.194Z"
   },
   {
    "duration": 134,
    "start_time": "2025-04-02T12:30:12.785Z"
   },
   {
    "duration": 206,
    "start_time": "2025-04-02T12:30:12.920Z"
   },
   {
    "duration": 4,
    "start_time": "2025-04-02T12:30:13.127Z"
   },
   {
    "duration": 143,
    "start_time": "2025-04-02T12:30:13.137Z"
   },
   {
    "duration": 72,
    "start_time": "2025-04-02T12:30:13.281Z"
   },
   {
    "duration": 48,
    "start_time": "2025-04-02T12:31:09.296Z"
   },
   {
    "duration": 51,
    "start_time": "2025-04-02T12:31:12.827Z"
   },
   {
    "duration": 1682,
    "start_time": "2025-04-02T12:31:45.887Z"
   },
   {
    "duration": 48,
    "start_time": "2025-04-02T12:31:50.980Z"
   },
   {
    "duration": 50,
    "start_time": "2025-04-02T12:34:15.716Z"
   },
   {
    "duration": 60,
    "start_time": "2025-04-02T12:34:19.389Z"
   },
   {
    "duration": 63,
    "start_time": "2025-04-02T12:35:26.530Z"
   },
   {
    "duration": 142,
    "start_time": "2025-04-02T12:37:11.975Z"
   },
   {
    "duration": 26,
    "start_time": "2025-04-02T12:37:19.806Z"
   },
   {
    "duration": 25,
    "start_time": "2025-04-02T12:37:27.284Z"
   },
   {
    "duration": 121,
    "start_time": "2025-04-02T12:37:38.657Z"
   },
   {
    "duration": 64,
    "start_time": "2025-04-02T12:42:53.507Z"
   },
   {
    "duration": 49,
    "start_time": "2025-04-02T12:43:01.678Z"
   },
   {
    "duration": 54,
    "start_time": "2025-04-02T12:43:32.429Z"
   },
   {
    "duration": 65,
    "start_time": "2025-04-02T12:43:36.700Z"
   },
   {
    "duration": 66,
    "start_time": "2025-04-02T12:47:16.289Z"
   },
   {
    "duration": 68,
    "start_time": "2025-04-02T12:47:25.008Z"
   },
   {
    "duration": 55,
    "start_time": "2025-04-02T12:48:08.730Z"
   },
   {
    "duration": 63,
    "start_time": "2025-04-02T12:48:13.234Z"
   },
   {
    "duration": 64,
    "start_time": "2025-04-02T12:48:31.003Z"
   },
   {
    "duration": 64,
    "start_time": "2025-04-02T12:48:35.399Z"
   },
   {
    "duration": 88,
    "start_time": "2025-04-02T12:49:27.932Z"
   },
   {
    "duration": 62,
    "start_time": "2025-04-02T12:50:25.206Z"
   },
   {
    "duration": 48,
    "start_time": "2025-04-02T12:50:58.779Z"
   },
   {
    "duration": 65,
    "start_time": "2025-04-02T12:51:03.019Z"
   },
   {
    "duration": 193,
    "start_time": "2025-04-02T12:51:40.820Z"
   },
   {
    "duration": 703,
    "start_time": "2025-04-02T12:53:40.761Z"
   },
   {
    "duration": 1004,
    "start_time": "2025-04-02T12:53:41.466Z"
   },
   {
    "duration": 19,
    "start_time": "2025-04-02T12:53:42.472Z"
   },
   {
    "duration": 118,
    "start_time": "2025-04-02T12:53:42.493Z"
   },
   {
    "duration": 12,
    "start_time": "2025-04-02T12:53:42.613Z"
   },
   {
    "duration": 41,
    "start_time": "2025-04-02T12:53:42.627Z"
   },
   {
    "duration": 26,
    "start_time": "2025-04-02T12:53:42.670Z"
   },
   {
    "duration": 21,
    "start_time": "2025-04-02T12:53:42.698Z"
   },
   {
    "duration": 732,
    "start_time": "2025-04-02T12:53:42.720Z"
   },
   {
    "duration": 873,
    "start_time": "2025-04-02T12:53:43.456Z"
   },
   {
    "duration": 220,
    "start_time": "2025-04-02T12:53:44.331Z"
   },
   {
    "duration": 831,
    "start_time": "2025-04-02T12:53:44.553Z"
   },
   {
    "duration": 218,
    "start_time": "2025-04-02T12:53:45.386Z"
   },
   {
    "duration": 86,
    "start_time": "2025-04-02T12:53:45.606Z"
   },
   {
    "duration": 214,
    "start_time": "2025-04-02T12:53:45.694Z"
   },
   {
    "duration": 5729,
    "start_time": "2025-04-02T12:53:45.910Z"
   },
   {
    "duration": 264,
    "start_time": "2025-04-02T12:53:51.649Z"
   },
   {
    "duration": 28,
    "start_time": "2025-04-02T12:53:51.914Z"
   },
   {
    "duration": 30,
    "start_time": "2025-04-02T12:53:51.944Z"
   },
   {
    "duration": 28,
    "start_time": "2025-04-02T12:53:51.976Z"
   },
   {
    "duration": 67,
    "start_time": "2025-04-02T12:53:52.005Z"
   },
   {
    "duration": 484,
    "start_time": "2025-04-02T12:53:52.073Z"
   },
   {
    "duration": 46,
    "start_time": "2025-04-02T12:53:52.559Z"
   },
   {
    "duration": 34,
    "start_time": "2025-04-02T12:53:52.607Z"
   },
   {
    "duration": 616,
    "start_time": "2025-04-02T12:53:52.642Z"
   },
   {
    "duration": 99,
    "start_time": "2025-04-02T12:53:53.260Z"
   },
   {
    "duration": 370,
    "start_time": "2025-04-02T12:53:53.361Z"
   },
   {
    "duration": 6828,
    "start_time": "2025-04-02T12:53:53.734Z"
   },
   {
    "duration": 142,
    "start_time": "2025-04-02T12:54:00.564Z"
   },
   {
    "duration": 226,
    "start_time": "2025-04-02T12:54:00.707Z"
   },
   {
    "duration": 14,
    "start_time": "2025-04-02T12:54:00.937Z"
   },
   {
    "duration": 46,
    "start_time": "2025-04-02T12:54:00.953Z"
   },
   {
    "duration": 151,
    "start_time": "2025-04-02T12:54:01.001Z"
   },
   {
    "duration": 177,
    "start_time": "2025-04-02T12:54:01.154Z"
   },
   {
    "duration": 217,
    "start_time": "2025-04-02T12:54:01.334Z"
   },
   {
    "duration": 75,
    "start_time": "2025-04-02T12:54:39.560Z"
   },
   {
    "duration": 15,
    "start_time": "2025-04-02T12:54:56.359Z"
   },
   {
    "duration": 1273,
    "start_time": "2025-04-02T12:55:12.750Z"
   },
   {
    "duration": 16,
    "start_time": "2025-04-02T12:55:15.351Z"
   },
   {
    "duration": 52,
    "start_time": "2025-04-02T12:55:25.181Z"
   },
   {
    "duration": 65,
    "start_time": "2025-04-02T12:55:28.627Z"
   },
   {
    "duration": 16,
    "start_time": "2025-04-02T12:57:08.919Z"
   },
   {
    "duration": 193,
    "start_time": "2025-04-02T12:58:12.913Z"
   },
   {
    "duration": 23,
    "start_time": "2025-04-02T12:59:14.630Z"
   },
   {
    "duration": 14,
    "start_time": "2025-04-02T12:59:56.458Z"
   },
   {
    "duration": 19,
    "start_time": "2025-04-02T13:00:16.727Z"
   },
   {
    "duration": 22,
    "start_time": "2025-04-02T13:07:46.023Z"
   },
   {
    "duration": 7,
    "start_time": "2025-04-02T13:07:48.993Z"
   },
   {
    "duration": 752,
    "start_time": "2025-04-02T13:07:57.740Z"
   },
   {
    "duration": 3,
    "start_time": "2025-04-02T13:08:30.495Z"
   },
   {
    "duration": 53,
    "start_time": "2025-04-02T13:10:18.480Z"
   },
   {
    "duration": 29,
    "start_time": "2025-04-02T13:10:30.138Z"
   },
   {
    "duration": 23,
    "start_time": "2025-04-02T13:10:46.260Z"
   },
   {
    "duration": 25,
    "start_time": "2025-04-02T13:11:02.053Z"
   },
   {
    "duration": 241,
    "start_time": "2025-04-02T13:11:05.522Z"
   },
   {
    "duration": 160,
    "start_time": "2025-04-02T13:12:20.736Z"
   },
   {
    "duration": 138,
    "start_time": "2025-04-02T13:12:29.406Z"
   },
   {
    "duration": 113,
    "start_time": "2025-04-02T13:13:02.219Z"
   },
   {
    "duration": 231,
    "start_time": "2025-04-02T13:13:04.362Z"
   },
   {
    "duration": 253,
    "start_time": "2025-04-02T13:13:10.700Z"
   },
   {
    "duration": 111,
    "start_time": "2025-04-02T13:13:22.477Z"
   },
   {
    "duration": 83,
    "start_time": "2025-04-02T13:13:25.666Z"
   },
   {
    "duration": 236,
    "start_time": "2025-04-02T13:13:31.869Z"
   },
   {
    "duration": 91,
    "start_time": "2025-04-02T13:14:01.081Z"
   },
   {
    "duration": 152,
    "start_time": "2025-04-02T13:14:04.906Z"
   },
   {
    "duration": 144,
    "start_time": "2025-04-02T13:14:43.584Z"
   },
   {
    "duration": 247,
    "start_time": "2025-04-02T13:14:49.641Z"
   },
   {
    "duration": 236,
    "start_time": "2025-04-02T13:15:10.196Z"
   },
   {
    "duration": 65,
    "start_time": "2025-04-02T14:30:30.029Z"
   },
   {
    "duration": 255,
    "start_time": "2025-04-02T14:30:32.844Z"
   },
   {
    "duration": 51,
    "start_time": "2025-04-02T14:33:03.898Z"
   },
   {
    "duration": 63,
    "start_time": "2025-04-02T14:33:33.891Z"
   },
   {
    "duration": 17,
    "start_time": "2025-04-02T14:34:24.517Z"
   },
   {
    "duration": 195,
    "start_time": "2025-04-02T14:34:35.690Z"
   },
   {
    "duration": 63,
    "start_time": "2025-04-02T14:39:06.227Z"
   },
   {
    "duration": 15,
    "start_time": "2025-04-02T14:39:56.896Z"
   },
   {
    "duration": 164,
    "start_time": "2025-04-02T14:40:09.551Z"
   },
   {
    "duration": 52,
    "start_time": "2025-04-02T14:49:59.261Z"
   },
   {
    "duration": 55,
    "start_time": "2025-04-02T14:52:38.727Z"
   },
   {
    "duration": 53,
    "start_time": "2025-04-02T14:52:42.374Z"
   },
   {
    "duration": 55,
    "start_time": "2025-04-02T14:53:20.561Z"
   },
   {
    "duration": 56,
    "start_time": "2025-04-02T14:53:40.467Z"
   },
   {
    "duration": 60,
    "start_time": "2025-04-02T14:53:55.951Z"
   },
   {
    "duration": 14,
    "start_time": "2025-04-02T14:54:29.874Z"
   },
   {
    "duration": 219,
    "start_time": "2025-04-02T14:54:36.091Z"
   },
   {
    "duration": 222,
    "start_time": "2025-04-02T14:55:11.850Z"
   },
   {
    "duration": 233,
    "start_time": "2025-04-02T14:55:29.167Z"
   },
   {
    "duration": 212,
    "start_time": "2025-04-02T14:55:32.509Z"
   },
   {
    "duration": 248,
    "start_time": "2025-04-02T14:56:04.627Z"
   },
   {
    "duration": 81,
    "start_time": "2025-04-02T14:56:09.907Z"
   },
   {
    "duration": 238,
    "start_time": "2025-04-02T14:56:14.088Z"
   },
   {
    "duration": 229,
    "start_time": "2025-04-02T14:57:23.141Z"
   },
   {
    "duration": 226,
    "start_time": "2025-04-02T14:57:26.582Z"
   },
   {
    "duration": 349,
    "start_time": "2025-04-02T14:59:44.350Z"
   },
   {
    "duration": 256,
    "start_time": "2025-04-02T14:59:56.734Z"
   },
   {
    "duration": 236,
    "start_time": "2025-04-02T15:02:48.766Z"
   },
   {
    "duration": 17,
    "start_time": "2025-04-02T15:09:55.926Z"
   },
   {
    "duration": 18,
    "start_time": "2025-04-02T15:09:58.410Z"
   },
   {
    "duration": 18,
    "start_time": "2025-04-02T15:11:42.163Z"
   },
   {
    "duration": 80,
    "start_time": "2025-04-02T15:13:12.950Z"
   },
   {
    "duration": 21,
    "start_time": "2025-04-02T15:13:23.554Z"
   },
   {
    "duration": 4,
    "start_time": "2025-04-02T15:14:05.620Z"
   },
   {
    "duration": 11,
    "start_time": "2025-04-02T15:14:08.649Z"
   },
   {
    "duration": 14,
    "start_time": "2025-04-02T15:15:58.060Z"
   },
   {
    "duration": 13,
    "start_time": "2025-04-02T15:16:13.421Z"
   },
   {
    "duration": 14,
    "start_time": "2025-04-02T15:16:32.251Z"
   },
   {
    "duration": 1278,
    "start_time": "2025-04-02T15:16:39.712Z"
   },
   {
    "duration": 996,
    "start_time": "2025-04-02T15:16:40.992Z"
   },
   {
    "duration": 19,
    "start_time": "2025-04-02T15:16:41.990Z"
   },
   {
    "duration": 106,
    "start_time": "2025-04-02T15:16:42.011Z"
   },
   {
    "duration": 22,
    "start_time": "2025-04-02T15:16:42.119Z"
   },
   {
    "duration": 52,
    "start_time": "2025-04-02T15:16:42.143Z"
   },
   {
    "duration": 13,
    "start_time": "2025-04-02T15:16:42.197Z"
   },
   {
    "duration": 34,
    "start_time": "2025-04-02T15:16:42.212Z"
   },
   {
    "duration": 728,
    "start_time": "2025-04-02T15:16:42.250Z"
   },
   {
    "duration": 820,
    "start_time": "2025-04-02T15:16:42.981Z"
   },
   {
    "duration": 214,
    "start_time": "2025-04-02T15:16:43.803Z"
   },
   {
    "duration": 836,
    "start_time": "2025-04-02T15:16:44.018Z"
   },
   {
    "duration": 213,
    "start_time": "2025-04-02T15:16:44.856Z"
   },
   {
    "duration": 78,
    "start_time": "2025-04-02T15:16:45.071Z"
   },
   {
    "duration": 211,
    "start_time": "2025-04-02T15:16:45.151Z"
   },
   {
    "duration": 5791,
    "start_time": "2025-04-02T15:16:45.364Z"
   },
   {
    "duration": 265,
    "start_time": "2025-04-02T15:16:51.157Z"
   },
   {
    "duration": 41,
    "start_time": "2025-04-02T15:16:51.423Z"
   },
   {
    "duration": 29,
    "start_time": "2025-04-02T15:16:51.466Z"
   },
   {
    "duration": 55,
    "start_time": "2025-04-02T15:16:51.496Z"
   },
   {
    "duration": 27,
    "start_time": "2025-04-02T15:16:51.553Z"
   },
   {
    "duration": 481,
    "start_time": "2025-04-02T15:16:51.582Z"
   },
   {
    "duration": 49,
    "start_time": "2025-04-02T15:16:52.065Z"
   },
   {
    "duration": 42,
    "start_time": "2025-04-02T15:16:52.116Z"
   },
   {
    "duration": 743,
    "start_time": "2025-04-02T15:16:52.160Z"
   },
   {
    "duration": 107,
    "start_time": "2025-04-02T15:16:52.904Z"
   },
   {
    "duration": 383,
    "start_time": "2025-04-02T15:16:53.012Z"
   },
   {
    "duration": 6927,
    "start_time": "2025-04-02T15:16:53.399Z"
   },
   {
    "duration": 176,
    "start_time": "2025-04-02T15:17:00.328Z"
   },
   {
    "duration": 225,
    "start_time": "2025-04-02T15:17:00.506Z"
   },
   {
    "duration": 11,
    "start_time": "2025-04-02T15:17:00.733Z"
   },
   {
    "duration": 34,
    "start_time": "2025-04-02T15:17:00.751Z"
   },
   {
    "duration": 136,
    "start_time": "2025-04-02T15:17:00.787Z"
   },
   {
    "duration": 184,
    "start_time": "2025-04-02T15:17:00.924Z"
   },
   {
    "duration": 263,
    "start_time": "2025-04-02T15:17:01.111Z"
   },
   {
    "duration": 47,
    "start_time": "2025-04-02T15:17:01.376Z"
   },
   {
    "duration": 235,
    "start_time": "2025-04-02T15:17:01.425Z"
   },
   {
    "duration": 61,
    "start_time": "2025-04-02T15:17:01.661Z"
   },
   {
    "duration": 177,
    "start_time": "2025-04-02T15:17:01.742Z"
   },
   {
    "duration": 76,
    "start_time": "2025-04-02T15:17:01.921Z"
   },
   {
    "duration": 247,
    "start_time": "2025-04-02T15:17:01.999Z"
   },
   {
    "duration": 30,
    "start_time": "2025-04-02T15:17:02.247Z"
   },
   {
    "duration": 44,
    "start_time": "2025-04-02T15:17:02.279Z"
   },
   {
    "duration": 10,
    "start_time": "2025-04-02T15:17:56.972Z"
   },
   {
    "duration": 12,
    "start_time": "2025-04-02T15:18:06.190Z"
   },
   {
    "duration": 119,
    "start_time": "2025-04-02T15:18:48.947Z"
   },
   {
    "duration": 14,
    "start_time": "2025-04-02T15:19:12.788Z"
   },
   {
    "duration": 22,
    "start_time": "2025-04-02T15:19:16.236Z"
   },
   {
    "duration": 12,
    "start_time": "2025-04-02T15:19:30.948Z"
   },
   {
    "duration": 239,
    "start_time": "2025-04-02T15:20:20.588Z"
   },
   {
    "duration": 128,
    "start_time": "2025-04-02T15:57:45.852Z"
   },
   {
    "duration": 145,
    "start_time": "2025-04-02T15:57:51.080Z"
   },
   {
    "duration": 135,
    "start_time": "2025-04-02T15:58:11.478Z"
   },
   {
    "duration": 149,
    "start_time": "2025-04-02T15:58:15.096Z"
   },
   {
    "duration": 133,
    "start_time": "2025-04-02T15:58:27.650Z"
   },
   {
    "duration": 136,
    "start_time": "2025-04-02T15:58:29.685Z"
   },
   {
    "duration": 137,
    "start_time": "2025-04-02T15:58:32.221Z"
   },
   {
    "duration": 163,
    "start_time": "2025-04-02T15:59:02.258Z"
   },
   {
    "duration": 33,
    "start_time": "2025-04-02T15:59:08.729Z"
   },
   {
    "duration": 144,
    "start_time": "2025-04-02T16:02:51.823Z"
   },
   {
    "duration": 1260,
    "start_time": "2025-04-02T16:03:46.450Z"
   },
   {
    "duration": 1018,
    "start_time": "2025-04-02T16:03:47.713Z"
   },
   {
    "duration": 20,
    "start_time": "2025-04-02T16:03:48.733Z"
   },
   {
    "duration": 114,
    "start_time": "2025-04-02T16:03:48.756Z"
   },
   {
    "duration": 12,
    "start_time": "2025-04-02T16:03:48.872Z"
   },
   {
    "duration": 18,
    "start_time": "2025-04-02T16:03:48.886Z"
   },
   {
    "duration": 33,
    "start_time": "2025-04-02T16:03:48.906Z"
   },
   {
    "duration": 17,
    "start_time": "2025-04-02T16:03:48.941Z"
   },
   {
    "duration": 723,
    "start_time": "2025-04-02T16:03:48.960Z"
   },
   {
    "duration": 805,
    "start_time": "2025-04-02T16:03:49.686Z"
   },
   {
    "duration": 192,
    "start_time": "2025-04-02T16:03:50.492Z"
   },
   {
    "duration": 782,
    "start_time": "2025-04-02T16:03:50.686Z"
   },
   {
    "duration": 213,
    "start_time": "2025-04-02T16:03:51.469Z"
   },
   {
    "duration": 77,
    "start_time": "2025-04-02T16:03:51.684Z"
   },
   {
    "duration": 218,
    "start_time": "2025-04-02T16:03:51.762Z"
   },
   {
    "duration": 5720,
    "start_time": "2025-04-02T16:03:51.981Z"
   },
   {
    "duration": 267,
    "start_time": "2025-04-02T16:03:57.703Z"
   },
   {
    "duration": 24,
    "start_time": "2025-04-02T16:03:57.972Z"
   },
   {
    "duration": 46,
    "start_time": "2025-04-02T16:03:57.998Z"
   },
   {
    "duration": 30,
    "start_time": "2025-04-02T16:03:58.046Z"
   },
   {
    "duration": 39,
    "start_time": "2025-04-02T16:03:58.078Z"
   },
   {
    "duration": 478,
    "start_time": "2025-04-02T16:03:58.119Z"
   },
   {
    "duration": 62,
    "start_time": "2025-04-02T16:03:58.599Z"
   },
   {
    "duration": 21,
    "start_time": "2025-04-02T16:03:58.662Z"
   },
   {
    "duration": 604,
    "start_time": "2025-04-02T16:03:58.685Z"
   },
   {
    "duration": 109,
    "start_time": "2025-04-02T16:03:59.291Z"
   },
   {
    "duration": 365,
    "start_time": "2025-04-02T16:03:59.402Z"
   },
   {
    "duration": 6473,
    "start_time": "2025-04-02T16:03:59.771Z"
   },
   {
    "duration": 170,
    "start_time": "2025-04-02T16:04:06.254Z"
   },
   {
    "duration": 236,
    "start_time": "2025-04-02T16:04:06.426Z"
   },
   {
    "duration": 4,
    "start_time": "2025-04-02T16:04:06.663Z"
   },
   {
    "duration": 57,
    "start_time": "2025-04-02T16:04:06.669Z"
   },
   {
    "duration": 135,
    "start_time": "2025-04-02T16:04:06.728Z"
   },
   {
    "duration": 191,
    "start_time": "2025-04-02T16:04:06.865Z"
   },
   {
    "duration": 249,
    "start_time": "2025-04-02T16:04:07.058Z"
   },
   {
    "duration": 63,
    "start_time": "2025-04-02T16:04:07.309Z"
   },
   {
    "duration": 193,
    "start_time": "2025-04-02T16:04:07.374Z"
   },
   {
    "duration": 70,
    "start_time": "2025-04-02T16:04:07.569Z"
   },
   {
    "duration": 177,
    "start_time": "2025-04-02T16:04:07.641Z"
   },
   {
    "duration": 67,
    "start_time": "2025-04-02T16:04:07.819Z"
   },
   {
    "duration": 261,
    "start_time": "2025-04-02T16:04:07.887Z"
   },
   {
    "duration": 22,
    "start_time": "2025-04-02T16:04:08.150Z"
   },
   {
    "duration": 14,
    "start_time": "2025-04-02T16:04:08.174Z"
   },
   {
    "duration": 62,
    "start_time": "2025-04-02T16:04:08.190Z"
   },
   {
    "duration": 169,
    "start_time": "2025-04-02T16:04:08.254Z"
   },
   {
    "duration": 83,
    "start_time": "2025-04-02T16:33:10.947Z"
   },
   {
    "duration": 84,
    "start_time": "2025-04-02T16:33:16.762Z"
   },
   {
    "duration": 85,
    "start_time": "2025-04-02T16:33:25.990Z"
   },
   {
    "duration": 53,
    "start_time": "2025-04-02T16:33:49.923Z"
   },
   {
    "duration": 60,
    "start_time": "2025-04-02T16:33:57.812Z"
   },
   {
    "duration": 58,
    "start_time": "2025-04-02T16:36:24.911Z"
   },
   {
    "duration": 68,
    "start_time": "2025-04-02T16:36:28.493Z"
   },
   {
    "duration": 60,
    "start_time": "2025-04-02T16:39:50.908Z"
   },
   {
    "duration": 74,
    "start_time": "2025-04-02T16:39:55.152Z"
   },
   {
    "duration": 81,
    "start_time": "2025-04-02T16:40:10.595Z"
   },
   {
    "duration": 748,
    "start_time": "2025-04-02T16:45:01.002Z"
   },
   {
    "duration": 517,
    "start_time": "2025-04-02T16:46:30.747Z"
   },
   {
    "duration": 82,
    "start_time": "2025-04-02T16:48:21.801Z"
   },
   {
    "duration": 898,
    "start_time": "2025-04-02T16:48:36.299Z"
   },
   {
    "duration": 892,
    "start_time": "2025-04-02T16:49:20.403Z"
   },
   {
    "duration": 870,
    "start_time": "2025-04-02T16:49:26.798Z"
   },
   {
    "duration": 1034,
    "start_time": "2025-04-02T16:49:56.927Z"
   },
   {
    "duration": 858,
    "start_time": "2025-04-02T16:50:00.546Z"
   },
   {
    "duration": 886,
    "start_time": "2025-04-02T16:50:06.842Z"
   },
   {
    "duration": 1080,
    "start_time": "2025-04-02T16:50:13.324Z"
   },
   {
    "duration": 1250,
    "start_time": "2025-04-02T17:07:05.190Z"
   },
   {
    "duration": 1333,
    "start_time": "2025-04-02T17:07:06.443Z"
   },
   {
    "duration": 19,
    "start_time": "2025-04-02T17:07:07.778Z"
   },
   {
    "duration": 122,
    "start_time": "2025-04-02T17:07:07.799Z"
   },
   {
    "duration": 21,
    "start_time": "2025-04-02T17:07:07.923Z"
   },
   {
    "duration": 34,
    "start_time": "2025-04-02T17:07:07.947Z"
   },
   {
    "duration": 23,
    "start_time": "2025-04-02T17:07:07.983Z"
   },
   {
    "duration": 57,
    "start_time": "2025-04-02T17:07:08.007Z"
   },
   {
    "duration": 782,
    "start_time": "2025-04-02T17:07:08.066Z"
   },
   {
    "duration": 827,
    "start_time": "2025-04-02T17:07:08.851Z"
   },
   {
    "duration": 204,
    "start_time": "2025-04-02T17:07:09.680Z"
   },
   {
    "duration": 768,
    "start_time": "2025-04-02T17:07:09.886Z"
   },
   {
    "duration": 216,
    "start_time": "2025-04-02T17:07:10.655Z"
   },
   {
    "duration": 79,
    "start_time": "2025-04-02T17:07:10.873Z"
   },
   {
    "duration": 210,
    "start_time": "2025-04-02T17:07:10.954Z"
   },
   {
    "duration": 5956,
    "start_time": "2025-04-02T17:07:11.166Z"
   },
   {
    "duration": 273,
    "start_time": "2025-04-02T17:07:17.124Z"
   },
   {
    "duration": 39,
    "start_time": "2025-04-02T17:07:17.399Z"
   },
   {
    "duration": 38,
    "start_time": "2025-04-02T17:07:17.440Z"
   },
   {
    "duration": 29,
    "start_time": "2025-04-02T17:07:17.480Z"
   },
   {
    "duration": 65,
    "start_time": "2025-04-02T17:07:17.510Z"
   },
   {
    "duration": 482,
    "start_time": "2025-04-02T17:07:17.577Z"
   },
   {
    "duration": 47,
    "start_time": "2025-04-02T17:07:18.061Z"
   },
   {
    "duration": 39,
    "start_time": "2025-04-02T17:07:18.110Z"
   },
   {
    "duration": 586,
    "start_time": "2025-04-02T17:07:18.152Z"
   },
   {
    "duration": 101,
    "start_time": "2025-04-02T17:07:18.740Z"
   },
   {
    "duration": 357,
    "start_time": "2025-04-02T17:07:18.843Z"
   },
   {
    "duration": 6560,
    "start_time": "2025-04-02T17:07:19.204Z"
   },
   {
    "duration": 139,
    "start_time": "2025-04-02T17:07:25.766Z"
   },
   {
    "duration": 217,
    "start_time": "2025-04-02T17:07:25.907Z"
   },
   {
    "duration": 14,
    "start_time": "2025-04-02T17:07:26.126Z"
   },
   {
    "duration": 33,
    "start_time": "2025-04-02T17:07:26.146Z"
   },
   {
    "duration": 137,
    "start_time": "2025-04-02T17:07:26.181Z"
   },
   {
    "duration": 182,
    "start_time": "2025-04-02T17:07:26.320Z"
   },
   {
    "duration": 245,
    "start_time": "2025-04-02T17:07:26.504Z"
   },
   {
    "duration": 43,
    "start_time": "2025-04-02T17:07:26.751Z"
   },
   {
    "duration": 212,
    "start_time": "2025-04-02T17:07:26.795Z"
   },
   {
    "duration": 70,
    "start_time": "2025-04-02T17:07:27.009Z"
   },
   {
    "duration": 182,
    "start_time": "2025-04-02T17:07:27.081Z"
   },
   {
    "duration": 59,
    "start_time": "2025-04-02T17:07:27.265Z"
   },
   {
    "duration": 256,
    "start_time": "2025-04-02T17:07:27.326Z"
   },
   {
    "duration": 19,
    "start_time": "2025-04-02T17:07:27.584Z"
   },
   {
    "duration": 27,
    "start_time": "2025-04-02T17:07:27.605Z"
   },
   {
    "duration": 47,
    "start_time": "2025-04-02T17:07:27.638Z"
   },
   {
    "duration": 46,
    "start_time": "2025-04-02T17:07:27.687Z"
   },
   {
    "duration": 76,
    "start_time": "2025-04-02T17:07:27.735Z"
   },
   {
    "duration": 909,
    "start_time": "2025-04-02T17:07:27.813Z"
   },
   {
    "duration": 1346,
    "start_time": "2025-04-02T17:07:28.724Z"
   },
   {
    "duration": 82,
    "start_time": "2025-04-02T17:08:04.692Z"
   },
   {
    "duration": 61,
    "start_time": "2025-04-02T17:08:48.190Z"
   },
   {
    "duration": 88,
    "start_time": "2025-04-02T17:08:53.755Z"
   },
   {
    "duration": 67,
    "start_time": "2025-04-02T17:09:04.895Z"
   },
   {
    "duration": 63,
    "start_time": "2025-04-02T17:09:54.164Z"
   },
   {
    "duration": 72,
    "start_time": "2025-04-02T17:09:58.432Z"
   },
   {
    "duration": 1392,
    "start_time": "2025-04-02T17:10:11.067Z"
   },
   {
    "duration": 70,
    "start_time": "2025-04-02T17:10:29.788Z"
   },
   {
    "duration": 20,
    "start_time": "2025-04-02T17:10:33.465Z"
   },
   {
    "duration": 12,
    "start_time": "2025-04-02T17:11:22.604Z"
   },
   {
    "duration": 18,
    "start_time": "2025-04-02T17:11:29.904Z"
   },
   {
    "duration": 18,
    "start_time": "2025-04-02T17:11:38.516Z"
   },
   {
    "duration": 30,
    "start_time": "2025-04-02T17:11:42.620Z"
   },
   {
    "duration": 323,
    "start_time": "2025-04-02T17:13:12.717Z"
   },
   {
    "duration": 20,
    "start_time": "2025-04-02T17:14:49.220Z"
   },
   {
    "duration": 304,
    "start_time": "2025-04-02T17:15:37.100Z"
   },
   {
    "duration": 314,
    "start_time": "2025-04-02T17:16:15.753Z"
   },
   {
    "duration": 328,
    "start_time": "2025-04-02T17:16:22.125Z"
   },
   {
    "duration": 313,
    "start_time": "2025-04-02T17:16:25.987Z"
   },
   {
    "duration": 293,
    "start_time": "2025-04-02T17:16:29.697Z"
   },
   {
    "duration": 337,
    "start_time": "2025-04-02T17:18:14.304Z"
   },
   {
    "duration": 308,
    "start_time": "2025-04-02T17:18:21.740Z"
   },
   {
    "duration": 291,
    "start_time": "2025-04-02T17:18:26.003Z"
   },
   {
    "duration": 1359,
    "start_time": "2025-04-02T17:21:23.050Z"
   },
   {
    "duration": 1237,
    "start_time": "2025-04-02T17:21:41.663Z"
   },
   {
    "duration": 1350,
    "start_time": "2025-04-02T17:21:47.722Z"
   },
   {
    "duration": 1297,
    "start_time": "2025-04-02T17:22:02.820Z"
   },
   {
    "duration": 1281,
    "start_time": "2025-04-02T17:23:39.895Z"
   },
   {
    "duration": 1102,
    "start_time": "2025-04-02T17:23:50.913Z"
   },
   {
    "duration": 1179,
    "start_time": "2025-04-02T17:24:18.231Z"
   },
   {
    "duration": 1277,
    "start_time": "2025-04-02T17:25:09.479Z"
   },
   {
    "duration": 130,
    "start_time": "2025-04-02T17:25:14.804Z"
   },
   {
    "duration": 1119,
    "start_time": "2025-04-02T17:25:17.098Z"
   },
   {
    "duration": 1265,
    "start_time": "2025-04-02T17:25:55.759Z"
   },
   {
    "duration": 1109,
    "start_time": "2025-04-02T17:26:09.894Z"
   },
   {
    "duration": 1285,
    "start_time": "2025-04-02T17:29:47.447Z"
   },
   {
    "duration": 1257,
    "start_time": "2025-04-02T17:30:04.269Z"
   },
   {
    "duration": 1184,
    "start_time": "2025-04-02T17:30:58.890Z"
   },
   {
    "duration": 299,
    "start_time": "2025-04-02T17:31:57.969Z"
   },
   {
    "duration": 309,
    "start_time": "2025-04-02T17:32:03.179Z"
   },
   {
    "duration": 1315,
    "start_time": "2025-04-02T17:32:09.494Z"
   },
   {
    "duration": 1226,
    "start_time": "2025-04-02T17:32:17.288Z"
   },
   {
    "duration": 1135,
    "start_time": "2025-04-02T17:35:09.940Z"
   },
   {
    "duration": 1235,
    "start_time": "2025-04-02T17:35:21.246Z"
   },
   {
    "duration": 1172,
    "start_time": "2025-04-02T17:36:38.978Z"
   },
   {
    "duration": 665,
    "start_time": "2025-04-02T17:50:27.717Z"
   },
   {
    "duration": 558,
    "start_time": "2025-04-02T17:50:41.449Z"
   },
   {
    "duration": 3,
    "start_time": "2025-04-02T17:55:19.145Z"
   },
   {
    "duration": 13,
    "start_time": "2025-04-02T17:56:34.768Z"
   },
   {
    "duration": 26,
    "start_time": "2025-04-02T17:56:38.449Z"
   },
   {
    "duration": 3,
    "start_time": "2025-04-02T18:03:56.021Z"
   },
   {
    "duration": 5,
    "start_time": "2025-04-02T18:04:00.798Z"
   },
   {
    "duration": 109,
    "start_time": "2025-04-02T18:04:05.428Z"
   },
   {
    "duration": 91,
    "start_time": "2025-04-02T18:04:08.712Z"
   },
   {
    "duration": 4,
    "start_time": "2025-04-02T18:04:24.776Z"
   },
   {
    "duration": 83,
    "start_time": "2025-04-02T18:04:31.316Z"
   },
   {
    "duration": 78,
    "start_time": "2025-04-02T18:04:41.249Z"
   },
   {
    "duration": 384,
    "start_time": "2025-04-02T18:04:44.133Z"
   },
   {
    "duration": 101,
    "start_time": "2025-04-02T18:05:36.270Z"
   },
   {
    "duration": 83,
    "start_time": "2025-04-02T18:06:54.852Z"
   },
   {
    "duration": 80,
    "start_time": "2025-04-02T18:07:23.271Z"
   },
   {
    "duration": 96,
    "start_time": "2025-04-02T18:08:35.298Z"
   },
   {
    "duration": 80,
    "start_time": "2025-04-02T18:09:14.231Z"
   },
   {
    "duration": 88,
    "start_time": "2025-04-02T18:09:22.288Z"
   },
   {
    "duration": 115,
    "start_time": "2025-04-02T18:09:31.948Z"
   },
   {
    "duration": 88,
    "start_time": "2025-04-02T18:10:46.145Z"
   },
   {
    "duration": 172,
    "start_time": "2025-04-02T18:11:19.293Z"
   },
   {
    "duration": 83,
    "start_time": "2025-04-02T18:11:37.241Z"
   },
   {
    "duration": 9,
    "start_time": "2025-04-02T18:11:53.710Z"
   },
   {
    "duration": 22,
    "start_time": "2025-04-02T18:11:58.634Z"
   },
   {
    "duration": 498,
    "start_time": "2025-04-02T18:12:32.012Z"
   },
   {
    "duration": 23,
    "start_time": "2025-04-02T18:13:54.500Z"
   },
   {
    "duration": 5138,
    "start_time": "2025-04-02T18:19:34.387Z"
   },
   {
    "duration": 1205,
    "start_time": "2025-04-02T18:20:37.155Z"
   },
   {
    "duration": 1209,
    "start_time": "2025-04-02T18:20:38.362Z"
   },
   {
    "duration": 20,
    "start_time": "2025-04-02T18:20:39.572Z"
   },
   {
    "duration": 99,
    "start_time": "2025-04-02T18:20:39.594Z"
   },
   {
    "duration": 11,
    "start_time": "2025-04-02T18:20:39.695Z"
   },
   {
    "duration": 39,
    "start_time": "2025-04-02T18:20:39.708Z"
   },
   {
    "duration": 8,
    "start_time": "2025-04-02T18:20:39.749Z"
   },
   {
    "duration": 11,
    "start_time": "2025-04-02T18:20:39.758Z"
   },
   {
    "duration": 684,
    "start_time": "2025-04-02T18:20:39.771Z"
   },
   {
    "duration": 748,
    "start_time": "2025-04-02T18:20:40.457Z"
   },
   {
    "duration": 189,
    "start_time": "2025-04-02T18:20:41.207Z"
   },
   {
    "duration": 712,
    "start_time": "2025-04-02T18:20:41.398Z"
   },
   {
    "duration": 202,
    "start_time": "2025-04-02T18:20:42.111Z"
   },
   {
    "duration": 73,
    "start_time": "2025-04-02T18:20:42.316Z"
   },
   {
    "duration": 189,
    "start_time": "2025-04-02T18:20:42.391Z"
   },
   {
    "duration": 5331,
    "start_time": "2025-04-02T18:20:42.582Z"
   },
   {
    "duration": 249,
    "start_time": "2025-04-02T18:20:47.914Z"
   },
   {
    "duration": 22,
    "start_time": "2025-04-02T18:20:48.165Z"
   },
   {
    "duration": 26,
    "start_time": "2025-04-02T18:20:48.189Z"
   },
   {
    "duration": 29,
    "start_time": "2025-04-02T18:20:48.238Z"
   },
   {
    "duration": 93,
    "start_time": "2025-04-02T18:20:48.268Z"
   },
   {
    "duration": 493,
    "start_time": "2025-04-02T18:20:48.363Z"
   },
   {
    "duration": 56,
    "start_time": "2025-04-02T18:20:48.857Z"
   },
   {
    "duration": 37,
    "start_time": "2025-04-02T18:20:48.915Z"
   },
   {
    "duration": 615,
    "start_time": "2025-04-02T18:20:48.954Z"
   },
   {
    "duration": 94,
    "start_time": "2025-04-02T18:20:49.572Z"
   },
   {
    "duration": 336,
    "start_time": "2025-04-02T18:20:49.668Z"
   },
   {
    "duration": 6036,
    "start_time": "2025-04-02T18:20:50.010Z"
   },
   {
    "duration": 180,
    "start_time": "2025-04-02T18:20:56.048Z"
   },
   {
    "duration": 201,
    "start_time": "2025-04-02T18:20:56.230Z"
   },
   {
    "duration": 6,
    "start_time": "2025-04-02T18:20:56.433Z"
   },
   {
    "duration": 25,
    "start_time": "2025-04-02T18:20:56.441Z"
   },
   {
    "duration": 146,
    "start_time": "2025-04-02T18:20:56.468Z"
   },
   {
    "duration": 170,
    "start_time": "2025-04-02T18:20:56.616Z"
   },
   {
    "duration": 233,
    "start_time": "2025-04-02T18:20:56.787Z"
   },
   {
    "duration": 45,
    "start_time": "2025-04-02T18:20:57.022Z"
   },
   {
    "duration": 194,
    "start_time": "2025-04-02T18:20:57.069Z"
   },
   {
    "duration": 55,
    "start_time": "2025-04-02T18:20:57.265Z"
   },
   {
    "duration": 179,
    "start_time": "2025-04-02T18:20:57.322Z"
   },
   {
    "duration": 68,
    "start_time": "2025-04-02T18:20:57.503Z"
   },
   {
    "duration": 235,
    "start_time": "2025-04-02T18:20:57.573Z"
   },
   {
    "duration": 32,
    "start_time": "2025-04-02T18:20:57.810Z"
   },
   {
    "duration": 11,
    "start_time": "2025-04-02T18:20:57.844Z"
   },
   {
    "duration": 31,
    "start_time": "2025-04-02T18:20:57.858Z"
   },
   {
    "duration": 69,
    "start_time": "2025-04-02T18:20:57.891Z"
   },
   {
    "duration": 76,
    "start_time": "2025-04-02T18:20:57.962Z"
   },
   {
    "duration": 678,
    "start_time": "2025-04-02T18:20:58.040Z"
   },
   {
    "duration": 0,
    "start_time": "2025-04-02T18:20:58.720Z"
   },
   {
    "duration": 0,
    "start_time": "2025-04-02T18:20:58.721Z"
   },
   {
    "duration": 0,
    "start_time": "2025-04-02T18:20:58.722Z"
   },
   {
    "duration": 1117,
    "start_time": "2025-04-02T18:22:04.620Z"
   },
   {
    "duration": 13,
    "start_time": "2025-04-02T18:22:08.308Z"
   },
   {
    "duration": 4248,
    "start_time": "2025-04-02T18:22:20.515Z"
   },
   {
    "duration": 3772,
    "start_time": "2025-04-02T18:22:44.858Z"
   },
   {
    "duration": 4066,
    "start_time": "2025-04-02T18:24:09.611Z"
   },
   {
    "duration": 1262,
    "start_time": "2025-04-02T18:24:28.419Z"
   },
   {
    "duration": 1256,
    "start_time": "2025-04-02T18:24:29.683Z"
   },
   {
    "duration": 19,
    "start_time": "2025-04-02T18:24:30.940Z"
   },
   {
    "duration": 120,
    "start_time": "2025-04-02T18:24:30.962Z"
   },
   {
    "duration": 12,
    "start_time": "2025-04-02T18:24:31.084Z"
   },
   {
    "duration": 34,
    "start_time": "2025-04-02T18:24:31.098Z"
   },
   {
    "duration": 12,
    "start_time": "2025-04-02T18:24:31.137Z"
   },
   {
    "duration": 15,
    "start_time": "2025-04-02T18:24:31.151Z"
   },
   {
    "duration": 688,
    "start_time": "2025-04-02T18:24:31.168Z"
   },
   {
    "duration": 772,
    "start_time": "2025-04-02T18:24:31.859Z"
   },
   {
    "duration": 205,
    "start_time": "2025-04-02T18:24:32.633Z"
   },
   {
    "duration": 738,
    "start_time": "2025-04-02T18:24:32.840Z"
   },
   {
    "duration": 196,
    "start_time": "2025-04-02T18:24:33.580Z"
   },
   {
    "duration": 70,
    "start_time": "2025-04-02T18:24:33.778Z"
   },
   {
    "duration": 197,
    "start_time": "2025-04-02T18:24:33.849Z"
   },
   {
    "duration": 5362,
    "start_time": "2025-04-02T18:24:34.048Z"
   },
   {
    "duration": 244,
    "start_time": "2025-04-02T18:24:39.411Z"
   },
   {
    "duration": 23,
    "start_time": "2025-04-02T18:24:39.657Z"
   },
   {
    "duration": 26,
    "start_time": "2025-04-02T18:24:39.682Z"
   },
   {
    "duration": 52,
    "start_time": "2025-04-02T18:24:39.710Z"
   },
   {
    "duration": 29,
    "start_time": "2025-04-02T18:24:39.764Z"
   },
   {
    "duration": 463,
    "start_time": "2025-04-02T18:24:39.795Z"
   },
   {
    "duration": 47,
    "start_time": "2025-04-02T18:24:40.260Z"
   },
   {
    "duration": 88,
    "start_time": "2025-04-02T18:24:40.309Z"
   },
   {
    "duration": 527,
    "start_time": "2025-04-02T18:24:40.399Z"
   },
   {
    "duration": 88,
    "start_time": "2025-04-02T18:24:40.928Z"
   },
   {
    "duration": 337,
    "start_time": "2025-04-02T18:24:41.018Z"
   },
   {
    "duration": 6044,
    "start_time": "2025-04-02T18:24:41.359Z"
   },
   {
    "duration": 177,
    "start_time": "2025-04-02T18:24:47.405Z"
   },
   {
    "duration": 221,
    "start_time": "2025-04-02T18:24:47.584Z"
   },
   {
    "duration": 4,
    "start_time": "2025-04-02T18:24:47.807Z"
   },
   {
    "duration": 43,
    "start_time": "2025-04-02T18:24:47.812Z"
   },
   {
    "duration": 136,
    "start_time": "2025-04-02T18:24:47.857Z"
   },
   {
    "duration": 161,
    "start_time": "2025-04-02T18:24:47.995Z"
   },
   {
    "duration": 235,
    "start_time": "2025-04-02T18:24:48.157Z"
   },
   {
    "duration": 53,
    "start_time": "2025-04-02T18:24:48.394Z"
   },
   {
    "duration": 211,
    "start_time": "2025-04-02T18:24:48.449Z"
   },
   {
    "duration": 57,
    "start_time": "2025-04-02T18:24:48.662Z"
   },
   {
    "duration": 184,
    "start_time": "2025-04-02T18:24:48.721Z"
   },
   {
    "duration": 67,
    "start_time": "2025-04-02T18:24:48.906Z"
   },
   {
    "duration": 241,
    "start_time": "2025-04-02T18:24:48.975Z"
   },
   {
    "duration": 24,
    "start_time": "2025-04-02T18:24:49.219Z"
   },
   {
    "duration": 11,
    "start_time": "2025-04-02T18:24:49.245Z"
   },
   {
    "duration": 43,
    "start_time": "2025-04-02T18:24:49.258Z"
   },
   {
    "duration": 78,
    "start_time": "2025-04-02T18:24:49.303Z"
   },
   {
    "duration": 80,
    "start_time": "2025-04-02T18:24:49.382Z"
   },
   {
    "duration": 1063,
    "start_time": "2025-04-02T18:24:49.463Z"
   },
   {
    "duration": 4182,
    "start_time": "2025-04-02T18:24:50.527Z"
   },
   {
    "duration": 146,
    "start_time": "2025-04-02T18:24:54.711Z"
   },
   {
    "duration": 80,
    "start_time": "2025-04-02T18:25:37.546Z"
   },
   {
    "duration": 80,
    "start_time": "2025-04-02T18:25:48.444Z"
   },
   {
    "duration": 1234,
    "start_time": "2025-04-02T18:25:54.737Z"
   },
   {
    "duration": 939,
    "start_time": "2025-04-02T18:25:55.973Z"
   },
   {
    "duration": 19,
    "start_time": "2025-04-02T18:25:56.914Z"
   },
   {
    "duration": 104,
    "start_time": "2025-04-02T18:25:56.936Z"
   },
   {
    "duration": 12,
    "start_time": "2025-04-02T18:25:57.042Z"
   },
   {
    "duration": 30,
    "start_time": "2025-04-02T18:25:57.056Z"
   },
   {
    "duration": 9,
    "start_time": "2025-04-02T18:25:57.088Z"
   },
   {
    "duration": 14,
    "start_time": "2025-04-02T18:25:57.098Z"
   },
   {
    "duration": 696,
    "start_time": "2025-04-02T18:25:57.114Z"
   },
   {
    "duration": 755,
    "start_time": "2025-04-02T18:25:57.812Z"
   },
   {
    "duration": 194,
    "start_time": "2025-04-02T18:25:58.569Z"
   },
   {
    "duration": 722,
    "start_time": "2025-04-02T18:25:58.765Z"
   },
   {
    "duration": 201,
    "start_time": "2025-04-02T18:25:59.489Z"
   },
   {
    "duration": 76,
    "start_time": "2025-04-02T18:25:59.692Z"
   },
   {
    "duration": 194,
    "start_time": "2025-04-02T18:25:59.769Z"
   },
   {
    "duration": 5461,
    "start_time": "2025-04-02T18:25:59.965Z"
   },
   {
    "duration": 255,
    "start_time": "2025-04-02T18:26:05.428Z"
   },
   {
    "duration": 26,
    "start_time": "2025-04-02T18:26:05.684Z"
   },
   {
    "duration": 53,
    "start_time": "2025-04-02T18:26:05.711Z"
   },
   {
    "duration": 30,
    "start_time": "2025-04-02T18:26:05.766Z"
   },
   {
    "duration": 49,
    "start_time": "2025-04-02T18:26:05.798Z"
   },
   {
    "duration": 443,
    "start_time": "2025-04-02T18:26:05.849Z"
   },
   {
    "duration": 54,
    "start_time": "2025-04-02T18:26:06.294Z"
   },
   {
    "duration": 93,
    "start_time": "2025-04-02T18:26:06.350Z"
   },
   {
    "duration": 531,
    "start_time": "2025-04-02T18:26:06.445Z"
   },
   {
    "duration": 96,
    "start_time": "2025-04-02T18:26:06.978Z"
   },
   {
    "duration": 326,
    "start_time": "2025-04-02T18:26:07.075Z"
   },
   {
    "duration": 5824,
    "start_time": "2025-04-02T18:26:07.405Z"
   },
   {
    "duration": 164,
    "start_time": "2025-04-02T18:26:13.231Z"
   },
   {
    "duration": 205,
    "start_time": "2025-04-02T18:26:13.396Z"
   },
   {
    "duration": 3,
    "start_time": "2025-04-02T18:26:13.603Z"
   },
   {
    "duration": 35,
    "start_time": "2025-04-02T18:26:13.608Z"
   },
   {
    "duration": 125,
    "start_time": "2025-04-02T18:26:13.645Z"
   },
   {
    "duration": 162,
    "start_time": "2025-04-02T18:26:13.771Z"
   },
   {
    "duration": 229,
    "start_time": "2025-04-02T18:26:13.935Z"
   },
   {
    "duration": 51,
    "start_time": "2025-04-02T18:26:14.166Z"
   },
   {
    "duration": 196,
    "start_time": "2025-04-02T18:26:14.219Z"
   },
   {
    "duration": 65,
    "start_time": "2025-04-02T18:26:14.417Z"
   },
   {
    "duration": 173,
    "start_time": "2025-04-02T18:26:14.483Z"
   },
   {
    "duration": 91,
    "start_time": "2025-04-02T18:26:14.658Z"
   },
   {
    "duration": 255,
    "start_time": "2025-04-02T18:26:14.751Z"
   },
   {
    "duration": 30,
    "start_time": "2025-04-02T18:26:15.008Z"
   },
   {
    "duration": 76,
    "start_time": "2025-04-02T18:26:15.040Z"
   },
   {
    "duration": 52,
    "start_time": "2025-04-02T18:26:15.118Z"
   },
   {
    "duration": 46,
    "start_time": "2025-04-02T18:26:15.172Z"
   },
   {
    "duration": 83,
    "start_time": "2025-04-02T18:26:15.220Z"
   },
   {
    "duration": 1093,
    "start_time": "2025-04-02T18:26:15.306Z"
   },
   {
    "duration": 119,
    "start_time": "2025-04-02T18:26:16.401Z"
   },
   {
    "duration": 108,
    "start_time": "2025-04-02T18:26:16.522Z"
   },
   {
    "duration": 72,
    "start_time": "2025-04-02T18:28:43.350Z"
   },
   {
    "duration": 134,
    "start_time": "2025-04-02T18:29:04.097Z"
   },
   {
    "duration": 77,
    "start_time": "2025-04-02T18:29:17.285Z"
   },
   {
    "duration": 9,
    "start_time": "2025-04-02T18:30:28.487Z"
   },
   {
    "duration": 44,
    "start_time": "2025-04-02T18:30:34.964Z"
   },
   {
    "duration": 76,
    "start_time": "2025-04-02T18:30:39.141Z"
   },
   {
    "duration": 46,
    "start_time": "2025-04-02T18:30:41.502Z"
   },
   {
    "duration": 46,
    "start_time": "2025-04-02T18:30:56.685Z"
   },
   {
    "duration": 51,
    "start_time": "2025-04-02T18:31:00.721Z"
   },
   {
    "duration": 1597,
    "start_time": "2025-04-02T18:33:32.482Z"
   },
   {
    "duration": 384,
    "start_time": "2025-04-02T18:33:47.079Z"
   },
   {
    "duration": 417,
    "start_time": "2025-04-02T18:34:02.695Z"
   },
   {
    "duration": 375,
    "start_time": "2025-04-02T18:34:15.018Z"
   },
   {
    "duration": 369,
    "start_time": "2025-04-02T18:34:20.636Z"
   },
   {
    "duration": 374,
    "start_time": "2025-04-02T18:34:48.911Z"
   },
   {
    "duration": 386,
    "start_time": "2025-04-02T18:34:59.658Z"
   },
   {
    "duration": 387,
    "start_time": "2025-04-02T18:35:03.328Z"
   },
   {
    "duration": 368,
    "start_time": "2025-04-02T18:35:28.020Z"
   },
   {
    "duration": 522,
    "start_time": "2025-04-02T18:36:22.954Z"
   },
   {
    "duration": 376,
    "start_time": "2025-04-02T18:36:31.035Z"
   },
   {
    "duration": 58,
    "start_time": "2025-04-02T18:41:29.326Z"
   },
   {
    "duration": 49,
    "start_time": "2025-04-02T18:41:43.589Z"
   },
   {
    "duration": 59,
    "start_time": "2025-04-02T18:41:56.256Z"
   },
   {
    "duration": 457,
    "start_time": "2025-04-02T18:42:04.122Z"
   },
   {
    "duration": 419,
    "start_time": "2025-04-02T18:42:18.051Z"
   },
   {
    "duration": 505,
    "start_time": "2025-04-02T18:42:27.934Z"
   },
   {
    "duration": 402,
    "start_time": "2025-04-02T18:42:33.005Z"
   },
   {
    "duration": 444,
    "start_time": "2025-04-02T18:42:42.529Z"
   },
   {
    "duration": 11,
    "start_time": "2025-04-02T18:43:06.757Z"
   },
   {
    "duration": 56,
    "start_time": "2025-04-02T18:43:22.815Z"
   },
   {
    "duration": 59,
    "start_time": "2025-04-02T18:43:28.871Z"
   },
   {
    "duration": 1307,
    "start_time": "2025-04-02T18:48:04.792Z"
   },
   {
    "duration": 61,
    "start_time": "2025-04-02T18:48:33.786Z"
   },
   {
    "duration": 63,
    "start_time": "2025-04-02T18:48:44.590Z"
   },
   {
    "duration": 63,
    "start_time": "2025-04-02T18:49:11.108Z"
   },
   {
    "duration": 466,
    "start_time": "2025-04-02T18:49:22.206Z"
   },
   {
    "duration": 457,
    "start_time": "2025-04-02T18:54:29.261Z"
   },
   {
    "duration": 595,
    "start_time": "2025-04-02T18:54:35.848Z"
   },
   {
    "duration": 1011,
    "start_time": "2025-04-02T19:34:37.674Z"
   },
   {
    "duration": 71,
    "start_time": "2025-04-02T19:37:02.183Z"
   },
   {
    "duration": 560,
    "start_time": "2025-04-02T19:37:35.849Z"
   },
   {
    "duration": 441,
    "start_time": "2025-04-02T19:37:46.922Z"
   },
   {
    "duration": 245,
    "start_time": "2025-04-02T19:42:05.515Z"
   },
   {
    "duration": 93,
    "start_time": "2025-04-02T19:42:49.609Z"
   },
   {
    "duration": 31,
    "start_time": "2025-04-02T19:43:03.898Z"
   },
   {
    "duration": 155,
    "start_time": "2025-04-02T19:52:43.259Z"
   },
   {
    "duration": 218,
    "start_time": "2025-04-02T19:53:15.184Z"
   },
   {
    "duration": 64,
    "start_time": "2025-04-02T19:56:53.465Z"
   },
   {
    "duration": 68,
    "start_time": "2025-04-02T19:56:56.708Z"
   },
   {
    "duration": 63,
    "start_time": "2025-04-02T19:58:45.834Z"
   },
   {
    "duration": 70,
    "start_time": "2025-04-02T19:58:49.542Z"
   },
   {
    "duration": 4,
    "start_time": "2025-04-02T19:59:08.704Z"
   },
   {
    "duration": 69,
    "start_time": "2025-04-02T19:59:25.588Z"
   },
   {
    "duration": 70,
    "start_time": "2025-04-02T19:59:31.979Z"
   },
   {
    "duration": 71,
    "start_time": "2025-04-02T19:59:35.983Z"
   },
   {
    "duration": 71,
    "start_time": "2025-04-02T19:59:43.587Z"
   },
   {
    "duration": 67,
    "start_time": "2025-04-02T20:00:43.303Z"
   },
   {
    "duration": 71,
    "start_time": "2025-04-02T20:00:46.470Z"
   },
   {
    "duration": 6,
    "start_time": "2025-04-02T20:04:53.257Z"
   },
   {
    "duration": 6,
    "start_time": "2025-04-02T20:06:10.128Z"
   },
   {
    "duration": 92,
    "start_time": "2025-04-02T20:09:01.056Z"
   },
   {
    "duration": 10,
    "start_time": "2025-04-02T20:10:04.388Z"
   },
   {
    "duration": 11,
    "start_time": "2025-04-02T20:10:15.950Z"
   },
   {
    "duration": 75,
    "start_time": "2025-04-02T20:10:41.755Z"
   },
   {
    "duration": 87,
    "start_time": "2025-04-02T20:12:01.679Z"
   },
   {
    "duration": 87,
    "start_time": "2025-04-02T20:15:38.189Z"
   },
   {
    "duration": 89,
    "start_time": "2025-04-02T20:15:44.827Z"
   },
   {
    "duration": 86,
    "start_time": "2025-04-02T20:16:31.679Z"
   },
   {
    "duration": 3,
    "start_time": "2025-04-02T20:18:23.173Z"
   },
   {
    "duration": 13,
    "start_time": "2025-04-02T20:18:29.548Z"
   },
   {
    "duration": 10,
    "start_time": "2025-04-02T20:18:40.016Z"
   },
   {
    "duration": 12,
    "start_time": "2025-04-02T20:19:15.191Z"
   },
   {
    "duration": 227,
    "start_time": "2025-04-02T20:48:29.413Z"
   },
   {
    "duration": 280,
    "start_time": "2025-04-02T20:48:51.408Z"
   },
   {
    "duration": 212,
    "start_time": "2025-04-02T20:49:09.120Z"
   },
   {
    "duration": 232,
    "start_time": "2025-04-02T20:49:23.982Z"
   },
   {
    "duration": 121,
    "start_time": "2025-04-02T20:49:30.678Z"
   },
   {
    "duration": 123,
    "start_time": "2025-04-02T20:49:33.309Z"
   },
   {
    "duration": 178,
    "start_time": "2025-04-02T20:49:37.801Z"
   },
   {
    "duration": 158,
    "start_time": "2025-04-02T20:49:42.331Z"
   },
   {
    "duration": 1087,
    "start_time": "2025-04-02T20:49:50.774Z"
   },
   {
    "duration": 1220,
    "start_time": "2025-04-02T20:49:54.579Z"
   },
   {
    "duration": 1094,
    "start_time": "2025-04-02T20:49:56.121Z"
   },
   {
    "duration": 1226,
    "start_time": "2025-04-02T20:49:57.947Z"
   },
   {
    "duration": 128,
    "start_time": "2025-04-02T20:50:18.684Z"
   },
   {
    "duration": 136,
    "start_time": "2025-04-02T20:50:40.720Z"
   },
   {
    "duration": 122,
    "start_time": "2025-04-02T20:50:47.206Z"
   },
   {
    "duration": 121,
    "start_time": "2025-04-02T20:50:52.554Z"
   },
   {
    "duration": 6,
    "start_time": "2025-04-02T21:20:01.255Z"
   },
   {
    "duration": 19,
    "start_time": "2025-04-02T21:20:08.960Z"
   },
   {
    "duration": 44,
    "start_time": "2025-04-02T21:50:10.070Z"
   },
   {
    "duration": 47,
    "start_time": "2025-04-02T21:50:12.484Z"
   },
   {
    "duration": 83,
    "start_time": "2025-04-02T21:51:54.446Z"
   },
   {
    "duration": 84,
    "start_time": "2025-04-02T21:51:58.007Z"
   },
   {
    "duration": 87,
    "start_time": "2025-04-02T21:53:02.937Z"
   },
   {
    "duration": 100,
    "start_time": "2025-04-02T21:53:07.028Z"
   },
   {
    "duration": 205,
    "start_time": "2025-04-02T22:01:19.583Z"
   },
   {
    "duration": 62,
    "start_time": "2025-04-02T22:06:09.708Z"
   },
   {
    "duration": 86,
    "start_time": "2025-04-02T22:07:34.580Z"
   },
   {
    "duration": 80,
    "start_time": "2025-04-02T22:07:45.963Z"
   },
   {
    "duration": 89,
    "start_time": "2025-04-02T22:07:52.817Z"
   },
   {
    "duration": 229,
    "start_time": "2025-04-02T22:11:30.804Z"
   },
   {
    "duration": 80,
    "start_time": "2025-04-02T22:13:54.434Z"
   },
   {
    "duration": 89,
    "start_time": "2025-04-02T22:14:01.807Z"
   },
   {
    "duration": 270,
    "start_time": "2025-04-02T22:14:07.823Z"
   },
   {
    "duration": 161,
    "start_time": "2025-04-02T22:15:20.793Z"
   },
   {
    "duration": 106,
    "start_time": "2025-04-02T22:16:23.162Z"
   },
   {
    "duration": 144,
    "start_time": "2025-04-02T22:18:34.554Z"
   },
   {
    "duration": 134,
    "start_time": "2025-04-02T22:18:51.088Z"
   },
   {
    "duration": 142,
    "start_time": "2025-04-02T22:18:58.074Z"
   },
   {
    "duration": 138,
    "start_time": "2025-04-02T22:19:06.266Z"
   },
   {
    "duration": 147,
    "start_time": "2025-04-02T22:19:25.792Z"
   },
   {
    "duration": 171,
    "start_time": "2025-04-02T22:21:35.728Z"
   },
   {
    "duration": 49,
    "start_time": "2025-04-03T13:12:28.977Z"
   },
   {
    "duration": 1318,
    "start_time": "2025-04-03T13:12:33.094Z"
   },
   {
    "duration": 995,
    "start_time": "2025-04-03T13:12:34.414Z"
   },
   {
    "duration": 17,
    "start_time": "2025-04-03T13:12:35.411Z"
   },
   {
    "duration": 112,
    "start_time": "2025-04-03T13:12:35.430Z"
   },
   {
    "duration": 12,
    "start_time": "2025-04-03T13:12:35.543Z"
   },
   {
    "duration": 97,
    "start_time": "2025-04-03T13:12:35.556Z"
   },
   {
    "duration": 33,
    "start_time": "2025-04-03T13:12:35.654Z"
   },
   {
    "duration": 127,
    "start_time": "2025-04-03T13:12:35.689Z"
   },
   {
    "duration": 697,
    "start_time": "2025-04-03T13:12:35.818Z"
   },
   {
    "duration": 745,
    "start_time": "2025-04-03T13:12:36.517Z"
   },
   {
    "duration": 178,
    "start_time": "2025-04-03T13:12:37.264Z"
   },
   {
    "duration": 686,
    "start_time": "2025-04-03T13:12:37.444Z"
   },
   {
    "duration": 194,
    "start_time": "2025-04-03T13:12:38.132Z"
   },
   {
    "duration": 62,
    "start_time": "2025-04-03T13:12:38.328Z"
   },
   {
    "duration": 220,
    "start_time": "2025-04-03T13:12:38.392Z"
   },
   {
    "duration": 5329,
    "start_time": "2025-04-03T13:12:38.613Z"
   },
   {
    "duration": 237,
    "start_time": "2025-04-03T13:12:43.943Z"
   },
   {
    "duration": 21,
    "start_time": "2025-04-03T13:12:44.182Z"
   },
   {
    "duration": 24,
    "start_time": "2025-04-03T13:12:44.205Z"
   },
   {
    "duration": 49,
    "start_time": "2025-04-03T13:12:44.231Z"
   },
   {
    "duration": 26,
    "start_time": "2025-04-03T13:12:44.282Z"
   },
   {
    "duration": 422,
    "start_time": "2025-04-03T13:12:44.310Z"
   },
   {
    "duration": 51,
    "start_time": "2025-04-03T13:12:44.733Z"
   },
   {
    "duration": 18,
    "start_time": "2025-04-03T13:12:44.785Z"
   },
   {
    "duration": 524,
    "start_time": "2025-04-03T13:12:44.804Z"
   },
   {
    "duration": 96,
    "start_time": "2025-04-03T13:12:45.330Z"
   },
   {
    "duration": 306,
    "start_time": "2025-04-03T13:12:45.428Z"
   },
   {
    "duration": 5799,
    "start_time": "2025-04-03T13:12:45.738Z"
   },
   {
    "duration": 170,
    "start_time": "2025-04-03T13:12:51.539Z"
   },
   {
    "duration": 202,
    "start_time": "2025-04-03T13:12:51.711Z"
   },
   {
    "duration": 4,
    "start_time": "2025-04-03T13:12:51.914Z"
   },
   {
    "duration": 40,
    "start_time": "2025-04-03T13:12:51.919Z"
   },
   {
    "duration": 154,
    "start_time": "2025-04-03T13:12:51.961Z"
   },
   {
    "duration": 160,
    "start_time": "2025-04-03T13:12:52.116Z"
   },
   {
    "duration": 212,
    "start_time": "2025-04-03T13:12:52.278Z"
   },
   {
    "duration": 37,
    "start_time": "2025-04-03T13:12:52.492Z"
   },
   {
    "duration": 181,
    "start_time": "2025-04-03T13:12:52.531Z"
   },
   {
    "duration": 51,
    "start_time": "2025-04-03T13:12:52.714Z"
   },
   {
    "duration": 165,
    "start_time": "2025-04-03T13:12:52.767Z"
   },
   {
    "duration": 62,
    "start_time": "2025-04-03T13:12:52.934Z"
   },
   {
    "duration": 217,
    "start_time": "2025-04-03T13:12:52.997Z"
   },
   {
    "duration": 19,
    "start_time": "2025-04-03T13:12:53.215Z"
   },
   {
    "duration": 50,
    "start_time": "2025-04-03T13:12:53.235Z"
   },
   {
    "duration": 33,
    "start_time": "2025-04-03T13:12:53.287Z"
   },
   {
    "duration": 67,
    "start_time": "2025-04-03T13:12:53.321Z"
   },
   {
    "duration": 61,
    "start_time": "2025-04-03T13:12:53.390Z"
   },
   {
    "duration": 1023,
    "start_time": "2025-04-03T13:12:53.453Z"
   },
   {
    "duration": 119,
    "start_time": "2025-04-03T13:12:54.478Z"
   },
   {
    "duration": 54,
    "start_time": "2025-04-03T13:12:54.599Z"
   },
   {
    "duration": 417,
    "start_time": "2025-04-03T13:12:54.654Z"
   },
   {
    "duration": 73,
    "start_time": "2025-04-03T13:12:55.074Z"
   },
   {
    "duration": 8,
    "start_time": "2025-04-03T13:12:55.149Z"
   },
   {
    "duration": 96,
    "start_time": "2025-04-03T13:12:55.158Z"
   },
   {
    "duration": 24,
    "start_time": "2025-04-03T13:12:55.256Z"
   },
   {
    "duration": 36,
    "start_time": "2025-04-03T13:12:55.281Z"
   },
   {
    "duration": 165,
    "start_time": "2025-04-03T13:12:55.318Z"
   },
   {
    "duration": 126,
    "start_time": "2025-04-03T13:12:55.485Z"
   },
   {
    "duration": 93,
    "start_time": "2025-04-03T13:12:55.613Z"
   },
   {
    "duration": 118,
    "start_time": "2025-04-03T13:20:08.128Z"
   },
   {
    "duration": 127,
    "start_time": "2025-04-03T13:21:02.118Z"
   },
   {
    "duration": 120,
    "start_time": "2025-04-03T13:21:12.452Z"
   },
   {
    "duration": 125,
    "start_time": "2025-04-03T13:21:24.431Z"
   },
   {
    "duration": 128,
    "start_time": "2025-04-03T13:21:48.992Z"
   },
   {
    "duration": 121,
    "start_time": "2025-04-03T13:21:57.886Z"
   },
   {
    "duration": 8,
    "start_time": "2025-04-03T13:25:13.095Z"
   },
   {
    "duration": 161,
    "start_time": "2025-04-03T13:30:47.150Z"
   },
   {
    "duration": 77,
    "start_time": "2025-04-03T13:40:36.720Z"
   },
   {
    "duration": 8,
    "start_time": "2025-04-03T13:40:40.212Z"
   },
   {
    "duration": 93,
    "start_time": "2025-04-03T13:42:14.598Z"
   },
   {
    "duration": 85,
    "start_time": "2025-04-03T13:45:32.634Z"
   },
   {
    "duration": 112,
    "start_time": "2025-04-03T13:45:45.868Z"
   },
   {
    "duration": 6,
    "start_time": "2025-04-03T13:45:51.678Z"
   },
   {
    "duration": 10,
    "start_time": "2025-04-03T13:46:21.521Z"
   },
   {
    "duration": 6,
    "start_time": "2025-04-03T13:46:24.366Z"
   },
   {
    "duration": 7,
    "start_time": "2025-04-03T13:49:54.302Z"
   },
   {
    "duration": 12,
    "start_time": "2025-04-03T13:49:58.477Z"
   },
   {
    "duration": 3,
    "start_time": "2025-04-03T13:50:45.709Z"
   },
   {
    "duration": 11,
    "start_time": "2025-04-03T13:50:50.656Z"
   },
   {
    "duration": 11,
    "start_time": "2025-04-03T13:50:56.955Z"
   },
   {
    "duration": 357,
    "start_time": "2025-04-03T13:51:26.577Z"
   },
   {
    "duration": 12,
    "start_time": "2025-04-03T13:51:31.479Z"
   },
   {
    "duration": 8,
    "start_time": "2025-04-03T13:59:46.506Z"
   },
   {
    "duration": 81,
    "start_time": "2025-04-03T14:00:06.253Z"
   },
   {
    "duration": 81,
    "start_time": "2025-04-03T14:01:10.049Z"
   },
   {
    "duration": 11,
    "start_time": "2025-04-03T14:11:55.048Z"
   },
   {
    "duration": 7,
    "start_time": "2025-04-03T14:12:49.363Z"
   },
   {
    "duration": 8,
    "start_time": "2025-04-03T14:12:56.440Z"
   },
   {
    "duration": 10,
    "start_time": "2025-04-03T14:25:21.472Z"
   },
   {
    "duration": 3,
    "start_time": "2025-04-03T14:25:44.137Z"
   },
   {
    "duration": 16,
    "start_time": "2025-04-03T14:25:53.888Z"
   },
   {
    "duration": 3,
    "start_time": "2025-04-03T14:45:36.390Z"
   },
   {
    "duration": 4,
    "start_time": "2025-04-03T14:47:05.250Z"
   },
   {
    "duration": 4,
    "start_time": "2025-04-03T14:47:29.734Z"
   },
   {
    "duration": 8,
    "start_time": "2025-04-03T14:50:18.978Z"
   },
   {
    "duration": 10,
    "start_time": "2025-04-03T14:50:21.187Z"
   },
   {
    "duration": 15,
    "start_time": "2025-04-03T14:52:32.956Z"
   },
   {
    "duration": 16,
    "start_time": "2025-04-03T14:52:53.066Z"
   },
   {
    "duration": 17,
    "start_time": "2025-04-03T14:53:25.866Z"
   },
   {
    "duration": 16,
    "start_time": "2025-04-03T14:53:35.019Z"
   },
   {
    "duration": 85,
    "start_time": "2025-04-03T14:58:41.307Z"
   },
   {
    "duration": 26,
    "start_time": "2025-04-03T15:04:21.508Z"
   },
   {
    "duration": 128,
    "start_time": "2025-04-03T15:04:43.023Z"
   },
   {
    "duration": 9,
    "start_time": "2025-04-03T15:13:27.119Z"
   },
   {
    "duration": 63,
    "start_time": "2025-04-03T15:13:29.257Z"
   },
   {
    "duration": 66,
    "start_time": "2025-04-03T15:13:59.117Z"
   },
   {
    "duration": 62,
    "start_time": "2025-04-03T15:14:50.625Z"
   },
   {
    "duration": 10,
    "start_time": "2025-04-03T15:14:55.413Z"
   },
   {
    "duration": 6,
    "start_time": "2025-04-03T15:16:41.860Z"
   },
   {
    "duration": 7,
    "start_time": "2025-04-03T15:16:55.791Z"
   },
   {
    "duration": 9,
    "start_time": "2025-04-03T15:18:24.232Z"
   },
   {
    "duration": 10,
    "start_time": "2025-04-03T15:18:30.761Z"
   },
   {
    "duration": 5,
    "start_time": "2025-04-03T15:22:36.120Z"
   },
   {
    "duration": 8,
    "start_time": "2025-04-03T15:23:28.208Z"
   },
   {
    "duration": 9,
    "start_time": "2025-04-03T15:23:42.395Z"
   },
   {
    "duration": 9,
    "start_time": "2025-04-03T15:23:48.545Z"
   },
   {
    "duration": 15,
    "start_time": "2025-04-03T15:25:17.195Z"
   },
   {
    "duration": 15,
    "start_time": "2025-04-03T15:27:39.374Z"
   },
   {
    "duration": 1199,
    "start_time": "2025-04-03T15:48:51.115Z"
   },
   {
    "duration": 894,
    "start_time": "2025-04-03T15:48:52.317Z"
   },
   {
    "duration": 18,
    "start_time": "2025-04-03T15:48:53.212Z"
   },
   {
    "duration": 94,
    "start_time": "2025-04-03T15:48:53.233Z"
   },
   {
    "duration": 11,
    "start_time": "2025-04-03T15:48:53.329Z"
   },
   {
    "duration": 20,
    "start_time": "2025-04-03T15:48:53.342Z"
   },
   {
    "duration": 9,
    "start_time": "2025-04-03T15:48:53.377Z"
   },
   {
    "duration": 12,
    "start_time": "2025-04-03T15:48:53.388Z"
   },
   {
    "duration": 649,
    "start_time": "2025-04-03T15:48:53.402Z"
   },
   {
    "duration": 717,
    "start_time": "2025-04-03T15:48:54.053Z"
   },
   {
    "duration": 177,
    "start_time": "2025-04-03T15:48:54.772Z"
   },
   {
    "duration": 680,
    "start_time": "2025-04-03T15:48:54.950Z"
   },
   {
    "duration": 187,
    "start_time": "2025-04-03T15:48:55.631Z"
   },
   {
    "duration": 76,
    "start_time": "2025-04-03T15:48:55.820Z"
   },
   {
    "duration": 189,
    "start_time": "2025-04-03T15:48:55.899Z"
   },
   {
    "duration": 5144,
    "start_time": "2025-04-03T15:48:56.090Z"
   },
   {
    "duration": 241,
    "start_time": "2025-04-03T15:49:01.236Z"
   },
   {
    "duration": 22,
    "start_time": "2025-04-03T15:49:01.479Z"
   },
   {
    "duration": 26,
    "start_time": "2025-04-03T15:49:01.502Z"
   },
   {
    "duration": 52,
    "start_time": "2025-04-03T15:49:01.530Z"
   },
   {
    "duration": 28,
    "start_time": "2025-04-03T15:49:01.583Z"
   },
   {
    "duration": 427,
    "start_time": "2025-04-03T15:49:01.612Z"
   },
   {
    "duration": 54,
    "start_time": "2025-04-03T15:49:02.041Z"
   },
   {
    "duration": 19,
    "start_time": "2025-04-03T15:49:02.097Z"
   },
   {
    "duration": 514,
    "start_time": "2025-04-03T15:49:02.118Z"
   },
   {
    "duration": 94,
    "start_time": "2025-04-03T15:49:02.633Z"
   },
   {
    "duration": 315,
    "start_time": "2025-04-03T15:49:02.730Z"
   },
   {
    "duration": 5693,
    "start_time": "2025-04-03T15:49:03.050Z"
   },
   {
    "duration": 168,
    "start_time": "2025-04-03T15:49:08.745Z"
   },
   {
    "duration": 191,
    "start_time": "2025-04-03T15:49:08.914Z"
   },
   {
    "duration": 3,
    "start_time": "2025-04-03T15:49:09.106Z"
   },
   {
    "duration": 37,
    "start_time": "2025-04-03T15:49:09.111Z"
   },
   {
    "duration": 118,
    "start_time": "2025-04-03T15:49:09.150Z"
   },
   {
    "duration": 156,
    "start_time": "2025-04-03T15:49:09.275Z"
   },
   {
    "duration": 211,
    "start_time": "2025-04-03T15:49:09.433Z"
   },
   {
    "duration": 50,
    "start_time": "2025-04-03T15:49:09.646Z"
   },
   {
    "duration": 178,
    "start_time": "2025-04-03T15:49:09.698Z"
   },
   {
    "duration": 50,
    "start_time": "2025-04-03T15:49:09.878Z"
   },
   {
    "duration": 164,
    "start_time": "2025-04-03T15:49:09.930Z"
   },
   {
    "duration": 55,
    "start_time": "2025-04-03T15:49:10.096Z"
   },
   {
    "duration": 234,
    "start_time": "2025-04-03T15:49:10.153Z"
   },
   {
    "duration": 18,
    "start_time": "2025-04-03T15:49:10.389Z"
   },
   {
    "duration": 9,
    "start_time": "2025-04-03T15:49:10.409Z"
   },
   {
    "duration": 32,
    "start_time": "2025-04-03T15:49:10.420Z"
   },
   {
    "duration": 162,
    "start_time": "2025-04-03T15:49:10.476Z"
   },
   {
    "duration": 79,
    "start_time": "2025-04-03T15:49:10.640Z"
   },
   {
    "duration": 1053,
    "start_time": "2025-04-03T15:49:10.721Z"
   },
   {
    "duration": 124,
    "start_time": "2025-04-03T15:49:11.777Z"
   },
   {
    "duration": 60,
    "start_time": "2025-04-03T15:49:11.903Z"
   },
   {
    "duration": 418,
    "start_time": "2025-04-03T15:49:11.964Z"
   },
   {
    "duration": 71,
    "start_time": "2025-04-03T15:49:12.383Z"
   },
   {
    "duration": 26,
    "start_time": "2025-04-03T15:49:12.456Z"
   },
   {
    "duration": 140,
    "start_time": "2025-04-03T15:49:12.483Z"
   },
   {
    "duration": 11,
    "start_time": "2025-04-03T15:49:12.625Z"
   },
   {
    "duration": 90,
    "start_time": "2025-04-03T15:49:12.637Z"
   },
   {
    "duration": 5,
    "start_time": "2025-04-03T15:49:12.729Z"
   },
   {
    "duration": 18,
    "start_time": "2025-04-03T15:49:12.736Z"
   },
   {
    "duration": 7,
    "start_time": "2025-04-03T15:49:12.755Z"
   },
   {
    "duration": 24,
    "start_time": "2025-04-03T15:49:12.764Z"
   },
   {
    "duration": 61,
    "start_time": "2025-04-03T15:49:12.790Z"
   },
   {
    "duration": 42,
    "start_time": "2025-04-03T15:49:12.853Z"
   },
   {
    "duration": 8,
    "start_time": "2025-04-03T15:49:12.897Z"
   },
   {
    "duration": 7,
    "start_time": "2025-04-03T15:49:12.907Z"
   },
   {
    "duration": 5,
    "start_time": "2025-04-03T15:49:12.916Z"
   },
   {
    "duration": 7,
    "start_time": "2025-04-03T15:54:28.947Z"
   },
   {
    "duration": 5,
    "start_time": "2025-04-03T15:54:30.594Z"
   },
   {
    "duration": 8,
    "start_time": "2025-04-03T15:54:33.013Z"
   },
   {
    "duration": 8,
    "start_time": "2025-04-03T15:54:34.854Z"
   },
   {
    "duration": 14,
    "start_time": "2025-04-03T15:54:37.198Z"
   },
   {
    "duration": 26,
    "start_time": "2025-04-03T16:56:40.533Z"
   },
   {
    "duration": 1217,
    "start_time": "2025-04-03T17:02:33.491Z"
   },
   {
    "duration": 937,
    "start_time": "2025-04-03T17:02:34.710Z"
   },
   {
    "duration": 19,
    "start_time": "2025-04-03T17:02:35.648Z"
   },
   {
    "duration": 103,
    "start_time": "2025-04-03T17:02:35.669Z"
   },
   {
    "duration": 12,
    "start_time": "2025-04-03T17:02:35.775Z"
   },
   {
    "duration": 53,
    "start_time": "2025-04-03T17:02:35.789Z"
   },
   {
    "duration": 30,
    "start_time": "2025-04-03T17:02:35.844Z"
   },
   {
    "duration": 23,
    "start_time": "2025-04-03T17:02:35.876Z"
   },
   {
    "duration": 708,
    "start_time": "2025-04-03T17:02:35.901Z"
   },
   {
    "duration": 749,
    "start_time": "2025-04-03T17:02:36.612Z"
   },
   {
    "duration": 186,
    "start_time": "2025-04-03T17:02:37.363Z"
   },
   {
    "duration": 689,
    "start_time": "2025-04-03T17:02:37.551Z"
   },
   {
    "duration": 195,
    "start_time": "2025-04-03T17:02:38.242Z"
   },
   {
    "duration": 70,
    "start_time": "2025-04-03T17:02:38.439Z"
   },
   {
    "duration": 185,
    "start_time": "2025-04-03T17:02:38.511Z"
   },
   {
    "duration": 5360,
    "start_time": "2025-04-03T17:02:38.698Z"
   },
   {
    "duration": 253,
    "start_time": "2025-04-03T17:02:44.060Z"
   },
   {
    "duration": 24,
    "start_time": "2025-04-03T17:02:44.314Z"
   },
   {
    "duration": 51,
    "start_time": "2025-04-03T17:02:44.339Z"
   },
   {
    "duration": 29,
    "start_time": "2025-04-03T17:02:44.392Z"
   },
   {
    "duration": 56,
    "start_time": "2025-04-03T17:02:44.422Z"
   },
   {
    "duration": 457,
    "start_time": "2025-04-03T17:02:44.480Z"
   },
   {
    "duration": 57,
    "start_time": "2025-04-03T17:02:44.938Z"
   },
   {
    "duration": 19,
    "start_time": "2025-04-03T17:02:44.996Z"
   },
   {
    "duration": 523,
    "start_time": "2025-04-03T17:02:45.016Z"
   },
   {
    "duration": 93,
    "start_time": "2025-04-03T17:02:45.541Z"
   },
   {
    "duration": 357,
    "start_time": "2025-04-03T17:02:45.635Z"
   },
   {
    "duration": 5758,
    "start_time": "2025-04-03T17:02:45.996Z"
   },
   {
    "duration": 169,
    "start_time": "2025-04-03T17:02:51.756Z"
   },
   {
    "duration": 232,
    "start_time": "2025-04-03T17:02:51.927Z"
   },
   {
    "duration": 4,
    "start_time": "2025-04-03T17:02:52.160Z"
   },
   {
    "duration": 34,
    "start_time": "2025-04-03T17:02:52.165Z"
   },
   {
    "duration": 134,
    "start_time": "2025-04-03T17:02:52.200Z"
   },
   {
    "duration": 160,
    "start_time": "2025-04-03T17:02:52.336Z"
   },
   {
    "duration": 223,
    "start_time": "2025-04-03T17:02:52.497Z"
   },
   {
    "duration": 40,
    "start_time": "2025-04-03T17:02:52.722Z"
   },
   {
    "duration": 192,
    "start_time": "2025-04-03T17:02:52.763Z"
   },
   {
    "duration": 59,
    "start_time": "2025-04-03T17:02:52.957Z"
   },
   {
    "duration": 155,
    "start_time": "2025-04-03T17:02:53.018Z"
   },
   {
    "duration": 53,
    "start_time": "2025-04-03T17:02:53.175Z"
   },
   {
    "duration": 316,
    "start_time": "2025-04-03T17:02:53.229Z"
   },
   {
    "duration": 33,
    "start_time": "2025-04-03T17:02:53.547Z"
   },
   {
    "duration": 16,
    "start_time": "2025-04-03T17:02:53.582Z"
   },
   {
    "duration": 37,
    "start_time": "2025-04-03T17:02:53.600Z"
   },
   {
    "duration": 189,
    "start_time": "2025-04-03T17:02:53.638Z"
   },
   {
    "duration": 78,
    "start_time": "2025-04-03T17:02:53.828Z"
   },
   {
    "duration": 1057,
    "start_time": "2025-04-03T17:02:53.907Z"
   },
   {
    "duration": 123,
    "start_time": "2025-04-03T17:02:54.966Z"
   },
   {
    "duration": 56,
    "start_time": "2025-04-03T17:02:55.090Z"
   },
   {
    "duration": 399,
    "start_time": "2025-04-03T17:02:55.147Z"
   },
   {
    "duration": 83,
    "start_time": "2025-04-03T17:02:55.547Z"
   },
   {
    "duration": 8,
    "start_time": "2025-04-03T17:02:55.632Z"
   },
   {
    "duration": 91,
    "start_time": "2025-04-03T17:02:55.641Z"
   },
   {
    "duration": 10,
    "start_time": "2025-04-03T17:02:55.733Z"
   },
   {
    "duration": 99,
    "start_time": "2025-04-03T17:02:55.745Z"
   },
   {
    "duration": 6,
    "start_time": "2025-04-03T17:02:55.846Z"
   },
   {
    "duration": 27,
    "start_time": "2025-04-03T17:02:55.854Z"
   },
   {
    "duration": 8,
    "start_time": "2025-04-03T17:02:55.884Z"
   },
   {
    "duration": 17,
    "start_time": "2025-04-03T17:02:55.894Z"
   },
   {
    "duration": 95,
    "start_time": "2025-04-03T17:02:55.913Z"
   },
   {
    "duration": 8,
    "start_time": "2025-04-03T17:02:56.009Z"
   },
   {
    "duration": 5,
    "start_time": "2025-04-03T17:02:56.018Z"
   },
   {
    "duration": 14,
    "start_time": "2025-04-03T17:02:56.025Z"
   },
   {
    "duration": 35,
    "start_time": "2025-04-03T17:02:56.042Z"
   },
   {
    "duration": 93,
    "start_time": "2025-04-03T17:02:56.080Z"
   },
   {
    "duration": 1204,
    "start_time": "2025-04-04T14:40:58.675Z"
   },
   {
    "duration": 940,
    "start_time": "2025-04-04T14:40:59.881Z"
   },
   {
    "duration": 20,
    "start_time": "2025-04-04T14:41:00.822Z"
   },
   {
    "duration": 124,
    "start_time": "2025-04-04T14:41:00.844Z"
   },
   {
    "duration": 12,
    "start_time": "2025-04-04T14:41:00.970Z"
   },
   {
    "duration": 28,
    "start_time": "2025-04-04T14:41:00.983Z"
   },
   {
    "duration": 8,
    "start_time": "2025-04-04T14:41:01.013Z"
   },
   {
    "duration": 11,
    "start_time": "2025-04-04T14:41:01.022Z"
   },
   {
    "duration": 706,
    "start_time": "2025-04-04T14:41:01.035Z"
   },
   {
    "duration": 716,
    "start_time": "2025-04-04T14:41:01.743Z"
   },
   {
    "duration": 193,
    "start_time": "2025-04-04T14:41:02.461Z"
   },
   {
    "duration": 713,
    "start_time": "2025-04-04T14:41:02.657Z"
   },
   {
    "duration": 220,
    "start_time": "2025-04-04T14:41:03.372Z"
   },
   {
    "duration": 56,
    "start_time": "2025-04-04T14:41:03.594Z"
   },
   {
    "duration": 208,
    "start_time": "2025-04-04T14:41:03.657Z"
   },
   {
    "duration": 5530,
    "start_time": "2025-04-04T14:41:03.867Z"
   },
   {
    "duration": 250,
    "start_time": "2025-04-04T14:41:09.399Z"
   },
   {
    "duration": 27,
    "start_time": "2025-04-04T14:41:09.654Z"
   },
   {
    "duration": 30,
    "start_time": "2025-04-04T14:41:09.683Z"
   },
   {
    "duration": 52,
    "start_time": "2025-04-04T14:41:09.715Z"
   },
   {
    "duration": 29,
    "start_time": "2025-04-04T14:41:09.769Z"
   },
   {
    "duration": 440,
    "start_time": "2025-04-04T14:41:09.799Z"
   },
   {
    "duration": 54,
    "start_time": "2025-04-04T14:41:10.241Z"
   },
   {
    "duration": 18,
    "start_time": "2025-04-04T14:41:10.297Z"
   },
   {
    "duration": 575,
    "start_time": "2025-04-04T14:41:10.317Z"
   },
   {
    "duration": 95,
    "start_time": "2025-04-04T14:41:10.895Z"
   },
   {
    "duration": 336,
    "start_time": "2025-04-04T14:41:10.992Z"
   },
   {
    "duration": 6102,
    "start_time": "2025-04-04T14:41:11.332Z"
   },
   {
    "duration": 172,
    "start_time": "2025-04-04T14:41:17.435Z"
   },
   {
    "duration": 198,
    "start_time": "2025-04-04T14:41:17.609Z"
   },
   {
    "duration": 3,
    "start_time": "2025-04-04T14:41:17.809Z"
   },
   {
    "duration": 69,
    "start_time": "2025-04-04T14:41:17.814Z"
   },
   {
    "duration": 130,
    "start_time": "2025-04-04T14:41:17.885Z"
   },
   {
    "duration": 157,
    "start_time": "2025-04-04T14:41:18.016Z"
   },
   {
    "duration": 220,
    "start_time": "2025-04-04T14:41:18.174Z"
   },
   {
    "duration": 38,
    "start_time": "2025-04-04T14:41:18.396Z"
   },
   {
    "duration": 204,
    "start_time": "2025-04-04T14:41:18.436Z"
   },
   {
    "duration": 61,
    "start_time": "2025-04-04T14:41:18.642Z"
   },
   {
    "duration": 174,
    "start_time": "2025-04-04T14:41:18.705Z"
   },
   {
    "duration": 57,
    "start_time": "2025-04-04T14:41:18.880Z"
   },
   {
    "duration": 243,
    "start_time": "2025-04-04T14:41:18.939Z"
   },
   {
    "duration": 18,
    "start_time": "2025-04-04T14:41:19.183Z"
   },
   {
    "duration": 8,
    "start_time": "2025-04-04T14:41:19.203Z"
   },
   {
    "duration": 57,
    "start_time": "2025-04-04T14:41:19.213Z"
   },
   {
    "duration": 161,
    "start_time": "2025-04-04T14:41:19.271Z"
   },
   {
    "duration": 77,
    "start_time": "2025-04-04T14:41:19.434Z"
   },
   {
    "duration": 1061,
    "start_time": "2025-04-04T14:41:19.512Z"
   },
   {
    "duration": 117,
    "start_time": "2025-04-04T14:41:20.575Z"
   },
   {
    "duration": 78,
    "start_time": "2025-04-04T14:41:20.695Z"
   },
   {
    "duration": 450,
    "start_time": "2025-04-04T14:41:20.775Z"
   },
   {
    "duration": 84,
    "start_time": "2025-04-04T14:41:21.226Z"
   },
   {
    "duration": 8,
    "start_time": "2025-04-04T14:41:21.311Z"
   },
   {
    "duration": 94,
    "start_time": "2025-04-04T14:41:21.320Z"
   },
   {
    "duration": 11,
    "start_time": "2025-04-04T14:41:21.416Z"
   },
   {
    "duration": 98,
    "start_time": "2025-04-04T14:41:21.428Z"
   },
   {
    "duration": 5,
    "start_time": "2025-04-04T14:41:21.527Z"
   },
   {
    "duration": 26,
    "start_time": "2025-04-04T14:41:21.533Z"
   },
   {
    "duration": 10,
    "start_time": "2025-04-04T14:41:21.561Z"
   },
   {
    "duration": 22,
    "start_time": "2025-04-04T14:41:21.574Z"
   },
   {
    "duration": 83,
    "start_time": "2025-04-04T14:41:21.598Z"
   },
   {
    "duration": 7,
    "start_time": "2025-04-04T14:41:21.683Z"
   },
   {
    "duration": 5,
    "start_time": "2025-04-04T14:41:21.692Z"
   },
   {
    "duration": 12,
    "start_time": "2025-04-04T14:41:21.699Z"
   },
   {
    "duration": 8,
    "start_time": "2025-04-04T14:41:21.712Z"
   },
   {
    "duration": 37,
    "start_time": "2025-04-04T14:41:21.721Z"
   },
   {
    "duration": 53,
    "start_time": "2025-04-05T16:07:20.139Z"
   },
   {
    "duration": 1390,
    "start_time": "2025-04-05T16:07:24.489Z"
   },
   {
    "duration": 897,
    "start_time": "2025-04-05T16:07:25.881Z"
   },
   {
    "duration": 17,
    "start_time": "2025-04-05T16:07:26.780Z"
   },
   {
    "duration": 99,
    "start_time": "2025-04-05T16:07:26.798Z"
   },
   {
    "duration": 10,
    "start_time": "2025-04-05T16:07:26.899Z"
   },
   {
    "duration": 21,
    "start_time": "2025-04-05T16:07:26.911Z"
   },
   {
    "duration": 8,
    "start_time": "2025-04-05T16:07:26.934Z"
   },
   {
    "duration": 23,
    "start_time": "2025-04-05T16:07:26.943Z"
   },
   {
    "duration": 648,
    "start_time": "2025-04-05T16:07:26.967Z"
   },
   {
    "duration": 685,
    "start_time": "2025-04-05T16:07:27.618Z"
   },
   {
    "duration": 176,
    "start_time": "2025-04-05T16:07:28.305Z"
   },
   {
    "duration": 667,
    "start_time": "2025-04-05T16:07:28.482Z"
   },
   {
    "duration": 185,
    "start_time": "2025-04-05T16:07:29.158Z"
   },
   {
    "duration": 59,
    "start_time": "2025-04-05T16:07:29.345Z"
   },
   {
    "duration": 194,
    "start_time": "2025-04-05T16:07:29.406Z"
   },
   {
    "duration": 5260,
    "start_time": "2025-04-05T16:07:29.602Z"
   },
   {
    "duration": 238,
    "start_time": "2025-04-05T16:07:34.864Z"
   },
   {
    "duration": 21,
    "start_time": "2025-04-05T16:07:35.103Z"
   },
   {
    "duration": 122,
    "start_time": "2025-04-05T16:07:35.125Z"
   },
   {
    "duration": 31,
    "start_time": "2025-04-05T16:07:35.249Z"
   },
   {
    "duration": 27,
    "start_time": "2025-04-05T16:07:35.282Z"
   },
   {
    "duration": 408,
    "start_time": "2025-04-05T16:07:35.310Z"
   },
   {
    "duration": 58,
    "start_time": "2025-04-05T16:07:35.720Z"
   },
   {
    "duration": 18,
    "start_time": "2025-04-05T16:07:35.779Z"
   },
   {
    "duration": 545,
    "start_time": "2025-04-05T16:07:35.799Z"
   },
   {
    "duration": 84,
    "start_time": "2025-04-05T16:07:36.345Z"
   },
   {
    "duration": 303,
    "start_time": "2025-04-05T16:07:36.431Z"
   },
   {
    "duration": 5802,
    "start_time": "2025-04-05T16:07:36.738Z"
   },
   {
    "duration": 170,
    "start_time": "2025-04-05T16:07:42.542Z"
   },
   {
    "duration": 199,
    "start_time": "2025-04-05T16:07:42.713Z"
   },
   {
    "duration": 3,
    "start_time": "2025-04-05T16:07:42.914Z"
   },
   {
    "duration": 25,
    "start_time": "2025-04-05T16:07:42.918Z"
   },
   {
    "duration": 134,
    "start_time": "2025-04-05T16:07:42.944Z"
   },
   {
    "duration": 157,
    "start_time": "2025-04-05T16:07:43.080Z"
   },
   {
    "duration": 214,
    "start_time": "2025-04-05T16:07:43.238Z"
   },
   {
    "duration": 36,
    "start_time": "2025-04-05T16:07:43.457Z"
   },
   {
    "duration": 181,
    "start_time": "2025-04-05T16:07:43.495Z"
   },
   {
    "duration": 50,
    "start_time": "2025-04-05T16:07:43.677Z"
   },
   {
    "duration": 211,
    "start_time": "2025-04-05T16:07:43.728Z"
   },
   {
    "duration": 59,
    "start_time": "2025-04-05T16:07:43.941Z"
   },
   {
    "duration": 222,
    "start_time": "2025-04-05T16:07:44.001Z"
   },
   {
    "duration": 18,
    "start_time": "2025-04-05T16:07:44.224Z"
   },
   {
    "duration": 23,
    "start_time": "2025-04-05T16:07:44.244Z"
   },
   {
    "duration": 26,
    "start_time": "2025-04-05T16:07:44.268Z"
   },
   {
    "duration": 170,
    "start_time": "2025-04-05T16:07:44.296Z"
   },
   {
    "duration": 64,
    "start_time": "2025-04-05T16:07:44.468Z"
   },
   {
    "duration": 1037,
    "start_time": "2025-04-05T16:07:44.535Z"
   },
   {
    "duration": 113,
    "start_time": "2025-04-05T16:07:45.573Z"
   },
   {
    "duration": 56,
    "start_time": "2025-04-05T16:07:45.688Z"
   },
   {
    "duration": 412,
    "start_time": "2025-04-05T16:07:45.746Z"
   },
   {
    "duration": 71,
    "start_time": "2025-04-05T16:07:46.159Z"
   },
   {
    "duration": 8,
    "start_time": "2025-04-05T16:07:46.232Z"
   },
   {
    "duration": 91,
    "start_time": "2025-04-05T16:07:46.241Z"
   },
   {
    "duration": 11,
    "start_time": "2025-04-05T16:07:46.333Z"
   },
   {
    "duration": 80,
    "start_time": "2025-04-05T16:07:46.358Z"
   },
   {
    "duration": 17,
    "start_time": "2025-04-05T16:07:46.440Z"
   },
   {
    "duration": 8,
    "start_time": "2025-04-05T16:07:46.459Z"
   },
   {
    "duration": 81,
    "start_time": "2025-04-05T16:07:46.468Z"
   },
   {
    "duration": 16,
    "start_time": "2025-04-05T16:07:46.550Z"
   },
   {
    "duration": 63,
    "start_time": "2025-04-05T16:07:46.567Z"
   },
   {
    "duration": 7,
    "start_time": "2025-04-05T16:07:46.632Z"
   },
   {
    "duration": 6,
    "start_time": "2025-04-05T16:07:46.657Z"
   },
   {
    "duration": 72,
    "start_time": "2025-04-05T16:07:46.664Z"
   },
   {
    "duration": 8,
    "start_time": "2025-04-05T16:07:46.737Z"
   },
   {
    "duration": 14,
    "start_time": "2025-04-05T16:07:46.746Z"
   },
   {
    "duration": 166,
    "start_time": "2025-04-05T16:15:35.555Z"
   },
   {
    "duration": 131,
    "start_time": "2025-04-05T16:15:53.083Z"
   },
   {
    "duration": 152,
    "start_time": "2025-04-05T16:16:25.179Z"
   },
   {
    "duration": 119,
    "start_time": "2025-04-05T16:17:02.421Z"
   },
   {
    "duration": 370,
    "start_time": "2025-04-05T16:19:39.009Z"
   },
   {
    "duration": 131,
    "start_time": "2025-04-05T16:22:12.159Z"
   },
   {
    "duration": 3,
    "start_time": "2025-04-05T16:26:15.668Z"
   },
   {
    "duration": 5,
    "start_time": "2025-04-05T16:26:18.736Z"
   },
   {
    "duration": 2,
    "start_time": "2025-04-05T16:27:10.757Z"
   },
   {
    "duration": 3,
    "start_time": "2025-04-05T16:27:17.629Z"
   },
   {
    "duration": 3,
    "start_time": "2025-04-05T16:27:19.846Z"
   },
   {
    "duration": 3,
    "start_time": "2025-04-05T16:27:29.940Z"
   },
   {
    "duration": 3,
    "start_time": "2025-04-05T16:32:35.693Z"
   },
   {
    "duration": 5,
    "start_time": "2025-04-05T16:32:38.165Z"
   },
   {
    "duration": 516,
    "start_time": "2025-04-05T16:32:54.369Z"
   },
   {
    "duration": 1149,
    "start_time": "2025-04-05T16:33:01.425Z"
   },
   {
    "duration": 896,
    "start_time": "2025-04-05T16:33:02.576Z"
   },
   {
    "duration": 17,
    "start_time": "2025-04-05T16:33:03.476Z"
   },
   {
    "duration": 95,
    "start_time": "2025-04-05T16:33:03.494Z"
   },
   {
    "duration": 11,
    "start_time": "2025-04-05T16:33:03.590Z"
   },
   {
    "duration": 19,
    "start_time": "2025-04-05T16:33:03.602Z"
   },
   {
    "duration": 8,
    "start_time": "2025-04-05T16:33:03.623Z"
   },
   {
    "duration": 31,
    "start_time": "2025-04-05T16:33:03.632Z"
   },
   {
    "duration": 674,
    "start_time": "2025-04-05T16:33:03.666Z"
   },
   {
    "duration": 709,
    "start_time": "2025-04-05T16:33:04.342Z"
   },
   {
    "duration": 209,
    "start_time": "2025-04-05T16:33:05.053Z"
   },
   {
    "duration": 673,
    "start_time": "2025-04-05T16:33:05.264Z"
   },
   {
    "duration": 201,
    "start_time": "2025-04-05T16:33:05.939Z"
   },
   {
    "duration": 64,
    "start_time": "2025-04-05T16:33:06.142Z"
   },
   {
    "duration": 198,
    "start_time": "2025-04-05T16:33:06.207Z"
   },
   {
    "duration": 5518,
    "start_time": "2025-04-05T16:33:06.407Z"
   },
   {
    "duration": 244,
    "start_time": "2025-04-05T16:33:11.927Z"
   },
   {
    "duration": 22,
    "start_time": "2025-04-05T16:33:12.172Z"
   },
   {
    "duration": 135,
    "start_time": "2025-04-05T16:33:12.196Z"
   },
   {
    "duration": 42,
    "start_time": "2025-04-05T16:33:12.332Z"
   },
   {
    "duration": 28,
    "start_time": "2025-04-05T16:33:12.376Z"
   },
   {
    "duration": 407,
    "start_time": "2025-04-05T16:33:12.406Z"
   },
   {
    "duration": 55,
    "start_time": "2025-04-05T16:33:12.814Z"
   },
   {
    "duration": 19,
    "start_time": "2025-04-05T16:33:12.870Z"
   },
   {
    "duration": 527,
    "start_time": "2025-04-05T16:33:12.890Z"
   },
   {
    "duration": 4,
    "start_time": "2025-04-05T16:33:13.419Z"
   },
   {
    "duration": 515,
    "start_time": "2025-04-05T16:33:13.426Z"
   },
   {
    "duration": 350,
    "start_time": "2025-04-05T16:33:13.942Z"
   },
   {
    "duration": 5905,
    "start_time": "2025-04-05T16:33:14.293Z"
   },
   {
    "duration": 171,
    "start_time": "2025-04-05T16:33:20.200Z"
   },
   {
    "duration": 198,
    "start_time": "2025-04-05T16:33:20.372Z"
   },
   {
    "duration": 3,
    "start_time": "2025-04-05T16:33:20.572Z"
   },
   {
    "duration": 49,
    "start_time": "2025-04-05T16:33:20.577Z"
   },
   {
    "duration": 124,
    "start_time": "2025-04-05T16:33:20.627Z"
   },
   {
    "duration": 160,
    "start_time": "2025-04-05T16:33:20.752Z"
   },
   {
    "duration": 249,
    "start_time": "2025-04-05T16:33:20.914Z"
   },
   {
    "duration": 38,
    "start_time": "2025-04-05T16:33:21.165Z"
   },
   {
    "duration": 192,
    "start_time": "2025-04-05T16:33:21.205Z"
   },
   {
    "duration": 61,
    "start_time": "2025-04-05T16:33:21.398Z"
   },
   {
    "duration": 185,
    "start_time": "2025-04-05T16:33:21.461Z"
   },
   {
    "duration": 60,
    "start_time": "2025-04-05T16:33:21.648Z"
   },
   {
    "duration": 224,
    "start_time": "2025-04-05T16:33:21.709Z"
   },
   {
    "duration": 27,
    "start_time": "2025-04-05T16:33:21.935Z"
   },
   {
    "duration": 72,
    "start_time": "2025-04-05T16:33:21.963Z"
   },
   {
    "duration": 29,
    "start_time": "2025-04-05T16:33:22.037Z"
   },
   {
    "duration": 164,
    "start_time": "2025-04-05T16:33:22.068Z"
   },
   {
    "duration": 70,
    "start_time": "2025-04-05T16:33:22.234Z"
   },
   {
    "duration": 1034,
    "start_time": "2025-04-05T16:33:22.305Z"
   },
   {
    "duration": 120,
    "start_time": "2025-04-05T16:33:23.341Z"
   },
   {
    "duration": 57,
    "start_time": "2025-04-05T16:33:23.462Z"
   },
   {
    "duration": 423,
    "start_time": "2025-04-05T16:33:23.520Z"
   },
   {
    "duration": 81,
    "start_time": "2025-04-05T16:33:23.945Z"
   },
   {
    "duration": 46,
    "start_time": "2025-04-05T16:33:24.027Z"
   },
   {
    "duration": 81,
    "start_time": "2025-04-05T16:33:24.075Z"
   },
   {
    "duration": 11,
    "start_time": "2025-04-05T16:33:24.157Z"
   },
   {
    "duration": 95,
    "start_time": "2025-04-05T16:33:24.170Z"
   },
   {
    "duration": 5,
    "start_time": "2025-04-05T16:33:24.266Z"
   },
   {
    "duration": 12,
    "start_time": "2025-04-05T16:33:24.272Z"
   },
   {
    "duration": 8,
    "start_time": "2025-04-05T16:33:24.286Z"
   },
   {
    "duration": 19,
    "start_time": "2025-04-05T16:33:24.295Z"
   },
   {
    "duration": 83,
    "start_time": "2025-04-05T16:33:24.315Z"
   },
   {
    "duration": 8,
    "start_time": "2025-04-05T16:33:24.399Z"
   },
   {
    "duration": 5,
    "start_time": "2025-04-05T16:33:24.408Z"
   },
   {
    "duration": 9,
    "start_time": "2025-04-05T16:33:24.414Z"
   },
   {
    "duration": 35,
    "start_time": "2025-04-05T16:33:24.424Z"
   },
   {
    "duration": 14,
    "start_time": "2025-04-05T16:33:24.460Z"
   },
   {
    "duration": 742,
    "start_time": "2025-04-05T16:33:57.860Z"
   },
   {
    "duration": 238,
    "start_time": "2025-04-05T16:34:32.878Z"
   },
   {
    "duration": 151,
    "start_time": "2025-04-05T16:34:39.679Z"
   },
   {
    "duration": 87,
    "start_time": "2025-04-05T16:34:47.029Z"
   },
   {
    "duration": 148,
    "start_time": "2025-04-05T16:34:50.894Z"
   },
   {
    "duration": 147,
    "start_time": "2025-04-05T16:35:10.221Z"
   },
   {
    "duration": 168,
    "start_time": "2025-04-05T16:35:36.753Z"
   },
   {
    "duration": 200,
    "start_time": "2025-04-05T16:40:30.969Z"
   },
   {
    "duration": 210,
    "start_time": "2025-04-05T16:40:35.263Z"
   },
   {
    "duration": 203,
    "start_time": "2025-04-05T16:40:43.103Z"
   },
   {
    "duration": 537,
    "start_time": "2025-04-05T16:42:31.736Z"
   },
   {
    "duration": 503,
    "start_time": "2025-04-05T16:42:39.472Z"
   },
   {
    "duration": 479,
    "start_time": "2025-04-05T16:43:20.626Z"
   },
   {
    "duration": 609,
    "start_time": "2025-04-05T16:48:02.338Z"
   },
   {
    "duration": 500,
    "start_time": "2025-04-05T16:49:42.999Z"
   },
   {
    "duration": 1055,
    "start_time": "2025-04-05T16:52:15.748Z"
   },
   {
    "duration": 1185,
    "start_time": "2025-04-05T16:52:46.388Z"
   },
   {
    "duration": 1022,
    "start_time": "2025-04-05T16:53:12.088Z"
   },
   {
    "duration": 1192,
    "start_time": "2025-04-05T16:54:47.748Z"
   },
   {
    "duration": 1074,
    "start_time": "2025-04-05T16:55:05.205Z"
   },
   {
    "duration": 1181,
    "start_time": "2025-04-05T16:56:07.310Z"
   },
   {
    "duration": 110,
    "start_time": "2025-04-05T16:57:15.188Z"
   },
   {
    "duration": 10,
    "start_time": "2025-04-05T16:57:31.108Z"
   },
   {
    "duration": 158,
    "start_time": "2025-04-05T17:01:55.501Z"
   },
   {
    "duration": 151,
    "start_time": "2025-04-05T17:01:58.087Z"
   },
   {
    "duration": 163,
    "start_time": "2025-04-05T17:02:00.874Z"
   },
   {
    "duration": 145,
    "start_time": "2025-04-05T17:02:06.180Z"
   },
   {
    "duration": 148,
    "start_time": "2025-04-05T17:02:09.088Z"
   },
   {
    "duration": 147,
    "start_time": "2025-04-05T17:02:26.073Z"
   },
   {
    "duration": 151,
    "start_time": "2025-04-05T17:02:28.452Z"
   },
   {
    "duration": 1613,
    "start_time": "2025-04-07T03:23:50.751Z"
   },
   {
    "duration": 1258,
    "start_time": "2025-04-07T03:23:52.366Z"
   },
   {
    "duration": 20,
    "start_time": "2025-04-07T03:23:53.626Z"
   },
   {
    "duration": 97,
    "start_time": "2025-04-07T03:23:53.649Z"
   },
   {
    "duration": 19,
    "start_time": "2025-04-07T03:23:53.748Z"
   },
   {
    "duration": 17,
    "start_time": "2025-04-07T03:23:53.769Z"
   },
   {
    "duration": 7,
    "start_time": "2025-04-07T03:23:53.788Z"
   },
   {
    "duration": 22,
    "start_time": "2025-04-07T03:23:53.797Z"
   },
   {
    "duration": 335,
    "start_time": "2025-04-07T03:23:53.821Z"
   },
   {
    "duration": 128,
    "start_time": "2025-04-07T03:23:54.161Z"
   },
   {
    "duration": 1,
    "start_time": "2025-04-07T03:23:54.291Z"
   },
   {
    "duration": 0,
    "start_time": "2025-04-07T03:23:54.293Z"
   },
   {
    "duration": 0,
    "start_time": "2025-04-07T03:23:54.294Z"
   },
   {
    "duration": 0,
    "start_time": "2025-04-07T03:23:54.295Z"
   },
   {
    "duration": 0,
    "start_time": "2025-04-07T03:23:54.296Z"
   },
   {
    "duration": 0,
    "start_time": "2025-04-07T03:23:54.297Z"
   },
   {
    "duration": 0,
    "start_time": "2025-04-07T03:23:54.298Z"
   },
   {
    "duration": 0,
    "start_time": "2025-04-07T03:23:54.301Z"
   },
   {
    "duration": 0,
    "start_time": "2025-04-07T03:23:54.302Z"
   },
   {
    "duration": 0,
    "start_time": "2025-04-07T03:23:54.303Z"
   },
   {
    "duration": 0,
    "start_time": "2025-04-07T03:23:54.304Z"
   },
   {
    "duration": 0,
    "start_time": "2025-04-07T03:23:54.305Z"
   },
   {
    "duration": 0,
    "start_time": "2025-04-07T03:23:54.306Z"
   },
   {
    "duration": 0,
    "start_time": "2025-04-07T03:23:54.307Z"
   },
   {
    "duration": 0,
    "start_time": "2025-04-07T03:23:54.308Z"
   },
   {
    "duration": 0,
    "start_time": "2025-04-07T03:23:54.309Z"
   },
   {
    "duration": 0,
    "start_time": "2025-04-07T03:23:54.310Z"
   },
   {
    "duration": 0,
    "start_time": "2025-04-07T03:23:54.311Z"
   },
   {
    "duration": 0,
    "start_time": "2025-04-07T03:23:54.312Z"
   },
   {
    "duration": 0,
    "start_time": "2025-04-07T03:23:54.313Z"
   },
   {
    "duration": 0,
    "start_time": "2025-04-07T03:23:54.314Z"
   },
   {
    "duration": 0,
    "start_time": "2025-04-07T03:23:54.315Z"
   },
   {
    "duration": 0,
    "start_time": "2025-04-07T03:23:54.316Z"
   },
   {
    "duration": 0,
    "start_time": "2025-04-07T03:23:54.317Z"
   },
   {
    "duration": 0,
    "start_time": "2025-04-07T03:23:54.318Z"
   },
   {
    "duration": 0,
    "start_time": "2025-04-07T03:23:54.360Z"
   },
   {
    "duration": 0,
    "start_time": "2025-04-07T03:23:54.362Z"
   },
   {
    "duration": 0,
    "start_time": "2025-04-07T03:23:54.363Z"
   },
   {
    "duration": 0,
    "start_time": "2025-04-07T03:23:54.364Z"
   },
   {
    "duration": 0,
    "start_time": "2025-04-07T03:23:54.365Z"
   },
   {
    "duration": 0,
    "start_time": "2025-04-07T03:23:54.366Z"
   },
   {
    "duration": 0,
    "start_time": "2025-04-07T03:23:54.367Z"
   },
   {
    "duration": 0,
    "start_time": "2025-04-07T03:23:54.368Z"
   },
   {
    "duration": 0,
    "start_time": "2025-04-07T03:23:54.369Z"
   },
   {
    "duration": 0,
    "start_time": "2025-04-07T03:23:54.370Z"
   },
   {
    "duration": 0,
    "start_time": "2025-04-07T03:23:54.371Z"
   },
   {
    "duration": 0,
    "start_time": "2025-04-07T03:23:54.372Z"
   },
   {
    "duration": 0,
    "start_time": "2025-04-07T03:23:54.373Z"
   },
   {
    "duration": 217,
    "start_time": "2025-04-07T03:25:09.625Z"
   },
   {
    "duration": 170,
    "start_time": "2025-04-07T03:25:10.528Z"
   },
   {
    "duration": 217,
    "start_time": "2025-04-07T03:25:10.784Z"
   },
   {
    "duration": 1542,
    "start_time": "2025-04-07T03:25:22.014Z"
   },
   {
    "duration": 961,
    "start_time": "2025-04-07T03:25:23.561Z"
   },
   {
    "duration": 21,
    "start_time": "2025-04-07T03:25:24.524Z"
   },
   {
    "duration": 104,
    "start_time": "2025-04-07T03:25:24.548Z"
   },
   {
    "duration": 16,
    "start_time": "2025-04-07T03:25:24.654Z"
   },
   {
    "duration": 17,
    "start_time": "2025-04-07T03:25:24.672Z"
   },
   {
    "duration": 8,
    "start_time": "2025-04-07T03:25:24.690Z"
   },
   {
    "duration": 8,
    "start_time": "2025-04-07T03:25:24.700Z"
   },
   {
    "duration": 352,
    "start_time": "2025-04-07T03:25:24.709Z"
   },
   {
    "duration": 228,
    "start_time": "2025-04-07T03:25:25.063Z"
   },
   {
    "duration": 186,
    "start_time": "2025-04-07T03:25:25.292Z"
   },
   {
    "duration": 218,
    "start_time": "2025-04-07T03:25:25.480Z"
   },
   {
    "duration": 202,
    "start_time": "2025-04-07T03:25:25.702Z"
   },
   {
    "duration": 72,
    "start_time": "2025-04-07T03:25:25.905Z"
   },
   {
    "duration": 186,
    "start_time": "2025-04-07T03:25:25.979Z"
   },
   {
    "duration": 3679,
    "start_time": "2025-04-07T03:25:26.167Z"
   },
   {
    "duration": 233,
    "start_time": "2025-04-07T03:25:29.848Z"
   },
   {
    "duration": 20,
    "start_time": "2025-04-07T03:25:30.082Z"
   },
   {
    "duration": 145,
    "start_time": "2025-04-07T03:25:30.103Z"
   },
   {
    "duration": 32,
    "start_time": "2025-04-07T03:25:30.249Z"
   },
   {
    "duration": 129,
    "start_time": "2025-04-07T03:25:30.282Z"
   },
   {
    "duration": 521,
    "start_time": "2025-04-07T03:25:30.413Z"
   },
   {
    "duration": 55,
    "start_time": "2025-04-07T03:25:30.961Z"
   },
   {
    "duration": 18,
    "start_time": "2025-04-07T03:25:31.018Z"
   },
   {
    "duration": 448,
    "start_time": "2025-04-07T03:25:31.038Z"
   },
   {
    "duration": 4,
    "start_time": "2025-04-07T03:25:31.488Z"
   },
   {
    "duration": 501,
    "start_time": "2025-04-07T03:25:31.494Z"
   },
   {
    "duration": 741,
    "start_time": "2025-04-07T03:25:31.996Z"
   },
   {
    "duration": 4121,
    "start_time": "2025-04-07T03:25:32.739Z"
   },
   {
    "duration": 31,
    "start_time": "2025-04-07T03:25:36.862Z"
   },
   {
    "duration": 218,
    "start_time": "2025-04-07T03:25:36.894Z"
   },
   {
    "duration": 4,
    "start_time": "2025-04-07T03:25:37.114Z"
   },
   {
    "duration": 40,
    "start_time": "2025-04-07T03:25:37.120Z"
   },
   {
    "duration": 312,
    "start_time": "2025-04-07T03:25:37.162Z"
   },
   {
    "duration": 51,
    "start_time": "2025-04-07T03:25:37.476Z"
   },
   {
    "duration": 387,
    "start_time": "2025-04-07T03:25:37.529Z"
   },
   {
    "duration": 44,
    "start_time": "2025-04-07T03:25:37.918Z"
   },
   {
    "duration": 381,
    "start_time": "2025-04-07T03:25:37.964Z"
   },
   {
    "duration": 49,
    "start_time": "2025-04-07T03:25:38.346Z"
   },
   {
    "duration": 366,
    "start_time": "2025-04-07T03:25:38.399Z"
   },
   {
    "duration": 50,
    "start_time": "2025-04-07T03:25:38.767Z"
   },
   {
    "duration": 383,
    "start_time": "2025-04-07T03:25:38.819Z"
   },
   {
    "duration": 16,
    "start_time": "2025-04-07T03:25:39.204Z"
   },
   {
    "duration": 175,
    "start_time": "2025-04-07T03:25:39.221Z"
   },
   {
    "duration": 29,
    "start_time": "2025-04-07T03:25:39.397Z"
   },
   {
    "duration": 222,
    "start_time": "2025-04-07T03:25:39.428Z"
   },
   {
    "duration": 42,
    "start_time": "2025-04-07T03:25:39.652Z"
   },
   {
    "duration": 2335,
    "start_time": "2025-04-07T03:25:39.697Z"
   },
   {
    "duration": 1162,
    "start_time": "2025-04-07T03:25:56.793Z"
   },
   {
    "duration": 1171,
    "start_time": "2025-04-07T03:26:25.856Z"
   },
   {
    "duration": 1515,
    "start_time": "2025-04-16T21:01:18.738Z"
   },
   {
    "duration": 868,
    "start_time": "2025-04-16T21:01:20.254Z"
   },
   {
    "duration": 17,
    "start_time": "2025-04-16T21:01:21.124Z"
   },
   {
    "duration": 105,
    "start_time": "2025-04-16T21:01:21.143Z"
   },
   {
    "duration": 11,
    "start_time": "2025-04-16T21:01:21.249Z"
   },
   {
    "duration": 22,
    "start_time": "2025-04-16T21:01:21.261Z"
   },
   {
    "duration": 40,
    "start_time": "2025-04-16T21:01:21.285Z"
   },
   {
    "duration": 26,
    "start_time": "2025-04-16T21:01:21.326Z"
   },
   {
    "duration": 639,
    "start_time": "2025-04-16T21:01:21.354Z"
   },
   {
    "duration": 686,
    "start_time": "2025-04-16T21:01:21.996Z"
   },
   {
    "duration": 176,
    "start_time": "2025-04-16T21:01:22.683Z"
   },
   {
    "duration": 667,
    "start_time": "2025-04-16T21:01:22.861Z"
   },
   {
    "duration": 186,
    "start_time": "2025-04-16T21:01:23.530Z"
   },
   {
    "duration": 66,
    "start_time": "2025-04-16T21:01:23.718Z"
   },
   {
    "duration": 181,
    "start_time": "2025-04-16T21:01:23.785Z"
   },
   {
    "duration": 5193,
    "start_time": "2025-04-16T21:01:23.968Z"
   },
   {
    "duration": 235,
    "start_time": "2025-04-16T21:01:29.163Z"
   },
   {
    "duration": 22,
    "start_time": "2025-04-16T21:01:29.400Z"
   },
   {
    "duration": 131,
    "start_time": "2025-04-16T21:01:29.423Z"
   },
   {
    "duration": 26,
    "start_time": "2025-04-16T21:01:29.555Z"
   },
   {
    "duration": 26,
    "start_time": "2025-04-16T21:01:29.583Z"
   },
   {
    "duration": 410,
    "start_time": "2025-04-16T21:01:29.611Z"
   },
   {
    "duration": 54,
    "start_time": "2025-04-16T21:01:30.023Z"
   },
   {
    "duration": 89,
    "start_time": "2025-04-16T21:01:30.078Z"
   },
   {
    "duration": 506,
    "start_time": "2025-04-16T21:01:30.169Z"
   },
   {
    "duration": 5,
    "start_time": "2025-04-16T21:01:30.677Z"
   },
   {
    "duration": 559,
    "start_time": "2025-04-16T21:01:30.684Z"
   },
   {
    "duration": 745,
    "start_time": "2025-04-16T21:01:31.248Z"
   },
   {
    "duration": 5655,
    "start_time": "2025-04-16T21:01:31.994Z"
   },
   {
    "duration": 172,
    "start_time": "2025-04-16T21:01:37.651Z"
   },
   {
    "duration": 198,
    "start_time": "2025-04-16T21:01:37.825Z"
   },
   {
    "duration": 10,
    "start_time": "2025-04-16T21:01:38.026Z"
   },
   {
    "duration": 119,
    "start_time": "2025-04-16T21:01:38.038Z"
   },
   {
    "duration": 149,
    "start_time": "2025-04-16T21:01:38.158Z"
   },
   {
    "duration": 161,
    "start_time": "2025-04-16T21:01:38.309Z"
   },
   {
    "duration": 220,
    "start_time": "2025-04-16T21:01:38.471Z"
   },
   {
    "duration": 46,
    "start_time": "2025-04-16T21:01:38.693Z"
   },
   {
    "duration": 177,
    "start_time": "2025-04-16T21:01:38.740Z"
   },
   {
    "duration": 59,
    "start_time": "2025-04-16T21:01:38.919Z"
   },
   {
    "duration": 171,
    "start_time": "2025-04-16T21:01:38.980Z"
   },
   {
    "duration": 55,
    "start_time": "2025-04-16T21:01:39.152Z"
   },
   {
    "duration": 214,
    "start_time": "2025-04-16T21:01:39.209Z"
   },
   {
    "duration": 22,
    "start_time": "2025-04-16T21:01:39.425Z"
   },
   {
    "duration": 10,
    "start_time": "2025-04-16T21:01:39.448Z"
   },
   {
    "duration": 46,
    "start_time": "2025-04-16T21:01:39.460Z"
   },
   {
    "duration": 164,
    "start_time": "2025-04-16T21:01:39.508Z"
   },
   {
    "duration": 70,
    "start_time": "2025-04-16T21:01:39.673Z"
   },
   {
    "duration": 748,
    "start_time": "2025-04-16T21:01:39.745Z"
   },
   {
    "duration": 74,
    "start_time": "2025-04-16T21:01:40.495Z"
   },
   {
    "duration": 0,
    "start_time": "2025-04-16T21:01:40.571Z"
   },
   {
    "duration": 0,
    "start_time": "2025-04-16T21:01:40.572Z"
   },
   {
    "duration": 0,
    "start_time": "2025-04-16T21:01:40.573Z"
   },
   {
    "duration": 0,
    "start_time": "2025-04-16T21:01:40.575Z"
   },
   {
    "duration": 0,
    "start_time": "2025-04-16T21:01:40.576Z"
   },
   {
    "duration": 0,
    "start_time": "2025-04-16T21:01:40.576Z"
   },
   {
    "duration": 0,
    "start_time": "2025-04-16T21:01:40.578Z"
   },
   {
    "duration": 0,
    "start_time": "2025-04-16T21:01:40.579Z"
   },
   {
    "duration": 0,
    "start_time": "2025-04-16T21:01:40.580Z"
   },
   {
    "duration": 0,
    "start_time": "2025-04-16T21:01:40.581Z"
   },
   {
    "duration": 0,
    "start_time": "2025-04-16T21:01:40.582Z"
   },
   {
    "duration": 0,
    "start_time": "2025-04-16T21:01:40.583Z"
   },
   {
    "duration": 0,
    "start_time": "2025-04-16T21:01:40.584Z"
   },
   {
    "duration": 0,
    "start_time": "2025-04-16T21:01:40.585Z"
   },
   {
    "duration": 0,
    "start_time": "2025-04-16T21:01:40.586Z"
   },
   {
    "duration": 0,
    "start_time": "2025-04-16T21:01:40.587Z"
   },
   {
    "duration": 0,
    "start_time": "2025-04-16T21:01:40.588Z"
   },
   {
    "duration": 0,
    "start_time": "2025-04-16T21:01:40.590Z"
   },
   {
    "duration": 1049,
    "start_time": "2025-04-16T21:02:34.302Z"
   },
   {
    "duration": 1148,
    "start_time": "2025-04-16T21:02:41.600Z"
   },
   {
    "duration": 868,
    "start_time": "2025-04-16T21:02:42.750Z"
   },
   {
    "duration": 16,
    "start_time": "2025-04-16T21:02:43.620Z"
   },
   {
    "duration": 107,
    "start_time": "2025-04-16T21:02:43.638Z"
   },
   {
    "duration": 10,
    "start_time": "2025-04-16T21:02:43.746Z"
   },
   {
    "duration": 19,
    "start_time": "2025-04-16T21:02:43.758Z"
   },
   {
    "duration": 13,
    "start_time": "2025-04-16T21:02:43.778Z"
   },
   {
    "duration": 65,
    "start_time": "2025-04-16T21:02:43.792Z"
   },
   {
    "duration": 683,
    "start_time": "2025-04-16T21:02:43.859Z"
   },
   {
    "duration": 713,
    "start_time": "2025-04-16T21:02:44.545Z"
   },
   {
    "duration": 181,
    "start_time": "2025-04-16T21:02:45.259Z"
   },
   {
    "duration": 671,
    "start_time": "2025-04-16T21:02:45.442Z"
   },
   {
    "duration": 185,
    "start_time": "2025-04-16T21:02:46.115Z"
   },
   {
    "duration": 70,
    "start_time": "2025-04-16T21:02:46.301Z"
   },
   {
    "duration": 191,
    "start_time": "2025-04-16T21:02:46.373Z"
   },
   {
    "duration": 5281,
    "start_time": "2025-04-16T21:02:46.565Z"
   },
   {
    "duration": 239,
    "start_time": "2025-04-16T21:02:51.848Z"
   },
   {
    "duration": 101,
    "start_time": "2025-04-16T21:02:52.088Z"
   },
   {
    "duration": 126,
    "start_time": "2025-04-16T21:02:52.191Z"
   },
   {
    "duration": 36,
    "start_time": "2025-04-16T21:02:52.318Z"
   },
   {
    "duration": 27,
    "start_time": "2025-04-16T21:02:52.356Z"
   },
   {
    "duration": 405,
    "start_time": "2025-04-16T21:02:52.384Z"
   },
   {
    "duration": 49,
    "start_time": "2025-04-16T21:02:52.790Z"
   },
   {
    "duration": 18,
    "start_time": "2025-04-16T21:02:52.840Z"
   },
   {
    "duration": 525,
    "start_time": "2025-04-16T21:02:52.859Z"
   },
   {
    "duration": 4,
    "start_time": "2025-04-16T21:02:53.386Z"
   },
   {
    "duration": 517,
    "start_time": "2025-04-16T21:02:53.392Z"
   },
   {
    "duration": 753,
    "start_time": "2025-04-16T21:02:53.914Z"
   },
   {
    "duration": 5725,
    "start_time": "2025-04-16T21:02:54.669Z"
   },
   {
    "duration": 171,
    "start_time": "2025-04-16T21:03:00.396Z"
   },
   {
    "duration": 194,
    "start_time": "2025-04-16T21:03:00.569Z"
   },
   {
    "duration": 3,
    "start_time": "2025-04-16T21:03:00.765Z"
   },
   {
    "duration": 67,
    "start_time": "2025-04-16T21:03:00.770Z"
   },
   {
    "duration": 156,
    "start_time": "2025-04-16T21:03:00.838Z"
   },
   {
    "duration": 157,
    "start_time": "2025-04-16T21:03:00.996Z"
   },
   {
    "duration": 215,
    "start_time": "2025-04-16T21:03:01.155Z"
   },
   {
    "duration": 39,
    "start_time": "2025-04-16T21:03:01.371Z"
   },
   {
    "duration": 226,
    "start_time": "2025-04-16T21:03:01.412Z"
   },
   {
    "duration": 50,
    "start_time": "2025-04-16T21:03:01.640Z"
   },
   {
    "duration": 162,
    "start_time": "2025-04-16T21:03:01.692Z"
   },
   {
    "duration": 54,
    "start_time": "2025-04-16T21:03:01.856Z"
   },
   {
    "duration": 208,
    "start_time": "2025-04-16T21:03:01.912Z"
   },
   {
    "duration": 27,
    "start_time": "2025-04-16T21:03:02.121Z"
   },
   {
    "duration": 67,
    "start_time": "2025-04-16T21:03:02.149Z"
   },
   {
    "duration": 46,
    "start_time": "2025-04-16T21:03:02.217Z"
   },
   {
    "duration": 206,
    "start_time": "2025-04-16T21:03:02.265Z"
   },
   {
    "duration": 68,
    "start_time": "2025-04-16T21:03:02.473Z"
   },
   {
    "duration": 746,
    "start_time": "2025-04-16T21:03:02.543Z"
   },
   {
    "duration": 1019,
    "start_time": "2025-04-16T21:03:03.291Z"
   },
   {
    "duration": 141,
    "start_time": "2025-04-16T21:03:04.312Z"
   },
   {
    "duration": 58,
    "start_time": "2025-04-16T21:03:04.455Z"
   },
   {
    "duration": 410,
    "start_time": "2025-04-16T21:03:04.514Z"
   },
   {
    "duration": 81,
    "start_time": "2025-04-16T21:03:04.926Z"
   },
   {
    "duration": 8,
    "start_time": "2025-04-16T21:03:05.009Z"
   },
   {
    "duration": 95,
    "start_time": "2025-04-16T21:03:05.019Z"
   },
   {
    "duration": 22,
    "start_time": "2025-04-16T21:03:05.116Z"
   },
   {
    "duration": 129,
    "start_time": "2025-04-16T21:03:05.140Z"
   },
   {
    "duration": 6,
    "start_time": "2025-04-16T21:03:05.270Z"
   },
   {
    "duration": 162,
    "start_time": "2025-04-16T21:03:05.277Z"
   },
   {
    "duration": 15,
    "start_time": "2025-04-16T21:03:05.440Z"
   },
   {
    "duration": 52,
    "start_time": "2025-04-16T21:03:05.457Z"
   },
   {
    "duration": 67,
    "start_time": "2025-04-16T21:03:05.511Z"
   },
   {
    "duration": 7,
    "start_time": "2025-04-16T21:03:05.579Z"
   },
   {
    "duration": 40,
    "start_time": "2025-04-16T21:03:05.587Z"
   },
   {
    "duration": 19,
    "start_time": "2025-04-16T21:03:05.629Z"
   },
   {
    "duration": 27,
    "start_time": "2025-04-16T21:03:05.650Z"
   },
   {
    "duration": 47,
    "start_time": "2025-04-16T21:03:05.678Z"
   },
   {
    "duration": 1129,
    "start_time": "2025-04-23T19:27:55.048Z"
   },
   {
    "duration": 882,
    "start_time": "2025-04-23T19:27:56.179Z"
   },
   {
    "duration": 21,
    "start_time": "2025-04-23T19:27:57.062Z"
   },
   {
    "duration": 93,
    "start_time": "2025-04-23T19:27:57.084Z"
   },
   {
    "duration": 11,
    "start_time": "2025-04-23T19:27:57.179Z"
   },
   {
    "duration": 17,
    "start_time": "2025-04-23T19:27:57.192Z"
   },
   {
    "duration": 8,
    "start_time": "2025-04-23T19:27:57.210Z"
   },
   {
    "duration": 14,
    "start_time": "2025-04-23T19:27:57.235Z"
   },
   {
    "duration": 642,
    "start_time": "2025-04-23T19:27:57.251Z"
   },
   {
    "duration": 689,
    "start_time": "2025-04-23T19:27:57.897Z"
   },
   {
    "duration": 181,
    "start_time": "2025-04-23T19:27:58.588Z"
   },
   {
    "duration": 673,
    "start_time": "2025-04-23T19:27:58.771Z"
   },
   {
    "duration": 180,
    "start_time": "2025-04-23T19:27:59.446Z"
   },
   {
    "duration": 60,
    "start_time": "2025-04-23T19:27:59.627Z"
   },
   {
    "duration": 186,
    "start_time": "2025-04-23T19:27:59.689Z"
   },
   {
    "duration": 5194,
    "start_time": "2025-04-23T19:27:59.877Z"
   },
   {
    "duration": 236,
    "start_time": "2025-04-23T19:28:05.073Z"
   },
   {
    "duration": 30,
    "start_time": "2025-04-23T19:28:05.310Z"
   },
   {
    "duration": 121,
    "start_time": "2025-04-23T19:28:05.342Z"
   },
   {
    "duration": 27,
    "start_time": "2025-04-23T19:28:05.465Z"
   },
   {
    "duration": 42,
    "start_time": "2025-04-23T19:28:05.494Z"
   },
   {
    "duration": 398,
    "start_time": "2025-04-23T19:28:05.538Z"
   },
   {
    "duration": 44,
    "start_time": "2025-04-23T19:28:05.938Z"
   },
   {
    "duration": 18,
    "start_time": "2025-04-23T19:28:05.984Z"
   },
   {
    "duration": 495,
    "start_time": "2025-04-23T19:28:06.004Z"
   },
   {
    "duration": 6,
    "start_time": "2025-04-23T19:28:06.502Z"
   },
   {
    "duration": 518,
    "start_time": "2025-04-23T19:28:06.510Z"
   },
   {
    "duration": 718,
    "start_time": "2025-04-23T19:28:07.036Z"
   },
   {
    "duration": 5655,
    "start_time": "2025-04-23T19:28:07.756Z"
   },
   {
    "duration": 159,
    "start_time": "2025-04-23T19:28:13.413Z"
   },
   {
    "duration": 189,
    "start_time": "2025-04-23T19:28:13.574Z"
   },
   {
    "duration": 4,
    "start_time": "2025-04-23T19:28:13.764Z"
   },
   {
    "duration": 24,
    "start_time": "2025-04-23T19:28:13.769Z"
   },
   {
    "duration": 160,
    "start_time": "2025-04-23T19:28:13.794Z"
   },
   {
    "duration": 158,
    "start_time": "2025-04-23T19:28:13.956Z"
   },
   {
    "duration": 215,
    "start_time": "2025-04-23T19:28:14.116Z"
   },
   {
    "duration": 36,
    "start_time": "2025-04-23T19:28:14.333Z"
   },
   {
    "duration": 178,
    "start_time": "2025-04-23T19:28:14.370Z"
   },
   {
    "duration": 52,
    "start_time": "2025-04-23T19:28:14.550Z"
   },
   {
    "duration": 163,
    "start_time": "2025-04-23T19:28:14.604Z"
   },
   {
    "duration": 67,
    "start_time": "2025-04-23T19:28:14.769Z"
   },
   {
    "duration": 201,
    "start_time": "2025-04-23T19:28:14.838Z"
   },
   {
    "duration": 19,
    "start_time": "2025-04-23T19:28:15.041Z"
   },
   {
    "duration": 43,
    "start_time": "2025-04-23T19:28:15.062Z"
   },
   {
    "duration": 38,
    "start_time": "2025-04-23T19:28:15.107Z"
   },
   {
    "duration": 169,
    "start_time": "2025-04-23T19:28:15.147Z"
   },
   {
    "duration": 68,
    "start_time": "2025-04-23T19:28:15.318Z"
   },
   {
    "duration": 1023,
    "start_time": "2025-04-23T19:28:15.388Z"
   },
   {
    "duration": 141,
    "start_time": "2025-04-23T19:28:16.413Z"
   },
   {
    "duration": 63,
    "start_time": "2025-04-23T19:28:16.556Z"
   },
   {
    "duration": 399,
    "start_time": "2025-04-23T19:28:16.621Z"
   },
   {
    "duration": 91,
    "start_time": "2025-04-23T19:28:17.021Z"
   },
   {
    "duration": 21,
    "start_time": "2025-04-23T19:28:17.114Z"
   },
   {
    "duration": 102,
    "start_time": "2025-04-23T19:28:17.138Z"
   },
   {
    "duration": 11,
    "start_time": "2025-04-23T19:28:17.241Z"
   },
   {
    "duration": 102,
    "start_time": "2025-04-23T19:28:17.253Z"
   },
   {
    "duration": 4,
    "start_time": "2025-04-23T19:28:17.357Z"
   },
   {
    "duration": 83,
    "start_time": "2025-04-23T19:28:17.363Z"
   },
   {
    "duration": 8,
    "start_time": "2025-04-23T19:28:17.447Z"
   },
   {
    "duration": 15,
    "start_time": "2025-04-23T19:28:17.456Z"
   },
   {
    "duration": 79,
    "start_time": "2025-04-23T19:28:17.472Z"
   },
   {
    "duration": 6,
    "start_time": "2025-04-23T19:28:17.553Z"
   },
   {
    "duration": 4,
    "start_time": "2025-04-23T19:28:17.561Z"
   },
   {
    "duration": 8,
    "start_time": "2025-04-23T19:28:17.566Z"
   },
   {
    "duration": 7,
    "start_time": "2025-04-23T19:28:17.576Z"
   },
   {
    "duration": 14,
    "start_time": "2025-04-23T19:28:17.584Z"
   }
  ],
  "colab": {
   "provenance": []
  },
  "kernelspec": {
   "display_name": "Python 3 (ipykernel)",
   "language": "python",
   "name": "python3"
  },
  "language_info": {
   "codemirror_mode": {
    "name": "ipython",
    "version": 3
   },
   "file_extension": ".py",
   "mimetype": "text/x-python",
   "name": "python",
   "nbconvert_exporter": "python",
   "pygments_lexer": "ipython3",
   "version": "3.9.5"
  },
  "toc": {
   "base_numbering": 1,
   "nav_menu": {
    "height": "244px",
    "width": "566px"
   },
   "number_sections": true,
   "sideBar": true,
   "skip_h1_title": true,
   "title_cell": "Table of Contents",
   "title_sidebar": "Contents",
   "toc_cell": false,
   "toc_position": {},
   "toc_section_display": true,
   "toc_window_display": false
  }
 },
 "nbformat": 4,
 "nbformat_minor": 1
}
