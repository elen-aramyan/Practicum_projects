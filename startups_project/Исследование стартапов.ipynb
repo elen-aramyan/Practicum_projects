{
 "cells": [
  {
   "cell_type": "markdown",
   "metadata": {
    "id": "4mJbK1knrJgz"
   },
   "source": [
    "# Проект: Исследование стартапов\n",
    "\n",
    "Автор: Арамян Элен\n",
    "\n",
    "Дата: 08.01.2025"
   ]
  },
  {
   "cell_type": "markdown",
   "metadata": {
    "id": "P6j0r3worJg0"
   },
   "source": [
    "## Введение"
   ]
  },
  {
   "cell_type": "markdown",
   "metadata": {
    "id": "8lQtbsIUyFG6"
   },
   "source": [
    "**Цель**: Подготовить датасет и проверить, что данные в нём соответствуют здравому смыслу, а также ответить на вопросы заказчика как о предобработке, так и о значении данных для бизнеса.\n",
    "\n",
    "**Задачи**:\n",
    "1) Загрузить данные и познакомиться с ними.\n",
    "\n",
    "2) Предобработать данные.\n",
    "\n",
    "3) Провести исследовательский анализ объединенных таблиц.\n",
    "\n",
    "4) Подвести итоги и сформулировать рекомендации."
   ]
  },
  {
   "cell_type": "markdown",
   "metadata": {
    "id": "xqr6uttCrJg0"
   },
   "source": [
    "\n",
    "## Шаг 1. Знакомство с данными: загрузка и первичная предобработка\n",
    "\n",
    "Названия файлов:\n",
    "* acquisition.csv\n",
    "* company_and_rounds.csv\n",
    "* degrees.csv\n",
    "* education.csv\n",
    "* fund.csv\n",
    "* investment.csv\n",
    "* people.csv\n",
    "\n",
    "Они находятся в папке datasets, если вы выполняете работу на платформе. В случае, если вы делаете работу локально, доступ к файлам в папке можно получить по адресу `https://code.s3.yandex.net/datasets/` + имя файла.\n",
    "\n",
    "### 1.1. Вывод общей информации, исправление названия столбцов"
   ]
  },
  {
   "cell_type": "code",
   "execution_count": 1,
   "metadata": {},
   "outputs": [
    {
     "name": "stdout",
     "output_type": "stream",
     "text": [
      "Requirement already satisfied: missingno in /opt/conda/lib/python3.9/site-packages (0.5.2)\n",
      "Requirement already satisfied: matplotlib in /opt/conda/lib/python3.9/site-packages (from missingno) (3.3.4)\n",
      "Requirement already satisfied: numpy in /opt/conda/lib/python3.9/site-packages (from missingno) (1.21.1)\n",
      "Requirement already satisfied: scipy in /opt/conda/lib/python3.9/site-packages (from missingno) (1.9.1)\n",
      "Requirement already satisfied: seaborn in /opt/conda/lib/python3.9/site-packages (from missingno) (0.11.1)\n",
      "Requirement already satisfied: python-dateutil>=2.1 in /opt/conda/lib/python3.9/site-packages (from matplotlib->missingno) (2.8.1)\n",
      "Requirement already satisfied: pillow>=6.2.0 in /opt/conda/lib/python3.9/site-packages (from matplotlib->missingno) (8.4.0)\n",
      "Requirement already satisfied: kiwisolver>=1.0.1 in /opt/conda/lib/python3.9/site-packages (from matplotlib->missingno) (1.4.4)\n",
      "Requirement already satisfied: cycler>=0.10 in /opt/conda/lib/python3.9/site-packages (from matplotlib->missingno) (0.11.0)\n",
      "Requirement already satisfied: pyparsing!=2.0.4,!=2.1.2,!=2.1.6,>=2.0.3 in /opt/conda/lib/python3.9/site-packages (from matplotlib->missingno) (2.4.7)\n",
      "Requirement already satisfied: six>=1.5 in /opt/conda/lib/python3.9/site-packages (from python-dateutil>=2.1->matplotlib->missingno) (1.16.0)\n",
      "Requirement already satisfied: pandas>=0.23 in /opt/conda/lib/python3.9/site-packages (from seaborn->missingno) (1.2.4)\n",
      "Requirement already satisfied: pytz>=2017.3 in /opt/conda/lib/python3.9/site-packages (from pandas>=0.23->seaborn->missingno) (2021.1)\n"
     ]
    }
   ],
   "source": [
    "# Для начала импортируем библиотеки:\n",
    "import pandas as pd\n",
    "\n",
    "\n",
    "import matplotlib.pyplot as plt\n",
    "import seaborn as sns\n",
    "import numpy as np\n",
    "\n",
    "!pip install missingno\n",
    "import missingno as msno"
   ]
  },
  {
   "cell_type": "markdown",
   "metadata": {},
   "source": [
    "\n",
    "* Загрузите все данные по проекту. "
   ]
  },
  {
   "cell_type": "markdown",
   "metadata": {},
   "source": [
    "**Датасет acquisition**"
   ]
  },
  {
   "cell_type": "code",
   "execution_count": 2,
   "metadata": {},
   "outputs": [],
   "source": [
    "# Выгружаем данные:\n",
    "acquisition = pd.read_csv('https://code.s3.yandex.net/datasets/acquisition.csv')\n",
    "company_and_rounds = pd.read_csv('https://code.s3.yandex.net/datasets/company_and_rounds.csv')\n",
    "degrees = pd.read_csv('https://code.s3.yandex.net/datasets/degrees.csv')\n",
    "education = pd.read_csv('https://code.s3.yandex.net/datasets/education.csv')\n",
    "fund = pd.read_csv('https://code.s3.yandex.net/datasets/fund.csv')\n",
    "investment = pd.read_csv('https://code.s3.yandex.net/datasets/investment.csv')\n",
    "people = pd.read_csv('https://code.s3.yandex.net/datasets/people.csv')"
   ]
  },
  {
   "cell_type": "markdown",
   "metadata": {},
   "source": [
    "\n",
    "* Проверьте названия столбцов."
   ]
  },
  {
   "cell_type": "code",
   "execution_count": 3,
   "metadata": {},
   "outputs": [
    {
     "data": {
      "text/html": [
       "<div>\n",
       "<style scoped>\n",
       "    .dataframe tbody tr th:only-of-type {\n",
       "        vertical-align: middle;\n",
       "    }\n",
       "\n",
       "    .dataframe tbody tr th {\n",
       "        vertical-align: top;\n",
       "    }\n",
       "\n",
       "    .dataframe thead th {\n",
       "        text-align: right;\n",
       "    }\n",
       "</style>\n",
       "<table border=\"1\" class=\"dataframe\">\n",
       "  <thead>\n",
       "    <tr style=\"text-align: right;\">\n",
       "      <th></th>\n",
       "      <th>id</th>\n",
       "      <th>acquiring_company_id</th>\n",
       "      <th>acquired_company_id</th>\n",
       "      <th>term_code</th>\n",
       "      <th>price_amount</th>\n",
       "      <th>acquired_at</th>\n",
       "    </tr>\n",
       "  </thead>\n",
       "  <tbody>\n",
       "    <tr>\n",
       "      <th>0</th>\n",
       "      <td>1</td>\n",
       "      <td>11</td>\n",
       "      <td>10</td>\n",
       "      <td>NaN</td>\n",
       "      <td>20000000</td>\n",
       "      <td>2007-05-30</td>\n",
       "    </tr>\n",
       "    <tr>\n",
       "      <th>1</th>\n",
       "      <td>7</td>\n",
       "      <td>59</td>\n",
       "      <td>72</td>\n",
       "      <td>cash</td>\n",
       "      <td>60000000</td>\n",
       "      <td>2007-07-01</td>\n",
       "    </tr>\n",
       "    <tr>\n",
       "      <th>2</th>\n",
       "      <td>8</td>\n",
       "      <td>24</td>\n",
       "      <td>132</td>\n",
       "      <td>cash</td>\n",
       "      <td>280000000</td>\n",
       "      <td>2007-05-01</td>\n",
       "    </tr>\n",
       "    <tr>\n",
       "      <th>3</th>\n",
       "      <td>9</td>\n",
       "      <td>59</td>\n",
       "      <td>155</td>\n",
       "      <td>cash</td>\n",
       "      <td>100000000</td>\n",
       "      <td>2007-06-01</td>\n",
       "    </tr>\n",
       "    <tr>\n",
       "      <th>4</th>\n",
       "      <td>10</td>\n",
       "      <td>212</td>\n",
       "      <td>215</td>\n",
       "      <td>cash</td>\n",
       "      <td>25000000</td>\n",
       "      <td>2007-07-01</td>\n",
       "    </tr>\n",
       "  </tbody>\n",
       "</table>\n",
       "</div>"
      ],
      "text/plain": [
       "   id  acquiring_company_id  acquired_company_id term_code  price_amount  \\\n",
       "0   1                    11                   10       NaN      20000000   \n",
       "1   7                    59                   72      cash      60000000   \n",
       "2   8                    24                  132      cash     280000000   \n",
       "3   9                    59                  155      cash     100000000   \n",
       "4  10                   212                  215      cash      25000000   \n",
       "\n",
       "  acquired_at  \n",
       "0  2007-05-30  \n",
       "1  2007-07-01  \n",
       "2  2007-05-01  \n",
       "3  2007-06-01  \n",
       "4  2007-07-01  "
      ]
     },
     "metadata": {},
     "output_type": "display_data"
    }
   ],
   "source": [
    "# Выведем первые строки датасета acquisition и проверим названия столбцов:\n",
    "display(acquisition.head())"
   ]
  },
  {
   "cell_type": "markdown",
   "metadata": {},
   "source": [
    "Столбцы названы корректно"
   ]
  },
  {
   "cell_type": "markdown",
   "metadata": {},
   "source": [
    "**Датасет company_and_rounds**"
   ]
  },
  {
   "cell_type": "code",
   "execution_count": 4,
   "metadata": {},
   "outputs": [
    {
     "data": {
      "text/html": [
       "<div>\n",
       "<style scoped>\n",
       "    .dataframe tbody tr th:only-of-type {\n",
       "        vertical-align: middle;\n",
       "    }\n",
       "\n",
       "    .dataframe tbody tr th {\n",
       "        vertical-align: top;\n",
       "    }\n",
       "\n",
       "    .dataframe thead th {\n",
       "        text-align: right;\n",
       "    }\n",
       "</style>\n",
       "<table border=\"1\" class=\"dataframe\">\n",
       "  <thead>\n",
       "    <tr style=\"text-align: right;\">\n",
       "      <th></th>\n",
       "      <th>company  ID</th>\n",
       "      <th>name</th>\n",
       "      <th>category  code</th>\n",
       "      <th>status</th>\n",
       "      <th>founded  at</th>\n",
       "      <th>closed  at</th>\n",
       "      <th>domain</th>\n",
       "      <th>network  username</th>\n",
       "      <th>country  code</th>\n",
       "      <th>investment  rounds</th>\n",
       "      <th>funding  rounds</th>\n",
       "      <th>funding  total</th>\n",
       "      <th>milestones</th>\n",
       "      <th>funding  round  id</th>\n",
       "      <th>company  id</th>\n",
       "      <th>funded  at</th>\n",
       "      <th>funding  round  type</th>\n",
       "      <th>raised  amount</th>\n",
       "      <th>pre  money  valuation</th>\n",
       "      <th>participants</th>\n",
       "      <th>is  first  round</th>\n",
       "      <th>is  last  round</th>\n",
       "    </tr>\n",
       "  </thead>\n",
       "  <tbody>\n",
       "    <tr>\n",
       "      <th>0</th>\n",
       "      <td>1.0</td>\n",
       "      <td>Wetpaint</td>\n",
       "      <td>web</td>\n",
       "      <td>operating</td>\n",
       "      <td>2005-10-17</td>\n",
       "      <td>NaN</td>\n",
       "      <td>wetpaint-inc.com</td>\n",
       "      <td>BachelrWetpaint</td>\n",
       "      <td>USA</td>\n",
       "      <td>0.0</td>\n",
       "      <td>3.0</td>\n",
       "      <td>39750000.0</td>\n",
       "      <td>5.0</td>\n",
       "      <td>888.0</td>\n",
       "      <td>1.0</td>\n",
       "      <td>2005-10-01</td>\n",
       "      <td>series-a</td>\n",
       "      <td>5250000.0</td>\n",
       "      <td>0.0</td>\n",
       "      <td>2.0</td>\n",
       "      <td>0.0</td>\n",
       "      <td>1.0</td>\n",
       "    </tr>\n",
       "    <tr>\n",
       "      <th>1</th>\n",
       "      <td>1.0</td>\n",
       "      <td>Wetpaint</td>\n",
       "      <td>web</td>\n",
       "      <td>operating</td>\n",
       "      <td>2005-10-17</td>\n",
       "      <td>NaN</td>\n",
       "      <td>wetpaint-inc.com</td>\n",
       "      <td>BachelrWetpaint</td>\n",
       "      <td>USA</td>\n",
       "      <td>0.0</td>\n",
       "      <td>3.0</td>\n",
       "      <td>39750000.0</td>\n",
       "      <td>5.0</td>\n",
       "      <td>889.0</td>\n",
       "      <td>1.0</td>\n",
       "      <td>2007-01-01</td>\n",
       "      <td>series-b</td>\n",
       "      <td>9500000.0</td>\n",
       "      <td>0.0</td>\n",
       "      <td>3.0</td>\n",
       "      <td>0.0</td>\n",
       "      <td>0.0</td>\n",
       "    </tr>\n",
       "    <tr>\n",
       "      <th>2</th>\n",
       "      <td>1.0</td>\n",
       "      <td>Wetpaint</td>\n",
       "      <td>web</td>\n",
       "      <td>operating</td>\n",
       "      <td>2005-10-17</td>\n",
       "      <td>NaN</td>\n",
       "      <td>wetpaint-inc.com</td>\n",
       "      <td>BachelrWetpaint</td>\n",
       "      <td>USA</td>\n",
       "      <td>0.0</td>\n",
       "      <td>3.0</td>\n",
       "      <td>39750000.0</td>\n",
       "      <td>5.0</td>\n",
       "      <td>2312.0</td>\n",
       "      <td>1.0</td>\n",
       "      <td>2008-05-19</td>\n",
       "      <td>series-c+</td>\n",
       "      <td>25000000.0</td>\n",
       "      <td>0.0</td>\n",
       "      <td>4.0</td>\n",
       "      <td>1.0</td>\n",
       "      <td>0.0</td>\n",
       "    </tr>\n",
       "    <tr>\n",
       "      <th>3</th>\n",
       "      <td>10.0</td>\n",
       "      <td>Flektor</td>\n",
       "      <td>games_video</td>\n",
       "      <td>acquired</td>\n",
       "      <td>NaN</td>\n",
       "      <td>NaN</td>\n",
       "      <td>flektor.com</td>\n",
       "      <td>NaN</td>\n",
       "      <td>USA</td>\n",
       "      <td>0.0</td>\n",
       "      <td>0.0</td>\n",
       "      <td>0.0</td>\n",
       "      <td>0.0</td>\n",
       "      <td>NaN</td>\n",
       "      <td>NaN</td>\n",
       "      <td>NaN</td>\n",
       "      <td>NaN</td>\n",
       "      <td>NaN</td>\n",
       "      <td>NaN</td>\n",
       "      <td>NaN</td>\n",
       "      <td>NaN</td>\n",
       "      <td>NaN</td>\n",
       "    </tr>\n",
       "    <tr>\n",
       "      <th>4</th>\n",
       "      <td>100.0</td>\n",
       "      <td>There</td>\n",
       "      <td>games_video</td>\n",
       "      <td>acquired</td>\n",
       "      <td>NaN</td>\n",
       "      <td>NaN</td>\n",
       "      <td>there.com</td>\n",
       "      <td>NaN</td>\n",
       "      <td>USA</td>\n",
       "      <td>0.0</td>\n",
       "      <td>0.0</td>\n",
       "      <td>0.0</td>\n",
       "      <td>4.0</td>\n",
       "      <td>NaN</td>\n",
       "      <td>NaN</td>\n",
       "      <td>NaN</td>\n",
       "      <td>NaN</td>\n",
       "      <td>NaN</td>\n",
       "      <td>NaN</td>\n",
       "      <td>NaN</td>\n",
       "      <td>NaN</td>\n",
       "      <td>NaN</td>\n",
       "    </tr>\n",
       "  </tbody>\n",
       "</table>\n",
       "</div>"
      ],
      "text/plain": [
       "   company  ID      name category  code     status founded  at closed  at  \\\n",
       "0          1.0  Wetpaint            web  operating  2005-10-17        NaN   \n",
       "1          1.0  Wetpaint            web  operating  2005-10-17        NaN   \n",
       "2          1.0  Wetpaint            web  operating  2005-10-17        NaN   \n",
       "3         10.0   Flektor    games_video   acquired         NaN        NaN   \n",
       "4        100.0     There    games_video   acquired         NaN        NaN   \n",
       "\n",
       "             domain network  username country  code  investment  rounds  \\\n",
       "0  wetpaint-inc.com   BachelrWetpaint           USA                 0.0   \n",
       "1  wetpaint-inc.com   BachelrWetpaint           USA                 0.0   \n",
       "2  wetpaint-inc.com   BachelrWetpaint           USA                 0.0   \n",
       "3       flektor.com               NaN           USA                 0.0   \n",
       "4         there.com               NaN           USA                 0.0   \n",
       "\n",
       "   funding  rounds  funding  total  milestones  funding  round  id  \\\n",
       "0              3.0      39750000.0         5.0               888.0   \n",
       "1              3.0      39750000.0         5.0               889.0   \n",
       "2              3.0      39750000.0         5.0              2312.0   \n",
       "3              0.0             0.0         0.0                 NaN   \n",
       "4              0.0             0.0         4.0                 NaN   \n",
       "\n",
       "   company  id  funded  at funding  round  type  raised  amount  \\\n",
       "0          1.0  2005-10-01             series-a       5250000.0   \n",
       "1          1.0  2007-01-01             series-b       9500000.0   \n",
       "2          1.0  2008-05-19            series-c+      25000000.0   \n",
       "3          NaN         NaN                  NaN             NaN   \n",
       "4          NaN         NaN                  NaN             NaN   \n",
       "\n",
       "   pre  money  valuation  participants  is  first  round  is  last  round  \n",
       "0                    0.0           2.0               0.0              1.0  \n",
       "1                    0.0           3.0               0.0              0.0  \n",
       "2                    0.0           4.0               1.0              0.0  \n",
       "3                    NaN           NaN               NaN              NaN  \n",
       "4                    NaN           NaN               NaN              NaN  "
      ]
     },
     "metadata": {},
     "output_type": "display_data"
    }
   ],
   "source": [
    "# Поскольку столбцов тут много - настроим опцию, чтобы видеть все:\n",
    "pd.set_option('display.max_columns', None)\n",
    "\n",
    "# Выведем первые строки датасета company_and_rounds и проверим названия столбцов:\n",
    "display(company_and_rounds.head())"
   ]
  },
  {
   "cell_type": "markdown",
   "metadata": {},
   "source": [
    "Столбцы названы корректно. Однако видим, что названия столбцов не нормализованы, поправим это"
   ]
  },
  {
   "cell_type": "code",
   "execution_count": 5,
   "metadata": {},
   "outputs": [
    {
     "name": "stdout",
     "output_type": "stream",
     "text": [
      "<class 'pandas.core.frame.DataFrame'>\n",
      "RangeIndex: 217774 entries, 0 to 217773\n",
      "Data columns (total 22 columns):\n",
      " #   Column               Non-Null Count   Dtype  \n",
      "---  ------               --------------   -----  \n",
      " 0   company_ID           217472 non-null  float64\n",
      " 1   name                 217472 non-null  object \n",
      " 2   category_code        143886 non-null  object \n",
      " 3   status               217472 non-null  object \n",
      " 4   founded_at           109956 non-null  object \n",
      " 5   closed_at            3449 non-null    object \n",
      " 6   domain               147159 non-null  object \n",
      " 7   network_username     95534 non-null   object \n",
      " 8   country_code         108607 non-null  object \n",
      " 9   investment_rounds    217472 non-null  float64\n",
      " 10  funding_rounds       217472 non-null  float64\n",
      " 11  funding_total        217472 non-null  float64\n",
      " 12  milestones           217472 non-null  float64\n",
      " 13  funding_round_id     52928 non-null   float64\n",
      " 14  company_id           52928 non-null   float64\n",
      " 15  funded_at            52680 non-null   object \n",
      " 16  funding_round_type   52928 non-null   object \n",
      " 17  raised_amount        52928 non-null   float64\n",
      " 18  pre_money_valuation  52928 non-null   float64\n",
      " 19  participants         52928 non-null   float64\n",
      " 20  is_first_round       52928 non-null   float64\n",
      " 21  is_last_round        52928 non-null   float64\n",
      "dtypes: float64(12), object(10)\n",
      "memory usage: 36.6+ MB\n"
     ]
    }
   ],
   "source": [
    "# Выведем названия столбцов датасета:\n",
    "company_and_rounds.columns\n",
    "\n",
    "# Сохраним список с нормализованными названиями (приведенными к snake_case):\n",
    "correct_columns = ['company_ID', 'name', 'category_code', 'status', 'founded_at',\n",
    "       'closed_at', 'domain', 'network_username', 'country_code',\n",
    "       'investment_rounds', 'funding_rounds', 'funding_total', 'milestones',\n",
    "       'funding_round_id', 'company_id', 'funded_at',\n",
    "       'funding_round_type', 'raised_amount', 'pre_money_valuation',\n",
    "       'participants', 'is_first_round', 'is_last_round']\n",
    "# тут кстати еще можно было сделать через rename и поменять двойной пробел \"  \" на \"_\"  \n",
    "\n",
    "# Передадим новый список датасету:\n",
    "company_and_rounds.columns = correct_columns\n",
    "\n",
    "# Проверка:\n",
    "company_and_rounds.info()"
   ]
  },
  {
   "cell_type": "markdown",
   "metadata": {},
   "source": [
    "**Датасет degrees**"
   ]
  },
  {
   "cell_type": "code",
   "execution_count": 6,
   "metadata": {
    "scrolled": true
   },
   "outputs": [
    {
     "data": {
      "text/html": [
       "<div>\n",
       "<style scoped>\n",
       "    .dataframe tbody tr th:only-of-type {\n",
       "        vertical-align: middle;\n",
       "    }\n",
       "\n",
       "    .dataframe tbody tr th {\n",
       "        vertical-align: top;\n",
       "    }\n",
       "\n",
       "    .dataframe thead th {\n",
       "        text-align: right;\n",
       "    }\n",
       "</style>\n",
       "<table border=\"1\" class=\"dataframe\">\n",
       "  <thead>\n",
       "    <tr style=\"text-align: right;\">\n",
       "      <th></th>\n",
       "      <th>id</th>\n",
       "      <th>object_id</th>\n",
       "      <th>degree_type</th>\n",
       "      <th>subject</th>\n",
       "    </tr>\n",
       "  </thead>\n",
       "  <tbody>\n",
       "    <tr>\n",
       "      <th>0</th>\n",
       "      <td>1</td>\n",
       "      <td>p:6117</td>\n",
       "      <td>MBA</td>\n",
       "      <td>NaN</td>\n",
       "    </tr>\n",
       "    <tr>\n",
       "      <th>1</th>\n",
       "      <td>2</td>\n",
       "      <td>p:6136</td>\n",
       "      <td>BA</td>\n",
       "      <td>English, French</td>\n",
       "    </tr>\n",
       "    <tr>\n",
       "      <th>2</th>\n",
       "      <td>3</td>\n",
       "      <td>p:6136</td>\n",
       "      <td>MS</td>\n",
       "      <td>Mass Communication</td>\n",
       "    </tr>\n",
       "    <tr>\n",
       "      <th>3</th>\n",
       "      <td>4</td>\n",
       "      <td>p:6005</td>\n",
       "      <td>MS</td>\n",
       "      <td>Internet Technology</td>\n",
       "    </tr>\n",
       "    <tr>\n",
       "      <th>4</th>\n",
       "      <td>5</td>\n",
       "      <td>p:5832</td>\n",
       "      <td>BCS</td>\n",
       "      <td>Computer Science, Psychology</td>\n",
       "    </tr>\n",
       "  </tbody>\n",
       "</table>\n",
       "</div>"
      ],
      "text/plain": [
       "   id object_id degree_type                       subject\n",
       "0   1    p:6117         MBA                           NaN\n",
       "1   2    p:6136          BA               English, French\n",
       "2   3    p:6136          MS            Mass Communication\n",
       "3   4    p:6005          MS           Internet Technology\n",
       "4   5    p:5832         BCS  Computer Science, Psychology"
      ]
     },
     "metadata": {},
     "output_type": "display_data"
    }
   ],
   "source": [
    "# Выведем первые строки датасета degrees и проверим названия столбцов:\n",
    "display(degrees.head())"
   ]
  },
  {
   "cell_type": "markdown",
   "metadata": {},
   "source": [
    "Столбцы названы корректно"
   ]
  },
  {
   "cell_type": "markdown",
   "metadata": {},
   "source": [
    "**Датасет education**"
   ]
  },
  {
   "cell_type": "code",
   "execution_count": 7,
   "metadata": {},
   "outputs": [
    {
     "data": {
      "text/html": [
       "<div>\n",
       "<style scoped>\n",
       "    .dataframe tbody tr th:only-of-type {\n",
       "        vertical-align: middle;\n",
       "    }\n",
       "\n",
       "    .dataframe tbody tr th {\n",
       "        vertical-align: top;\n",
       "    }\n",
       "\n",
       "    .dataframe thead th {\n",
       "        text-align: right;\n",
       "    }\n",
       "</style>\n",
       "<table border=\"1\" class=\"dataframe\">\n",
       "  <thead>\n",
       "    <tr style=\"text-align: right;\">\n",
       "      <th></th>\n",
       "      <th>id</th>\n",
       "      <th>person_id</th>\n",
       "      <th>instituition</th>\n",
       "      <th>graduated_at</th>\n",
       "    </tr>\n",
       "  </thead>\n",
       "  <tbody>\n",
       "    <tr>\n",
       "      <th>0</th>\n",
       "      <td>1</td>\n",
       "      <td>6117</td>\n",
       "      <td>NaN</td>\n",
       "      <td>NaN</td>\n",
       "    </tr>\n",
       "    <tr>\n",
       "      <th>1</th>\n",
       "      <td>2</td>\n",
       "      <td>6136</td>\n",
       "      <td>Washington University, St. Louis</td>\n",
       "      <td>1990-01-01</td>\n",
       "    </tr>\n",
       "    <tr>\n",
       "      <th>2</th>\n",
       "      <td>3</td>\n",
       "      <td>6136</td>\n",
       "      <td>Boston University</td>\n",
       "      <td>1992-01-01</td>\n",
       "    </tr>\n",
       "    <tr>\n",
       "      <th>3</th>\n",
       "      <td>4</td>\n",
       "      <td>6005</td>\n",
       "      <td>University of Greenwich</td>\n",
       "      <td>2006-01-01</td>\n",
       "    </tr>\n",
       "    <tr>\n",
       "      <th>4</th>\n",
       "      <td>5</td>\n",
       "      <td>5832</td>\n",
       "      <td>Rice University</td>\n",
       "      <td>NaN</td>\n",
       "    </tr>\n",
       "  </tbody>\n",
       "</table>\n",
       "</div>"
      ],
      "text/plain": [
       "   id  person_id                      instituition graduated_at\n",
       "0   1       6117                               NaN          NaN\n",
       "1   2       6136  Washington University, St. Louis   1990-01-01\n",
       "2   3       6136                 Boston University   1992-01-01\n",
       "3   4       6005           University of Greenwich   2006-01-01\n",
       "4   5       5832                   Rice University          NaN"
      ]
     },
     "metadata": {},
     "output_type": "display_data"
    }
   ],
   "source": [
    "# Выведем первые строки датасета education и проверим названия столбцов:\n",
    "display(education.head())"
   ]
  },
  {
   "cell_type": "markdown",
   "metadata": {},
   "source": [
    "В столбце `instituition` опечатка, поправим это"
   ]
  },
  {
   "cell_type": "code",
   "execution_count": 8,
   "metadata": {},
   "outputs": [],
   "source": [
    "# Переименуем `instituition` -> `institution\n",
    "education = education.rename(columns={'instituition' : 'institution'})"
   ]
  },
  {
   "cell_type": "markdown",
   "metadata": {},
   "source": [
    "**Датасет fund**"
   ]
  },
  {
   "cell_type": "code",
   "execution_count": 9,
   "metadata": {},
   "outputs": [
    {
     "data": {
      "text/html": [
       "<div>\n",
       "<style scoped>\n",
       "    .dataframe tbody tr th:only-of-type {\n",
       "        vertical-align: middle;\n",
       "    }\n",
       "\n",
       "    .dataframe tbody tr th {\n",
       "        vertical-align: top;\n",
       "    }\n",
       "\n",
       "    .dataframe thead th {\n",
       "        text-align: right;\n",
       "    }\n",
       "</style>\n",
       "<table border=\"1\" class=\"dataframe\">\n",
       "  <thead>\n",
       "    <tr style=\"text-align: right;\">\n",
       "      <th></th>\n",
       "      <th>id</th>\n",
       "      <th>name</th>\n",
       "      <th>founded_at</th>\n",
       "      <th>domain</th>\n",
       "      <th>network_username</th>\n",
       "      <th>country_code</th>\n",
       "      <th>investment_rounds</th>\n",
       "      <th>invested_companies</th>\n",
       "      <th>milestones</th>\n",
       "    </tr>\n",
       "  </thead>\n",
       "  <tbody>\n",
       "    <tr>\n",
       "      <th>0</th>\n",
       "      <td>13131</td>\n",
       "      <td>NaN</td>\n",
       "      <td>NaN</td>\n",
       "      <td>NaN</td>\n",
       "      <td>NaN</td>\n",
       "      <td>NaN</td>\n",
       "      <td>0</td>\n",
       "      <td>0</td>\n",
       "      <td>0</td>\n",
       "    </tr>\n",
       "    <tr>\n",
       "      <th>1</th>\n",
       "      <td>1</td>\n",
       "      <td>Greylock Partners</td>\n",
       "      <td>1965-01-01</td>\n",
       "      <td>greylock.com</td>\n",
       "      <td>greylockvc</td>\n",
       "      <td>USA</td>\n",
       "      <td>307</td>\n",
       "      <td>196</td>\n",
       "      <td>0</td>\n",
       "    </tr>\n",
       "    <tr>\n",
       "      <th>2</th>\n",
       "      <td>10</td>\n",
       "      <td>Mission Ventures</td>\n",
       "      <td>1996-01-01</td>\n",
       "      <td>missionventures.com</td>\n",
       "      <td>NaN</td>\n",
       "      <td>USA</td>\n",
       "      <td>58</td>\n",
       "      <td>33</td>\n",
       "      <td>0</td>\n",
       "    </tr>\n",
       "    <tr>\n",
       "      <th>3</th>\n",
       "      <td>100</td>\n",
       "      <td>Kapor Enterprises, Inc.</td>\n",
       "      <td>NaN</td>\n",
       "      <td>kei.com</td>\n",
       "      <td>NaN</td>\n",
       "      <td>USA</td>\n",
       "      <td>2</td>\n",
       "      <td>1</td>\n",
       "      <td>0</td>\n",
       "    </tr>\n",
       "    <tr>\n",
       "      <th>4</th>\n",
       "      <td>1000</td>\n",
       "      <td>Speed Ventures</td>\n",
       "      <td>NaN</td>\n",
       "      <td>NaN</td>\n",
       "      <td>NaN</td>\n",
       "      <td>NaN</td>\n",
       "      <td>0</td>\n",
       "      <td>0</td>\n",
       "      <td>1</td>\n",
       "    </tr>\n",
       "  </tbody>\n",
       "</table>\n",
       "</div>"
      ],
      "text/plain": [
       "      id                     name  founded_at               domain  \\\n",
       "0  13131                      NaN         NaN                  NaN   \n",
       "1      1        Greylock Partners  1965-01-01         greylock.com   \n",
       "2     10         Mission Ventures  1996-01-01  missionventures.com   \n",
       "3    100  Kapor Enterprises, Inc.         NaN              kei.com   \n",
       "4   1000           Speed Ventures         NaN                  NaN   \n",
       "\n",
       "  network_username country_code  investment_rounds  invested_companies  \\\n",
       "0              NaN          NaN                  0                   0   \n",
       "1       greylockvc          USA                307                 196   \n",
       "2              NaN          USA                 58                  33   \n",
       "3              NaN          USA                  2                   1   \n",
       "4              NaN          NaN                  0                   0   \n",
       "\n",
       "   milestones  \n",
       "0           0  \n",
       "1           0  \n",
       "2           0  \n",
       "3           0  \n",
       "4           1  "
      ]
     },
     "metadata": {},
     "output_type": "display_data"
    }
   ],
   "source": [
    "# Выведем первые строки датасета fund и проверим названия столбцов:\n",
    "display(fund.head())"
   ]
  },
  {
   "cell_type": "markdown",
   "metadata": {},
   "source": [
    "Столбцы названы корректно"
   ]
  },
  {
   "cell_type": "markdown",
   "metadata": {},
   "source": [
    "**Датасет investment**"
   ]
  },
  {
   "cell_type": "code",
   "execution_count": 10,
   "metadata": {},
   "outputs": [
    {
     "data": {
      "text/html": [
       "<div>\n",
       "<style scoped>\n",
       "    .dataframe tbody tr th:only-of-type {\n",
       "        vertical-align: middle;\n",
       "    }\n",
       "\n",
       "    .dataframe tbody tr th {\n",
       "        vertical-align: top;\n",
       "    }\n",
       "\n",
       "    .dataframe thead th {\n",
       "        text-align: right;\n",
       "    }\n",
       "</style>\n",
       "<table border=\"1\" class=\"dataframe\">\n",
       "  <thead>\n",
       "    <tr style=\"text-align: right;\">\n",
       "      <th></th>\n",
       "      <th>id</th>\n",
       "      <th>funding_round_id</th>\n",
       "      <th>company_id</th>\n",
       "      <th>fund_id</th>\n",
       "    </tr>\n",
       "  </thead>\n",
       "  <tbody>\n",
       "    <tr>\n",
       "      <th>0</th>\n",
       "      <td>1</td>\n",
       "      <td>1</td>\n",
       "      <td>4</td>\n",
       "      <td>1</td>\n",
       "    </tr>\n",
       "    <tr>\n",
       "      <th>1</th>\n",
       "      <td>2</td>\n",
       "      <td>1</td>\n",
       "      <td>4</td>\n",
       "      <td>2</td>\n",
       "    </tr>\n",
       "    <tr>\n",
       "      <th>2</th>\n",
       "      <td>3</td>\n",
       "      <td>3</td>\n",
       "      <td>5</td>\n",
       "      <td>4</td>\n",
       "    </tr>\n",
       "    <tr>\n",
       "      <th>3</th>\n",
       "      <td>4</td>\n",
       "      <td>4</td>\n",
       "      <td>5</td>\n",
       "      <td>1</td>\n",
       "    </tr>\n",
       "    <tr>\n",
       "      <th>4</th>\n",
       "      <td>5</td>\n",
       "      <td>4</td>\n",
       "      <td>5</td>\n",
       "      <td>5</td>\n",
       "    </tr>\n",
       "  </tbody>\n",
       "</table>\n",
       "</div>"
      ],
      "text/plain": [
       "   id  funding_round_id  company_id  fund_id\n",
       "0   1                 1           4        1\n",
       "1   2                 1           4        2\n",
       "2   3                 3           5        4\n",
       "3   4                 4           5        1\n",
       "4   5                 4           5        5"
      ]
     },
     "metadata": {},
     "output_type": "display_data"
    }
   ],
   "source": [
    "# Выведем первые строки датасета fund и проверим названия столбцов:\n",
    "display(investment.head())"
   ]
  },
  {
   "cell_type": "markdown",
   "metadata": {},
   "source": [
    "Столбцы названы корректно"
   ]
  },
  {
   "cell_type": "markdown",
   "metadata": {},
   "source": [
    "**Датасет people**"
   ]
  },
  {
   "cell_type": "code",
   "execution_count": 11,
   "metadata": {},
   "outputs": [
    {
     "data": {
      "text/html": [
       "<div>\n",
       "<style scoped>\n",
       "    .dataframe tbody tr th:only-of-type {\n",
       "        vertical-align: middle;\n",
       "    }\n",
       "\n",
       "    .dataframe tbody tr th {\n",
       "        vertical-align: top;\n",
       "    }\n",
       "\n",
       "    .dataframe thead th {\n",
       "        text-align: right;\n",
       "    }\n",
       "</style>\n",
       "<table border=\"1\" class=\"dataframe\">\n",
       "  <thead>\n",
       "    <tr style=\"text-align: right;\">\n",
       "      <th></th>\n",
       "      <th>id</th>\n",
       "      <th>first_name</th>\n",
       "      <th>last_name</th>\n",
       "      <th>company_id</th>\n",
       "      <th>network_username</th>\n",
       "    </tr>\n",
       "  </thead>\n",
       "  <tbody>\n",
       "    <tr>\n",
       "      <th>0</th>\n",
       "      <td>10</td>\n",
       "      <td>Mark</td>\n",
       "      <td>Zuckerberg</td>\n",
       "      <td>5.0</td>\n",
       "      <td>NaN</td>\n",
       "    </tr>\n",
       "    <tr>\n",
       "      <th>1</th>\n",
       "      <td>100</td>\n",
       "      <td>Peter</td>\n",
       "      <td>Lester</td>\n",
       "      <td>27.0</td>\n",
       "      <td>NaN</td>\n",
       "    </tr>\n",
       "    <tr>\n",
       "      <th>2</th>\n",
       "      <td>1000</td>\n",
       "      <td>Dr. Steven</td>\n",
       "      <td>E. Saunders</td>\n",
       "      <td>292.0</td>\n",
       "      <td>NaN</td>\n",
       "    </tr>\n",
       "    <tr>\n",
       "      <th>3</th>\n",
       "      <td>10000</td>\n",
       "      <td>Neil</td>\n",
       "      <td>Capel</td>\n",
       "      <td>2526.0</td>\n",
       "      <td>NaN</td>\n",
       "    </tr>\n",
       "    <tr>\n",
       "      <th>4</th>\n",
       "      <td>100000</td>\n",
       "      <td>Sue</td>\n",
       "      <td>Pilsch</td>\n",
       "      <td>NaN</td>\n",
       "      <td>NaN</td>\n",
       "    </tr>\n",
       "  </tbody>\n",
       "</table>\n",
       "</div>"
      ],
      "text/plain": [
       "       id  first_name    last_name  company_id network_username\n",
       "0      10        Mark   Zuckerberg         5.0              NaN\n",
       "1     100       Peter       Lester        27.0              NaN\n",
       "2    1000  Dr. Steven  E. Saunders       292.0              NaN\n",
       "3   10000        Neil        Capel      2526.0              NaN\n",
       "4  100000         Sue       Pilsch         NaN              NaN"
      ]
     },
     "metadata": {},
     "output_type": "display_data"
    }
   ],
   "source": [
    "# Выведем первые строки датасета people и проверим названия столбцов:\n",
    "display(people.head())"
   ]
  },
  {
   "cell_type": "markdown",
   "metadata": {},
   "source": [
    "Столбцы названы корректно"
   ]
  },
  {
   "cell_type": "markdown",
   "metadata": {},
   "source": [
    "\n",
    "* Выведите информацию, которая необходима вам для принятия решений о предобработке, для каждого из датасетов. **ОК**"
   ]
  },
  {
   "cell_type": "markdown",
   "metadata": {},
   "source": [
    "**ВЫВОДИМ ИНФО ПО ДАТАСЕТАМ**"
   ]
  },
  {
   "cell_type": "markdown",
   "metadata": {},
   "source": [
    "**Датасет acquisition**"
   ]
  },
  {
   "cell_type": "code",
   "execution_count": 12,
   "metadata": {
    "id": "4u9np9gSnyqT",
    "scrolled": false
   },
   "outputs": [
    {
     "name": "stdout",
     "output_type": "stream",
     "text": [
      "<class 'pandas.core.frame.DataFrame'>\n",
      "RangeIndex: 9407 entries, 0 to 9406\n",
      "Data columns (total 6 columns):\n",
      " #   Column                Non-Null Count  Dtype \n",
      "---  ------                --------------  ----- \n",
      " 0   id                    9407 non-null   int64 \n",
      " 1   acquiring_company_id  9407 non-null   int64 \n",
      " 2   acquired_company_id   9407 non-null   int64 \n",
      " 3   term_code             1831 non-null   object\n",
      " 4   price_amount          9407 non-null   int64 \n",
      " 5   acquired_at           9378 non-null   object\n",
      "dtypes: int64(4), object(2)\n",
      "memory usage: 441.1+ KB\n"
     ]
    }
   ],
   "source": [
    "# Выведем инфо о acquisition\n",
    "acquisition.info()"
   ]
  },
  {
   "cell_type": "markdown",
   "metadata": {},
   "source": [
    "В датасете 9407 строк и 6 столбцов, в двух из которых `term_code` и `acquired_at` есть пропуски.\n",
    "\n",
    "Данные столбца `acquired_at` хранятся в типе object, однако корректный тип - datetime64, тк столбец содержит даты сделок."
   ]
  },
  {
   "cell_type": "markdown",
   "metadata": {},
   "source": [
    "**Датасет company_and_rounds**"
   ]
  },
  {
   "cell_type": "code",
   "execution_count": 13,
   "metadata": {
    "id": "4u9np9gSnyqT",
    "scrolled": false
   },
   "outputs": [
    {
     "name": "stdout",
     "output_type": "stream",
     "text": [
      "<class 'pandas.core.frame.DataFrame'>\n",
      "RangeIndex: 217774 entries, 0 to 217773\n",
      "Data columns (total 22 columns):\n",
      " #   Column               Non-Null Count   Dtype  \n",
      "---  ------               --------------   -----  \n",
      " 0   company_ID           217472 non-null  float64\n",
      " 1   name                 217472 non-null  object \n",
      " 2   category_code        143886 non-null  object \n",
      " 3   status               217472 non-null  object \n",
      " 4   founded_at           109956 non-null  object \n",
      " 5   closed_at            3449 non-null    object \n",
      " 6   domain               147159 non-null  object \n",
      " 7   network_username     95534 non-null   object \n",
      " 8   country_code         108607 non-null  object \n",
      " 9   investment_rounds    217472 non-null  float64\n",
      " 10  funding_rounds       217472 non-null  float64\n",
      " 11  funding_total        217472 non-null  float64\n",
      " 12  milestones           217472 non-null  float64\n",
      " 13  funding_round_id     52928 non-null   float64\n",
      " 14  company_id           52928 non-null   float64\n",
      " 15  funded_at            52680 non-null   object \n",
      " 16  funding_round_type   52928 non-null   object \n",
      " 17  raised_amount        52928 non-null   float64\n",
      " 18  pre_money_valuation  52928 non-null   float64\n",
      " 19  participants         52928 non-null   float64\n",
      " 20  is_first_round       52928 non-null   float64\n",
      " 21  is_last_round        52928 non-null   float64\n",
      "dtypes: float64(12), object(10)\n",
      "memory usage: 36.6+ MB\n"
     ]
    }
   ],
   "source": [
    "# Выведем инфо о company_and_rounds\n",
    "company_and_rounds.info()"
   ]
  },
  {
   "cell_type": "markdown",
   "metadata": {},
   "source": [
    "В датасете 217774 строк и 22 столбцов, в 15 из которых есть пропуски.\n",
    "\n",
    "Данные столбцов `founded at`, `closed at`,`funded at` хранятся в типе object, однако корректный тип - datetime64, тк столбцы содержат даты."
   ]
  },
  {
   "cell_type": "markdown",
   "metadata": {},
   "source": [
    "**Датасет degrees**"
   ]
  },
  {
   "cell_type": "code",
   "execution_count": 14,
   "metadata": {
    "id": "4u9np9gSnyqT",
    "scrolled": true
   },
   "outputs": [
    {
     "name": "stdout",
     "output_type": "stream",
     "text": [
      "<class 'pandas.core.frame.DataFrame'>\n",
      "RangeIndex: 109610 entries, 0 to 109609\n",
      "Data columns (total 4 columns):\n",
      " #   Column       Non-Null Count   Dtype \n",
      "---  ------       --------------   ----- \n",
      " 0   id           109610 non-null  int64 \n",
      " 1   object_id    109610 non-null  object\n",
      " 2   degree_type  98392 non-null   object\n",
      " 3   subject      81298 non-null   object\n",
      "dtypes: int64(1), object(3)\n",
      "memory usage: 3.3+ MB\n"
     ]
    }
   ],
   "source": [
    "# Выведем инфо о degrees\n",
    "degrees.info()"
   ]
  },
  {
   "cell_type": "markdown",
   "metadata": {},
   "source": [
    "В датасете 109610 строк и 4 столбца, в 2 из которых есть пропуски."
   ]
  },
  {
   "cell_type": "markdown",
   "metadata": {},
   "source": [
    "**Датасет education**"
   ]
  },
  {
   "cell_type": "code",
   "execution_count": 15,
   "metadata": {
    "id": "4u9np9gSnyqT",
    "scrolled": false
   },
   "outputs": [
    {
     "name": "stdout",
     "output_type": "stream",
     "text": [
      "<class 'pandas.core.frame.DataFrame'>\n",
      "RangeIndex: 109610 entries, 0 to 109609\n",
      "Data columns (total 4 columns):\n",
      " #   Column        Non-Null Count   Dtype \n",
      "---  ------        --------------   ----- \n",
      " 0   id            109610 non-null  int64 \n",
      " 1   person_id     109610 non-null  int64 \n",
      " 2   institution   109555 non-null  object\n",
      " 3   graduated_at  58054 non-null   object\n",
      "dtypes: int64(2), object(2)\n",
      "memory usage: 3.3+ MB\n"
     ]
    }
   ],
   "source": [
    "# Выведем инфо о education\n",
    "education.info()"
   ]
  },
  {
   "cell_type": "markdown",
   "metadata": {},
   "source": [
    "В датасете 109610 строк и 4 столбца, в 2 из которых есть пропуски.\n",
    "\n",
    "Данные столбца `graduated_at` хранятся в типе object, однако корректный тип - datetime64, тк столбец содержат даты."
   ]
  },
  {
   "cell_type": "markdown",
   "metadata": {},
   "source": [
    "**Датасет fund**"
   ]
  },
  {
   "cell_type": "code",
   "execution_count": 16,
   "metadata": {
    "id": "4u9np9gSnyqT",
    "scrolled": true
   },
   "outputs": [
    {
     "name": "stdout",
     "output_type": "stream",
     "text": [
      "<class 'pandas.core.frame.DataFrame'>\n",
      "RangeIndex: 11652 entries, 0 to 11651\n",
      "Data columns (total 9 columns):\n",
      " #   Column              Non-Null Count  Dtype \n",
      "---  ------              --------------  ----- \n",
      " 0   id                  11652 non-null  int64 \n",
      " 1   name                11650 non-null  object\n",
      " 2   founded_at          4605 non-null   object\n",
      " 3   domain              7362 non-null   object\n",
      " 4   network_username    2149 non-null   object\n",
      " 5   country_code        7053 non-null   object\n",
      " 6   investment_rounds   11652 non-null  int64 \n",
      " 7   invested_companies  11652 non-null  int64 \n",
      " 8   milestones          11652 non-null  int64 \n",
      "dtypes: int64(4), object(5)\n",
      "memory usage: 819.4+ KB\n"
     ]
    }
   ],
   "source": [
    "# Выведем инфо о fund\n",
    "fund.info()"
   ]
  },
  {
   "cell_type": "markdown",
   "metadata": {},
   "source": [
    "В датасете 11652 строк и 9 столбцов, в 5 из которых есть пропуски.\n",
    "\n",
    "Данные столбца `founded_at` хранятся в типе object, однако корректный тип - datetime64, тк столбец содержат даты."
   ]
  },
  {
   "cell_type": "markdown",
   "metadata": {},
   "source": [
    "**Датасет investment**"
   ]
  },
  {
   "cell_type": "code",
   "execution_count": 17,
   "metadata": {
    "id": "4u9np9gSnyqT",
    "scrolled": false
   },
   "outputs": [
    {
     "name": "stdout",
     "output_type": "stream",
     "text": [
      "<class 'pandas.core.frame.DataFrame'>\n",
      "RangeIndex: 61403 entries, 0 to 61402\n",
      "Data columns (total 4 columns):\n",
      " #   Column            Non-Null Count  Dtype\n",
      "---  ------            --------------  -----\n",
      " 0   id                61403 non-null  int64\n",
      " 1   funding_round_id  61403 non-null  int64\n",
      " 2   company_id        61403 non-null  int64\n",
      " 3   fund_id           61403 non-null  int64\n",
      "dtypes: int64(4)\n",
      "memory usage: 1.9 MB\n"
     ]
    }
   ],
   "source": [
    "# Выведем инфо о investment\n",
    "investment.info()"
   ]
  },
  {
   "cell_type": "markdown",
   "metadata": {},
   "source": [
    "В датасете 61403 строк и 4 столбца, в которых нет пропусков."
   ]
  },
  {
   "cell_type": "markdown",
   "metadata": {},
   "source": [
    "**Датасет people**"
   ]
  },
  {
   "cell_type": "code",
   "execution_count": 18,
   "metadata": {
    "id": "4u9np9gSnyqT",
    "scrolled": false
   },
   "outputs": [
    {
     "name": "stdout",
     "output_type": "stream",
     "text": [
      "<class 'pandas.core.frame.DataFrame'>\n",
      "RangeIndex: 226709 entries, 0 to 226708\n",
      "Data columns (total 5 columns):\n",
      " #   Column            Non-Null Count   Dtype  \n",
      "---  ------            --------------   -----  \n",
      " 0   id                226709 non-null  int64  \n",
      " 1   first_name        226704 non-null  object \n",
      " 2   last_name         226708 non-null  object \n",
      " 3   company_id        34615 non-null   float64\n",
      " 4   network_username  38867 non-null   object \n",
      "dtypes: float64(1), int64(1), object(3)\n",
      "memory usage: 8.6+ MB\n"
     ]
    }
   ],
   "source": [
    "# Выведем инфо о people\n",
    "people.info()"
   ]
  },
  {
   "cell_type": "markdown",
   "metadata": {
    "id": "W_W4jRazrJg0"
   },
   "source": [
    "В датасете 226709  строк и 5 столбцов, в 4 из которых есть пропуски."
   ]
  },
  {
   "cell_type": "markdown",
   "metadata": {
    "id": "mg2gEwh0rJg0"
   },
   "source": [
    "### 1.2. Смена типов и анализ пропусков\n",
    "\n",
    "* Обработайте типы данных в столбцах, которые хранят значения даты и времени, если это необходимо."
   ]
  },
  {
   "cell_type": "code",
   "execution_count": null,
   "metadata": {},
   "outputs": [],
   "source": []
  },
  {
   "cell_type": "code",
   "execution_count": 19,
   "metadata": {},
   "outputs": [
    {
     "data": {
      "text/plain": [
       "<AxesSubplot:>"
      ]
     },
     "execution_count": 19,
     "metadata": {},
     "output_type": "execute_result"
    },
    {
     "data": {
      "image/png": "[encoded data removed]",
      "text/plain": [
       "<Figure size 1800x720 with 3 Axes>"
      ]
     },
     "metadata": {
      "needs_background": "light"
     },
     "output_type": "display_data"
    }
   ],
   "source": [
    "msno.bar(people)"
   ]
  },
  {
   "cell_type": "code",
   "execution_count": 20,
   "metadata": {},
   "outputs": [
    {
     "data": {
      "text/plain": [
       "<AxesSubplot:>"
      ]
     },
     "execution_count": 20,
     "metadata": {},
     "output_type": "execute_result"
    },
    {
     "data": {
      "image/png": "[encoded data removed]",
      "text/plain": [
       "<Figure size 1440x864 with 2 Axes>"
      ]
     },
     "metadata": {
      "needs_background": "light"
     },
     "output_type": "display_data"
    }
   ],
   "source": [
    "msno.heatmap(people)"
   ]
  },
  {
   "cell_type": "code",
   "execution_count": 21,
   "metadata": {},
   "outputs": [
    {
     "name": "stdout",
     "output_type": "stream",
     "text": [
      "<class 'pandas.core.frame.DataFrame'>\n",
      "RangeIndex: 9407 entries, 0 to 9406\n",
      "Data columns (total 6 columns):\n",
      " #   Column                Non-Null Count  Dtype         \n",
      "---  ------                --------------  -----         \n",
      " 0   id                    9407 non-null   int64         \n",
      " 1   acquiring_company_id  9407 non-null   int64         \n",
      " 2   acquired_company_id   9407 non-null   int64         \n",
      " 3   term_code             1831 non-null   object        \n",
      " 4   price_amount          9407 non-null   int64         \n",
      " 5   acquired_at           9378 non-null   datetime64[ns]\n",
      "dtypes: datetime64[ns](1), int64(4), object(1)\n",
      "memory usage: 441.1+ KB\n"
     ]
    }
   ],
   "source": [
    "# Поменяем тип столбца acquired_at датасета acquisition:\n",
    "acquisition['acquired_at'] = acquisition['acquired_at'].astype('datetime64[ns]')\n",
    "\n",
    "# Проверка:\n",
    "acquisition.info()"
   ]
  },
  {
   "cell_type": "code",
   "execution_count": 22,
   "metadata": {},
   "outputs": [
    {
     "name": "stdout",
     "output_type": "stream",
     "text": [
      "<class 'pandas.core.frame.DataFrame'>\n",
      "RangeIndex: 217774 entries, 0 to 217773\n",
      "Data columns (total 22 columns):\n",
      " #   Column               Non-Null Count   Dtype         \n",
      "---  ------               --------------   -----         \n",
      " 0   company_ID           217472 non-null  float64       \n",
      " 1   name                 217472 non-null  object        \n",
      " 2   category_code        143886 non-null  object        \n",
      " 3   status               217472 non-null  object        \n",
      " 4   founded_at           109956 non-null  datetime64[ns]\n",
      " 5   closed_at            3449 non-null    datetime64[ns]\n",
      " 6   domain               147159 non-null  object        \n",
      " 7   network_username     95534 non-null   object        \n",
      " 8   country_code         108607 non-null  object        \n",
      " 9   investment_rounds    217472 non-null  float64       \n",
      " 10  funding_rounds       217472 non-null  float64       \n",
      " 11  funding_total        217472 non-null  float64       \n",
      " 12  milestones           217472 non-null  float64       \n",
      " 13  funding_round_id     52928 non-null   float64       \n",
      " 14  company_id           52928 non-null   float64       \n",
      " 15  funded_at            52680 non-null   datetime64[ns]\n",
      " 16  funding_round_type   52928 non-null   object        \n",
      " 17  raised_amount        52928 non-null   float64       \n",
      " 18  pre_money_valuation  52928 non-null   float64       \n",
      " 19  participants         52928 non-null   float64       \n",
      " 20  is_first_round       52928 non-null   float64       \n",
      " 21  is_last_round        52928 non-null   float64       \n",
      "dtypes: datetime64[ns](3), float64(12), object(7)\n",
      "memory usage: 36.6+ MB\n"
     ]
    }
   ],
   "source": [
    "# Поменяем тип столбцов founded_at, closed_at, funded_at датасета company_and_rounds:\n",
    "company_and_rounds[['founded_at', 'closed_at', 'funded_at']] = company_and_rounds[['founded_at', 'closed_at', 'funded_at']].astype('datetime64[ns]')\n",
    "\n",
    "# Проверка:\n",
    "company_and_rounds.info()"
   ]
  },
  {
   "cell_type": "code",
   "execution_count": 23,
   "metadata": {
    "scrolled": true
   },
   "outputs": [
    {
     "name": "stdout",
     "output_type": "stream",
     "text": [
      "<class 'pandas.core.frame.DataFrame'>\n",
      "RangeIndex: 109610 entries, 0 to 109609\n",
      "Data columns (total 4 columns):\n",
      " #   Column        Non-Null Count   Dtype         \n",
      "---  ------        --------------   -----         \n",
      " 0   id            109610 non-null  int64         \n",
      " 1   person_id     109610 non-null  int64         \n",
      " 2   institution   109555 non-null  object        \n",
      " 3   graduated_at  58054 non-null   datetime64[ns]\n",
      "dtypes: datetime64[ns](1), int64(2), object(1)\n",
      "memory usage: 3.3+ MB\n"
     ]
    }
   ],
   "source": [
    "# Поменяем тип столбца graduated_at датасета education:\n",
    "education['graduated_at'] = education['graduated_at'].astype('datetime64[ns]')\n",
    "\n",
    "# Проверка:\n",
    "education.info()"
   ]
  },
  {
   "cell_type": "code",
   "execution_count": 24,
   "metadata": {},
   "outputs": [
    {
     "name": "stdout",
     "output_type": "stream",
     "text": [
      "<class 'pandas.core.frame.DataFrame'>\n",
      "RangeIndex: 11652 entries, 0 to 11651\n",
      "Data columns (total 9 columns):\n",
      " #   Column              Non-Null Count  Dtype         \n",
      "---  ------              --------------  -----         \n",
      " 0   id                  11652 non-null  int64         \n",
      " 1   name                11650 non-null  object        \n",
      " 2   founded_at          4605 non-null   datetime64[ns]\n",
      " 3   domain              7362 non-null   object        \n",
      " 4   network_username    2149 non-null   object        \n",
      " 5   country_code        7053 non-null   object        \n",
      " 6   investment_rounds   11652 non-null  int64         \n",
      " 7   invested_companies  11652 non-null  int64         \n",
      " 8   milestones          11652 non-null  int64         \n",
      "dtypes: datetime64[ns](1), int64(4), object(4)\n",
      "memory usage: 819.4+ KB\n"
     ]
    }
   ],
   "source": [
    "# Поменяем тип столбца founded_at датасета fund: \n",
    "fund['founded_at'] = fund['founded_at'].astype('datetime64[ns]')\n",
    "\n",
    "# Проверка:\n",
    "fund.info()"
   ]
  },
  {
   "cell_type": "markdown",
   "metadata": {},
   "source": [
    "\n",
    "* Оцените полноту данных — сделайте предварительный вывод, достаточно ли данных для решения задач проекта. "
   ]
  },
  {
   "cell_type": "markdown",
   "metadata": {
    "id": "5Sg2O8zNnzKc"
   },
   "source": [
    "Пропусков в данных много, это может быть препятствием для решения задач, однако в ходе работы будет проведен анализ и обработка всех датафреймов и данных в них, в результате чего задачи будут решены"
   ]
  },
  {
   "cell_type": "markdown",
   "metadata": {
    "id": "u60cHsn6rJg1"
   },
   "source": [
    "## Шаг 2. Предобработка данных, предварительное исследование"
   ]
  },
  {
   "cell_type": "markdown",
   "metadata": {
    "id": "g2bHIIjcrJg1"
   },
   "source": [
    "\n",
    "### 2.1. Раунды финансирования по годам\n",
    "\n",
    "Задание необходимо выполнить без объединения и дополнительной предобработки на основе датасета `company_and_rounds.csv`.\n",
    "\n",
    "* Составьте сводную таблицу по годам, в которой на основании столбца `raised_amount` для каждого года указан:\n",
    "\n",
    "  * типичный размер средств, выделяемый в рамках одного раунда;\n",
    "  * общее количество раундов финансирования за этот год.\n",
    "\n",
    "* Оставьте в таблице информацию только для тех лет, для которых есть информация о более чем 50 раундах финансирования.\n",
    "\n",
    "* На основе получившейся таблицы постройте график, который будет отражать динамику типичного размера средств, которые стартапы получали в рамках одного раунда финансирования.\n",
    "\n",
    "На основе полученных данных ответьте на вопросы:\n",
    "\n",
    "* В каком году типичный размер собранных в рамках одного раунда средств был максимален?\n",
    "\n",
    "* Какая тенденция по количеству раундов и выделяемых в рамках каждого раунда средств наблюдалась в 2013 году?"
   ]
  },
  {
   "cell_type": "code",
   "execution_count": 25,
   "metadata": {
    "id": "ovyDibxNrJg1"
   },
   "outputs": [
    {
     "data": {
      "text/html": [
       "<div>\n",
       "<style scoped>\n",
       "    .dataframe tbody tr th:only-of-type {\n",
       "        vertical-align: middle;\n",
       "    }\n",
       "\n",
       "    .dataframe tbody tr th {\n",
       "        vertical-align: top;\n",
       "    }\n",
       "\n",
       "    .dataframe thead th {\n",
       "        text-align: right;\n",
       "    }\n",
       "</style>\n",
       "<table border=\"1\" class=\"dataframe\">\n",
       "  <thead>\n",
       "    <tr style=\"text-align: right;\">\n",
       "      <th></th>\n",
       "      <th>company_ID</th>\n",
       "      <th>name</th>\n",
       "      <th>category_code</th>\n",
       "      <th>status</th>\n",
       "      <th>founded_at</th>\n",
       "      <th>closed_at</th>\n",
       "      <th>domain</th>\n",
       "      <th>network_username</th>\n",
       "      <th>country_code</th>\n",
       "      <th>investment_rounds</th>\n",
       "      <th>funding_rounds</th>\n",
       "      <th>funding_total</th>\n",
       "      <th>milestones</th>\n",
       "      <th>funding_round_id</th>\n",
       "      <th>company_id</th>\n",
       "      <th>funded_at</th>\n",
       "      <th>funding_round_type</th>\n",
       "      <th>raised_amount</th>\n",
       "      <th>pre_money_valuation</th>\n",
       "      <th>participants</th>\n",
       "      <th>is_first_round</th>\n",
       "      <th>is_last_round</th>\n",
       "    </tr>\n",
       "  </thead>\n",
       "  <tbody>\n",
       "    <tr>\n",
       "      <th>184351</th>\n",
       "      <td>56015.0</td>\n",
       "      <td>Di Franco Media</td>\n",
       "      <td>NaN</td>\n",
       "      <td>operating</td>\n",
       "      <td>NaT</td>\n",
       "      <td>NaT</td>\n",
       "      <td>difrancomedia.com</td>\n",
       "      <td>daviddifranco</td>\n",
       "      <td>NaN</td>\n",
       "      <td>0.0</td>\n",
       "      <td>0.0</td>\n",
       "      <td>0.0</td>\n",
       "      <td>1.0</td>\n",
       "      <td>NaN</td>\n",
       "      <td>NaN</td>\n",
       "      <td>NaT</td>\n",
       "      <td>NaN</td>\n",
       "      <td>NaN</td>\n",
       "      <td>NaN</td>\n",
       "      <td>NaN</td>\n",
       "      <td>NaN</td>\n",
       "      <td>NaN</td>\n",
       "    </tr>\n",
       "    <tr>\n",
       "      <th>84992</th>\n",
       "      <td>222569.0</td>\n",
       "      <td>Feedster</td>\n",
       "      <td>NaN</td>\n",
       "      <td>closed</td>\n",
       "      <td>NaT</td>\n",
       "      <td>2007-11-01</td>\n",
       "      <td>NaN</td>\n",
       "      <td>NaN</td>\n",
       "      <td>NaN</td>\n",
       "      <td>0.0</td>\n",
       "      <td>0.0</td>\n",
       "      <td>0.0</td>\n",
       "      <td>1.0</td>\n",
       "      <td>NaN</td>\n",
       "      <td>NaN</td>\n",
       "      <td>NaT</td>\n",
       "      <td>NaN</td>\n",
       "      <td>NaN</td>\n",
       "      <td>NaN</td>\n",
       "      <td>NaN</td>\n",
       "      <td>NaN</td>\n",
       "      <td>NaN</td>\n",
       "    </tr>\n",
       "    <tr>\n",
       "      <th>207722</th>\n",
       "      <td>78255.0</td>\n",
       "      <td>Airway Therapeutics</td>\n",
       "      <td>biotech</td>\n",
       "      <td>operating</td>\n",
       "      <td>NaT</td>\n",
       "      <td>NaT</td>\n",
       "      <td>airwaytherapeutics.com</td>\n",
       "      <td>NaN</td>\n",
       "      <td>USA</td>\n",
       "      <td>0.0</td>\n",
       "      <td>1.0</td>\n",
       "      <td>500000.0</td>\n",
       "      <td>0.0</td>\n",
       "      <td>23374.0</td>\n",
       "      <td>78255.0</td>\n",
       "      <td>2011-06-06</td>\n",
       "      <td>angel</td>\n",
       "      <td>500000.0</td>\n",
       "      <td>0.0</td>\n",
       "      <td>0.0</td>\n",
       "      <td>1.0</td>\n",
       "      <td>1.0</td>\n",
       "    </tr>\n",
       "    <tr>\n",
       "      <th>13243</th>\n",
       "      <td>146548.0</td>\n",
       "      <td>Verivo Software</td>\n",
       "      <td>enterprise</td>\n",
       "      <td>operating</td>\n",
       "      <td>1998-01-01</td>\n",
       "      <td>NaT</td>\n",
       "      <td>verivo.com</td>\n",
       "      <td>verivosoftware</td>\n",
       "      <td>USA</td>\n",
       "      <td>0.0</td>\n",
       "      <td>2.0</td>\n",
       "      <td>21000000.0</td>\n",
       "      <td>1.0</td>\n",
       "      <td>27488.0</td>\n",
       "      <td>146548.0</td>\n",
       "      <td>2012-01-10</td>\n",
       "      <td>venture</td>\n",
       "      <td>17000000.0</td>\n",
       "      <td>0.0</td>\n",
       "      <td>3.0</td>\n",
       "      <td>0.0</td>\n",
       "      <td>1.0</td>\n",
       "    </tr>\n",
       "    <tr>\n",
       "      <th>5620</th>\n",
       "      <td>13279.0</td>\n",
       "      <td>Brainflare</td>\n",
       "      <td>web</td>\n",
       "      <td>operating</td>\n",
       "      <td>NaT</td>\n",
       "      <td>NaT</td>\n",
       "      <td>brainflare.com</td>\n",
       "      <td>NaN</td>\n",
       "      <td>NaN</td>\n",
       "      <td>0.0</td>\n",
       "      <td>0.0</td>\n",
       "      <td>0.0</td>\n",
       "      <td>0.0</td>\n",
       "      <td>NaN</td>\n",
       "      <td>NaN</td>\n",
       "      <td>NaT</td>\n",
       "      <td>NaN</td>\n",
       "      <td>NaN</td>\n",
       "      <td>NaN</td>\n",
       "      <td>NaN</td>\n",
       "      <td>NaN</td>\n",
       "      <td>NaN</td>\n",
       "    </tr>\n",
       "    <tr>\n",
       "      <th>63923</th>\n",
       "      <td>200613.0</td>\n",
       "      <td>Rexon Limited</td>\n",
       "      <td>NaN</td>\n",
       "      <td>operating</td>\n",
       "      <td>NaT</td>\n",
       "      <td>NaT</td>\n",
       "      <td>NaN</td>\n",
       "      <td>NaN</td>\n",
       "      <td>NaN</td>\n",
       "      <td>0.0</td>\n",
       "      <td>0.0</td>\n",
       "      <td>0.0</td>\n",
       "      <td>1.0</td>\n",
       "      <td>NaN</td>\n",
       "      <td>NaN</td>\n",
       "      <td>NaT</td>\n",
       "      <td>NaN</td>\n",
       "      <td>NaN</td>\n",
       "      <td>NaN</td>\n",
       "      <td>NaN</td>\n",
       "      <td>NaN</td>\n",
       "      <td>NaN</td>\n",
       "    </tr>\n",
       "    <tr>\n",
       "      <th>97382</th>\n",
       "      <td>234709.0</td>\n",
       "      <td>Code Whale</td>\n",
       "      <td>software</td>\n",
       "      <td>operating</td>\n",
       "      <td>2013-02-01</td>\n",
       "      <td>NaT</td>\n",
       "      <td>poeditor.com</td>\n",
       "      <td>POEditor</td>\n",
       "      <td>USA</td>\n",
       "      <td>0.0</td>\n",
       "      <td>0.0</td>\n",
       "      <td>0.0</td>\n",
       "      <td>0.0</td>\n",
       "      <td>NaN</td>\n",
       "      <td>NaN</td>\n",
       "      <td>NaT</td>\n",
       "      <td>NaN</td>\n",
       "      <td>NaN</td>\n",
       "      <td>NaN</td>\n",
       "      <td>NaN</td>\n",
       "      <td>NaN</td>\n",
       "      <td>NaN</td>\n",
       "    </tr>\n",
       "    <tr>\n",
       "      <th>138971</th>\n",
       "      <td>273097.0</td>\n",
       "      <td>Bridge Languages</td>\n",
       "      <td>other</td>\n",
       "      <td>operating</td>\n",
       "      <td>NaT</td>\n",
       "      <td>NaT</td>\n",
       "      <td>bridgelanguages.com</td>\n",
       "      <td>NaN</td>\n",
       "      <td>USA</td>\n",
       "      <td>0.0</td>\n",
       "      <td>0.0</td>\n",
       "      <td>0.0</td>\n",
       "      <td>0.0</td>\n",
       "      <td>NaN</td>\n",
       "      <td>NaN</td>\n",
       "      <td>NaT</td>\n",
       "      <td>NaN</td>\n",
       "      <td>NaN</td>\n",
       "      <td>NaN</td>\n",
       "      <td>NaN</td>\n",
       "      <td>NaN</td>\n",
       "      <td>NaN</td>\n",
       "    </tr>\n",
       "    <tr>\n",
       "      <th>5129</th>\n",
       "      <td>1301.0</td>\n",
       "      <td>StreetFire</td>\n",
       "      <td>web</td>\n",
       "      <td>acquired</td>\n",
       "      <td>2004-06-01</td>\n",
       "      <td>NaT</td>\n",
       "      <td>streetfire.net</td>\n",
       "      <td>streetfire</td>\n",
       "      <td>USA</td>\n",
       "      <td>0.0</td>\n",
       "      <td>2.0</td>\n",
       "      <td>7900000.0</td>\n",
       "      <td>2.0</td>\n",
       "      <td>922.0</td>\n",
       "      <td>1301.0</td>\n",
       "      <td>2007-09-01</td>\n",
       "      <td>series-a</td>\n",
       "      <td>6100000.0</td>\n",
       "      <td>0.0</td>\n",
       "      <td>1.0</td>\n",
       "      <td>0.0</td>\n",
       "      <td>1.0</td>\n",
       "    </tr>\n",
       "    <tr>\n",
       "      <th>14643</th>\n",
       "      <td>148323.0</td>\n",
       "      <td>BugginMe</td>\n",
       "      <td>other</td>\n",
       "      <td>operating</td>\n",
       "      <td>NaT</td>\n",
       "      <td>NaT</td>\n",
       "      <td>buggin.me</td>\n",
       "      <td>Itsbugginme</td>\n",
       "      <td>NaN</td>\n",
       "      <td>0.0</td>\n",
       "      <td>0.0</td>\n",
       "      <td>0.0</td>\n",
       "      <td>0.0</td>\n",
       "      <td>NaN</td>\n",
       "      <td>NaN</td>\n",
       "      <td>NaT</td>\n",
       "      <td>NaN</td>\n",
       "      <td>NaN</td>\n",
       "      <td>NaN</td>\n",
       "      <td>NaN</td>\n",
       "      <td>NaN</td>\n",
       "      <td>NaN</td>\n",
       "    </tr>\n",
       "  </tbody>\n",
       "</table>\n",
       "</div>"
      ],
      "text/plain": [
       "        company_ID                 name category_code     status founded_at  \\\n",
       "184351     56015.0      Di Franco Media           NaN  operating        NaT   \n",
       "84992     222569.0             Feedster           NaN     closed        NaT   \n",
       "207722     78255.0  Airway Therapeutics       biotech  operating        NaT   \n",
       "13243     146548.0      Verivo Software    enterprise  operating 1998-01-01   \n",
       "5620       13279.0           Brainflare           web  operating        NaT   \n",
       "63923     200613.0        Rexon Limited           NaN  operating        NaT   \n",
       "97382     234709.0           Code Whale      software  operating 2013-02-01   \n",
       "138971    273097.0     Bridge Languages         other  operating        NaT   \n",
       "5129        1301.0           StreetFire           web   acquired 2004-06-01   \n",
       "14643     148323.0             BugginMe         other  operating        NaT   \n",
       "\n",
       "        closed_at                  domain network_username country_code  \\\n",
       "184351        NaT       difrancomedia.com    daviddifranco          NaN   \n",
       "84992  2007-11-01                     NaN              NaN          NaN   \n",
       "207722        NaT  airwaytherapeutics.com              NaN          USA   \n",
       "13243         NaT              verivo.com   verivosoftware          USA   \n",
       "5620          NaT          brainflare.com              NaN          NaN   \n",
       "63923         NaT                     NaN              NaN          NaN   \n",
       "97382         NaT            poeditor.com         POEditor          USA   \n",
       "138971        NaT     bridgelanguages.com              NaN          USA   \n",
       "5129          NaT          streetfire.net       streetfire          USA   \n",
       "14643         NaT               buggin.me      Itsbugginme          NaN   \n",
       "\n",
       "        investment_rounds  funding_rounds  funding_total  milestones  \\\n",
       "184351                0.0             0.0            0.0         1.0   \n",
       "84992                 0.0             0.0            0.0         1.0   \n",
       "207722                0.0             1.0       500000.0         0.0   \n",
       "13243                 0.0             2.0     21000000.0         1.0   \n",
       "5620                  0.0             0.0            0.0         0.0   \n",
       "63923                 0.0             0.0            0.0         1.0   \n",
       "97382                 0.0             0.0            0.0         0.0   \n",
       "138971                0.0             0.0            0.0         0.0   \n",
       "5129                  0.0             2.0      7900000.0         2.0   \n",
       "14643                 0.0             0.0            0.0         0.0   \n",
       "\n",
       "        funding_round_id  company_id  funded_at funding_round_type  \\\n",
       "184351               NaN         NaN        NaT                NaN   \n",
       "84992                NaN         NaN        NaT                NaN   \n",
       "207722           23374.0     78255.0 2011-06-06              angel   \n",
       "13243            27488.0    146548.0 2012-01-10            venture   \n",
       "5620                 NaN         NaN        NaT                NaN   \n",
       "63923                NaN         NaN        NaT                NaN   \n",
       "97382                NaN         NaN        NaT                NaN   \n",
       "138971               NaN         NaN        NaT                NaN   \n",
       "5129               922.0      1301.0 2007-09-01           series-a   \n",
       "14643                NaN         NaN        NaT                NaN   \n",
       "\n",
       "        raised_amount  pre_money_valuation  participants  is_first_round  \\\n",
       "184351            NaN                  NaN           NaN             NaN   \n",
       "84992             NaN                  NaN           NaN             NaN   \n",
       "207722       500000.0                  0.0           0.0             1.0   \n",
       "13243      17000000.0                  0.0           3.0             0.0   \n",
       "5620              NaN                  NaN           NaN             NaN   \n",
       "63923             NaN                  NaN           NaN             NaN   \n",
       "97382             NaN                  NaN           NaN             NaN   \n",
       "138971            NaN                  NaN           NaN             NaN   \n",
       "5129        6100000.0                  0.0           1.0             0.0   \n",
       "14643             NaN                  NaN           NaN             NaN   \n",
       "\n",
       "        is_last_round  \n",
       "184351            NaN  \n",
       "84992             NaN  \n",
       "207722            1.0  \n",
       "13243             1.0  \n",
       "5620              NaN  \n",
       "63923             NaN  \n",
       "97382             NaN  \n",
       "138971            NaN  \n",
       "5129              1.0  \n",
       "14643             NaN  "
      ]
     },
     "execution_count": 25,
     "metadata": {},
     "output_type": "execute_result"
    }
   ],
   "source": [
    "company_and_rounds.sample(10)"
   ]
  },
  {
   "cell_type": "code",
   "execution_count": 26,
   "metadata": {
    "id": "HB81GTA9n04M",
    "scrolled": false
   },
   "outputs": [
    {
     "data": {
      "text/html": [
       "<div>\n",
       "<style scoped>\n",
       "    .dataframe tbody tr th:only-of-type {\n",
       "        vertical-align: middle;\n",
       "    }\n",
       "\n",
       "    .dataframe tbody tr th {\n",
       "        vertical-align: top;\n",
       "    }\n",
       "\n",
       "    .dataframe thead th {\n",
       "        text-align: right;\n",
       "    }\n",
       "</style>\n",
       "<table border=\"1\" class=\"dataframe\">\n",
       "  <thead>\n",
       "    <tr style=\"text-align: right;\">\n",
       "      <th></th>\n",
       "      <th>company_ID</th>\n",
       "      <th>name</th>\n",
       "      <th>category_code</th>\n",
       "      <th>status</th>\n",
       "      <th>founded_at</th>\n",
       "      <th>closed_at</th>\n",
       "      <th>domain</th>\n",
       "      <th>network_username</th>\n",
       "      <th>country_code</th>\n",
       "      <th>investment_rounds</th>\n",
       "      <th>funding_rounds</th>\n",
       "      <th>funding_total</th>\n",
       "      <th>milestones</th>\n",
       "      <th>funding_round_id</th>\n",
       "      <th>company_id</th>\n",
       "      <th>funded_at</th>\n",
       "      <th>funding_round_type</th>\n",
       "      <th>raised_amount</th>\n",
       "      <th>pre_money_valuation</th>\n",
       "      <th>participants</th>\n",
       "      <th>is_first_round</th>\n",
       "      <th>is_last_round</th>\n",
       "      <th>funded_year</th>\n",
       "    </tr>\n",
       "  </thead>\n",
       "  <tbody>\n",
       "    <tr>\n",
       "      <th>108126</th>\n",
       "      <td>24457.0</td>\n",
       "      <td>Barzone</td>\n",
       "      <td>NaN</td>\n",
       "      <td>operating</td>\n",
       "      <td>NaT</td>\n",
       "      <td>NaT</td>\n",
       "      <td>barzone.co.uk</td>\n",
       "      <td>NaN</td>\n",
       "      <td>GBR</td>\n",
       "      <td>0.0</td>\n",
       "      <td>0.0</td>\n",
       "      <td>0.0</td>\n",
       "      <td>0.0</td>\n",
       "      <td>NaN</td>\n",
       "      <td>NaN</td>\n",
       "      <td>NaT</td>\n",
       "      <td>NaN</td>\n",
       "      <td>NaN</td>\n",
       "      <td>NaN</td>\n",
       "      <td>NaN</td>\n",
       "      <td>NaN</td>\n",
       "      <td>NaN</td>\n",
       "      <td>NaT</td>\n",
       "    </tr>\n",
       "    <tr>\n",
       "      <th>183361</th>\n",
       "      <td>55145.0</td>\n",
       "      <td>Spectrum Interactive</td>\n",
       "      <td>public_relations</td>\n",
       "      <td>operating</td>\n",
       "      <td>NaT</td>\n",
       "      <td>NaT</td>\n",
       "      <td>spectruminteractive.co.uk</td>\n",
       "      <td>SI_Spectrum</td>\n",
       "      <td>GBR</td>\n",
       "      <td>0.0</td>\n",
       "      <td>0.0</td>\n",
       "      <td>0.0</td>\n",
       "      <td>0.0</td>\n",
       "      <td>NaN</td>\n",
       "      <td>NaN</td>\n",
       "      <td>NaT</td>\n",
       "      <td>NaN</td>\n",
       "      <td>NaN</td>\n",
       "      <td>NaN</td>\n",
       "      <td>NaN</td>\n",
       "      <td>NaN</td>\n",
       "      <td>NaN</td>\n",
       "      <td>NaT</td>\n",
       "    </tr>\n",
       "    <tr>\n",
       "      <th>112198</th>\n",
       "      <td>248353.0</td>\n",
       "      <td>Kludi GmbH &amp; Co. KG</td>\n",
       "      <td>ecommerce</td>\n",
       "      <td>operating</td>\n",
       "      <td>1926-01-01</td>\n",
       "      <td>NaT</td>\n",
       "      <td>kludi.com</td>\n",
       "      <td>NaN</td>\n",
       "      <td>NaN</td>\n",
       "      <td>0.0</td>\n",
       "      <td>0.0</td>\n",
       "      <td>0.0</td>\n",
       "      <td>0.0</td>\n",
       "      <td>NaN</td>\n",
       "      <td>NaN</td>\n",
       "      <td>NaT</td>\n",
       "      <td>NaN</td>\n",
       "      <td>NaN</td>\n",
       "      <td>NaN</td>\n",
       "      <td>NaN</td>\n",
       "      <td>NaN</td>\n",
       "      <td>NaN</td>\n",
       "      <td>NaT</td>\n",
       "    </tr>\n",
       "    <tr>\n",
       "      <th>140897</th>\n",
       "      <td>274918.0</td>\n",
       "      <td>Falcon Microsystems</td>\n",
       "      <td>NaN</td>\n",
       "      <td>operating</td>\n",
       "      <td>NaT</td>\n",
       "      <td>NaT</td>\n",
       "      <td>NaN</td>\n",
       "      <td>NaN</td>\n",
       "      <td>NaN</td>\n",
       "      <td>0.0</td>\n",
       "      <td>0.0</td>\n",
       "      <td>0.0</td>\n",
       "      <td>1.0</td>\n",
       "      <td>NaN</td>\n",
       "      <td>NaN</td>\n",
       "      <td>NaT</td>\n",
       "      <td>NaN</td>\n",
       "      <td>NaN</td>\n",
       "      <td>NaN</td>\n",
       "      <td>NaN</td>\n",
       "      <td>NaN</td>\n",
       "      <td>NaN</td>\n",
       "      <td>NaT</td>\n",
       "    </tr>\n",
       "    <tr>\n",
       "      <th>153315</th>\n",
       "      <td>29484.0</td>\n",
       "      <td>serendipity videography</td>\n",
       "      <td>NaN</td>\n",
       "      <td>operating</td>\n",
       "      <td>NaT</td>\n",
       "      <td>NaT</td>\n",
       "      <td>NaN</td>\n",
       "      <td>NaN</td>\n",
       "      <td>NaN</td>\n",
       "      <td>0.0</td>\n",
       "      <td>0.0</td>\n",
       "      <td>0.0</td>\n",
       "      <td>0.0</td>\n",
       "      <td>NaN</td>\n",
       "      <td>NaN</td>\n",
       "      <td>NaT</td>\n",
       "      <td>NaN</td>\n",
       "      <td>NaN</td>\n",
       "      <td>NaN</td>\n",
       "      <td>NaN</td>\n",
       "      <td>NaN</td>\n",
       "      <td>NaN</td>\n",
       "      <td>NaT</td>\n",
       "    </tr>\n",
       "    <tr>\n",
       "      <th>28109</th>\n",
       "      <td>163507.0</td>\n",
       "      <td>Legrand Spa</td>\n",
       "      <td>NaN</td>\n",
       "      <td>operating</td>\n",
       "      <td>NaT</td>\n",
       "      <td>NaT</td>\n",
       "      <td>NaN</td>\n",
       "      <td>NaN</td>\n",
       "      <td>NaN</td>\n",
       "      <td>0.0</td>\n",
       "      <td>0.0</td>\n",
       "      <td>0.0</td>\n",
       "      <td>1.0</td>\n",
       "      <td>NaN</td>\n",
       "      <td>NaN</td>\n",
       "      <td>NaT</td>\n",
       "      <td>NaN</td>\n",
       "      <td>NaN</td>\n",
       "      <td>NaN</td>\n",
       "      <td>NaN</td>\n",
       "      <td>NaN</td>\n",
       "      <td>NaN</td>\n",
       "      <td>NaT</td>\n",
       "    </tr>\n",
       "    <tr>\n",
       "      <th>145660</th>\n",
       "      <td>279485.0</td>\n",
       "      <td>Pierre Audoin Consultants</td>\n",
       "      <td>NaN</td>\n",
       "      <td>operating</td>\n",
       "      <td>NaT</td>\n",
       "      <td>NaT</td>\n",
       "      <td>NaN</td>\n",
       "      <td>NaN</td>\n",
       "      <td>NaN</td>\n",
       "      <td>0.0</td>\n",
       "      <td>0.0</td>\n",
       "      <td>0.0</td>\n",
       "      <td>1.0</td>\n",
       "      <td>NaN</td>\n",
       "      <td>NaN</td>\n",
       "      <td>NaT</td>\n",
       "      <td>NaN</td>\n",
       "      <td>NaN</td>\n",
       "      <td>NaN</td>\n",
       "      <td>NaN</td>\n",
       "      <td>NaN</td>\n",
       "      <td>NaN</td>\n",
       "      <td>NaT</td>\n",
       "    </tr>\n",
       "  </tbody>\n",
       "</table>\n",
       "</div>"
      ],
      "text/plain": [
       "        company_ID                       name     category_code     status  \\\n",
       "108126     24457.0                    Barzone               NaN  operating   \n",
       "183361     55145.0       Spectrum Interactive  public_relations  operating   \n",
       "112198    248353.0        Kludi GmbH & Co. KG         ecommerce  operating   \n",
       "140897    274918.0        Falcon Microsystems               NaN  operating   \n",
       "153315     29484.0    serendipity videography               NaN  operating   \n",
       "28109     163507.0                Legrand Spa               NaN  operating   \n",
       "145660    279485.0  Pierre Audoin Consultants               NaN  operating   \n",
       "\n",
       "       founded_at closed_at                     domain network_username  \\\n",
       "108126        NaT       NaT              barzone.co.uk              NaN   \n",
       "183361        NaT       NaT  spectruminteractive.co.uk      SI_Spectrum   \n",
       "112198 1926-01-01       NaT                  kludi.com              NaN   \n",
       "140897        NaT       NaT                        NaN              NaN   \n",
       "153315        NaT       NaT                        NaN              NaN   \n",
       "28109         NaT       NaT                        NaN              NaN   \n",
       "145660        NaT       NaT                        NaN              NaN   \n",
       "\n",
       "       country_code  investment_rounds  funding_rounds  funding_total  \\\n",
       "108126          GBR                0.0             0.0            0.0   \n",
       "183361          GBR                0.0             0.0            0.0   \n",
       "112198          NaN                0.0             0.0            0.0   \n",
       "140897          NaN                0.0             0.0            0.0   \n",
       "153315          NaN                0.0             0.0            0.0   \n",
       "28109           NaN                0.0             0.0            0.0   \n",
       "145660          NaN                0.0             0.0            0.0   \n",
       "\n",
       "        milestones  funding_round_id  company_id funded_at funding_round_type  \\\n",
       "108126         0.0               NaN         NaN       NaT                NaN   \n",
       "183361         0.0               NaN         NaN       NaT                NaN   \n",
       "112198         0.0               NaN         NaN       NaT                NaN   \n",
       "140897         1.0               NaN         NaN       NaT                NaN   \n",
       "153315         0.0               NaN         NaN       NaT                NaN   \n",
       "28109          1.0               NaN         NaN       NaT                NaN   \n",
       "145660         1.0               NaN         NaN       NaT                NaN   \n",
       "\n",
       "        raised_amount  pre_money_valuation  participants  is_first_round  \\\n",
       "108126            NaN                  NaN           NaN             NaN   \n",
       "183361            NaN                  NaN           NaN             NaN   \n",
       "112198            NaN                  NaN           NaN             NaN   \n",
       "140897            NaN                  NaN           NaN             NaN   \n",
       "153315            NaN                  NaN           NaN             NaN   \n",
       "28109             NaN                  NaN           NaN             NaN   \n",
       "145660            NaN                  NaN           NaN             NaN   \n",
       "\n",
       "        is_last_round funded_year  \n",
       "108126            NaN         NaT  \n",
       "183361            NaN         NaT  \n",
       "112198            NaN         NaT  \n",
       "140897            NaN         NaT  \n",
       "153315            NaN         NaT  \n",
       "28109             NaN         NaT  \n",
       "145660            NaN         NaT  "
      ]
     },
     "metadata": {},
     "output_type": "display_data"
    }
   ],
   "source": [
    "# Для решения сначала нужно создать новый столбец \"founded_year\"\n",
    "# в котором будут только годы инвестирований, это нужно для дальнейшей группировки по годам \n",
    "\n",
    "\n",
    "# Создаем новый столбец:\n",
    "company_and_rounds['funded_year'] = company_and_rounds['funded_at'].dt.to_period('Y')\n",
    "\n",
    "# Проверка нового столбца:\n",
    "display(company_and_rounds.sample(7))"
   ]
  },
  {
   "cell_type": "code",
   "execution_count": 27,
   "metadata": {},
   "outputs": [
    {
     "name": "stdout",
     "output_type": "stream",
     "text": [
      "<class 'pandas.core.frame.DataFrame'>\n",
      "PeriodIndex: 30 entries, 1960 to 2013\n",
      "Freq: A-DEC\n",
      "Data columns (total 2 columns):\n",
      " #   Column                   Non-Null Count  Dtype  \n",
      "---  ------                   --------------  -----  \n",
      " 0   (median, raised_amount)  30 non-null     float64\n",
      " 1   (count, raised_amount)   30 non-null     int64  \n",
      "dtypes: float64(1), int64(1)\n",
      "memory usage: 720.0 bytes\n"
     ]
    },
    {
     "data": {
      "text/html": [
       "<div>\n",
       "<style scoped>\n",
       "    .dataframe tbody tr th:only-of-type {\n",
       "        vertical-align: middle;\n",
       "    }\n",
       "\n",
       "    .dataframe tbody tr th {\n",
       "        vertical-align: top;\n",
       "    }\n",
       "\n",
       "    .dataframe thead tr th {\n",
       "        text-align: left;\n",
       "    }\n",
       "\n",
       "    .dataframe thead tr:last-of-type th {\n",
       "        text-align: right;\n",
       "    }\n",
       "</style>\n",
       "<table border=\"1\" class=\"dataframe\">\n",
       "  <thead>\n",
       "    <tr>\n",
       "      <th></th>\n",
       "      <th>median</th>\n",
       "      <th>count</th>\n",
       "    </tr>\n",
       "    <tr>\n",
       "      <th></th>\n",
       "      <th>raised_amount</th>\n",
       "      <th>raised_amount</th>\n",
       "    </tr>\n",
       "    <tr>\n",
       "      <th>funded_year</th>\n",
       "      <th></th>\n",
       "      <th></th>\n",
       "    </tr>\n",
       "  </thead>\n",
       "  <tbody>\n",
       "    <tr>\n",
       "      <th>1960</th>\n",
       "      <td>0.0</td>\n",
       "      <td>9</td>\n",
       "    </tr>\n",
       "    <tr>\n",
       "      <th>1973</th>\n",
       "      <td>0.0</td>\n",
       "      <td>1</td>\n",
       "    </tr>\n",
       "    <tr>\n",
       "      <th>1974</th>\n",
       "      <td>0.0</td>\n",
       "      <td>2</td>\n",
       "    </tr>\n",
       "    <tr>\n",
       "      <th>1984</th>\n",
       "      <td>41000.0</td>\n",
       "      <td>3</td>\n",
       "    </tr>\n",
       "    <tr>\n",
       "      <th>1985</th>\n",
       "      <td>0.0</td>\n",
       "      <td>1</td>\n",
       "    </tr>\n",
       "    <tr>\n",
       "      <th>1987</th>\n",
       "      <td>1250000.0</td>\n",
       "      <td>2</td>\n",
       "    </tr>\n",
       "    <tr>\n",
       "      <th>1989</th>\n",
       "      <td>15000.0</td>\n",
       "      <td>1</td>\n",
       "    </tr>\n",
       "    <tr>\n",
       "      <th>1990</th>\n",
       "      <td>1000000.0</td>\n",
       "      <td>1</td>\n",
       "    </tr>\n",
       "    <tr>\n",
       "      <th>1992</th>\n",
       "      <td>2000000.0</td>\n",
       "      <td>1</td>\n",
       "    </tr>\n",
       "    <tr>\n",
       "      <th>1993</th>\n",
       "      <td>62500.0</td>\n",
       "      <td>2</td>\n",
       "    </tr>\n",
       "    <tr>\n",
       "      <th>1994</th>\n",
       "      <td>6700000.0</td>\n",
       "      <td>2</td>\n",
       "    </tr>\n",
       "    <tr>\n",
       "      <th>1995</th>\n",
       "      <td>2000000.0</td>\n",
       "      <td>7</td>\n",
       "    </tr>\n",
       "    <tr>\n",
       "      <th>1996</th>\n",
       "      <td>12500.0</td>\n",
       "      <td>7</td>\n",
       "    </tr>\n",
       "    <tr>\n",
       "      <th>1997</th>\n",
       "      <td>3300000.0</td>\n",
       "      <td>9</td>\n",
       "    </tr>\n",
       "    <tr>\n",
       "      <th>1998</th>\n",
       "      <td>100000.0</td>\n",
       "      <td>29</td>\n",
       "    </tr>\n",
       "    <tr>\n",
       "      <th>1999</th>\n",
       "      <td>2000000.0</td>\n",
       "      <td>76</td>\n",
       "    </tr>\n",
       "    <tr>\n",
       "      <th>2000</th>\n",
       "      <td>4200000.0</td>\n",
       "      <td>125</td>\n",
       "    </tr>\n",
       "    <tr>\n",
       "      <th>2001</th>\n",
       "      <td>3000000.0</td>\n",
       "      <td>96</td>\n",
       "    </tr>\n",
       "    <tr>\n",
       "      <th>2002</th>\n",
       "      <td>4200000.0</td>\n",
       "      <td>116</td>\n",
       "    </tr>\n",
       "    <tr>\n",
       "      <th>2003</th>\n",
       "      <td>3000000.0</td>\n",
       "      <td>159</td>\n",
       "    </tr>\n",
       "    <tr>\n",
       "      <th>2004</th>\n",
       "      <td>5000000.0</td>\n",
       "      <td>291</td>\n",
       "    </tr>\n",
       "    <tr>\n",
       "      <th>2005</th>\n",
       "      <td>5500000.0</td>\n",
       "      <td>1633</td>\n",
       "    </tr>\n",
       "    <tr>\n",
       "      <th>2006</th>\n",
       "      <td>5000000.0</td>\n",
       "      <td>2436</td>\n",
       "    </tr>\n",
       "    <tr>\n",
       "      <th>2007</th>\n",
       "      <td>3973320.0</td>\n",
       "      <td>3279</td>\n",
       "    </tr>\n",
       "    <tr>\n",
       "      <th>2008</th>\n",
       "      <td>3110000.0</td>\n",
       "      <td>3774</td>\n",
       "    </tr>\n",
       "    <tr>\n",
       "      <th>2009</th>\n",
       "      <td>2000000.0</td>\n",
       "      <td>4151</td>\n",
       "    </tr>\n",
       "    <tr>\n",
       "      <th>2010</th>\n",
       "      <td>1602500.0</td>\n",
       "      <td>6221</td>\n",
       "    </tr>\n",
       "    <tr>\n",
       "      <th>2011</th>\n",
       "      <td>1200000.0</td>\n",
       "      <td>9204</td>\n",
       "    </tr>\n",
       "    <tr>\n",
       "      <th>2012</th>\n",
       "      <td>1000000.0</td>\n",
       "      <td>9970</td>\n",
       "    </tr>\n",
       "    <tr>\n",
       "      <th>2013</th>\n",
       "      <td>1200000.0</td>\n",
       "      <td>11072</td>\n",
       "    </tr>\n",
       "  </tbody>\n",
       "</table>\n",
       "</div>"
      ],
      "text/plain": [
       "                   median         count\n",
       "            raised_amount raised_amount\n",
       "funded_year                            \n",
       "1960                  0.0             9\n",
       "1973                  0.0             1\n",
       "1974                  0.0             2\n",
       "1984              41000.0             3\n",
       "1985                  0.0             1\n",
       "1987            1250000.0             2\n",
       "1989              15000.0             1\n",
       "1990            1000000.0             1\n",
       "1992            2000000.0             1\n",
       "1993              62500.0             2\n",
       "1994            6700000.0             2\n",
       "1995            2000000.0             7\n",
       "1996              12500.0             7\n",
       "1997            3300000.0             9\n",
       "1998             100000.0            29\n",
       "1999            2000000.0            76\n",
       "2000            4200000.0           125\n",
       "2001            3000000.0            96\n",
       "2002            4200000.0           116\n",
       "2003            3000000.0           159\n",
       "2004            5000000.0           291\n",
       "2005            5500000.0          1633\n",
       "2006            5000000.0          2436\n",
       "2007            3973320.0          3279\n",
       "2008            3110000.0          3774\n",
       "2009            2000000.0          4151\n",
       "2010            1602500.0          6221\n",
       "2011            1200000.0          9204\n",
       "2012            1000000.0          9970\n",
       "2013            1200000.0         11072"
      ]
     },
     "metadata": {},
     "output_type": "display_data"
    }
   ],
   "source": [
    "# Создаем сводную таблицу:\n",
    "pivot_rounds = pd.pivot_table(company_and_rounds,\n",
    "                              index='funded_year',\n",
    "                              values='raised_amount',\n",
    "                              aggfunc=['median', 'count']\n",
    ")\n",
    "\n",
    "\n",
    "# Проверка:\n",
    "pivot_rounds.info()\n",
    "\n",
    "display(pivot_rounds)"
   ]
  },
  {
   "cell_type": "code",
   "execution_count": 28,
   "metadata": {},
   "outputs": [
    {
     "data": {
      "text/html": [
       "<div>\n",
       "<style scoped>\n",
       "    .dataframe tbody tr th:only-of-type {\n",
       "        vertical-align: middle;\n",
       "    }\n",
       "\n",
       "    .dataframe tbody tr th {\n",
       "        vertical-align: top;\n",
       "    }\n",
       "\n",
       "    .dataframe thead tr th {\n",
       "        text-align: left;\n",
       "    }\n",
       "\n",
       "    .dataframe thead tr:last-of-type th {\n",
       "        text-align: right;\n",
       "    }\n",
       "</style>\n",
       "<table border=\"1\" class=\"dataframe\">\n",
       "  <thead>\n",
       "    <tr>\n",
       "      <th></th>\n",
       "      <th>median</th>\n",
       "      <th>count</th>\n",
       "    </tr>\n",
       "    <tr>\n",
       "      <th></th>\n",
       "      <th>raised_amount</th>\n",
       "      <th>raised_amount</th>\n",
       "    </tr>\n",
       "    <tr>\n",
       "      <th>funded_year</th>\n",
       "      <th></th>\n",
       "      <th></th>\n",
       "    </tr>\n",
       "  </thead>\n",
       "  <tbody>\n",
       "    <tr>\n",
       "      <th>1999</th>\n",
       "      <td>2000000.00</td>\n",
       "      <td>76</td>\n",
       "    </tr>\n",
       "    <tr>\n",
       "      <th>2000</th>\n",
       "      <td>4200000.00</td>\n",
       "      <td>125</td>\n",
       "    </tr>\n",
       "    <tr>\n",
       "      <th>2001</th>\n",
       "      <td>3000000.00</td>\n",
       "      <td>96</td>\n",
       "    </tr>\n",
       "    <tr>\n",
       "      <th>2002</th>\n",
       "      <td>4200000.00</td>\n",
       "      <td>116</td>\n",
       "    </tr>\n",
       "    <tr>\n",
       "      <th>2003</th>\n",
       "      <td>3000000.00</td>\n",
       "      <td>159</td>\n",
       "    </tr>\n",
       "    <tr>\n",
       "      <th>2004</th>\n",
       "      <td>5000000.00</td>\n",
       "      <td>291</td>\n",
       "    </tr>\n",
       "    <tr>\n",
       "      <th>2005</th>\n",
       "      <td>5500000.00</td>\n",
       "      <td>1633</td>\n",
       "    </tr>\n",
       "    <tr>\n",
       "      <th>2006</th>\n",
       "      <td>5000000.00</td>\n",
       "      <td>2436</td>\n",
       "    </tr>\n",
       "    <tr>\n",
       "      <th>2007</th>\n",
       "      <td>3973320.00</td>\n",
       "      <td>3279</td>\n",
       "    </tr>\n",
       "    <tr>\n",
       "      <th>2008</th>\n",
       "      <td>3110000.00</td>\n",
       "      <td>3774</td>\n",
       "    </tr>\n",
       "    <tr>\n",
       "      <th>2009</th>\n",
       "      <td>2000000.00</td>\n",
       "      <td>4151</td>\n",
       "    </tr>\n",
       "    <tr>\n",
       "      <th>2010</th>\n",
       "      <td>1602500.00</td>\n",
       "      <td>6221</td>\n",
       "    </tr>\n",
       "    <tr>\n",
       "      <th>2011</th>\n",
       "      <td>1200000.00</td>\n",
       "      <td>9204</td>\n",
       "    </tr>\n",
       "    <tr>\n",
       "      <th>2012</th>\n",
       "      <td>1000000.00</td>\n",
       "      <td>9970</td>\n",
       "    </tr>\n",
       "    <tr>\n",
       "      <th>2013</th>\n",
       "      <td>1200000.00</td>\n",
       "      <td>11072</td>\n",
       "    </tr>\n",
       "  </tbody>\n",
       "</table>\n",
       "</div>"
      ],
      "text/plain": [
       "                   median         count\n",
       "            raised_amount raised_amount\n",
       "funded_year                            \n",
       "1999           2000000.00            76\n",
       "2000           4200000.00           125\n",
       "2001           3000000.00            96\n",
       "2002           4200000.00           116\n",
       "2003           3000000.00           159\n",
       "2004           5000000.00           291\n",
       "2005           5500000.00          1633\n",
       "2006           5000000.00          2436\n",
       "2007           3973320.00          3279\n",
       "2008           3110000.00          3774\n",
       "2009           2000000.00          4151\n",
       "2010           1602500.00          6221\n",
       "2011           1200000.00          9204\n",
       "2012           1000000.00          9970\n",
       "2013           1200000.00         11072"
      ]
     },
     "metadata": {},
     "output_type": "display_data"
    }
   ],
   "source": [
    "# Отберем те годы, где было >50 раундов:\n",
    "pivot_rounds = pivot_rounds.loc[pivot_rounds[('count', 'raised_amount')] > 50 ]\n",
    "\n",
    "# Приведем строки со ср значением к читаемому формату:\n",
    "pd.options.display.float_format = '{: .2f}'.format \n",
    "\n",
    "display(pivot_rounds)"
   ]
  },
  {
   "cell_type": "code",
   "execution_count": 29,
   "metadata": {
    "scrolled": false
   },
   "outputs": [
    {
     "data": {
      "image/png": "[encoded data removed]",
      "text/plain": [
       "<Figure size 1008x432 with 1 Axes>"
      ]
     },
     "metadata": {
      "needs_background": "light"
     },
     "output_type": "display_data"
    }
   ],
   "source": [
    "# Сбросим индексы и сделаем годы столбцом:\n",
    "pivot_rounds = pivot_rounds.reset_index()\n",
    "\n",
    "# Визуализируем:\n",
    "pivot_rounds.plot(kind='line', \n",
    "                  x='funded_year', \n",
    "                  y=('median', 'raised_amount'),\n",
    "                  color = 'sienna',\n",
    "                  legend=False, \n",
    "                  figsize=(14, 6))\n",
    "plt.title('Динамика среднего размера средств в рамках одного раунда')\n",
    "plt.xlabel('Годы')\n",
    "plt.ylabel('Млн.')\n",
    "plt.show()"
   ]
  },
  {
   "cell_type": "code",
   "execution_count": 30,
   "metadata": {},
   "outputs": [
    {
     "data": {
      "text/html": [
       "<div>\n",
       "<style scoped>\n",
       "    .dataframe tbody tr th:only-of-type {\n",
       "        vertical-align: middle;\n",
       "    }\n",
       "\n",
       "    .dataframe tbody tr th {\n",
       "        vertical-align: top;\n",
       "    }\n",
       "\n",
       "    .dataframe thead tr th {\n",
       "        text-align: left;\n",
       "    }\n",
       "</style>\n",
       "<table border=\"1\" class=\"dataframe\">\n",
       "  <thead>\n",
       "    <tr>\n",
       "      <th></th>\n",
       "      <th>funded_year</th>\n",
       "      <th>median</th>\n",
       "      <th>count</th>\n",
       "    </tr>\n",
       "    <tr>\n",
       "      <th></th>\n",
       "      <th></th>\n",
       "      <th>raised_amount</th>\n",
       "      <th>raised_amount</th>\n",
       "    </tr>\n",
       "  </thead>\n",
       "  <tbody>\n",
       "    <tr>\n",
       "      <th>13</th>\n",
       "      <td>2012</td>\n",
       "      <td>1000000.00</td>\n",
       "      <td>9970</td>\n",
       "    </tr>\n",
       "    <tr>\n",
       "      <th>12</th>\n",
       "      <td>2011</td>\n",
       "      <td>1200000.00</td>\n",
       "      <td>9204</td>\n",
       "    </tr>\n",
       "    <tr>\n",
       "      <th>14</th>\n",
       "      <td>2013</td>\n",
       "      <td>1200000.00</td>\n",
       "      <td>11072</td>\n",
       "    </tr>\n",
       "    <tr>\n",
       "      <th>11</th>\n",
       "      <td>2010</td>\n",
       "      <td>1602500.00</td>\n",
       "      <td>6221</td>\n",
       "    </tr>\n",
       "    <tr>\n",
       "      <th>0</th>\n",
       "      <td>1999</td>\n",
       "      <td>2000000.00</td>\n",
       "      <td>76</td>\n",
       "    </tr>\n",
       "    <tr>\n",
       "      <th>10</th>\n",
       "      <td>2009</td>\n",
       "      <td>2000000.00</td>\n",
       "      <td>4151</td>\n",
       "    </tr>\n",
       "    <tr>\n",
       "      <th>2</th>\n",
       "      <td>2001</td>\n",
       "      <td>3000000.00</td>\n",
       "      <td>96</td>\n",
       "    </tr>\n",
       "    <tr>\n",
       "      <th>4</th>\n",
       "      <td>2003</td>\n",
       "      <td>3000000.00</td>\n",
       "      <td>159</td>\n",
       "    </tr>\n",
       "    <tr>\n",
       "      <th>9</th>\n",
       "      <td>2008</td>\n",
       "      <td>3110000.00</td>\n",
       "      <td>3774</td>\n",
       "    </tr>\n",
       "    <tr>\n",
       "      <th>8</th>\n",
       "      <td>2007</td>\n",
       "      <td>3973320.00</td>\n",
       "      <td>3279</td>\n",
       "    </tr>\n",
       "    <tr>\n",
       "      <th>1</th>\n",
       "      <td>2000</td>\n",
       "      <td>4200000.00</td>\n",
       "      <td>125</td>\n",
       "    </tr>\n",
       "    <tr>\n",
       "      <th>3</th>\n",
       "      <td>2002</td>\n",
       "      <td>4200000.00</td>\n",
       "      <td>116</td>\n",
       "    </tr>\n",
       "    <tr>\n",
       "      <th>5</th>\n",
       "      <td>2004</td>\n",
       "      <td>5000000.00</td>\n",
       "      <td>291</td>\n",
       "    </tr>\n",
       "    <tr>\n",
       "      <th>7</th>\n",
       "      <td>2006</td>\n",
       "      <td>5000000.00</td>\n",
       "      <td>2436</td>\n",
       "    </tr>\n",
       "    <tr>\n",
       "      <th>6</th>\n",
       "      <td>2005</td>\n",
       "      <td>5500000.00</td>\n",
       "      <td>1633</td>\n",
       "    </tr>\n",
       "  </tbody>\n",
       "</table>\n",
       "</div>"
      ],
      "text/plain": [
       "   funded_year        median         count\n",
       "               raised_amount raised_amount\n",
       "13        2012    1000000.00          9970\n",
       "12        2011    1200000.00          9204\n",
       "14        2013    1200000.00         11072\n",
       "11        2010    1602500.00          6221\n",
       "0         1999    2000000.00            76\n",
       "10        2009    2000000.00          4151\n",
       "2         2001    3000000.00            96\n",
       "4         2003    3000000.00           159\n",
       "9         2008    3110000.00          3774\n",
       "8         2007    3973320.00          3279\n",
       "1         2000    4200000.00           125\n",
       "3         2002    4200000.00           116\n",
       "5         2004    5000000.00           291\n",
       "7         2006    5000000.00          2436\n",
       "6         2005    5500000.00          1633"
      ]
     },
     "execution_count": 30,
     "metadata": {},
     "output_type": "execute_result"
    }
   ],
   "source": [
    "# Отсортируем для точного вывода:\n",
    "pivot_rounds.sort_values(by=('median', 'raised_amount'))"
   ]
  },
  {
   "cell_type": "markdown",
   "metadata": {},
   "source": [
    "Видим кривую, показывающую колебания от года к году:\n",
    "+ Максимальное среднее количество средств в рамках одного раунда было собрано в 2005 году (5.5 млн.)\t\n",
    "+ В 2012 году было минимальное количество собранных средств (1 млн.)\n",
    "+ В 2013 общее количество раундов было наибольшим за весь период (11072 раундов), при этом собранные средства близки к минимуму (1.2 млн.). Видим, что с 2010 года наблюдается тенденция снижения сумм инвестирования и увеличения при этом раундов финансирования. Одной из причин может быть экономический аспект - показатель дефляции в США с 2005 по 2013 увеличился (судя по официальным данным), а значит покупательная способность доллара также увеличилась"
   ]
  },
  {
   "cell_type": "markdown",
   "metadata": {
    "id": "45if1en1rJg2"
   },
   "source": [
    "\n",
    "### 2.2. Люди и их образование\n",
    "\n",
    "Заказчик хочет понять, зависит ли полнота сведений о сотрудниках (например, об их образовании) от размера компаний.\n",
    "\n",
    "* Оцените, насколько информация об образовании сотрудников полна. Используя датасеты `people.csv` и `education.csv`, разделите все компании на несколько групп по количеству сотрудников и оцените среднюю долю сотрудников без информации об образовании в каждой из групп. Обоснуйте выбранные границы групп. **ОК**\n",
    "\n",
    "* Оцените, возможно ли для выполнения задания присоединить к этим таблицам ещё и таблицу `degrees.csv`. **ОК**"
   ]
  },
  {
   "cell_type": "markdown",
   "metadata": {},
   "source": [
    "Итак, я пришла к выводу, что нужно соединять все 3 таблицы, поскольку в каждой из таблиц содержится инфо, которое может помочь понять, есть ли у сотрудника образование. Т.е. получается, что ключевыми критериями являются следующие:\n",
    "+ institution\n",
    "+ graduated_at\n",
    "+ degree_type\n",
    "+ subject"
   ]
  },
  {
   "cell_type": "code",
   "execution_count": 31,
   "metadata": {
    "scrolled": true
   },
   "outputs": [
    {
     "name": "stdout",
     "output_type": "stream",
     "text": [
      "<class 'pandas.core.frame.DataFrame'>\n",
      "Int64Index: 267694 entries, 0 to 267693\n",
      "Data columns (total 9 columns):\n",
      " #   Column            Non-Null Count   Dtype         \n",
      "---  ------            --------------   -----         \n",
      " 0   id_x              109056 non-null  float64       \n",
      " 1   person_id         109056 non-null  float64       \n",
      " 2   institution       109002 non-null  object        \n",
      " 3   graduated_at      57691 non-null   datetime64[ns]\n",
      " 4   id_y              267694 non-null  int64         \n",
      " 5   first_name        267689 non-null  object        \n",
      " 6   last_name         267693 non-null  object        \n",
      " 7   company_id        44789 non-null   float64       \n",
      " 8   network_username  50775 non-null   object        \n",
      "dtypes: datetime64[ns](1), float64(3), int64(1), object(4)\n",
      "memory usage: 20.4+ MB\n"
     ]
    }
   ],
   "source": [
    "# Соединим сначала 2 датасета people и education:\n",
    "ep_merged = education.merge(people, left_on='person_id', right_on='id', how='right')\n",
    "\n",
    "ep_merged.info()"
   ]
  },
  {
   "cell_type": "markdown",
   "metadata": {},
   "source": [
    "Далее для соединения ep_merged с degrees надо очистить столбец `object_id` от первых лишних символов, тк они будут мешать присоединению датасетов"
   ]
  },
  {
   "cell_type": "code",
   "execution_count": 32,
   "metadata": {},
   "outputs": [
    {
     "data": {
      "text/html": [
       "<div>\n",
       "<style scoped>\n",
       "    .dataframe tbody tr th:only-of-type {\n",
       "        vertical-align: middle;\n",
       "    }\n",
       "\n",
       "    .dataframe tbody tr th {\n",
       "        vertical-align: top;\n",
       "    }\n",
       "\n",
       "    .dataframe thead th {\n",
       "        text-align: right;\n",
       "    }\n",
       "</style>\n",
       "<table border=\"1\" class=\"dataframe\">\n",
       "  <thead>\n",
       "    <tr style=\"text-align: right;\">\n",
       "      <th></th>\n",
       "      <th>id</th>\n",
       "      <th>object_id</th>\n",
       "      <th>degree_type</th>\n",
       "      <th>subject</th>\n",
       "    </tr>\n",
       "  </thead>\n",
       "  <tbody>\n",
       "    <tr>\n",
       "      <th>0</th>\n",
       "      <td>1</td>\n",
       "      <td>6117</td>\n",
       "      <td>MBA</td>\n",
       "      <td>NaN</td>\n",
       "    </tr>\n",
       "    <tr>\n",
       "      <th>1</th>\n",
       "      <td>2</td>\n",
       "      <td>6136</td>\n",
       "      <td>BA</td>\n",
       "      <td>English, French</td>\n",
       "    </tr>\n",
       "    <tr>\n",
       "      <th>2</th>\n",
       "      <td>3</td>\n",
       "      <td>6136</td>\n",
       "      <td>MS</td>\n",
       "      <td>Mass Communication</td>\n",
       "    </tr>\n",
       "    <tr>\n",
       "      <th>3</th>\n",
       "      <td>4</td>\n",
       "      <td>6005</td>\n",
       "      <td>MS</td>\n",
       "      <td>Internet Technology</td>\n",
       "    </tr>\n",
       "    <tr>\n",
       "      <th>4</th>\n",
       "      <td>5</td>\n",
       "      <td>5832</td>\n",
       "      <td>BCS</td>\n",
       "      <td>Computer Science, Psychology</td>\n",
       "    </tr>\n",
       "  </tbody>\n",
       "</table>\n",
       "</div>"
      ],
      "text/plain": [
       "   id  object_id degree_type                       subject\n",
       "0   1       6117         MBA                           NaN\n",
       "1   2       6136          BA               English, French\n",
       "2   3       6136          MS            Mass Communication\n",
       "3   4       6005          MS           Internet Technology\n",
       "4   5       5832         BCS  Computer Science, Psychology"
      ]
     },
     "execution_count": 32,
     "metadata": {},
     "output_type": "execute_result"
    }
   ],
   "source": [
    "# Очистим столбец object_id от первых двух символов (p:) и поменяем его тип:\n",
    "degrees['object_id'] = degrees['object_id'].map(lambda x: x[2:])\n",
    "degrees['object_id'] = degrees['object_id'].astype('int64')\n",
    "\n",
    "# Проверка:\n",
    "degrees.head()"
   ]
  },
  {
   "cell_type": "code",
   "execution_count": 33,
   "metadata": {},
   "outputs": [
    {
     "name": "stdout",
     "output_type": "stream",
     "text": [
      "<class 'pandas.core.frame.DataFrame'>\n",
      "Int64Index: 370836 entries, 0 to 370835\n",
      "Data columns (total 13 columns):\n",
      " #   Column            Non-Null Count   Dtype         \n",
      "---  ------            --------------   -----         \n",
      " 0   id_x              212198 non-null  float64       \n",
      " 1   person_id         212198 non-null  float64       \n",
      " 2   institution       212109 non-null  object        \n",
      " 3   graduated_at      113991 non-null  datetime64[ns]\n",
      " 4   id_y              370836 non-null  int64         \n",
      " 5   first_name        370831 non-null  object        \n",
      " 6   last_name         370835 non-null  object        \n",
      " 7   company_id        70869 non-null   float64       \n",
      " 8   network_username  81529 non-null   object        \n",
      " 9   id                212198 non-null  float64       \n",
      " 10  object_id         212198 non-null  float64       \n",
      " 11  degree_type       190722 non-null  object        \n",
      " 12  subject           156477 non-null  object        \n",
      "dtypes: datetime64[ns](1), float64(5), int64(1), object(6)\n",
      "memory usage: 39.6+ MB\n"
     ]
    },
    {
     "data": {
      "text/html": [
       "<div>\n",
       "<style scoped>\n",
       "    .dataframe tbody tr th:only-of-type {\n",
       "        vertical-align: middle;\n",
       "    }\n",
       "\n",
       "    .dataframe tbody tr th {\n",
       "        vertical-align: top;\n",
       "    }\n",
       "\n",
       "    .dataframe thead th {\n",
       "        text-align: right;\n",
       "    }\n",
       "</style>\n",
       "<table border=\"1\" class=\"dataframe\">\n",
       "  <thead>\n",
       "    <tr style=\"text-align: right;\">\n",
       "      <th></th>\n",
       "      <th>id_x</th>\n",
       "      <th>person_id</th>\n",
       "      <th>institution</th>\n",
       "      <th>graduated_at</th>\n",
       "      <th>id_y</th>\n",
       "      <th>first_name</th>\n",
       "      <th>last_name</th>\n",
       "      <th>company_id</th>\n",
       "      <th>network_username</th>\n",
       "      <th>id</th>\n",
       "      <th>object_id</th>\n",
       "      <th>degree_type</th>\n",
       "      <th>subject</th>\n",
       "    </tr>\n",
       "  </thead>\n",
       "  <tbody>\n",
       "    <tr>\n",
       "      <th>162913</th>\n",
       "      <td>61190.00</td>\n",
       "      <td>216482.00</td>\n",
       "      <td>Duke University, Fuqua School of Business</td>\n",
       "      <td>NaT</td>\n",
       "      <td>216482</td>\n",
       "      <td>Brett</td>\n",
       "      <td>Flinchum</td>\n",
       "      <td>NaN</td>\n",
       "      <td>NaN</td>\n",
       "      <td>61189.00</td>\n",
       "      <td>216482.00</td>\n",
       "      <td>BS</td>\n",
       "      <td>Economics</td>\n",
       "    </tr>\n",
       "    <tr>\n",
       "      <th>207592</th>\n",
       "      <td>83312.00</td>\n",
       "      <td>236866.00</td>\n",
       "      <td>University of Tennessee</td>\n",
       "      <td>NaT</td>\n",
       "      <td>236866</td>\n",
       "      <td>Bill</td>\n",
       "      <td>Alvord</td>\n",
       "      <td>NaN</td>\n",
       "      <td>NaN</td>\n",
       "      <td>83312.00</td>\n",
       "      <td>236866.00</td>\n",
       "      <td>MS</td>\n",
       "      <td>Nuclear Engineering</td>\n",
       "    </tr>\n",
       "    <tr>\n",
       "      <th>331888</th>\n",
       "      <td>79099.00</td>\n",
       "      <td>70527.00</td>\n",
       "      <td>University of Notre Dame</td>\n",
       "      <td>NaT</td>\n",
       "      <td>70527</td>\n",
       "      <td>Mark</td>\n",
       "      <td>McGough</td>\n",
       "      <td>NaN</td>\n",
       "      <td>NaN</td>\n",
       "      <td>79099.00</td>\n",
       "      <td>70527.00</td>\n",
       "      <td>BS</td>\n",
       "      <td>Mechanical Engineering</td>\n",
       "    </tr>\n",
       "    <tr>\n",
       "      <th>247625</th>\n",
       "      <td>100853.00</td>\n",
       "      <td>258707.00</td>\n",
       "      <td>Marquette University Law School</td>\n",
       "      <td>1985-01-01</td>\n",
       "      <td>258707</td>\n",
       "      <td>Rick</td>\n",
       "      <td>M. Schweiger</td>\n",
       "      <td>NaN</td>\n",
       "      <td>NaN</td>\n",
       "      <td>100854.00</td>\n",
       "      <td>258707.00</td>\n",
       "      <td>Masters of Law</td>\n",
       "      <td>Taxation</td>\n",
       "    </tr>\n",
       "    <tr>\n",
       "      <th>123376</th>\n",
       "      <td>40877.00</td>\n",
       "      <td>195049.00</td>\n",
       "      <td>LDS Business College</td>\n",
       "      <td>2006-01-01</td>\n",
       "      <td>195049</td>\n",
       "      <td>Jeffrey</td>\n",
       "      <td>Harmon</td>\n",
       "      <td>NaN</td>\n",
       "      <td>JeffreyHarmon</td>\n",
       "      <td>40875.00</td>\n",
       "      <td>195049.00</td>\n",
       "      <td>NaN</td>\n",
       "      <td>International Business</td>\n",
       "    </tr>\n",
       "  </tbody>\n",
       "</table>\n",
       "</div>"
      ],
      "text/plain": [
       "             id_x  person_id                                institution  \\\n",
       "162913   61190.00  216482.00  Duke University, Fuqua School of Business   \n",
       "207592   83312.00  236866.00                    University of Tennessee   \n",
       "331888   79099.00   70527.00                   University of Notre Dame   \n",
       "247625  100853.00  258707.00            Marquette University Law School   \n",
       "123376   40877.00  195049.00                       LDS Business College   \n",
       "\n",
       "       graduated_at    id_y first_name     last_name  company_id  \\\n",
       "162913          NaT  216482      Brett      Flinchum         NaN   \n",
       "207592          NaT  236866       Bill        Alvord         NaN   \n",
       "331888          NaT   70527       Mark       McGough         NaN   \n",
       "247625   1985-01-01  258707       Rick  M. Schweiger         NaN   \n",
       "123376   2006-01-01  195049    Jeffrey        Harmon         NaN   \n",
       "\n",
       "       network_username         id  object_id     degree_type  \\\n",
       "162913              NaN   61189.00  216482.00              BS   \n",
       "207592              NaN   83312.00  236866.00              MS   \n",
       "331888              NaN   79099.00   70527.00              BS   \n",
       "247625              NaN  100854.00  258707.00  Masters of Law   \n",
       "123376    JeffreyHarmon   40875.00  195049.00             NaN   \n",
       "\n",
       "                       subject  \n",
       "162913               Economics  \n",
       "207592     Nuclear Engineering  \n",
       "331888  Mechanical Engineering  \n",
       "247625                Taxation  \n",
       "123376  International Business  "
      ]
     },
     "execution_count": 33,
     "metadata": {},
     "output_type": "execute_result"
    }
   ],
   "source": [
    "# Теперь можно соединить датасеты:\n",
    "epd_merged = ep_merged.merge(degrees, left_on='id_y', right_on='object_id', how='left')\n",
    "\n",
    "epd_merged.info()\n",
    "epd_merged.sample(5) "
   ]
  },
  {
   "cell_type": "code",
   "execution_count": 34,
   "metadata": {},
   "outputs": [
    {
     "name": "stdout",
     "output_type": "stream",
     "text": [
      "<class 'pandas.core.frame.DataFrame'>\n",
      "Int64Index: 370836 entries, 0 to 370835\n",
      "Data columns (total 13 columns):\n",
      " #   Column            Non-Null Count   Dtype         \n",
      "---  ------            --------------   -----         \n",
      " 0   education_id      212198 non-null  float64       \n",
      " 1   person_id         212198 non-null  float64       \n",
      " 2   institution       212109 non-null  object        \n",
      " 3   graduated_at      113991 non-null  datetime64[ns]\n",
      " 4   people_id         370836 non-null  int64         \n",
      " 5   first_name        370831 non-null  object        \n",
      " 6   last_name         370835 non-null  object        \n",
      " 7   company_id        70869 non-null   float64       \n",
      " 8   network_username  81529 non-null   object        \n",
      " 9   id                212198 non-null  float64       \n",
      " 10  object_id         212198 non-null  float64       \n",
      " 11  degree_type       190722 non-null  object        \n",
      " 12  subject           156477 non-null  object        \n",
      "dtypes: datetime64[ns](1), float64(5), int64(1), object(6)\n",
      "memory usage: 39.6+ MB\n"
     ]
    }
   ],
   "source": [
    "# Для удобства переименуем некоторые столбцы:\n",
    "epd_merged = epd_merged.rename(columns={'id_x' : 'education_id',\n",
    "                               'id_y' : 'people_id'})\n",
    "\n",
    "epd_merged.info()"
   ]
  },
  {
   "cell_type": "markdown",
   "metadata": {},
   "source": [
    "Теперь надо проанализировать соединенный датасет и обработать его для дальнешего анализа. Перейдем к дубликатам"
   ]
  },
  {
   "cell_type": "code",
   "execution_count": 35,
   "metadata": {},
   "outputs": [
    {
     "data": {
      "text/plain": [
       "144128"
      ]
     },
     "execution_count": 35,
     "metadata": {},
     "output_type": "execute_result"
    }
   ],
   "source": [
    "# Проверим дубликаты в people_id\n",
    "epd_merged.duplicated(subset=['people_id']).sum()"
   ]
  },
  {
   "cell_type": "markdown",
   "metadata": {},
   "source": [
    "Получается, если есть дубли по people_id, то это действительно задубленные строки. В любом случае их нужно удалить, тк это сильно искажает данные (вариант что люди могли получить 2 образования возможен, но для данной задачи это не играет роли, нам достаточно просто факта образования у сотрудника, а уже сколько их у него - здесь неважно)"
   ]
  },
  {
   "cell_type": "code",
   "execution_count": 36,
   "metadata": {
    "scrolled": true
   },
   "outputs": [
    {
     "data": {
      "text/html": [
       "<div>\n",
       "<style scoped>\n",
       "    .dataframe tbody tr th:only-of-type {\n",
       "        vertical-align: middle;\n",
       "    }\n",
       "\n",
       "    .dataframe tbody tr th {\n",
       "        vertical-align: top;\n",
       "    }\n",
       "\n",
       "    .dataframe thead th {\n",
       "        text-align: right;\n",
       "    }\n",
       "</style>\n",
       "<table border=\"1\" class=\"dataframe\">\n",
       "  <thead>\n",
       "    <tr style=\"text-align: right;\">\n",
       "      <th></th>\n",
       "      <th>education_id</th>\n",
       "      <th>person_id</th>\n",
       "      <th>institution</th>\n",
       "      <th>graduated_at</th>\n",
       "      <th>people_id</th>\n",
       "      <th>first_name</th>\n",
       "      <th>last_name</th>\n",
       "      <th>company_id</th>\n",
       "      <th>network_username</th>\n",
       "      <th>id</th>\n",
       "      <th>object_id</th>\n",
       "      <th>degree_type</th>\n",
       "      <th>subject</th>\n",
       "    </tr>\n",
       "  </thead>\n",
       "  <tbody>\n",
       "    <tr>\n",
       "      <th>5793</th>\n",
       "      <td>NaN</td>\n",
       "      <td>NaN</td>\n",
       "      <td>NaN</td>\n",
       "      <td>NaT</td>\n",
       "      <td>104800</td>\n",
       "      <td>Alex</td>\n",
       "      <td>Weinstein</td>\n",
       "      <td>1.00</td>\n",
       "      <td>alexweinstein</td>\n",
       "      <td>NaN</td>\n",
       "      <td>NaN</td>\n",
       "      <td>NaN</td>\n",
       "      <td>NaN</td>\n",
       "    </tr>\n",
       "    <tr>\n",
       "      <th>271005</th>\n",
       "      <td>706.00</td>\n",
       "      <td>3.00</td>\n",
       "      <td>Washington University in St Louis</td>\n",
       "      <td>NaT</td>\n",
       "      <td>3</td>\n",
       "      <td>Kevin</td>\n",
       "      <td>Flaherty</td>\n",
       "      <td>1.00</td>\n",
       "      <td>NaN</td>\n",
       "      <td>706.00</td>\n",
       "      <td>3.00</td>\n",
       "      <td>BBA</td>\n",
       "      <td>NaN</td>\n",
       "    </tr>\n",
       "    <tr>\n",
       "      <th>271006</th>\n",
       "      <td>706.00</td>\n",
       "      <td>3.00</td>\n",
       "      <td>Washington University in St Louis</td>\n",
       "      <td>NaT</td>\n",
       "      <td>3</td>\n",
       "      <td>Kevin</td>\n",
       "      <td>Flaherty</td>\n",
       "      <td>1.00</td>\n",
       "      <td>NaN</td>\n",
       "      <td>707.00</td>\n",
       "      <td>3.00</td>\n",
       "      <td>MBA</td>\n",
       "      <td>NaN</td>\n",
       "    </tr>\n",
       "    <tr>\n",
       "      <th>271007</th>\n",
       "      <td>707.00</td>\n",
       "      <td>3.00</td>\n",
       "      <td>Indiana University</td>\n",
       "      <td>NaT</td>\n",
       "      <td>3</td>\n",
       "      <td>Kevin</td>\n",
       "      <td>Flaherty</td>\n",
       "      <td>1.00</td>\n",
       "      <td>NaN</td>\n",
       "      <td>706.00</td>\n",
       "      <td>3.00</td>\n",
       "      <td>BBA</td>\n",
       "      <td>NaN</td>\n",
       "    </tr>\n",
       "    <tr>\n",
       "      <th>271008</th>\n",
       "      <td>707.00</td>\n",
       "      <td>3.00</td>\n",
       "      <td>Indiana University</td>\n",
       "      <td>NaT</td>\n",
       "      <td>3</td>\n",
       "      <td>Kevin</td>\n",
       "      <td>Flaherty</td>\n",
       "      <td>1.00</td>\n",
       "      <td>NaN</td>\n",
       "      <td>707.00</td>\n",
       "      <td>3.00</td>\n",
       "      <td>MBA</td>\n",
       "      <td>NaN</td>\n",
       "    </tr>\n",
       "  </tbody>\n",
       "</table>\n",
       "</div>"
      ],
      "text/plain": [
       "        education_id  person_id                        institution  \\\n",
       "5793             NaN        NaN                                NaN   \n",
       "271005        706.00       3.00  Washington University in St Louis   \n",
       "271006        706.00       3.00  Washington University in St Louis   \n",
       "271007        707.00       3.00                 Indiana University   \n",
       "271008        707.00       3.00                 Indiana University   \n",
       "\n",
       "       graduated_at  people_id first_name  last_name  company_id  \\\n",
       "5793            NaT     104800       Alex  Weinstein        1.00   \n",
       "271005          NaT          3      Kevin   Flaherty        1.00   \n",
       "271006          NaT          3      Kevin   Flaherty        1.00   \n",
       "271007          NaT          3      Kevin   Flaherty        1.00   \n",
       "271008          NaT          3      Kevin   Flaherty        1.00   \n",
       "\n",
       "       network_username      id  object_id degree_type subject  \n",
       "5793      alexweinstein     NaN        NaN         NaN     NaN  \n",
       "271005              NaN  706.00       3.00         BBA     NaN  \n",
       "271006              NaN  707.00       3.00         MBA     NaN  \n",
       "271007              NaN  706.00       3.00         BBA     NaN  \n",
       "271008              NaN  707.00       3.00         MBA     NaN  "
      ]
     },
     "execution_count": 36,
     "metadata": {},
     "output_type": "execute_result"
    }
   ],
   "source": [
    "epd_merged.loc[epd_merged['company_id']==1]"
   ]
  },
  {
   "cell_type": "code",
   "execution_count": 37,
   "metadata": {},
   "outputs": [],
   "source": [
    "epd_merged = epd_merged.drop_duplicates(subset=['people_id'])"
   ]
  },
  {
   "cell_type": "code",
   "execution_count": 38,
   "metadata": {},
   "outputs": [
    {
     "data": {
      "text/plain": [
       "company_id          192094\n",
       "graduated_at        190321\n",
       "network_username    187841\n",
       "subject             175900\n",
       "degree_type         165307\n",
       "institution         158677\n",
       "education_id        158637\n",
       "person_id           158637\n",
       "id                  158637\n",
       "object_id           158637\n",
       "first_name               5\n",
       "last_name                1\n",
       "people_id                0\n",
       "dtype: int64"
      ]
     },
     "execution_count": 38,
     "metadata": {},
     "output_type": "execute_result"
    }
   ],
   "source": [
    "# Проверим абсолютное количество пропусков в каждом столбце\n",
    "epd_merged.isna().sum().sort_values(ascending=False)"
   ]
  },
  {
   "cell_type": "code",
   "execution_count": 39,
   "metadata": {
    "scrolled": false
   },
   "outputs": [
    {
     "data": {
      "text/plain": [
       "company_id          84.73\n",
       "graduated_at        83.95\n",
       "network_username    82.86\n",
       "subject             77.59\n",
       "degree_type         72.92\n",
       "institution         69.99\n",
       "education_id        69.97\n",
       "person_id           69.97\n",
       "id                  69.97\n",
       "object_id           69.97\n",
       "people_id            0.00\n",
       "first_name           0.00\n",
       "last_name            0.00\n",
       "dtype: float64"
      ]
     },
     "execution_count": 39,
     "metadata": {},
     "output_type": "execute_result"
    }
   ],
   "source": [
    "# Проверим относительное количество пропусков в процентах\n",
    "round((epd_merged.isna().sum() / len(epd_merged)  * 100),2).sort_values(ascending=False)"
   ]
  },
  {
   "cell_type": "markdown",
   "metadata": {},
   "source": [
    "Обрабатаем некоторые из них для дальнейшего анализа"
   ]
  },
  {
   "cell_type": "code",
   "execution_count": 40,
   "metadata": {},
   "outputs": [],
   "source": [
    "# Сделаем \"заглушку\" для пропусков\n",
    "epd_merged['company_id'] = epd_merged['company_id'].fillna(-1)\n",
    "epd_merged['institution'] = epd_merged['institution'].fillna(-1)\n",
    "epd_merged['graduated_at'] = epd_merged['graduated_at'].fillna(-1)\n",
    "epd_merged['degree_type'] = epd_merged['degree_type'].fillna(-1)\n",
    "epd_merged['subject'] = epd_merged['subject'].fillna(-1)"
   ]
  },
  {
   "cell_type": "markdown",
   "metadata": {},
   "source": [
    "Для того, чтобы понять, есть ли образование у сотрудника, нужно пройтись по 4 ключевым столбцам:\n",
    "+ institution\n",
    "+ graduated_at\n",
    "+ degree_type\n",
    "+ subject\n",
    "\n",
    "\n",
    "То есть если хотя бы в 1 из этих столбцов будет какое-то инфо -> образование у сотрудника есть. Чтобы это определить создадим новый столбец `educated`, который будет содержать True если хоть в одном из вышеперечисленных столбцов будут данные и False если нет ни в одном"
   ]
  },
  {
   "cell_type": "code",
   "execution_count": 41,
   "metadata": {
    "scrolled": true
   },
   "outputs": [
    {
     "data": {
      "text/html": [
       "<div>\n",
       "<style scoped>\n",
       "    .dataframe tbody tr th:only-of-type {\n",
       "        vertical-align: middle;\n",
       "    }\n",
       "\n",
       "    .dataframe tbody tr th {\n",
       "        vertical-align: top;\n",
       "    }\n",
       "\n",
       "    .dataframe thead th {\n",
       "        text-align: right;\n",
       "    }\n",
       "</style>\n",
       "<table border=\"1\" class=\"dataframe\">\n",
       "  <thead>\n",
       "    <tr style=\"text-align: right;\">\n",
       "      <th></th>\n",
       "      <th>education_id</th>\n",
       "      <th>person_id</th>\n",
       "      <th>institution</th>\n",
       "      <th>graduated_at</th>\n",
       "      <th>people_id</th>\n",
       "      <th>first_name</th>\n",
       "      <th>last_name</th>\n",
       "      <th>company_id</th>\n",
       "      <th>network_username</th>\n",
       "      <th>id</th>\n",
       "      <th>object_id</th>\n",
       "      <th>degree_type</th>\n",
       "      <th>subject</th>\n",
       "      <th>educated</th>\n",
       "    </tr>\n",
       "  </thead>\n",
       "  <tbody>\n",
       "    <tr>\n",
       "      <th>294647</th>\n",
       "      <td>NaN</td>\n",
       "      <td>NaN</td>\n",
       "      <td>-1</td>\n",
       "      <td>-1</td>\n",
       "      <td>45676</td>\n",
       "      <td>Eduardo</td>\n",
       "      <td>Bravo</td>\n",
       "      <td>-1.00</td>\n",
       "      <td>NaN</td>\n",
       "      <td>NaN</td>\n",
       "      <td>NaN</td>\n",
       "      <td>-1</td>\n",
       "      <td>-1</td>\n",
       "      <td>False</td>\n",
       "    </tr>\n",
       "    <tr>\n",
       "      <th>45552</th>\n",
       "      <td>NaN</td>\n",
       "      <td>NaN</td>\n",
       "      <td>-1</td>\n",
       "      <td>-1</td>\n",
       "      <td>140744</td>\n",
       "      <td>Wordpress Outsourcin</td>\n",
       "      <td>India</td>\n",
       "      <td>-1.00</td>\n",
       "      <td>NaN</td>\n",
       "      <td>NaN</td>\n",
       "      <td>NaN</td>\n",
       "      <td>-1</td>\n",
       "      <td>-1</td>\n",
       "      <td>False</td>\n",
       "    </tr>\n",
       "    <tr>\n",
       "      <th>78355</th>\n",
       "      <td>24558.00</td>\n",
       "      <td>167048.00</td>\n",
       "      <td>University of Vermont</td>\n",
       "      <td>1996-01-01 00:00:00</td>\n",
       "      <td>167048</td>\n",
       "      <td>Chris</td>\n",
       "      <td>Homer</td>\n",
       "      <td>81558.00</td>\n",
       "      <td>jobsbostontech</td>\n",
       "      <td>24558.00</td>\n",
       "      <td>167048.00</td>\n",
       "      <td>BS</td>\n",
       "      <td>Business Admin</td>\n",
       "      <td>True</td>\n",
       "    </tr>\n",
       "    <tr>\n",
       "      <th>267241</th>\n",
       "      <td>NaN</td>\n",
       "      <td>NaN</td>\n",
       "      <td>-1</td>\n",
       "      <td>-1</td>\n",
       "      <td>27296</td>\n",
       "      <td>Nicki</td>\n",
       "      <td>McClusky</td>\n",
       "      <td>-1.00</td>\n",
       "      <td>NaN</td>\n",
       "      <td>NaN</td>\n",
       "      <td>NaN</td>\n",
       "      <td>-1</td>\n",
       "      <td>-1</td>\n",
       "      <td>False</td>\n",
       "    </tr>\n",
       "    <tr>\n",
       "      <th>226577</th>\n",
       "      <td>91284.00</td>\n",
       "      <td>246851.00</td>\n",
       "      <td>Chelyabinsk State University</td>\n",
       "      <td>-1</td>\n",
       "      <td>246851</td>\n",
       "      <td>Michael</td>\n",
       "      <td>Ioffe</td>\n",
       "      <td>-1.00</td>\n",
       "      <td>NaN</td>\n",
       "      <td>91284.00</td>\n",
       "      <td>246851.00</td>\n",
       "      <td>MS</td>\n",
       "      <td>Robotics System</td>\n",
       "      <td>True</td>\n",
       "    </tr>\n",
       "    <tr>\n",
       "      <th>189512</th>\n",
       "      <td>NaN</td>\n",
       "      <td>NaN</td>\n",
       "      <td>-1</td>\n",
       "      <td>-1</td>\n",
       "      <td>229013</td>\n",
       "      <td>Haro</td>\n",
       "      <td>Hartounian</td>\n",
       "      <td>-1.00</td>\n",
       "      <td>NaN</td>\n",
       "      <td>NaN</td>\n",
       "      <td>NaN</td>\n",
       "      <td>-1</td>\n",
       "      <td>-1</td>\n",
       "      <td>False</td>\n",
       "    </tr>\n",
       "    <tr>\n",
       "      <th>232568</th>\n",
       "      <td>NaN</td>\n",
       "      <td>NaN</td>\n",
       "      <td>-1</td>\n",
       "      <td>-1</td>\n",
       "      <td>250154</td>\n",
       "      <td>Shuen</td>\n",
       "      <td>Chi Lo</td>\n",
       "      <td>-1.00</td>\n",
       "      <td>NaN</td>\n",
       "      <td>NaN</td>\n",
       "      <td>NaN</td>\n",
       "      <td>-1</td>\n",
       "      <td>-1</td>\n",
       "      <td>False</td>\n",
       "    </tr>\n",
       "    <tr>\n",
       "      <th>171380</th>\n",
       "      <td>64759.00</td>\n",
       "      <td>221332.00</td>\n",
       "      <td>Université de Paris II</td>\n",
       "      <td>1992-01-01 00:00:00</td>\n",
       "      <td>221332</td>\n",
       "      <td>Anne</td>\n",
       "      <td>Gabrielle Heilbronner</td>\n",
       "      <td>-1.00</td>\n",
       "      <td>NaN</td>\n",
       "      <td>64759.00</td>\n",
       "      <td>221332.00</td>\n",
       "      <td>DEA</td>\n",
       "      <td>Droit public</td>\n",
       "      <td>True</td>\n",
       "    </tr>\n",
       "    <tr>\n",
       "      <th>283105</th>\n",
       "      <td>NaN</td>\n",
       "      <td>NaN</td>\n",
       "      <td>-1</td>\n",
       "      <td>-1</td>\n",
       "      <td>37801</td>\n",
       "      <td>Brendan</td>\n",
       "      <td>Gill</td>\n",
       "      <td>-1.00</td>\n",
       "      <td>NaN</td>\n",
       "      <td>NaN</td>\n",
       "      <td>NaN</td>\n",
       "      <td>-1</td>\n",
       "      <td>-1</td>\n",
       "      <td>False</td>\n",
       "    </tr>\n",
       "    <tr>\n",
       "      <th>370437</th>\n",
       "      <td>NaN</td>\n",
       "      <td>NaN</td>\n",
       "      <td>-1</td>\n",
       "      <td>-1</td>\n",
       "      <td>99653</td>\n",
       "      <td>Evgeny</td>\n",
       "      <td>Zhilinsky</td>\n",
       "      <td>-1.00</td>\n",
       "      <td>NaN</td>\n",
       "      <td>NaN</td>\n",
       "      <td>NaN</td>\n",
       "      <td>-1</td>\n",
       "      <td>-1</td>\n",
       "      <td>False</td>\n",
       "    </tr>\n",
       "    <tr>\n",
       "      <th>49158</th>\n",
       "      <td>NaN</td>\n",
       "      <td>NaN</td>\n",
       "      <td>-1</td>\n",
       "      <td>-1</td>\n",
       "      <td>144245</td>\n",
       "      <td>DependOne</td>\n",
       "      <td>LLC</td>\n",
       "      <td>-1.00</td>\n",
       "      <td>NaN</td>\n",
       "      <td>NaN</td>\n",
       "      <td>NaN</td>\n",
       "      <td>-1</td>\n",
       "      <td>-1</td>\n",
       "      <td>False</td>\n",
       "    </tr>\n",
       "    <tr>\n",
       "      <th>342404</th>\n",
       "      <td>NaN</td>\n",
       "      <td>NaN</td>\n",
       "      <td>-1</td>\n",
       "      <td>-1</td>\n",
       "      <td>77702</td>\n",
       "      <td>Heidi</td>\n",
       "      <td>Jannenga, PT ATC</td>\n",
       "      <td>-1.00</td>\n",
       "      <td>NaN</td>\n",
       "      <td>NaN</td>\n",
       "      <td>NaN</td>\n",
       "      <td>-1</td>\n",
       "      <td>-1</td>\n",
       "      <td>False</td>\n",
       "    </tr>\n",
       "    <tr>\n",
       "      <th>56066</th>\n",
       "      <td>NaN</td>\n",
       "      <td>NaN</td>\n",
       "      <td>-1</td>\n",
       "      <td>-1</td>\n",
       "      <td>149522</td>\n",
       "      <td>Tadas</td>\n",
       "      <td>?erbinskas</td>\n",
       "      <td>-1.00</td>\n",
       "      <td>NaN</td>\n",
       "      <td>NaN</td>\n",
       "      <td>NaN</td>\n",
       "      <td>-1</td>\n",
       "      <td>-1</td>\n",
       "      <td>False</td>\n",
       "    </tr>\n",
       "    <tr>\n",
       "      <th>292614</th>\n",
       "      <td>NaN</td>\n",
       "      <td>NaN</td>\n",
       "      <td>-1</td>\n",
       "      <td>-1</td>\n",
       "      <td>44324</td>\n",
       "      <td>Jason</td>\n",
       "      <td>Hawkins</td>\n",
       "      <td>-1.00</td>\n",
       "      <td>NaN</td>\n",
       "      <td>NaN</td>\n",
       "      <td>NaN</td>\n",
       "      <td>-1</td>\n",
       "      <td>-1</td>\n",
       "      <td>False</td>\n",
       "    </tr>\n",
       "    <tr>\n",
       "      <th>185151</th>\n",
       "      <td>NaN</td>\n",
       "      <td>NaN</td>\n",
       "      <td>-1</td>\n",
       "      <td>-1</td>\n",
       "      <td>227337</td>\n",
       "      <td>Matt</td>\n",
       "      <td>Tuson</td>\n",
       "      <td>-1.00</td>\n",
       "      <td>NaN</td>\n",
       "      <td>NaN</td>\n",
       "      <td>NaN</td>\n",
       "      <td>-1</td>\n",
       "      <td>-1</td>\n",
       "      <td>False</td>\n",
       "    </tr>\n",
       "  </tbody>\n",
       "</table>\n",
       "</div>"
      ],
      "text/plain": [
       "        education_id  person_id                   institution  \\\n",
       "294647           NaN        NaN                            -1   \n",
       "45552            NaN        NaN                            -1   \n",
       "78355       24558.00  167048.00         University of Vermont   \n",
       "267241           NaN        NaN                            -1   \n",
       "226577      91284.00  246851.00  Chelyabinsk State University   \n",
       "189512           NaN        NaN                            -1   \n",
       "232568           NaN        NaN                            -1   \n",
       "171380      64759.00  221332.00        Université de Paris II   \n",
       "283105           NaN        NaN                            -1   \n",
       "370437           NaN        NaN                            -1   \n",
       "49158            NaN        NaN                            -1   \n",
       "342404           NaN        NaN                            -1   \n",
       "56066            NaN        NaN                            -1   \n",
       "292614           NaN        NaN                            -1   \n",
       "185151           NaN        NaN                            -1   \n",
       "\n",
       "               graduated_at  people_id            first_name  \\\n",
       "294647                   -1      45676               Eduardo   \n",
       "45552                    -1     140744  Wordpress Outsourcin   \n",
       "78355   1996-01-01 00:00:00     167048                 Chris   \n",
       "267241                   -1      27296                 Nicki   \n",
       "226577                   -1     246851               Michael   \n",
       "189512                   -1     229013                  Haro   \n",
       "232568                   -1     250154                 Shuen   \n",
       "171380  1992-01-01 00:00:00     221332                  Anne   \n",
       "283105                   -1      37801               Brendan   \n",
       "370437                   -1      99653                Evgeny   \n",
       "49158                    -1     144245             DependOne   \n",
       "342404                   -1      77702                 Heidi   \n",
       "56066                    -1     149522                 Tadas   \n",
       "292614                   -1      44324                 Jason   \n",
       "185151                   -1     227337                  Matt   \n",
       "\n",
       "                    last_name  company_id network_username        id  \\\n",
       "294647                  Bravo       -1.00              NaN       NaN   \n",
       "45552                   India       -1.00              NaN       NaN   \n",
       "78355                   Homer    81558.00   jobsbostontech  24558.00   \n",
       "267241               McClusky       -1.00              NaN       NaN   \n",
       "226577                  Ioffe       -1.00              NaN  91284.00   \n",
       "189512             Hartounian       -1.00              NaN       NaN   \n",
       "232568                 Chi Lo       -1.00              NaN       NaN   \n",
       "171380  Gabrielle Heilbronner       -1.00              NaN  64759.00   \n",
       "283105                   Gill       -1.00              NaN       NaN   \n",
       "370437              Zhilinsky       -1.00              NaN       NaN   \n",
       "49158                     LLC       -1.00              NaN       NaN   \n",
       "342404       Jannenga, PT ATC       -1.00              NaN       NaN   \n",
       "56066             ?erbinskas       -1.00              NaN       NaN   \n",
       "292614                Hawkins       -1.00              NaN       NaN   \n",
       "185151                  Tuson       -1.00              NaN       NaN   \n",
       "\n",
       "        object_id degree_type          subject  educated  \n",
       "294647        NaN          -1               -1     False  \n",
       "45552         NaN          -1               -1     False  \n",
       "78355   167048.00          BS   Business Admin      True  \n",
       "267241        NaN          -1               -1     False  \n",
       "226577  246851.00          MS  Robotics System      True  \n",
       "189512        NaN          -1               -1     False  \n",
       "232568        NaN          -1               -1     False  \n",
       "171380  221332.00         DEA     Droit public      True  \n",
       "283105        NaN          -1               -1     False  \n",
       "370437        NaN          -1               -1     False  \n",
       "49158         NaN          -1               -1     False  \n",
       "342404        NaN          -1               -1     False  \n",
       "56066         NaN          -1               -1     False  \n",
       "292614        NaN          -1               -1     False  \n",
       "185151        NaN          -1               -1     False  "
      ]
     },
     "execution_count": 41,
     "metadata": {},
     "output_type": "execute_result"
    }
   ],
   "source": [
    "epd_merged['educated'] = (epd_merged.institution != -1) | (epd_merged.graduated_at != -1) | (epd_merged.degree_type != -1)| (epd_merged.subject != -1)\n",
    "\n",
    "epd_merged.sample(15)"
   ]
  },
  {
   "cell_type": "code",
   "execution_count": 42,
   "metadata": {},
   "outputs": [
    {
     "data": {
      "text/html": [
       "<div>\n",
       "<style scoped>\n",
       "    .dataframe tbody tr th:only-of-type {\n",
       "        vertical-align: middle;\n",
       "    }\n",
       "\n",
       "    .dataframe tbody tr th {\n",
       "        vertical-align: top;\n",
       "    }\n",
       "\n",
       "    .dataframe thead th {\n",
       "        text-align: right;\n",
       "    }\n",
       "</style>\n",
       "<table border=\"1\" class=\"dataframe\">\n",
       "  <thead>\n",
       "    <tr style=\"text-align: right;\">\n",
       "      <th></th>\n",
       "      <th>count</th>\n",
       "      <th>sum</th>\n",
       "    </tr>\n",
       "    <tr>\n",
       "      <th>company_id</th>\n",
       "      <th></th>\n",
       "      <th></th>\n",
       "    </tr>\n",
       "  </thead>\n",
       "  <tbody>\n",
       "    <tr>\n",
       "      <th>-1.00</th>\n",
       "      <td>192094</td>\n",
       "      <td>49605</td>\n",
       "    </tr>\n",
       "    <tr>\n",
       "      <th>1.00</th>\n",
       "      <td>2</td>\n",
       "      <td>1</td>\n",
       "    </tr>\n",
       "    <tr>\n",
       "      <th>2.00</th>\n",
       "      <td>1</td>\n",
       "      <td>1</td>\n",
       "    </tr>\n",
       "    <tr>\n",
       "      <th>3.00</th>\n",
       "      <td>3</td>\n",
       "      <td>2</td>\n",
       "    </tr>\n",
       "    <tr>\n",
       "      <th>4.00</th>\n",
       "      <td>13</td>\n",
       "      <td>12</td>\n",
       "    </tr>\n",
       "    <tr>\n",
       "      <th>...</th>\n",
       "      <td>...</td>\n",
       "      <td>...</td>\n",
       "    </tr>\n",
       "    <tr>\n",
       "      <th>285897.00</th>\n",
       "      <td>2</td>\n",
       "      <td>2</td>\n",
       "    </tr>\n",
       "    <tr>\n",
       "      <th>285953.00</th>\n",
       "      <td>1</td>\n",
       "      <td>0</td>\n",
       "    </tr>\n",
       "    <tr>\n",
       "      <th>285972.00</th>\n",
       "      <td>2</td>\n",
       "      <td>1</td>\n",
       "    </tr>\n",
       "    <tr>\n",
       "      <th>285996.00</th>\n",
       "      <td>1</td>\n",
       "      <td>1</td>\n",
       "    </tr>\n",
       "    <tr>\n",
       "      <th>286091.00</th>\n",
       "      <td>6</td>\n",
       "      <td>4</td>\n",
       "    </tr>\n",
       "  </tbody>\n",
       "</table>\n",
       "<p>22922 rows × 2 columns</p>\n",
       "</div>"
      ],
      "text/plain": [
       "             count    sum\n",
       "company_id               \n",
       "-1.00       192094  49605\n",
       " 1.00            2      1\n",
       " 2.00            1      1\n",
       " 3.00            3      2\n",
       " 4.00           13     12\n",
       "...            ...    ...\n",
       " 285897.00       2      2\n",
       " 285953.00       1      0\n",
       " 285972.00       2      1\n",
       " 285996.00       1      1\n",
       " 286091.00       6      4\n",
       "\n",
       "[22922 rows x 2 columns]"
      ]
     },
     "metadata": {},
     "output_type": "display_data"
    }
   ],
   "source": [
    "# Создадим таблицу, в которой будет количество сотрудников всего и количество сотрудников с образованием\n",
    "df = epd_merged.groupby('company_id')['educated'].agg(['count', 'sum'])\n",
    "display(df)"
   ]
  },
  {
   "cell_type": "code",
   "execution_count": 43,
   "metadata": {
    "scrolled": true
   },
   "outputs": [
    {
     "data": {
      "text/html": [
       "<div>\n",
       "<style scoped>\n",
       "    .dataframe tbody tr th:only-of-type {\n",
       "        vertical-align: middle;\n",
       "    }\n",
       "\n",
       "    .dataframe tbody tr th {\n",
       "        vertical-align: top;\n",
       "    }\n",
       "\n",
       "    .dataframe thead th {\n",
       "        text-align: right;\n",
       "    }\n",
       "</style>\n",
       "<table border=\"1\" class=\"dataframe\">\n",
       "  <thead>\n",
       "    <tr style=\"text-align: right;\">\n",
       "      <th></th>\n",
       "      <th>count</th>\n",
       "      <th>sum</th>\n",
       "      <th>educated_share</th>\n",
       "      <th>not_educated_share</th>\n",
       "    </tr>\n",
       "    <tr>\n",
       "      <th>company_id</th>\n",
       "      <th></th>\n",
       "      <th></th>\n",
       "      <th></th>\n",
       "      <th></th>\n",
       "    </tr>\n",
       "  </thead>\n",
       "  <tbody>\n",
       "    <tr>\n",
       "      <th>-1.00</th>\n",
       "      <td>192094</td>\n",
       "      <td>49605</td>\n",
       "      <td>25.82</td>\n",
       "      <td>74.18</td>\n",
       "    </tr>\n",
       "    <tr>\n",
       "      <th>1.00</th>\n",
       "      <td>2</td>\n",
       "      <td>1</td>\n",
       "      <td>50.00</td>\n",
       "      <td>50.00</td>\n",
       "    </tr>\n",
       "    <tr>\n",
       "      <th>2.00</th>\n",
       "      <td>1</td>\n",
       "      <td>1</td>\n",
       "      <td>100.00</td>\n",
       "      <td>0.00</td>\n",
       "    </tr>\n",
       "    <tr>\n",
       "      <th>3.00</th>\n",
       "      <td>3</td>\n",
       "      <td>2</td>\n",
       "      <td>66.67</td>\n",
       "      <td>33.33</td>\n",
       "    </tr>\n",
       "    <tr>\n",
       "      <th>4.00</th>\n",
       "      <td>13</td>\n",
       "      <td>12</td>\n",
       "      <td>92.31</td>\n",
       "      <td>7.69</td>\n",
       "    </tr>\n",
       "    <tr>\n",
       "      <th>...</th>\n",
       "      <td>...</td>\n",
       "      <td>...</td>\n",
       "      <td>...</td>\n",
       "      <td>...</td>\n",
       "    </tr>\n",
       "    <tr>\n",
       "      <th>285897.00</th>\n",
       "      <td>2</td>\n",
       "      <td>2</td>\n",
       "      <td>100.00</td>\n",
       "      <td>0.00</td>\n",
       "    </tr>\n",
       "    <tr>\n",
       "      <th>285953.00</th>\n",
       "      <td>1</td>\n",
       "      <td>0</td>\n",
       "      <td>0.00</td>\n",
       "      <td>100.00</td>\n",
       "    </tr>\n",
       "    <tr>\n",
       "      <th>285972.00</th>\n",
       "      <td>2</td>\n",
       "      <td>1</td>\n",
       "      <td>50.00</td>\n",
       "      <td>50.00</td>\n",
       "    </tr>\n",
       "    <tr>\n",
       "      <th>285996.00</th>\n",
       "      <td>1</td>\n",
       "      <td>1</td>\n",
       "      <td>100.00</td>\n",
       "      <td>0.00</td>\n",
       "    </tr>\n",
       "    <tr>\n",
       "      <th>286091.00</th>\n",
       "      <td>6</td>\n",
       "      <td>4</td>\n",
       "      <td>66.67</td>\n",
       "      <td>33.33</td>\n",
       "    </tr>\n",
       "  </tbody>\n",
       "</table>\n",
       "<p>22922 rows × 4 columns</p>\n",
       "</div>"
      ],
      "text/plain": [
       "             count    sum  educated_share  not_educated_share\n",
       "company_id                                                   \n",
       "-1.00       192094  49605           25.82               74.18\n",
       " 1.00            2      1           50.00               50.00\n",
       " 2.00            1      1          100.00                0.00\n",
       " 3.00            3      2           66.67               33.33\n",
       " 4.00           13     12           92.31                7.69\n",
       "...            ...    ...             ...                 ...\n",
       " 285897.00       2      2          100.00                0.00\n",
       " 285953.00       1      0            0.00              100.00\n",
       " 285972.00       2      1           50.00               50.00\n",
       " 285996.00       1      1          100.00                0.00\n",
       " 286091.00       6      4           66.67               33.33\n",
       "\n",
       "[22922 rows x 4 columns]"
      ]
     },
     "metadata": {},
     "output_type": "display_data"
    }
   ],
   "source": [
    "# Сбросим индексы\n",
    "df.reset_index()\n",
    "\n",
    "# Найдем долю работников с образованием и без от общего числа сотрудников \n",
    "df['educated_share'] = df['sum'] / df['count'] * 100\n",
    "df['not_educated_share'] = 100 - ( df['sum'] / df['count'] * 100 )\n",
    "display(df)"
   ]
  },
  {
   "cell_type": "code",
   "execution_count": 44,
   "metadata": {},
   "outputs": [
    {
     "data": {
      "text/plain": [
       "count\n",
       "1         18116\n",
       "2          2709\n",
       "3           921\n",
       "4           450\n",
       "5           237\n",
       "6           138\n",
       "7           100\n",
       "8            59\n",
       "9            46\n",
       "10           25\n",
       "11           30\n",
       "12           16\n",
       "13           17\n",
       "14            8\n",
       "15            3\n",
       "16            4\n",
       "17            5\n",
       "18            3\n",
       "19            3\n",
       "20            3\n",
       "21            2\n",
       "22            2\n",
       "23            3\n",
       "25            2\n",
       "26            1\n",
       "29            2\n",
       "31            1\n",
       "32            1\n",
       "35            1\n",
       "36            1\n",
       "39            1\n",
       "47            1\n",
       "48            1\n",
       "51            1\n",
       "56            2\n",
       "61            1\n",
       "63            1\n",
       "72            1\n",
       "138           1\n",
       "150           1\n",
       "244           1\n",
       "192094        1\n",
       "Name: count, dtype: int64"
      ]
     },
     "execution_count": 44,
     "metadata": {},
     "output_type": "execute_result"
    }
   ],
   "source": [
    "df.groupby('count')['count'].count()"
   ]
  },
  {
   "cell_type": "markdown",
   "metadata": {},
   "source": [
    "Исходя из данных выше решено разделить компании на 4 группы по количеству сотрудников. А именно до 10, до 20, до 50 и до 250 сотрудников"
   ]
  },
  {
   "cell_type": "code",
   "execution_count": 45,
   "metadata": {
    "scrolled": true
   },
   "outputs": [
    {
     "data": {
      "text/html": [
       "<div>\n",
       "<style scoped>\n",
       "    .dataframe tbody tr th:only-of-type {\n",
       "        vertical-align: middle;\n",
       "    }\n",
       "\n",
       "    .dataframe tbody tr th {\n",
       "        vertical-align: top;\n",
       "    }\n",
       "\n",
       "    .dataframe thead th {\n",
       "        text-align: right;\n",
       "    }\n",
       "</style>\n",
       "<table border=\"1\" class=\"dataframe\">\n",
       "  <thead>\n",
       "    <tr style=\"text-align: right;\">\n",
       "      <th></th>\n",
       "      <th>count</th>\n",
       "      <th>sum</th>\n",
       "      <th>educated_share</th>\n",
       "      <th>not_educated_share</th>\n",
       "      <th>company_group</th>\n",
       "    </tr>\n",
       "    <tr>\n",
       "      <th>company_id</th>\n",
       "      <th></th>\n",
       "      <th></th>\n",
       "      <th></th>\n",
       "      <th></th>\n",
       "      <th></th>\n",
       "    </tr>\n",
       "  </thead>\n",
       "  <tbody>\n",
       "    <tr>\n",
       "      <th>16658.00</th>\n",
       "      <td>1</td>\n",
       "      <td>1</td>\n",
       "      <td>100.00</td>\n",
       "      <td>0.00</td>\n",
       "      <td>1 сотрудник</td>\n",
       "    </tr>\n",
       "    <tr>\n",
       "      <th>168032.00</th>\n",
       "      <td>1</td>\n",
       "      <td>1</td>\n",
       "      <td>100.00</td>\n",
       "      <td>0.00</td>\n",
       "      <td>1 сотрудник</td>\n",
       "    </tr>\n",
       "    <tr>\n",
       "      <th>284061.00</th>\n",
       "      <td>1</td>\n",
       "      <td>0</td>\n",
       "      <td>0.00</td>\n",
       "      <td>100.00</td>\n",
       "      <td>1 сотрудник</td>\n",
       "    </tr>\n",
       "    <tr>\n",
       "      <th>63515.00</th>\n",
       "      <td>1</td>\n",
       "      <td>1</td>\n",
       "      <td>100.00</td>\n",
       "      <td>0.00</td>\n",
       "      <td>1 сотрудник</td>\n",
       "    </tr>\n",
       "    <tr>\n",
       "      <th>2605.00</th>\n",
       "      <td>4</td>\n",
       "      <td>4</td>\n",
       "      <td>100.00</td>\n",
       "      <td>0.00</td>\n",
       "      <td>4-6 сотрудников</td>\n",
       "    </tr>\n",
       "    <tr>\n",
       "      <th>144352.00</th>\n",
       "      <td>1</td>\n",
       "      <td>0</td>\n",
       "      <td>0.00</td>\n",
       "      <td>100.00</td>\n",
       "      <td>1 сотрудник</td>\n",
       "    </tr>\n",
       "    <tr>\n",
       "      <th>7628.00</th>\n",
       "      <td>1</td>\n",
       "      <td>1</td>\n",
       "      <td>100.00</td>\n",
       "      <td>0.00</td>\n",
       "      <td>1 сотрудник</td>\n",
       "    </tr>\n",
       "    <tr>\n",
       "      <th>265321.00</th>\n",
       "      <td>1</td>\n",
       "      <td>1</td>\n",
       "      <td>100.00</td>\n",
       "      <td>0.00</td>\n",
       "      <td>1 сотрудник</td>\n",
       "    </tr>\n",
       "    <tr>\n",
       "      <th>81795.00</th>\n",
       "      <td>1</td>\n",
       "      <td>1</td>\n",
       "      <td>100.00</td>\n",
       "      <td>0.00</td>\n",
       "      <td>1 сотрудник</td>\n",
       "    </tr>\n",
       "    <tr>\n",
       "      <th>233690.00</th>\n",
       "      <td>1</td>\n",
       "      <td>0</td>\n",
       "      <td>0.00</td>\n",
       "      <td>100.00</td>\n",
       "      <td>1 сотрудник</td>\n",
       "    </tr>\n",
       "  </tbody>\n",
       "</table>\n",
       "</div>"
      ],
      "text/plain": [
       "            count  sum  educated_share  not_educated_share    company_group\n",
       "company_id                                                                 \n",
       "16658.00        1    1          100.00                0.00      1 сотрудник\n",
       "168032.00       1    1          100.00                0.00      1 сотрудник\n",
       "284061.00       1    0            0.00              100.00      1 сотрудник\n",
       "63515.00        1    1          100.00                0.00      1 сотрудник\n",
       "2605.00         4    4          100.00                0.00  4-6 сотрудников\n",
       "144352.00       1    0            0.00              100.00      1 сотрудник\n",
       "7628.00         1    1          100.00                0.00      1 сотрудник\n",
       "265321.00       1    1          100.00                0.00      1 сотрудник\n",
       "81795.00        1    1          100.00                0.00      1 сотрудник\n",
       "233690.00       1    0            0.00              100.00      1 сотрудник"
      ]
     },
     "metadata": {},
     "output_type": "display_data"
    }
   ],
   "source": [
    "df['company_group'] = pd.cut(df['count'], bins=[0, 1, 2, 3, 6, 10, 250], labels=['1 сотрудник', '2 сотрудника', '3 сотрудника', '4-6 сотрудников', '7-10 сотрудников', 'более 10 сотрудников'])\n",
    "\n",
    "display(df.sample(10))"
   ]
  },
  {
   "cell_type": "markdown",
   "metadata": {},
   "source": []
  },
  {
   "cell_type": "code",
   "execution_count": 46,
   "metadata": {
    "scrolled": false
   },
   "outputs": [
    {
     "data": {
      "text/plain": [
       "company_group\n",
       "1 сотрудник             46.26\n",
       "2 сотрудника            46.60\n",
       "3 сотрудника            48.68\n",
       "4-6 сотрудников         50.20\n",
       "7-10 сотрудников        53.57\n",
       "более 10 сотрудников    42.82\n",
       "Name: not_educated_share, dtype: float64"
      ]
     },
     "metadata": {},
     "output_type": "display_data"
    },
    {
     "data": {
      "image/png": "[encoded data removed]",
      "text/plain": [
       "<Figure size 864x360 with 1 Axes>"
      ]
     },
     "metadata": {
      "needs_background": "light"
     },
     "output_type": "display_data"
    }
   ],
   "source": [
    "df_final = df.groupby('company_group')['not_educated_share'].mean()\n",
    "display(df_final)\n",
    "\n",
    "df_final.plot(kind='bar', \n",
    "              title='Доля сотрудников без образования', \n",
    "              xlabel='Группы компаний по численности сотрудников', \n",
    "              ylabel='% работников без образования', \n",
    "              rot=45, color='maroon',\n",
    "              figsize=(12,5)\n",
    "             );"
   ]
  },
  {
   "cell_type": "markdown",
   "metadata": {},
   "source": [
    "По итогу большого анализа сотрудников с образованием видно следующее: \n",
    "\n",
    "Больше всего людей без образования в стартапах, где около 7-10 человек (53%). Это можно объяснить гибкостью в требованиях (в небольших компаниях часто не обращают внимания на дипломы). \n",
    "\n",
    "Однако в стартапах, где сотрудников еще меньше (до 5-6), процент людей без образования ниже. Возможно, это связано с тем, что при маленьком кадровом составе четко выбираются квалифицированные сотрудники (т.е. когда весь состав это 3-4 человека, важно, чтобы у каждого было образование, чего не скажешь когда в составе около 7-10 человек)\n",
    "\n",
    "В более крупных компаниях (от 10 и более сотрудников), процент людей без образования еще ниже (42%). Это можно объяснить строгими требованиями к сотрудникам (четкая кадровая политика нанимать людей с образованием), а также конкуренцией за квалифицированных сотрудников (т.е. возможность набирать болле професиональных сотрудников, тк крупные компании часто могут предложить условия лучше)"
   ]
  },
  {
   "cell_type": "markdown",
   "metadata": {},
   "source": [
    "### 2.3. Объединять или не объединять — вот в чём вопрос **ОК**\n",
    "\n",
    "Некоторые названия столбцов встречаются в датасетах чаще других. И, например, в результате предварительной проверки датасетов было выяснено, что столбец `company_id` подходит для объединения данных, так как большая часть значений встречается в разных датасетах не один, а несколько раз. Этот столбец может быть использован для объединения данных.\n",
    "\n",
    "* Установите, подходит ли для объединения данных столбец `network_username`, который встречается в нескольких датасетах. Нам необходимо понимать, дублируется ли для разных датасетов информация в столбцах с таким названием, и если да — то насколько часто. **ОК**\n",
    "\n",
    "* Оцените, можно ли использовать столбцы с именем `network_username` для объединения данных. **ОК**"
   ]
  },
  {
   "cell_type": "markdown",
   "metadata": {},
   "source": [
    "Столбец `network_username` встречается в 3 таблицах:\n",
    "+ company_and_rounds\n",
    "+ people\n",
    "+ fund *(однако эта таблица не требуется для выполнения проекта, поэтому в силу нехватки времени пересечения тут проверять не будем)*\n",
    "\n",
    "Несмотря на то, что судя по описанию это вообще разные столбцы, никак не связанные по смыслу, надо все равно проверить их на \"одинаковость\". Для того чтобы понять, можно ли соединять по этому столбцу, нужно разобраться, встречаются ли значения из одной таблицы в другой. Воспользуемся методом intersection()"
   ]
  },
  {
   "cell_type": "code",
   "execution_count": 47,
   "metadata": {
    "scrolled": true
   },
   "outputs": [
    {
     "data": {
      "text/plain": [
       "{nan,\n",
       " 'mygenieinc',\n",
       " 'karpantschof',\n",
       " 'WideVisionTech',\n",
       " 'thawesomeboston',\n",
       " 'bwentertainment',\n",
       " 'arthurmonnet',\n",
       " 'MardenEdwards',\n",
       " 'QueenieDress',\n",
       " 'ashishpatel_com',\n",
       " 'MonthlyMobiles',\n",
       " 'randolf',\n",
       " 'tfmontague',\n",
       " 'exoprise',\n",
       " 'sportroops',\n",
       " 'illumemag',\n",
       " 'avggroup',\n",
       " 'quickcue',\n",
       " 'pinaddon',\n",
       " 'Miproto',\n",
       " 'searchrpm',\n",
       " 'gmrweb123',\n",
       " 'WildMirene',\n",
       " 'Questechie',\n",
       " 'Addictd2Success',\n",
       " 'vozio',\n",
       " 'popnewswire',\n",
       " 'FastSpring',\n",
       " 'jobsbostontech',\n",
       " 'purevpn',\n",
       " 'yourdailytask',\n",
       " 'DeliverySolNW',\n",
       " 'teespygolf',\n",
       " 'MELT_MEDIA',\n",
       " 'swarmiq_tweets',\n",
       " 'emobisoft',\n",
       " 'viralseo',\n",
       " 'plus__now',\n",
       " 'tuitionworldwid',\n",
       " 'personetics',\n",
       " 'antonejohnson',\n",
       " 'grumomedia',\n",
       " 'ceodatemyfamily',\n",
       " 'gr',\n",
       " '36kr',\n",
       " 'LearnOnEnglish',\n",
       " 'AbsoluteVariety',\n",
       " 'bizzduniya',\n",
       " 'bradharrison1',\n",
       " 'amhnews',\n",
       " 'BariatricPal',\n",
       " 'web9x',\n",
       " 'ecoemplois',\n",
       " 'Biz_BT_Intl',\n",
       " 'inspectlet',\n",
       " '4thaspect',\n",
       " 'creativemomentu',\n",
       " 'aimmobil',\n",
       " 'guestblogit',\n",
       " 'textwithdextr',\n",
       " 'manageyourtime',\n",
       " 'mikemoradi',\n",
       " 'TLOTL',\n",
       " 'koshikabio',\n",
       " 'benchbucket',\n",
       " 'FilmShaft',\n",
       " '_topseos_',\n",
       " 'feelgoodwatches',\n",
       " 'eKomi',\n",
       " 'ecapsnet',\n",
       " 'robriggsiii',\n",
       " 'mrs2be',\n",
       " 'systemfarmer_hu',\n",
       " 'brand5',\n",
       " 'kaleonubegendik',\n",
       " 'fearlesscomp',\n",
       " 'ryanstevensnu',\n",
       " 'carlislegroup',\n",
       " 'RailsTeam',\n",
       " 'cellgsmservice',\n",
       " 'followdicon',\n",
       " 'thequotefish',\n",
       " 'conversionsupp',\n",
       " 'mykuyam',\n",
       " 'cityglance',\n",
       " 'edeckers',\n",
       " 'meta_net',\n",
       " 'yours2share',\n",
       " 'd2eu',\n",
       " 'roadforhealth',\n",
       " 'ntractive',\n",
       " 'imenucards',\n",
       " 'SubhakarRao',\n",
       " 'gDiscountCoupon',\n",
       " 'dbeyer123',\n",
       " 'afzee',\n",
       " 'byersbush',\n",
       " 'Sooligan',\n",
       " 'zapevent',\n",
       " 'bpublic',\n",
       " 'ambitionbag',\n",
       " 'mobgold',\n",
       " 'egointer',\n",
       " 'daveevans',\n",
       " '1stpageseouk',\n",
       " 'EmilyJS3',\n",
       " 'TCSCesar',\n",
       " 'milecoreA',\n",
       " 'beamstream',\n",
       " 'colin_wt',\n",
       " 'PartnerOption',\n",
       " 'cirkulr',\n",
       " '100mbpsfiber',\n",
       " 'buildnative',\n",
       " 'youbooksapp',\n",
       " 'TouchPointD',\n",
       " 'distinctt',\n",
       " 'joblifeza',\n",
       " 'CDentistryNYC',\n",
       " 'bahlteam',\n",
       " 'samesurf',\n",
       " 'adMarketplace',\n",
       " 'NewsIt_Editor',\n",
       " 'veterancentral',\n",
       " 'i_inspire',\n",
       " 'amanda_hill',\n",
       " 'planpod',\n",
       " 'Omnifone',\n",
       " 'cheapesto',\n",
       " 'Polecamyorg',\n",
       " 'AccessWest',\n",
       " 'dave_ideate',\n",
       " 'soft_start',\n",
       " 'echosec_corp',\n",
       " 'Crowdfunding_PR',\n",
       " 'ShopTrakket',\n",
       " 'armandmusey',\n",
       " 'myswapsee',\n",
       " 'InnovoApps',\n",
       " 'mobiquant',\n",
       " 'SimuSync',\n",
       " 'Talisflorida',\n",
       " 'pinciti',\n",
       " 'cybronics',\n",
       " 'visioneraab',\n",
       " 'trivetla',\n",
       " 'jeffstieler',\n",
       " 'shinetechdk',\n",
       " 'Paknews_pk',\n",
       " 'selectlimousine',\n",
       " 'poker',\n",
       " 'filedir',\n",
       " 'strubleorthodon',\n",
       " 'keepio',\n",
       " 'GavelisLT',\n",
       " 'margaretthomas',\n",
       " 'design_run',\n",
       " 'PeterMackness',\n",
       " 'vaayaaeducation',\n",
       " 'enovativegroup',\n",
       " 'New_Healthcare',\n",
       " 'danaharris',\n",
       " 'azeemaosaf',\n",
       " 'johndevor',\n",
       " 'contentcircles',\n",
       " 'mitmold',\n",
       " 'HopesCreek',\n",
       " 'Ableton',\n",
       " 'uruut',\n",
       " 'dealdecor',\n",
       " 'labnol',\n",
       " 'corvisacloud',\n",
       " 'gotrexx',\n",
       " 'filmzu',\n",
       " 'Srishtinovative',\n",
       " 'dotcominfoway',\n",
       " 'greenhousegnome',\n",
       " 'doizza',\n",
       " 'clippingdesign',\n",
       " 'Lorenburnett',\n",
       " 'AaliyahLina',\n",
       " 'noodleshare',\n",
       " 'bespokeapp',\n",
       " 'whatfolio',\n",
       " 'natepagel',\n",
       " 'homesacross',\n",
       " 'blissyinc',\n",
       " 'visualsteam',\n",
       " 'socialparody',\n",
       " 'helponclick',\n",
       " 'sprike_ltd',\n",
       " 'crowdzu',\n",
       " 'TactileDesign',\n",
       " 'streamuk',\n",
       " 'chennaimoms',\n",
       " 'wnmlive',\n",
       " 'exploramed',\n",
       " 'intelrev',\n",
       " 'esauve',\n",
       " 'ideaffect',\n",
       " 'WhiteboardBYOB',\n",
       " 'tripdibs',\n",
       " 'comodosslstore',\n",
       " 'Arcadialeads',\n",
       " 'CrowdFundSites',\n",
       " 'firmaffiliate',\n",
       " 'MastersonDS',\n",
       " 'shivaconnect1',\n",
       " 'fabdrol',\n",
       " 'ngocthuygroup',\n",
       " 'five_cool',\n",
       " 'mishaley',\n",
       " 'helloitizen',\n",
       " 'mikeciccolella',\n",
       " 'climbingtrees10',\n",
       " 'edictive',\n",
       " 'mattcutts',\n",
       " 'yreceipts',\n",
       " 'moofe',\n",
       " 'jefftopia',\n",
       " 'cobwebseo',\n",
       " 'neddesmond',\n",
       " 'dearnlawgroup',\n",
       " 'onlinesdl',\n",
       " 'mobilemagzter',\n",
       " 'potenciald',\n",
       " 'ProlifikSEO',\n",
       " 'absolutmind_eu',\n",
       " 'jleebiz',\n",
       " 'codeprooftech',\n",
       " 'BidPal',\n",
       " 'killermobile',\n",
       " 'hungrylocal',\n",
       " 'Frozenbluemuss',\n",
       " 'nicekicks',\n",
       " 'folmusic',\n",
       " 'echavando',\n",
       " 'mortfertel',\n",
       " 'gnitome',\n",
       " 'billdouglass',\n",
       " 'TranquilDental1',\n",
       " 'suwarnasoft',\n",
       " 'tennisguru',\n",
       " 'alexdeve',\n",
       " 'famebook',\n",
       " 'GISXing',\n",
       " 'NoCrm',\n",
       " 'alansolutions',\n",
       " 'grouptalent',\n",
       " 'warrenwoodhouse',\n",
       " 'amkico01',\n",
       " 'seoindia231',\n",
       " 'FierceHound',\n",
       " 'beseenontop',\n",
       " 'Students3k',\n",
       " 'maxOz',\n",
       " '4evervogue',\n",
       " 'vinny_says',\n",
       " 'DailyDerbi',\n",
       " 'azurati1',\n",
       " 'ViralNetworkVN',\n",
       " 'dicepricellc',\n",
       " 'isai_fr',\n",
       " 'ecycler',\n",
       " 'DocMate',\n",
       " 'roheenaa',\n",
       " 'dellonutrition',\n",
       " 'simple_click',\n",
       " 'Quickercity',\n",
       " 'encirca',\n",
       " 'projop',\n",
       " 'youcalc',\n",
       " 'hardikvparikh',\n",
       " 'justeyewear',\n",
       " 'simonsezs',\n",
       " 'barilliance',\n",
       " 'shieldfunding',\n",
       " 't_crawford',\n",
       " 'allprecisehvac',\n",
       " 'cadcrowd',\n",
       " 'SFPropertyForce',\n",
       " 'mikeford',\n",
       " 'jnisby',\n",
       " 'vowch',\n",
       " 'liannefarbes',\n",
       " 'bizbroker23',\n",
       " 'TiinkkApp',\n",
       " 'LuxxLab',\n",
       " 'flysmartfares',\n",
       " 'hadicurtay',\n",
       " 'ItFits_Me',\n",
       " 'SquaredOut',\n",
       " 'GoTekEnergy',\n",
       " 'virams2010',\n",
       " 'plista',\n",
       " 'digitalhotdeal',\n",
       " 'centeros',\n",
       " 'lumiydesign',\n",
       " 'Hadafsoft',\n",
       " 'Numerounoweb',\n",
       " 'Lypsso',\n",
       " 'danieltellez',\n",
       " 'dgillesfr',\n",
       " 'IBDeal',\n",
       " 'cuttle',\n",
       " 'Skirmantas2',\n",
       " 'davekusek',\n",
       " 'warrenwilkinson',\n",
       " 'BodyShopBids',\n",
       " 'ATeam4ADream',\n",
       " 'digitalexperts',\n",
       " 'www_MyShip_it',\n",
       " 'NeevAdmarketing',\n",
       " 'viastudios',\n",
       " 'zarsmedia',\n",
       " 'popappfactory',\n",
       " 'sarahjames486',\n",
       " 'gridspy',\n",
       " 'homecurry',\n",
       " 'delicatezzaUK',\n",
       " 'drafols',\n",
       " 'esioox',\n",
       " 'play2lead',\n",
       " 'etaconsults',\n",
       " 'imediadisha',\n",
       " 'clickbrain',\n",
       " 'specialkids',\n",
       " 'razorfrog',\n",
       " 'ablegrape',\n",
       " 'msksecurity',\n",
       " 'mindjolt',\n",
       " 'ARTtwo50',\n",
       " 'survey_tool',\n",
       " 'addoway',\n",
       " 'upbeatapp',\n",
       " 'zoomcreator',\n",
       " 'startupi',\n",
       " 'boonseo',\n",
       " 'ratemax',\n",
       " 'pamegan',\n",
       " 'sidebuydeals',\n",
       " 'sitercom',\n",
       " 'offersonclick',\n",
       " 'Yellloh',\n",
       " 'Rekaudo',\n",
       " 'AskEachOtherVIP',\n",
       " 'PromiseLocker',\n",
       " 'CoyleAndrew',\n",
       " 'Flow_Studio',\n",
       " 'bouf',\n",
       " 'nathancarnes',\n",
       " 'anuphilips',\n",
       " 'whichhotel4me',\n",
       " 'altitudedesign',\n",
       " 'dygestnews',\n",
       " 'forfone',\n",
       " 'LoveMondaysBr',\n",
       " 'CompartiaSL',\n",
       " 'InThree',\n",
       " 'buuteeq',\n",
       " 'fightmeofficial',\n",
       " 'mpscny',\n",
       " 'bulkemailverify',\n",
       " 'GuerillaW',\n",
       " 'worldfoodtravel',\n",
       " 'InsightsTechne',\n",
       " 'liqueoinc',\n",
       " 'inventorlabs',\n",
       " 'ProfStream',\n",
       " 'Galavantier',\n",
       " 'tamatura1',\n",
       " 'gridgain',\n",
       " 'samurai_ken',\n",
       " 'mktxr',\n",
       " 'roofmasterscorp',\n",
       " 'yourartbay',\n",
       " 'whingeing_pom',\n",
       " 'erudify',\n",
       " 'thezentity',\n",
       " 'mindtrades',\n",
       " 'amirkhella',\n",
       " 'ciloryindia',\n",
       " 'wojodesign',\n",
       " 'EntGRCSolutions',\n",
       " 'creditaid',\n",
       " 'snaplogic',\n",
       " 'fuzemeeting',\n",
       " 'jaythadeshwar',\n",
       " 'get_a_game',\n",
       " 'shannon_mullen',\n",
       " 'kinderloop',\n",
       " 'tampacosmetic',\n",
       " 'EGAFutura',\n",
       " 'thechive',\n",
       " 'elettro',\n",
       " 'FourElementsMed',\n",
       " 'bestinchennai',\n",
       " 'tywanwade',\n",
       " 'seocorporation',\n",
       " 'workplacestars',\n",
       " '4goodbuzz',\n",
       " 'aviewfrommyseat',\n",
       " 'medclimate',\n",
       " 'carpoolworld',\n",
       " 'toddjpatrick',\n",
       " 'mr1elee',\n",
       " 'Thetaris_GmbH',\n",
       " 'ArzuAkcayDesign',\n",
       " 'oddsfutures',\n",
       " 'bob_benedict',\n",
       " 'thebcco',\n",
       " 'oxyzenwebmedia',\n",
       " 'GuiasLocal',\n",
       " 'GodWithMee',\n",
       " 'EmergingThreats',\n",
       " 'VOXopolis',\n",
       " 'Ayero',\n",
       " 'mmhull',\n",
       " 'tradiart',\n",
       " 'accuracast',\n",
       " 'RobertWarnerCGN',\n",
       " 'printwhatuwant',\n",
       " 'KaufmannMerc',\n",
       " 'rajanand',\n",
       " 'TheMusicProduce',\n",
       " 'devicebee',\n",
       " 'jomieleung',\n",
       " 'softactiva',\n",
       " 'webdeveloper619',\n",
       " 'thrivewebboise',\n",
       " 'akmgalerts',\n",
       " 'smithsonmartin',\n",
       " 'careticker',\n",
       " 'bargainbusnews',\n",
       " 'wiki_pr',\n",
       " 'xiconet',\n",
       " 'officevp',\n",
       " 'consultondemand',\n",
       " 'stakeforce',\n",
       " 'laseoservices',\n",
       " 'thereeveslawgro',\n",
       " 'atCollab',\n",
       " 'mayleesboutique',\n",
       " 'masschallenge',\n",
       " 'vocso',\n",
       " 'newsbox',\n",
       " 'cdnsolutions',\n",
       " 'bidegy',\n",
       " 'erwood',\n",
       " 'drquickbooks',\n",
       " '9Dot_Strategies',\n",
       " 'Genecigs',\n",
       " 'unanettech',\n",
       " 'keemotion',\n",
       " 'encoreseo',\n",
       " 'NewsletterEx',\n",
       " 'behnight',\n",
       " 'grahamclarke',\n",
       " 'absolutetoday',\n",
       " 'ClearCopywrite',\n",
       " 'maxmayo',\n",
       " 'sievetech',\n",
       " 'zerozendesign',\n",
       " 'phpkode',\n",
       " 'sumomi_com',\n",
       " 'mediaburst',\n",
       " 'brettfarmiloe',\n",
       " 'yourprivacy',\n",
       " 'blancspotmedia',\n",
       " 'clinkmeltd',\n",
       " 'itmonteur',\n",
       " 'sl8zrecruiting',\n",
       " '4Urugs',\n",
       " 'billgates',\n",
       " 'clippinghq',\n",
       " 'smash_haus',\n",
       " 'excelmanish',\n",
       " 'pgeorgol',\n",
       " 'leomancini',\n",
       " 'avaimobile',\n",
       " '96robots',\n",
       " 'qmedichealth',\n",
       " 'shoutrnet',\n",
       " 'sgbmedia',\n",
       " 'colingilchrist',\n",
       " 'writework_com',\n",
       " 'iovation',\n",
       " 'vdimauro',\n",
       " 'tomposerjll',\n",
       " 'bwprintworks',\n",
       " 'apdtradedotcom',\n",
       " 'factoryextreme',\n",
       " 'doccaster',\n",
       " 'Bizzun',\n",
       " 'hamaraguru',\n",
       " 'BridgesAdv',\n",
       " 'jeffchristian_',\n",
       " 'handiramp',\n",
       " 'royalcrownseo',\n",
       " 'milkshakefactor',\n",
       " 'Coderbyte',\n",
       " 'yougottacall',\n",
       " 'AccountingXing',\n",
       " 'harihansolution',\n",
       " 'mnxconnect',\n",
       " 'PlayToonGames',\n",
       " 'mepdesign',\n",
       " 'JustFabOnline',\n",
       " 'TomChokel',\n",
       " 'aaronwclopton',\n",
       " 'w3trends',\n",
       " 'tampawebdesign',\n",
       " 'RobotAppStore',\n",
       " 'robertwprice',\n",
       " 'googleandblog',\n",
       " 'merkado',\n",
       " 'LeeandPierson',\n",
       " 'simplilearn',\n",
       " 'JMaggioRealtor',\n",
       " 'gcrocker',\n",
       " 'kumoink',\n",
       " 'sparkpluggames',\n",
       " 'teamlabdotcom',\n",
       " 'CouponMajaa',\n",
       " 'beglobal',\n",
       " 'headhuntable',\n",
       " 'undzorg',\n",
       " 'gerridsmith',\n",
       " 'HiTechLPO',\n",
       " 'cbarrabes',\n",
       " 'DIMEpr',\n",
       " 'startup2venture',\n",
       " 'konoozi',\n",
       " 'VacanciesEng',\n",
       " 'extendedresults',\n",
       " 'InfoGrok',\n",
       " 'teamMBH',\n",
       " 'yuriarcurs',\n",
       " 'riaxe',\n",
       " 'roteximitor',\n",
       " 'gigstate',\n",
       " 'HDScores',\n",
       " 'ebkcd2',\n",
       " 'qoiza',\n",
       " 'Brightidea',\n",
       " 'hugoburge',\n",
       " 'stroumboulis',\n",
       " 'kantrovitzlaw',\n",
       " 'Fabulonia',\n",
       " 'space_antiques',\n",
       " 'fizplaces',\n",
       " '41stParameter',\n",
       " 'xTuple',\n",
       " 'WiseSaaS',\n",
       " 'mariodc',\n",
       " 'ManmadeNotebook',\n",
       " 'SE_IP',\n",
       " 'plicpad',\n",
       " 'adelerobots',\n",
       " 'vinko',\n",
       " 'TheCityStreet',\n",
       " 'KEXINO',\n",
       " 'kbsconsultants',\n",
       " 'KILTR',\n",
       " 'NuHabitat',\n",
       " 'gowanderu',\n",
       " 'bwlucas',\n",
       " 'bloonatic',\n",
       " 'NickVellios',\n",
       " 'vcipublisher',\n",
       " 'AYININC',\n",
       " 'thebarcodenews',\n",
       " 'autoebid',\n",
       " 'coinxinc',\n",
       " 'impulsesave',\n",
       " 'yukaichou',\n",
       " 'Vconnecta',\n",
       " 'XCOR',\n",
       " 'butu_zone',\n",
       " 'shesaidbeauty',\n",
       " 'credly',\n",
       " 'decodingthegame',\n",
       " 'chandavid',\n",
       " 'dministry',\n",
       " 'BosleyMedical',\n",
       " 'adwordize',\n",
       " 'gueime_',\n",
       " 'icotalk',\n",
       " 'annacolibri',\n",
       " 'crowdin',\n",
       " 'LM2xEntertain',\n",
       " 'ForceITLLC',\n",
       " 'tarynsullivan',\n",
       " 'Montclairadvrs',\n",
       " 'portablegates',\n",
       " 'gameutilitiesap',\n",
       " 'Club_Digital',\n",
       " 'yellowlinkgo',\n",
       " 'thecmoclub',\n",
       " 'kenyob',\n",
       " 'EconTechSys',\n",
       " 'projecteve1',\n",
       " 'basicgov',\n",
       " 'merlinsoft',\n",
       " 'sibylvision',\n",
       " 'westingourmet',\n",
       " 'appdupe',\n",
       " 'yourgreenpal',\n",
       " 'wattbot',\n",
       " 'seoalien',\n",
       " 'halfpennyonline',\n",
       " 'oemsecrets',\n",
       " 'Thymometrics',\n",
       " 'omarabdodds',\n",
       " 'localseoireland',\n",
       " 'iamwallstreet',\n",
       " 'collegejackets',\n",
       " 'givology',\n",
       " 'sacdesignet',\n",
       " 'michaeldornan',\n",
       " 'rafflecopter',\n",
       " 'Jamesmeorial',\n",
       " 'treelifedesigns',\n",
       " 'gs4media',\n",
       " 'Tap_Track',\n",
       " 'lofts_com',\n",
       " 'co_simple',\n",
       " 'gmailxiaojie',\n",
       " 'evanreas',\n",
       " 'raze_the_world',\n",
       " 'harold_solomon',\n",
       " 'LorenzTwit',\n",
       " 'Aikapa_Advisor',\n",
       " 'sibersonik',\n",
       " 'ClariumIT',\n",
       " 'startupfive',\n",
       " 'Derm_Link',\n",
       " 'GetInMyBand',\n",
       " 'simplyglobo',\n",
       " 'top10',\n",
       " 'exelmart',\n",
       " 'PatLefler',\n",
       " 'champagneme',\n",
       " 'mavenlink',\n",
       " 'automotiveseo',\n",
       " 'Brandroot',\n",
       " 'roshya',\n",
       " 'lsp_prabhu',\n",
       " 'eNewsz',\n",
       " 'intellibank',\n",
       " 'skillsfinder',\n",
       " 'wordsteps_en',\n",
       " 'gsound_app',\n",
       " 'portalix',\n",
       " 'brickandmaker',\n",
       " 'abovethefraymag',\n",
       " 'girlsmoveout',\n",
       " 'mycodetree',\n",
       " 'angelamack23',\n",
       " 'cordeliameacher',\n",
       " 'pdesignlab',\n",
       " 'smartonlinepros',\n",
       " 'ohicloud',\n",
       " 'artemis_seo',\n",
       " 'operationoffers',\n",
       " 'TurnerDetroit',\n",
       " 'sslrenewals',\n",
       " 'VinoEnology',\n",
       " 'jongkind_jtc',\n",
       " 'designosoft',\n",
       " 'toolswatch',\n",
       " 'tugo_co_uk',\n",
       " 'Entalysis',\n",
       " 'otssolutions',\n",
       " 'foodmarketing',\n",
       " 'premieravdallas',\n",
       " 'hiptraveler',\n",
       " 'timkoelzer',\n",
       " 'crocpond',\n",
       " 'jumpropers',\n",
       " 'sunforged',\n",
       " 'textloansinfo',\n",
       " 'orgyourpeople',\n",
       " 'goodcore',\n",
       " 'ACTIVENOW1',\n",
       " 'funandmobile',\n",
       " 'icemonkeycom',\n",
       " 'IMRadioOnline',\n",
       " 'roverpet1',\n",
       " 'nydottv',\n",
       " 'nurepinc',\n",
       " 'signavio',\n",
       " 'springshot_com',\n",
       " 'accountantworld',\n",
       " 'morcesinc',\n",
       " '4koegler',\n",
       " 'IntroMaps',\n",
       " 'onlymallorca',\n",
       " 'byennen',\n",
       " 'andacergun',\n",
       " 'ali_presseract',\n",
       " 'firmlyplanted',\n",
       " 'groceryalerts',\n",
       " 'ArthurGuy',\n",
       " 'OatesPartners',\n",
       " 'clickssl',\n",
       " 'pixelgenio',\n",
       " 'InfraUpgrade',\n",
       " 'biart',\n",
       " 'gal_away',\n",
       " 'MerleDress',\n",
       " 'GigsTask',\n",
       " 'nickbeske',\n",
       " 'jimmyrim',\n",
       " 'FourSalesLtd',\n",
       " 'mvpmarketing',\n",
       " 'allofcraigslist',\n",
       " 'bunker_studios',\n",
       " 'hackingtag',\n",
       " 'lmgpr',\n",
       " 'hoonio',\n",
       " 'orangecollar',\n",
       " 'Layerfield',\n",
       " 'jasonkintzler',\n",
       " 'PJSweeney',\n",
       " 'johnlmaldonado',\n",
       " 'hmiah1',\n",
       " 'visionhelpdesk',\n",
       " 'exosite',\n",
       " 'mlangschied',\n",
       " 'onetest_hr',\n",
       " 'adliptweet',\n",
       " 'almostfamouscom',\n",
       " 'AptiGenius',\n",
       " 'oogababy',\n",
       " 'jasoncitron',\n",
       " 'listaustralia',\n",
       " 'on_page',\n",
       " 'eventyard',\n",
       " 'lioninside',\n",
       " 'rxprint',\n",
       " 'adam0shaw',\n",
       " '_readfy',\n",
       " 'seetheprogress',\n",
       " 'chinese',\n",
       " 'psquaredla',\n",
       " 'spsoftglobal',\n",
       " 'healthimghub',\n",
       " 'nextdoormedia',\n",
       " 'India_SEO',\n",
       " 'vbosystems',\n",
       " 'tentoglou',\n",
       " 'salestour',\n",
       " 'jm_pouabou',\n",
       " 'perfectfor2',\n",
       " 'JesseEps',\n",
       " 'obiesoftware',\n",
       " 'appatyze',\n",
       " 'JMikeSmith',\n",
       " 'adamwillhoeft',\n",
       " 'gbraad',\n",
       " 'qwikienglish',\n",
       " '9lessons',\n",
       " 'nishantsoni123',\n",
       " 'P2Pspot',\n",
       " 'KooDooZ',\n",
       " 'lgarulli',\n",
       " 'hunome',\n",
       " 'icdsarch',\n",
       " 'tektrak',\n",
       " 'bcmoney',\n",
       " 'thecandeoagency',\n",
       " 'MSPassport',\n",
       " 'wealthsprout',\n",
       " 'kisi',\n",
       " 'dv8media',\n",
       " 'mocospace',\n",
       " 'designingstudio',\n",
       " 'youronlineft',\n",
       " 'seandavidson',\n",
       " 'empeopled',\n",
       " 'hotelicopter',\n",
       " 'toutsocial',\n",
       " 'cofounderslab',\n",
       " 'soramaki',\n",
       " 'goskateschool',\n",
       " 'Featureworld',\n",
       " 'nicelogo',\n",
       " 'modeflowers',\n",
       " 'exceedion',\n",
       " 'gettsharing',\n",
       " 'ihelplounge',\n",
       " 'scvlemonlaw',\n",
       " 'aalphaindia',\n",
       " 'stevenPiPsports',\n",
       " 'adlibsoftware',\n",
       " 'opitect',\n",
       " 'KumoConsulting',\n",
       " 'Web_Matrix',\n",
       " 'EvasDate',\n",
       " 'playbackrewards',\n",
       " 'libberati',\n",
       " 'KarlSastrugi',\n",
       " 'beacab',\n",
       " 'CreaBiomart',\n",
       " 'squadronlondon',\n",
       " 'Glydewrite',\n",
       " 'appsolutesarl',\n",
       " 'razhair',\n",
       " 'optiinfo',\n",
       " 'mysurveylab',\n",
       " 'travelhead',\n",
       " 'rahulch15',\n",
       " 'coryisaacson',\n",
       " 'ncameron',\n",
       " 'urnetwork',\n",
       " 'globolstaff',\n",
       " 'tyrabanks',\n",
       " 'HometownInsPart',\n",
       " 'SilkFred',\n",
       " 'shiftinsurance',\n",
       " 'FITRadio',\n",
       " 'Weblib',\n",
       " 'remotestylist',\n",
       " 'JeweloveIndia',\n",
       " 'xhtml',\n",
       " 'myownitguy',\n",
       " 'sawyertraining',\n",
       " 'bodykitsdepot',\n",
       " 'tecmoz',\n",
       " 'StrikeInternet',\n",
       " 'expressor',\n",
       " 'vikrantkjain',\n",
       " 'enswitch',\n",
       " 'tmmdata',\n",
       " 'sleep',\n",
       " 'Mytravelo',\n",
       " 'Chapmanleonard',\n",
       " 'Vye_Music',\n",
       " 'LehighADC',\n",
       " 'BinaryBonuses',\n",
       " 'bashfoo',\n",
       " 'LibiBITech',\n",
       " 'makewebvideo',\n",
       " 'PeekedInterest',\n",
       " 'BizVizWiz',\n",
       " 'skorpyoclub',\n",
       " 'ProjectMtn',\n",
       " 'younationwide',\n",
       " 'SageDesignGroup',\n",
       " 'priceride',\n",
       " 'melihozcanli',\n",
       " '360up',\n",
       " 'transcriptwave',\n",
       " 'rhobi1',\n",
       " 'blackwood_vc',\n",
       " 'pivotalcomputer',\n",
       " 'albertonaranjo',\n",
       " 'UnimastersCom',\n",
       " 'tifflyindia',\n",
       " 'gerardcorbett',\n",
       " 'bbetts',\n",
       " 'comufy',\n",
       " 'ctshplc',\n",
       " 'Picocent',\n",
       " 'RobMarchant',\n",
       " 'triangledirect',\n",
       " '_huion_',\n",
       " 'Ideashower',\n",
       " 'Weplann',\n",
       " 'LamassuBTC',\n",
       " 'nxfxcom',\n",
       " '65zfere',\n",
       " 'daringsharpe',\n",
       " 'treptalks',\n",
       " 'tapmap',\n",
       " 'discoveryxa',\n",
       " 'hivehealthmedia',\n",
       " 'EcommerceJobs',\n",
       " 'gatim',\n",
       " 'meingutscheinco',\n",
       " 'duckmoose',\n",
       " 'thewebtaylor',\n",
       " 'mobilityvalley',\n",
       " 'rno',\n",
       " 'mtrdesign',\n",
       " 'real_tony',\n",
       " 'graticle',\n",
       " 'keyideas01',\n",
       " 'datawebflex',\n",
       " 'urbansleepstore',\n",
       " 'plotterapp',\n",
       " '077football',\n",
       " 'schawel',\n",
       " 'geniot',\n",
       " 'doseofstyle_com',\n",
       " 'tomhoganlaw',\n",
       " 'superglued',\n",
       " 'werpetalpushers',\n",
       " 'airfy',\n",
       " 'meltdsp',\n",
       " 'NoochMoney',\n",
       " 'lynxworkflow',\n",
       " 'givenext',\n",
       " 'tnabielec',\n",
       " 'bosstechnology',\n",
       " 'seamskarmic',\n",
       " 'bigbluehat',\n",
       " 'rfidglobal',\n",
       " 'Sociallybuzz',\n",
       " 'gliffy',\n",
       " 'ploonge',\n",
       " 'boalt',\n",
       " '99Composers',\n",
       " 'hostedd',\n",
       " 'earliz',\n",
       " 'netagidotcom',\n",
       " 'mybestbuds',\n",
       " 'dressshirtsnyc',\n",
       " 'decksharks_rec',\n",
       " 'marketingguyatl',\n",
       " 'eWinWin',\n",
       " 'AntonRock',\n",
       " 'webhostuk',\n",
       " 'c3metrics',\n",
       " 'mcichon',\n",
       " 'leloca',\n",
       " 'megastarmedia',\n",
       " 'nothingGrinder',\n",
       " 'umma_united',\n",
       " 'rfilippini',\n",
       " 'fuelmileagenow',\n",
       " 'compstak',\n",
       " 'finger_food',\n",
       " 'guide2tricksceo',\n",
       " 'spellspace',\n",
       " 'jaxcore',\n",
       " 'mastertipper007',\n",
       " 'RoadtoValue',\n",
       " 'SalonBookr',\n",
       " 'ReferralMD',\n",
       " 'MadeLoud',\n",
       " 'vebnest',\n",
       " 'teamitt',\n",
       " 'socialanimalusa',\n",
       " 'forexpromos',\n",
       " 'zisboombah',\n",
       " 'lenstrade',\n",
       " 'gr_brains',\n",
       " 'agrublev',\n",
       " 'NitinPradhanCIO',\n",
       " 'samirkarande',\n",
       " 'ethicalbrand',\n",
       " 'seomasteruk',\n",
       " 'Xola',\n",
       " 'TEMAeurope',\n",
       " 'mayonstudios',\n",
       " 'JaredMontz',\n",
       " 'movingpres',\n",
       " 'keychainsocial',\n",
       " 'grippo',\n",
       " 'doughtrading',\n",
       " 'ThreeSistersMkt',\n",
       " 'intelen',\n",
       " 'feefighters',\n",
       " 'gutensite',\n",
       " 'ediggs',\n",
       " 'agilesoup',\n",
       " 'SeriousGamesInt',\n",
       " 'DHTransplant',\n",
       " 'JLWatine',\n",
       " 'three60market',\n",
       " 'CarCareKiosk',\n",
       " 'victusfate',\n",
       " 'worldwidesupply',\n",
       " 'liamdayan',\n",
       " 'yeloworld',\n",
       " 'webbmedia',\n",
       " 'diaetme',\n",
       " 'prisynccom',\n",
       " 'b3intelligence',\n",
       " 'IntegrityFirstM',\n",
       " 'MobiDev_',\n",
       " 'freshtilledsoil',\n",
       " 'MisterArcher',\n",
       " 'hey_kiki',\n",
       " 'techeomania',\n",
       " 'egeorgiou',\n",
       " 'viteb',\n",
       " 'DemeterPower',\n",
       " 'EngineersJobs',\n",
       " 'icoupononline',\n",
       " 'EarlyTracks',\n",
       " 'fitdeck',\n",
       " 'gregmasley',\n",
       " 'roadtrafficsign',\n",
       " 'EOCloud',\n",
       " 'kisshunterSrl',\n",
       " 'nddwseo',\n",
       " 'SeatNinja',\n",
       " ...}"
      ]
     },
     "metadata": {},
     "output_type": "display_data"
    }
   ],
   "source": [
    "# Проверим пересечения в таблице company_and_rounds и people по столбцу network_username\n",
    "set1 = set(company_and_rounds['network_username'])\n",
    "set2 = set(people['network_username'])\n",
    "\n",
    "set_final = set1.intersection(set2)\n",
    "display(set_final)"
   ]
  },
  {
   "cell_type": "code",
   "execution_count": 48,
   "metadata": {},
   "outputs": [
    {
     "data": {
      "text/plain": [
       "2200"
      ]
     },
     "execution_count": 48,
     "metadata": {},
     "output_type": "execute_result"
    }
   ],
   "source": [
    "# Найдем количество элементов в списке\n",
    "len(set_final)"
   ]
  },
  {
   "cell_type": "markdown",
   "metadata": {},
   "source": [
    "Итого у нас получается, что в двух таблицах (`company_and_rounds` и `people`) всего 2200 повторяющихся элементов. Это очень маленькое количество значений для соединения датасетов (всего лишь 0.009% от количества строк датасетов). Если объединять таблицы по этому столбцу, то у нас появится еще больше пропусков (в случае с outer join) или же урежется большая доля данных (в случае с inner join). Ни тот, ни другой случай не поможет нам в анализе, а наоборот - испортит данные.\n",
    "\n",
    "Оценка возможности соединения датасетов по `network_username` проведена - данные соединять по столбцу не нужно."
   ]
  },
  {
   "cell_type": "markdown",
   "metadata": {
    "id": "EHcODomVrJg1"
   },
   "source": [
    "\n",
    "### 2.4. Проблемный датасет и причина возникновения пропусков\n",
    "\n",
    "Во время собственного анализа данных у заказчика больше всего вопросов возникло к датасету `company_and_rounds.csv`. В нём много пропусков как раз в информации о раундах, которая заказчику важна. Хотя информация об общем объёме финансирования по раундам присутствует в других датасетах, заказчик считает данные `company_and_rounds.csv` о размере средств наиболее верными.\n",
    "\n",
    "* Любым удобным способом приведите данные в вид, который позволяет проводить анализ в разрезе отдельных компаний. Можно изменять форму данных, порядок их хранения. Обратите внимание на структуру датасета, порядок и названия столбцов, проанализируйте значения.\n",
    "\n",
    "По гипотезе заказчика данные по компаниям из этой таблицы раньше хранились иначе, более удобным для исследования образом.\n",
    "\n",
    "* Максимальным образом сохраняя данные, сохранив их связность и исключив возможные возникающие при этом ошибки, подготовьте данные так, чтобы удобно было отобрать компании по параметрам и рассчитать показатели из расчёта на одну компанию."
   ]
  },
  {
   "cell_type": "markdown",
   "metadata": {
    "id": "SFfUmzron0Tc"
   },
   "source": [
    "Проанализируем датасет company_and_rounds подробнее"
   ]
  },
  {
   "cell_type": "code",
   "execution_count": 49,
   "metadata": {},
   "outputs": [
    {
     "name": "stdout",
     "output_type": "stream",
     "text": [
      "<class 'pandas.core.frame.DataFrame'>\n",
      "RangeIndex: 217774 entries, 0 to 217773\n",
      "Data columns (total 23 columns):\n",
      " #   Column               Non-Null Count   Dtype         \n",
      "---  ------               --------------   -----         \n",
      " 0   company_ID           217472 non-null  float64       \n",
      " 1   name                 217472 non-null  object        \n",
      " 2   category_code        143886 non-null  object        \n",
      " 3   status               217472 non-null  object        \n",
      " 4   founded_at           109956 non-null  datetime64[ns]\n",
      " 5   closed_at            3449 non-null    datetime64[ns]\n",
      " 6   domain               147159 non-null  object        \n",
      " 7   network_username     95534 non-null   object        \n",
      " 8   country_code         108607 non-null  object        \n",
      " 9   investment_rounds    217472 non-null  float64       \n",
      " 10  funding_rounds       217472 non-null  float64       \n",
      " 11  funding_total        217472 non-null  float64       \n",
      " 12  milestones           217472 non-null  float64       \n",
      " 13  funding_round_id     52928 non-null   float64       \n",
      " 14  company_id           52928 non-null   float64       \n",
      " 15  funded_at            52680 non-null   datetime64[ns]\n",
      " 16  funding_round_type   52928 non-null   object        \n",
      " 17  raised_amount        52928 non-null   float64       \n",
      " 18  pre_money_valuation  52928 non-null   float64       \n",
      " 19  participants         52928 non-null   float64       \n",
      " 20  is_first_round       52928 non-null   float64       \n",
      " 21  is_last_round        52928 non-null   float64       \n",
      " 22  funded_year          52680 non-null   period[A-DEC] \n",
      "dtypes: datetime64[ns](3), float64(12), object(7), period[A-DEC](1)\n",
      "memory usage: 38.2+ MB\n"
     ]
    }
   ],
   "source": [
    "company_and_rounds.info()"
   ]
  },
  {
   "cell_type": "code",
   "execution_count": 50,
   "metadata": {
    "id": "tJ6Sl6MKrJg1",
    "scrolled": true
   },
   "outputs": [
    {
     "data": {
      "text/html": [
       "<div>\n",
       "<style scoped>\n",
       "    .dataframe tbody tr th:only-of-type {\n",
       "        vertical-align: middle;\n",
       "    }\n",
       "\n",
       "    .dataframe tbody tr th {\n",
       "        vertical-align: top;\n",
       "    }\n",
       "\n",
       "    .dataframe thead th {\n",
       "        text-align: right;\n",
       "    }\n",
       "</style>\n",
       "<table border=\"1\" class=\"dataframe\">\n",
       "  <thead>\n",
       "    <tr style=\"text-align: right;\">\n",
       "      <th></th>\n",
       "      <th>company_ID</th>\n",
       "      <th>name</th>\n",
       "      <th>category_code</th>\n",
       "      <th>status</th>\n",
       "      <th>founded_at</th>\n",
       "      <th>closed_at</th>\n",
       "      <th>domain</th>\n",
       "      <th>network_username</th>\n",
       "      <th>country_code</th>\n",
       "      <th>investment_rounds</th>\n",
       "      <th>funding_rounds</th>\n",
       "      <th>funding_total</th>\n",
       "      <th>milestones</th>\n",
       "      <th>funding_round_id</th>\n",
       "      <th>company_id</th>\n",
       "      <th>funded_at</th>\n",
       "      <th>funding_round_type</th>\n",
       "      <th>raised_amount</th>\n",
       "      <th>pre_money_valuation</th>\n",
       "      <th>participants</th>\n",
       "      <th>is_first_round</th>\n",
       "      <th>is_last_round</th>\n",
       "      <th>funded_year</th>\n",
       "    </tr>\n",
       "  </thead>\n",
       "  <tbody>\n",
       "    <tr>\n",
       "      <th>98992</th>\n",
       "      <td>236142.00</td>\n",
       "      <td>UralChem</td>\n",
       "      <td>NaN</td>\n",
       "      <td>operating</td>\n",
       "      <td>NaT</td>\n",
       "      <td>NaT</td>\n",
       "      <td>NaN</td>\n",
       "      <td>NaN</td>\n",
       "      <td>NaN</td>\n",
       "      <td>0.00</td>\n",
       "      <td>0.00</td>\n",
       "      <td>0.00</td>\n",
       "      <td>1.00</td>\n",
       "      <td>NaN</td>\n",
       "      <td>NaN</td>\n",
       "      <td>NaT</td>\n",
       "      <td>NaN</td>\n",
       "      <td>NaN</td>\n",
       "      <td>NaN</td>\n",
       "      <td>NaN</td>\n",
       "      <td>NaN</td>\n",
       "      <td>NaN</td>\n",
       "      <td>NaT</td>\n",
       "    </tr>\n",
       "    <tr>\n",
       "      <th>99616</th>\n",
       "      <td>236707.00</td>\n",
       "      <td>Firmzen</td>\n",
       "      <td>software</td>\n",
       "      <td>operating</td>\n",
       "      <td>2012-08-01</td>\n",
       "      <td>NaT</td>\n",
       "      <td>firmzen.com</td>\n",
       "      <td>firmzen</td>\n",
       "      <td>IND</td>\n",
       "      <td>0.00</td>\n",
       "      <td>0.00</td>\n",
       "      <td>0.00</td>\n",
       "      <td>0.00</td>\n",
       "      <td>NaN</td>\n",
       "      <td>NaN</td>\n",
       "      <td>NaT</td>\n",
       "      <td>NaN</td>\n",
       "      <td>NaN</td>\n",
       "      <td>NaN</td>\n",
       "      <td>NaN</td>\n",
       "      <td>NaN</td>\n",
       "      <td>NaN</td>\n",
       "      <td>NaT</td>\n",
       "    </tr>\n",
       "    <tr>\n",
       "      <th>164675</th>\n",
       "      <td>39354.00</td>\n",
       "      <td>Advanced ICU Care</td>\n",
       "      <td>medical</td>\n",
       "      <td>operating</td>\n",
       "      <td>2004-01-01</td>\n",
       "      <td>NaT</td>\n",
       "      <td>icumedicine.com</td>\n",
       "      <td>NaN</td>\n",
       "      <td>USA</td>\n",
       "      <td>0.00</td>\n",
       "      <td>2.00</td>\n",
       "      <td>10000000.00</td>\n",
       "      <td>1.00</td>\n",
       "      <td>11001.00</td>\n",
       "      <td>39354.00</td>\n",
       "      <td>2010-01-06</td>\n",
       "      <td>series-c+</td>\n",
       "      <td>2000000.00</td>\n",
       "      <td>0.00</td>\n",
       "      <td>0.00</td>\n",
       "      <td>0.00</td>\n",
       "      <td>1.00</td>\n",
       "      <td>2010</td>\n",
       "    </tr>\n",
       "    <tr>\n",
       "      <th>114984</th>\n",
       "      <td>250801.00</td>\n",
       "      <td>Kedisoft</td>\n",
       "      <td>games_video</td>\n",
       "      <td>operating</td>\n",
       "      <td>NaT</td>\n",
       "      <td>NaT</td>\n",
       "      <td>kedisoft.com</td>\n",
       "      <td>kedisoft</td>\n",
       "      <td>NaN</td>\n",
       "      <td>0.00</td>\n",
       "      <td>0.00</td>\n",
       "      <td>0.00</td>\n",
       "      <td>0.00</td>\n",
       "      <td>NaN</td>\n",
       "      <td>NaN</td>\n",
       "      <td>NaT</td>\n",
       "      <td>NaN</td>\n",
       "      <td>NaN</td>\n",
       "      <td>NaN</td>\n",
       "      <td>NaN</td>\n",
       "      <td>NaN</td>\n",
       "      <td>NaN</td>\n",
       "      <td>NaT</td>\n",
       "    </tr>\n",
       "    <tr>\n",
       "      <th>94098</th>\n",
       "      <td>231557.00</td>\n",
       "      <td>WedWu</td>\n",
       "      <td>NaN</td>\n",
       "      <td>operating</td>\n",
       "      <td>NaT</td>\n",
       "      <td>NaT</td>\n",
       "      <td>NaN</td>\n",
       "      <td>NaN</td>\n",
       "      <td>NaN</td>\n",
       "      <td>0.00</td>\n",
       "      <td>0.00</td>\n",
       "      <td>0.00</td>\n",
       "      <td>1.00</td>\n",
       "      <td>NaN</td>\n",
       "      <td>NaN</td>\n",
       "      <td>NaT</td>\n",
       "      <td>NaN</td>\n",
       "      <td>NaN</td>\n",
       "      <td>NaN</td>\n",
       "      <td>NaN</td>\n",
       "      <td>NaN</td>\n",
       "      <td>NaN</td>\n",
       "      <td>NaT</td>\n",
       "    </tr>\n",
       "    <tr>\n",
       "      <th>63756</th>\n",
       "      <td>200471.00</td>\n",
       "      <td>Cosmetic Surgery Institute</td>\n",
       "      <td>other</td>\n",
       "      <td>operating</td>\n",
       "      <td>NaT</td>\n",
       "      <td>NaT</td>\n",
       "      <td>cosmeticplasticsurgery.in</td>\n",
       "      <td>NaN</td>\n",
       "      <td>NaN</td>\n",
       "      <td>0.00</td>\n",
       "      <td>0.00</td>\n",
       "      <td>0.00</td>\n",
       "      <td>0.00</td>\n",
       "      <td>NaN</td>\n",
       "      <td>NaN</td>\n",
       "      <td>NaT</td>\n",
       "      <td>NaN</td>\n",
       "      <td>NaN</td>\n",
       "      <td>NaN</td>\n",
       "      <td>NaN</td>\n",
       "      <td>NaN</td>\n",
       "      <td>NaN</td>\n",
       "      <td>NaT</td>\n",
       "    </tr>\n",
       "    <tr>\n",
       "      <th>30189</th>\n",
       "      <td>166026.00</td>\n",
       "      <td>Backlight.org</td>\n",
       "      <td>NaN</td>\n",
       "      <td>operating</td>\n",
       "      <td>NaT</td>\n",
       "      <td>NaT</td>\n",
       "      <td>NaN</td>\n",
       "      <td>NaN</td>\n",
       "      <td>NaN</td>\n",
       "      <td>0.00</td>\n",
       "      <td>0.00</td>\n",
       "      <td>0.00</td>\n",
       "      <td>1.00</td>\n",
       "      <td>NaN</td>\n",
       "      <td>NaN</td>\n",
       "      <td>NaT</td>\n",
       "      <td>NaN</td>\n",
       "      <td>NaN</td>\n",
       "      <td>NaN</td>\n",
       "      <td>NaN</td>\n",
       "      <td>NaN</td>\n",
       "      <td>NaN</td>\n",
       "      <td>NaT</td>\n",
       "    </tr>\n",
       "    <tr>\n",
       "      <th>123760</th>\n",
       "      <td>258644.00</td>\n",
       "      <td>Digitilus</td>\n",
       "      <td>games_video</td>\n",
       "      <td>operating</td>\n",
       "      <td>2011-06-29</td>\n",
       "      <td>NaT</td>\n",
       "      <td>digitilus.com</td>\n",
       "      <td>AlSkyjacker</td>\n",
       "      <td>NaN</td>\n",
       "      <td>0.00</td>\n",
       "      <td>0.00</td>\n",
       "      <td>0.00</td>\n",
       "      <td>0.00</td>\n",
       "      <td>NaN</td>\n",
       "      <td>NaN</td>\n",
       "      <td>NaT</td>\n",
       "      <td>NaN</td>\n",
       "      <td>NaN</td>\n",
       "      <td>NaN</td>\n",
       "      <td>NaN</td>\n",
       "      <td>NaN</td>\n",
       "      <td>NaN</td>\n",
       "      <td>NaT</td>\n",
       "    </tr>\n",
       "    <tr>\n",
       "      <th>212309</th>\n",
       "      <td>83209.00</td>\n",
       "      <td>Fanzy</td>\n",
       "      <td>enterprise</td>\n",
       "      <td>operating</td>\n",
       "      <td>2011-02-01</td>\n",
       "      <td>NaT</td>\n",
       "      <td>fanzy.com</td>\n",
       "      <td>fanzy</td>\n",
       "      <td>USA</td>\n",
       "      <td>0.00</td>\n",
       "      <td>4.00</td>\n",
       "      <td>1500000.00</td>\n",
       "      <td>2.00</td>\n",
       "      <td>32289.00</td>\n",
       "      <td>83209.00</td>\n",
       "      <td>2012-09-01</td>\n",
       "      <td>other</td>\n",
       "      <td>130000.00</td>\n",
       "      <td>0.00</td>\n",
       "      <td>0.00</td>\n",
       "      <td>0.00</td>\n",
       "      <td>0.00</td>\n",
       "      <td>2012</td>\n",
       "    </tr>\n",
       "    <tr>\n",
       "      <th>151062</th>\n",
       "      <td>284674.00</td>\n",
       "      <td>NorsePayments</td>\n",
       "      <td>NaN</td>\n",
       "      <td>operating</td>\n",
       "      <td>NaT</td>\n",
       "      <td>NaT</td>\n",
       "      <td>NaN</td>\n",
       "      <td>NaN</td>\n",
       "      <td>NaN</td>\n",
       "      <td>0.00</td>\n",
       "      <td>0.00</td>\n",
       "      <td>0.00</td>\n",
       "      <td>1.00</td>\n",
       "      <td>NaN</td>\n",
       "      <td>NaN</td>\n",
       "      <td>NaT</td>\n",
       "      <td>NaN</td>\n",
       "      <td>NaN</td>\n",
       "      <td>NaN</td>\n",
       "      <td>NaN</td>\n",
       "      <td>NaN</td>\n",
       "      <td>NaN</td>\n",
       "      <td>NaT</td>\n",
       "    </tr>\n",
       "  </tbody>\n",
       "</table>\n",
       "</div>"
      ],
      "text/plain": [
       "        company_ID                        name category_code     status  \\\n",
       "98992    236142.00                    UralChem           NaN  operating   \n",
       "99616    236707.00                     Firmzen      software  operating   \n",
       "164675    39354.00           Advanced ICU Care       medical  operating   \n",
       "114984   250801.00                    Kedisoft   games_video  operating   \n",
       "94098    231557.00                       WedWu           NaN  operating   \n",
       "63756    200471.00  Cosmetic Surgery Institute         other  operating   \n",
       "30189    166026.00               Backlight.org           NaN  operating   \n",
       "123760   258644.00                   Digitilus   games_video  operating   \n",
       "212309    83209.00                       Fanzy    enterprise  operating   \n",
       "151062   284674.00               NorsePayments           NaN  operating   \n",
       "\n",
       "       founded_at closed_at                     domain network_username  \\\n",
       "98992         NaT       NaT                        NaN              NaN   \n",
       "99616  2012-08-01       NaT                firmzen.com          firmzen   \n",
       "164675 2004-01-01       NaT            icumedicine.com              NaN   \n",
       "114984        NaT       NaT               kedisoft.com         kedisoft   \n",
       "94098         NaT       NaT                        NaN              NaN   \n",
       "63756         NaT       NaT  cosmeticplasticsurgery.in              NaN   \n",
       "30189         NaT       NaT                        NaN              NaN   \n",
       "123760 2011-06-29       NaT              digitilus.com      AlSkyjacker   \n",
       "212309 2011-02-01       NaT                  fanzy.com            fanzy   \n",
       "151062        NaT       NaT                        NaN              NaN   \n",
       "\n",
       "       country_code  investment_rounds  funding_rounds  funding_total  \\\n",
       "98992           NaN               0.00            0.00           0.00   \n",
       "99616           IND               0.00            0.00           0.00   \n",
       "164675          USA               0.00            2.00    10000000.00   \n",
       "114984          NaN               0.00            0.00           0.00   \n",
       "94098           NaN               0.00            0.00           0.00   \n",
       "63756           NaN               0.00            0.00           0.00   \n",
       "30189           NaN               0.00            0.00           0.00   \n",
       "123760          NaN               0.00            0.00           0.00   \n",
       "212309          USA               0.00            4.00     1500000.00   \n",
       "151062          NaN               0.00            0.00           0.00   \n",
       "\n",
       "        milestones  funding_round_id  company_id  funded_at  \\\n",
       "98992         1.00               NaN         NaN        NaT   \n",
       "99616         0.00               NaN         NaN        NaT   \n",
       "164675        1.00          11001.00    39354.00 2010-01-06   \n",
       "114984        0.00               NaN         NaN        NaT   \n",
       "94098         1.00               NaN         NaN        NaT   \n",
       "63756         0.00               NaN         NaN        NaT   \n",
       "30189         1.00               NaN         NaN        NaT   \n",
       "123760        0.00               NaN         NaN        NaT   \n",
       "212309        2.00          32289.00    83209.00 2012-09-01   \n",
       "151062        1.00               NaN         NaN        NaT   \n",
       "\n",
       "       funding_round_type  raised_amount  pre_money_valuation  participants  \\\n",
       "98992                 NaN            NaN                  NaN           NaN   \n",
       "99616                 NaN            NaN                  NaN           NaN   \n",
       "164675          series-c+     2000000.00                 0.00          0.00   \n",
       "114984                NaN            NaN                  NaN           NaN   \n",
       "94098                 NaN            NaN                  NaN           NaN   \n",
       "63756                 NaN            NaN                  NaN           NaN   \n",
       "30189                 NaN            NaN                  NaN           NaN   \n",
       "123760                NaN            NaN                  NaN           NaN   \n",
       "212309              other      130000.00                 0.00          0.00   \n",
       "151062                NaN            NaN                  NaN           NaN   \n",
       "\n",
       "        is_first_round  is_last_round funded_year  \n",
       "98992              NaN            NaN         NaT  \n",
       "99616              NaN            NaN         NaT  \n",
       "164675            0.00           1.00        2010  \n",
       "114984             NaN            NaN         NaT  \n",
       "94098              NaN            NaN         NaT  \n",
       "63756              NaN            NaN         NaT  \n",
       "30189              NaN            NaN         NaT  \n",
       "123760             NaN            NaN         NaT  \n",
       "212309            0.00           0.00        2012  \n",
       "151062             NaN            NaN         NaT  "
      ]
     },
     "execution_count": 50,
     "metadata": {},
     "output_type": "execute_result"
    }
   ],
   "source": [
    "company_and_rounds.sample(10)"
   ]
  },
  {
   "cell_type": "markdown",
   "metadata": {},
   "source": [
    "Итак, что мы имеем:\n",
    "+ дублирующиеся столбцы, но написанные по-разному (id компании и суммы финансирования)\n",
    "+ одинаково большое количество пропусков, которые начинаются со столбца `funding_round_id` включительно\n",
    "+ слова заказчика о том, что данные раньше хранились иначе\n",
    "\n",
    "Из всего вышеперечисленного можно сделать вывод, что это две разные смердженные таблицы, которые объединили с помощью outer джоина, вследсвтие чего получили огромное количество пропусков. Это можно исправить, разделив исходник на 2 таблицы - `company_df` (здесь инфо о компаниях, числе раундов и сумме финансирования) и `rounds_df` (здесь более детализированная информация про раунды)"
   ]
  },
  {
   "cell_type": "code",
   "execution_count": 51,
   "metadata": {},
   "outputs": [
    {
     "data": {
      "text/plain": [
       "Index(['company_ID', 'name', 'category_code', 'status', 'founded_at',\n",
       "       'closed_at', 'domain', 'network_username', 'country_code',\n",
       "       'investment_rounds', 'funding_rounds', 'funding_total', 'milestones',\n",
       "       'funding_round_id', 'company_id', 'funded_at', 'funding_round_type',\n",
       "       'raised_amount', 'pre_money_valuation', 'participants',\n",
       "       'is_first_round', 'is_last_round', 'funded_year'],\n",
       "      dtype='object')"
      ]
     },
     "metadata": {},
     "output_type": "display_data"
    }
   ],
   "source": [
    "# Выведем все столбцы исходного датасета и отберем нужные для разделения\n",
    "display(company_and_rounds.columns)"
   ]
  },
  {
   "cell_type": "code",
   "execution_count": 52,
   "metadata": {},
   "outputs": [
    {
     "name": "stdout",
     "output_type": "stream",
     "text": [
      "<class 'pandas.core.frame.DataFrame'>\n",
      "RangeIndex: 217774 entries, 0 to 217773\n",
      "Data columns (total 13 columns):\n",
      " #   Column             Non-Null Count   Dtype         \n",
      "---  ------             --------------   -----         \n",
      " 0   company_ID         217472 non-null  float64       \n",
      " 1   name               217472 non-null  object        \n",
      " 2   category_code      143886 non-null  object        \n",
      " 3   status             217472 non-null  object        \n",
      " 4   founded_at         109956 non-null  datetime64[ns]\n",
      " 5   closed_at          3449 non-null    datetime64[ns]\n",
      " 6   domain             147159 non-null  object        \n",
      " 7   network_username   95534 non-null   object        \n",
      " 8   country_code       108607 non-null  object        \n",
      " 9   investment_rounds  217472 non-null  float64       \n",
      " 10  funding_rounds     217472 non-null  float64       \n",
      " 11  funding_total      217472 non-null  float64       \n",
      " 12  milestones         217472 non-null  float64       \n",
      "dtypes: datetime64[ns](2), float64(5), object(6)\n",
      "memory usage: 21.6+ MB\n"
     ]
    },
    {
     "data": {
      "text/html": [
       "<div>\n",
       "<style scoped>\n",
       "    .dataframe tbody tr th:only-of-type {\n",
       "        vertical-align: middle;\n",
       "    }\n",
       "\n",
       "    .dataframe tbody tr th {\n",
       "        vertical-align: top;\n",
       "    }\n",
       "\n",
       "    .dataframe thead th {\n",
       "        text-align: right;\n",
       "    }\n",
       "</style>\n",
       "<table border=\"1\" class=\"dataframe\">\n",
       "  <thead>\n",
       "    <tr style=\"text-align: right;\">\n",
       "      <th></th>\n",
       "      <th>company_ID</th>\n",
       "      <th>name</th>\n",
       "      <th>category_code</th>\n",
       "      <th>status</th>\n",
       "      <th>founded_at</th>\n",
       "      <th>closed_at</th>\n",
       "      <th>domain</th>\n",
       "      <th>network_username</th>\n",
       "      <th>country_code</th>\n",
       "      <th>investment_rounds</th>\n",
       "      <th>funding_rounds</th>\n",
       "      <th>funding_total</th>\n",
       "      <th>milestones</th>\n",
       "    </tr>\n",
       "  </thead>\n",
       "  <tbody>\n",
       "    <tr>\n",
       "      <th>0</th>\n",
       "      <td>1.00</td>\n",
       "      <td>Wetpaint</td>\n",
       "      <td>web</td>\n",
       "      <td>operating</td>\n",
       "      <td>2005-10-17</td>\n",
       "      <td>NaT</td>\n",
       "      <td>wetpaint-inc.com</td>\n",
       "      <td>BachelrWetpaint</td>\n",
       "      <td>USA</td>\n",
       "      <td>0.00</td>\n",
       "      <td>3.00</td>\n",
       "      <td>39750000.00</td>\n",
       "      <td>5.00</td>\n",
       "    </tr>\n",
       "    <tr>\n",
       "      <th>1</th>\n",
       "      <td>1.00</td>\n",
       "      <td>Wetpaint</td>\n",
       "      <td>web</td>\n",
       "      <td>operating</td>\n",
       "      <td>2005-10-17</td>\n",
       "      <td>NaT</td>\n",
       "      <td>wetpaint-inc.com</td>\n",
       "      <td>BachelrWetpaint</td>\n",
       "      <td>USA</td>\n",
       "      <td>0.00</td>\n",
       "      <td>3.00</td>\n",
       "      <td>39750000.00</td>\n",
       "      <td>5.00</td>\n",
       "    </tr>\n",
       "    <tr>\n",
       "      <th>2</th>\n",
       "      <td>1.00</td>\n",
       "      <td>Wetpaint</td>\n",
       "      <td>web</td>\n",
       "      <td>operating</td>\n",
       "      <td>2005-10-17</td>\n",
       "      <td>NaT</td>\n",
       "      <td>wetpaint-inc.com</td>\n",
       "      <td>BachelrWetpaint</td>\n",
       "      <td>USA</td>\n",
       "      <td>0.00</td>\n",
       "      <td>3.00</td>\n",
       "      <td>39750000.00</td>\n",
       "      <td>5.00</td>\n",
       "    </tr>\n",
       "    <tr>\n",
       "      <th>3</th>\n",
       "      <td>10.00</td>\n",
       "      <td>Flektor</td>\n",
       "      <td>games_video</td>\n",
       "      <td>acquired</td>\n",
       "      <td>NaT</td>\n",
       "      <td>NaT</td>\n",
       "      <td>flektor.com</td>\n",
       "      <td>NaN</td>\n",
       "      <td>USA</td>\n",
       "      <td>0.00</td>\n",
       "      <td>0.00</td>\n",
       "      <td>0.00</td>\n",
       "      <td>0.00</td>\n",
       "    </tr>\n",
       "    <tr>\n",
       "      <th>4</th>\n",
       "      <td>100.00</td>\n",
       "      <td>There</td>\n",
       "      <td>games_video</td>\n",
       "      <td>acquired</td>\n",
       "      <td>NaT</td>\n",
       "      <td>NaT</td>\n",
       "      <td>there.com</td>\n",
       "      <td>NaN</td>\n",
       "      <td>USA</td>\n",
       "      <td>0.00</td>\n",
       "      <td>0.00</td>\n",
       "      <td>0.00</td>\n",
       "      <td>4.00</td>\n",
       "    </tr>\n",
       "    <tr>\n",
       "      <th>...</th>\n",
       "      <td>...</td>\n",
       "      <td>...</td>\n",
       "      <td>...</td>\n",
       "      <td>...</td>\n",
       "      <td>...</td>\n",
       "      <td>...</td>\n",
       "      <td>...</td>\n",
       "      <td>...</td>\n",
       "      <td>...</td>\n",
       "      <td>...</td>\n",
       "      <td>...</td>\n",
       "      <td>...</td>\n",
       "      <td>...</td>\n",
       "    </tr>\n",
       "    <tr>\n",
       "      <th>217769</th>\n",
       "      <td>NaN</td>\n",
       "      <td>NaN</td>\n",
       "      <td>NaN</td>\n",
       "      <td>NaN</td>\n",
       "      <td>NaT</td>\n",
       "      <td>NaT</td>\n",
       "      <td>NaN</td>\n",
       "      <td>NaN</td>\n",
       "      <td>NaN</td>\n",
       "      <td>NaN</td>\n",
       "      <td>NaN</td>\n",
       "      <td>NaN</td>\n",
       "      <td>NaN</td>\n",
       "    </tr>\n",
       "    <tr>\n",
       "      <th>217770</th>\n",
       "      <td>NaN</td>\n",
       "      <td>NaN</td>\n",
       "      <td>NaN</td>\n",
       "      <td>NaN</td>\n",
       "      <td>NaT</td>\n",
       "      <td>NaT</td>\n",
       "      <td>NaN</td>\n",
       "      <td>NaN</td>\n",
       "      <td>NaN</td>\n",
       "      <td>NaN</td>\n",
       "      <td>NaN</td>\n",
       "      <td>NaN</td>\n",
       "      <td>NaN</td>\n",
       "    </tr>\n",
       "    <tr>\n",
       "      <th>217771</th>\n",
       "      <td>NaN</td>\n",
       "      <td>NaN</td>\n",
       "      <td>NaN</td>\n",
       "      <td>NaN</td>\n",
       "      <td>NaT</td>\n",
       "      <td>NaT</td>\n",
       "      <td>NaN</td>\n",
       "      <td>NaN</td>\n",
       "      <td>NaN</td>\n",
       "      <td>NaN</td>\n",
       "      <td>NaN</td>\n",
       "      <td>NaN</td>\n",
       "      <td>NaN</td>\n",
       "    </tr>\n",
       "    <tr>\n",
       "      <th>217772</th>\n",
       "      <td>NaN</td>\n",
       "      <td>NaN</td>\n",
       "      <td>NaN</td>\n",
       "      <td>NaN</td>\n",
       "      <td>NaT</td>\n",
       "      <td>NaT</td>\n",
       "      <td>NaN</td>\n",
       "      <td>NaN</td>\n",
       "      <td>NaN</td>\n",
       "      <td>NaN</td>\n",
       "      <td>NaN</td>\n",
       "      <td>NaN</td>\n",
       "      <td>NaN</td>\n",
       "    </tr>\n",
       "    <tr>\n",
       "      <th>217773</th>\n",
       "      <td>NaN</td>\n",
       "      <td>NaN</td>\n",
       "      <td>NaN</td>\n",
       "      <td>NaN</td>\n",
       "      <td>NaT</td>\n",
       "      <td>NaT</td>\n",
       "      <td>NaN</td>\n",
       "      <td>NaN</td>\n",
       "      <td>NaN</td>\n",
       "      <td>NaN</td>\n",
       "      <td>NaN</td>\n",
       "      <td>NaN</td>\n",
       "      <td>NaN</td>\n",
       "    </tr>\n",
       "  </tbody>\n",
       "</table>\n",
       "<p>217774 rows × 13 columns</p>\n",
       "</div>"
      ],
      "text/plain": [
       "        company_ID      name category_code     status founded_at closed_at  \\\n",
       "0             1.00  Wetpaint           web  operating 2005-10-17       NaT   \n",
       "1             1.00  Wetpaint           web  operating 2005-10-17       NaT   \n",
       "2             1.00  Wetpaint           web  operating 2005-10-17       NaT   \n",
       "3            10.00   Flektor   games_video   acquired        NaT       NaT   \n",
       "4           100.00     There   games_video   acquired        NaT       NaT   \n",
       "...            ...       ...           ...        ...        ...       ...   \n",
       "217769         NaN       NaN           NaN        NaN        NaT       NaT   \n",
       "217770         NaN       NaN           NaN        NaN        NaT       NaT   \n",
       "217771         NaN       NaN           NaN        NaN        NaT       NaT   \n",
       "217772         NaN       NaN           NaN        NaN        NaT       NaT   \n",
       "217773         NaN       NaN           NaN        NaN        NaT       NaT   \n",
       "\n",
       "                  domain network_username country_code  investment_rounds  \\\n",
       "0       wetpaint-inc.com  BachelrWetpaint          USA               0.00   \n",
       "1       wetpaint-inc.com  BachelrWetpaint          USA               0.00   \n",
       "2       wetpaint-inc.com  BachelrWetpaint          USA               0.00   \n",
       "3            flektor.com              NaN          USA               0.00   \n",
       "4              there.com              NaN          USA               0.00   \n",
       "...                  ...              ...          ...                ...   \n",
       "217769               NaN              NaN          NaN                NaN   \n",
       "217770               NaN              NaN          NaN                NaN   \n",
       "217771               NaN              NaN          NaN                NaN   \n",
       "217772               NaN              NaN          NaN                NaN   \n",
       "217773               NaN              NaN          NaN                NaN   \n",
       "\n",
       "        funding_rounds  funding_total  milestones  \n",
       "0                 3.00    39750000.00        5.00  \n",
       "1                 3.00    39750000.00        5.00  \n",
       "2                 3.00    39750000.00        5.00  \n",
       "3                 0.00           0.00        0.00  \n",
       "4                 0.00           0.00        4.00  \n",
       "...                ...            ...         ...  \n",
       "217769             NaN            NaN         NaN  \n",
       "217770             NaN            NaN         NaN  \n",
       "217771             NaN            NaN         NaN  \n",
       "217772             NaN            NaN         NaN  \n",
       "217773             NaN            NaN         NaN  \n",
       "\n",
       "[217774 rows x 13 columns]"
      ]
     },
     "metadata": {},
     "output_type": "display_data"
    }
   ],
   "source": [
    "col = ['company_ID', 'name', 'category_code', 'status', 'founded_at',\n",
    "       'closed_at', 'domain', 'network_username', 'country_code',\n",
    "       'investment_rounds', 'funding_rounds', 'funding_total', 'milestones']\n",
    "\n",
    "# Создаем первую таблицу company_df\n",
    "company_df = company_and_rounds[col]\n",
    "\n",
    "# Проверка\n",
    "company_df.info()\n",
    "display(company_df)"
   ]
  },
  {
   "cell_type": "code",
   "execution_count": 53,
   "metadata": {},
   "outputs": [
    {
     "data": {
      "text/plain": [
       "21220"
      ]
     },
     "execution_count": 53,
     "metadata": {},
     "output_type": "execute_result"
    }
   ],
   "source": [
    "# Проверим на наличие полных дубликатов\n",
    "company_df.duplicated().sum()"
   ]
  },
  {
   "cell_type": "code",
   "execution_count": 54,
   "metadata": {},
   "outputs": [],
   "source": [
    "# Удалим дубликаты\n",
    "company_df = company_df.drop_duplicates()"
   ]
  },
  {
   "cell_type": "code",
   "execution_count": 55,
   "metadata": {},
   "outputs": [
    {
     "data": {
      "text/html": [
       "<div>\n",
       "<style scoped>\n",
       "    .dataframe tbody tr th:only-of-type {\n",
       "        vertical-align: middle;\n",
       "    }\n",
       "\n",
       "    .dataframe tbody tr th {\n",
       "        vertical-align: top;\n",
       "    }\n",
       "\n",
       "    .dataframe thead th {\n",
       "        text-align: right;\n",
       "    }\n",
       "</style>\n",
       "<table border=\"1\" class=\"dataframe\">\n",
       "  <thead>\n",
       "    <tr style=\"text-align: right;\">\n",
       "      <th></th>\n",
       "      <th>company_ID</th>\n",
       "      <th>name</th>\n",
       "      <th>category_code</th>\n",
       "      <th>status</th>\n",
       "      <th>founded_at</th>\n",
       "      <th>closed_at</th>\n",
       "      <th>domain</th>\n",
       "      <th>network_username</th>\n",
       "      <th>country_code</th>\n",
       "      <th>investment_rounds</th>\n",
       "      <th>funding_rounds</th>\n",
       "      <th>funding_total</th>\n",
       "      <th>milestones</th>\n",
       "    </tr>\n",
       "  </thead>\n",
       "  <tbody>\n",
       "    <tr>\n",
       "      <th>0</th>\n",
       "      <td>1.00</td>\n",
       "      <td>Wetpaint</td>\n",
       "      <td>web</td>\n",
       "      <td>operating</td>\n",
       "      <td>2005-10-17</td>\n",
       "      <td>NaT</td>\n",
       "      <td>wetpaint-inc.com</td>\n",
       "      <td>BachelrWetpaint</td>\n",
       "      <td>USA</td>\n",
       "      <td>0.00</td>\n",
       "      <td>3.00</td>\n",
       "      <td>39750000.00</td>\n",
       "      <td>5.00</td>\n",
       "    </tr>\n",
       "    <tr>\n",
       "      <th>3</th>\n",
       "      <td>10.00</td>\n",
       "      <td>Flektor</td>\n",
       "      <td>games_video</td>\n",
       "      <td>acquired</td>\n",
       "      <td>NaT</td>\n",
       "      <td>NaT</td>\n",
       "      <td>flektor.com</td>\n",
       "      <td>NaN</td>\n",
       "      <td>USA</td>\n",
       "      <td>0.00</td>\n",
       "      <td>0.00</td>\n",
       "      <td>0.00</td>\n",
       "      <td>0.00</td>\n",
       "    </tr>\n",
       "    <tr>\n",
       "      <th>4</th>\n",
       "      <td>100.00</td>\n",
       "      <td>There</td>\n",
       "      <td>games_video</td>\n",
       "      <td>acquired</td>\n",
       "      <td>NaT</td>\n",
       "      <td>NaT</td>\n",
       "      <td>there.com</td>\n",
       "      <td>NaN</td>\n",
       "      <td>USA</td>\n",
       "      <td>0.00</td>\n",
       "      <td>0.00</td>\n",
       "      <td>0.00</td>\n",
       "      <td>4.00</td>\n",
       "    </tr>\n",
       "    <tr>\n",
       "      <th>5</th>\n",
       "      <td>10000.00</td>\n",
       "      <td>MYWEBBO</td>\n",
       "      <td>network_hosting</td>\n",
       "      <td>operating</td>\n",
       "      <td>2008-07-26</td>\n",
       "      <td>NaT</td>\n",
       "      <td>mywebbo.com</td>\n",
       "      <td>NaN</td>\n",
       "      <td>NaN</td>\n",
       "      <td>0.00</td>\n",
       "      <td>0.00</td>\n",
       "      <td>0.00</td>\n",
       "      <td>0.00</td>\n",
       "    </tr>\n",
       "    <tr>\n",
       "      <th>6</th>\n",
       "      <td>10001.00</td>\n",
       "      <td>THE Movie Streamer</td>\n",
       "      <td>games_video</td>\n",
       "      <td>operating</td>\n",
       "      <td>2008-07-26</td>\n",
       "      <td>NaT</td>\n",
       "      <td>themoviestreamer.com</td>\n",
       "      <td>NaN</td>\n",
       "      <td>NaN</td>\n",
       "      <td>0.00</td>\n",
       "      <td>0.00</td>\n",
       "      <td>0.00</td>\n",
       "      <td>0.00</td>\n",
       "    </tr>\n",
       "    <tr>\n",
       "      <th>...</th>\n",
       "      <td>...</td>\n",
       "      <td>...</td>\n",
       "      <td>...</td>\n",
       "      <td>...</td>\n",
       "      <td>...</td>\n",
       "      <td>...</td>\n",
       "      <td>...</td>\n",
       "      <td>...</td>\n",
       "      <td>...</td>\n",
       "      <td>...</td>\n",
       "      <td>...</td>\n",
       "      <td>...</td>\n",
       "      <td>...</td>\n",
       "    </tr>\n",
       "    <tr>\n",
       "      <th>217462</th>\n",
       "      <td>183352.00</td>\n",
       "      <td>Mattress Source</td>\n",
       "      <td>NaN</td>\n",
       "      <td>operating</td>\n",
       "      <td>NaT</td>\n",
       "      <td>NaT</td>\n",
       "      <td>mattresssourcestl.com</td>\n",
       "      <td>network</td>\n",
       "      <td>NaN</td>\n",
       "      <td>0.00</td>\n",
       "      <td>0.00</td>\n",
       "      <td>0.00</td>\n",
       "      <td>0.00</td>\n",
       "    </tr>\n",
       "    <tr>\n",
       "      <th>217463</th>\n",
       "      <td>3429.00</td>\n",
       "      <td>Zend Technologies</td>\n",
       "      <td>software</td>\n",
       "      <td>operating</td>\n",
       "      <td>1999-01-01</td>\n",
       "      <td>NaT</td>\n",
       "      <td>zend.com</td>\n",
       "      <td>networkzend</td>\n",
       "      <td>USA</td>\n",
       "      <td>0.00</td>\n",
       "      <td>4.00</td>\n",
       "      <td>44000000.00</td>\n",
       "      <td>6.00</td>\n",
       "    </tr>\n",
       "    <tr>\n",
       "      <th>217467</th>\n",
       "      <td>7748.00</td>\n",
       "      <td>Flowgram</td>\n",
       "      <td>web</td>\n",
       "      <td>closed</td>\n",
       "      <td>2007-06-01</td>\n",
       "      <td>2008-06-11</td>\n",
       "      <td>flowgram.com</td>\n",
       "      <td>network</td>\n",
       "      <td>USA</td>\n",
       "      <td>0.00</td>\n",
       "      <td>1.00</td>\n",
       "      <td>1300000.00</td>\n",
       "      <td>3.00</td>\n",
       "    </tr>\n",
       "    <tr>\n",
       "      <th>217468</th>\n",
       "      <td>174536.00</td>\n",
       "      <td>Pphotonet</td>\n",
       "      <td>games_video</td>\n",
       "      <td>operating</td>\n",
       "      <td>2012-05-01</td>\n",
       "      <td>NaT</td>\n",
       "      <td>pPhotonet.co</td>\n",
       "      <td>pPhotonet</td>\n",
       "      <td>NaN</td>\n",
       "      <td>0.00</td>\n",
       "      <td>0.00</td>\n",
       "      <td>0.00</td>\n",
       "      <td>0.00</td>\n",
       "    </tr>\n",
       "    <tr>\n",
       "      <th>217469</th>\n",
       "      <td>43233.00</td>\n",
       "      <td>Photonet</td>\n",
       "      <td>photo_video</td>\n",
       "      <td>acquired</td>\n",
       "      <td>2010-03-01</td>\n",
       "      <td>NaT</td>\n",
       "      <td>Photonet.com</td>\n",
       "      <td>Photonet</td>\n",
       "      <td>USA</td>\n",
       "      <td>0.00</td>\n",
       "      <td>3.00</td>\n",
       "      <td>57500000.00</td>\n",
       "      <td>3.00</td>\n",
       "    </tr>\n",
       "  </tbody>\n",
       "</table>\n",
       "<p>196553 rows × 13 columns</p>\n",
       "</div>"
      ],
      "text/plain": [
       "        company_ID                name    category_code     status founded_at  \\\n",
       "0             1.00            Wetpaint              web  operating 2005-10-17   \n",
       "3            10.00             Flektor      games_video   acquired        NaT   \n",
       "4           100.00               There      games_video   acquired        NaT   \n",
       "5         10000.00             MYWEBBO  network_hosting  operating 2008-07-26   \n",
       "6         10001.00  THE Movie Streamer      games_video  operating 2008-07-26   \n",
       "...            ...                 ...              ...        ...        ...   \n",
       "217462   183352.00     Mattress Source              NaN  operating        NaT   \n",
       "217463     3429.00   Zend Technologies         software  operating 1999-01-01   \n",
       "217467     7748.00            Flowgram              web     closed 2007-06-01   \n",
       "217468   174536.00           Pphotonet      games_video  operating 2012-05-01   \n",
       "217469    43233.00            Photonet      photo_video   acquired 2010-03-01   \n",
       "\n",
       "        closed_at                 domain network_username country_code  \\\n",
       "0             NaT       wetpaint-inc.com  BachelrWetpaint          USA   \n",
       "3             NaT            flektor.com              NaN          USA   \n",
       "4             NaT              there.com              NaN          USA   \n",
       "5             NaT            mywebbo.com              NaN          NaN   \n",
       "6             NaT   themoviestreamer.com              NaN          NaN   \n",
       "...           ...                    ...              ...          ...   \n",
       "217462        NaT  mattresssourcestl.com          network          NaN   \n",
       "217463        NaT               zend.com      networkzend          USA   \n",
       "217467 2008-06-11           flowgram.com          network          USA   \n",
       "217468        NaT           pPhotonet.co        pPhotonet          NaN   \n",
       "217469        NaT           Photonet.com         Photonet          USA   \n",
       "\n",
       "        investment_rounds  funding_rounds  funding_total  milestones  \n",
       "0                    0.00            3.00    39750000.00        5.00  \n",
       "3                    0.00            0.00           0.00        0.00  \n",
       "4                    0.00            0.00           0.00        4.00  \n",
       "5                    0.00            0.00           0.00        0.00  \n",
       "6                    0.00            0.00           0.00        0.00  \n",
       "...                   ...             ...            ...         ...  \n",
       "217462               0.00            0.00           0.00        0.00  \n",
       "217463               0.00            4.00    44000000.00        6.00  \n",
       "217467               0.00            1.00     1300000.00        3.00  \n",
       "217468               0.00            0.00           0.00        0.00  \n",
       "217469               0.00            3.00    57500000.00        3.00  \n",
       "\n",
       "[196553 rows x 13 columns]"
      ]
     },
     "execution_count": 55,
     "metadata": {},
     "output_type": "execute_result"
    }
   ],
   "source": [
    "# Удалим пропуски, если они есть во всех столбцах\n",
    "company_df.dropna(how='all')"
   ]
  },
  {
   "cell_type": "markdown",
   "metadata": {},
   "source": [
    "Итак, получили новый \"очищенный\" датасет `company_df`, в котором содержится инфо о компаниях и раундах финансирования.\n",
    "Сделаем все то же самое для второго датасета `rounds_df`, хранящего детальное инфо о раундах"
   ]
  },
  {
   "cell_type": "code",
   "execution_count": 56,
   "metadata": {
    "scrolled": false
   },
   "outputs": [
    {
     "name": "stdout",
     "output_type": "stream",
     "text": [
      "<class 'pandas.core.frame.DataFrame'>\n",
      "RangeIndex: 217774 entries, 0 to 217773\n",
      "Data columns (total 9 columns):\n",
      " #   Column               Non-Null Count  Dtype         \n",
      "---  ------               --------------  -----         \n",
      " 0   funding_round_id     52928 non-null  float64       \n",
      " 1   company_id           52928 non-null  float64       \n",
      " 2   funded_at            52680 non-null  datetime64[ns]\n",
      " 3   funding_round_type   52928 non-null  object        \n",
      " 4   raised_amount        52928 non-null  float64       \n",
      " 5   pre_money_valuation  52928 non-null  float64       \n",
      " 6   participants         52928 non-null  float64       \n",
      " 7   is_first_round       52928 non-null  float64       \n",
      " 8   is_last_round        52928 non-null  float64       \n",
      "dtypes: datetime64[ns](1), float64(7), object(1)\n",
      "memory usage: 15.0+ MB\n"
     ]
    },
    {
     "data": {
      "text/html": [
       "<div>\n",
       "<style scoped>\n",
       "    .dataframe tbody tr th:only-of-type {\n",
       "        vertical-align: middle;\n",
       "    }\n",
       "\n",
       "    .dataframe tbody tr th {\n",
       "        vertical-align: top;\n",
       "    }\n",
       "\n",
       "    .dataframe thead th {\n",
       "        text-align: right;\n",
       "    }\n",
       "</style>\n",
       "<table border=\"1\" class=\"dataframe\">\n",
       "  <thead>\n",
       "    <tr style=\"text-align: right;\">\n",
       "      <th></th>\n",
       "      <th>funding_round_id</th>\n",
       "      <th>company_id</th>\n",
       "      <th>funded_at</th>\n",
       "      <th>funding_round_type</th>\n",
       "      <th>raised_amount</th>\n",
       "      <th>pre_money_valuation</th>\n",
       "      <th>participants</th>\n",
       "      <th>is_first_round</th>\n",
       "      <th>is_last_round</th>\n",
       "    </tr>\n",
       "  </thead>\n",
       "  <tbody>\n",
       "    <tr>\n",
       "      <th>0</th>\n",
       "      <td>888.00</td>\n",
       "      <td>1.00</td>\n",
       "      <td>2005-10-01</td>\n",
       "      <td>series-a</td>\n",
       "      <td>5250000.00</td>\n",
       "      <td>0.00</td>\n",
       "      <td>2.00</td>\n",
       "      <td>0.00</td>\n",
       "      <td>1.00</td>\n",
       "    </tr>\n",
       "    <tr>\n",
       "      <th>1</th>\n",
       "      <td>889.00</td>\n",
       "      <td>1.00</td>\n",
       "      <td>2007-01-01</td>\n",
       "      <td>series-b</td>\n",
       "      <td>9500000.00</td>\n",
       "      <td>0.00</td>\n",
       "      <td>3.00</td>\n",
       "      <td>0.00</td>\n",
       "      <td>0.00</td>\n",
       "    </tr>\n",
       "    <tr>\n",
       "      <th>2</th>\n",
       "      <td>2312.00</td>\n",
       "      <td>1.00</td>\n",
       "      <td>2008-05-19</td>\n",
       "      <td>series-c+</td>\n",
       "      <td>25000000.00</td>\n",
       "      <td>0.00</td>\n",
       "      <td>4.00</td>\n",
       "      <td>1.00</td>\n",
       "      <td>0.00</td>\n",
       "    </tr>\n",
       "    <tr>\n",
       "      <th>3</th>\n",
       "      <td>NaN</td>\n",
       "      <td>NaN</td>\n",
       "      <td>NaT</td>\n",
       "      <td>NaN</td>\n",
       "      <td>NaN</td>\n",
       "      <td>NaN</td>\n",
       "      <td>NaN</td>\n",
       "      <td>NaN</td>\n",
       "      <td>NaN</td>\n",
       "    </tr>\n",
       "    <tr>\n",
       "      <th>4</th>\n",
       "      <td>NaN</td>\n",
       "      <td>NaN</td>\n",
       "      <td>NaT</td>\n",
       "      <td>NaN</td>\n",
       "      <td>NaN</td>\n",
       "      <td>NaN</td>\n",
       "      <td>NaN</td>\n",
       "      <td>NaN</td>\n",
       "      <td>NaN</td>\n",
       "    </tr>\n",
       "    <tr>\n",
       "      <th>...</th>\n",
       "      <td>...</td>\n",
       "      <td>...</td>\n",
       "      <td>...</td>\n",
       "      <td>...</td>\n",
       "      <td>...</td>\n",
       "      <td>...</td>\n",
       "      <td>...</td>\n",
       "      <td>...</td>\n",
       "      <td>...</td>\n",
       "    </tr>\n",
       "    <tr>\n",
       "      <th>217769</th>\n",
       "      <td>56454.00</td>\n",
       "      <td>282847.00</td>\n",
       "      <td>2011-01-31</td>\n",
       "      <td>other</td>\n",
       "      <td>5500000.00</td>\n",
       "      <td>0.00</td>\n",
       "      <td>0.00</td>\n",
       "      <td>1.00</td>\n",
       "      <td>1.00</td>\n",
       "    </tr>\n",
       "    <tr>\n",
       "      <th>217770</th>\n",
       "      <td>56542.00</td>\n",
       "      <td>55477.00</td>\n",
       "      <td>2011-01-13</td>\n",
       "      <td>venture</td>\n",
       "      <td>10633300.00</td>\n",
       "      <td>0.00</td>\n",
       "      <td>0.00</td>\n",
       "      <td>0.00</td>\n",
       "      <td>1.00</td>\n",
       "    </tr>\n",
       "    <tr>\n",
       "      <th>217771</th>\n",
       "      <td>56543.00</td>\n",
       "      <td>55477.00</td>\n",
       "      <td>2012-05-31</td>\n",
       "      <td>venture</td>\n",
       "      <td>2125720.00</td>\n",
       "      <td>0.00</td>\n",
       "      <td>0.00</td>\n",
       "      <td>1.00</td>\n",
       "      <td>0.00</td>\n",
       "    </tr>\n",
       "    <tr>\n",
       "      <th>217772</th>\n",
       "      <td>56928.00</td>\n",
       "      <td>283492.00</td>\n",
       "      <td>2013-12-03</td>\n",
       "      <td>venture</td>\n",
       "      <td>3602480.00</td>\n",
       "      <td>0.00</td>\n",
       "      <td>5.00</td>\n",
       "      <td>1.00</td>\n",
       "      <td>1.00</td>\n",
       "    </tr>\n",
       "    <tr>\n",
       "      <th>217773</th>\n",
       "      <td>57063.00</td>\n",
       "      <td>284191.00</td>\n",
       "      <td>2013-12-04</td>\n",
       "      <td>venture</td>\n",
       "      <td>7000000.00</td>\n",
       "      <td>0.00</td>\n",
       "      <td>4.00</td>\n",
       "      <td>1.00</td>\n",
       "      <td>1.00</td>\n",
       "    </tr>\n",
       "  </tbody>\n",
       "</table>\n",
       "<p>217774 rows × 9 columns</p>\n",
       "</div>"
      ],
      "text/plain": [
       "        funding_round_id  company_id  funded_at funding_round_type  \\\n",
       "0                 888.00        1.00 2005-10-01           series-a   \n",
       "1                 889.00        1.00 2007-01-01           series-b   \n",
       "2                2312.00        1.00 2008-05-19          series-c+   \n",
       "3                    NaN         NaN        NaT                NaN   \n",
       "4                    NaN         NaN        NaT                NaN   \n",
       "...                  ...         ...        ...                ...   \n",
       "217769          56454.00   282847.00 2011-01-31              other   \n",
       "217770          56542.00    55477.00 2011-01-13            venture   \n",
       "217771          56543.00    55477.00 2012-05-31            venture   \n",
       "217772          56928.00   283492.00 2013-12-03            venture   \n",
       "217773          57063.00   284191.00 2013-12-04            venture   \n",
       "\n",
       "        raised_amount  pre_money_valuation  participants  is_first_round  \\\n",
       "0          5250000.00                 0.00          2.00            0.00   \n",
       "1          9500000.00                 0.00          3.00            0.00   \n",
       "2         25000000.00                 0.00          4.00            1.00   \n",
       "3                 NaN                  NaN           NaN             NaN   \n",
       "4                 NaN                  NaN           NaN             NaN   \n",
       "...               ...                  ...           ...             ...   \n",
       "217769     5500000.00                 0.00          0.00            1.00   \n",
       "217770    10633300.00                 0.00          0.00            0.00   \n",
       "217771     2125720.00                 0.00          0.00            1.00   \n",
       "217772     3602480.00                 0.00          5.00            1.00   \n",
       "217773     7000000.00                 0.00          4.00            1.00   \n",
       "\n",
       "        is_last_round  \n",
       "0                1.00  \n",
       "1                0.00  \n",
       "2                0.00  \n",
       "3                 NaN  \n",
       "4                 NaN  \n",
       "...               ...  \n",
       "217769           1.00  \n",
       "217770           1.00  \n",
       "217771           0.00  \n",
       "217772           1.00  \n",
       "217773           1.00  \n",
       "\n",
       "[217774 rows x 9 columns]"
      ]
     },
     "metadata": {},
     "output_type": "display_data"
    }
   ],
   "source": [
    "# Создадим новый датасет\n",
    "col_2 = ['funding_round_id', 'company_id', 'funded_at', 'funding_round_type',\n",
    "       'raised_amount', 'pre_money_valuation', 'participants',\n",
    "       'is_first_round', 'is_last_round']\n",
    "\n",
    "rounds_df = company_and_rounds[col_2]\n",
    "\n",
    "# Проверка\n",
    "rounds_df.info()\n",
    "display(rounds_df)"
   ]
  },
  {
   "cell_type": "code",
   "execution_count": 57,
   "metadata": {},
   "outputs": [
    {
     "data": {
      "text/plain": [
       "164845"
      ]
     },
     "execution_count": 57,
     "metadata": {},
     "output_type": "execute_result"
    }
   ],
   "source": [
    "# Проверим на наличие полных дубликатов\n",
    "rounds_df.duplicated().sum()"
   ]
  },
  {
   "cell_type": "code",
   "execution_count": 58,
   "metadata": {},
   "outputs": [],
   "source": [
    "# Удалим дубликаты\n",
    "rounds_df = rounds_df.drop_duplicates()"
   ]
  },
  {
   "cell_type": "code",
   "execution_count": 59,
   "metadata": {},
   "outputs": [
    {
     "data": {
      "text/html": [
       "<div>\n",
       "<style scoped>\n",
       "    .dataframe tbody tr th:only-of-type {\n",
       "        vertical-align: middle;\n",
       "    }\n",
       "\n",
       "    .dataframe tbody tr th {\n",
       "        vertical-align: top;\n",
       "    }\n",
       "\n",
       "    .dataframe thead th {\n",
       "        text-align: right;\n",
       "    }\n",
       "</style>\n",
       "<table border=\"1\" class=\"dataframe\">\n",
       "  <thead>\n",
       "    <tr style=\"text-align: right;\">\n",
       "      <th></th>\n",
       "      <th>funding_round_id</th>\n",
       "      <th>company_id</th>\n",
       "      <th>funded_at</th>\n",
       "      <th>funding_round_type</th>\n",
       "      <th>raised_amount</th>\n",
       "      <th>pre_money_valuation</th>\n",
       "      <th>participants</th>\n",
       "      <th>is_first_round</th>\n",
       "      <th>is_last_round</th>\n",
       "    </tr>\n",
       "  </thead>\n",
       "  <tbody>\n",
       "    <tr>\n",
       "      <th>0</th>\n",
       "      <td>888.00</td>\n",
       "      <td>1.00</td>\n",
       "      <td>2005-10-01</td>\n",
       "      <td>series-a</td>\n",
       "      <td>5250000.00</td>\n",
       "      <td>0.00</td>\n",
       "      <td>2.00</td>\n",
       "      <td>0.00</td>\n",
       "      <td>1.00</td>\n",
       "    </tr>\n",
       "    <tr>\n",
       "      <th>1</th>\n",
       "      <td>889.00</td>\n",
       "      <td>1.00</td>\n",
       "      <td>2007-01-01</td>\n",
       "      <td>series-b</td>\n",
       "      <td>9500000.00</td>\n",
       "      <td>0.00</td>\n",
       "      <td>3.00</td>\n",
       "      <td>0.00</td>\n",
       "      <td>0.00</td>\n",
       "    </tr>\n",
       "    <tr>\n",
       "      <th>2</th>\n",
       "      <td>2312.00</td>\n",
       "      <td>1.00</td>\n",
       "      <td>2008-05-19</td>\n",
       "      <td>series-c+</td>\n",
       "      <td>25000000.00</td>\n",
       "      <td>0.00</td>\n",
       "      <td>4.00</td>\n",
       "      <td>1.00</td>\n",
       "      <td>0.00</td>\n",
       "    </tr>\n",
       "    <tr>\n",
       "      <th>15</th>\n",
       "      <td>1644.00</td>\n",
       "      <td>1001.00</td>\n",
       "      <td>2008-02-26</td>\n",
       "      <td>series-a</td>\n",
       "      <td>5000000.00</td>\n",
       "      <td>0.00</td>\n",
       "      <td>3.00</td>\n",
       "      <td>1.00</td>\n",
       "      <td>1.00</td>\n",
       "    </tr>\n",
       "    <tr>\n",
       "      <th>20</th>\n",
       "      <td>6682.00</td>\n",
       "      <td>10014.00</td>\n",
       "      <td>2008-09-01</td>\n",
       "      <td>angel</td>\n",
       "      <td>0.00</td>\n",
       "      <td>0.00</td>\n",
       "      <td>1.00</td>\n",
       "      <td>1.00</td>\n",
       "      <td>1.00</td>\n",
       "    </tr>\n",
       "    <tr>\n",
       "      <th>...</th>\n",
       "      <td>...</td>\n",
       "      <td>...</td>\n",
       "      <td>...</td>\n",
       "      <td>...</td>\n",
       "      <td>...</td>\n",
       "      <td>...</td>\n",
       "      <td>...</td>\n",
       "      <td>...</td>\n",
       "      <td>...</td>\n",
       "    </tr>\n",
       "    <tr>\n",
       "      <th>217769</th>\n",
       "      <td>56454.00</td>\n",
       "      <td>282847.00</td>\n",
       "      <td>2011-01-31</td>\n",
       "      <td>other</td>\n",
       "      <td>5500000.00</td>\n",
       "      <td>0.00</td>\n",
       "      <td>0.00</td>\n",
       "      <td>1.00</td>\n",
       "      <td>1.00</td>\n",
       "    </tr>\n",
       "    <tr>\n",
       "      <th>217770</th>\n",
       "      <td>56542.00</td>\n",
       "      <td>55477.00</td>\n",
       "      <td>2011-01-13</td>\n",
       "      <td>venture</td>\n",
       "      <td>10633300.00</td>\n",
       "      <td>0.00</td>\n",
       "      <td>0.00</td>\n",
       "      <td>0.00</td>\n",
       "      <td>1.00</td>\n",
       "    </tr>\n",
       "    <tr>\n",
       "      <th>217771</th>\n",
       "      <td>56543.00</td>\n",
       "      <td>55477.00</td>\n",
       "      <td>2012-05-31</td>\n",
       "      <td>venture</td>\n",
       "      <td>2125720.00</td>\n",
       "      <td>0.00</td>\n",
       "      <td>0.00</td>\n",
       "      <td>1.00</td>\n",
       "      <td>0.00</td>\n",
       "    </tr>\n",
       "    <tr>\n",
       "      <th>217772</th>\n",
       "      <td>56928.00</td>\n",
       "      <td>283492.00</td>\n",
       "      <td>2013-12-03</td>\n",
       "      <td>venture</td>\n",
       "      <td>3602480.00</td>\n",
       "      <td>0.00</td>\n",
       "      <td>5.00</td>\n",
       "      <td>1.00</td>\n",
       "      <td>1.00</td>\n",
       "    </tr>\n",
       "    <tr>\n",
       "      <th>217773</th>\n",
       "      <td>57063.00</td>\n",
       "      <td>284191.00</td>\n",
       "      <td>2013-12-04</td>\n",
       "      <td>venture</td>\n",
       "      <td>7000000.00</td>\n",
       "      <td>0.00</td>\n",
       "      <td>4.00</td>\n",
       "      <td>1.00</td>\n",
       "      <td>1.00</td>\n",
       "    </tr>\n",
       "  </tbody>\n",
       "</table>\n",
       "<p>52928 rows × 9 columns</p>\n",
       "</div>"
      ],
      "text/plain": [
       "        funding_round_id  company_id  funded_at funding_round_type  \\\n",
       "0                 888.00        1.00 2005-10-01           series-a   \n",
       "1                 889.00        1.00 2007-01-01           series-b   \n",
       "2                2312.00        1.00 2008-05-19          series-c+   \n",
       "15               1644.00     1001.00 2008-02-26           series-a   \n",
       "20               6682.00    10014.00 2008-09-01              angel   \n",
       "...                  ...         ...        ...                ...   \n",
       "217769          56454.00   282847.00 2011-01-31              other   \n",
       "217770          56542.00    55477.00 2011-01-13            venture   \n",
       "217771          56543.00    55477.00 2012-05-31            venture   \n",
       "217772          56928.00   283492.00 2013-12-03            venture   \n",
       "217773          57063.00   284191.00 2013-12-04            venture   \n",
       "\n",
       "        raised_amount  pre_money_valuation  participants  is_first_round  \\\n",
       "0          5250000.00                 0.00          2.00            0.00   \n",
       "1          9500000.00                 0.00          3.00            0.00   \n",
       "2         25000000.00                 0.00          4.00            1.00   \n",
       "15         5000000.00                 0.00          3.00            1.00   \n",
       "20               0.00                 0.00          1.00            1.00   \n",
       "...               ...                  ...           ...             ...   \n",
       "217769     5500000.00                 0.00          0.00            1.00   \n",
       "217770    10633300.00                 0.00          0.00            0.00   \n",
       "217771     2125720.00                 0.00          0.00            1.00   \n",
       "217772     3602480.00                 0.00          5.00            1.00   \n",
       "217773     7000000.00                 0.00          4.00            1.00   \n",
       "\n",
       "        is_last_round  \n",
       "0                1.00  \n",
       "1                0.00  \n",
       "2                0.00  \n",
       "15               1.00  \n",
       "20               1.00  \n",
       "...               ...  \n",
       "217769           1.00  \n",
       "217770           1.00  \n",
       "217771           0.00  \n",
       "217772           1.00  \n",
       "217773           1.00  \n",
       "\n",
       "[52928 rows x 9 columns]"
      ]
     },
     "execution_count": 59,
     "metadata": {},
     "output_type": "execute_result"
    }
   ],
   "source": [
    "# Удалим пропуски, если они есть во всех столбцах\n",
    "rounds_df.dropna(how='all')"
   ]
  },
  {
   "cell_type": "markdown",
   "metadata": {},
   "source": [
    "Готово! Получили 2 раздельных и очищенных от дубликатов датасета - company_df и rounds_df"
   ]
  },
  {
   "cell_type": "code",
   "execution_count": 60,
   "metadata": {
    "scrolled": true
   },
   "outputs": [
    {
     "name": "stdout",
     "output_type": "stream",
     "text": [
      "7575085037.0\n"
     ]
    }
   ],
   "source": [
    "a = rounds_df['raised_amount'].sum()\n",
    "b = company_df['funding_total'].sum()\n",
    "print(a-b)"
   ]
  },
  {
   "cell_type": "markdown",
   "metadata": {
    "id": "bmVYhphNrJg2"
   },
   "source": [
    "\n",
    "## Шаг 3. Исследовательский анализ объединённых таблиц\n",
    "\n",
    "<big>Приступите к шагу 3 после проверки ревьюера.</big>"
   ]
  },
  {
   "cell_type": "markdown",
   "metadata": {
    "id": "3Di6tCT3rJg2"
   },
   "source": [
    "\n",
    "### 3.1. Объединение данных \n",
    "\n",
    "Объедините данные для ответа на вопросы заказчика, которые касаются интересующих его компаний.\n",
    "\n",
    "В качестве основы для объединённой таблицы возьмите данные из обработанного датасета `company_and_rounds.csv` — выберите только те компании, у которых указаны значения `funding_rounds` или `investment_rounds` больше нуля, и те, у которых в колонке `status` указано `acquired`.\n",
    "\n",
    "Далее работайте только с этими данными."
   ]
  },
  {
   "cell_type": "markdown",
   "metadata": {},
   "source": [
    "Так как на предыдущих этапах датасет company_and_rounds был обработан и разделен на две части, будем работать только с той, в которой хранятся необходимые для задачи данные, т.е. с `company_df`.\n",
    "\n",
    "Для задачи нужно выполнение ОДНОГО из условий:\n",
    "+ `funding_rounds` или `investment_rounds` > 0\n",
    "+ `status` = `acquired`"
   ]
  },
  {
   "cell_type": "code",
   "execution_count": 61,
   "metadata": {
    "id": "mGYqoHS7rJg2"
   },
   "outputs": [
    {
     "data": {
      "text/html": [
       "<div>\n",
       "<style scoped>\n",
       "    .dataframe tbody tr th:only-of-type {\n",
       "        vertical-align: middle;\n",
       "    }\n",
       "\n",
       "    .dataframe tbody tr th {\n",
       "        vertical-align: top;\n",
       "    }\n",
       "\n",
       "    .dataframe thead th {\n",
       "        text-align: right;\n",
       "    }\n",
       "</style>\n",
       "<table border=\"1\" class=\"dataframe\">\n",
       "  <thead>\n",
       "    <tr style=\"text-align: right;\">\n",
       "      <th></th>\n",
       "      <th>company_ID</th>\n",
       "      <th>name</th>\n",
       "      <th>category_code</th>\n",
       "      <th>status</th>\n",
       "      <th>founded_at</th>\n",
       "      <th>closed_at</th>\n",
       "      <th>domain</th>\n",
       "      <th>network_username</th>\n",
       "      <th>country_code</th>\n",
       "      <th>investment_rounds</th>\n",
       "      <th>funding_rounds</th>\n",
       "      <th>funding_total</th>\n",
       "      <th>milestones</th>\n",
       "    </tr>\n",
       "  </thead>\n",
       "  <tbody>\n",
       "    <tr>\n",
       "      <th>0</th>\n",
       "      <td>1.00</td>\n",
       "      <td>Wetpaint</td>\n",
       "      <td>web</td>\n",
       "      <td>operating</td>\n",
       "      <td>2005-10-17</td>\n",
       "      <td>NaT</td>\n",
       "      <td>wetpaint-inc.com</td>\n",
       "      <td>BachelrWetpaint</td>\n",
       "      <td>USA</td>\n",
       "      <td>0.00</td>\n",
       "      <td>3.00</td>\n",
       "      <td>39750000.00</td>\n",
       "      <td>5.00</td>\n",
       "    </tr>\n",
       "    <tr>\n",
       "      <th>3</th>\n",
       "      <td>10.00</td>\n",
       "      <td>Flektor</td>\n",
       "      <td>games_video</td>\n",
       "      <td>acquired</td>\n",
       "      <td>NaT</td>\n",
       "      <td>NaT</td>\n",
       "      <td>flektor.com</td>\n",
       "      <td>NaN</td>\n",
       "      <td>USA</td>\n",
       "      <td>0.00</td>\n",
       "      <td>0.00</td>\n",
       "      <td>0.00</td>\n",
       "      <td>0.00</td>\n",
       "    </tr>\n",
       "    <tr>\n",
       "      <th>4</th>\n",
       "      <td>100.00</td>\n",
       "      <td>There</td>\n",
       "      <td>games_video</td>\n",
       "      <td>acquired</td>\n",
       "      <td>NaT</td>\n",
       "      <td>NaT</td>\n",
       "      <td>there.com</td>\n",
       "      <td>NaN</td>\n",
       "      <td>USA</td>\n",
       "      <td>0.00</td>\n",
       "      <td>0.00</td>\n",
       "      <td>0.00</td>\n",
       "      <td>4.00</td>\n",
       "    </tr>\n",
       "    <tr>\n",
       "      <th>15</th>\n",
       "      <td>1001.00</td>\n",
       "      <td>FriendFeed</td>\n",
       "      <td>web</td>\n",
       "      <td>acquired</td>\n",
       "      <td>2007-10-01</td>\n",
       "      <td>NaT</td>\n",
       "      <td>friendfeed.com</td>\n",
       "      <td>friendfeed</td>\n",
       "      <td>USA</td>\n",
       "      <td>0.00</td>\n",
       "      <td>1.00</td>\n",
       "      <td>5000000.00</td>\n",
       "      <td>3.00</td>\n",
       "    </tr>\n",
       "    <tr>\n",
       "      <th>20</th>\n",
       "      <td>10014.00</td>\n",
       "      <td>Mobclix</td>\n",
       "      <td>mobile</td>\n",
       "      <td>acquired</td>\n",
       "      <td>2008-03-01</td>\n",
       "      <td>NaT</td>\n",
       "      <td>mobclix.com</td>\n",
       "      <td>mobclix</td>\n",
       "      <td>USA</td>\n",
       "      <td>0.00</td>\n",
       "      <td>1.00</td>\n",
       "      <td>0.00</td>\n",
       "      <td>4.00</td>\n",
       "    </tr>\n",
       "    <tr>\n",
       "      <th>...</th>\n",
       "      <td>...</td>\n",
       "      <td>...</td>\n",
       "      <td>...</td>\n",
       "      <td>...</td>\n",
       "      <td>...</td>\n",
       "      <td>...</td>\n",
       "      <td>...</td>\n",
       "      <td>...</td>\n",
       "      <td>...</td>\n",
       "      <td>...</td>\n",
       "      <td>...</td>\n",
       "      <td>...</td>\n",
       "      <td>...</td>\n",
       "    </tr>\n",
       "    <tr>\n",
       "      <th>217458</th>\n",
       "      <td>1344.00</td>\n",
       "      <td>Vobile</td>\n",
       "      <td>web</td>\n",
       "      <td>operating</td>\n",
       "      <td>2005-01-01</td>\n",
       "      <td>NaT</td>\n",
       "      <td>vobileinc.com</td>\n",
       "      <td>networkmobile</td>\n",
       "      <td>USA</td>\n",
       "      <td>0.00</td>\n",
       "      <td>1.00</td>\n",
       "      <td>10000000.00</td>\n",
       "      <td>0.00</td>\n",
       "    </tr>\n",
       "    <tr>\n",
       "      <th>217459</th>\n",
       "      <td>142181.00</td>\n",
       "      <td>Stop Being Watched</td>\n",
       "      <td>software</td>\n",
       "      <td>operating</td>\n",
       "      <td>2010-06-10</td>\n",
       "      <td>NaT</td>\n",
       "      <td>stopbeingwatched.com</td>\n",
       "      <td>SBWinfonetwork</td>\n",
       "      <td>USA</td>\n",
       "      <td>0.00</td>\n",
       "      <td>1.00</td>\n",
       "      <td>500000.00</td>\n",
       "      <td>1.00</td>\n",
       "    </tr>\n",
       "    <tr>\n",
       "      <th>217463</th>\n",
       "      <td>3429.00</td>\n",
       "      <td>Zend Technologies</td>\n",
       "      <td>software</td>\n",
       "      <td>operating</td>\n",
       "      <td>1999-01-01</td>\n",
       "      <td>NaT</td>\n",
       "      <td>zend.com</td>\n",
       "      <td>networkzend</td>\n",
       "      <td>USA</td>\n",
       "      <td>0.00</td>\n",
       "      <td>4.00</td>\n",
       "      <td>44000000.00</td>\n",
       "      <td>6.00</td>\n",
       "    </tr>\n",
       "    <tr>\n",
       "      <th>217467</th>\n",
       "      <td>7748.00</td>\n",
       "      <td>Flowgram</td>\n",
       "      <td>web</td>\n",
       "      <td>closed</td>\n",
       "      <td>2007-06-01</td>\n",
       "      <td>2008-06-11</td>\n",
       "      <td>flowgram.com</td>\n",
       "      <td>network</td>\n",
       "      <td>USA</td>\n",
       "      <td>0.00</td>\n",
       "      <td>1.00</td>\n",
       "      <td>1300000.00</td>\n",
       "      <td>3.00</td>\n",
       "    </tr>\n",
       "    <tr>\n",
       "      <th>217469</th>\n",
       "      <td>43233.00</td>\n",
       "      <td>Photonet</td>\n",
       "      <td>photo_video</td>\n",
       "      <td>acquired</td>\n",
       "      <td>2010-03-01</td>\n",
       "      <td>NaT</td>\n",
       "      <td>Photonet.com</td>\n",
       "      <td>Photonet</td>\n",
       "      <td>USA</td>\n",
       "      <td>0.00</td>\n",
       "      <td>3.00</td>\n",
       "      <td>57500000.00</td>\n",
       "      <td>3.00</td>\n",
       "    </tr>\n",
       "  </tbody>\n",
       "</table>\n",
       "<p>40747 rows × 13 columns</p>\n",
       "</div>"
      ],
      "text/plain": [
       "        company_ID                name category_code     status founded_at  \\\n",
       "0             1.00            Wetpaint           web  operating 2005-10-17   \n",
       "3            10.00             Flektor   games_video   acquired        NaT   \n",
       "4           100.00               There   games_video   acquired        NaT   \n",
       "15         1001.00          FriendFeed           web   acquired 2007-10-01   \n",
       "20        10014.00             Mobclix        mobile   acquired 2008-03-01   \n",
       "...            ...                 ...           ...        ...        ...   \n",
       "217458     1344.00              Vobile           web  operating 2005-01-01   \n",
       "217459   142181.00  Stop Being Watched      software  operating 2010-06-10   \n",
       "217463     3429.00   Zend Technologies      software  operating 1999-01-01   \n",
       "217467     7748.00            Flowgram           web     closed 2007-06-01   \n",
       "217469    43233.00            Photonet   photo_video   acquired 2010-03-01   \n",
       "\n",
       "        closed_at                domain network_username country_code  \\\n",
       "0             NaT      wetpaint-inc.com  BachelrWetpaint          USA   \n",
       "3             NaT           flektor.com              NaN          USA   \n",
       "4             NaT             there.com              NaN          USA   \n",
       "15            NaT        friendfeed.com       friendfeed          USA   \n",
       "20            NaT           mobclix.com          mobclix          USA   \n",
       "...           ...                   ...              ...          ...   \n",
       "217458        NaT         vobileinc.com    networkmobile          USA   \n",
       "217459        NaT  stopbeingwatched.com   SBWinfonetwork          USA   \n",
       "217463        NaT              zend.com      networkzend          USA   \n",
       "217467 2008-06-11          flowgram.com          network          USA   \n",
       "217469        NaT          Photonet.com         Photonet          USA   \n",
       "\n",
       "        investment_rounds  funding_rounds  funding_total  milestones  \n",
       "0                    0.00            3.00    39750000.00        5.00  \n",
       "3                    0.00            0.00           0.00        0.00  \n",
       "4                    0.00            0.00           0.00        4.00  \n",
       "15                   0.00            1.00     5000000.00        3.00  \n",
       "20                   0.00            1.00           0.00        4.00  \n",
       "...                   ...             ...            ...         ...  \n",
       "217458               0.00            1.00    10000000.00        0.00  \n",
       "217459               0.00            1.00      500000.00        1.00  \n",
       "217463               0.00            4.00    44000000.00        6.00  \n",
       "217467               0.00            1.00     1300000.00        3.00  \n",
       "217469               0.00            3.00    57500000.00        3.00  \n",
       "\n",
       "[40747 rows x 13 columns]"
      ]
     },
     "metadata": {},
     "output_type": "display_data"
    }
   ],
   "source": [
    "# Отфильтруем датасет под запрос заказчика:\n",
    "filtered_df = company_df[(company_df['funding_rounds'] > 0) | (company_df['investment_rounds'] > 0) | (company_df['status'] == 'acquired') ]\n",
    "display(filtered_df)"
   ]
  },
  {
   "cell_type": "code",
   "execution_count": 62,
   "metadata": {
    "id": "vJZ4mO2Un1yt"
   },
   "outputs": [
    {
     "name": "stdout",
     "output_type": "stream",
     "text": [
      "<class 'pandas.core.frame.DataFrame'>\n",
      "Int64Index: 40747 entries, 0 to 217469\n",
      "Data columns (total 13 columns):\n",
      " #   Column             Non-Null Count  Dtype         \n",
      "---  ------             --------------  -----         \n",
      " 0   company_ID         40747 non-null  float64       \n",
      " 1   name               40747 non-null  object        \n",
      " 2   category_code      35315 non-null  object        \n",
      " 3   status             40747 non-null  object        \n",
      " 4   founded_at         27807 non-null  datetime64[ns]\n",
      " 5   closed_at          2128 non-null   datetime64[ns]\n",
      " 6   domain             35754 non-null  object        \n",
      " 7   network_username   20850 non-null  object        \n",
      " 8   country_code       34742 non-null  object        \n",
      " 9   investment_rounds  40747 non-null  float64       \n",
      " 10  funding_rounds     40747 non-null  float64       \n",
      " 11  funding_total      40747 non-null  float64       \n",
      " 12  milestones         40747 non-null  float64       \n",
      "dtypes: datetime64[ns](2), float64(5), object(6)\n",
      "memory usage: 4.4+ MB\n"
     ]
    }
   ],
   "source": [
    "filtered_df.info()"
   ]
  },
  {
   "cell_type": "markdown",
   "metadata": {},
   "source": [
    "Готово! Получили таблицу, с которой и будет проводиться вся дальнейшая работа."
   ]
  },
  {
   "cell_type": "markdown",
   "metadata": {
    "id": "DFHINkV3rJg2"
   },
   "source": [
    "\n",
    "### 3.2. Анализ выбросов\n",
    "\n",
    "Заказчика интересует обычный для рассматриваемого периода размер средств, который предоставлялся компаниям.\n",
    "\n",
    "* По предобработанному столбцу `funding_total` графическим способом оцените, какой размер общего финансирования для одной компании будет типичным, а какой — выбивающимся.\n",
    "\n",
    "* В процессе расчёта значений обратите внимание, например, на показатели, возвращаемые методом `.describe()`, — объясните их. Применимы ли к таким данным обычные способы нахождения типичных значений? "
   ]
  },
  {
   "cell_type": "code",
   "execution_count": 63,
   "metadata": {
    "id": "8jm75fKXrJg2"
   },
   "outputs": [
    {
     "data": {
      "text/plain": [
       "count         40747.00\n",
       "mean       10135609.64\n",
       "std        56464359.98\n",
       "min               0.00\n",
       "25%               0.00\n",
       "50%          600000.00\n",
       "75%         5650650.00\n",
       "max      5700000000.00\n",
       "Name: funding_total, dtype: float64"
      ]
     },
     "execution_count": 63,
     "metadata": {},
     "output_type": "execute_result"
    }
   ],
   "source": [
    "filtered_df['funding_total'].describe()"
   ]
  },
  {
   "cell_type": "code",
   "execution_count": 64,
   "metadata": {
    "id": "dIWqyEomn2MU"
   },
   "outputs": [
    {
     "data": {
      "image/png": "[encoded data removed]",
      "text/plain": [
       "<Figure size 864x720 with 1 Axes>"
      ]
     },
     "metadata": {
      "needs_background": "light"
     },
     "output_type": "display_data"
    }
   ],
   "source": [
    "# Строим \"ящик с усами\" с выбросами для оценки общего финансирования:\n",
    "boxplot = filtered_df.boxplot(column='funding_total',\n",
    "                              vert=False,\n",
    "                             figsize=(12, 10))\n",
    "boxplot.set_title('Распределение финансирования')\n",
    "boxplot.set_xlabel('Млрд. руб')\n",
    "plt.show() "
   ]
  },
  {
   "cell_type": "markdown",
   "metadata": {},
   "source": [
    "Видим, что выбросов очень много. Теперь построим тот же ящик но с отключенными выбросами"
   ]
  },
  {
   "cell_type": "code",
   "execution_count": 65,
   "metadata": {},
   "outputs": [
    {
     "data": {
      "image/png": "[encoded data removed]",
      "text/plain": [
       "<Figure size 864x720 with 1 Axes>"
      ]
     },
     "metadata": {
      "needs_background": "light"
     },
     "output_type": "display_data"
    }
   ],
   "source": [
    "# Строим \"ящик с усами\" без выбросов для оценки общего финансирования:\n",
    "boxplot = filtered_df.boxplot(column='funding_total',\n",
    "                              vert=False,\n",
    "                             figsize=(12, 10),\n",
    "                             showfliers=False)\n",
    "boxplot.set_title('Распределение финансирования')\n",
    "plt.show() "
   ]
  },
  {
   "cell_type": "code",
   "execution_count": 66,
   "metadata": {
    "id": "wJHXCBwwrJg2"
   },
   "outputs": [
    {
     "data": {
      "text/plain": [
       "12873"
      ]
     },
     "metadata": {},
     "output_type": "display_data"
    }
   ],
   "source": [
    "# Проверим, сколько выбросов со сзначением 0 \n",
    "total_0 = filtered_df['funding_total']==0\n",
    "display(total_0.sum())"
   ]
  },
  {
   "cell_type": "code",
   "execution_count": 67,
   "metadata": {},
   "outputs": [
    {
     "data": {
      "text/html": [
       "<div>\n",
       "<style scoped>\n",
       "    .dataframe tbody tr th:only-of-type {\n",
       "        vertical-align: middle;\n",
       "    }\n",
       "\n",
       "    .dataframe tbody tr th {\n",
       "        vertical-align: top;\n",
       "    }\n",
       "\n",
       "    .dataframe thead th {\n",
       "        text-align: right;\n",
       "    }\n",
       "</style>\n",
       "<table border=\"1\" class=\"dataframe\">\n",
       "  <thead>\n",
       "    <tr style=\"text-align: right;\">\n",
       "      <th></th>\n",
       "      <th>company_ID</th>\n",
       "      <th>name</th>\n",
       "      <th>category_code</th>\n",
       "      <th>status</th>\n",
       "      <th>founded_at</th>\n",
       "      <th>closed_at</th>\n",
       "      <th>domain</th>\n",
       "      <th>network_username</th>\n",
       "      <th>country_code</th>\n",
       "      <th>investment_rounds</th>\n",
       "      <th>funding_rounds</th>\n",
       "      <th>funding_total</th>\n",
       "      <th>milestones</th>\n",
       "    </tr>\n",
       "  </thead>\n",
       "  <tbody>\n",
       "    <tr>\n",
       "      <th>5517</th>\n",
       "      <td>13219.00</td>\n",
       "      <td>Clearwire</td>\n",
       "      <td>mobile</td>\n",
       "      <td>acquired</td>\n",
       "      <td>2003-10-01</td>\n",
       "      <td>NaT</td>\n",
       "      <td>clearwire.com</td>\n",
       "      <td>NaN</td>\n",
       "      <td>USA</td>\n",
       "      <td>0.00</td>\n",
       "      <td>4.00</td>\n",
       "      <td>5700000000.00</td>\n",
       "      <td>2.00</td>\n",
       "    </tr>\n",
       "    <tr>\n",
       "      <th>88129</th>\n",
       "      <td>22568.00</td>\n",
       "      <td>Solyndra</td>\n",
       "      <td>manufacturing</td>\n",
       "      <td>operating</td>\n",
       "      <td>2005-01-01</td>\n",
       "      <td>NaT</td>\n",
       "      <td>solyndra.com</td>\n",
       "      <td>SolyndraCorp</td>\n",
       "      <td>USA</td>\n",
       "      <td>0.00</td>\n",
       "      <td>9.00</td>\n",
       "      <td>1765500000.00</td>\n",
       "      <td>3.00</td>\n",
       "    </tr>\n",
       "    <tr>\n",
       "      <th>106151</th>\n",
       "      <td>242735.00</td>\n",
       "      <td>sigmacare</td>\n",
       "      <td>health</td>\n",
       "      <td>operating</td>\n",
       "      <td>2005-01-01</td>\n",
       "      <td>NaT</td>\n",
       "      <td>sigmacare.com</td>\n",
       "      <td>SigmaCareEHR</td>\n",
       "      <td>USA</td>\n",
       "      <td>0.00</td>\n",
       "      <td>1.00</td>\n",
       "      <td>2600000000.00</td>\n",
       "      <td>0.00</td>\n",
       "    </tr>\n",
       "    <tr>\n",
       "      <th>175686</th>\n",
       "      <td>4843.00</td>\n",
       "      <td>Verizon Communications, Inc.</td>\n",
       "      <td>mobile</td>\n",
       "      <td>ipo</td>\n",
       "      <td>NaT</td>\n",
       "      <td>NaT</td>\n",
       "      <td>verizon.com</td>\n",
       "      <td>NaN</td>\n",
       "      <td>USA</td>\n",
       "      <td>3.00</td>\n",
       "      <td>2.00</td>\n",
       "      <td>3985050000.00</td>\n",
       "      <td>3.00</td>\n",
       "    </tr>\n",
       "    <tr>\n",
       "      <th>188342</th>\n",
       "      <td>5951.00</td>\n",
       "      <td>Fisker Automotive</td>\n",
       "      <td>automotive</td>\n",
       "      <td>operating</td>\n",
       "      <td>2008-01-01</td>\n",
       "      <td>NaT</td>\n",
       "      <td>fiskerautomotive.com</td>\n",
       "      <td>FiskerAuto</td>\n",
       "      <td>USA</td>\n",
       "      <td>0.00</td>\n",
       "      <td>9.00</td>\n",
       "      <td>1451000000.00</td>\n",
       "      <td>3.00</td>\n",
       "    </tr>\n",
       "    <tr>\n",
       "      <th>193712</th>\n",
       "      <td>64365.00</td>\n",
       "      <td>Carestream</td>\n",
       "      <td>biotech</td>\n",
       "      <td>operating</td>\n",
       "      <td>2007-01-01</td>\n",
       "      <td>NaT</td>\n",
       "      <td>carestream.com</td>\n",
       "      <td>carestream</td>\n",
       "      <td>USA</td>\n",
       "      <td>0.00</td>\n",
       "      <td>1.00</td>\n",
       "      <td>2400000000.00</td>\n",
       "      <td>1.00</td>\n",
       "    </tr>\n",
       "    <tr>\n",
       "      <th>217286</th>\n",
       "      <td>5.00</td>\n",
       "      <td>Socialnet</td>\n",
       "      <td>social</td>\n",
       "      <td>ipo</td>\n",
       "      <td>2004-02-01</td>\n",
       "      <td>NaT</td>\n",
       "      <td>socialnet.com</td>\n",
       "      <td>socialnet</td>\n",
       "      <td>USA</td>\n",
       "      <td>3.00</td>\n",
       "      <td>11.00</td>\n",
       "      <td>2425700000.00</td>\n",
       "      <td>5.00</td>\n",
       "    </tr>\n",
       "  </tbody>\n",
       "</table>\n",
       "</div>"
      ],
      "text/plain": [
       "        company_ID                          name  category_code     status  \\\n",
       "5517      13219.00                     Clearwire         mobile   acquired   \n",
       "88129     22568.00                      Solyndra  manufacturing  operating   \n",
       "106151   242735.00                     sigmacare         health  operating   \n",
       "175686     4843.00  Verizon Communications, Inc.         mobile        ipo   \n",
       "188342     5951.00             Fisker Automotive     automotive  operating   \n",
       "193712    64365.00                    Carestream        biotech  operating   \n",
       "217286        5.00                     Socialnet         social        ipo   \n",
       "\n",
       "       founded_at closed_at                domain network_username  \\\n",
       "5517   2003-10-01       NaT         clearwire.com              NaN   \n",
       "88129  2005-01-01       NaT          solyndra.com     SolyndraCorp   \n",
       "106151 2005-01-01       NaT         sigmacare.com     SigmaCareEHR   \n",
       "175686        NaT       NaT           verizon.com              NaN   \n",
       "188342 2008-01-01       NaT  fiskerautomotive.com       FiskerAuto   \n",
       "193712 2007-01-01       NaT        carestream.com       carestream   \n",
       "217286 2004-02-01       NaT         socialnet.com        socialnet   \n",
       "\n",
       "       country_code  investment_rounds  funding_rounds  funding_total  \\\n",
       "5517            USA               0.00            4.00  5700000000.00   \n",
       "88129           USA               0.00            9.00  1765500000.00   \n",
       "106151          USA               0.00            1.00  2600000000.00   \n",
       "175686          USA               3.00            2.00  3985050000.00   \n",
       "188342          USA               0.00            9.00  1451000000.00   \n",
       "193712          USA               0.00            1.00  2400000000.00   \n",
       "217286          USA               3.00           11.00  2425700000.00   \n",
       "\n",
       "        milestones  \n",
       "5517          2.00  \n",
       "88129         3.00  \n",
       "106151        0.00  \n",
       "175686        3.00  \n",
       "188342        3.00  \n",
       "193712        1.00  \n",
       "217286        5.00  "
      ]
     },
     "execution_count": 67,
     "metadata": {},
     "output_type": "execute_result"
    }
   ],
   "source": [
    "# Проанализируем выбросы в сторону больщих значений\n",
    "filtered_df.loc[filtered_df['funding_total'] > 1300000000]"
   ]
  },
  {
   "cell_type": "markdown",
   "metadata": {},
   "source": [
    "Тут нужно гуглить, в итоге мы видим, что:\n",
    "+ Clearwire не получали никаких инвестиций в размере 5.7млрд - это некорректные данные\n",
    "+ Solyndra действительно получила финансирование на 1.765млрд, это корректно\n",
    "+ sigmacare не финансировали на 2.6 млрд, это некорретно\n",
    "+ Verizon Communications, Inc. - нет инфо, скорее всего некорректно\n",
    "+ Fisker Automotive получали инвестиции на 1.451млрд - корректно\n",
    "+ Carestream получали инвестиции на сумму 2.4млрд - корректно\n",
    "+ Socialnet - нет инфо, скорее всего некорректно\n",
    "\n",
    "В итоге из самых значительных выбросов (а их 7), видим, что 57% из них - это некорректная информация."
   ]
  },
  {
   "cell_type": "markdown",
   "metadata": {},
   "source": [
    "Резимируем анализ распределения финансирования:\n",
    "+ самое типичное значение инвестиций - 0.6 млн \n",
    "+ в датасете огромное количество выбросов со значением \"0\" (32% данных имеют в столбце 'funding_total' это значение), это аномалия, т.е. ошибка в данных\n",
    "+ медианное значение (600000) меньше среднего значения (10135609). Это значит, что выборка отрицательно искажена (об этом и написано во 2 пункте)\n",
    "+ сильных положительных выбросов (превыщающих значение 1.3млрд) не так много - 7 компаний, 4 из которых некорректные. Однако они сильно искажают данные, из за чего средние значения и значения квартилей также искажены (анализ `describe)`\n",
    "+ максимальная сумма инвестиций собрана компанией Carestream в размере 2.4млрд"
   ]
  },
  {
   "cell_type": "markdown",
   "metadata": {
    "id": "JqkRAQrIrJg2"
   },
   "source": [
    "\n",
    "### 3.3. Куплены забесплатно? \n",
    "\n",
    "* Исследуйте компании, которые были проданы за ноль или за один доллар, и при этом известно, что у них был ненулевой общий объём финансирования. \n",
    "\n",
    "* Рассчитайте аналитически верхнюю и нижнюю границу выбросов для столбца `funding_total` и укажите, каким процентилям границы соответствуют. Учитывая озвученные выше предпосылки и собственные соображения, сделайте выводы о корректности планируемой заказчиком замены нижней и верхней границы выбросов на значения, рассчитанные по процентилям. "
   ]
  },
  {
   "cell_type": "markdown",
   "metadata": {},
   "source": [
    "Для решения задачи нужно соединить данные датасета filtered_df и acquisition, чтобы найти сумму сделки, после чего отфильтровать по условиям задачи:"
   ]
  },
  {
   "cell_type": "code",
   "execution_count": 68,
   "metadata": {
    "id": "-kA4CO27n2ql"
   },
   "outputs": [
    {
     "data": {
      "text/html": [
       "<div>\n",
       "<style scoped>\n",
       "    .dataframe tbody tr th:only-of-type {\n",
       "        vertical-align: middle;\n",
       "    }\n",
       "\n",
       "    .dataframe tbody tr th {\n",
       "        vertical-align: top;\n",
       "    }\n",
       "\n",
       "    .dataframe thead th {\n",
       "        text-align: right;\n",
       "    }\n",
       "</style>\n",
       "<table border=\"1\" class=\"dataframe\">\n",
       "  <thead>\n",
       "    <tr style=\"text-align: right;\">\n",
       "      <th></th>\n",
       "      <th>company_ID</th>\n",
       "      <th>name</th>\n",
       "      <th>category_code</th>\n",
       "      <th>status</th>\n",
       "      <th>founded_at</th>\n",
       "      <th>closed_at</th>\n",
       "      <th>domain</th>\n",
       "      <th>network_username</th>\n",
       "      <th>country_code</th>\n",
       "      <th>investment_rounds</th>\n",
       "      <th>funding_rounds</th>\n",
       "      <th>funding_total</th>\n",
       "      <th>milestones</th>\n",
       "      <th>id</th>\n",
       "      <th>acquiring_company_id</th>\n",
       "      <th>acquired_company_id</th>\n",
       "      <th>term_code</th>\n",
       "      <th>price_amount</th>\n",
       "      <th>acquired_at</th>\n",
       "    </tr>\n",
       "  </thead>\n",
       "  <tbody>\n",
       "    <tr>\n",
       "      <th>0</th>\n",
       "      <td>1.00</td>\n",
       "      <td>Wetpaint</td>\n",
       "      <td>web</td>\n",
       "      <td>operating</td>\n",
       "      <td>2005-10-17</td>\n",
       "      <td>NaT</td>\n",
       "      <td>wetpaint-inc.com</td>\n",
       "      <td>BachelrWetpaint</td>\n",
       "      <td>USA</td>\n",
       "      <td>0.00</td>\n",
       "      <td>3.00</td>\n",
       "      <td>39750000.00</td>\n",
       "      <td>5.00</td>\n",
       "      <td>NaN</td>\n",
       "      <td>NaN</td>\n",
       "      <td>NaN</td>\n",
       "      <td>NaN</td>\n",
       "      <td>NaN</td>\n",
       "      <td>NaT</td>\n",
       "    </tr>\n",
       "    <tr>\n",
       "      <th>1</th>\n",
       "      <td>10.00</td>\n",
       "      <td>Flektor</td>\n",
       "      <td>games_video</td>\n",
       "      <td>acquired</td>\n",
       "      <td>NaT</td>\n",
       "      <td>NaT</td>\n",
       "      <td>flektor.com</td>\n",
       "      <td>NaN</td>\n",
       "      <td>USA</td>\n",
       "      <td>0.00</td>\n",
       "      <td>0.00</td>\n",
       "      <td>0.00</td>\n",
       "      <td>0.00</td>\n",
       "      <td>1.00</td>\n",
       "      <td>11.00</td>\n",
       "      <td>10.00</td>\n",
       "      <td>NaN</td>\n",
       "      <td>20000000.00</td>\n",
       "      <td>2007-05-30</td>\n",
       "    </tr>\n",
       "    <tr>\n",
       "      <th>2</th>\n",
       "      <td>100.00</td>\n",
       "      <td>There</td>\n",
       "      <td>games_video</td>\n",
       "      <td>acquired</td>\n",
       "      <td>NaT</td>\n",
       "      <td>NaT</td>\n",
       "      <td>there.com</td>\n",
       "      <td>NaN</td>\n",
       "      <td>USA</td>\n",
       "      <td>0.00</td>\n",
       "      <td>0.00</td>\n",
       "      <td>0.00</td>\n",
       "      <td>4.00</td>\n",
       "      <td>20.00</td>\n",
       "      <td>377.00</td>\n",
       "      <td>100.00</td>\n",
       "      <td>cash</td>\n",
       "      <td>0.00</td>\n",
       "      <td>2005-05-29</td>\n",
       "    </tr>\n",
       "    <tr>\n",
       "      <th>3</th>\n",
       "      <td>1001.00</td>\n",
       "      <td>FriendFeed</td>\n",
       "      <td>web</td>\n",
       "      <td>acquired</td>\n",
       "      <td>2007-10-01</td>\n",
       "      <td>NaT</td>\n",
       "      <td>friendfeed.com</td>\n",
       "      <td>friendfeed</td>\n",
       "      <td>USA</td>\n",
       "      <td>0.00</td>\n",
       "      <td>1.00</td>\n",
       "      <td>5000000.00</td>\n",
       "      <td>3.00</td>\n",
       "      <td>1901.00</td>\n",
       "      <td>5.00</td>\n",
       "      <td>1001.00</td>\n",
       "      <td>cash_and_stock</td>\n",
       "      <td>47500000.00</td>\n",
       "      <td>2009-08-10</td>\n",
       "    </tr>\n",
       "    <tr>\n",
       "      <th>4</th>\n",
       "      <td>10014.00</td>\n",
       "      <td>Mobclix</td>\n",
       "      <td>mobile</td>\n",
       "      <td>acquired</td>\n",
       "      <td>2008-03-01</td>\n",
       "      <td>NaT</td>\n",
       "      <td>mobclix.com</td>\n",
       "      <td>mobclix</td>\n",
       "      <td>USA</td>\n",
       "      <td>0.00</td>\n",
       "      <td>1.00</td>\n",
       "      <td>0.00</td>\n",
       "      <td>4.00</td>\n",
       "      <td>3878.00</td>\n",
       "      <td>23054.00</td>\n",
       "      <td>10014.00</td>\n",
       "      <td>NaN</td>\n",
       "      <td>0.00</td>\n",
       "      <td>2010-09-30</td>\n",
       "    </tr>\n",
       "    <tr>\n",
       "      <th>...</th>\n",
       "      <td>...</td>\n",
       "      <td>...</td>\n",
       "      <td>...</td>\n",
       "      <td>...</td>\n",
       "      <td>...</td>\n",
       "      <td>...</td>\n",
       "      <td>...</td>\n",
       "      <td>...</td>\n",
       "      <td>...</td>\n",
       "      <td>...</td>\n",
       "      <td>...</td>\n",
       "      <td>...</td>\n",
       "      <td>...</td>\n",
       "      <td>...</td>\n",
       "      <td>...</td>\n",
       "      <td>...</td>\n",
       "      <td>...</td>\n",
       "      <td>...</td>\n",
       "      <td>...</td>\n",
       "    </tr>\n",
       "    <tr>\n",
       "      <th>40885</th>\n",
       "      <td>1344.00</td>\n",
       "      <td>Vobile</td>\n",
       "      <td>web</td>\n",
       "      <td>operating</td>\n",
       "      <td>2005-01-01</td>\n",
       "      <td>NaT</td>\n",
       "      <td>vobileinc.com</td>\n",
       "      <td>networkmobile</td>\n",
       "      <td>USA</td>\n",
       "      <td>0.00</td>\n",
       "      <td>1.00</td>\n",
       "      <td>10000000.00</td>\n",
       "      <td>0.00</td>\n",
       "      <td>NaN</td>\n",
       "      <td>NaN</td>\n",
       "      <td>NaN</td>\n",
       "      <td>NaN</td>\n",
       "      <td>NaN</td>\n",
       "      <td>NaT</td>\n",
       "    </tr>\n",
       "    <tr>\n",
       "      <th>40886</th>\n",
       "      <td>142181.00</td>\n",
       "      <td>Stop Being Watched</td>\n",
       "      <td>software</td>\n",
       "      <td>operating</td>\n",
       "      <td>2010-06-10</td>\n",
       "      <td>NaT</td>\n",
       "      <td>stopbeingwatched.com</td>\n",
       "      <td>SBWinfonetwork</td>\n",
       "      <td>USA</td>\n",
       "      <td>0.00</td>\n",
       "      <td>1.00</td>\n",
       "      <td>500000.00</td>\n",
       "      <td>1.00</td>\n",
       "      <td>NaN</td>\n",
       "      <td>NaN</td>\n",
       "      <td>NaN</td>\n",
       "      <td>NaN</td>\n",
       "      <td>NaN</td>\n",
       "      <td>NaT</td>\n",
       "    </tr>\n",
       "    <tr>\n",
       "      <th>40887</th>\n",
       "      <td>3429.00</td>\n",
       "      <td>Zend Technologies</td>\n",
       "      <td>software</td>\n",
       "      <td>operating</td>\n",
       "      <td>1999-01-01</td>\n",
       "      <td>NaT</td>\n",
       "      <td>zend.com</td>\n",
       "      <td>networkzend</td>\n",
       "      <td>USA</td>\n",
       "      <td>0.00</td>\n",
       "      <td>4.00</td>\n",
       "      <td>44000000.00</td>\n",
       "      <td>6.00</td>\n",
       "      <td>NaN</td>\n",
       "      <td>NaN</td>\n",
       "      <td>NaN</td>\n",
       "      <td>NaN</td>\n",
       "      <td>NaN</td>\n",
       "      <td>NaT</td>\n",
       "    </tr>\n",
       "    <tr>\n",
       "      <th>40888</th>\n",
       "      <td>7748.00</td>\n",
       "      <td>Flowgram</td>\n",
       "      <td>web</td>\n",
       "      <td>closed</td>\n",
       "      <td>2007-06-01</td>\n",
       "      <td>2008-06-11</td>\n",
       "      <td>flowgram.com</td>\n",
       "      <td>network</td>\n",
       "      <td>USA</td>\n",
       "      <td>0.00</td>\n",
       "      <td>1.00</td>\n",
       "      <td>1300000.00</td>\n",
       "      <td>3.00</td>\n",
       "      <td>NaN</td>\n",
       "      <td>NaN</td>\n",
       "      <td>NaN</td>\n",
       "      <td>NaN</td>\n",
       "      <td>NaN</td>\n",
       "      <td>NaT</td>\n",
       "    </tr>\n",
       "    <tr>\n",
       "      <th>40889</th>\n",
       "      <td>43233.00</td>\n",
       "      <td>Photonet</td>\n",
       "      <td>photo_video</td>\n",
       "      <td>acquired</td>\n",
       "      <td>2010-03-01</td>\n",
       "      <td>NaT</td>\n",
       "      <td>Photonet.com</td>\n",
       "      <td>Photonet</td>\n",
       "      <td>USA</td>\n",
       "      <td>0.00</td>\n",
       "      <td>3.00</td>\n",
       "      <td>57500000.00</td>\n",
       "      <td>3.00</td>\n",
       "      <td>6968.00</td>\n",
       "      <td>5.00</td>\n",
       "      <td>43233.00</td>\n",
       "      <td>cash_and_stock</td>\n",
       "      <td>1010470000.00</td>\n",
       "      <td>2012-04-09</td>\n",
       "    </tr>\n",
       "  </tbody>\n",
       "</table>\n",
       "<p>40890 rows × 19 columns</p>\n",
       "</div>"
      ],
      "text/plain": [
       "       company_ID                name category_code     status founded_at  \\\n",
       "0            1.00            Wetpaint           web  operating 2005-10-17   \n",
       "1           10.00             Flektor   games_video   acquired        NaT   \n",
       "2          100.00               There   games_video   acquired        NaT   \n",
       "3         1001.00          FriendFeed           web   acquired 2007-10-01   \n",
       "4        10014.00             Mobclix        mobile   acquired 2008-03-01   \n",
       "...           ...                 ...           ...        ...        ...   \n",
       "40885     1344.00              Vobile           web  operating 2005-01-01   \n",
       "40886   142181.00  Stop Being Watched      software  operating 2010-06-10   \n",
       "40887     3429.00   Zend Technologies      software  operating 1999-01-01   \n",
       "40888     7748.00            Flowgram           web     closed 2007-06-01   \n",
       "40889    43233.00            Photonet   photo_video   acquired 2010-03-01   \n",
       "\n",
       "       closed_at                domain network_username country_code  \\\n",
       "0            NaT      wetpaint-inc.com  BachelrWetpaint          USA   \n",
       "1            NaT           flektor.com              NaN          USA   \n",
       "2            NaT             there.com              NaN          USA   \n",
       "3            NaT        friendfeed.com       friendfeed          USA   \n",
       "4            NaT           mobclix.com          mobclix          USA   \n",
       "...          ...                   ...              ...          ...   \n",
       "40885        NaT         vobileinc.com    networkmobile          USA   \n",
       "40886        NaT  stopbeingwatched.com   SBWinfonetwork          USA   \n",
       "40887        NaT              zend.com      networkzend          USA   \n",
       "40888 2008-06-11          flowgram.com          network          USA   \n",
       "40889        NaT          Photonet.com         Photonet          USA   \n",
       "\n",
       "       investment_rounds  funding_rounds  funding_total  milestones       id  \\\n",
       "0                   0.00            3.00    39750000.00        5.00      NaN   \n",
       "1                   0.00            0.00           0.00        0.00     1.00   \n",
       "2                   0.00            0.00           0.00        4.00    20.00   \n",
       "3                   0.00            1.00     5000000.00        3.00  1901.00   \n",
       "4                   0.00            1.00           0.00        4.00  3878.00   \n",
       "...                  ...             ...            ...         ...      ...   \n",
       "40885               0.00            1.00    10000000.00        0.00      NaN   \n",
       "40886               0.00            1.00      500000.00        1.00      NaN   \n",
       "40887               0.00            4.00    44000000.00        6.00      NaN   \n",
       "40888               0.00            1.00     1300000.00        3.00      NaN   \n",
       "40889               0.00            3.00    57500000.00        3.00  6968.00   \n",
       "\n",
       "       acquiring_company_id  acquired_company_id       term_code  \\\n",
       "0                       NaN                  NaN             NaN   \n",
       "1                     11.00                10.00             NaN   \n",
       "2                    377.00               100.00            cash   \n",
       "3                      5.00              1001.00  cash_and_stock   \n",
       "4                  23054.00             10014.00             NaN   \n",
       "...                     ...                  ...             ...   \n",
       "40885                   NaN                  NaN             NaN   \n",
       "40886                   NaN                  NaN             NaN   \n",
       "40887                   NaN                  NaN             NaN   \n",
       "40888                   NaN                  NaN             NaN   \n",
       "40889                  5.00             43233.00  cash_and_stock   \n",
       "\n",
       "        price_amount acquired_at  \n",
       "0                NaN         NaT  \n",
       "1        20000000.00  2007-05-30  \n",
       "2               0.00  2005-05-29  \n",
       "3        47500000.00  2009-08-10  \n",
       "4               0.00  2010-09-30  \n",
       "...              ...         ...  \n",
       "40885            NaN         NaT  \n",
       "40886            NaN         NaT  \n",
       "40887            NaN         NaT  \n",
       "40888            NaN         NaT  \n",
       "40889  1010470000.00  2012-04-09  \n",
       "\n",
       "[40890 rows x 19 columns]"
      ]
     },
     "metadata": {},
     "output_type": "display_data"
    }
   ],
   "source": [
    "# Объединим filtered_df и acquisition\n",
    "free_company = filtered_df.merge(acquisition, left_on='company_ID', right_on='acquired_company_id', how='left')\n",
    "display(free_company)"
   ]
  },
  {
   "cell_type": "code",
   "execution_count": 69,
   "metadata": {},
   "outputs": [
    {
     "data": {
      "text/html": [
       "<div>\n",
       "<style scoped>\n",
       "    .dataframe tbody tr th:only-of-type {\n",
       "        vertical-align: middle;\n",
       "    }\n",
       "\n",
       "    .dataframe tbody tr th {\n",
       "        vertical-align: top;\n",
       "    }\n",
       "\n",
       "    .dataframe thead th {\n",
       "        text-align: right;\n",
       "    }\n",
       "</style>\n",
       "<table border=\"1\" class=\"dataframe\">\n",
       "  <thead>\n",
       "    <tr style=\"text-align: right;\">\n",
       "      <th></th>\n",
       "      <th>company_ID</th>\n",
       "      <th>name</th>\n",
       "      <th>category_code</th>\n",
       "      <th>status</th>\n",
       "      <th>founded_at</th>\n",
       "      <th>closed_at</th>\n",
       "      <th>domain</th>\n",
       "      <th>network_username</th>\n",
       "      <th>country_code</th>\n",
       "      <th>investment_rounds</th>\n",
       "      <th>funding_rounds</th>\n",
       "      <th>funding_total</th>\n",
       "      <th>milestones</th>\n",
       "      <th>id</th>\n",
       "      <th>acquiring_company_id</th>\n",
       "      <th>acquired_company_id</th>\n",
       "      <th>term_code</th>\n",
       "      <th>price_amount</th>\n",
       "      <th>acquired_at</th>\n",
       "    </tr>\n",
       "  </thead>\n",
       "  <tbody>\n",
       "    <tr>\n",
       "      <th>25</th>\n",
       "      <td>10054.00</td>\n",
       "      <td>Jumptap</td>\n",
       "      <td>mobile</td>\n",
       "      <td>acquired</td>\n",
       "      <td>2005-01-01</td>\n",
       "      <td>NaT</td>\n",
       "      <td>jumptap.com</td>\n",
       "      <td>jumptap</td>\n",
       "      <td>USA</td>\n",
       "      <td>0.00</td>\n",
       "      <td>7.00</td>\n",
       "      <td>121500000.00</td>\n",
       "      <td>3.00</td>\n",
       "      <td>9288.00</td>\n",
       "      <td>23283.00</td>\n",
       "      <td>10054.00</td>\n",
       "      <td>cash_and_stock</td>\n",
       "      <td>0.00</td>\n",
       "      <td>2013-08-13</td>\n",
       "    </tr>\n",
       "    <tr>\n",
       "      <th>63</th>\n",
       "      <td>101312.00</td>\n",
       "      <td>SideTour</td>\n",
       "      <td>web</td>\n",
       "      <td>acquired</td>\n",
       "      <td>2011-06-01</td>\n",
       "      <td>NaT</td>\n",
       "      <td>sidetour.com</td>\n",
       "      <td>sidetour</td>\n",
       "      <td>USA</td>\n",
       "      <td>0.00</td>\n",
       "      <td>3.00</td>\n",
       "      <td>4000000.00</td>\n",
       "      <td>2.00</td>\n",
       "      <td>9653.00</td>\n",
       "      <td>11391.00</td>\n",
       "      <td>101312.00</td>\n",
       "      <td>NaN</td>\n",
       "      <td>0.00</td>\n",
       "      <td>2013-09-18</td>\n",
       "    </tr>\n",
       "    <tr>\n",
       "      <th>66</th>\n",
       "      <td>101340.00</td>\n",
       "      <td>ChoicePass</td>\n",
       "      <td>enterprise</td>\n",
       "      <td>acquired</td>\n",
       "      <td>2011-07-01</td>\n",
       "      <td>NaT</td>\n",
       "      <td>choicepass.com</td>\n",
       "      <td>choicepass</td>\n",
       "      <td>USA</td>\n",
       "      <td>0.00</td>\n",
       "      <td>1.00</td>\n",
       "      <td>250000.00</td>\n",
       "      <td>1.00</td>\n",
       "      <td>7272.00</td>\n",
       "      <td>1972.00</td>\n",
       "      <td>101340.00</td>\n",
       "      <td>NaN</td>\n",
       "      <td>0.00</td>\n",
       "      <td>2012-06-18</td>\n",
       "    </tr>\n",
       "    <tr>\n",
       "      <th>67</th>\n",
       "      <td>10137.00</td>\n",
       "      <td>Producteev</td>\n",
       "      <td>software</td>\n",
       "      <td>acquired</td>\n",
       "      <td>2008-07-08</td>\n",
       "      <td>NaT</td>\n",
       "      <td>producteev.com</td>\n",
       "      <td>producteev</td>\n",
       "      <td>USA</td>\n",
       "      <td>0.00</td>\n",
       "      <td>3.00</td>\n",
       "      <td>1310000.00</td>\n",
       "      <td>2.00</td>\n",
       "      <td>8254.00</td>\n",
       "      <td>757.00</td>\n",
       "      <td>10137.00</td>\n",
       "      <td>cash_and_stock</td>\n",
       "      <td>0.00</td>\n",
       "      <td>2012-11-05</td>\n",
       "    </tr>\n",
       "    <tr>\n",
       "      <th>68</th>\n",
       "      <td>10139.00</td>\n",
       "      <td>TradeCard</td>\n",
       "      <td>enterprise</td>\n",
       "      <td>acquired</td>\n",
       "      <td>1999-01-01</td>\n",
       "      <td>NaT</td>\n",
       "      <td>tradecard.com</td>\n",
       "      <td>TradeCard</td>\n",
       "      <td>USA</td>\n",
       "      <td>0.00</td>\n",
       "      <td>2.00</td>\n",
       "      <td>44925000.00</td>\n",
       "      <td>1.00</td>\n",
       "      <td>9326.00</td>\n",
       "      <td>44008.00</td>\n",
       "      <td>10139.00</td>\n",
       "      <td>NaN</td>\n",
       "      <td>0.00</td>\n",
       "      <td>2013-04-01</td>\n",
       "    </tr>\n",
       "    <tr>\n",
       "      <th>...</th>\n",
       "      <td>...</td>\n",
       "      <td>...</td>\n",
       "      <td>...</td>\n",
       "      <td>...</td>\n",
       "      <td>...</td>\n",
       "      <td>...</td>\n",
       "      <td>...</td>\n",
       "      <td>...</td>\n",
       "      <td>...</td>\n",
       "      <td>...</td>\n",
       "      <td>...</td>\n",
       "      <td>...</td>\n",
       "      <td>...</td>\n",
       "      <td>...</td>\n",
       "      <td>...</td>\n",
       "      <td>...</td>\n",
       "      <td>...</td>\n",
       "      <td>...</td>\n",
       "      <td>...</td>\n",
       "    </tr>\n",
       "    <tr>\n",
       "      <th>40834</th>\n",
       "      <td>99.00</td>\n",
       "      <td>Amie Street</td>\n",
       "      <td>web</td>\n",
       "      <td>acquired</td>\n",
       "      <td>2011-07-04</td>\n",
       "      <td>NaT</td>\n",
       "      <td>amiestreet.com</td>\n",
       "      <td>amiestreet_logs</td>\n",
       "      <td>USA</td>\n",
       "      <td>0.00</td>\n",
       "      <td>2.00</td>\n",
       "      <td>3900000.00</td>\n",
       "      <td>0.00</td>\n",
       "      <td>7024.00</td>\n",
       "      <td>317.00</td>\n",
       "      <td>99.00</td>\n",
       "      <td>NaN</td>\n",
       "      <td>0.00</td>\n",
       "      <td>2010-09-22</td>\n",
       "    </tr>\n",
       "    <tr>\n",
       "      <th>40836</th>\n",
       "      <td>9905.00</td>\n",
       "      <td>UBmatrix</td>\n",
       "      <td>software</td>\n",
       "      <td>acquired</td>\n",
       "      <td>2005-01-01</td>\n",
       "      <td>NaT</td>\n",
       "      <td>ubmatrix.com</td>\n",
       "      <td>NaN</td>\n",
       "      <td>USA</td>\n",
       "      <td>0.00</td>\n",
       "      <td>2.00</td>\n",
       "      <td>5172350.00</td>\n",
       "      <td>0.00</td>\n",
       "      <td>3381.00</td>\n",
       "      <td>41119.00</td>\n",
       "      <td>9905.00</td>\n",
       "      <td>NaN</td>\n",
       "      <td>0.00</td>\n",
       "      <td>2010-06-24</td>\n",
       "    </tr>\n",
       "    <tr>\n",
       "      <th>40840</th>\n",
       "      <td>992.00</td>\n",
       "      <td>wunderloop</td>\n",
       "      <td>advertising</td>\n",
       "      <td>acquired</td>\n",
       "      <td>1999-01-01</td>\n",
       "      <td>NaT</td>\n",
       "      <td>wunderloop.com</td>\n",
       "      <td>NaN</td>\n",
       "      <td>USA</td>\n",
       "      <td>0.00</td>\n",
       "      <td>1.00</td>\n",
       "      <td>10000000.00</td>\n",
       "      <td>1.00</td>\n",
       "      <td>9916.00</td>\n",
       "      <td>19182.00</td>\n",
       "      <td>992.00</td>\n",
       "      <td>NaN</td>\n",
       "      <td>0.00</td>\n",
       "      <td>2010-07-02</td>\n",
       "    </tr>\n",
       "    <tr>\n",
       "      <th>40854</th>\n",
       "      <td>997.00</td>\n",
       "      <td>Zimbra</td>\n",
       "      <td>enterprise</td>\n",
       "      <td>acquired</td>\n",
       "      <td>2003-01-01</td>\n",
       "      <td>NaT</td>\n",
       "      <td>zimbra.com</td>\n",
       "      <td>zimbra</td>\n",
       "      <td>USA</td>\n",
       "      <td>0.00</td>\n",
       "      <td>1.00</td>\n",
       "      <td>14500000.00</td>\n",
       "      <td>3.00</td>\n",
       "      <td>9121.00</td>\n",
       "      <td>415.00</td>\n",
       "      <td>997.00</td>\n",
       "      <td>NaN</td>\n",
       "      <td>0.00</td>\n",
       "      <td>2013-07-15</td>\n",
       "    </tr>\n",
       "    <tr>\n",
       "      <th>40872</th>\n",
       "      <td>153326.00</td>\n",
       "      <td>Yoke</td>\n",
       "      <td>web</td>\n",
       "      <td>acquired</td>\n",
       "      <td>NaT</td>\n",
       "      <td>NaT</td>\n",
       "      <td>apps.socialnet.com::yokeapp</td>\n",
       "      <td>NaN</td>\n",
       "      <td>NaN</td>\n",
       "      <td>0.00</td>\n",
       "      <td>1.00</td>\n",
       "      <td>500000.00</td>\n",
       "      <td>1.00</td>\n",
       "      <td>7948.00</td>\n",
       "      <td>2352.00</td>\n",
       "      <td>153326.00</td>\n",
       "      <td>NaN</td>\n",
       "      <td>0.00</td>\n",
       "      <td>2012-09-11</td>\n",
       "    </tr>\n",
       "  </tbody>\n",
       "</table>\n",
       "<p>1618 rows × 19 columns</p>\n",
       "</div>"
      ],
      "text/plain": [
       "       company_ID         name category_code    status founded_at closed_at  \\\n",
       "25       10054.00      Jumptap        mobile  acquired 2005-01-01       NaT   \n",
       "63      101312.00     SideTour           web  acquired 2011-06-01       NaT   \n",
       "66      101340.00   ChoicePass    enterprise  acquired 2011-07-01       NaT   \n",
       "67       10137.00   Producteev      software  acquired 2008-07-08       NaT   \n",
       "68       10139.00    TradeCard    enterprise  acquired 1999-01-01       NaT   \n",
       "...           ...          ...           ...       ...        ...       ...   \n",
       "40834       99.00  Amie Street           web  acquired 2011-07-04       NaT   \n",
       "40836     9905.00     UBmatrix      software  acquired 2005-01-01       NaT   \n",
       "40840      992.00   wunderloop   advertising  acquired 1999-01-01       NaT   \n",
       "40854      997.00       Zimbra    enterprise  acquired 2003-01-01       NaT   \n",
       "40872   153326.00         Yoke           web  acquired        NaT       NaT   \n",
       "\n",
       "                            domain network_username country_code  \\\n",
       "25                     jumptap.com          jumptap          USA   \n",
       "63                    sidetour.com         sidetour          USA   \n",
       "66                  choicepass.com       choicepass          USA   \n",
       "67                  producteev.com       producteev          USA   \n",
       "68                   tradecard.com        TradeCard          USA   \n",
       "...                            ...              ...          ...   \n",
       "40834               amiestreet.com  amiestreet_logs          USA   \n",
       "40836                 ubmatrix.com              NaN          USA   \n",
       "40840               wunderloop.com              NaN          USA   \n",
       "40854                   zimbra.com           zimbra          USA   \n",
       "40872  apps.socialnet.com::yokeapp              NaN          NaN   \n",
       "\n",
       "       investment_rounds  funding_rounds  funding_total  milestones       id  \\\n",
       "25                  0.00            7.00   121500000.00        3.00  9288.00   \n",
       "63                  0.00            3.00     4000000.00        2.00  9653.00   \n",
       "66                  0.00            1.00      250000.00        1.00  7272.00   \n",
       "67                  0.00            3.00     1310000.00        2.00  8254.00   \n",
       "68                  0.00            2.00    44925000.00        1.00  9326.00   \n",
       "...                  ...             ...            ...         ...      ...   \n",
       "40834               0.00            2.00     3900000.00        0.00  7024.00   \n",
       "40836               0.00            2.00     5172350.00        0.00  3381.00   \n",
       "40840               0.00            1.00    10000000.00        1.00  9916.00   \n",
       "40854               0.00            1.00    14500000.00        3.00  9121.00   \n",
       "40872               0.00            1.00      500000.00        1.00  7948.00   \n",
       "\n",
       "       acquiring_company_id  acquired_company_id       term_code  \\\n",
       "25                 23283.00             10054.00  cash_and_stock   \n",
       "63                 11391.00            101312.00             NaN   \n",
       "66                  1972.00            101340.00             NaN   \n",
       "67                   757.00             10137.00  cash_and_stock   \n",
       "68                 44008.00             10139.00             NaN   \n",
       "...                     ...                  ...             ...   \n",
       "40834                317.00                99.00             NaN   \n",
       "40836              41119.00              9905.00             NaN   \n",
       "40840              19182.00               992.00             NaN   \n",
       "40854                415.00               997.00             NaN   \n",
       "40872               2352.00            153326.00             NaN   \n",
       "\n",
       "       price_amount acquired_at  \n",
       "25             0.00  2013-08-13  \n",
       "63             0.00  2013-09-18  \n",
       "66             0.00  2012-06-18  \n",
       "67             0.00  2012-11-05  \n",
       "68             0.00  2013-04-01  \n",
       "...             ...         ...  \n",
       "40834          0.00  2010-09-22  \n",
       "40836          0.00  2010-06-24  \n",
       "40840          0.00  2010-07-02  \n",
       "40854          0.00  2013-07-15  \n",
       "40872          0.00  2012-09-11  \n",
       "\n",
       "[1618 rows x 19 columns]"
      ]
     },
     "metadata": {},
     "output_type": "display_data"
    }
   ],
   "source": [
    "# Отфильтрует полученный датасет по заданным условиям\n",
    "free_company = free_company[(free_company['funding_total'] > 0 ) & ((free_company['price_amount'] == 0) | (free_company['price_amount'] == 1))]\n",
    "display(free_company)"
   ]
  },
  {
   "cell_type": "code",
   "execution_count": 70,
   "metadata": {},
   "outputs": [
    {
     "data": {
      "text/plain": [
       "25"
      ]
     },
     "execution_count": 70,
     "metadata": {},
     "output_type": "execute_result"
    }
   ],
   "source": [
    "# Проверим на дубли\n",
    "free_company['company_ID'].duplicated().sum()"
   ]
  },
  {
   "cell_type": "code",
   "execution_count": 71,
   "metadata": {
    "scrolled": false
   },
   "outputs": [
    {
     "data": {
      "text/html": [
       "<div>\n",
       "<style scoped>\n",
       "    .dataframe tbody tr th:only-of-type {\n",
       "        vertical-align: middle;\n",
       "    }\n",
       "\n",
       "    .dataframe tbody tr th {\n",
       "        vertical-align: top;\n",
       "    }\n",
       "\n",
       "    .dataframe thead th {\n",
       "        text-align: right;\n",
       "    }\n",
       "</style>\n",
       "<table border=\"1\" class=\"dataframe\">\n",
       "  <thead>\n",
       "    <tr style=\"text-align: right;\">\n",
       "      <th></th>\n",
       "      <th>company_ID</th>\n",
       "      <th>name</th>\n",
       "      <th>category_code</th>\n",
       "      <th>status</th>\n",
       "      <th>founded_at</th>\n",
       "      <th>closed_at</th>\n",
       "      <th>domain</th>\n",
       "      <th>network_username</th>\n",
       "      <th>country_code</th>\n",
       "      <th>investment_rounds</th>\n",
       "      <th>funding_rounds</th>\n",
       "      <th>funding_total</th>\n",
       "      <th>milestones</th>\n",
       "      <th>id</th>\n",
       "      <th>acquiring_company_id</th>\n",
       "      <th>acquired_company_id</th>\n",
       "      <th>term_code</th>\n",
       "      <th>price_amount</th>\n",
       "      <th>acquired_at</th>\n",
       "    </tr>\n",
       "  </thead>\n",
       "  <tbody>\n",
       "    <tr>\n",
       "      <th>25</th>\n",
       "      <td>10054.00</td>\n",
       "      <td>Jumptap</td>\n",
       "      <td>mobile</td>\n",
       "      <td>acquired</td>\n",
       "      <td>2005-01-01</td>\n",
       "      <td>NaT</td>\n",
       "      <td>jumptap.com</td>\n",
       "      <td>jumptap</td>\n",
       "      <td>USA</td>\n",
       "      <td>0.00</td>\n",
       "      <td>7.00</td>\n",
       "      <td>121500000.00</td>\n",
       "      <td>3.00</td>\n",
       "      <td>9288.00</td>\n",
       "      <td>23283.00</td>\n",
       "      <td>10054.00</td>\n",
       "      <td>cash_and_stock</td>\n",
       "      <td>0.00</td>\n",
       "      <td>2013-08-13</td>\n",
       "    </tr>\n",
       "    <tr>\n",
       "      <th>63</th>\n",
       "      <td>101312.00</td>\n",
       "      <td>SideTour</td>\n",
       "      <td>web</td>\n",
       "      <td>acquired</td>\n",
       "      <td>2011-06-01</td>\n",
       "      <td>NaT</td>\n",
       "      <td>sidetour.com</td>\n",
       "      <td>sidetour</td>\n",
       "      <td>USA</td>\n",
       "      <td>0.00</td>\n",
       "      <td>3.00</td>\n",
       "      <td>4000000.00</td>\n",
       "      <td>2.00</td>\n",
       "      <td>9653.00</td>\n",
       "      <td>11391.00</td>\n",
       "      <td>101312.00</td>\n",
       "      <td>NaN</td>\n",
       "      <td>0.00</td>\n",
       "      <td>2013-09-18</td>\n",
       "    </tr>\n",
       "    <tr>\n",
       "      <th>66</th>\n",
       "      <td>101340.00</td>\n",
       "      <td>ChoicePass</td>\n",
       "      <td>enterprise</td>\n",
       "      <td>acquired</td>\n",
       "      <td>2011-07-01</td>\n",
       "      <td>NaT</td>\n",
       "      <td>choicepass.com</td>\n",
       "      <td>choicepass</td>\n",
       "      <td>USA</td>\n",
       "      <td>0.00</td>\n",
       "      <td>1.00</td>\n",
       "      <td>250000.00</td>\n",
       "      <td>1.00</td>\n",
       "      <td>7272.00</td>\n",
       "      <td>1972.00</td>\n",
       "      <td>101340.00</td>\n",
       "      <td>NaN</td>\n",
       "      <td>0.00</td>\n",
       "      <td>2012-06-18</td>\n",
       "    </tr>\n",
       "    <tr>\n",
       "      <th>67</th>\n",
       "      <td>10137.00</td>\n",
       "      <td>Producteev</td>\n",
       "      <td>software</td>\n",
       "      <td>acquired</td>\n",
       "      <td>2008-07-08</td>\n",
       "      <td>NaT</td>\n",
       "      <td>producteev.com</td>\n",
       "      <td>producteev</td>\n",
       "      <td>USA</td>\n",
       "      <td>0.00</td>\n",
       "      <td>3.00</td>\n",
       "      <td>1310000.00</td>\n",
       "      <td>2.00</td>\n",
       "      <td>8254.00</td>\n",
       "      <td>757.00</td>\n",
       "      <td>10137.00</td>\n",
       "      <td>cash_and_stock</td>\n",
       "      <td>0.00</td>\n",
       "      <td>2012-11-05</td>\n",
       "    </tr>\n",
       "    <tr>\n",
       "      <th>68</th>\n",
       "      <td>10139.00</td>\n",
       "      <td>TradeCard</td>\n",
       "      <td>enterprise</td>\n",
       "      <td>acquired</td>\n",
       "      <td>1999-01-01</td>\n",
       "      <td>NaT</td>\n",
       "      <td>tradecard.com</td>\n",
       "      <td>TradeCard</td>\n",
       "      <td>USA</td>\n",
       "      <td>0.00</td>\n",
       "      <td>2.00</td>\n",
       "      <td>44925000.00</td>\n",
       "      <td>1.00</td>\n",
       "      <td>9326.00</td>\n",
       "      <td>44008.00</td>\n",
       "      <td>10139.00</td>\n",
       "      <td>NaN</td>\n",
       "      <td>0.00</td>\n",
       "      <td>2013-04-01</td>\n",
       "    </tr>\n",
       "    <tr>\n",
       "      <th>...</th>\n",
       "      <td>...</td>\n",
       "      <td>...</td>\n",
       "      <td>...</td>\n",
       "      <td>...</td>\n",
       "      <td>...</td>\n",
       "      <td>...</td>\n",
       "      <td>...</td>\n",
       "      <td>...</td>\n",
       "      <td>...</td>\n",
       "      <td>...</td>\n",
       "      <td>...</td>\n",
       "      <td>...</td>\n",
       "      <td>...</td>\n",
       "      <td>...</td>\n",
       "      <td>...</td>\n",
       "      <td>...</td>\n",
       "      <td>...</td>\n",
       "      <td>...</td>\n",
       "      <td>...</td>\n",
       "    </tr>\n",
       "    <tr>\n",
       "      <th>40834</th>\n",
       "      <td>99.00</td>\n",
       "      <td>Amie Street</td>\n",
       "      <td>web</td>\n",
       "      <td>acquired</td>\n",
       "      <td>2011-07-04</td>\n",
       "      <td>NaT</td>\n",
       "      <td>amiestreet.com</td>\n",
       "      <td>amiestreet_logs</td>\n",
       "      <td>USA</td>\n",
       "      <td>0.00</td>\n",
       "      <td>2.00</td>\n",
       "      <td>3900000.00</td>\n",
       "      <td>0.00</td>\n",
       "      <td>7024.00</td>\n",
       "      <td>317.00</td>\n",
       "      <td>99.00</td>\n",
       "      <td>NaN</td>\n",
       "      <td>0.00</td>\n",
       "      <td>2010-09-22</td>\n",
       "    </tr>\n",
       "    <tr>\n",
       "      <th>40836</th>\n",
       "      <td>9905.00</td>\n",
       "      <td>UBmatrix</td>\n",
       "      <td>software</td>\n",
       "      <td>acquired</td>\n",
       "      <td>2005-01-01</td>\n",
       "      <td>NaT</td>\n",
       "      <td>ubmatrix.com</td>\n",
       "      <td>NaN</td>\n",
       "      <td>USA</td>\n",
       "      <td>0.00</td>\n",
       "      <td>2.00</td>\n",
       "      <td>5172350.00</td>\n",
       "      <td>0.00</td>\n",
       "      <td>3381.00</td>\n",
       "      <td>41119.00</td>\n",
       "      <td>9905.00</td>\n",
       "      <td>NaN</td>\n",
       "      <td>0.00</td>\n",
       "      <td>2010-06-24</td>\n",
       "    </tr>\n",
       "    <tr>\n",
       "      <th>40840</th>\n",
       "      <td>992.00</td>\n",
       "      <td>wunderloop</td>\n",
       "      <td>advertising</td>\n",
       "      <td>acquired</td>\n",
       "      <td>1999-01-01</td>\n",
       "      <td>NaT</td>\n",
       "      <td>wunderloop.com</td>\n",
       "      <td>NaN</td>\n",
       "      <td>USA</td>\n",
       "      <td>0.00</td>\n",
       "      <td>1.00</td>\n",
       "      <td>10000000.00</td>\n",
       "      <td>1.00</td>\n",
       "      <td>9916.00</td>\n",
       "      <td>19182.00</td>\n",
       "      <td>992.00</td>\n",
       "      <td>NaN</td>\n",
       "      <td>0.00</td>\n",
       "      <td>2010-07-02</td>\n",
       "    </tr>\n",
       "    <tr>\n",
       "      <th>40854</th>\n",
       "      <td>997.00</td>\n",
       "      <td>Zimbra</td>\n",
       "      <td>enterprise</td>\n",
       "      <td>acquired</td>\n",
       "      <td>2003-01-01</td>\n",
       "      <td>NaT</td>\n",
       "      <td>zimbra.com</td>\n",
       "      <td>zimbra</td>\n",
       "      <td>USA</td>\n",
       "      <td>0.00</td>\n",
       "      <td>1.00</td>\n",
       "      <td>14500000.00</td>\n",
       "      <td>3.00</td>\n",
       "      <td>9121.00</td>\n",
       "      <td>415.00</td>\n",
       "      <td>997.00</td>\n",
       "      <td>NaN</td>\n",
       "      <td>0.00</td>\n",
       "      <td>2013-07-15</td>\n",
       "    </tr>\n",
       "    <tr>\n",
       "      <th>40872</th>\n",
       "      <td>153326.00</td>\n",
       "      <td>Yoke</td>\n",
       "      <td>web</td>\n",
       "      <td>acquired</td>\n",
       "      <td>NaT</td>\n",
       "      <td>NaT</td>\n",
       "      <td>apps.socialnet.com::yokeapp</td>\n",
       "      <td>NaN</td>\n",
       "      <td>NaN</td>\n",
       "      <td>0.00</td>\n",
       "      <td>1.00</td>\n",
       "      <td>500000.00</td>\n",
       "      <td>1.00</td>\n",
       "      <td>7948.00</td>\n",
       "      <td>2352.00</td>\n",
       "      <td>153326.00</td>\n",
       "      <td>NaN</td>\n",
       "      <td>0.00</td>\n",
       "      <td>2012-09-11</td>\n",
       "    </tr>\n",
       "  </tbody>\n",
       "</table>\n",
       "<p>1593 rows × 19 columns</p>\n",
       "</div>"
      ],
      "text/plain": [
       "       company_ID         name category_code    status founded_at closed_at  \\\n",
       "25       10054.00      Jumptap        mobile  acquired 2005-01-01       NaT   \n",
       "63      101312.00     SideTour           web  acquired 2011-06-01       NaT   \n",
       "66      101340.00   ChoicePass    enterprise  acquired 2011-07-01       NaT   \n",
       "67       10137.00   Producteev      software  acquired 2008-07-08       NaT   \n",
       "68       10139.00    TradeCard    enterprise  acquired 1999-01-01       NaT   \n",
       "...           ...          ...           ...       ...        ...       ...   \n",
       "40834       99.00  Amie Street           web  acquired 2011-07-04       NaT   \n",
       "40836     9905.00     UBmatrix      software  acquired 2005-01-01       NaT   \n",
       "40840      992.00   wunderloop   advertising  acquired 1999-01-01       NaT   \n",
       "40854      997.00       Zimbra    enterprise  acquired 2003-01-01       NaT   \n",
       "40872   153326.00         Yoke           web  acquired        NaT       NaT   \n",
       "\n",
       "                            domain network_username country_code  \\\n",
       "25                     jumptap.com          jumptap          USA   \n",
       "63                    sidetour.com         sidetour          USA   \n",
       "66                  choicepass.com       choicepass          USA   \n",
       "67                  producteev.com       producteev          USA   \n",
       "68                   tradecard.com        TradeCard          USA   \n",
       "...                            ...              ...          ...   \n",
       "40834               amiestreet.com  amiestreet_logs          USA   \n",
       "40836                 ubmatrix.com              NaN          USA   \n",
       "40840               wunderloop.com              NaN          USA   \n",
       "40854                   zimbra.com           zimbra          USA   \n",
       "40872  apps.socialnet.com::yokeapp              NaN          NaN   \n",
       "\n",
       "       investment_rounds  funding_rounds  funding_total  milestones       id  \\\n",
       "25                  0.00            7.00   121500000.00        3.00  9288.00   \n",
       "63                  0.00            3.00     4000000.00        2.00  9653.00   \n",
       "66                  0.00            1.00      250000.00        1.00  7272.00   \n",
       "67                  0.00            3.00     1310000.00        2.00  8254.00   \n",
       "68                  0.00            2.00    44925000.00        1.00  9326.00   \n",
       "...                  ...             ...            ...         ...      ...   \n",
       "40834               0.00            2.00     3900000.00        0.00  7024.00   \n",
       "40836               0.00            2.00     5172350.00        0.00  3381.00   \n",
       "40840               0.00            1.00    10000000.00        1.00  9916.00   \n",
       "40854               0.00            1.00    14500000.00        3.00  9121.00   \n",
       "40872               0.00            1.00      500000.00        1.00  7948.00   \n",
       "\n",
       "       acquiring_company_id  acquired_company_id       term_code  \\\n",
       "25                 23283.00             10054.00  cash_and_stock   \n",
       "63                 11391.00            101312.00             NaN   \n",
       "66                  1972.00            101340.00             NaN   \n",
       "67                   757.00             10137.00  cash_and_stock   \n",
       "68                 44008.00             10139.00             NaN   \n",
       "...                     ...                  ...             ...   \n",
       "40834                317.00                99.00             NaN   \n",
       "40836              41119.00              9905.00             NaN   \n",
       "40840              19182.00               992.00             NaN   \n",
       "40854                415.00               997.00             NaN   \n",
       "40872               2352.00            153326.00             NaN   \n",
       "\n",
       "       price_amount acquired_at  \n",
       "25             0.00  2013-08-13  \n",
       "63             0.00  2013-09-18  \n",
       "66             0.00  2012-06-18  \n",
       "67             0.00  2012-11-05  \n",
       "68             0.00  2013-04-01  \n",
       "...             ...         ...  \n",
       "40834          0.00  2010-09-22  \n",
       "40836          0.00  2010-06-24  \n",
       "40840          0.00  2010-07-02  \n",
       "40854          0.00  2013-07-15  \n",
       "40872          0.00  2012-09-11  \n",
       "\n",
       "[1593 rows x 19 columns]"
      ]
     },
     "metadata": {},
     "output_type": "display_data"
    }
   ],
   "source": [
    "# Удалим дубли\n",
    "free_company = free_company.drop_duplicates(subset='company_ID')\n",
    "display(free_company)"
   ]
  },
  {
   "cell_type": "markdown",
   "metadata": {},
   "source": [
    "Рассчитайте аналитически верхнюю и нижнюю границу выбросов для столбца funding_total и укажите, каким процентилям границы соответствуют. Учитывая озвученные выше предпосылки и собственные соображения, сделайте выводы о корректности планируемой заказчиком замены нижней и верхней границы выбросов на значения, рассчитанные по процентилям "
   ]
  },
  {
   "cell_type": "code",
   "execution_count": 72,
   "metadata": {},
   "outputs": [
    {
     "data": {
      "text/plain": [
       "count          1593.00\n",
       "mean       17989939.46\n",
       "std       145312235.70\n",
       "min            3750.00\n",
       "25%         2000000.00\n",
       "50%         6000000.00\n",
       "75%        15400000.00\n",
       "max      5700000000.00\n",
       "Name: funding_total, dtype: float64"
      ]
     },
     "execution_count": 72,
     "metadata": {},
     "output_type": "execute_result"
    }
   ],
   "source": [
    "# Выведем описание столбца funding_total\n",
    "free_company['funding_total'].describe()"
   ]
  },
  {
   "cell_type": "code",
   "execution_count": 73,
   "metadata": {},
   "outputs": [
    {
     "name": "stdout",
     "output_type": "stream",
     "text": [
      "Нижняя граница выбросов:\n",
      "-18100000.0\n",
      "Однако брать за нижнюю нижнюю границу отрицательное число - некорректно, поэтому возьмем за нижнюю границу выбросов минимальное значение:\n",
      "3750.0\n",
      "Верхняя граница выбросов:\n",
      "22100000.0\n"
     ]
    }
   ],
   "source": [
    "# Рассчитаем аналитически верхнюю и нижнюю границу выбросов для столбца funding_total\n",
    "q1 = 2000000\n",
    "q3 = 15400000\n",
    "iqr = q3 - q1\n",
    "\n",
    "lower_limit = q1 - 1.5 * iqr\n",
    "upper_limit = q1 + 1.5 * iqr\n",
    "\n",
    "print('Нижняя граница выбросов:')\n",
    "print(lower_limit)\n",
    "print('Однако брать за нижнюю нижнюю границу отрицательное число - некорректно, поэтому возьмем за нижнюю границу выбросов минимальное значение:')\n",
    "print(free_company['funding_total'].min())\n",
    "\n",
    "print('Верхняя граница выбросов:')\n",
    "print(upper_limit)"
   ]
  },
  {
   "cell_type": "markdown",
   "metadata": {},
   "source": [
    "Видим, что выбросы значительно искажают данные, поэтому визуализируем 2 вида ящика с усиками"
   ]
  },
  {
   "cell_type": "code",
   "execution_count": 74,
   "metadata": {},
   "outputs": [
    {
     "data": {
      "image/png": "[encoded data removed]",
      "text/plain": [
       "<Figure size 432x288 with 1 Axes>"
      ]
     },
     "metadata": {
      "needs_background": "light"
     },
     "output_type": "display_data"
    }
   ],
   "source": [
    "# Строим ящик с усиками\n",
    "box = free_company.boxplot(column='funding_total',\n",
    "                          vert=False)"
   ]
  },
  {
   "cell_type": "code",
   "execution_count": 75,
   "metadata": {},
   "outputs": [
    {
     "data": {
      "image/png": "[encoded data removed]",
      "text/plain": [
       "<Figure size 432x288 with 1 Axes>"
      ]
     },
     "metadata": {
      "needs_background": "light"
     },
     "output_type": "display_data"
    }
   ],
   "source": [
    "# Строим ящик с усиками без выбросов\n",
    "box2 = free_company.boxplot(column='funding_total',\n",
    "                          vert=False,\n",
    "                           showfliers=False)"
   ]
  },
  {
   "cell_type": "markdown",
   "metadata": {},
   "source": [
    "Анализируем график без выбросов - видим, что медианное значение около 0.6млн, минимум без учета выбросов - 0.2млн, максимум без учета выбросов 1.5млн руб. \n",
    "\n",
    "Это более приближенные к реальности данные, поэтому замена заказчиком нижней и верхней границы будет корректна."
   ]
  },
  {
   "cell_type": "markdown",
   "metadata": {
    "id": "mEiWpROjrJg2"
   },
   "source": [
    "\n",
    "### 3.4. Цены стартапов по категориям\n",
    "\n",
    "Категории стартапов с наибольшими ценами и значительным разбросом цен могут быть наиболее привлекательными для крупных инвесторов, которые готовы к высоким рискам ради потенциально больших доходов. Среди категорий стартапов выделите категории стартапов, характеризующиеся:\n",
    "\n",
    "* наибольшими ценами;\n",
    "* и наибольшим разбросом цен за стартап.\n",
    "\n",
    "Объясните, почему решили составить топ именно из такого числа категорий и почему рассчитывали именно так."
   ]
  },
  {
   "cell_type": "code",
   "execution_count": 76,
   "metadata": {
    "id": "jQ09dYUWrJg2"
   },
   "outputs": [
    {
     "data": {
      "text/html": [
       "<div>\n",
       "<style scoped>\n",
       "    .dataframe tbody tr th:only-of-type {\n",
       "        vertical-align: middle;\n",
       "    }\n",
       "\n",
       "    .dataframe tbody tr th {\n",
       "        vertical-align: top;\n",
       "    }\n",
       "\n",
       "    .dataframe thead th {\n",
       "        text-align: right;\n",
       "    }\n",
       "</style>\n",
       "<table border=\"1\" class=\"dataframe\">\n",
       "  <thead>\n",
       "    <tr style=\"text-align: right;\">\n",
       "      <th></th>\n",
       "      <th>company_ID</th>\n",
       "      <th>name</th>\n",
       "      <th>category_code</th>\n",
       "      <th>status</th>\n",
       "      <th>founded_at</th>\n",
       "      <th>closed_at</th>\n",
       "      <th>domain</th>\n",
       "      <th>network_username</th>\n",
       "      <th>country_code</th>\n",
       "      <th>investment_rounds</th>\n",
       "      <th>funding_rounds</th>\n",
       "      <th>funding_total</th>\n",
       "      <th>milestones</th>\n",
       "    </tr>\n",
       "  </thead>\n",
       "  <tbody>\n",
       "    <tr>\n",
       "      <th>159510</th>\n",
       "      <td>35192.00</td>\n",
       "      <td>Accumulate</td>\n",
       "      <td>mobile</td>\n",
       "      <td>operating</td>\n",
       "      <td>2005-01-01</td>\n",
       "      <td>NaT</td>\n",
       "      <td>accumulate.se</td>\n",
       "      <td>NaN</td>\n",
       "      <td>SWE</td>\n",
       "      <td>0.00</td>\n",
       "      <td>4.00</td>\n",
       "      <td>12050000.00</td>\n",
       "      <td>0.00</td>\n",
       "    </tr>\n",
       "    <tr>\n",
       "      <th>97754</th>\n",
       "      <td>235022.00</td>\n",
       "      <td>Cold Plasma Medical Technologies</td>\n",
       "      <td>medical</td>\n",
       "      <td>operating</td>\n",
       "      <td>2012-01-01</td>\n",
       "      <td>NaT</td>\n",
       "      <td>medicalcoldplasma.com</td>\n",
       "      <td>NaN</td>\n",
       "      <td>USA</td>\n",
       "      <td>0.00</td>\n",
       "      <td>5.00</td>\n",
       "      <td>1416160.00</td>\n",
       "      <td>0.00</td>\n",
       "    </tr>\n",
       "    <tr>\n",
       "      <th>176473</th>\n",
       "      <td>49100.00</td>\n",
       "      <td>DeerTech</td>\n",
       "      <td>other</td>\n",
       "      <td>acquired</td>\n",
       "      <td>2003-01-01</td>\n",
       "      <td>NaT</td>\n",
       "      <td>deertechusa.com</td>\n",
       "      <td>NaN</td>\n",
       "      <td>USA</td>\n",
       "      <td>0.00</td>\n",
       "      <td>1.00</td>\n",
       "      <td>4000000.00</td>\n",
       "      <td>0.00</td>\n",
       "    </tr>\n",
       "    <tr>\n",
       "      <th>200571</th>\n",
       "      <td>70716.00</td>\n",
       "      <td>Code Start</td>\n",
       "      <td>ecommerce</td>\n",
       "      <td>acquired</td>\n",
       "      <td>2010-03-01</td>\n",
       "      <td>NaT</td>\n",
       "      <td>shoppi.jp</td>\n",
       "      <td>shoppi_iPhoneAp</td>\n",
       "      <td>JPN</td>\n",
       "      <td>0.00</td>\n",
       "      <td>0.00</td>\n",
       "      <td>0.00</td>\n",
       "      <td>1.00</td>\n",
       "    </tr>\n",
       "    <tr>\n",
       "      <th>103882</th>\n",
       "      <td>240624.00</td>\n",
       "      <td>GBS/CIDP Foundation International</td>\n",
       "      <td>medical</td>\n",
       "      <td>operating</td>\n",
       "      <td>1980-01-01</td>\n",
       "      <td>NaT</td>\n",
       "      <td>gbs-cidp.org</td>\n",
       "      <td>GBSCIDP</td>\n",
       "      <td>USA</td>\n",
       "      <td>1.00</td>\n",
       "      <td>0.00</td>\n",
       "      <td>0.00</td>\n",
       "      <td>0.00</td>\n",
       "    </tr>\n",
       "    <tr>\n",
       "      <th>107109</th>\n",
       "      <td>243604.00</td>\n",
       "      <td>INCOQNITO</td>\n",
       "      <td>NaN</td>\n",
       "      <td>acquired</td>\n",
       "      <td>NaT</td>\n",
       "      <td>NaT</td>\n",
       "      <td>NaN</td>\n",
       "      <td>NaN</td>\n",
       "      <td>NaN</td>\n",
       "      <td>0.00</td>\n",
       "      <td>0.00</td>\n",
       "      <td>0.00</td>\n",
       "      <td>1.00</td>\n",
       "    </tr>\n",
       "    <tr>\n",
       "      <th>205626</th>\n",
       "      <td>75918.00</td>\n",
       "      <td>ReplyBuy</td>\n",
       "      <td>web</td>\n",
       "      <td>operating</td>\n",
       "      <td>2011-01-03</td>\n",
       "      <td>NaT</td>\n",
       "      <td>replybuy.com</td>\n",
       "      <td>ReplyBuy</td>\n",
       "      <td>USA</td>\n",
       "      <td>0.00</td>\n",
       "      <td>2.00</td>\n",
       "      <td>940000.00</td>\n",
       "      <td>1.00</td>\n",
       "    </tr>\n",
       "    <tr>\n",
       "      <th>157412</th>\n",
       "      <td>33039.00</td>\n",
       "      <td>Pantech</td>\n",
       "      <td>mobile</td>\n",
       "      <td>operating</td>\n",
       "      <td>NaT</td>\n",
       "      <td>NaT</td>\n",
       "      <td>pantechusa.com</td>\n",
       "      <td>pantechusa</td>\n",
       "      <td>USA</td>\n",
       "      <td>0.00</td>\n",
       "      <td>1.00</td>\n",
       "      <td>76300000.00</td>\n",
       "      <td>1.00</td>\n",
       "    </tr>\n",
       "    <tr>\n",
       "      <th>5614</th>\n",
       "      <td>13275.00</td>\n",
       "      <td>Media River</td>\n",
       "      <td>search</td>\n",
       "      <td>acquired</td>\n",
       "      <td>2001-01-01</td>\n",
       "      <td>NaT</td>\n",
       "      <td>mediariver.com</td>\n",
       "      <td>NaN</td>\n",
       "      <td>USA</td>\n",
       "      <td>0.00</td>\n",
       "      <td>0.00</td>\n",
       "      <td>0.00</td>\n",
       "      <td>0.00</td>\n",
       "    </tr>\n",
       "    <tr>\n",
       "      <th>106088</th>\n",
       "      <td>242684.00</td>\n",
       "      <td>gozent</td>\n",
       "      <td>real_estate</td>\n",
       "      <td>operating</td>\n",
       "      <td>2013-05-06</td>\n",
       "      <td>NaT</td>\n",
       "      <td>gozent.com</td>\n",
       "      <td>gozentweet</td>\n",
       "      <td>USA</td>\n",
       "      <td>0.00</td>\n",
       "      <td>1.00</td>\n",
       "      <td>200000.00</td>\n",
       "      <td>0.00</td>\n",
       "    </tr>\n",
       "  </tbody>\n",
       "</table>\n",
       "</div>"
      ],
      "text/plain": [
       "        company_ID                               name category_code  \\\n",
       "159510    35192.00                         Accumulate        mobile   \n",
       "97754    235022.00   Cold Plasma Medical Technologies       medical   \n",
       "176473    49100.00                           DeerTech         other   \n",
       "200571    70716.00                         Code Start     ecommerce   \n",
       "103882   240624.00  GBS/CIDP Foundation International       medical   \n",
       "107109   243604.00                          INCOQNITO           NaN   \n",
       "205626    75918.00                           ReplyBuy           web   \n",
       "157412    33039.00                            Pantech        mobile   \n",
       "5614      13275.00                        Media River        search   \n",
       "106088   242684.00                             gozent   real_estate   \n",
       "\n",
       "           status founded_at closed_at                 domain  \\\n",
       "159510  operating 2005-01-01       NaT          accumulate.se   \n",
       "97754   operating 2012-01-01       NaT  medicalcoldplasma.com   \n",
       "176473   acquired 2003-01-01       NaT        deertechusa.com   \n",
       "200571   acquired 2010-03-01       NaT              shoppi.jp   \n",
       "103882  operating 1980-01-01       NaT           gbs-cidp.org   \n",
       "107109   acquired        NaT       NaT                    NaN   \n",
       "205626  operating 2011-01-03       NaT           replybuy.com   \n",
       "157412  operating        NaT       NaT         pantechusa.com   \n",
       "5614     acquired 2001-01-01       NaT         mediariver.com   \n",
       "106088  operating 2013-05-06       NaT             gozent.com   \n",
       "\n",
       "       network_username country_code  investment_rounds  funding_rounds  \\\n",
       "159510              NaN          SWE               0.00            4.00   \n",
       "97754               NaN          USA               0.00            5.00   \n",
       "176473              NaN          USA               0.00            1.00   \n",
       "200571  shoppi_iPhoneAp          JPN               0.00            0.00   \n",
       "103882          GBSCIDP          USA               1.00            0.00   \n",
       "107109              NaN          NaN               0.00            0.00   \n",
       "205626         ReplyBuy          USA               0.00            2.00   \n",
       "157412       pantechusa          USA               0.00            1.00   \n",
       "5614                NaN          USA               0.00            0.00   \n",
       "106088       gozentweet          USA               0.00            1.00   \n",
       "\n",
       "        funding_total  milestones  \n",
       "159510    12050000.00        0.00  \n",
       "97754      1416160.00        0.00  \n",
       "176473     4000000.00        0.00  \n",
       "200571           0.00        1.00  \n",
       "103882           0.00        0.00  \n",
       "107109           0.00        1.00  \n",
       "205626      940000.00        1.00  \n",
       "157412    76300000.00        1.00  \n",
       "5614             0.00        0.00  \n",
       "106088      200000.00        0.00  "
      ]
     },
     "execution_count": 76,
     "metadata": {},
     "output_type": "execute_result"
    }
   ],
   "source": [
    "filtered_df.sample(10)"
   ]
  },
  {
   "cell_type": "code",
   "execution_count": 77,
   "metadata": {
    "id": "MFONscXPn29F"
   },
   "outputs": [
    {
     "data": {
      "text/plain": [
       "category_code\n",
       "semiconductor       8100000.00\n",
       "cleantech           6000000.00\n",
       "medical             5400000.00\n",
       "nanotech            5115960.00\n",
       "biotech             4000000.00\n",
       "security            2024640.00\n",
       "analytics           2000000.00\n",
       "network_hosting     2000000.00\n",
       "manufacturing       1895040.00\n",
       "enterprise          1617100.00\n",
       "hardware            1408400.00\n",
       "finance             1350000.00\n",
       "automotive          1300000.00\n",
       "fashion             1200000.00\n",
       "transportation      1100000.00\n",
       "health              1000000.00\n",
       "software            1000000.00\n",
       "advertising         1000000.00\n",
       "news                 908014.50\n",
       "mobile               800000.00\n",
       "legal                770000.00\n",
       "hospitality          728007.00\n",
       "messaging            727250.00\n",
       "nonprofit            715847.00\n",
       "search               681350.00\n",
       "music                650000.00\n",
       "travel               605750.00\n",
       "real_estate          605000.00\n",
       "education            570000.00\n",
       "games_video          503000.00\n",
       "ecommerce            486000.00\n",
       "photo_video          470071.00\n",
       "public_relations     450000.00\n",
       "pets                 400000.00\n",
       "social               355000.00\n",
       "sports               330000.00\n",
       "design               322745.00\n",
       "local                268333.00\n",
       "web                  210000.00\n",
       "consulting            50000.00\n",
       "government            15000.00\n",
       "other                  1000.00\n",
       "Name: funding_total, dtype: float64"
      ]
     },
     "metadata": {},
     "output_type": "display_data"
    }
   ],
   "source": [
    "# Найдем типичные суммы финансирования для каждой категории стартапов\n",
    "median_fund = filtered_df.groupby('category_code')['funding_total'].agg('median').sort_values(ascending=False)\n",
    "display(median_fund)\n",
    "\n"
   ]
  },
  {
   "cell_type": "code",
   "execution_count": 78,
   "metadata": {
    "scrolled": true
   },
   "outputs": [
    {
     "data": {
      "text/plain": [
       "category_code\n",
       "automotive          183204652.28\n",
       "mobile              145979243.97\n",
       "social              111475778.26\n",
       "health              105034086.46\n",
       "nanotech             95961092.03\n",
       "manufacturing        93045301.29\n",
       "cleantech            92155504.52\n",
       "network_hosting      62888383.61\n",
       "public_relations     58402709.88\n",
       "biotech              54657912.81\n",
       "transportation       53727781.73\n",
       "hardware             50787384.29\n",
       "news                 50547176.64\n",
       "government           48658097.01\n",
       "travel               48067844.25\n",
       "ecommerce            47577032.26\n",
       "security             44979657.17\n",
       "real_estate          43852504.54\n",
       "music                43481888.93\n",
       "games_video          42392640.79\n",
       "semiconductor        39924605.06\n",
       "fashion              39689171.46\n",
       "enterprise           36622224.08\n",
       "education            36609389.60\n",
       "hospitality          36596532.99\n",
       "finance              35946259.53\n",
       "medical              33549832.82\n",
       "web                  33438895.88\n",
       "search               32554132.10\n",
       "analytics            28934650.43\n",
       "messaging            27353268.89\n",
       "software             23823718.17\n",
       "other                23450000.11\n",
       "local                22966413.99\n",
       "advertising          21257200.74\n",
       "consulting           13757911.75\n",
       "photo_video          13738376.25\n",
       "legal                11765346.24\n",
       "nonprofit            11374875.97\n",
       "design                8862026.80\n",
       "pets                  7134799.96\n",
       "sports                5359101.83\n",
       "Name: funding_total, dtype: float64"
      ]
     },
     "metadata": {},
     "output_type": "display_data"
    }
   ],
   "source": [
    "# Найдем размах сумм финансирования для каждой категории стартапов\n",
    "std_fund = filtered_df.groupby('category_code')['funding_total'].std().sort_values(ascending=False)\n",
    "display(std_fund)"
   ]
  },
  {
   "cell_type": "markdown",
   "metadata": {},
   "source": [
    "Для анализа стартапов, которые будут наиболее привлекательными для крупных инвесторов, отберем топ-10 категорий компаний с наибольшей типичной суммой финансирования и топ-10 категорий с большим размахом в суммах финансирования. "
   ]
  },
  {
   "cell_type": "code",
   "execution_count": 79,
   "metadata": {},
   "outputs": [
    {
     "data": {
      "text/plain": [
       "category_code\n",
       "semiconductor      8100000.00\n",
       "cleantech          6000000.00\n",
       "medical            5400000.00\n",
       "nanotech           5115960.00\n",
       "biotech            4000000.00\n",
       "security           2024640.00\n",
       "analytics          2000000.00\n",
       "network_hosting    2000000.00\n",
       "manufacturing      1895040.00\n",
       "enterprise         1617100.00\n",
       "Name: funding_total, dtype: float64"
      ]
     },
     "metadata": {},
     "output_type": "display_data"
    }
   ],
   "source": [
    "display(median_fund.head(10))"
   ]
  },
  {
   "cell_type": "code",
   "execution_count": 80,
   "metadata": {},
   "outputs": [
    {
     "data": {
      "text/plain": [
       "category_code\n",
       "automotive          183204652.28\n",
       "mobile              145979243.97\n",
       "social              111475778.26\n",
       "health              105034086.46\n",
       "nanotech             95961092.03\n",
       "manufacturing        93045301.29\n",
       "cleantech            92155504.52\n",
       "network_hosting      62888383.61\n",
       "public_relations     58402709.88\n",
       "biotech              54657912.81\n",
       "Name: funding_total, dtype: float64"
      ]
     },
     "metadata": {},
     "output_type": "display_data"
    }
   ],
   "source": [
    "display(std_fund.head(10))"
   ]
  },
  {
   "cell_type": "markdown",
   "metadata": {},
   "source": [
    "Проанализировав эти данные, найдем категории, которые входят одновременно и в топ с наибольшей суммой финансирования, и в топ с большим размахом - так мы получим высокорисковые категории, привлекательные для крупных инвесторов.\n",
    "\n",
    "К таким категориям относятся:\n",
    "+ cleantech\n",
    "+ nanotech\n",
    "+ biotech\n",
    "+ network_hosting\n",
    "+ manufacturing\n",
    "\n",
    "Итак, `cleantech`, `nanotech` и `biotech` - категории, связанные с технологиями, снижающими негативное воздействие на среду / исследующими материалы на молекулярном уровне / исследующими биологические системы соответственно. Все 3 категории действительно являются одними из самых перспективных сфер будущего, поскольку благодаря плодам изученияч данных областей можно выявить решения глобальных проблем человечества (улучшение условий окружающей среды, повышения уровня здравоохранения и тд). Большие суммы инвестирования подтверждают это, а большой размах означает, что финансирование поступает как в крупных размерах, так и в небольших размерах\n",
    "\n",
    "`network_hosting` также является одной из самых востребованных сфер в мире цифровых технологий, поскольку обеспечивает глобальную доступность к инф ресурсам и надежность пользователей Интернета, поэтому категорию можно отнести к привлекательным для инвесторов \n",
    "\n",
    "`manufacturing` нишевая область (обозначает промышленность) которая является одной из базовых, поскольку занимается обработкой сырья в готовый продукт. Категория входит в топ самых финансируемых, причем как большими суммами (инвестиции в крупные компании), так и незначительными (финансируются и мелкие компании тоже)"
   ]
  },
  {
   "cell_type": "markdown",
   "metadata": {
    "id": "ADOfyVY_rJg3"
   },
   "source": [
    "\n",
    "### 3.5. Сколько раундов продержится стартап перед покупкой \n",
    "\n",
    "* Необходимо проанализировать столбец `funding_rounds`. Исследуйте значения столбца. Заказчика интересует типичное значение количества раундов для каждого возможного статуса стартапа.\n",
    "\n",
    "* Постройте график, который отображает, сколько в среднем раундов финансирования проходило для стартапов из каждой группы. Сделайте выводы."
   ]
  },
  {
   "cell_type": "markdown",
   "metadata": {},
   "source": [
    "Несмотря на то, что в задании написано \"типичное\" значение, более наглядным будет выбор среднего значения количества раундов. Использование медианы на данных, разброс которых невелик, не лучшее решение."
   ]
  },
  {
   "cell_type": "code",
   "execution_count": 81,
   "metadata": {},
   "outputs": [
    {
     "data": {
      "text/plain": [
       "status\n",
       "ipo          1.93\n",
       "operating    1.52\n",
       "closed       1.38\n",
       "acquired     0.52\n",
       "Name: funding_rounds, dtype: float64"
      ]
     },
     "execution_count": 81,
     "metadata": {},
     "output_type": "execute_result"
    }
   ],
   "source": [
    "# Построим график среднего количества раундов финансирования в разрезе статусов стартапов\n",
    "filtered_df.groupby('status')['funding_rounds'].mean().sort_values(ascending=False)"
   ]
  },
  {
   "cell_type": "code",
   "execution_count": 82,
   "metadata": {},
   "outputs": [
    {
     "data": {
      "text/plain": [
       "<AxesSubplot:title={'center':'Cреднее количество раундов финансирования в разрезе статусов стартапов'}, xlabel='Статус стартапа', ylabel='Среднее количество раундов финансирования'>"
      ]
     },
     "execution_count": 82,
     "metadata": {},
     "output_type": "execute_result"
    },
    {
     "data": {
      "image/png": "[encoded data removed]",
      "text/plain": [
       "<Figure size 864x432 with 1 Axes>"
      ]
     },
     "metadata": {
      "needs_background": "light"
     },
     "output_type": "display_data"
    }
   ],
   "source": [
    "# Построим график среднего количества раундов финансирования в разрезе статусов стартапов\n",
    "filtered_df.groupby('status')['funding_rounds'].mean().sort_values(ascending=False).plot(kind='bar',\n",
    "                                                                                        rot=45,\n",
    "                                                                                        figsize=(12, 6),\n",
    "                                                                                        color ='maroon',\n",
    "                                                                                        title='Cреднее количество раундов финансирования в разрезе статусов стартапов',\n",
    "                                                                                        xlabel='Статус стартапа',\n",
    "                                                                                        ylabel='Среднее количество раундов финансирования')"
   ]
  },
  {
   "cell_type": "markdown",
   "metadata": {},
   "source": [
    "Итак, из графика можно сделать следующие выводы:\n",
    "+ у стартапов со статусом ipo и operating наибольшее количество раундов финансирования. Высокое количество раундов означает, что стартап проходит через разные этапы развития, привлекает капитал для роста, т.е. стартап готов к долгострочному финансированиюю.\n",
    "+ у стартапов со статусм closed показатель ср кол-ва раундов 1.38, - это не высокий показатель, который говорит о недостаточном финансировании и вследствие чего - закрытии стартапа\n",
    "+ у стартапов со статусом acquired наименьшее ср число раундов финансирования (0.5), то есть стартапы полностью выкупаются инвесторами на самых ранних этапах"
   ]
  },
  {
   "cell_type": "markdown",
   "metadata": {
    "id": "VAFEZ2HBrJg3"
   },
   "source": [
    "\n",
    "## Шаг 4. Итоговый вывод и рекомендации\n",
    "\n",
    "В ходе анализа данных по стартапам была проведена следующая работа:\n",
    "1) Подробна изучены 6 файлов, содержащих данные о стартапах, компаниях, раундах финансирования, сотрудниках и многого другого: была выведена общая информация, исправлены названия столбцов и их типы, а также были проанализированы пропуски.\n",
    "\n",
    "2) Данные были предобработаны и было проведено предварительное исследование, которо включало в себя:\n",
    "    \n",
    "    2.1) Инфо про Раунды финансирования по годам (создание и анализ сводной таблицы по столбцу raised_amount). Были сделаны следующие выводы:\n",
    "    - Максимальное среднее количество средств в рамках одного раунда было собрано в 2005 году (5.5 млн.)\t\n",
    "    - В 2012 году было минимальное количество собранных средств (1 млн.)\n",
    "    - В 2013 общее количество раундов было наибольшим за весь период (11072 раундов), при этом собранные средства близки к минимуму (1.2 млн.). Видим, что с 2010 года наблюдается тенденция снижения сумм инвестирования и увеличения при этом раундов финансирования. Одной из причин может быть экономический аспект - показатель дефляции в США с 2005 по 2013 увеличился (судя по официальным данным), а значит покупательная способность доллара также увеличилась\n",
    "    \n",
    "    2.2) Инфо про людей и их образование (соединение 3 таблиц: people, education, degrees и их подробный анализ). Были сделаны следующие выводы:\n",
    "    - Больше всего людей без образования в стартапах, где около 7-10 человек (53%). Это можно объяснить гибкостью в требованиях (в небольших компаниях часто не обращают внимания на дипломы). \n",
    "    - В стартапах, где сотрудников еще меньше (до 5-6), процент людей без образования ниже. Возможно, это связано с тем, что при маленьком кадровом составе четко выбираются квалифицированные сотрудники (т.е. когда весь состав это 3-4 человека, важно, чтобы у каждого было образование, чего не скажешь когда в составе около 7-10 человек)\n",
    "    - В более крупных компаниях (от 10 и более сотрудников), процент людей без образования еще ниже (42%). Это можно объяснить строгими требованиями к сотрудникам (четкая кадровая политика нанимать людей с образованием), а также конкуренцией за квалифицированных сотрудников (т.е. возможность набирать болле професиональных сотрудников, тк крупные компании часто могут предложить условия лучше)\n",
    "    \n",
    "    2.3) Оценка возможности использования столбцов с именем network_username для объединения данных. Был сделан следующий вывод:  данные соединять по столбцу не нужно, поскольку в случае присоединения появится еще больше пропусков (в случае с outer join) или же урежется большая доля данных (в случае с inner join). Ни тот, ни другой случай не поможет нам в анализе, а наоборот - испортит данные.\n",
    "    \n",
    "    2.4) Выяснена причина возникновения пропусков в таблице company_and_rounds. Был сделан следующий вывод: таблица company_and_rounds - это две разные таблицы, которые объединили с помощью outer полного, вследсвтие чего получили огромное количество пропусков. Это было исправлено разделением исходника на 2 таблицы - `company_df` (здесь инфо о компаниях, числе раундов и сумме финансирования) и `rounds_df` (здесь более детализированная информация про раунды)\n",
    "    \n",
    "    \n",
    "    \n",
    "3) Проведен исследовательский анализ таблиц, который включал в себя:\n",
    "    \n",
    "    3.1) Объединение данных (были выбраны только те компании, у которых указаны значения funding_rounds или investment_rounds больше нуля, и те, у которых в колонке status указано acquired). Впослесдствие работа велась с данной объединенной таблицей\n",
    "    \n",
    "    3.2) Анализ выбросов, который предполагал анализ визуализацию данных о типичном и выбивающемчя размере общего финансирования для компании. Были сделаны следующие выводы:\n",
    "    - самое типичное значение инвестиций - 0.6 млн \n",
    "    - в датасете огромное количество выбросов со значением \"0\" (32% данных имеют в столбце funding_total это значение), это аномалия, т.е. ошибка в данных\n",
    "    - медианное значение (600000) меньше среднего значения (10135609). Это значит, что выборка отрицательно искажена (об этом и написано во 2 пункте)\n",
    "    - сильных положительных выбросов (превыщающих значение 1.3млрд) не так много - 7 компаний, 4 из которых некорректные. Однако они сильно искажают данные, из за чего средние значения и значения квартилей также искажены (анализ describe)\n",
    "    - максимальная сумма инвестиций собрана компанией Carestream в размере 2.4млрд\n",
    "    \n",
    "    3.3) Исследование компаний, которые были проданы за ноль или за один доллар. Были сделан следующий вывод: выбросов в данных огромное количество, что сильно искажает итоговые выводы, поэтому замена заказчиком нижней и верхней границы будет корректна.\n",
    "    \n",
    "    3.4) Выделение категории стартапов, характеризующиеся наибольшими типичными ценами и наибольшим разбросом цен за стартап. Был сделан следующий вывод: к категориям, которые входят одновременно и в топ с наибольшей суммой финансирования, и в топ с большим размахом относятся:\n",
    "    - cleantech\n",
    "    - nanotech\n",
    "    - biotech\n",
    "    - network_hosting\n",
    "    - manufacturing\n",
    "    \n",
    "    3.5) Построение графика, который отображает, сколько в среднем раундов финансирования проходило для стартапов из каждой группы. Были сделаны следующие выводы:\n",
    "    - у стартапов со статусом ipo и operating наибольшее количество раундов финансирования. Высокое количество раундов означает, что стартап проходит через разные этапы развития, привлекает капитал для роста, т.е. стартап готов к долгострочному финансированиюю.\n",
    "    - у стартапов со статусм closed показатель ср кол-ва раундов 1.38, - это не высокий показатель, который говорит о недостаточном финансировании и вследствие чего - закрытии стартапа\n",
    "    - у стартапов со статусом acquired наименьшее ср число раундов финансирования (0.5), то есть стартапы полностью выкупаются инвесторами на самых ранних этапах\n",
    "    \n",
    "    \n",
    "    \n",
    "По итогу всей проделанной работы можно утверждать, что предоставленные заказчиком данные для анализа содержат большое количество пропусков, недостающих/некорректных данных, аномальных значений и других проблем, которые могут сильно повлиять на конечные выводы. Была проведена максимально аккуратная обработка и восстановление данных, однако для решения некоторых поставленных задач информации было недостаточно, чтобы дать четкий и однозначный ответ, поэтому некоторые данные были интерпретированы логически самым подходящим образом (стоит предупредить, что интерпретировать неполные данные можно по-разному и соответственно выоводы могут отличаться). \n",
    "\n",
    "Финансовая компания, для которой был проведен анализ, может учитывать для принятия решения выводы, приведенные в работе. Однако важно при этом иметь ввиду, что это исторические и неполные сведения, поэтому опираться только на них без критического мышления и понимания работы финансового сектроа - некорректно."
   ]
  }
 ],
 "metadata": {
  "ExecuteTimeLog": [
   {
    "duration": 3859,
    "start_time": "2025-01-06T14:37:08.764Z"
   },
   {
    "duration": 2177,
    "start_time": "2025-01-06T14:41:57.278Z"
   },
   {
    "duration": 1875,
    "start_time": "2025-01-06T14:42:33.867Z"
   },
   {
    "duration": 13,
    "start_time": "2025-01-06T14:46:55.933Z"
   },
   {
    "duration": 30,
    "start_time": "2025-01-06T14:47:24.166Z"
   },
   {
    "duration": 30,
    "start_time": "2025-01-06T14:51:48.323Z"
   },
   {
    "duration": 23,
    "start_time": "2025-01-06T14:54:01.722Z"
   },
   {
    "duration": 12,
    "start_time": "2025-01-06T14:59:34.185Z"
   },
   {
    "duration": 9,
    "start_time": "2025-01-06T14:59:41.721Z"
   },
   {
    "duration": 10,
    "start_time": "2025-01-06T14:59:44.997Z"
   },
   {
    "duration": 10,
    "start_time": "2025-01-06T14:59:45.808Z"
   },
   {
    "duration": 9,
    "start_time": "2025-01-06T14:59:46.345Z"
   },
   {
    "duration": 10,
    "start_time": "2025-01-06T14:59:46.930Z"
   },
   {
    "duration": 10,
    "start_time": "2025-01-06T14:59:47.550Z"
   },
   {
    "duration": 1556,
    "start_time": "2025-01-06T15:05:08.425Z"
   },
   {
    "duration": 83,
    "start_time": "2025-01-06T15:08:05.289Z"
   },
   {
    "duration": 3,
    "start_time": "2025-01-06T15:08:10.900Z"
   },
   {
    "duration": 9,
    "start_time": "2025-01-06T15:08:25.428Z"
   },
   {
    "duration": 8,
    "start_time": "2025-01-06T15:18:52.491Z"
   },
   {
    "duration": 8,
    "start_time": "2025-01-06T15:19:58.884Z"
   },
   {
    "duration": 8,
    "start_time": "2025-01-06T15:21:53.209Z"
   },
   {
    "duration": 47,
    "start_time": "2025-01-06T15:52:27.243Z"
   },
   {
    "duration": 59,
    "start_time": "2025-01-06T15:52:33.640Z"
   },
   {
    "duration": 54,
    "start_time": "2025-01-06T15:52:39.572Z"
   },
   {
    "duration": 11,
    "start_time": "2025-01-06T15:52:46.264Z"
   },
   {
    "duration": 2215,
    "start_time": "2025-01-06T15:55:21.171Z"
   },
   {
    "duration": 6,
    "start_time": "2025-01-06T15:55:34.455Z"
   },
   {
    "duration": 6,
    "start_time": "2025-01-06T15:55:58.607Z"
   },
   {
    "duration": 3839,
    "start_time": "2025-01-06T15:57:10.873Z"
   },
   {
    "duration": 2215,
    "start_time": "2025-01-06T15:57:14.715Z"
   },
   {
    "duration": 14,
    "start_time": "2025-01-06T15:57:16.932Z"
   },
   {
    "duration": 74,
    "start_time": "2025-01-06T15:57:16.948Z"
   },
   {
    "duration": 96,
    "start_time": "2025-01-06T15:57:17.024Z"
   },
   {
    "duration": 8,
    "start_time": "2025-01-06T15:57:17.122Z"
   },
   {
    "duration": 53,
    "start_time": "2025-01-06T15:57:17.131Z"
   },
   {
    "duration": 11,
    "start_time": "2025-01-06T15:57:17.185Z"
   },
   {
    "duration": 10,
    "start_time": "2025-01-06T15:57:17.197Z"
   },
   {
    "duration": 10,
    "start_time": "2025-01-06T15:57:17.209Z"
   },
   {
    "duration": 13,
    "start_time": "2025-01-06T16:02:19.421Z"
   },
   {
    "duration": 3800,
    "start_time": "2025-01-06T16:03:49.406Z"
   },
   {
    "duration": 1925,
    "start_time": "2025-01-06T16:03:53.208Z"
   },
   {
    "duration": 14,
    "start_time": "2025-01-06T16:03:55.135Z"
   },
   {
    "duration": 33,
    "start_time": "2025-01-06T16:03:55.151Z"
   },
   {
    "duration": 16,
    "start_time": "2025-01-06T16:03:55.186Z"
   },
   {
    "duration": 11,
    "start_time": "2025-01-06T16:03:55.203Z"
   },
   {
    "duration": 73,
    "start_time": "2025-01-06T16:03:55.215Z"
   },
   {
    "duration": 11,
    "start_time": "2025-01-06T16:03:55.289Z"
   },
   {
    "duration": 10,
    "start_time": "2025-01-06T16:03:55.302Z"
   },
   {
    "duration": 20,
    "start_time": "2025-01-06T16:03:55.314Z"
   },
   {
    "duration": 15,
    "start_time": "2025-01-06T16:03:55.336Z"
   },
   {
    "duration": 112,
    "start_time": "2025-01-06T16:03:55.370Z"
   },
   {
    "duration": 26,
    "start_time": "2025-01-06T16:03:55.483Z"
   },
   {
    "duration": 19,
    "start_time": "2025-01-06T16:03:55.511Z"
   },
   {
    "duration": 42,
    "start_time": "2025-01-06T16:03:55.532Z"
   },
   {
    "duration": 9,
    "start_time": "2025-01-06T16:03:55.576Z"
   },
   {
    "duration": 43,
    "start_time": "2025-01-06T16:03:55.587Z"
   },
   {
    "duration": 5,
    "start_time": "2025-01-06T16:30:43.472Z"
   },
   {
    "duration": 3,
    "start_time": "2025-01-06T16:34:15.845Z"
   },
   {
    "duration": 103,
    "start_time": "2025-01-06T16:36:54.499Z"
   },
   {
    "duration": 102,
    "start_time": "2025-01-06T16:37:24.246Z"
   },
   {
    "duration": 3798,
    "start_time": "2025-01-06T16:40:05.866Z"
   },
   {
    "duration": 2318,
    "start_time": "2025-01-06T16:40:09.667Z"
   },
   {
    "duration": 13,
    "start_time": "2025-01-06T16:40:11.987Z"
   },
   {
    "duration": 22,
    "start_time": "2025-01-06T16:40:12.002Z"
   },
   {
    "duration": 135,
    "start_time": "2025-01-06T16:40:12.026Z"
   },
   {
    "duration": 12,
    "start_time": "2025-01-06T16:40:12.163Z"
   },
   {
    "duration": 9,
    "start_time": "2025-01-06T16:40:12.176Z"
   },
   {
    "duration": 46,
    "start_time": "2025-01-06T16:40:12.186Z"
   },
   {
    "duration": 10,
    "start_time": "2025-01-06T16:40:12.234Z"
   },
   {
    "duration": 7,
    "start_time": "2025-01-06T16:40:12.270Z"
   },
   {
    "duration": 10,
    "start_time": "2025-01-06T16:40:12.279Z"
   },
   {
    "duration": 28,
    "start_time": "2025-01-06T16:40:12.290Z"
   },
   {
    "duration": 106,
    "start_time": "2025-01-06T16:40:12.320Z"
   },
   {
    "duration": 25,
    "start_time": "2025-01-06T16:40:12.428Z"
   },
   {
    "duration": 46,
    "start_time": "2025-01-06T16:40:12.455Z"
   },
   {
    "duration": 17,
    "start_time": "2025-01-06T16:40:12.502Z"
   },
   {
    "duration": 31,
    "start_time": "2025-01-06T16:40:12.521Z"
   },
   {
    "duration": 41,
    "start_time": "2025-01-06T16:40:12.554Z"
   },
   {
    "duration": 10,
    "start_time": "2025-01-06T16:44:52.061Z"
   },
   {
    "duration": 8,
    "start_time": "2025-01-06T16:47:06.300Z"
   },
   {
    "duration": 12,
    "start_time": "2025-01-06T16:47:25.563Z"
   },
   {
    "duration": 12,
    "start_time": "2025-01-06T16:47:31.377Z"
   },
   {
    "duration": 12,
    "start_time": "2025-01-06T16:47:34.728Z"
   },
   {
    "duration": 12,
    "start_time": "2025-01-06T16:47:38.420Z"
   },
   {
    "duration": 33,
    "start_time": "2025-01-06T16:50:13.386Z"
   },
   {
    "duration": 251,
    "start_time": "2025-01-06T16:50:38.735Z"
   },
   {
    "duration": 28,
    "start_time": "2025-01-06T16:53:41.502Z"
   },
   {
    "duration": 15,
    "start_time": "2025-01-06T16:55:59.175Z"
   },
   {
    "duration": 19,
    "start_time": "2025-01-06T16:56:07.223Z"
   },
   {
    "duration": 16,
    "start_time": "2025-01-06T16:56:11.552Z"
   },
   {
    "duration": 34,
    "start_time": "2025-01-06T17:09:07.135Z"
   },
   {
    "duration": 34,
    "start_time": "2025-01-06T17:19:07.546Z"
   },
   {
    "duration": 40,
    "start_time": "2025-01-06T17:19:22.871Z"
   },
   {
    "duration": 57,
    "start_time": "2025-01-06T17:28:08.706Z"
   },
   {
    "duration": 73,
    "start_time": "2025-01-06T17:28:33.569Z"
   },
   {
    "duration": 78,
    "start_time": "2025-01-06T17:31:38.911Z"
   },
   {
    "duration": 77,
    "start_time": "2025-01-06T17:33:19.306Z"
   },
   {
    "duration": 12,
    "start_time": "2025-01-06T17:33:31.989Z"
   },
   {
    "duration": 77,
    "start_time": "2025-01-06T17:33:40.837Z"
   },
   {
    "duration": 80,
    "start_time": "2025-01-06T17:34:20.389Z"
   },
   {
    "duration": 91,
    "start_time": "2025-01-06T17:35:36.480Z"
   },
   {
    "duration": 88,
    "start_time": "2025-01-06T17:36:11.384Z"
   },
   {
    "duration": 88,
    "start_time": "2025-01-06T17:36:15.880Z"
   },
   {
    "duration": 153,
    "start_time": "2025-01-06T17:38:18.400Z"
   },
   {
    "duration": 84,
    "start_time": "2025-01-06T17:39:28.126Z"
   },
   {
    "duration": 83,
    "start_time": "2025-01-06T17:39:50.393Z"
   },
   {
    "duration": 86,
    "start_time": "2025-01-06T17:40:03.800Z"
   },
   {
    "duration": 76,
    "start_time": "2025-01-06T17:40:11.161Z"
   },
   {
    "duration": 76,
    "start_time": "2025-01-06T17:41:50.921Z"
   },
   {
    "duration": 75,
    "start_time": "2025-01-06T17:41:54.837Z"
   },
   {
    "duration": 73,
    "start_time": "2025-01-06T17:42:02.063Z"
   },
   {
    "duration": 73,
    "start_time": "2025-01-06T17:42:05.886Z"
   },
   {
    "duration": 73,
    "start_time": "2025-01-06T17:42:11.397Z"
   },
   {
    "duration": 84,
    "start_time": "2025-01-06T17:42:44.604Z"
   },
   {
    "duration": 57,
    "start_time": "2025-01-06T17:43:08.261Z"
   },
   {
    "duration": 48,
    "start_time": "2025-01-06T17:43:08.434Z"
   },
   {
    "duration": 39,
    "start_time": "2025-01-06T17:43:12.637Z"
   },
   {
    "duration": 120,
    "start_time": "2025-01-06T17:44:42.203Z"
   },
   {
    "duration": 9,
    "start_time": "2025-01-06T17:44:54.628Z"
   },
   {
    "duration": 1333,
    "start_time": "2025-01-06T17:45:47.251Z"
   },
   {
    "duration": 9,
    "start_time": "2025-01-06T17:46:03.000Z"
   },
   {
    "duration": 64,
    "start_time": "2025-01-06T17:46:50.932Z"
   },
   {
    "duration": 38,
    "start_time": "2025-01-06T17:47:01.972Z"
   },
   {
    "duration": 50,
    "start_time": "2025-01-06T17:47:14.486Z"
   },
   {
    "duration": 37,
    "start_time": "2025-01-06T17:47:41.098Z"
   },
   {
    "duration": 39,
    "start_time": "2025-01-06T17:48:03.986Z"
   },
   {
    "duration": 3828,
    "start_time": "2025-01-06T17:48:11.513Z"
   },
   {
    "duration": 2382,
    "start_time": "2025-01-06T17:48:15.344Z"
   },
   {
    "duration": 13,
    "start_time": "2025-01-06T17:48:17.728Z"
   },
   {
    "duration": 39,
    "start_time": "2025-01-06T17:48:17.743Z"
   },
   {
    "duration": 114,
    "start_time": "2025-01-06T17:48:17.784Z"
   },
   {
    "duration": 8,
    "start_time": "2025-01-06T17:48:17.900Z"
   },
   {
    "duration": 16,
    "start_time": "2025-01-06T17:48:17.910Z"
   },
   {
    "duration": 61,
    "start_time": "2025-01-06T17:48:17.928Z"
   },
   {
    "duration": 11,
    "start_time": "2025-01-06T17:48:17.991Z"
   },
   {
    "duration": 7,
    "start_time": "2025-01-06T17:48:18.005Z"
   },
   {
    "duration": 23,
    "start_time": "2025-01-06T17:48:18.014Z"
   },
   {
    "duration": 15,
    "start_time": "2025-01-06T17:48:18.039Z"
   },
   {
    "duration": 121,
    "start_time": "2025-01-06T17:48:18.056Z"
   },
   {
    "duration": 25,
    "start_time": "2025-01-06T17:48:18.178Z"
   },
   {
    "duration": 20,
    "start_time": "2025-01-06T17:48:18.204Z"
   },
   {
    "duration": 13,
    "start_time": "2025-01-06T17:48:18.225Z"
   },
   {
    "duration": 37,
    "start_time": "2025-01-06T17:48:18.240Z"
   },
   {
    "duration": 40,
    "start_time": "2025-01-06T17:48:18.279Z"
   },
   {
    "duration": 15,
    "start_time": "2025-01-06T17:48:18.320Z"
   },
   {
    "duration": 267,
    "start_time": "2025-01-06T17:48:18.337Z"
   },
   {
    "duration": 33,
    "start_time": "2025-01-06T17:48:18.606Z"
   },
   {
    "duration": 30,
    "start_time": "2025-01-06T17:48:18.641Z"
   },
   {
    "duration": 36,
    "start_time": "2025-01-06T17:48:18.673Z"
   },
   {
    "duration": 37,
    "start_time": "2025-01-06T17:48:18.711Z"
   },
   {
    "duration": 71,
    "start_time": "2025-01-06T17:48:18.750Z"
   },
   {
    "duration": 132,
    "start_time": "2025-01-06T17:48:18.823Z"
   },
   {
    "duration": 68,
    "start_time": "2025-01-06T17:49:11.393Z"
   },
   {
    "duration": 44,
    "start_time": "2025-01-06T17:49:16.791Z"
   },
   {
    "duration": 10,
    "start_time": "2025-01-06T17:49:32.927Z"
   },
   {
    "duration": 154,
    "start_time": "2025-01-06T17:49:48.737Z"
   },
   {
    "duration": 80,
    "start_time": "2025-01-06T17:50:36.674Z"
   },
   {
    "duration": 1250,
    "start_time": "2025-01-06T17:51:05.866Z"
   },
   {
    "duration": 3,
    "start_time": "2025-01-06T17:55:25.224Z"
   },
   {
    "duration": 44,
    "start_time": "2025-01-06T17:55:56.685Z"
   },
   {
    "duration": 42,
    "start_time": "2025-01-06T17:55:58.208Z"
   },
   {
    "duration": 44,
    "start_time": "2025-01-06T17:56:05.322Z"
   },
   {
    "duration": 41,
    "start_time": "2025-01-06T17:56:09.328Z"
   },
   {
    "duration": 4,
    "start_time": "2025-01-06T17:56:15.916Z"
   },
   {
    "duration": 3,
    "start_time": "2025-01-06T17:56:24.573Z"
   },
   {
    "duration": 13,
    "start_time": "2025-01-06T17:56:32.288Z"
   },
   {
    "duration": 12,
    "start_time": "2025-01-06T17:56:55.623Z"
   },
   {
    "duration": 40,
    "start_time": "2025-01-06T17:57:55.488Z"
   },
   {
    "duration": 40,
    "start_time": "2025-01-06T17:58:01.278Z"
   },
   {
    "duration": 41,
    "start_time": "2025-01-06T17:58:07.023Z"
   },
   {
    "duration": 12,
    "start_time": "2025-01-06T17:58:19.508Z"
   },
   {
    "duration": 39,
    "start_time": "2025-01-06T17:58:30.154Z"
   },
   {
    "duration": 39,
    "start_time": "2025-01-06T17:58:32.302Z"
   },
   {
    "duration": 12,
    "start_time": "2025-01-06T18:01:40.301Z"
   },
   {
    "duration": 10,
    "start_time": "2025-01-06T18:05:41.735Z"
   },
   {
    "duration": 11,
    "start_time": "2025-01-06T18:05:59.852Z"
   },
   {
    "duration": 11,
    "start_time": "2025-01-06T18:06:04.636Z"
   },
   {
    "duration": 40,
    "start_time": "2025-01-06T18:06:26.532Z"
   },
   {
    "duration": 3779,
    "start_time": "2025-01-06T18:06:30.972Z"
   },
   {
    "duration": 2371,
    "start_time": "2025-01-06T18:06:34.753Z"
   },
   {
    "duration": 13,
    "start_time": "2025-01-06T18:06:37.126Z"
   },
   {
    "duration": 35,
    "start_time": "2025-01-06T18:06:37.142Z"
   },
   {
    "duration": 112,
    "start_time": "2025-01-06T18:06:37.179Z"
   },
   {
    "duration": 8,
    "start_time": "2025-01-06T18:06:37.292Z"
   },
   {
    "duration": 39,
    "start_time": "2025-01-06T18:06:37.302Z"
   },
   {
    "duration": 54,
    "start_time": "2025-01-06T18:06:37.343Z"
   },
   {
    "duration": 10,
    "start_time": "2025-01-06T18:06:37.399Z"
   },
   {
    "duration": 41,
    "start_time": "2025-01-06T18:06:37.411Z"
   },
   {
    "duration": 41,
    "start_time": "2025-01-06T18:06:37.454Z"
   },
   {
    "duration": 16,
    "start_time": "2025-01-06T18:06:37.497Z"
   },
   {
    "duration": 102,
    "start_time": "2025-01-06T18:06:37.515Z"
   },
   {
    "duration": 24,
    "start_time": "2025-01-06T18:06:37.618Z"
   },
   {
    "duration": 28,
    "start_time": "2025-01-06T18:06:37.643Z"
   },
   {
    "duration": 13,
    "start_time": "2025-01-06T18:06:37.672Z"
   },
   {
    "duration": 20,
    "start_time": "2025-01-06T18:06:37.686Z"
   },
   {
    "duration": 37,
    "start_time": "2025-01-06T18:06:37.708Z"
   },
   {
    "duration": 30,
    "start_time": "2025-01-06T18:06:37.747Z"
   },
   {
    "duration": 263,
    "start_time": "2025-01-06T18:06:37.779Z"
   },
   {
    "duration": 42,
    "start_time": "2025-01-06T18:06:38.044Z"
   },
   {
    "duration": 18,
    "start_time": "2025-01-06T18:06:38.088Z"
   },
   {
    "duration": 36,
    "start_time": "2025-01-06T18:06:38.107Z"
   },
   {
    "duration": 79,
    "start_time": "2025-01-06T18:06:38.145Z"
   },
   {
    "duration": 60,
    "start_time": "2025-01-06T18:06:38.226Z"
   },
   {
    "duration": 10,
    "start_time": "2025-01-06T18:06:38.288Z"
   },
   {
    "duration": 10,
    "start_time": "2025-01-06T18:07:10.372Z"
   },
   {
    "duration": 11,
    "start_time": "2025-01-06T18:07:14.938Z"
   },
   {
    "duration": 42,
    "start_time": "2025-01-06T18:19:04.598Z"
   },
   {
    "duration": 40,
    "start_time": "2025-01-06T18:19:15.971Z"
   },
   {
    "duration": 108,
    "start_time": "2025-01-06T18:21:30.987Z"
   },
   {
    "duration": 1286,
    "start_time": "2025-01-06T18:21:38.645Z"
   },
   {
    "duration": 190,
    "start_time": "2025-01-06T18:22:07.115Z"
   },
   {
    "duration": 186,
    "start_time": "2025-01-06T18:23:21.628Z"
   },
   {
    "duration": 313,
    "start_time": "2025-01-06T18:23:58.259Z"
   },
   {
    "duration": 15,
    "start_time": "2025-01-06T18:24:02.815Z"
   },
   {
    "duration": 14,
    "start_time": "2025-01-06T18:24:05.559Z"
   },
   {
    "duration": 13,
    "start_time": "2025-01-06T18:24:11.263Z"
   },
   {
    "duration": 13,
    "start_time": "2025-01-06T18:24:18.990Z"
   },
   {
    "duration": 14,
    "start_time": "2025-01-06T18:24:20.768Z"
   },
   {
    "duration": 15,
    "start_time": "2025-01-06T18:24:26.614Z"
   },
   {
    "duration": 14,
    "start_time": "2025-01-06T18:25:33.136Z"
   },
   {
    "duration": 16,
    "start_time": "2025-01-06T18:26:46.168Z"
   },
   {
    "duration": 3815,
    "start_time": "2025-01-06T18:26:51.387Z"
   },
   {
    "duration": 2134,
    "start_time": "2025-01-06T18:26:55.204Z"
   },
   {
    "duration": 13,
    "start_time": "2025-01-06T18:26:57.339Z"
   },
   {
    "duration": 89,
    "start_time": "2025-01-06T18:26:57.354Z"
   },
   {
    "duration": 105,
    "start_time": "2025-01-06T18:26:57.445Z"
   },
   {
    "duration": 8,
    "start_time": "2025-01-06T18:26:57.552Z"
   },
   {
    "duration": 31,
    "start_time": "2025-01-06T18:26:57.561Z"
   },
   {
    "duration": 99,
    "start_time": "2025-01-06T18:26:57.594Z"
   },
   {
    "duration": 10,
    "start_time": "2025-01-06T18:26:57.695Z"
   },
   {
    "duration": 7,
    "start_time": "2025-01-06T18:26:57.707Z"
   },
   {
    "duration": 9,
    "start_time": "2025-01-06T18:26:57.716Z"
   },
   {
    "duration": 13,
    "start_time": "2025-01-06T18:26:57.726Z"
   },
   {
    "duration": 115,
    "start_time": "2025-01-06T18:26:57.741Z"
   },
   {
    "duration": 29,
    "start_time": "2025-01-06T18:26:57.857Z"
   },
   {
    "duration": 19,
    "start_time": "2025-01-06T18:26:57.888Z"
   },
   {
    "duration": 20,
    "start_time": "2025-01-06T18:26:57.909Z"
   },
   {
    "duration": 9,
    "start_time": "2025-01-06T18:26:57.931Z"
   },
   {
    "duration": 60,
    "start_time": "2025-01-06T18:26:57.941Z"
   },
   {
    "duration": 15,
    "start_time": "2025-01-06T18:26:58.003Z"
   },
   {
    "duration": 252,
    "start_time": "2025-01-06T18:26:58.019Z"
   },
   {
    "duration": 33,
    "start_time": "2025-01-06T18:26:58.272Z"
   },
   {
    "duration": 24,
    "start_time": "2025-01-06T18:26:58.306Z"
   },
   {
    "duration": 49,
    "start_time": "2025-01-06T18:26:58.331Z"
   },
   {
    "duration": 43,
    "start_time": "2025-01-06T18:26:58.382Z"
   },
   {
    "duration": 57,
    "start_time": "2025-01-06T18:26:58.427Z"
   },
   {
    "duration": 10,
    "start_time": "2025-01-06T18:26:58.486Z"
   },
   {
    "duration": 264,
    "start_time": "2025-01-06T18:26:58.498Z"
   },
   {
    "duration": 236,
    "start_time": "2025-01-06T18:27:35.337Z"
   },
   {
    "duration": 84,
    "start_time": "2025-01-06T18:27:46.128Z"
   },
   {
    "duration": 212,
    "start_time": "2025-01-06T18:27:49.160Z"
   },
   {
    "duration": 22,
    "start_time": "2025-01-06T18:31:00.775Z"
   },
   {
    "duration": 124,
    "start_time": "2025-01-06T18:31:20.968Z"
   },
   {
    "duration": 14,
    "start_time": "2025-01-06T18:31:26.109Z"
   },
   {
    "duration": 14,
    "start_time": "2025-01-06T18:32:07.380Z"
   },
   {
    "duration": 13,
    "start_time": "2025-01-06T18:32:09.081Z"
   },
   {
    "duration": 13,
    "start_time": "2025-01-06T18:32:21.756Z"
   },
   {
    "duration": 3760,
    "start_time": "2025-01-06T18:32:34.984Z"
   },
   {
    "duration": 2034,
    "start_time": "2025-01-06T18:32:38.746Z"
   },
   {
    "duration": 13,
    "start_time": "2025-01-06T18:32:40.782Z"
   },
   {
    "duration": 23,
    "start_time": "2025-01-06T18:32:40.797Z"
   },
   {
    "duration": 134,
    "start_time": "2025-01-06T18:32:40.822Z"
   },
   {
    "duration": 15,
    "start_time": "2025-01-06T18:32:40.957Z"
   },
   {
    "duration": 16,
    "start_time": "2025-01-06T18:32:40.975Z"
   },
   {
    "duration": 49,
    "start_time": "2025-01-06T18:32:40.993Z"
   },
   {
    "duration": 27,
    "start_time": "2025-01-06T18:32:41.044Z"
   },
   {
    "duration": 7,
    "start_time": "2025-01-06T18:32:41.074Z"
   },
   {
    "duration": 24,
    "start_time": "2025-01-06T18:32:41.082Z"
   },
   {
    "duration": 17,
    "start_time": "2025-01-06T18:32:41.108Z"
   },
   {
    "duration": 108,
    "start_time": "2025-01-06T18:32:41.127Z"
   },
   {
    "duration": 34,
    "start_time": "2025-01-06T18:32:41.237Z"
   },
   {
    "duration": 22,
    "start_time": "2025-01-06T18:32:41.272Z"
   },
   {
    "duration": 14,
    "start_time": "2025-01-06T18:32:41.296Z"
   },
   {
    "duration": 116,
    "start_time": "2025-01-06T18:32:41.311Z"
   },
   {
    "duration": 61,
    "start_time": "2025-01-06T18:32:41.428Z"
   },
   {
    "duration": 14,
    "start_time": "2025-01-06T18:32:41.491Z"
   },
   {
    "duration": 335,
    "start_time": "2025-01-06T18:32:41.506Z"
   },
   {
    "duration": 41,
    "start_time": "2025-01-06T18:32:41.843Z"
   },
   {
    "duration": 16,
    "start_time": "2025-01-06T18:32:41.886Z"
   },
   {
    "duration": 36,
    "start_time": "2025-01-06T18:32:41.903Z"
   },
   {
    "duration": 59,
    "start_time": "2025-01-06T18:32:41.940Z"
   },
   {
    "duration": 41,
    "start_time": "2025-01-06T18:32:42.001Z"
   },
   {
    "duration": 31,
    "start_time": "2025-01-06T18:32:42.044Z"
   },
   {
    "duration": 238,
    "start_time": "2025-01-06T18:32:42.077Z"
   },
   {
    "duration": 11,
    "start_time": "2025-01-06T18:32:42.318Z"
   },
   {
    "duration": 212,
    "start_time": "2025-01-06T18:36:31.827Z"
   },
   {
    "duration": 77,
    "start_time": "2025-01-06T18:45:13.823Z"
   },
   {
    "duration": 240,
    "start_time": "2025-01-06T18:45:20.838Z"
   },
   {
    "duration": 15,
    "start_time": "2025-01-06T18:46:44.903Z"
   },
   {
    "duration": 3774,
    "start_time": "2025-01-06T18:46:51.863Z"
   },
   {
    "duration": 2103,
    "start_time": "2025-01-06T18:46:55.639Z"
   },
   {
    "duration": 15,
    "start_time": "2025-01-06T18:46:57.744Z"
   },
   {
    "duration": 31,
    "start_time": "2025-01-06T18:46:57.761Z"
   },
   {
    "duration": 118,
    "start_time": "2025-01-06T18:46:57.794Z"
   },
   {
    "duration": 8,
    "start_time": "2025-01-06T18:46:57.914Z"
   },
   {
    "duration": 15,
    "start_time": "2025-01-06T18:46:57.923Z"
   },
   {
    "duration": 56,
    "start_time": "2025-01-06T18:46:57.939Z"
   },
   {
    "duration": 10,
    "start_time": "2025-01-06T18:46:57.997Z"
   },
   {
    "duration": 7,
    "start_time": "2025-01-06T18:46:58.009Z"
   },
   {
    "duration": 9,
    "start_time": "2025-01-06T18:46:58.017Z"
   },
   {
    "duration": 13,
    "start_time": "2025-01-06T18:46:58.028Z"
   },
   {
    "duration": 127,
    "start_time": "2025-01-06T18:46:58.043Z"
   },
   {
    "duration": 25,
    "start_time": "2025-01-06T18:46:58.172Z"
   },
   {
    "duration": 19,
    "start_time": "2025-01-06T18:46:58.198Z"
   },
   {
    "duration": 15,
    "start_time": "2025-01-06T18:46:58.218Z"
   },
   {
    "duration": 36,
    "start_time": "2025-01-06T18:46:58.235Z"
   },
   {
    "duration": 42,
    "start_time": "2025-01-06T18:46:58.273Z"
   },
   {
    "duration": 16,
    "start_time": "2025-01-06T18:46:58.317Z"
   },
   {
    "duration": 266,
    "start_time": "2025-01-06T18:46:58.335Z"
   },
   {
    "duration": 35,
    "start_time": "2025-01-06T18:46:58.602Z"
   },
   {
    "duration": 33,
    "start_time": "2025-01-06T18:46:58.639Z"
   },
   {
    "duration": 36,
    "start_time": "2025-01-06T18:46:58.674Z"
   },
   {
    "duration": 66,
    "start_time": "2025-01-06T18:46:58.712Z"
   },
   {
    "duration": 44,
    "start_time": "2025-01-06T18:46:58.779Z"
   },
   {
    "duration": 10,
    "start_time": "2025-01-06T18:46:58.824Z"
   },
   {
    "duration": 259,
    "start_time": "2025-01-06T18:46:58.836Z"
   },
   {
    "duration": 11,
    "start_time": "2025-01-06T18:46:59.099Z"
   },
   {
    "duration": 14,
    "start_time": "2025-01-06T19:58:56.952Z"
   },
   {
    "duration": 14,
    "start_time": "2025-01-06T19:59:08.662Z"
   },
   {
    "duration": 35,
    "start_time": "2025-01-06T19:59:47.449Z"
   },
   {
    "duration": 17,
    "start_time": "2025-01-06T20:00:07.933Z"
   },
   {
    "duration": 26,
    "start_time": "2025-01-06T20:00:39.020Z"
   },
   {
    "duration": 41,
    "start_time": "2025-01-06T20:06:44.663Z"
   },
   {
    "duration": 17,
    "start_time": "2025-01-06T20:06:52.851Z"
   },
   {
    "duration": 26,
    "start_time": "2025-01-06T20:08:44.046Z"
   },
   {
    "duration": 139,
    "start_time": "2025-01-06T20:39:41.183Z"
   },
   {
    "duration": 30,
    "start_time": "2025-01-06T20:39:45.816Z"
   },
   {
    "duration": 30,
    "start_time": "2025-01-06T20:40:16.100Z"
   },
   {
    "duration": 30,
    "start_time": "2025-01-06T20:40:48.767Z"
   },
   {
    "duration": 32,
    "start_time": "2025-01-06T20:41:07.793Z"
   },
   {
    "duration": 35,
    "start_time": "2025-01-06T20:41:12.148Z"
   },
   {
    "duration": 76,
    "start_time": "2025-01-06T20:47:16.876Z"
   },
   {
    "duration": 72,
    "start_time": "2025-01-06T20:47:35.632Z"
   },
   {
    "duration": 17,
    "start_time": "2025-01-06T20:48:37.122Z"
   },
   {
    "duration": 34,
    "start_time": "2025-01-06T21:24:41.362Z"
   },
   {
    "duration": 70,
    "start_time": "2025-01-06T21:31:56.943Z"
   },
   {
    "duration": 82,
    "start_time": "2025-01-06T21:32:17.012Z"
   },
   {
    "duration": 38,
    "start_time": "2025-01-06T21:33:43.845Z"
   },
   {
    "duration": 84,
    "start_time": "2025-01-06T21:41:22.037Z"
   },
   {
    "duration": 98,
    "start_time": "2025-01-06T21:41:27.602Z"
   },
   {
    "duration": 89,
    "start_time": "2025-01-06T21:41:30.594Z"
   },
   {
    "duration": 91,
    "start_time": "2025-01-06T21:41:39.608Z"
   },
   {
    "duration": 87,
    "start_time": "2025-01-06T21:41:40.987Z"
   },
   {
    "duration": 89,
    "start_time": "2025-01-06T21:41:41.578Z"
   },
   {
    "duration": 91,
    "start_time": "2025-01-06T21:41:42.133Z"
   },
   {
    "duration": 89,
    "start_time": "2025-01-06T21:41:42.586Z"
   },
   {
    "duration": 88,
    "start_time": "2025-01-06T21:41:42.983Z"
   },
   {
    "duration": 91,
    "start_time": "2025-01-06T21:41:43.655Z"
   },
   {
    "duration": 100,
    "start_time": "2025-01-06T21:41:44.144Z"
   },
   {
    "duration": 91,
    "start_time": "2025-01-06T21:41:44.963Z"
   },
   {
    "duration": 88,
    "start_time": "2025-01-06T21:41:45.511Z"
   },
   {
    "duration": 92,
    "start_time": "2025-01-06T21:41:46.072Z"
   },
   {
    "duration": 12,
    "start_time": "2025-01-06T21:53:09.122Z"
   },
   {
    "duration": 69,
    "start_time": "2025-01-06T22:38:16.110Z"
   },
   {
    "duration": 13,
    "start_time": "2025-01-06T22:40:41.188Z"
   },
   {
    "duration": 33,
    "start_time": "2025-01-06T22:45:16.491Z"
   },
   {
    "duration": 46,
    "start_time": "2025-01-06T22:45:28.511Z"
   },
   {
    "duration": 35,
    "start_time": "2025-01-06T22:45:47.131Z"
   },
   {
    "duration": 3704,
    "start_time": "2025-01-06T22:46:15.871Z"
   },
   {
    "duration": 2283,
    "start_time": "2025-01-06T22:46:19.578Z"
   },
   {
    "duration": 17,
    "start_time": "2025-01-06T22:46:21.863Z"
   },
   {
    "duration": 21,
    "start_time": "2025-01-06T22:46:21.882Z"
   },
   {
    "duration": 121,
    "start_time": "2025-01-06T22:46:21.905Z"
   },
   {
    "duration": 8,
    "start_time": "2025-01-06T22:46:22.028Z"
   },
   {
    "duration": 11,
    "start_time": "2025-01-06T22:46:22.037Z"
   },
   {
    "duration": 61,
    "start_time": "2025-01-06T22:46:22.049Z"
   },
   {
    "duration": 10,
    "start_time": "2025-01-06T22:46:22.112Z"
   },
   {
    "duration": 15,
    "start_time": "2025-01-06T22:46:22.124Z"
   },
   {
    "duration": 9,
    "start_time": "2025-01-06T22:46:22.141Z"
   },
   {
    "duration": 25,
    "start_time": "2025-01-06T22:46:22.152Z"
   },
   {
    "duration": 113,
    "start_time": "2025-01-06T22:46:22.179Z"
   },
   {
    "duration": 26,
    "start_time": "2025-01-06T22:46:22.294Z"
   },
   {
    "duration": 92,
    "start_time": "2025-01-06T22:46:22.322Z"
   },
   {
    "duration": 15,
    "start_time": "2025-01-06T22:46:22.416Z"
   },
   {
    "duration": 8,
    "start_time": "2025-01-06T22:46:22.433Z"
   },
   {
    "duration": 47,
    "start_time": "2025-01-06T22:46:22.442Z"
   },
   {
    "duration": 16,
    "start_time": "2025-01-06T22:46:22.490Z"
   },
   {
    "duration": 286,
    "start_time": "2025-01-06T22:46:22.508Z"
   },
   {
    "duration": 33,
    "start_time": "2025-01-06T22:46:22.796Z"
   },
   {
    "duration": 15,
    "start_time": "2025-01-06T22:46:22.831Z"
   },
   {
    "duration": 54,
    "start_time": "2025-01-06T22:46:22.848Z"
   },
   {
    "duration": 40,
    "start_time": "2025-01-06T22:46:22.904Z"
   },
   {
    "duration": 79,
    "start_time": "2025-01-06T22:46:22.946Z"
   },
   {
    "duration": 10,
    "start_time": "2025-01-06T22:46:23.027Z"
   },
   {
    "duration": 246,
    "start_time": "2025-01-06T22:46:23.039Z"
   },
   {
    "duration": 11,
    "start_time": "2025-01-06T22:46:23.288Z"
   },
   {
    "duration": 42,
    "start_time": "2025-01-06T22:46:23.301Z"
   },
   {
    "duration": 37,
    "start_time": "2025-01-06T22:46:23.344Z"
   },
   {
    "duration": 7,
    "start_time": "2025-01-06T22:46:23.383Z"
   },
   {
    "duration": 86,
    "start_time": "2025-01-06T22:46:23.391Z"
   },
   {
    "duration": 37,
    "start_time": "2025-01-06T22:46:23.479Z"
   },
   {
    "duration": 101,
    "start_time": "2025-01-06T22:49:33.510Z"
   },
   {
    "duration": 175,
    "start_time": "2025-01-06T22:49:52.348Z"
   },
   {
    "duration": 37,
    "start_time": "2025-01-06T22:50:18.424Z"
   },
   {
    "duration": 119,
    "start_time": "2025-01-06T22:56:02.009Z"
   },
   {
    "duration": 344,
    "start_time": "2025-01-06T22:57:12.945Z"
   },
   {
    "duration": 354,
    "start_time": "2025-01-06T22:57:15.491Z"
   },
   {
    "duration": 33,
    "start_time": "2025-01-06T22:57:58.533Z"
   },
   {
    "duration": 3749,
    "start_time": "2025-01-06T22:59:04.374Z"
   },
   {
    "duration": 2345,
    "start_time": "2025-01-06T22:59:08.126Z"
   },
   {
    "duration": 14,
    "start_time": "2025-01-06T22:59:10.473Z"
   },
   {
    "duration": 40,
    "start_time": "2025-01-06T22:59:10.489Z"
   },
   {
    "duration": 141,
    "start_time": "2025-01-06T22:59:10.531Z"
   },
   {
    "duration": 8,
    "start_time": "2025-01-06T22:59:10.673Z"
   },
   {
    "duration": 9,
    "start_time": "2025-01-06T22:59:10.683Z"
   },
   {
    "duration": 46,
    "start_time": "2025-01-06T22:59:10.694Z"
   },
   {
    "duration": 31,
    "start_time": "2025-01-06T22:59:10.741Z"
   },
   {
    "duration": 7,
    "start_time": "2025-01-06T22:59:10.776Z"
   },
   {
    "duration": 10,
    "start_time": "2025-01-06T22:59:10.785Z"
   },
   {
    "duration": 16,
    "start_time": "2025-01-06T22:59:10.796Z"
   },
   {
    "duration": 124,
    "start_time": "2025-01-06T22:59:10.814Z"
   },
   {
    "duration": 33,
    "start_time": "2025-01-06T22:59:10.940Z"
   },
   {
    "duration": 43,
    "start_time": "2025-01-06T22:59:10.976Z"
   },
   {
    "duration": 38,
    "start_time": "2025-01-06T22:59:11.021Z"
   },
   {
    "duration": 24,
    "start_time": "2025-01-06T22:59:11.061Z"
   },
   {
    "duration": 45,
    "start_time": "2025-01-06T22:59:11.087Z"
   },
   {
    "duration": 15,
    "start_time": "2025-01-06T22:59:11.133Z"
   },
   {
    "duration": 259,
    "start_time": "2025-01-06T22:59:11.150Z"
   },
   {
    "duration": 33,
    "start_time": "2025-01-06T22:59:11.411Z"
   },
   {
    "duration": 34,
    "start_time": "2025-01-06T22:59:11.446Z"
   },
   {
    "duration": 35,
    "start_time": "2025-01-06T22:59:11.482Z"
   },
   {
    "duration": 66,
    "start_time": "2025-01-06T22:59:11.518Z"
   },
   {
    "duration": 45,
    "start_time": "2025-01-06T22:59:11.586Z"
   },
   {
    "duration": 11,
    "start_time": "2025-01-06T22:59:11.632Z"
   },
   {
    "duration": 253,
    "start_time": "2025-01-06T22:59:11.645Z"
   },
   {
    "duration": 11,
    "start_time": "2025-01-06T22:59:11.901Z"
   },
   {
    "duration": 58,
    "start_time": "2025-01-06T22:59:11.914Z"
   },
   {
    "duration": 17,
    "start_time": "2025-01-06T22:59:11.973Z"
   },
   {
    "duration": 8,
    "start_time": "2025-01-06T22:59:11.991Z"
   },
   {
    "duration": 171,
    "start_time": "2025-01-06T22:59:12.000Z"
   },
   {
    "duration": 50,
    "start_time": "2025-01-06T22:59:12.172Z"
   },
   {
    "duration": 167,
    "start_time": "2025-01-06T22:59:12.223Z"
   },
   {
    "duration": 524,
    "start_time": "2025-01-06T22:59:32.781Z"
   },
   {
    "duration": 3736,
    "start_time": "2025-01-06T22:59:41.541Z"
   },
   {
    "duration": 2057,
    "start_time": "2025-01-06T22:59:45.280Z"
   },
   {
    "duration": 13,
    "start_time": "2025-01-06T22:59:47.339Z"
   },
   {
    "duration": 30,
    "start_time": "2025-01-06T22:59:47.354Z"
   },
   {
    "duration": 118,
    "start_time": "2025-01-06T22:59:47.385Z"
   },
   {
    "duration": 8,
    "start_time": "2025-01-06T22:59:47.504Z"
   },
   {
    "duration": 9,
    "start_time": "2025-01-06T22:59:47.514Z"
   },
   {
    "duration": 64,
    "start_time": "2025-01-06T22:59:47.525Z"
   },
   {
    "duration": 12,
    "start_time": "2025-01-06T22:59:47.592Z"
   },
   {
    "duration": 31,
    "start_time": "2025-01-06T22:59:47.607Z"
   },
   {
    "duration": 14,
    "start_time": "2025-01-06T22:59:47.639Z"
   },
   {
    "duration": 21,
    "start_time": "2025-01-06T22:59:47.654Z"
   },
   {
    "duration": 107,
    "start_time": "2025-01-06T22:59:47.676Z"
   },
   {
    "duration": 24,
    "start_time": "2025-01-06T22:59:47.785Z"
   },
   {
    "duration": 24,
    "start_time": "2025-01-06T22:59:47.811Z"
   },
   {
    "duration": 21,
    "start_time": "2025-01-06T22:59:47.836Z"
   },
   {
    "duration": 18,
    "start_time": "2025-01-06T22:59:47.859Z"
   },
   {
    "duration": 41,
    "start_time": "2025-01-06T22:59:47.879Z"
   },
   {
    "duration": 15,
    "start_time": "2025-01-06T22:59:47.922Z"
   },
   {
    "duration": 278,
    "start_time": "2025-01-06T22:59:47.939Z"
   },
   {
    "duration": 33,
    "start_time": "2025-01-06T22:59:48.219Z"
   },
   {
    "duration": 27,
    "start_time": "2025-01-06T22:59:48.255Z"
   },
   {
    "duration": 83,
    "start_time": "2025-01-06T22:59:48.284Z"
   },
   {
    "duration": 41,
    "start_time": "2025-01-06T22:59:48.369Z"
   },
   {
    "duration": 39,
    "start_time": "2025-01-06T22:59:48.411Z"
   },
   {
    "duration": 27,
    "start_time": "2025-01-06T22:59:48.451Z"
   },
   {
    "duration": 243,
    "start_time": "2025-01-06T22:59:48.479Z"
   },
   {
    "duration": 11,
    "start_time": "2025-01-06T22:59:48.725Z"
   },
   {
    "duration": 56,
    "start_time": "2025-01-06T22:59:48.737Z"
   },
   {
    "duration": 15,
    "start_time": "2025-01-06T22:59:48.795Z"
   },
   {
    "duration": 7,
    "start_time": "2025-01-06T22:59:48.812Z"
   },
   {
    "duration": 171,
    "start_time": "2025-01-06T22:59:48.821Z"
   },
   {
    "duration": 51,
    "start_time": "2025-01-06T22:59:48.993Z"
   },
   {
    "duration": 166,
    "start_time": "2025-01-06T22:59:49.045Z"
   },
   {
    "duration": 169,
    "start_time": "2025-01-06T23:00:01.891Z"
   },
   {
    "duration": 260,
    "start_time": "2025-01-06T23:00:30.183Z"
   },
   {
    "duration": 347,
    "start_time": "2025-01-06T23:02:11.042Z"
   },
   {
    "duration": 183,
    "start_time": "2025-01-06T23:07:29.376Z"
   },
   {
    "duration": 286,
    "start_time": "2025-01-06T23:07:42.913Z"
   },
   {
    "duration": 288,
    "start_time": "2025-01-06T23:07:54.204Z"
   },
   {
    "duration": 178,
    "start_time": "2025-01-06T23:08:31.328Z"
   },
   {
    "duration": 290,
    "start_time": "2025-01-06T23:08:49.585Z"
   },
   {
    "duration": 321,
    "start_time": "2025-01-06T23:09:04.505Z"
   },
   {
    "duration": 289,
    "start_time": "2025-01-06T23:09:11.181Z"
   },
   {
    "duration": 280,
    "start_time": "2025-01-06T23:10:10.948Z"
   },
   {
    "duration": 312,
    "start_time": "2025-01-06T23:10:16.075Z"
   },
   {
    "duration": 4034,
    "start_time": "2025-01-06T23:10:20.609Z"
   },
   {
    "duration": 2241,
    "start_time": "2025-01-06T23:10:24.645Z"
   },
   {
    "duration": 13,
    "start_time": "2025-01-06T23:10:26.888Z"
   },
   {
    "duration": 23,
    "start_time": "2025-01-06T23:10:26.903Z"
   },
   {
    "duration": 127,
    "start_time": "2025-01-06T23:10:26.928Z"
   },
   {
    "duration": 14,
    "start_time": "2025-01-06T23:10:27.057Z"
   },
   {
    "duration": 16,
    "start_time": "2025-01-06T23:10:27.073Z"
   },
   {
    "duration": 60,
    "start_time": "2025-01-06T23:10:27.090Z"
   },
   {
    "duration": 11,
    "start_time": "2025-01-06T23:10:27.151Z"
   },
   {
    "duration": 8,
    "start_time": "2025-01-06T23:10:27.164Z"
   },
   {
    "duration": 9,
    "start_time": "2025-01-06T23:10:27.173Z"
   },
   {
    "duration": 11,
    "start_time": "2025-01-06T23:10:27.184Z"
   },
   {
    "duration": 123,
    "start_time": "2025-01-06T23:10:27.197Z"
   },
   {
    "duration": 25,
    "start_time": "2025-01-06T23:10:27.322Z"
   },
   {
    "duration": 33,
    "start_time": "2025-01-06T23:10:27.349Z"
   },
   {
    "duration": 13,
    "start_time": "2025-01-06T23:10:27.383Z"
   },
   {
    "duration": 9,
    "start_time": "2025-01-06T23:10:27.397Z"
   },
   {
    "duration": 64,
    "start_time": "2025-01-06T23:10:27.407Z"
   },
   {
    "duration": 17,
    "start_time": "2025-01-06T23:10:27.473Z"
   },
   {
    "duration": 249,
    "start_time": "2025-01-06T23:10:27.491Z"
   },
   {
    "duration": 41,
    "start_time": "2025-01-06T23:10:27.742Z"
   },
   {
    "duration": 16,
    "start_time": "2025-01-06T23:10:27.785Z"
   },
   {
    "duration": 34,
    "start_time": "2025-01-06T23:10:27.803Z"
   },
   {
    "duration": 64,
    "start_time": "2025-01-06T23:10:27.839Z"
   },
   {
    "duration": 43,
    "start_time": "2025-01-06T23:10:27.905Z"
   },
   {
    "duration": 29,
    "start_time": "2025-01-06T23:10:27.949Z"
   },
   {
    "duration": 248,
    "start_time": "2025-01-06T23:10:27.980Z"
   },
   {
    "duration": 12,
    "start_time": "2025-01-06T23:10:28.231Z"
   },
   {
    "duration": 54,
    "start_time": "2025-01-06T23:10:28.245Z"
   },
   {
    "duration": 15,
    "start_time": "2025-01-06T23:10:28.301Z"
   },
   {
    "duration": 93,
    "start_time": "2025-01-06T23:10:28.317Z"
   },
   {
    "duration": 172,
    "start_time": "2025-01-06T23:10:28.412Z"
   },
   {
    "duration": 48,
    "start_time": "2025-01-06T23:10:28.586Z"
   },
   {
    "duration": 437,
    "start_time": "2025-01-06T23:10:28.636Z"
   },
   {
    "duration": 304,
    "start_time": "2025-01-06T23:10:29.075Z"
   },
   {
    "duration": 130,
    "start_time": "2025-01-06T23:11:33.008Z"
   },
   {
    "duration": 51,
    "start_time": "2025-01-06T23:11:43.246Z"
   },
   {
    "duration": 4,
    "start_time": "2025-01-06T23:12:01.052Z"
   },
   {
    "duration": 3699,
    "start_time": "2025-01-06T23:12:04.963Z"
   },
   {
    "duration": 2006,
    "start_time": "2025-01-06T23:12:08.664Z"
   },
   {
    "duration": 13,
    "start_time": "2025-01-06T23:12:10.672Z"
   },
   {
    "duration": 43,
    "start_time": "2025-01-06T23:12:10.687Z"
   },
   {
    "duration": 113,
    "start_time": "2025-01-06T23:12:10.732Z"
   },
   {
    "duration": 8,
    "start_time": "2025-01-06T23:12:10.847Z"
   },
   {
    "duration": 24,
    "start_time": "2025-01-06T23:12:10.857Z"
   },
   {
    "duration": 7,
    "start_time": "2025-01-06T23:12:10.883Z"
   },
   {
    "duration": 10,
    "start_time": "2025-01-06T23:12:10.892Z"
   },
   {
    "duration": 20,
    "start_time": "2025-01-06T23:12:10.904Z"
   },
   {
    "duration": 15,
    "start_time": "2025-01-06T23:12:10.926Z"
   },
   {
    "duration": 29,
    "start_time": "2025-01-06T23:12:10.942Z"
   },
   {
    "duration": 106,
    "start_time": "2025-01-06T23:12:10.973Z"
   },
   {
    "duration": 24,
    "start_time": "2025-01-06T23:12:11.081Z"
   },
   {
    "duration": 25,
    "start_time": "2025-01-06T23:12:11.107Z"
   },
   {
    "duration": 14,
    "start_time": "2025-01-06T23:12:11.133Z"
   },
   {
    "duration": 10,
    "start_time": "2025-01-06T23:12:11.170Z"
   },
   {
    "duration": 40,
    "start_time": "2025-01-06T23:12:11.182Z"
   },
   {
    "duration": 16,
    "start_time": "2025-01-06T23:12:11.224Z"
   },
   {
    "duration": 284,
    "start_time": "2025-01-06T23:12:11.241Z"
   },
   {
    "duration": 44,
    "start_time": "2025-01-06T23:12:11.527Z"
   },
   {
    "duration": 17,
    "start_time": "2025-01-06T23:12:11.572Z"
   },
   {
    "duration": 34,
    "start_time": "2025-01-06T23:12:11.591Z"
   },
   {
    "duration": 66,
    "start_time": "2025-01-06T23:12:11.627Z"
   },
   {
    "duration": 43,
    "start_time": "2025-01-06T23:12:11.694Z"
   },
   {
    "duration": 10,
    "start_time": "2025-01-06T23:12:11.739Z"
   },
   {
    "duration": 232,
    "start_time": "2025-01-06T23:12:11.771Z"
   },
   {
    "duration": 12,
    "start_time": "2025-01-06T23:12:12.006Z"
   },
   {
    "duration": 54,
    "start_time": "2025-01-06T23:12:12.020Z"
   },
   {
    "duration": 15,
    "start_time": "2025-01-06T23:12:12.076Z"
   },
   {
    "duration": 7,
    "start_time": "2025-01-06T23:12:12.093Z"
   },
   {
    "duration": 173,
    "start_time": "2025-01-06T23:12:12.102Z"
   },
   {
    "duration": 49,
    "start_time": "2025-01-06T23:12:12.277Z"
   },
   {
    "duration": 453,
    "start_time": "2025-01-06T23:12:12.328Z"
   },
   {
    "duration": 140,
    "start_time": "2025-01-06T23:12:12.783Z"
   },
   {
    "duration": 105,
    "start_time": "2025-01-06T23:16:18.257Z"
   },
   {
    "duration": 104,
    "start_time": "2025-01-06T23:16:43.611Z"
   },
   {
    "duration": 106,
    "start_time": "2025-01-06T23:16:43.800Z"
   },
   {
    "duration": 46,
    "start_time": "2025-01-06T23:21:21.073Z"
   },
   {
    "duration": 172,
    "start_time": "2025-01-06T23:21:31.619Z"
   },
   {
    "duration": 105,
    "start_time": "2025-01-06T23:21:58.051Z"
   },
   {
    "duration": 162,
    "start_time": "2025-01-06T23:22:01.156Z"
   },
   {
    "duration": 75,
    "start_time": "2025-01-06T23:22:44.933Z"
   },
   {
    "duration": 77,
    "start_time": "2025-01-06T23:25:22.795Z"
   },
   {
    "duration": 120,
    "start_time": "2025-01-06T23:25:29.103Z"
   },
   {
    "duration": 124,
    "start_time": "2025-01-06T23:26:04.297Z"
   },
   {
    "duration": 107,
    "start_time": "2025-01-06T23:26:11.693Z"
   },
   {
    "duration": 101,
    "start_time": "2025-01-06T23:29:34.233Z"
   },
   {
    "duration": 124,
    "start_time": "2025-01-06T23:31:19.967Z"
   },
   {
    "duration": 3767,
    "start_time": "2025-01-06T23:31:57.451Z"
   },
   {
    "duration": 2234,
    "start_time": "2025-01-06T23:32:01.220Z"
   },
   {
    "duration": 16,
    "start_time": "2025-01-06T23:32:03.456Z"
   },
   {
    "duration": 23,
    "start_time": "2025-01-06T23:32:03.474Z"
   },
   {
    "duration": 129,
    "start_time": "2025-01-06T23:32:03.499Z"
   },
   {
    "duration": 8,
    "start_time": "2025-01-06T23:32:03.630Z"
   },
   {
    "duration": 31,
    "start_time": "2025-01-06T23:32:03.639Z"
   },
   {
    "duration": 17,
    "start_time": "2025-01-06T23:32:03.672Z"
   },
   {
    "duration": 22,
    "start_time": "2025-01-06T23:32:03.691Z"
   },
   {
    "duration": 28,
    "start_time": "2025-01-06T23:32:03.716Z"
   },
   {
    "duration": 15,
    "start_time": "2025-01-06T23:32:03.746Z"
   },
   {
    "duration": 18,
    "start_time": "2025-01-06T23:32:03.763Z"
   },
   {
    "duration": 113,
    "start_time": "2025-01-06T23:32:03.783Z"
   },
   {
    "duration": 29,
    "start_time": "2025-01-06T23:32:03.898Z"
   },
   {
    "duration": 19,
    "start_time": "2025-01-06T23:32:03.929Z"
   },
   {
    "duration": 30,
    "start_time": "2025-01-06T23:32:03.950Z"
   },
   {
    "duration": 15,
    "start_time": "2025-01-06T23:32:03.982Z"
   },
   {
    "duration": 42,
    "start_time": "2025-01-06T23:32:03.998Z"
   },
   {
    "duration": 34,
    "start_time": "2025-01-06T23:32:04.042Z"
   },
   {
    "duration": 264,
    "start_time": "2025-01-06T23:32:04.081Z"
   },
   {
    "duration": 40,
    "start_time": "2025-01-06T23:32:04.346Z"
   },
   {
    "duration": 87,
    "start_time": "2025-01-06T23:32:04.387Z"
   },
   {
    "duration": 34,
    "start_time": "2025-01-06T23:32:04.476Z"
   },
   {
    "duration": 42,
    "start_time": "2025-01-06T23:32:04.511Z"
   },
   {
    "duration": 42,
    "start_time": "2025-01-06T23:32:04.571Z"
   },
   {
    "duration": 11,
    "start_time": "2025-01-06T23:32:04.615Z"
   },
   {
    "duration": 259,
    "start_time": "2025-01-06T23:32:04.627Z"
   },
   {
    "duration": 12,
    "start_time": "2025-01-06T23:32:04.889Z"
   },
   {
    "duration": 54,
    "start_time": "2025-01-06T23:32:04.903Z"
   },
   {
    "duration": 20,
    "start_time": "2025-01-06T23:32:04.959Z"
   },
   {
    "duration": 7,
    "start_time": "2025-01-06T23:32:04.981Z"
   },
   {
    "duration": 177,
    "start_time": "2025-01-06T23:32:04.990Z"
   },
   {
    "duration": 49,
    "start_time": "2025-01-06T23:32:05.170Z"
   },
   {
    "duration": 383,
    "start_time": "2025-01-06T23:32:05.220Z"
   },
   {
    "duration": 149,
    "start_time": "2025-01-06T23:32:05.605Z"
   },
   {
    "duration": 118,
    "start_time": "2025-01-06T23:32:05.756Z"
   },
   {
    "duration": 113,
    "start_time": "2025-01-06T23:32:05.876Z"
   },
   {
    "duration": 354,
    "start_time": "2025-01-06T23:42:17.978Z"
   },
   {
    "duration": 366,
    "start_time": "2025-01-06T23:42:30.044Z"
   },
   {
    "duration": 27,
    "start_time": "2025-01-06T23:43:47.779Z"
   },
   {
    "duration": 51,
    "start_time": "2025-01-06T23:44:32.662Z"
   },
   {
    "duration": 28,
    "start_time": "2025-01-06T23:46:21.477Z"
   },
   {
    "duration": 17,
    "start_time": "2025-01-06T23:47:13.395Z"
   },
   {
    "duration": 28,
    "start_time": "2025-01-06T23:47:20.381Z"
   },
   {
    "duration": 111,
    "start_time": "2025-01-06T23:47:51.335Z"
   },
   {
    "duration": 11,
    "start_time": "2025-01-06T23:47:51.594Z"
   },
   {
    "duration": 27,
    "start_time": "2025-01-06T23:48:38.139Z"
   },
   {
    "duration": 3645,
    "start_time": "2025-01-06T23:48:45.008Z"
   },
   {
    "duration": 2404,
    "start_time": "2025-01-06T23:48:48.656Z"
   },
   {
    "duration": 13,
    "start_time": "2025-01-06T23:48:51.062Z"
   },
   {
    "duration": 22,
    "start_time": "2025-01-06T23:48:51.077Z"
   },
   {
    "duration": 122,
    "start_time": "2025-01-06T23:48:51.101Z"
   },
   {
    "duration": 8,
    "start_time": "2025-01-06T23:48:51.225Z"
   },
   {
    "duration": 51,
    "start_time": "2025-01-06T23:48:51.234Z"
   },
   {
    "duration": 16,
    "start_time": "2025-01-06T23:48:51.287Z"
   },
   {
    "duration": 21,
    "start_time": "2025-01-06T23:48:51.304Z"
   },
   {
    "duration": 6,
    "start_time": "2025-01-06T23:48:51.328Z"
   },
   {
    "duration": 9,
    "start_time": "2025-01-06T23:48:51.336Z"
   },
   {
    "duration": 12,
    "start_time": "2025-01-06T23:48:51.346Z"
   },
   {
    "duration": 104,
    "start_time": "2025-01-06T23:48:51.360Z"
   },
   {
    "duration": 28,
    "start_time": "2025-01-06T23:48:51.466Z"
   },
   {
    "duration": 24,
    "start_time": "2025-01-06T23:48:51.496Z"
   },
   {
    "duration": 14,
    "start_time": "2025-01-06T23:48:51.522Z"
   },
   {
    "duration": 39,
    "start_time": "2025-01-06T23:48:51.538Z"
   },
   {
    "duration": 40,
    "start_time": "2025-01-06T23:48:51.579Z"
   },
   {
    "duration": 15,
    "start_time": "2025-01-06T23:48:51.621Z"
   },
   {
    "duration": 258,
    "start_time": "2025-01-06T23:48:51.638Z"
   },
   {
    "duration": 35,
    "start_time": "2025-01-06T23:48:51.898Z"
   },
   {
    "duration": 39,
    "start_time": "2025-01-06T23:48:51.935Z"
   },
   {
    "duration": 32,
    "start_time": "2025-01-06T23:48:51.976Z"
   },
   {
    "duration": 61,
    "start_time": "2025-01-06T23:48:52.011Z"
   },
   {
    "duration": 41,
    "start_time": "2025-01-06T23:48:52.074Z"
   },
   {
    "duration": 11,
    "start_time": "2025-01-06T23:48:52.116Z"
   },
   {
    "duration": 249,
    "start_time": "2025-01-06T23:48:52.129Z"
   },
   {
    "duration": 12,
    "start_time": "2025-01-06T23:48:52.382Z"
   },
   {
    "duration": 47,
    "start_time": "2025-01-06T23:48:52.396Z"
   },
   {
    "duration": 32,
    "start_time": "2025-01-06T23:48:52.445Z"
   },
   {
    "duration": 68,
    "start_time": "2025-01-06T23:48:52.479Z"
   },
   {
    "duration": 156,
    "start_time": "2025-01-06T23:48:52.549Z"
   },
   {
    "duration": 49,
    "start_time": "2025-01-06T23:48:52.707Z"
   },
   {
    "duration": 116,
    "start_time": "2025-01-06T23:48:52.758Z"
   },
   {
    "duration": 0,
    "start_time": "2025-01-06T23:48:52.877Z"
   },
   {
    "duration": 1,
    "start_time": "2025-01-06T23:48:52.878Z"
   },
   {
    "duration": 0,
    "start_time": "2025-01-06T23:48:52.880Z"
   },
   {
    "duration": 0,
    "start_time": "2025-01-06T23:48:52.881Z"
   },
   {
    "duration": 0,
    "start_time": "2025-01-06T23:48:52.883Z"
   },
   {
    "duration": 11,
    "start_time": "2025-01-06T23:49:35.488Z"
   },
   {
    "duration": 14,
    "start_time": "2025-01-06T23:49:46.895Z"
   },
   {
    "duration": 103,
    "start_time": "2025-01-06T23:51:18.840Z"
   },
   {
    "duration": 11,
    "start_time": "2025-01-06T23:51:23.022Z"
   },
   {
    "duration": 104,
    "start_time": "2025-01-06T23:57:29.890Z"
   },
   {
    "duration": 10,
    "start_time": "2025-01-06T23:57:33.694Z"
   },
   {
    "duration": 102,
    "start_time": "2025-01-06T23:59:53.734Z"
   },
   {
    "duration": 3853,
    "start_time": "2025-01-07T00:00:01.344Z"
   },
   {
    "duration": 2365,
    "start_time": "2025-01-07T00:00:05.199Z"
   },
   {
    "duration": 14,
    "start_time": "2025-01-07T00:00:07.565Z"
   },
   {
    "duration": 31,
    "start_time": "2025-01-07T00:00:07.582Z"
   },
   {
    "duration": 121,
    "start_time": "2025-01-07T00:00:07.615Z"
   },
   {
    "duration": 8,
    "start_time": "2025-01-07T00:00:07.739Z"
   },
   {
    "duration": 23,
    "start_time": "2025-01-07T00:00:07.748Z"
   },
   {
    "duration": 27,
    "start_time": "2025-01-07T00:00:07.773Z"
   },
   {
    "duration": 17,
    "start_time": "2025-01-07T00:00:07.801Z"
   },
   {
    "duration": 32,
    "start_time": "2025-01-07T00:00:07.821Z"
   },
   {
    "duration": 21,
    "start_time": "2025-01-07T00:00:07.855Z"
   },
   {
    "duration": 11,
    "start_time": "2025-01-07T00:00:07.878Z"
   },
   {
    "duration": 115,
    "start_time": "2025-01-07T00:00:07.891Z"
   },
   {
    "duration": 24,
    "start_time": "2025-01-07T00:00:08.008Z"
   },
   {
    "duration": 20,
    "start_time": "2025-01-07T00:00:08.034Z"
   },
   {
    "duration": 13,
    "start_time": "2025-01-07T00:00:08.070Z"
   },
   {
    "duration": 12,
    "start_time": "2025-01-07T00:00:08.085Z"
   },
   {
    "duration": 40,
    "start_time": "2025-01-07T00:00:08.099Z"
   },
   {
    "duration": 39,
    "start_time": "2025-01-07T00:00:08.141Z"
   },
   {
    "duration": 257,
    "start_time": "2025-01-07T00:00:08.182Z"
   },
   {
    "duration": 41,
    "start_time": "2025-01-07T00:00:08.440Z"
   },
   {
    "duration": 121,
    "start_time": "2025-01-07T00:00:08.483Z"
   },
   {
    "duration": 35,
    "start_time": "2025-01-07T00:00:08.606Z"
   },
   {
    "duration": 42,
    "start_time": "2025-01-07T00:00:08.643Z"
   },
   {
    "duration": 40,
    "start_time": "2025-01-07T00:00:08.687Z"
   },
   {
    "duration": 10,
    "start_time": "2025-01-07T00:00:08.729Z"
   },
   {
    "duration": 248,
    "start_time": "2025-01-07T00:00:08.740Z"
   },
   {
    "duration": 12,
    "start_time": "2025-01-07T00:00:08.991Z"
   },
   {
    "duration": 64,
    "start_time": "2025-01-07T00:00:09.005Z"
   },
   {
    "duration": 15,
    "start_time": "2025-01-07T00:00:09.071Z"
   },
   {
    "duration": 21,
    "start_time": "2025-01-07T00:00:09.087Z"
   },
   {
    "duration": 109,
    "start_time": "2025-01-07T00:00:09.110Z"
   },
   {
    "duration": 57,
    "start_time": "2025-01-07T00:00:09.221Z"
   },
   {
    "duration": 96,
    "start_time": "2025-01-07T00:00:09.280Z"
   },
   {
    "duration": 224,
    "start_time": "2025-01-07T00:00:09.377Z"
   },
   {
    "duration": 97,
    "start_time": "2025-01-07T00:00:09.603Z"
   },
   {
    "duration": 79,
    "start_time": "2025-01-07T00:00:09.701Z"
   },
   {
    "duration": 70,
    "start_time": "2025-01-07T00:00:09.782Z"
   },
   {
    "duration": 29,
    "start_time": "2025-01-07T00:00:09.854Z"
   },
   {
    "duration": 223,
    "start_time": "2025-01-07T00:01:04.173Z"
   },
   {
    "duration": 208,
    "start_time": "2025-01-07T00:03:44.367Z"
   },
   {
    "duration": 193,
    "start_time": "2025-01-07T00:06:13.213Z"
   },
   {
    "duration": 222,
    "start_time": "2025-01-07T00:07:24.133Z"
   },
   {
    "duration": 200,
    "start_time": "2025-01-07T00:09:17.961Z"
   },
   {
    "duration": 210,
    "start_time": "2025-01-07T00:09:32.385Z"
   },
   {
    "duration": 112,
    "start_time": "2025-01-07T00:10:52.151Z"
   },
   {
    "duration": 14,
    "start_time": "2025-01-07T00:11:12.457Z"
   },
   {
    "duration": 11,
    "start_time": "2025-01-07T00:12:06.658Z"
   },
   {
    "duration": 3693,
    "start_time": "2025-01-07T00:12:20.107Z"
   },
   {
    "duration": 2352,
    "start_time": "2025-01-07T00:12:23.802Z"
   },
   {
    "duration": 17,
    "start_time": "2025-01-07T00:12:26.156Z"
   },
   {
    "duration": 23,
    "start_time": "2025-01-07T00:12:26.176Z"
   },
   {
    "duration": 122,
    "start_time": "2025-01-07T00:12:26.200Z"
   },
   {
    "duration": 8,
    "start_time": "2025-01-07T00:12:26.324Z"
   },
   {
    "duration": 32,
    "start_time": "2025-01-07T00:12:26.333Z"
   },
   {
    "duration": 19,
    "start_time": "2025-01-07T00:12:26.367Z"
   },
   {
    "duration": 10,
    "start_time": "2025-01-07T00:12:26.387Z"
   },
   {
    "duration": 6,
    "start_time": "2025-01-07T00:12:26.400Z"
   },
   {
    "duration": 9,
    "start_time": "2025-01-07T00:12:26.407Z"
   },
   {
    "duration": 28,
    "start_time": "2025-01-07T00:12:26.417Z"
   },
   {
    "duration": 102,
    "start_time": "2025-01-07T00:12:26.447Z"
   },
   {
    "duration": 27,
    "start_time": "2025-01-07T00:12:26.551Z"
   },
   {
    "duration": 19,
    "start_time": "2025-01-07T00:12:26.580Z"
   },
   {
    "duration": 12,
    "start_time": "2025-01-07T00:12:26.600Z"
   },
   {
    "duration": 8,
    "start_time": "2025-01-07T00:12:26.613Z"
   },
   {
    "duration": 65,
    "start_time": "2025-01-07T00:12:26.623Z"
   },
   {
    "duration": 16,
    "start_time": "2025-01-07T00:12:26.690Z"
   },
   {
    "duration": 276,
    "start_time": "2025-01-07T00:12:26.707Z"
   },
   {
    "duration": 32,
    "start_time": "2025-01-07T00:12:26.984Z"
   },
   {
    "duration": 17,
    "start_time": "2025-01-07T00:12:27.018Z"
   },
   {
    "duration": 56,
    "start_time": "2025-01-07T00:12:27.036Z"
   },
   {
    "duration": 40,
    "start_time": "2025-01-07T00:12:27.093Z"
   },
   {
    "duration": 64,
    "start_time": "2025-01-07T00:12:27.135Z"
   },
   {
    "duration": 10,
    "start_time": "2025-01-07T00:12:27.201Z"
   },
   {
    "duration": 239,
    "start_time": "2025-01-07T00:12:27.212Z"
   },
   {
    "duration": 21,
    "start_time": "2025-01-07T00:12:27.454Z"
   },
   {
    "duration": 40,
    "start_time": "2025-01-07T00:12:27.477Z"
   },
   {
    "duration": 15,
    "start_time": "2025-01-07T00:12:27.518Z"
   },
   {
    "duration": 7,
    "start_time": "2025-01-07T00:12:27.535Z"
   },
   {
    "duration": 127,
    "start_time": "2025-01-07T00:12:27.544Z"
   },
   {
    "duration": 49,
    "start_time": "2025-01-07T00:12:27.672Z"
   },
   {
    "duration": 251,
    "start_time": "2025-01-07T00:12:27.723Z"
   },
   {
    "duration": 101,
    "start_time": "2025-01-07T00:12:27.976Z"
   },
   {
    "duration": 70,
    "start_time": "2025-01-07T00:12:28.079Z"
   },
   {
    "duration": 83,
    "start_time": "2025-01-07T00:12:28.151Z"
   },
   {
    "duration": 15,
    "start_time": "2025-01-07T00:12:28.236Z"
   },
   {
    "duration": 16,
    "start_time": "2025-01-07T00:15:05.980Z"
   },
   {
    "duration": 28,
    "start_time": "2025-01-07T00:23:06.693Z"
   },
   {
    "duration": 3726,
    "start_time": "2025-01-07T00:24:04.955Z"
   },
   {
    "duration": 2226,
    "start_time": "2025-01-07T00:24:08.683Z"
   },
   {
    "duration": 13,
    "start_time": "2025-01-07T00:24:10.911Z"
   },
   {
    "duration": 24,
    "start_time": "2025-01-07T00:24:10.926Z"
   },
   {
    "duration": 113,
    "start_time": "2025-01-07T00:24:10.971Z"
   },
   {
    "duration": 9,
    "start_time": "2025-01-07T00:24:11.086Z"
   },
   {
    "duration": 15,
    "start_time": "2025-01-07T00:24:11.097Z"
   },
   {
    "duration": 7,
    "start_time": "2025-01-07T00:24:11.114Z"
   },
   {
    "duration": 11,
    "start_time": "2025-01-07T00:24:11.123Z"
   },
   {
    "duration": 35,
    "start_time": "2025-01-07T00:24:11.137Z"
   },
   {
    "duration": 16,
    "start_time": "2025-01-07T00:24:11.174Z"
   },
   {
    "duration": 12,
    "start_time": "2025-01-07T00:24:11.192Z"
   },
   {
    "duration": 121,
    "start_time": "2025-01-07T00:24:11.207Z"
   },
   {
    "duration": 25,
    "start_time": "2025-01-07T00:24:11.330Z"
   },
   {
    "duration": 33,
    "start_time": "2025-01-07T00:24:11.357Z"
   },
   {
    "duration": 37,
    "start_time": "2025-01-07T00:24:11.392Z"
   },
   {
    "duration": 65,
    "start_time": "2025-01-07T00:24:11.431Z"
   },
   {
    "duration": 50,
    "start_time": "2025-01-07T00:24:11.498Z"
   },
   {
    "duration": 16,
    "start_time": "2025-01-07T00:24:11.551Z"
   },
   {
    "duration": 259,
    "start_time": "2025-01-07T00:24:11.569Z"
   },
   {
    "duration": 47,
    "start_time": "2025-01-07T00:24:11.830Z"
   },
   {
    "duration": 17,
    "start_time": "2025-01-07T00:24:11.879Z"
   },
   {
    "duration": 35,
    "start_time": "2025-01-07T00:24:11.898Z"
   },
   {
    "duration": 65,
    "start_time": "2025-01-07T00:24:11.934Z"
   },
   {
    "duration": 41,
    "start_time": "2025-01-07T00:24:12.001Z"
   },
   {
    "duration": 31,
    "start_time": "2025-01-07T00:24:12.044Z"
   },
   {
    "duration": 238,
    "start_time": "2025-01-07T00:24:12.078Z"
   },
   {
    "duration": 12,
    "start_time": "2025-01-07T00:24:12.321Z"
   },
   {
    "duration": 61,
    "start_time": "2025-01-07T00:24:12.335Z"
   },
   {
    "duration": 16,
    "start_time": "2025-01-07T00:24:12.398Z"
   },
   {
    "duration": 9,
    "start_time": "2025-01-07T00:24:12.416Z"
   },
   {
    "duration": 122,
    "start_time": "2025-01-07T00:24:12.427Z"
   },
   {
    "duration": 62,
    "start_time": "2025-01-07T00:24:12.551Z"
   },
   {
    "duration": 274,
    "start_time": "2025-01-07T00:24:12.615Z"
   },
   {
    "duration": 108,
    "start_time": "2025-01-07T00:24:12.891Z"
   },
   {
    "duration": 15,
    "start_time": "2025-01-07T00:24:13.001Z"
   },
   {
    "duration": 88,
    "start_time": "2025-01-07T00:24:13.018Z"
   },
   {
    "duration": 81,
    "start_time": "2025-01-07T00:24:13.108Z"
   },
   {
    "duration": 30,
    "start_time": "2025-01-07T00:24:13.190Z"
   },
   {
    "duration": 22,
    "start_time": "2025-01-07T00:25:24.488Z"
   },
   {
    "duration": 32,
    "start_time": "2025-01-07T00:25:26.408Z"
   },
   {
    "duration": 33,
    "start_time": "2025-01-07T00:25:30.812Z"
   },
   {
    "duration": 3750,
    "start_time": "2025-01-07T00:32:16.759Z"
   },
   {
    "duration": 1962,
    "start_time": "2025-01-07T00:32:20.511Z"
   },
   {
    "duration": 14,
    "start_time": "2025-01-07T00:32:22.475Z"
   },
   {
    "duration": 29,
    "start_time": "2025-01-07T00:32:22.491Z"
   },
   {
    "duration": 119,
    "start_time": "2025-01-07T00:32:22.522Z"
   },
   {
    "duration": 8,
    "start_time": "2025-01-07T00:32:22.642Z"
   },
   {
    "duration": 65,
    "start_time": "2025-01-07T00:32:22.651Z"
   },
   {
    "duration": 37,
    "start_time": "2025-01-07T00:32:22.718Z"
   },
   {
    "duration": 15,
    "start_time": "2025-01-07T00:32:22.757Z"
   },
   {
    "duration": 25,
    "start_time": "2025-01-07T00:32:22.774Z"
   },
   {
    "duration": 11,
    "start_time": "2025-01-07T00:32:22.800Z"
   },
   {
    "duration": 54,
    "start_time": "2025-01-07T00:32:22.813Z"
   },
   {
    "duration": 104,
    "start_time": "2025-01-07T00:32:22.868Z"
   },
   {
    "duration": 24,
    "start_time": "2025-01-07T00:32:22.973Z"
   },
   {
    "duration": 96,
    "start_time": "2025-01-07T00:32:22.999Z"
   },
   {
    "duration": 13,
    "start_time": "2025-01-07T00:32:23.097Z"
   },
   {
    "duration": 9,
    "start_time": "2025-01-07T00:32:23.111Z"
   },
   {
    "duration": 49,
    "start_time": "2025-01-07T00:32:23.121Z"
   },
   {
    "duration": 17,
    "start_time": "2025-01-07T00:32:23.172Z"
   },
   {
    "duration": 249,
    "start_time": "2025-01-07T00:32:23.191Z"
   },
   {
    "duration": 43,
    "start_time": "2025-01-07T00:32:23.442Z"
   },
   {
    "duration": 49,
    "start_time": "2025-01-07T00:32:23.487Z"
   },
   {
    "duration": 34,
    "start_time": "2025-01-07T00:32:23.538Z"
   },
   {
    "duration": 44,
    "start_time": "2025-01-07T00:32:23.574Z"
   },
   {
    "duration": 52,
    "start_time": "2025-01-07T00:32:23.619Z"
   },
   {
    "duration": 10,
    "start_time": "2025-01-07T00:32:23.673Z"
   },
   {
    "duration": 240,
    "start_time": "2025-01-07T00:32:23.685Z"
   },
   {
    "duration": 11,
    "start_time": "2025-01-07T00:32:23.928Z"
   },
   {
    "duration": 72,
    "start_time": "2025-01-07T00:32:23.941Z"
   },
   {
    "duration": 16,
    "start_time": "2025-01-07T00:32:24.015Z"
   },
   {
    "duration": 17,
    "start_time": "2025-01-07T00:32:24.032Z"
   },
   {
    "duration": 145,
    "start_time": "2025-01-07T00:32:24.050Z"
   },
   {
    "duration": 48,
    "start_time": "2025-01-07T00:32:24.197Z"
   },
   {
    "duration": 248,
    "start_time": "2025-01-07T00:32:24.247Z"
   },
   {
    "duration": 103,
    "start_time": "2025-01-07T00:32:24.497Z"
   },
   {
    "duration": 14,
    "start_time": "2025-01-07T00:32:24.602Z"
   },
   {
    "duration": 91,
    "start_time": "2025-01-07T00:32:24.617Z"
   },
   {
    "duration": 32,
    "start_time": "2025-01-07T00:32:24.710Z"
   },
   {
    "duration": 36,
    "start_time": "2025-01-07T00:32:24.743Z"
   },
   {
    "duration": 4,
    "start_time": "2025-01-07T00:45:30.164Z"
   },
   {
    "duration": 38,
    "start_time": "2025-01-07T00:45:43.615Z"
   },
   {
    "duration": 4,
    "start_time": "2025-01-07T00:45:52.507Z"
   },
   {
    "duration": 19,
    "start_time": "2025-01-07T01:04:09.325Z"
   },
   {
    "duration": 38,
    "start_time": "2025-01-07T01:04:24.865Z"
   },
   {
    "duration": 26,
    "start_time": "2025-01-07T01:05:21.745Z"
   },
   {
    "duration": 26,
    "start_time": "2025-01-07T01:05:27.526Z"
   },
   {
    "duration": 25,
    "start_time": "2025-01-07T01:05:52.006Z"
   },
   {
    "duration": 8947,
    "start_time": "2025-01-07T01:06:23.725Z"
   },
   {
    "duration": 18,
    "start_time": "2025-01-07T01:06:55.609Z"
   },
   {
    "duration": 27,
    "start_time": "2025-01-07T01:08:11.860Z"
   },
   {
    "duration": 8842,
    "start_time": "2025-01-07T01:08:18.582Z"
   },
   {
    "duration": 8750,
    "start_time": "2025-01-07T01:08:35.557Z"
   },
   {
    "duration": 8813,
    "start_time": "2025-01-07T01:08:44.718Z"
   },
   {
    "duration": 110,
    "start_time": "2025-01-07T01:09:55.094Z"
   },
   {
    "duration": 87,
    "start_time": "2025-01-07T01:12:27.132Z"
   },
   {
    "duration": 90,
    "start_time": "2025-01-07T01:12:40.911Z"
   },
   {
    "duration": 96,
    "start_time": "2025-01-07T01:13:38.240Z"
   },
   {
    "duration": 85,
    "start_time": "2025-01-07T01:13:47.997Z"
   },
   {
    "duration": 83,
    "start_time": "2025-01-07T01:13:52.571Z"
   },
   {
    "duration": 86,
    "start_time": "2025-01-07T01:13:57.604Z"
   },
   {
    "duration": 90,
    "start_time": "2025-01-07T01:14:36.266Z"
   },
   {
    "duration": 76,
    "start_time": "2025-01-07T01:15:18.072Z"
   },
   {
    "duration": 107,
    "start_time": "2025-01-07T01:15:38.199Z"
   },
   {
    "duration": 108,
    "start_time": "2025-01-07T01:15:51.737Z"
   },
   {
    "duration": 113,
    "start_time": "2025-01-07T01:15:54.945Z"
   },
   {
    "duration": 88,
    "start_time": "2025-01-07T01:15:59.482Z"
   },
   {
    "duration": 13,
    "start_time": "2025-01-07T01:18:42.475Z"
   },
   {
    "duration": 25,
    "start_time": "2025-01-07T01:18:55.508Z"
   },
   {
    "duration": 8891,
    "start_time": "2025-01-07T01:19:12.824Z"
   },
   {
    "duration": 8939,
    "start_time": "2025-01-07T01:19:54.448Z"
   },
   {
    "duration": 84,
    "start_time": "2025-01-07T01:20:55.965Z"
   },
   {
    "duration": 8795,
    "start_time": "2025-01-07T01:21:07.036Z"
   },
   {
    "duration": 9,
    "start_time": "2025-01-07T01:32:04.239Z"
   },
   {
    "duration": 9,
    "start_time": "2025-01-07T01:32:07.976Z"
   },
   {
    "duration": 9,
    "start_time": "2025-01-07T01:32:43.782Z"
   },
   {
    "duration": 9,
    "start_time": "2025-01-07T01:32:51.782Z"
   },
   {
    "duration": 23,
    "start_time": "2025-01-07T01:33:08.785Z"
   },
   {
    "duration": 20,
    "start_time": "2025-01-07T01:39:47.954Z"
   },
   {
    "duration": 19,
    "start_time": "2025-01-07T01:40:14.996Z"
   },
   {
    "duration": 20,
    "start_time": "2025-01-07T01:40:39.584Z"
   },
   {
    "duration": 17,
    "start_time": "2025-01-07T01:42:00.041Z"
   },
   {
    "duration": 18,
    "start_time": "2025-01-07T01:42:10.569Z"
   },
   {
    "duration": 212,
    "start_time": "2025-01-07T01:44:04.390Z"
   },
   {
    "duration": 24,
    "start_time": "2025-01-07T01:44:07.152Z"
   },
   {
    "duration": 23,
    "start_time": "2025-01-07T01:44:18.787Z"
   },
   {
    "duration": 49,
    "start_time": "2025-01-07T01:44:59.963Z"
   },
   {
    "duration": 38,
    "start_time": "2025-01-07T01:47:03.129Z"
   },
   {
    "duration": 20,
    "start_time": "2025-01-07T01:47:13.334Z"
   },
   {
    "duration": 3756,
    "start_time": "2025-01-07T01:47:18.368Z"
   },
   {
    "duration": 2401,
    "start_time": "2025-01-07T01:47:22.126Z"
   },
   {
    "duration": 13,
    "start_time": "2025-01-07T01:47:24.529Z"
   },
   {
    "duration": 32,
    "start_time": "2025-01-07T01:47:24.544Z"
   },
   {
    "duration": 122,
    "start_time": "2025-01-07T01:47:24.577Z"
   },
   {
    "duration": 8,
    "start_time": "2025-01-07T01:47:24.700Z"
   },
   {
    "duration": 13,
    "start_time": "2025-01-07T01:47:24.710Z"
   },
   {
    "duration": 11,
    "start_time": "2025-01-07T01:47:24.725Z"
   },
   {
    "duration": 10,
    "start_time": "2025-01-07T01:47:24.738Z"
   },
   {
    "duration": 23,
    "start_time": "2025-01-07T01:47:24.751Z"
   },
   {
    "duration": 45,
    "start_time": "2025-01-07T01:47:24.776Z"
   },
   {
    "duration": 12,
    "start_time": "2025-01-07T01:47:24.823Z"
   },
   {
    "duration": 99,
    "start_time": "2025-01-07T01:47:24.836Z"
   },
   {
    "duration": 33,
    "start_time": "2025-01-07T01:47:24.937Z"
   },
   {
    "duration": 21,
    "start_time": "2025-01-07T01:47:24.972Z"
   },
   {
    "duration": 15,
    "start_time": "2025-01-07T01:47:24.995Z"
   },
   {
    "duration": 8,
    "start_time": "2025-01-07T01:47:25.012Z"
   },
   {
    "duration": 61,
    "start_time": "2025-01-07T01:47:25.022Z"
   },
   {
    "duration": 16,
    "start_time": "2025-01-07T01:47:25.084Z"
   },
   {
    "duration": 275,
    "start_time": "2025-01-07T01:47:25.101Z"
   },
   {
    "duration": 33,
    "start_time": "2025-01-07T01:47:25.378Z"
   },
   {
    "duration": 18,
    "start_time": "2025-01-07T01:47:25.412Z"
   },
   {
    "duration": 52,
    "start_time": "2025-01-07T01:47:25.432Z"
   },
   {
    "duration": 42,
    "start_time": "2025-01-07T01:47:25.486Z"
   },
   {
    "duration": 62,
    "start_time": "2025-01-07T01:47:25.530Z"
   },
   {
    "duration": 11,
    "start_time": "2025-01-07T01:47:25.593Z"
   },
   {
    "duration": 255,
    "start_time": "2025-01-07T01:47:25.606Z"
   },
   {
    "duration": 12,
    "start_time": "2025-01-07T01:47:25.870Z"
   },
   {
    "duration": 42,
    "start_time": "2025-01-07T01:47:25.884Z"
   },
   {
    "duration": 15,
    "start_time": "2025-01-07T01:47:25.928Z"
   },
   {
    "duration": 29,
    "start_time": "2025-01-07T01:47:25.944Z"
   },
   {
    "duration": 109,
    "start_time": "2025-01-07T01:47:25.974Z"
   },
   {
    "duration": 48,
    "start_time": "2025-01-07T01:47:26.085Z"
   },
   {
    "duration": 241,
    "start_time": "2025-01-07T01:47:26.135Z"
   },
   {
    "duration": 100,
    "start_time": "2025-01-07T01:47:26.377Z"
   },
   {
    "duration": 14,
    "start_time": "2025-01-07T01:47:26.478Z"
   },
   {
    "duration": 29,
    "start_time": "2025-01-07T01:47:26.493Z"
   },
   {
    "duration": 52,
    "start_time": "2025-01-07T01:47:26.524Z"
   },
   {
    "duration": 32,
    "start_time": "2025-01-07T01:47:26.577Z"
   },
   {
    "duration": 177,
    "start_time": "2025-01-07T01:47:26.611Z"
   },
   {
    "duration": 19,
    "start_time": "2025-01-07T01:47:26.790Z"
   },
   {
    "duration": 3742,
    "start_time": "2025-01-07T01:49:51.883Z"
   },
   {
    "duration": 2842,
    "start_time": "2025-01-07T01:49:55.628Z"
   },
   {
    "duration": 14,
    "start_time": "2025-01-07T01:49:58.472Z"
   },
   {
    "duration": 31,
    "start_time": "2025-01-07T01:49:58.487Z"
   },
   {
    "duration": 120,
    "start_time": "2025-01-07T01:49:58.519Z"
   },
   {
    "duration": 7,
    "start_time": "2025-01-07T01:49:58.641Z"
   },
   {
    "duration": 22,
    "start_time": "2025-01-07T01:49:58.649Z"
   },
   {
    "duration": 9,
    "start_time": "2025-01-07T01:49:58.673Z"
   },
   {
    "duration": 11,
    "start_time": "2025-01-07T01:49:58.684Z"
   },
   {
    "duration": 7,
    "start_time": "2025-01-07T01:49:58.697Z"
   },
   {
    "duration": 10,
    "start_time": "2025-01-07T01:49:58.705Z"
   },
   {
    "duration": 15,
    "start_time": "2025-01-07T01:49:58.716Z"
   },
   {
    "duration": 129,
    "start_time": "2025-01-07T01:49:58.733Z"
   },
   {
    "duration": 24,
    "start_time": "2025-01-07T01:49:58.870Z"
   },
   {
    "duration": 69,
    "start_time": "2025-01-07T01:49:58.896Z"
   },
   {
    "duration": 15,
    "start_time": "2025-01-07T01:49:58.967Z"
   },
   {
    "duration": 15,
    "start_time": "2025-01-07T01:49:58.984Z"
   },
   {
    "duration": 43,
    "start_time": "2025-01-07T01:49:59.000Z"
   },
   {
    "duration": 28,
    "start_time": "2025-01-07T01:49:59.045Z"
   },
   {
    "duration": 236,
    "start_time": "2025-01-07T01:49:59.076Z"
   },
   {
    "duration": 34,
    "start_time": "2025-01-07T01:49:59.314Z"
   },
   {
    "duration": 44,
    "start_time": "2025-01-07T01:49:59.349Z"
   },
   {
    "duration": 34,
    "start_time": "2025-01-07T01:49:59.395Z"
   },
   {
    "duration": 50,
    "start_time": "2025-01-07T01:49:59.430Z"
   },
   {
    "duration": 41,
    "start_time": "2025-01-07T01:49:59.482Z"
   },
   {
    "duration": 11,
    "start_time": "2025-01-07T01:49:59.524Z"
   },
   {
    "duration": 246,
    "start_time": "2025-01-07T01:49:59.536Z"
   },
   {
    "duration": 12,
    "start_time": "2025-01-07T01:49:59.786Z"
   },
   {
    "duration": 50,
    "start_time": "2025-01-07T01:49:59.800Z"
   },
   {
    "duration": 57,
    "start_time": "2025-01-07T01:49:59.852Z"
   },
   {
    "duration": 8,
    "start_time": "2025-01-07T01:49:59.911Z"
   },
   {
    "duration": 107,
    "start_time": "2025-01-07T01:49:59.920Z"
   },
   {
    "duration": 58,
    "start_time": "2025-01-07T01:50:00.029Z"
   },
   {
    "duration": 250,
    "start_time": "2025-01-07T01:50:00.089Z"
   },
   {
    "duration": 103,
    "start_time": "2025-01-07T01:50:00.340Z"
   },
   {
    "duration": 13,
    "start_time": "2025-01-07T01:50:00.445Z"
   },
   {
    "duration": 29,
    "start_time": "2025-01-07T01:50:00.470Z"
   },
   {
    "duration": 34,
    "start_time": "2025-01-07T01:50:00.501Z"
   },
   {
    "duration": 45,
    "start_time": "2025-01-07T01:50:00.537Z"
   },
   {
    "duration": 172,
    "start_time": "2025-01-07T01:50:00.584Z"
   },
   {
    "duration": 22,
    "start_time": "2025-01-07T01:50:00.758Z"
   },
   {
    "duration": 47,
    "start_time": "2025-01-07T01:50:57.481Z"
   },
   {
    "duration": 58,
    "start_time": "2025-01-07T01:52:48.852Z"
   },
   {
    "duration": 39,
    "start_time": "2025-01-07T01:53:14.033Z"
   },
   {
    "duration": 108,
    "start_time": "2025-01-07T01:54:03.880Z"
   },
   {
    "duration": 39,
    "start_time": "2025-01-07T01:54:11.261Z"
   },
   {
    "duration": 77,
    "start_time": "2025-01-07T01:55:43.655Z"
   },
   {
    "duration": 74,
    "start_time": "2025-01-07T01:58:27.490Z"
   },
   {
    "duration": 127,
    "start_time": "2025-01-07T01:58:41.210Z"
   },
   {
    "duration": 85,
    "start_time": "2025-01-07T01:58:56.261Z"
   },
   {
    "duration": 96,
    "start_time": "2025-01-07T01:59:00.841Z"
   },
   {
    "duration": 33,
    "start_time": "2025-01-07T01:59:08.002Z"
   },
   {
    "duration": 33,
    "start_time": "2025-01-07T01:59:21.856Z"
   },
   {
    "duration": 34,
    "start_time": "2025-01-07T01:59:24.355Z"
   },
   {
    "duration": 39,
    "start_time": "2025-01-07T01:59:37.599Z"
   },
   {
    "duration": 83,
    "start_time": "2025-01-07T02:00:38.853Z"
   },
   {
    "duration": 78,
    "start_time": "2025-01-07T02:00:49.205Z"
   },
   {
    "duration": 3772,
    "start_time": "2025-01-07T02:00:58.956Z"
   },
   {
    "duration": 2426,
    "start_time": "2025-01-07T02:01:02.731Z"
   },
   {
    "duration": 17,
    "start_time": "2025-01-07T02:01:05.158Z"
   },
   {
    "duration": 25,
    "start_time": "2025-01-07T02:01:05.177Z"
   },
   {
    "duration": 117,
    "start_time": "2025-01-07T02:01:05.203Z"
   },
   {
    "duration": 8,
    "start_time": "2025-01-07T02:01:05.322Z"
   },
   {
    "duration": 53,
    "start_time": "2025-01-07T02:01:05.332Z"
   },
   {
    "duration": 90,
    "start_time": "2025-01-07T02:01:05.387Z"
   },
   {
    "duration": 13,
    "start_time": "2025-01-07T02:01:05.479Z"
   },
   {
    "duration": 22,
    "start_time": "2025-01-07T02:01:05.495Z"
   },
   {
    "duration": 34,
    "start_time": "2025-01-07T02:01:05.519Z"
   },
   {
    "duration": 17,
    "start_time": "2025-01-07T02:01:05.555Z"
   },
   {
    "duration": 129,
    "start_time": "2025-01-07T02:01:05.573Z"
   },
   {
    "duration": 29,
    "start_time": "2025-01-07T02:01:05.704Z"
   },
   {
    "duration": 42,
    "start_time": "2025-01-07T02:01:05.737Z"
   },
   {
    "duration": 20,
    "start_time": "2025-01-07T02:01:05.780Z"
   },
   {
    "duration": 22,
    "start_time": "2025-01-07T02:01:05.802Z"
   },
   {
    "duration": 97,
    "start_time": "2025-01-07T02:01:05.825Z"
   },
   {
    "duration": 74,
    "start_time": "2025-01-07T02:01:05.924Z"
   },
   {
    "duration": 254,
    "start_time": "2025-01-07T02:01:06.000Z"
   },
   {
    "duration": 37,
    "start_time": "2025-01-07T02:01:06.255Z"
   },
   {
    "duration": 43,
    "start_time": "2025-01-07T02:01:06.293Z"
   },
   {
    "duration": 49,
    "start_time": "2025-01-07T02:01:06.338Z"
   },
   {
    "duration": 67,
    "start_time": "2025-01-07T02:01:06.388Z"
   },
   {
    "duration": 158,
    "start_time": "2025-01-07T02:01:06.456Z"
   },
   {
    "duration": 10,
    "start_time": "2025-01-07T02:01:06.616Z"
   },
   {
    "duration": 243,
    "start_time": "2025-01-07T02:01:06.627Z"
   },
   {
    "duration": 12,
    "start_time": "2025-01-07T02:01:06.873Z"
   },
   {
    "duration": 138,
    "start_time": "2025-01-07T02:01:06.886Z"
   },
   {
    "duration": 15,
    "start_time": "2025-01-07T02:01:07.025Z"
   },
   {
    "duration": 34,
    "start_time": "2025-01-07T02:01:07.042Z"
   },
   {
    "duration": 103,
    "start_time": "2025-01-07T02:01:07.077Z"
   },
   {
    "duration": 47,
    "start_time": "2025-01-07T02:01:07.182Z"
   },
   {
    "duration": 245,
    "start_time": "2025-01-07T02:01:07.230Z"
   },
   {
    "duration": 100,
    "start_time": "2025-01-07T02:01:07.477Z"
   },
   {
    "duration": 13,
    "start_time": "2025-01-07T02:01:07.579Z"
   },
   {
    "duration": 40,
    "start_time": "2025-01-07T02:01:07.593Z"
   },
   {
    "duration": 40,
    "start_time": "2025-01-07T02:01:07.635Z"
   },
   {
    "duration": 32,
    "start_time": "2025-01-07T02:01:07.677Z"
   },
   {
    "duration": 175,
    "start_time": "2025-01-07T02:01:07.710Z"
   },
   {
    "duration": 94,
    "start_time": "2025-01-07T02:01:07.887Z"
   },
   {
    "duration": 83,
    "start_time": "2025-01-07T02:01:20.677Z"
   },
   {
    "duration": 9026,
    "start_time": "2025-01-07T02:01:24.848Z"
   },
   {
    "duration": 18,
    "start_time": "2025-01-07T02:02:42.354Z"
   },
   {
    "duration": 109,
    "start_time": "2025-01-07T02:03:58.107Z"
   },
   {
    "duration": 115,
    "start_time": "2025-01-07T02:04:04.027Z"
   },
   {
    "duration": 157,
    "start_time": "2025-01-07T02:05:01.842Z"
   },
   {
    "duration": 114,
    "start_time": "2025-01-07T02:05:14.023Z"
   },
   {
    "duration": 153,
    "start_time": "2025-01-07T02:06:29.979Z"
   },
   {
    "duration": 3735,
    "start_time": "2025-01-07T02:06:37.444Z"
   },
   {
    "duration": 2371,
    "start_time": "2025-01-07T02:06:41.181Z"
   },
   {
    "duration": 21,
    "start_time": "2025-01-07T02:06:43.554Z"
   },
   {
    "duration": 22,
    "start_time": "2025-01-07T02:06:43.577Z"
   },
   {
    "duration": 118,
    "start_time": "2025-01-07T02:06:43.600Z"
   },
   {
    "duration": 7,
    "start_time": "2025-01-07T02:06:43.720Z"
   },
   {
    "duration": 16,
    "start_time": "2025-01-07T02:06:43.729Z"
   },
   {
    "duration": 5,
    "start_time": "2025-01-07T02:06:43.746Z"
   },
   {
    "duration": 26,
    "start_time": "2025-01-07T02:06:43.752Z"
   },
   {
    "duration": 14,
    "start_time": "2025-01-07T02:06:43.780Z"
   },
   {
    "duration": 12,
    "start_time": "2025-01-07T02:06:43.796Z"
   },
   {
    "duration": 12,
    "start_time": "2025-01-07T02:06:43.809Z"
   },
   {
    "duration": 113,
    "start_time": "2025-01-07T02:06:43.822Z"
   },
   {
    "duration": 24,
    "start_time": "2025-01-07T02:06:43.936Z"
   },
   {
    "duration": 39,
    "start_time": "2025-01-07T02:06:43.971Z"
   },
   {
    "duration": 14,
    "start_time": "2025-01-07T02:06:44.011Z"
   },
   {
    "duration": 8,
    "start_time": "2025-01-07T02:06:44.027Z"
   },
   {
    "duration": 49,
    "start_time": "2025-01-07T02:06:44.036Z"
   },
   {
    "duration": 19,
    "start_time": "2025-01-07T02:06:44.088Z"
   },
   {
    "duration": 266,
    "start_time": "2025-01-07T02:06:44.108Z"
   },
   {
    "duration": 34,
    "start_time": "2025-01-07T02:06:44.376Z"
   },
   {
    "duration": 16,
    "start_time": "2025-01-07T02:06:44.411Z"
   },
   {
    "duration": 59,
    "start_time": "2025-01-07T02:06:44.429Z"
   },
   {
    "duration": 43,
    "start_time": "2025-01-07T02:06:44.490Z"
   },
   {
    "duration": 64,
    "start_time": "2025-01-07T02:06:44.534Z"
   },
   {
    "duration": 10,
    "start_time": "2025-01-07T02:06:44.599Z"
   },
   {
    "duration": 249,
    "start_time": "2025-01-07T02:06:44.611Z"
   },
   {
    "duration": 11,
    "start_time": "2025-01-07T02:06:44.870Z"
   },
   {
    "duration": 97,
    "start_time": "2025-01-07T02:06:44.883Z"
   },
   {
    "duration": 22,
    "start_time": "2025-01-07T02:06:44.982Z"
   },
   {
    "duration": 36,
    "start_time": "2025-01-07T02:06:45.006Z"
   },
   {
    "duration": 222,
    "start_time": "2025-01-07T02:06:45.044Z"
   },
   {
    "duration": 50,
    "start_time": "2025-01-07T02:06:45.270Z"
   },
   {
    "duration": 388,
    "start_time": "2025-01-07T02:06:45.322Z"
   },
   {
    "duration": 159,
    "start_time": "2025-01-07T02:06:45.712Z"
   },
   {
    "duration": 17,
    "start_time": "2025-01-07T02:06:45.874Z"
   },
   {
    "duration": 102,
    "start_time": "2025-01-07T02:06:45.893Z"
   },
   {
    "duration": 32,
    "start_time": "2025-01-07T02:06:45.997Z"
   },
   {
    "duration": 50,
    "start_time": "2025-01-07T02:06:46.031Z"
   },
   {
    "duration": 178,
    "start_time": "2025-01-07T02:06:46.083Z"
   },
   {
    "duration": 8925,
    "start_time": "2025-01-07T02:06:46.262Z"
   },
   {
    "duration": 112,
    "start_time": "2025-01-07T02:07:52.483Z"
   },
   {
    "duration": 3819,
    "start_time": "2025-01-07T02:08:08.353Z"
   },
   {
    "duration": 1958,
    "start_time": "2025-01-07T02:08:12.174Z"
   },
   {
    "duration": 19,
    "start_time": "2025-01-07T02:08:14.134Z"
   },
   {
    "duration": 41,
    "start_time": "2025-01-07T02:08:14.155Z"
   },
   {
    "duration": 120,
    "start_time": "2025-01-07T02:08:14.198Z"
   },
   {
    "duration": 7,
    "start_time": "2025-01-07T02:08:14.320Z"
   },
   {
    "duration": 10,
    "start_time": "2025-01-07T02:08:14.329Z"
   },
   {
    "duration": 16,
    "start_time": "2025-01-07T02:08:14.341Z"
   },
   {
    "duration": 19,
    "start_time": "2025-01-07T02:08:14.358Z"
   },
   {
    "duration": 7,
    "start_time": "2025-01-07T02:08:14.381Z"
   },
   {
    "duration": 13,
    "start_time": "2025-01-07T02:08:14.389Z"
   },
   {
    "duration": 11,
    "start_time": "2025-01-07T02:08:14.403Z"
   },
   {
    "duration": 125,
    "start_time": "2025-01-07T02:08:14.415Z"
   },
   {
    "duration": 32,
    "start_time": "2025-01-07T02:08:14.542Z"
   },
   {
    "duration": 20,
    "start_time": "2025-01-07T02:08:14.576Z"
   },
   {
    "duration": 19,
    "start_time": "2025-01-07T02:08:14.598Z"
   },
   {
    "duration": 10,
    "start_time": "2025-01-07T02:08:14.619Z"
   },
   {
    "duration": 65,
    "start_time": "2025-01-07T02:08:14.630Z"
   },
   {
    "duration": 15,
    "start_time": "2025-01-07T02:08:14.697Z"
   },
   {
    "duration": 245,
    "start_time": "2025-01-07T02:08:14.713Z"
   },
   {
    "duration": 37,
    "start_time": "2025-01-07T02:08:14.960Z"
   },
   {
    "duration": 16,
    "start_time": "2025-01-07T02:08:14.999Z"
   },
   {
    "duration": 64,
    "start_time": "2025-01-07T02:08:15.017Z"
   },
   {
    "duration": 43,
    "start_time": "2025-01-07T02:08:15.083Z"
   },
   {
    "duration": 53,
    "start_time": "2025-01-07T02:08:15.128Z"
   },
   {
    "duration": 10,
    "start_time": "2025-01-07T02:08:15.183Z"
   },
   {
    "duration": 254,
    "start_time": "2025-01-07T02:08:15.194Z"
   },
   {
    "duration": 11,
    "start_time": "2025-01-07T02:08:15.452Z"
   },
   {
    "duration": 83,
    "start_time": "2025-01-07T02:08:15.470Z"
   },
   {
    "duration": 17,
    "start_time": "2025-01-07T02:08:15.555Z"
   },
   {
    "duration": 9,
    "start_time": "2025-01-07T02:08:15.573Z"
   },
   {
    "duration": 113,
    "start_time": "2025-01-07T02:08:15.584Z"
   },
   {
    "duration": 72,
    "start_time": "2025-01-07T02:08:15.699Z"
   },
   {
    "duration": 244,
    "start_time": "2025-01-07T02:08:15.773Z"
   },
   {
    "duration": 99,
    "start_time": "2025-01-07T02:08:16.019Z"
   },
   {
    "duration": 15,
    "start_time": "2025-01-07T02:08:16.120Z"
   },
   {
    "duration": 46,
    "start_time": "2025-01-07T02:08:16.137Z"
   },
   {
    "duration": 32,
    "start_time": "2025-01-07T02:08:16.185Z"
   },
   {
    "duration": 52,
    "start_time": "2025-01-07T02:08:16.219Z"
   },
   {
    "duration": 169,
    "start_time": "2025-01-07T02:08:16.273Z"
   },
   {
    "duration": 8971,
    "start_time": "2025-01-07T02:08:16.444Z"
   },
   {
    "duration": 9020,
    "start_time": "2025-01-07T02:13:27.970Z"
   },
   {
    "duration": 329,
    "start_time": "2025-01-07T13:17:42.016Z"
   },
   {
    "duration": 5132,
    "start_time": "2025-01-07T13:17:51.009Z"
   },
   {
    "duration": 2428,
    "start_time": "2025-01-07T13:17:56.143Z"
   },
   {
    "duration": 17,
    "start_time": "2025-01-07T13:17:58.572Z"
   },
   {
    "duration": 26,
    "start_time": "2025-01-07T13:17:58.591Z"
   },
   {
    "duration": 141,
    "start_time": "2025-01-07T13:17:58.619Z"
   },
   {
    "duration": 9,
    "start_time": "2025-01-07T13:17:58.762Z"
   },
   {
    "duration": 18,
    "start_time": "2025-01-07T13:17:58.773Z"
   },
   {
    "duration": 9,
    "start_time": "2025-01-07T13:17:58.793Z"
   },
   {
    "duration": 12,
    "start_time": "2025-01-07T13:17:58.804Z"
   },
   {
    "duration": 8,
    "start_time": "2025-01-07T13:17:58.819Z"
   },
   {
    "duration": 36,
    "start_time": "2025-01-07T13:17:58.829Z"
   },
   {
    "duration": 13,
    "start_time": "2025-01-07T13:17:58.867Z"
   },
   {
    "duration": 130,
    "start_time": "2025-01-07T13:17:58.882Z"
   },
   {
    "duration": 28,
    "start_time": "2025-01-07T13:17:59.014Z"
   },
   {
    "duration": 24,
    "start_time": "2025-01-07T13:17:59.060Z"
   },
   {
    "duration": 32,
    "start_time": "2025-01-07T13:17:59.086Z"
   },
   {
    "duration": 27,
    "start_time": "2025-01-07T13:17:59.120Z"
   },
   {
    "duration": 46,
    "start_time": "2025-01-07T13:17:59.149Z"
   },
   {
    "duration": 33,
    "start_time": "2025-01-07T13:17:59.197Z"
   },
   {
    "duration": 262,
    "start_time": "2025-01-07T13:17:59.232Z"
   },
   {
    "duration": 38,
    "start_time": "2025-01-07T13:17:59.496Z"
   },
   {
    "duration": 39,
    "start_time": "2025-01-07T13:17:59.536Z"
   },
   {
    "duration": 40,
    "start_time": "2025-01-07T13:17:59.577Z"
   },
   {
    "duration": 68,
    "start_time": "2025-01-07T13:17:59.619Z"
   },
   {
    "duration": 48,
    "start_time": "2025-01-07T13:17:59.689Z"
   },
   {
    "duration": 29,
    "start_time": "2025-01-07T13:17:59.739Z"
   },
   {
    "duration": 255,
    "start_time": "2025-01-07T13:17:59.769Z"
   },
   {
    "duration": 13,
    "start_time": "2025-01-07T13:18:00.028Z"
   },
   {
    "duration": 94,
    "start_time": "2025-01-07T13:18:00.043Z"
   },
   {
    "duration": 18,
    "start_time": "2025-01-07T13:18:00.139Z"
   },
   {
    "duration": 13,
    "start_time": "2025-01-07T13:18:00.158Z"
   },
   {
    "duration": 176,
    "start_time": "2025-01-07T13:18:00.173Z"
   },
   {
    "duration": 60,
    "start_time": "2025-01-07T13:18:00.351Z"
   },
   {
    "duration": 279,
    "start_time": "2025-01-07T13:18:00.412Z"
   },
   {
    "duration": 106,
    "start_time": "2025-01-07T13:18:00.693Z"
   },
   {
    "duration": 15,
    "start_time": "2025-01-07T13:18:00.801Z"
   },
   {
    "duration": 45,
    "start_time": "2025-01-07T13:18:00.818Z"
   },
   {
    "duration": 34,
    "start_time": "2025-01-07T13:18:00.865Z"
   },
   {
    "duration": 35,
    "start_time": "2025-01-07T13:18:00.901Z"
   },
   {
    "duration": 193,
    "start_time": "2025-01-07T13:18:00.938Z"
   },
   {
    "duration": 9452,
    "start_time": "2025-01-07T13:18:01.133Z"
   },
   {
    "duration": 161,
    "start_time": "2025-01-07T13:22:47.424Z"
   },
   {
    "duration": 119,
    "start_time": "2025-01-07T13:23:04.031Z"
   },
   {
    "duration": 159,
    "start_time": "2025-01-07T13:23:12.715Z"
   },
   {
    "duration": 220,
    "start_time": "2025-01-07T13:24:00.853Z"
   },
   {
    "duration": 359,
    "start_time": "2025-01-07T13:25:04.535Z"
   },
   {
    "duration": 3912,
    "start_time": "2025-01-07T13:25:08.938Z"
   },
   {
    "duration": 2347,
    "start_time": "2025-01-07T13:25:12.853Z"
   },
   {
    "duration": 15,
    "start_time": "2025-01-07T13:25:15.201Z"
   },
   {
    "duration": 65,
    "start_time": "2025-01-07T13:25:15.219Z"
   },
   {
    "duration": 111,
    "start_time": "2025-01-07T13:25:15.285Z"
   },
   {
    "duration": 9,
    "start_time": "2025-01-07T13:25:15.397Z"
   },
   {
    "duration": 14,
    "start_time": "2025-01-07T13:25:15.408Z"
   },
   {
    "duration": 19,
    "start_time": "2025-01-07T13:25:15.424Z"
   },
   {
    "duration": 16,
    "start_time": "2025-01-07T13:25:15.445Z"
   },
   {
    "duration": 27,
    "start_time": "2025-01-07T13:25:15.464Z"
   },
   {
    "duration": 16,
    "start_time": "2025-01-07T13:25:15.493Z"
   },
   {
    "duration": 17,
    "start_time": "2025-01-07T13:25:15.511Z"
   },
   {
    "duration": 102,
    "start_time": "2025-01-07T13:25:15.530Z"
   },
   {
    "duration": 30,
    "start_time": "2025-01-07T13:25:15.634Z"
   },
   {
    "duration": 25,
    "start_time": "2025-01-07T13:25:15.666Z"
   },
   {
    "duration": 17,
    "start_time": "2025-01-07T13:25:15.693Z"
   },
   {
    "duration": 10,
    "start_time": "2025-01-07T13:25:15.712Z"
   },
   {
    "duration": 69,
    "start_time": "2025-01-07T13:25:15.724Z"
   },
   {
    "duration": 17,
    "start_time": "2025-01-07T13:25:15.795Z"
   },
   {
    "duration": 257,
    "start_time": "2025-01-07T13:25:15.814Z"
   },
   {
    "duration": 35,
    "start_time": "2025-01-07T13:25:16.073Z"
   },
   {
    "duration": 18,
    "start_time": "2025-01-07T13:25:16.110Z"
   },
   {
    "duration": 68,
    "start_time": "2025-01-07T13:25:16.130Z"
   },
   {
    "duration": 44,
    "start_time": "2025-01-07T13:25:16.200Z"
   },
   {
    "duration": 45,
    "start_time": "2025-01-07T13:25:16.260Z"
   },
   {
    "duration": 12,
    "start_time": "2025-01-07T13:25:16.306Z"
   },
   {
    "duration": 264,
    "start_time": "2025-01-07T13:25:16.320Z"
   },
   {
    "duration": 14,
    "start_time": "2025-01-07T13:25:16.587Z"
   },
   {
    "duration": 105,
    "start_time": "2025-01-07T13:25:16.602Z"
   },
   {
    "duration": 18,
    "start_time": "2025-01-07T13:25:16.709Z"
   },
   {
    "duration": 8,
    "start_time": "2025-01-07T13:25:16.729Z"
   },
   {
    "duration": 184,
    "start_time": "2025-01-07T13:25:16.739Z"
   },
   {
    "duration": 65,
    "start_time": "2025-01-07T13:25:16.925Z"
   },
   {
    "duration": 385,
    "start_time": "2025-01-07T13:25:16.992Z"
   },
   {
    "duration": 151,
    "start_time": "2025-01-07T13:25:17.379Z"
   },
   {
    "duration": 19,
    "start_time": "2025-01-07T13:25:17.532Z"
   },
   {
    "duration": 44,
    "start_time": "2025-01-07T13:25:17.561Z"
   },
   {
    "duration": 31,
    "start_time": "2025-01-07T13:25:17.608Z"
   },
   {
    "duration": 61,
    "start_time": "2025-01-07T13:25:17.640Z"
   },
   {
    "duration": 176,
    "start_time": "2025-01-07T13:25:17.703Z"
   },
   {
    "duration": 9198,
    "start_time": "2025-01-07T13:25:17.881Z"
   },
   {
    "duration": 4111,
    "start_time": "2025-01-07T13:26:11.152Z"
   },
   {
    "duration": 2305,
    "start_time": "2025-01-07T13:26:15.265Z"
   },
   {
    "duration": 17,
    "start_time": "2025-01-07T13:26:17.572Z"
   },
   {
    "duration": 26,
    "start_time": "2025-01-07T13:26:17.591Z"
   },
   {
    "duration": 141,
    "start_time": "2025-01-07T13:26:17.619Z"
   },
   {
    "duration": 9,
    "start_time": "2025-01-07T13:26:17.762Z"
   },
   {
    "duration": 9,
    "start_time": "2025-01-07T13:26:17.773Z"
   },
   {
    "duration": 18,
    "start_time": "2025-01-07T13:26:17.784Z"
   },
   {
    "duration": 12,
    "start_time": "2025-01-07T13:26:17.804Z"
   },
   {
    "duration": 9,
    "start_time": "2025-01-07T13:26:17.819Z"
   },
   {
    "duration": 38,
    "start_time": "2025-01-07T13:26:17.830Z"
   },
   {
    "duration": 24,
    "start_time": "2025-01-07T13:26:17.870Z"
   },
   {
    "duration": 144,
    "start_time": "2025-01-07T13:26:17.896Z"
   },
   {
    "duration": 36,
    "start_time": "2025-01-07T13:26:18.042Z"
   },
   {
    "duration": 31,
    "start_time": "2025-01-07T13:26:18.080Z"
   },
   {
    "duration": 22,
    "start_time": "2025-01-07T13:26:18.113Z"
   },
   {
    "duration": 11,
    "start_time": "2025-01-07T13:26:18.137Z"
   },
   {
    "duration": 46,
    "start_time": "2025-01-07T13:26:18.160Z"
   },
   {
    "duration": 17,
    "start_time": "2025-01-07T13:26:18.208Z"
   },
   {
    "duration": 296,
    "start_time": "2025-01-07T13:26:18.227Z"
   },
   {
    "duration": 51,
    "start_time": "2025-01-07T13:26:18.525Z"
   },
   {
    "duration": 19,
    "start_time": "2025-01-07T13:26:18.578Z"
   },
   {
    "duration": 39,
    "start_time": "2025-01-07T13:26:18.598Z"
   },
   {
    "duration": 63,
    "start_time": "2025-01-07T13:26:18.639Z"
   },
   {
    "duration": 67,
    "start_time": "2025-01-07T13:26:18.703Z"
   },
   {
    "duration": 13,
    "start_time": "2025-01-07T13:26:18.772Z"
   },
   {
    "duration": 272,
    "start_time": "2025-01-07T13:26:18.787Z"
   },
   {
    "duration": 13,
    "start_time": "2025-01-07T13:26:19.063Z"
   },
   {
    "duration": 43,
    "start_time": "2025-01-07T13:26:19.079Z"
   },
   {
    "duration": 43,
    "start_time": "2025-01-07T13:26:19.124Z"
   },
   {
    "duration": 9,
    "start_time": "2025-01-07T13:26:19.169Z"
   },
   {
    "duration": 181,
    "start_time": "2025-01-07T13:26:19.179Z"
   },
   {
    "duration": 53,
    "start_time": "2025-01-07T13:26:19.362Z"
   },
   {
    "duration": 386,
    "start_time": "2025-01-07T13:26:19.416Z"
   },
   {
    "duration": 257,
    "start_time": "2025-01-07T13:26:19.803Z"
   },
   {
    "duration": 19,
    "start_time": "2025-01-07T13:26:20.062Z"
   },
   {
    "duration": 42,
    "start_time": "2025-01-07T13:26:20.083Z"
   },
   {
    "duration": 56,
    "start_time": "2025-01-07T13:26:20.127Z"
   },
   {
    "duration": 32,
    "start_time": "2025-01-07T13:26:20.185Z"
   },
   {
    "duration": 186,
    "start_time": "2025-01-07T13:26:20.218Z"
   },
   {
    "duration": 9261,
    "start_time": "2025-01-07T13:26:20.406Z"
   },
   {
    "duration": 238,
    "start_time": "2025-01-07T13:27:22.368Z"
   },
   {
    "duration": 165,
    "start_time": "2025-01-07T13:27:27.251Z"
   },
   {
    "duration": 345,
    "start_time": "2025-01-07T13:27:44.848Z"
   },
   {
    "duration": 256,
    "start_time": "2025-01-07T13:27:49.775Z"
   },
   {
    "duration": 293,
    "start_time": "2025-01-07T13:28:08.917Z"
   },
   {
    "duration": 295,
    "start_time": "2025-01-07T13:30:47.096Z"
   },
   {
    "duration": 322,
    "start_time": "2025-01-07T13:31:15.910Z"
   },
   {
    "duration": 302,
    "start_time": "2025-01-07T13:31:25.329Z"
   },
   {
    "duration": 3972,
    "start_time": "2025-01-07T13:32:47.161Z"
   },
   {
    "duration": 2273,
    "start_time": "2025-01-07T13:32:51.135Z"
   },
   {
    "duration": 17,
    "start_time": "2025-01-07T13:32:53.410Z"
   },
   {
    "duration": 51,
    "start_time": "2025-01-07T13:32:53.430Z"
   },
   {
    "duration": 120,
    "start_time": "2025-01-07T13:32:53.483Z"
   },
   {
    "duration": 9,
    "start_time": "2025-01-07T13:32:53.605Z"
   },
   {
    "duration": 9,
    "start_time": "2025-01-07T13:32:53.616Z"
   },
   {
    "duration": 14,
    "start_time": "2025-01-07T13:32:53.627Z"
   },
   {
    "duration": 26,
    "start_time": "2025-01-07T13:32:53.643Z"
   },
   {
    "duration": 9,
    "start_time": "2025-01-07T13:32:53.671Z"
   },
   {
    "duration": 20,
    "start_time": "2025-01-07T13:32:53.682Z"
   },
   {
    "duration": 14,
    "start_time": "2025-01-07T13:32:53.704Z"
   },
   {
    "duration": 121,
    "start_time": "2025-01-07T13:32:53.720Z"
   },
   {
    "duration": 32,
    "start_time": "2025-01-07T13:32:53.842Z"
   },
   {
    "duration": 22,
    "start_time": "2025-01-07T13:32:53.876Z"
   },
   {
    "duration": 22,
    "start_time": "2025-01-07T13:32:53.900Z"
   },
   {
    "duration": 37,
    "start_time": "2025-01-07T13:32:53.924Z"
   },
   {
    "duration": 45,
    "start_time": "2025-01-07T13:32:53.963Z"
   },
   {
    "duration": 18,
    "start_time": "2025-01-07T13:32:54.010Z"
   },
   {
    "duration": 282,
    "start_time": "2025-01-07T13:32:54.030Z"
   },
   {
    "duration": 50,
    "start_time": "2025-01-07T13:32:54.314Z"
   },
   {
    "duration": 18,
    "start_time": "2025-01-07T13:32:54.365Z"
   },
   {
    "duration": 42,
    "start_time": "2025-01-07T13:32:54.385Z"
   },
   {
    "duration": 62,
    "start_time": "2025-01-07T13:32:54.429Z"
   },
   {
    "duration": 44,
    "start_time": "2025-01-07T13:32:54.492Z"
   },
   {
    "duration": 28,
    "start_time": "2025-01-07T13:32:54.538Z"
   },
   {
    "duration": 251,
    "start_time": "2025-01-07T13:32:54.568Z"
   },
   {
    "duration": 13,
    "start_time": "2025-01-07T13:32:54.823Z"
   },
   {
    "duration": 62,
    "start_time": "2025-01-07T13:32:54.838Z"
   },
   {
    "duration": 18,
    "start_time": "2025-01-07T13:32:54.901Z"
   },
   {
    "duration": 9,
    "start_time": "2025-01-07T13:32:54.920Z"
   },
   {
    "duration": 182,
    "start_time": "2025-01-07T13:32:54.931Z"
   },
   {
    "duration": 65,
    "start_time": "2025-01-07T13:32:55.115Z"
   },
   {
    "duration": 378,
    "start_time": "2025-01-07T13:32:55.182Z"
   },
   {
    "duration": 246,
    "start_time": "2025-01-07T13:32:55.562Z"
   },
   {
    "duration": 20,
    "start_time": "2025-01-07T13:32:55.809Z"
   },
   {
    "duration": 60,
    "start_time": "2025-01-07T13:32:55.831Z"
   },
   {
    "duration": 30,
    "start_time": "2025-01-07T13:32:55.893Z"
   },
   {
    "duration": 48,
    "start_time": "2025-01-07T13:32:55.925Z"
   },
   {
    "duration": 181,
    "start_time": "2025-01-07T13:32:55.975Z"
   },
   {
    "duration": 9251,
    "start_time": "2025-01-07T13:32:56.158Z"
   },
   {
    "duration": 38,
    "start_time": "2025-01-07T13:35:02.092Z"
   },
   {
    "duration": 4074,
    "start_time": "2025-01-07T13:35:44.770Z"
   },
   {
    "duration": 2330,
    "start_time": "2025-01-07T13:35:48.846Z"
   },
   {
    "duration": 14,
    "start_time": "2025-01-07T13:35:51.178Z"
   },
   {
    "duration": 40,
    "start_time": "2025-01-07T13:35:51.194Z"
   },
   {
    "duration": 114,
    "start_time": "2025-01-07T13:35:51.236Z"
   },
   {
    "duration": 14,
    "start_time": "2025-01-07T13:35:51.352Z"
   },
   {
    "duration": 13,
    "start_time": "2025-01-07T13:35:51.367Z"
   },
   {
    "duration": 14,
    "start_time": "2025-01-07T13:35:51.382Z"
   },
   {
    "duration": 37,
    "start_time": "2025-01-07T13:35:51.398Z"
   },
   {
    "duration": 10,
    "start_time": "2025-01-07T13:35:51.438Z"
   },
   {
    "duration": 16,
    "start_time": "2025-01-07T13:35:51.449Z"
   },
   {
    "duration": 13,
    "start_time": "2025-01-07T13:35:51.467Z"
   },
   {
    "duration": 126,
    "start_time": "2025-01-07T13:35:51.482Z"
   },
   {
    "duration": 26,
    "start_time": "2025-01-07T13:35:51.610Z"
   },
   {
    "duration": 68,
    "start_time": "2025-01-07T13:35:51.637Z"
   },
   {
    "duration": 37,
    "start_time": "2025-01-07T13:35:51.707Z"
   },
   {
    "duration": 14,
    "start_time": "2025-01-07T13:35:51.746Z"
   },
   {
    "duration": 50,
    "start_time": "2025-01-07T13:35:51.763Z"
   },
   {
    "duration": 17,
    "start_time": "2025-01-07T13:35:51.815Z"
   },
   {
    "duration": 286,
    "start_time": "2025-01-07T13:35:51.833Z"
   },
   {
    "duration": 49,
    "start_time": "2025-01-07T13:35:52.121Z"
   },
   {
    "duration": 20,
    "start_time": "2025-01-07T13:35:52.172Z"
   },
   {
    "duration": 50,
    "start_time": "2025-01-07T13:35:52.194Z"
   },
   {
    "duration": 47,
    "start_time": "2025-01-07T13:35:52.245Z"
   },
   {
    "duration": 43,
    "start_time": "2025-01-07T13:35:52.294Z"
   },
   {
    "duration": 29,
    "start_time": "2025-01-07T13:35:52.338Z"
   },
   {
    "duration": 258,
    "start_time": "2025-01-07T13:35:52.368Z"
   },
   {
    "duration": 14,
    "start_time": "2025-01-07T13:35:52.629Z"
   },
   {
    "duration": 54,
    "start_time": "2025-01-07T13:35:52.644Z"
   },
   {
    "duration": 31,
    "start_time": "2025-01-07T13:35:52.700Z"
   },
   {
    "duration": 19,
    "start_time": "2025-01-07T13:35:52.733Z"
   },
   {
    "duration": 168,
    "start_time": "2025-01-07T13:35:52.754Z"
   },
   {
    "duration": 66,
    "start_time": "2025-01-07T13:35:52.924Z"
   },
   {
    "duration": 356,
    "start_time": "2025-01-07T13:35:52.991Z"
   },
   {
    "duration": 253,
    "start_time": "2025-01-07T13:35:53.359Z"
   },
   {
    "duration": 19,
    "start_time": "2025-01-07T13:35:53.614Z"
   },
   {
    "duration": 63,
    "start_time": "2025-01-07T13:35:53.635Z"
   },
   {
    "duration": 33,
    "start_time": "2025-01-07T13:35:53.700Z"
   },
   {
    "duration": 48,
    "start_time": "2025-01-07T13:35:53.735Z"
   },
   {
    "duration": 170,
    "start_time": "2025-01-07T13:35:53.785Z"
   },
   {
    "duration": 9460,
    "start_time": "2025-01-07T13:35:53.959Z"
   },
   {
    "duration": 11,
    "start_time": "2025-01-07T13:58:15.672Z"
   },
   {
    "duration": 40,
    "start_time": "2025-01-07T13:58:30.930Z"
   },
   {
    "duration": 4060,
    "start_time": "2025-01-07T13:58:35.050Z"
   },
   {
    "duration": 2487,
    "start_time": "2025-01-07T13:58:39.112Z"
   },
   {
    "duration": 17,
    "start_time": "2025-01-07T13:58:41.601Z"
   },
   {
    "duration": 41,
    "start_time": "2025-01-07T13:58:41.620Z"
   },
   {
    "duration": 138,
    "start_time": "2025-01-07T13:58:41.664Z"
   },
   {
    "duration": 10,
    "start_time": "2025-01-07T13:58:41.804Z"
   },
   {
    "duration": 9,
    "start_time": "2025-01-07T13:58:41.815Z"
   },
   {
    "duration": 9,
    "start_time": "2025-01-07T13:58:41.826Z"
   },
   {
    "duration": 32,
    "start_time": "2025-01-07T13:58:41.836Z"
   },
   {
    "duration": 9,
    "start_time": "2025-01-07T13:58:41.871Z"
   },
   {
    "duration": 11,
    "start_time": "2025-01-07T13:58:41.881Z"
   },
   {
    "duration": 20,
    "start_time": "2025-01-07T13:58:41.894Z"
   },
   {
    "duration": 134,
    "start_time": "2025-01-07T13:58:41.916Z"
   },
   {
    "duration": 33,
    "start_time": "2025-01-07T13:58:42.052Z"
   },
   {
    "duration": 32,
    "start_time": "2025-01-07T13:58:42.087Z"
   },
   {
    "duration": 14,
    "start_time": "2025-01-07T13:58:42.121Z"
   },
   {
    "duration": 31,
    "start_time": "2025-01-07T13:58:42.137Z"
   },
   {
    "duration": 43,
    "start_time": "2025-01-07T13:58:42.170Z"
   },
   {
    "duration": 19,
    "start_time": "2025-01-07T13:58:42.215Z"
   },
   {
    "duration": 271,
    "start_time": "2025-01-07T13:58:42.236Z"
   },
   {
    "duration": 35,
    "start_time": "2025-01-07T13:58:42.509Z"
   },
   {
    "duration": 18,
    "start_time": "2025-01-07T13:58:42.560Z"
   },
   {
    "duration": 66,
    "start_time": "2025-01-07T13:58:42.580Z"
   },
   {
    "duration": 48,
    "start_time": "2025-01-07T13:58:42.648Z"
   },
   {
    "duration": 44,
    "start_time": "2025-01-07T13:58:42.698Z"
   },
   {
    "duration": 20,
    "start_time": "2025-01-07T13:58:42.744Z"
   },
   {
    "duration": 279,
    "start_time": "2025-01-07T13:58:42.765Z"
   },
   {
    "duration": 13,
    "start_time": "2025-01-07T13:58:43.048Z"
   },
   {
    "duration": 89,
    "start_time": "2025-01-07T13:58:43.063Z"
   },
   {
    "duration": 19,
    "start_time": "2025-01-07T13:58:43.154Z"
   },
   {
    "duration": 21,
    "start_time": "2025-01-07T13:58:43.175Z"
   },
   {
    "duration": 197,
    "start_time": "2025-01-07T13:58:43.198Z"
   },
   {
    "duration": 50,
    "start_time": "2025-01-07T13:58:43.397Z"
   },
   {
    "duration": 339,
    "start_time": "2025-01-07T13:58:43.460Z"
   },
   {
    "duration": 249,
    "start_time": "2025-01-07T13:58:43.800Z"
   },
   {
    "duration": 37,
    "start_time": "2025-01-07T13:58:44.051Z"
   },
   {
    "duration": 71,
    "start_time": "2025-01-07T13:58:44.090Z"
   },
   {
    "duration": 67,
    "start_time": "2025-01-07T13:58:44.163Z"
   },
   {
    "duration": 85,
    "start_time": "2025-01-07T13:58:44.232Z"
   },
   {
    "duration": 401,
    "start_time": "2025-01-07T13:58:44.319Z"
   },
   {
    "duration": 32087,
    "start_time": "2025-01-07T13:58:44.721Z"
   },
   {
    "duration": 196,
    "start_time": "2025-01-07T14:05:10.597Z"
   },
   {
    "duration": 396,
    "start_time": "2025-01-07T14:15:31.481Z"
   },
   {
    "duration": 293,
    "start_time": "2025-01-07T14:15:39.677Z"
   },
   {
    "duration": 302,
    "start_time": "2025-01-07T14:15:56.105Z"
   },
   {
    "duration": 344,
    "start_time": "2025-01-07T14:16:26.286Z"
   },
   {
    "duration": 320,
    "start_time": "2025-01-07T14:16:33.641Z"
   },
   {
    "duration": 78,
    "start_time": "2025-01-07T14:25:07.057Z"
   },
   {
    "duration": 53,
    "start_time": "2025-01-07T14:25:19.745Z"
   },
   {
    "duration": 82,
    "start_time": "2025-01-07T14:25:22.296Z"
   },
   {
    "duration": 3997,
    "start_time": "2025-01-07T14:26:11.841Z"
   },
   {
    "duration": 2550,
    "start_time": "2025-01-07T14:26:15.841Z"
   },
   {
    "duration": 14,
    "start_time": "2025-01-07T14:26:18.393Z"
   },
   {
    "duration": 26,
    "start_time": "2025-01-07T14:26:18.409Z"
   },
   {
    "duration": 131,
    "start_time": "2025-01-07T14:26:18.436Z"
   },
   {
    "duration": 10,
    "start_time": "2025-01-07T14:26:18.569Z"
   },
   {
    "duration": 20,
    "start_time": "2025-01-07T14:26:18.580Z"
   },
   {
    "duration": 7,
    "start_time": "2025-01-07T14:26:18.602Z"
   },
   {
    "duration": 13,
    "start_time": "2025-01-07T14:26:18.611Z"
   },
   {
    "duration": 8,
    "start_time": "2025-01-07T14:26:18.627Z"
   },
   {
    "duration": 32,
    "start_time": "2025-01-07T14:26:18.636Z"
   },
   {
    "duration": 26,
    "start_time": "2025-01-07T14:26:18.670Z"
   },
   {
    "duration": 111,
    "start_time": "2025-01-07T14:26:18.698Z"
   },
   {
    "duration": 27,
    "start_time": "2025-01-07T14:26:18.811Z"
   },
   {
    "duration": 39,
    "start_time": "2025-01-07T14:26:18.840Z"
   },
   {
    "duration": 14,
    "start_time": "2025-01-07T14:26:18.881Z"
   },
   {
    "duration": 11,
    "start_time": "2025-01-07T14:26:18.897Z"
   },
   {
    "duration": 69,
    "start_time": "2025-01-07T14:26:18.910Z"
   },
   {
    "duration": 18,
    "start_time": "2025-01-07T14:26:18.981Z"
   },
   {
    "duration": 270,
    "start_time": "2025-01-07T14:26:19.001Z"
   },
   {
    "duration": 36,
    "start_time": "2025-01-07T14:26:19.273Z"
   },
   {
    "duration": 18,
    "start_time": "2025-01-07T14:26:19.311Z"
   },
   {
    "duration": 63,
    "start_time": "2025-01-07T14:26:19.331Z"
   },
   {
    "duration": 46,
    "start_time": "2025-01-07T14:26:19.396Z"
   },
   {
    "duration": 49,
    "start_time": "2025-01-07T14:26:19.459Z"
   },
   {
    "duration": 13,
    "start_time": "2025-01-07T14:26:19.509Z"
   },
   {
    "duration": 277,
    "start_time": "2025-01-07T14:26:19.523Z"
   },
   {
    "duration": 16,
    "start_time": "2025-01-07T14:26:19.804Z"
   },
   {
    "duration": 66,
    "start_time": "2025-01-07T14:26:19.822Z"
   },
   {
    "duration": 20,
    "start_time": "2025-01-07T14:26:19.891Z"
   },
   {
    "duration": 9,
    "start_time": "2025-01-07T14:26:19.913Z"
   },
   {
    "duration": 201,
    "start_time": "2025-01-07T14:26:19.925Z"
   },
   {
    "duration": 62,
    "start_time": "2025-01-07T14:26:20.127Z"
   },
   {
    "duration": 363,
    "start_time": "2025-01-07T14:26:20.190Z"
   },
   {
    "duration": 262,
    "start_time": "2025-01-07T14:26:20.554Z"
   },
   {
    "duration": 31,
    "start_time": "2025-01-07T14:26:20.817Z"
   },
   {
    "duration": 67,
    "start_time": "2025-01-07T14:26:20.849Z"
   },
   {
    "duration": 80,
    "start_time": "2025-01-07T14:26:20.918Z"
   },
   {
    "duration": 75,
    "start_time": "2025-01-07T14:26:20.999Z"
   },
   {
    "duration": 413,
    "start_time": "2025-01-07T14:26:21.076Z"
   },
   {
    "duration": 92,
    "start_time": "2025-01-07T14:26:52.283Z"
   },
   {
    "duration": 179,
    "start_time": "2025-01-07T14:34:13.017Z"
   },
   {
    "duration": 39,
    "start_time": "2025-01-07T14:34:23.675Z"
   },
   {
    "duration": 21,
    "start_time": "2025-01-07T14:37:28.446Z"
   },
   {
    "duration": 23,
    "start_time": "2025-01-07T14:37:37.820Z"
   },
   {
    "duration": 3,
    "start_time": "2025-01-07T14:37:57.101Z"
   },
   {
    "duration": 10,
    "start_time": "2025-01-07T14:38:01.201Z"
   },
   {
    "duration": 10,
    "start_time": "2025-01-07T14:38:05.527Z"
   },
   {
    "duration": 11,
    "start_time": "2025-01-07T14:38:07.718Z"
   },
   {
    "duration": 13,
    "start_time": "2025-01-07T14:38:23.868Z"
   },
   {
    "duration": 11,
    "start_time": "2025-01-07T14:38:25.411Z"
   },
   {
    "duration": 4147,
    "start_time": "2025-01-07T14:38:29.858Z"
   },
   {
    "duration": 2419,
    "start_time": "2025-01-07T14:38:34.008Z"
   },
   {
    "duration": 17,
    "start_time": "2025-01-07T14:38:36.428Z"
   },
   {
    "duration": 54,
    "start_time": "2025-01-07T14:38:36.447Z"
   },
   {
    "duration": 115,
    "start_time": "2025-01-07T14:38:36.503Z"
   },
   {
    "duration": 9,
    "start_time": "2025-01-07T14:38:36.620Z"
   },
   {
    "duration": 13,
    "start_time": "2025-01-07T14:38:36.631Z"
   },
   {
    "duration": 16,
    "start_time": "2025-01-07T14:38:36.646Z"
   },
   {
    "duration": 17,
    "start_time": "2025-01-07T14:38:36.664Z"
   },
   {
    "duration": 11,
    "start_time": "2025-01-07T14:38:36.685Z"
   },
   {
    "duration": 14,
    "start_time": "2025-01-07T14:38:36.698Z"
   },
   {
    "duration": 51,
    "start_time": "2025-01-07T14:38:36.714Z"
   },
   {
    "duration": 160,
    "start_time": "2025-01-07T14:38:36.767Z"
   },
   {
    "duration": 36,
    "start_time": "2025-01-07T14:38:36.929Z"
   },
   {
    "duration": 38,
    "start_time": "2025-01-07T14:38:36.967Z"
   },
   {
    "duration": 15,
    "start_time": "2025-01-07T14:38:37.007Z"
   },
   {
    "duration": 15,
    "start_time": "2025-01-07T14:38:37.024Z"
   },
   {
    "duration": 91,
    "start_time": "2025-01-07T14:38:37.041Z"
   },
   {
    "duration": 29,
    "start_time": "2025-01-07T14:38:37.134Z"
   },
   {
    "duration": 258,
    "start_time": "2025-01-07T14:38:37.165Z"
   },
   {
    "duration": 44,
    "start_time": "2025-01-07T14:38:37.425Z"
   },
   {
    "duration": 19,
    "start_time": "2025-01-07T14:38:37.470Z"
   },
   {
    "duration": 48,
    "start_time": "2025-01-07T14:38:37.491Z"
   },
   {
    "duration": 45,
    "start_time": "2025-01-07T14:38:37.559Z"
   },
   {
    "duration": 64,
    "start_time": "2025-01-07T14:38:37.607Z"
   },
   {
    "duration": 12,
    "start_time": "2025-01-07T14:38:37.673Z"
   },
   {
    "duration": 293,
    "start_time": "2025-01-07T14:38:37.688Z"
   },
   {
    "duration": 15,
    "start_time": "2025-01-07T14:38:37.987Z"
   },
   {
    "duration": 65,
    "start_time": "2025-01-07T14:38:38.004Z"
   },
   {
    "duration": 17,
    "start_time": "2025-01-07T14:38:38.071Z"
   },
   {
    "duration": 9,
    "start_time": "2025-01-07T14:38:38.090Z"
   },
   {
    "duration": 189,
    "start_time": "2025-01-07T14:38:38.101Z"
   },
   {
    "duration": 52,
    "start_time": "2025-01-07T14:38:38.293Z"
   },
   {
    "duration": 385,
    "start_time": "2025-01-07T14:38:38.360Z"
   },
   {
    "duration": 268,
    "start_time": "2025-01-07T14:38:38.747Z"
   },
   {
    "duration": 32,
    "start_time": "2025-01-07T14:38:39.017Z"
   },
   {
    "duration": 72,
    "start_time": "2025-01-07T14:38:39.061Z"
   },
   {
    "duration": 87,
    "start_time": "2025-01-07T14:38:39.135Z"
   },
   {
    "duration": 78,
    "start_time": "2025-01-07T14:38:39.224Z"
   },
   {
    "duration": 428,
    "start_time": "2025-01-07T14:38:39.304Z"
   },
   {
    "duration": 119,
    "start_time": "2025-01-07T14:38:39.734Z"
   },
   {
    "duration": 34,
    "start_time": "2025-01-07T14:38:39.859Z"
   },
   {
    "duration": 27,
    "start_time": "2025-01-07T14:38:39.895Z"
   },
   {
    "duration": 11,
    "start_time": "2025-01-07T14:39:00.981Z"
   },
   {
    "duration": 11,
    "start_time": "2025-01-07T14:39:07.869Z"
   },
   {
    "duration": 13,
    "start_time": "2025-01-07T14:40:01.785Z"
   },
   {
    "duration": 22,
    "start_time": "2025-01-07T14:40:09.079Z"
   },
   {
    "duration": 13,
    "start_time": "2025-01-07T14:41:35.789Z"
   },
   {
    "duration": 4,
    "start_time": "2025-01-07T14:43:21.401Z"
   },
   {
    "duration": 6,
    "start_time": "2025-01-07T14:43:34.660Z"
   },
   {
    "duration": 4,
    "start_time": "2025-01-07T14:44:42.720Z"
   },
   {
    "duration": 3897,
    "start_time": "2025-01-07T14:47:25.105Z"
   },
   {
    "duration": 2679,
    "start_time": "2025-01-07T14:47:29.005Z"
   },
   {
    "duration": 14,
    "start_time": "2025-01-07T14:47:31.686Z"
   },
   {
    "duration": 32,
    "start_time": "2025-01-07T14:47:31.702Z"
   },
   {
    "duration": 129,
    "start_time": "2025-01-07T14:47:31.736Z"
   },
   {
    "duration": 9,
    "start_time": "2025-01-07T14:47:31.867Z"
   },
   {
    "duration": 20,
    "start_time": "2025-01-07T14:47:31.877Z"
   },
   {
    "duration": 25,
    "start_time": "2025-01-07T14:47:31.899Z"
   },
   {
    "duration": 19,
    "start_time": "2025-01-07T14:47:31.926Z"
   },
   {
    "duration": 13,
    "start_time": "2025-01-07T14:47:31.948Z"
   },
   {
    "duration": 17,
    "start_time": "2025-01-07T14:47:31.963Z"
   },
   {
    "duration": 21,
    "start_time": "2025-01-07T14:47:31.982Z"
   },
   {
    "duration": 111,
    "start_time": "2025-01-07T14:47:32.006Z"
   },
   {
    "duration": 27,
    "start_time": "2025-01-07T14:47:32.119Z"
   },
   {
    "duration": 24,
    "start_time": "2025-01-07T14:47:32.161Z"
   },
   {
    "duration": 29,
    "start_time": "2025-01-07T14:47:32.187Z"
   },
   {
    "duration": 15,
    "start_time": "2025-01-07T14:47:32.218Z"
   },
   {
    "duration": 55,
    "start_time": "2025-01-07T14:47:32.235Z"
   },
   {
    "duration": 18,
    "start_time": "2025-01-07T14:47:32.292Z"
   },
   {
    "duration": 289,
    "start_time": "2025-01-07T14:47:32.313Z"
   },
   {
    "duration": 36,
    "start_time": "2025-01-07T14:47:32.604Z"
   },
   {
    "duration": 21,
    "start_time": "2025-01-07T14:47:32.659Z"
   },
   {
    "duration": 62,
    "start_time": "2025-01-07T14:47:32.682Z"
   },
   {
    "duration": 49,
    "start_time": "2025-01-07T14:47:32.746Z"
   },
   {
    "duration": 61,
    "start_time": "2025-01-07T14:47:32.796Z"
   },
   {
    "duration": 11,
    "start_time": "2025-01-07T14:47:32.859Z"
   },
   {
    "duration": 263,
    "start_time": "2025-01-07T14:47:32.872Z"
   },
   {
    "duration": 21,
    "start_time": "2025-01-07T14:47:33.140Z"
   },
   {
    "duration": 49,
    "start_time": "2025-01-07T14:47:33.163Z"
   },
   {
    "duration": 20,
    "start_time": "2025-01-07T14:47:33.214Z"
   },
   {
    "duration": 29,
    "start_time": "2025-01-07T14:47:33.236Z"
   },
   {
    "duration": 173,
    "start_time": "2025-01-07T14:47:33.267Z"
   },
   {
    "duration": 61,
    "start_time": "2025-01-07T14:47:33.442Z"
   },
   {
    "duration": 61,
    "start_time": "2025-01-07T14:47:33.505Z"
   },
   {
    "duration": 0,
    "start_time": "2025-01-07T14:47:33.569Z"
   },
   {
    "duration": 0,
    "start_time": "2025-01-07T14:47:33.571Z"
   },
   {
    "duration": 0,
    "start_time": "2025-01-07T14:47:33.572Z"
   },
   {
    "duration": 0,
    "start_time": "2025-01-07T14:47:33.574Z"
   },
   {
    "duration": 0,
    "start_time": "2025-01-07T14:47:33.575Z"
   },
   {
    "duration": 0,
    "start_time": "2025-01-07T14:47:33.577Z"
   },
   {
    "duration": 0,
    "start_time": "2025-01-07T14:47:33.578Z"
   },
   {
    "duration": 0,
    "start_time": "2025-01-07T14:47:33.580Z"
   },
   {
    "duration": 0,
    "start_time": "2025-01-07T14:47:33.581Z"
   },
   {
    "duration": 0,
    "start_time": "2025-01-07T14:47:33.582Z"
   },
   {
    "duration": 58,
    "start_time": "2025-01-07T14:48:17.493Z"
   },
   {
    "duration": 378,
    "start_time": "2025-01-07T14:48:25.529Z"
   },
   {
    "duration": 4143,
    "start_time": "2025-01-07T14:48:29.890Z"
   },
   {
    "duration": 2155,
    "start_time": "2025-01-07T14:48:34.036Z"
   },
   {
    "duration": 15,
    "start_time": "2025-01-07T14:48:36.196Z"
   },
   {
    "duration": 48,
    "start_time": "2025-01-07T14:48:36.213Z"
   },
   {
    "duration": 115,
    "start_time": "2025-01-07T14:48:36.263Z"
   },
   {
    "duration": 9,
    "start_time": "2025-01-07T14:48:36.381Z"
   },
   {
    "duration": 24,
    "start_time": "2025-01-07T14:48:36.393Z"
   },
   {
    "duration": 22,
    "start_time": "2025-01-07T14:48:36.419Z"
   },
   {
    "duration": 23,
    "start_time": "2025-01-07T14:48:36.445Z"
   },
   {
    "duration": 21,
    "start_time": "2025-01-07T14:48:36.470Z"
   },
   {
    "duration": 38,
    "start_time": "2025-01-07T14:48:36.493Z"
   },
   {
    "duration": 29,
    "start_time": "2025-01-07T14:48:36.532Z"
   },
   {
    "duration": 107,
    "start_time": "2025-01-07T14:48:36.563Z"
   },
   {
    "duration": 26,
    "start_time": "2025-01-07T14:48:36.672Z"
   },
   {
    "duration": 21,
    "start_time": "2025-01-07T14:48:36.699Z"
   },
   {
    "duration": 39,
    "start_time": "2025-01-07T14:48:36.722Z"
   },
   {
    "duration": 10,
    "start_time": "2025-01-07T14:48:36.763Z"
   },
   {
    "duration": 50,
    "start_time": "2025-01-07T14:48:36.775Z"
   },
   {
    "duration": 35,
    "start_time": "2025-01-07T14:48:36.827Z"
   },
   {
    "duration": 265,
    "start_time": "2025-01-07T14:48:36.864Z"
   },
   {
    "duration": 43,
    "start_time": "2025-01-07T14:48:37.130Z"
   },
   {
    "duration": 19,
    "start_time": "2025-01-07T14:48:37.174Z"
   },
   {
    "duration": 35,
    "start_time": "2025-01-07T14:48:37.195Z"
   },
   {
    "duration": 64,
    "start_time": "2025-01-07T14:48:37.232Z"
   },
   {
    "duration": 65,
    "start_time": "2025-01-07T14:48:37.297Z"
   },
   {
    "duration": 11,
    "start_time": "2025-01-07T14:48:37.364Z"
   },
   {
    "duration": 263,
    "start_time": "2025-01-07T14:48:37.379Z"
   },
   {
    "duration": 21,
    "start_time": "2025-01-07T14:48:37.644Z"
   },
   {
    "duration": 47,
    "start_time": "2025-01-07T14:48:37.667Z"
   },
   {
    "duration": 16,
    "start_time": "2025-01-07T14:48:37.716Z"
   },
   {
    "duration": 27,
    "start_time": "2025-01-07T14:48:37.734Z"
   },
   {
    "duration": 196,
    "start_time": "2025-01-07T14:48:37.763Z"
   },
   {
    "duration": 61,
    "start_time": "2025-01-07T14:48:37.961Z"
   },
   {
    "duration": 391,
    "start_time": "2025-01-07T14:48:38.023Z"
   },
   {
    "duration": 264,
    "start_time": "2025-01-07T14:48:38.416Z"
   },
   {
    "duration": 24,
    "start_time": "2025-01-07T14:48:38.682Z"
   },
   {
    "duration": 74,
    "start_time": "2025-01-07T14:48:38.708Z"
   },
   {
    "duration": 76,
    "start_time": "2025-01-07T14:48:38.784Z"
   },
   {
    "duration": 70,
    "start_time": "2025-01-07T14:48:38.862Z"
   },
   {
    "duration": 434,
    "start_time": "2025-01-07T14:48:38.934Z"
   },
   {
    "duration": 113,
    "start_time": "2025-01-07T14:48:39.370Z"
   },
   {
    "duration": 32,
    "start_time": "2025-01-07T14:48:39.485Z"
   },
   {
    "duration": 12,
    "start_time": "2025-01-07T14:48:39.519Z"
   },
   {
    "duration": 29,
    "start_time": "2025-01-07T14:48:39.532Z"
   },
   {
    "duration": 9,
    "start_time": "2025-01-07T14:52:31.361Z"
   },
   {
    "duration": 6,
    "start_time": "2025-01-07T14:52:43.903Z"
   },
   {
    "duration": 115,
    "start_time": "2025-01-07T14:52:52.036Z"
   },
   {
    "duration": 5,
    "start_time": "2025-01-07T14:52:59.266Z"
   },
   {
    "duration": 5,
    "start_time": "2025-01-07T14:55:18.929Z"
   },
   {
    "duration": 6,
    "start_time": "2025-01-07T14:55:29.910Z"
   },
   {
    "duration": 5,
    "start_time": "2025-01-07T14:55:31.515Z"
   },
   {
    "duration": 4,
    "start_time": "2025-01-07T14:55:49.886Z"
   },
   {
    "duration": 76,
    "start_time": "2025-01-07T14:56:17.245Z"
   },
   {
    "duration": 7,
    "start_time": "2025-01-07T14:56:21.314Z"
   },
   {
    "duration": 6,
    "start_time": "2025-01-07T15:11:56.851Z"
   },
   {
    "duration": 14,
    "start_time": "2025-01-07T15:12:13.946Z"
   },
   {
    "duration": 18,
    "start_time": "2025-01-07T15:12:22.019Z"
   },
   {
    "duration": 14,
    "start_time": "2025-01-07T15:13:01.264Z"
   },
   {
    "duration": 21,
    "start_time": "2025-01-07T15:13:05.852Z"
   },
   {
    "duration": 15,
    "start_time": "2025-01-07T15:13:07.564Z"
   },
   {
    "duration": 15,
    "start_time": "2025-01-07T15:13:08.415Z"
   },
   {
    "duration": 15,
    "start_time": "2025-01-07T15:13:08.971Z"
   },
   {
    "duration": 14,
    "start_time": "2025-01-07T15:13:09.425Z"
   },
   {
    "duration": 14,
    "start_time": "2025-01-07T15:13:09.857Z"
   },
   {
    "duration": 14,
    "start_time": "2025-01-07T15:13:10.270Z"
   },
   {
    "duration": 14,
    "start_time": "2025-01-07T15:13:10.691Z"
   },
   {
    "duration": 13,
    "start_time": "2025-01-07T15:13:11.201Z"
   },
   {
    "duration": 15,
    "start_time": "2025-01-07T15:13:12.197Z"
   },
   {
    "duration": 15,
    "start_time": "2025-01-07T15:13:12.702Z"
   },
   {
    "duration": 15,
    "start_time": "2025-01-07T15:13:13.195Z"
   },
   {
    "duration": 15,
    "start_time": "2025-01-07T15:13:13.628Z"
   },
   {
    "duration": 13,
    "start_time": "2025-01-07T15:13:14.033Z"
   },
   {
    "duration": 14,
    "start_time": "2025-01-07T15:13:14.435Z"
   },
   {
    "duration": 14,
    "start_time": "2025-01-07T15:13:15.049Z"
   },
   {
    "duration": 13,
    "start_time": "2025-01-07T15:13:15.496Z"
   },
   {
    "duration": 15,
    "start_time": "2025-01-07T15:13:15.912Z"
   },
   {
    "duration": 14,
    "start_time": "2025-01-07T15:13:16.350Z"
   },
   {
    "duration": 13,
    "start_time": "2025-01-07T15:13:16.771Z"
   },
   {
    "duration": 13,
    "start_time": "2025-01-07T15:13:17.218Z"
   },
   {
    "duration": 14,
    "start_time": "2025-01-07T15:13:17.614Z"
   },
   {
    "duration": 14,
    "start_time": "2025-01-07T15:13:18.246Z"
   },
   {
    "duration": 14,
    "start_time": "2025-01-07T15:13:18.691Z"
   },
   {
    "duration": 13,
    "start_time": "2025-01-07T15:13:19.104Z"
   },
   {
    "duration": 13,
    "start_time": "2025-01-07T15:13:19.523Z"
   },
   {
    "duration": 15,
    "start_time": "2025-01-07T15:13:53.946Z"
   },
   {
    "duration": 18,
    "start_time": "2025-01-07T15:13:58.315Z"
   },
   {
    "duration": 14,
    "start_time": "2025-01-07T15:15:18.449Z"
   },
   {
    "duration": 13,
    "start_time": "2025-01-07T15:15:41.505Z"
   },
   {
    "duration": 11,
    "start_time": "2025-01-07T15:15:55.469Z"
   },
   {
    "duration": 10,
    "start_time": "2025-01-07T15:16:10.093Z"
   },
   {
    "duration": 13,
    "start_time": "2025-01-07T15:16:32.449Z"
   },
   {
    "duration": 13,
    "start_time": "2025-01-07T15:16:37.668Z"
   },
   {
    "duration": 13,
    "start_time": "2025-01-07T15:16:38.517Z"
   },
   {
    "duration": 13,
    "start_time": "2025-01-07T15:16:38.940Z"
   },
   {
    "duration": 13,
    "start_time": "2025-01-07T15:16:39.570Z"
   },
   {
    "duration": 14,
    "start_time": "2025-01-07T15:16:40.037Z"
   },
   {
    "duration": 13,
    "start_time": "2025-01-07T15:16:40.430Z"
   },
   {
    "duration": 14,
    "start_time": "2025-01-07T15:16:40.813Z"
   },
   {
    "duration": 13,
    "start_time": "2025-01-07T15:16:41.203Z"
   },
   {
    "duration": 13,
    "start_time": "2025-01-07T15:16:41.551Z"
   },
   {
    "duration": 14,
    "start_time": "2025-01-07T15:16:41.862Z"
   },
   {
    "duration": 13,
    "start_time": "2025-01-07T15:16:42.211Z"
   },
   {
    "duration": 13,
    "start_time": "2025-01-07T15:16:42.448Z"
   },
   {
    "duration": 12,
    "start_time": "2025-01-07T15:16:42.635Z"
   },
   {
    "duration": 13,
    "start_time": "2025-01-07T15:16:43.000Z"
   },
   {
    "duration": 12,
    "start_time": "2025-01-07T15:16:43.199Z"
   },
   {
    "duration": 13,
    "start_time": "2025-01-07T15:16:43.378Z"
   },
   {
    "duration": 13,
    "start_time": "2025-01-07T15:16:43.777Z"
   },
   {
    "duration": 14,
    "start_time": "2025-01-07T15:16:44.344Z"
   },
   {
    "duration": 20,
    "start_time": "2025-01-07T15:17:59.801Z"
   },
   {
    "duration": 3960,
    "start_time": "2025-01-07T15:18:09.806Z"
   },
   {
    "duration": 2551,
    "start_time": "2025-01-07T15:18:13.769Z"
   },
   {
    "duration": 15,
    "start_time": "2025-01-07T15:18:16.321Z"
   },
   {
    "duration": 39,
    "start_time": "2025-01-07T15:18:16.338Z"
   },
   {
    "duration": 121,
    "start_time": "2025-01-07T15:18:16.378Z"
   },
   {
    "duration": 8,
    "start_time": "2025-01-07T15:18:16.500Z"
   },
   {
    "duration": 9,
    "start_time": "2025-01-07T15:18:16.510Z"
   },
   {
    "duration": 6,
    "start_time": "2025-01-07T15:18:16.520Z"
   },
   {
    "duration": 34,
    "start_time": "2025-01-07T15:18:16.528Z"
   },
   {
    "duration": 15,
    "start_time": "2025-01-07T15:18:16.565Z"
   },
   {
    "duration": 17,
    "start_time": "2025-01-07T15:18:16.582Z"
   },
   {
    "duration": 13,
    "start_time": "2025-01-07T15:18:16.601Z"
   },
   {
    "duration": 116,
    "start_time": "2025-01-07T15:18:16.616Z"
   },
   {
    "duration": 35,
    "start_time": "2025-01-07T15:18:16.734Z"
   },
   {
    "duration": 21,
    "start_time": "2025-01-07T15:18:16.771Z"
   },
   {
    "duration": 14,
    "start_time": "2025-01-07T15:18:16.793Z"
   },
   {
    "duration": 10,
    "start_time": "2025-01-07T15:18:16.809Z"
   },
   {
    "duration": 74,
    "start_time": "2025-01-07T15:18:16.821Z"
   },
   {
    "duration": 16,
    "start_time": "2025-01-07T15:18:16.897Z"
   },
   {
    "duration": 272,
    "start_time": "2025-01-07T15:18:16.915Z"
   },
   {
    "duration": 34,
    "start_time": "2025-01-07T15:18:17.189Z"
   },
   {
    "duration": 35,
    "start_time": "2025-01-07T15:18:17.225Z"
   },
   {
    "duration": 37,
    "start_time": "2025-01-07T15:18:17.262Z"
   },
   {
    "duration": 62,
    "start_time": "2025-01-07T15:18:17.300Z"
   },
   {
    "duration": 46,
    "start_time": "2025-01-07T15:18:17.364Z"
   },
   {
    "duration": 11,
    "start_time": "2025-01-07T15:18:17.412Z"
   },
   {
    "duration": 265,
    "start_time": "2025-01-07T15:18:17.425Z"
   },
   {
    "duration": 12,
    "start_time": "2025-01-07T15:18:17.694Z"
   },
   {
    "duration": 58,
    "start_time": "2025-01-07T15:18:17.707Z"
   },
   {
    "duration": 18,
    "start_time": "2025-01-07T15:18:17.767Z"
   },
   {
    "duration": 8,
    "start_time": "2025-01-07T15:18:17.786Z"
   },
   {
    "duration": 221,
    "start_time": "2025-01-07T15:18:17.796Z"
   },
   {
    "duration": 64,
    "start_time": "2025-01-07T15:18:18.019Z"
   },
   {
    "duration": 379,
    "start_time": "2025-01-07T15:18:18.084Z"
   },
   {
    "duration": 260,
    "start_time": "2025-01-07T15:18:18.465Z"
   },
   {
    "duration": 24,
    "start_time": "2025-01-07T15:18:18.726Z"
   },
   {
    "duration": 53,
    "start_time": "2025-01-07T15:18:18.760Z"
   },
   {
    "duration": 80,
    "start_time": "2025-01-07T15:18:18.815Z"
   },
   {
    "duration": 76,
    "start_time": "2025-01-07T15:18:18.896Z"
   },
   {
    "duration": 409,
    "start_time": "2025-01-07T15:18:18.974Z"
   },
   {
    "duration": 112,
    "start_time": "2025-01-07T15:18:19.385Z"
   },
   {
    "duration": 32,
    "start_time": "2025-01-07T15:18:19.499Z"
   },
   {
    "duration": 32,
    "start_time": "2025-01-07T15:18:19.532Z"
   },
   {
    "duration": 6,
    "start_time": "2025-01-07T15:18:19.566Z"
   },
   {
    "duration": 14,
    "start_time": "2025-01-07T15:18:19.574Z"
   },
   {
    "duration": 7,
    "start_time": "2025-01-07T15:21:30.825Z"
   },
   {
    "duration": 3923,
    "start_time": "2025-01-07T15:22:57.629Z"
   },
   {
    "duration": 2418,
    "start_time": "2025-01-07T15:23:01.554Z"
   },
   {
    "duration": 14,
    "start_time": "2025-01-07T15:23:03.974Z"
   },
   {
    "duration": 56,
    "start_time": "2025-01-07T15:23:03.990Z"
   },
   {
    "duration": 145,
    "start_time": "2025-01-07T15:23:04.048Z"
   },
   {
    "duration": 8,
    "start_time": "2025-01-07T15:23:04.195Z"
   },
   {
    "duration": 68,
    "start_time": "2025-01-07T15:23:04.205Z"
   },
   {
    "duration": 10,
    "start_time": "2025-01-07T15:23:04.275Z"
   },
   {
    "duration": 11,
    "start_time": "2025-01-07T15:23:04.287Z"
   },
   {
    "duration": 12,
    "start_time": "2025-01-07T15:23:04.301Z"
   },
   {
    "duration": 25,
    "start_time": "2025-01-07T15:23:04.315Z"
   },
   {
    "duration": 25,
    "start_time": "2025-01-07T15:23:04.342Z"
   },
   {
    "duration": 108,
    "start_time": "2025-01-07T15:23:04.369Z"
   },
   {
    "duration": 25,
    "start_time": "2025-01-07T15:23:04.479Z"
   },
   {
    "duration": 25,
    "start_time": "2025-01-07T15:23:04.506Z"
   },
   {
    "duration": 33,
    "start_time": "2025-01-07T15:23:04.533Z"
   },
   {
    "duration": 18,
    "start_time": "2025-01-07T15:23:04.568Z"
   },
   {
    "duration": 60,
    "start_time": "2025-01-07T15:23:04.588Z"
   },
   {
    "duration": 17,
    "start_time": "2025-01-07T15:23:04.650Z"
   },
   {
    "duration": 250,
    "start_time": "2025-01-07T15:23:04.669Z"
   },
   {
    "duration": 48,
    "start_time": "2025-01-07T15:23:04.921Z"
   },
   {
    "duration": 18,
    "start_time": "2025-01-07T15:23:04.971Z"
   },
   {
    "duration": 42,
    "start_time": "2025-01-07T15:23:04.991Z"
   },
   {
    "duration": 59,
    "start_time": "2025-01-07T15:23:05.035Z"
   },
   {
    "duration": 65,
    "start_time": "2025-01-07T15:23:05.095Z"
   },
   {
    "duration": 14,
    "start_time": "2025-01-07T15:23:05.162Z"
   },
   {
    "duration": 259,
    "start_time": "2025-01-07T15:23:05.178Z"
   },
   {
    "duration": 21,
    "start_time": "2025-01-07T15:23:05.442Z"
   },
   {
    "duration": 44,
    "start_time": "2025-01-07T15:23:05.466Z"
   },
   {
    "duration": 18,
    "start_time": "2025-01-07T15:23:05.512Z"
   },
   {
    "duration": 36,
    "start_time": "2025-01-07T15:23:05.532Z"
   },
   {
    "duration": 185,
    "start_time": "2025-01-07T15:23:05.570Z"
   },
   {
    "duration": 54,
    "start_time": "2025-01-07T15:23:05.757Z"
   },
   {
    "duration": 406,
    "start_time": "2025-01-07T15:23:05.813Z"
   },
   {
    "duration": 258,
    "start_time": "2025-01-07T15:23:06.221Z"
   },
   {
    "duration": 24,
    "start_time": "2025-01-07T15:23:06.480Z"
   },
   {
    "duration": 65,
    "start_time": "2025-01-07T15:23:06.505Z"
   },
   {
    "duration": 68,
    "start_time": "2025-01-07T15:23:06.572Z"
   },
   {
    "duration": 84,
    "start_time": "2025-01-07T15:23:06.642Z"
   },
   {
    "duration": 415,
    "start_time": "2025-01-07T15:23:06.728Z"
   },
   {
    "duration": 116,
    "start_time": "2025-01-07T15:23:07.145Z"
   },
   {
    "duration": 34,
    "start_time": "2025-01-07T15:23:07.262Z"
   },
   {
    "duration": 15,
    "start_time": "2025-01-07T15:23:07.297Z"
   },
   {
    "duration": 6,
    "start_time": "2025-01-07T15:23:07.314Z"
   },
   {
    "duration": 42,
    "start_time": "2025-01-07T15:23:07.322Z"
   },
   {
    "duration": 7,
    "start_time": "2025-01-07T15:23:07.366Z"
   },
   {
    "duration": 142,
    "start_time": "2025-01-07T15:25:07.348Z"
   },
   {
    "duration": 133,
    "start_time": "2025-01-07T15:25:21.187Z"
   },
   {
    "duration": 68,
    "start_time": "2025-01-07T15:28:05.945Z"
   },
   {
    "duration": 287,
    "start_time": "2025-01-07T15:29:42.900Z"
   },
   {
    "duration": 172,
    "start_time": "2025-01-07T15:30:09.245Z"
   },
   {
    "duration": 179,
    "start_time": "2025-01-07T15:30:36.770Z"
   },
   {
    "duration": 187,
    "start_time": "2025-01-07T15:31:16.332Z"
   },
   {
    "duration": 161,
    "start_time": "2025-01-07T15:31:42.585Z"
   },
   {
    "duration": 170,
    "start_time": "2025-01-07T17:19:08.109Z"
   },
   {
    "duration": 162,
    "start_time": "2025-01-07T17:21:08.216Z"
   },
   {
    "duration": 23,
    "start_time": "2025-01-07T17:29:08.188Z"
   },
   {
    "duration": 41,
    "start_time": "2025-01-07T17:29:23.010Z"
   },
   {
    "duration": 22,
    "start_time": "2025-01-07T17:31:49.972Z"
   },
   {
    "duration": 18,
    "start_time": "2025-01-07T17:31:55.072Z"
   },
   {
    "duration": 17,
    "start_time": "2025-01-07T17:32:21.110Z"
   },
   {
    "duration": 81,
    "start_time": "2025-01-07T17:45:18.861Z"
   },
   {
    "duration": 53,
    "start_time": "2025-01-07T17:46:05.325Z"
   },
   {
    "duration": 14,
    "start_time": "2025-01-07T17:46:18.145Z"
   },
   {
    "duration": 113,
    "start_time": "2025-01-07T17:47:36.972Z"
   },
   {
    "duration": 952,
    "start_time": "2025-01-07T17:47:59.591Z"
   },
   {
    "duration": 78,
    "start_time": "2025-01-07T17:48:31.326Z"
   },
   {
    "duration": 62,
    "start_time": "2025-01-07T17:48:51.823Z"
   },
   {
    "duration": 70,
    "start_time": "2025-01-07T17:48:59.932Z"
   },
   {
    "duration": 37,
    "start_time": "2025-01-07T17:49:33.795Z"
   },
   {
    "duration": 10,
    "start_time": "2025-01-07T18:13:18.084Z"
   },
   {
    "duration": 11,
    "start_time": "2025-01-07T18:13:59.497Z"
   },
   {
    "duration": 16,
    "start_time": "2025-01-07T18:16:58.929Z"
   },
   {
    "duration": 14,
    "start_time": "2025-01-07T18:17:08.600Z"
   },
   {
    "duration": 60,
    "start_time": "2025-01-07T18:18:26.414Z"
   },
   {
    "duration": 16,
    "start_time": "2025-01-07T18:19:10.498Z"
   },
   {
    "duration": 18,
    "start_time": "2025-01-07T18:20:09.730Z"
   },
   {
    "duration": 11,
    "start_time": "2025-01-07T18:20:16.830Z"
   },
   {
    "duration": 42,
    "start_time": "2025-01-07T18:20:38.476Z"
   },
   {
    "duration": 9,
    "start_time": "2025-01-07T18:20:48.812Z"
   },
   {
    "duration": 3861,
    "start_time": "2025-01-07T18:21:22.684Z"
   },
   {
    "duration": 2281,
    "start_time": "2025-01-07T18:21:26.547Z"
   },
   {
    "duration": 14,
    "start_time": "2025-01-07T18:21:28.830Z"
   },
   {
    "duration": 25,
    "start_time": "2025-01-07T18:21:28.859Z"
   },
   {
    "duration": 127,
    "start_time": "2025-01-07T18:21:28.886Z"
   },
   {
    "duration": 8,
    "start_time": "2025-01-07T18:21:29.015Z"
   },
   {
    "duration": 9,
    "start_time": "2025-01-07T18:21:29.025Z"
   },
   {
    "duration": 25,
    "start_time": "2025-01-07T18:21:29.035Z"
   },
   {
    "duration": 11,
    "start_time": "2025-01-07T18:21:29.062Z"
   },
   {
    "duration": 7,
    "start_time": "2025-01-07T18:21:29.076Z"
   },
   {
    "duration": 10,
    "start_time": "2025-01-07T18:21:29.085Z"
   },
   {
    "duration": 13,
    "start_time": "2025-01-07T18:21:29.096Z"
   },
   {
    "duration": 149,
    "start_time": "2025-01-07T18:21:29.111Z"
   },
   {
    "duration": 26,
    "start_time": "2025-01-07T18:21:29.262Z"
   },
   {
    "duration": 25,
    "start_time": "2025-01-07T18:21:29.290Z"
   },
   {
    "duration": 14,
    "start_time": "2025-01-07T18:21:29.317Z"
   },
   {
    "duration": 10,
    "start_time": "2025-01-07T18:21:29.360Z"
   },
   {
    "duration": 46,
    "start_time": "2025-01-07T18:21:29.372Z"
   },
   {
    "duration": 18,
    "start_time": "2025-01-07T18:21:29.420Z"
   },
   {
    "duration": 252,
    "start_time": "2025-01-07T18:21:29.461Z"
   },
   {
    "duration": 45,
    "start_time": "2025-01-07T18:21:29.715Z"
   },
   {
    "duration": 17,
    "start_time": "2025-01-07T18:21:29.762Z"
   },
   {
    "duration": 38,
    "start_time": "2025-01-07T18:21:29.781Z"
   },
   {
    "duration": 68,
    "start_time": "2025-01-07T18:21:29.821Z"
   },
   {
    "duration": 45,
    "start_time": "2025-01-07T18:21:29.891Z"
   },
   {
    "duration": 29,
    "start_time": "2025-01-07T18:21:29.939Z"
   },
   {
    "duration": 262,
    "start_time": "2025-01-07T18:21:29.970Z"
   },
   {
    "duration": 23,
    "start_time": "2025-01-07T18:21:30.237Z"
   },
   {
    "duration": 83,
    "start_time": "2025-01-07T18:21:30.262Z"
   },
   {
    "duration": 17,
    "start_time": "2025-01-07T18:21:30.347Z"
   },
   {
    "duration": 33,
    "start_time": "2025-01-07T18:21:30.366Z"
   },
   {
    "duration": 189,
    "start_time": "2025-01-07T18:21:30.401Z"
   },
   {
    "duration": 52,
    "start_time": "2025-01-07T18:21:30.592Z"
   },
   {
    "duration": 394,
    "start_time": "2025-01-07T18:21:30.661Z"
   },
   {
    "duration": 259,
    "start_time": "2025-01-07T18:21:31.056Z"
   },
   {
    "duration": 24,
    "start_time": "2025-01-07T18:21:31.317Z"
   },
   {
    "duration": 69,
    "start_time": "2025-01-07T18:21:31.343Z"
   },
   {
    "duration": 76,
    "start_time": "2025-01-07T18:21:31.414Z"
   },
   {
    "duration": 77,
    "start_time": "2025-01-07T18:21:31.492Z"
   },
   {
    "duration": 450,
    "start_time": "2025-01-07T18:21:31.571Z"
   },
   {
    "duration": 111,
    "start_time": "2025-01-07T18:21:32.024Z"
   },
   {
    "duration": 45,
    "start_time": "2025-01-07T18:21:32.136Z"
   },
   {
    "duration": 15,
    "start_time": "2025-01-07T18:21:32.183Z"
   },
   {
    "duration": 10,
    "start_time": "2025-01-07T18:21:32.200Z"
   },
   {
    "duration": 16,
    "start_time": "2025-01-07T18:21:32.212Z"
   },
   {
    "duration": 189,
    "start_time": "2025-01-07T18:21:32.230Z"
   },
   {
    "duration": 89,
    "start_time": "2025-01-07T18:21:32.421Z"
   },
   {
    "duration": 64,
    "start_time": "2025-01-07T18:21:32.512Z"
   },
   {
    "duration": 10,
    "start_time": "2025-01-07T18:21:32.578Z"
   },
   {
    "duration": 52,
    "start_time": "2025-01-07T18:21:32.590Z"
   },
   {
    "duration": 50,
    "start_time": "2025-01-07T18:21:32.644Z"
   },
   {
    "duration": 115,
    "start_time": "2025-01-07T18:21:46.124Z"
   },
   {
    "duration": 10,
    "start_time": "2025-01-07T18:21:52.124Z"
   },
   {
    "duration": 17,
    "start_time": "2025-01-07T18:23:09.918Z"
   },
   {
    "duration": 4012,
    "start_time": "2025-01-07T18:23:19.201Z"
   },
   {
    "duration": 2193,
    "start_time": "2025-01-07T18:23:23.216Z"
   },
   {
    "duration": 14,
    "start_time": "2025-01-07T18:23:25.412Z"
   },
   {
    "duration": 41,
    "start_time": "2025-01-07T18:23:25.428Z"
   },
   {
    "duration": 119,
    "start_time": "2025-01-07T18:23:25.471Z"
   },
   {
    "duration": 8,
    "start_time": "2025-01-07T18:23:25.592Z"
   },
   {
    "duration": 10,
    "start_time": "2025-01-07T18:23:25.602Z"
   },
   {
    "duration": 6,
    "start_time": "2025-01-07T18:23:25.614Z"
   },
   {
    "duration": 39,
    "start_time": "2025-01-07T18:23:25.621Z"
   },
   {
    "duration": 8,
    "start_time": "2025-01-07T18:23:25.663Z"
   },
   {
    "duration": 11,
    "start_time": "2025-01-07T18:23:25.672Z"
   },
   {
    "duration": 18,
    "start_time": "2025-01-07T18:23:25.685Z"
   },
   {
    "duration": 133,
    "start_time": "2025-01-07T18:23:25.705Z"
   },
   {
    "duration": 35,
    "start_time": "2025-01-07T18:23:25.840Z"
   },
   {
    "duration": 21,
    "start_time": "2025-01-07T18:23:25.877Z"
   },
   {
    "duration": 14,
    "start_time": "2025-01-07T18:23:25.900Z"
   },
   {
    "duration": 45,
    "start_time": "2025-01-07T18:23:25.916Z"
   },
   {
    "duration": 44,
    "start_time": "2025-01-07T18:23:25.963Z"
   },
   {
    "duration": 16,
    "start_time": "2025-01-07T18:23:26.009Z"
   },
   {
    "duration": 299,
    "start_time": "2025-01-07T18:23:26.027Z"
   },
   {
    "duration": 48,
    "start_time": "2025-01-07T18:23:26.328Z"
   },
   {
    "duration": 20,
    "start_time": "2025-01-07T18:23:26.378Z"
   },
   {
    "duration": 60,
    "start_time": "2025-01-07T18:23:26.399Z"
   },
   {
    "duration": 49,
    "start_time": "2025-01-07T18:23:26.462Z"
   },
   {
    "duration": 69,
    "start_time": "2025-01-07T18:23:26.513Z"
   },
   {
    "duration": 12,
    "start_time": "2025-01-07T18:23:26.584Z"
   },
   {
    "duration": 256,
    "start_time": "2025-01-07T18:23:26.597Z"
   },
   {
    "duration": 13,
    "start_time": "2025-01-07T18:23:26.859Z"
   },
   {
    "duration": 42,
    "start_time": "2025-01-07T18:23:26.874Z"
   },
   {
    "duration": 44,
    "start_time": "2025-01-07T18:23:26.918Z"
   },
   {
    "duration": 9,
    "start_time": "2025-01-07T18:23:26.964Z"
   },
   {
    "duration": 185,
    "start_time": "2025-01-07T18:23:26.975Z"
   },
   {
    "duration": 54,
    "start_time": "2025-01-07T18:23:27.161Z"
   },
   {
    "duration": 401,
    "start_time": "2025-01-07T18:23:27.217Z"
   },
   {
    "duration": 267,
    "start_time": "2025-01-07T18:23:27.621Z"
   },
   {
    "duration": 27,
    "start_time": "2025-01-07T18:23:27.889Z"
   },
   {
    "duration": 98,
    "start_time": "2025-01-07T18:23:27.918Z"
   },
   {
    "duration": 73,
    "start_time": "2025-01-07T18:23:28.018Z"
   },
   {
    "duration": 80,
    "start_time": "2025-01-07T18:23:28.093Z"
   },
   {
    "duration": 422,
    "start_time": "2025-01-07T18:23:28.175Z"
   },
   {
    "duration": 115,
    "start_time": "2025-01-07T18:23:28.599Z"
   },
   {
    "duration": 33,
    "start_time": "2025-01-07T18:23:28.715Z"
   },
   {
    "duration": 17,
    "start_time": "2025-01-07T18:23:28.760Z"
   },
   {
    "duration": 41,
    "start_time": "2025-01-07T18:23:28.778Z"
   },
   {
    "duration": 22,
    "start_time": "2025-01-07T18:23:28.820Z"
   },
   {
    "duration": 170,
    "start_time": "2025-01-07T18:23:28.843Z"
   },
   {
    "duration": 84,
    "start_time": "2025-01-07T18:23:29.015Z"
   },
   {
    "duration": 61,
    "start_time": "2025-01-07T18:23:29.101Z"
   },
   {
    "duration": 10,
    "start_time": "2025-01-07T18:23:29.164Z"
   },
   {
    "duration": 25,
    "start_time": "2025-01-07T18:23:29.176Z"
   },
   {
    "duration": 38,
    "start_time": "2025-01-07T18:23:29.203Z"
   },
   {
    "duration": 89,
    "start_time": "2025-01-07T18:23:48.079Z"
   },
   {
    "duration": 38,
    "start_time": "2025-01-07T18:23:50.473Z"
   },
   {
    "duration": 39,
    "start_time": "2025-01-07T18:28:14.086Z"
   },
   {
    "duration": 110,
    "start_time": "2025-01-07T18:28:38.993Z"
   },
   {
    "duration": 10,
    "start_time": "2025-01-07T18:29:30.946Z"
   },
   {
    "duration": 11,
    "start_time": "2025-01-07T18:29:32.700Z"
   },
   {
    "duration": 41,
    "start_time": "2025-01-07T18:29:36.946Z"
   },
   {
    "duration": 10,
    "start_time": "2025-01-07T18:29:39.678Z"
   },
   {
    "duration": 4,
    "start_time": "2025-01-07T18:29:55.414Z"
   },
   {
    "duration": 9,
    "start_time": "2025-01-07T18:36:42.383Z"
   },
   {
    "duration": 5,
    "start_time": "2025-01-07T18:36:44.931Z"
   },
   {
    "duration": 69,
    "start_time": "2025-01-07T18:37:00.325Z"
   },
   {
    "duration": 71,
    "start_time": "2025-01-07T18:37:30.815Z"
   },
   {
    "duration": 60,
    "start_time": "2025-01-07T18:50:00.372Z"
   },
   {
    "duration": 27,
    "start_time": "2025-01-07T19:07:54.705Z"
   },
   {
    "duration": 29,
    "start_time": "2025-01-07T19:15:12.480Z"
   },
   {
    "duration": 28,
    "start_time": "2025-01-07T19:15:17.588Z"
   },
   {
    "duration": 28,
    "start_time": "2025-01-07T19:15:22.425Z"
   },
   {
    "duration": 107,
    "start_time": "2025-01-07T19:42:05.933Z"
   },
   {
    "duration": 11,
    "start_time": "2025-01-07T20:05:31.533Z"
   },
   {
    "duration": 4,
    "start_time": "2025-01-07T20:06:02.240Z"
   },
   {
    "duration": 926,
    "start_time": "2025-01-07T20:07:46.109Z"
   },
   {
    "duration": 24,
    "start_time": "2025-01-07T20:07:55.320Z"
   },
   {
    "duration": 42,
    "start_time": "2025-01-07T20:09:07.043Z"
   },
   {
    "duration": 35,
    "start_time": "2025-01-07T20:11:02.915Z"
   },
   {
    "duration": 102,
    "start_time": "2025-01-07T20:11:10.426Z"
   },
   {
    "duration": 14,
    "start_time": "2025-01-07T20:11:37.604Z"
   },
   {
    "duration": 293,
    "start_time": "2025-01-07T20:12:03.037Z"
   },
   {
    "duration": 894,
    "start_time": "2025-01-07T20:13:18.503Z"
   },
   {
    "duration": 288,
    "start_time": "2025-01-07T20:14:08.884Z"
   },
   {
    "duration": 344,
    "start_time": "2025-01-07T20:20:18.301Z"
   },
   {
    "duration": 71,
    "start_time": "2025-01-07T20:20:34.624Z"
   },
   {
    "duration": 326,
    "start_time": "2025-01-07T20:20:49.446Z"
   },
   {
    "duration": 63,
    "start_time": "2025-01-07T20:20:51.377Z"
   },
   {
    "duration": 111,
    "start_time": "2025-01-07T20:22:40.403Z"
   },
   {
    "duration": 111,
    "start_time": "2025-01-07T20:23:31.705Z"
   },
   {
    "duration": 101,
    "start_time": "2025-01-07T20:23:40.672Z"
   },
   {
    "duration": 136,
    "start_time": "2025-01-07T20:32:40.838Z"
   },
   {
    "duration": 4,
    "start_time": "2025-01-07T20:33:16.429Z"
   },
   {
    "duration": 102,
    "start_time": "2025-01-07T20:33:19.484Z"
   },
   {
    "duration": 8,
    "start_time": "2025-01-07T20:34:04.675Z"
   },
   {
    "duration": 102,
    "start_time": "2025-01-07T20:34:44.059Z"
   },
   {
    "duration": 43,
    "start_time": "2025-01-07T20:34:54.266Z"
   },
   {
    "duration": 68,
    "start_time": "2025-01-07T20:35:26.639Z"
   },
   {
    "duration": 24,
    "start_time": "2025-01-07T20:35:46.403Z"
   },
   {
    "duration": 40,
    "start_time": "2025-01-07T20:35:57.780Z"
   },
   {
    "duration": 4064,
    "start_time": "2025-01-07T20:36:09.494Z"
   },
   {
    "duration": 3985,
    "start_time": "2025-01-07T20:36:13.561Z"
   },
   {
    "duration": 19,
    "start_time": "2025-01-07T20:36:17.547Z"
   },
   {
    "duration": 25,
    "start_time": "2025-01-07T20:36:17.568Z"
   },
   {
    "duration": 122,
    "start_time": "2025-01-07T20:36:17.595Z"
   },
   {
    "duration": 8,
    "start_time": "2025-01-07T20:36:17.719Z"
   },
   {
    "duration": 10,
    "start_time": "2025-01-07T20:36:17.729Z"
   },
   {
    "duration": 22,
    "start_time": "2025-01-07T20:36:17.740Z"
   },
   {
    "duration": 12,
    "start_time": "2025-01-07T20:36:17.763Z"
   },
   {
    "duration": 8,
    "start_time": "2025-01-07T20:36:17.777Z"
   },
   {
    "duration": 11,
    "start_time": "2025-01-07T20:36:17.786Z"
   },
   {
    "duration": 26,
    "start_time": "2025-01-07T20:36:17.800Z"
   },
   {
    "duration": 150,
    "start_time": "2025-01-07T20:36:17.827Z"
   },
   {
    "duration": 35,
    "start_time": "2025-01-07T20:36:17.980Z"
   },
   {
    "duration": 43,
    "start_time": "2025-01-07T20:36:18.017Z"
   },
   {
    "duration": 16,
    "start_time": "2025-01-07T20:36:18.063Z"
   },
   {
    "duration": 12,
    "start_time": "2025-01-07T20:36:18.081Z"
   },
   {
    "duration": 71,
    "start_time": "2025-01-07T20:36:18.095Z"
   },
   {
    "duration": 20,
    "start_time": "2025-01-07T20:36:18.168Z"
   },
   {
    "duration": 280,
    "start_time": "2025-01-07T20:36:18.190Z"
   },
   {
    "duration": 39,
    "start_time": "2025-01-07T20:36:18.472Z"
   },
   {
    "duration": 21,
    "start_time": "2025-01-07T20:36:18.513Z"
   },
   {
    "duration": 43,
    "start_time": "2025-01-07T20:36:18.560Z"
   },
   {
    "duration": 68,
    "start_time": "2025-01-07T20:36:18.605Z"
   },
   {
    "duration": 52,
    "start_time": "2025-01-07T20:36:18.675Z"
   },
   {
    "duration": 33,
    "start_time": "2025-01-07T20:36:18.729Z"
   },
   {
    "duration": 267,
    "start_time": "2025-01-07T20:36:18.764Z"
   },
   {
    "duration": 13,
    "start_time": "2025-01-07T20:36:19.035Z"
   },
   {
    "duration": 55,
    "start_time": "2025-01-07T20:36:19.049Z"
   },
   {
    "duration": 17,
    "start_time": "2025-01-07T20:36:19.106Z"
   },
   {
    "duration": 9,
    "start_time": "2025-01-07T20:36:19.125Z"
   },
   {
    "duration": 195,
    "start_time": "2025-01-07T20:36:19.136Z"
   },
   {
    "duration": 62,
    "start_time": "2025-01-07T20:36:19.333Z"
   },
   {
    "duration": 386,
    "start_time": "2025-01-07T20:36:19.396Z"
   },
   {
    "duration": 257,
    "start_time": "2025-01-07T20:36:19.784Z"
   },
   {
    "duration": 36,
    "start_time": "2025-01-07T20:36:20.043Z"
   },
   {
    "duration": 54,
    "start_time": "2025-01-07T20:36:20.080Z"
   },
   {
    "duration": 80,
    "start_time": "2025-01-07T20:36:20.136Z"
   },
   {
    "duration": 75,
    "start_time": "2025-01-07T20:36:20.218Z"
   },
   {
    "duration": 405,
    "start_time": "2025-01-07T20:36:20.294Z"
   },
   {
    "duration": 113,
    "start_time": "2025-01-07T20:36:20.700Z"
   },
   {
    "duration": 32,
    "start_time": "2025-01-07T20:36:20.814Z"
   },
   {
    "duration": 16,
    "start_time": "2025-01-07T20:36:20.860Z"
   },
   {
    "duration": 7,
    "start_time": "2025-01-07T20:36:20.878Z"
   },
   {
    "duration": 16,
    "start_time": "2025-01-07T20:36:20.886Z"
   },
   {
    "duration": 182,
    "start_time": "2025-01-07T20:36:20.904Z"
   },
   {
    "duration": 63,
    "start_time": "2025-01-07T20:36:21.087Z"
   },
   {
    "duration": 6,
    "start_time": "2025-01-07T20:36:21.162Z"
   },
   {
    "duration": 103,
    "start_time": "2025-01-07T20:36:21.170Z"
   },
   {
    "duration": 26,
    "start_time": "2025-01-07T20:36:21.275Z"
   },
   {
    "duration": 8,
    "start_time": "2025-01-07T20:36:21.303Z"
   },
   {
    "duration": 219,
    "start_time": "2025-01-07T20:36:21.313Z"
   },
   {
    "duration": 340,
    "start_time": "2025-01-07T20:36:21.534Z"
   },
   {
    "duration": 318,
    "start_time": "2025-01-07T20:36:21.876Z"
   },
   {
    "duration": 96,
    "start_time": "2025-01-07T20:36:22.196Z"
   },
   {
    "duration": 46,
    "start_time": "2025-01-07T20:36:22.294Z"
   },
   {
    "duration": 95,
    "start_time": "2025-01-07T20:36:22.342Z"
   },
   {
    "duration": 35,
    "start_time": "2025-01-07T20:36:22.439Z"
   },
   {
    "duration": 4124,
    "start_time": "2025-01-07T20:37:21.367Z"
   },
   {
    "duration": 2396,
    "start_time": "2025-01-07T20:37:25.494Z"
   },
   {
    "duration": 18,
    "start_time": "2025-01-07T20:37:27.892Z"
   },
   {
    "duration": 54,
    "start_time": "2025-01-07T20:37:27.914Z"
   },
   {
    "duration": 123,
    "start_time": "2025-01-07T20:37:27.970Z"
   },
   {
    "duration": 8,
    "start_time": "2025-01-07T20:37:28.095Z"
   },
   {
    "duration": 11,
    "start_time": "2025-01-07T20:37:28.105Z"
   },
   {
    "duration": 7,
    "start_time": "2025-01-07T20:37:28.118Z"
   },
   {
    "duration": 33,
    "start_time": "2025-01-07T20:37:28.127Z"
   },
   {
    "duration": 11,
    "start_time": "2025-01-07T20:37:28.163Z"
   },
   {
    "duration": 10,
    "start_time": "2025-01-07T20:37:28.175Z"
   },
   {
    "duration": 14,
    "start_time": "2025-01-07T20:37:28.187Z"
   },
   {
    "duration": 127,
    "start_time": "2025-01-07T20:37:28.203Z"
   },
   {
    "duration": 31,
    "start_time": "2025-01-07T20:37:28.332Z"
   },
   {
    "duration": 22,
    "start_time": "2025-01-07T20:37:28.365Z"
   },
   {
    "duration": 14,
    "start_time": "2025-01-07T20:37:28.389Z"
   },
   {
    "duration": 19,
    "start_time": "2025-01-07T20:37:28.404Z"
   },
   {
    "duration": 67,
    "start_time": "2025-01-07T20:37:28.425Z"
   },
   {
    "duration": 17,
    "start_time": "2025-01-07T20:37:28.494Z"
   },
   {
    "duration": 269,
    "start_time": "2025-01-07T20:37:28.512Z"
   },
   {
    "duration": 34,
    "start_time": "2025-01-07T20:37:28.782Z"
   },
   {
    "duration": 19,
    "start_time": "2025-01-07T20:37:28.818Z"
   },
   {
    "duration": 57,
    "start_time": "2025-01-07T20:37:28.838Z"
   },
   {
    "duration": 45,
    "start_time": "2025-01-07T20:37:28.896Z"
   },
   {
    "duration": 45,
    "start_time": "2025-01-07T20:37:28.960Z"
   },
   {
    "duration": 10,
    "start_time": "2025-01-07T20:37:29.007Z"
   },
   {
    "duration": 266,
    "start_time": "2025-01-07T20:37:29.019Z"
   },
   {
    "duration": 13,
    "start_time": "2025-01-07T20:37:29.289Z"
   },
   {
    "duration": 65,
    "start_time": "2025-01-07T20:37:29.304Z"
   },
   {
    "duration": 19,
    "start_time": "2025-01-07T20:37:29.371Z"
   },
   {
    "duration": 9,
    "start_time": "2025-01-07T20:37:29.391Z"
   },
   {
    "duration": 191,
    "start_time": "2025-01-07T20:37:29.402Z"
   },
   {
    "duration": 66,
    "start_time": "2025-01-07T20:37:29.595Z"
   },
   {
    "duration": 375,
    "start_time": "2025-01-07T20:37:29.663Z"
   },
   {
    "duration": 261,
    "start_time": "2025-01-07T20:37:30.040Z"
   },
   {
    "duration": 23,
    "start_time": "2025-01-07T20:37:30.303Z"
   },
   {
    "duration": 66,
    "start_time": "2025-01-07T20:37:30.328Z"
   },
   {
    "duration": 77,
    "start_time": "2025-01-07T20:37:30.396Z"
   },
   {
    "duration": 69,
    "start_time": "2025-01-07T20:37:30.475Z"
   },
   {
    "duration": 447,
    "start_time": "2025-01-07T20:37:30.546Z"
   },
   {
    "duration": 114,
    "start_time": "2025-01-07T20:37:30.994Z"
   },
   {
    "duration": 35,
    "start_time": "2025-01-07T20:37:31.110Z"
   },
   {
    "duration": 25,
    "start_time": "2025-01-07T20:37:31.147Z"
   },
   {
    "duration": 6,
    "start_time": "2025-01-07T20:37:31.174Z"
   },
   {
    "duration": 15,
    "start_time": "2025-01-07T20:37:31.182Z"
   },
   {
    "duration": 204,
    "start_time": "2025-01-07T20:37:31.199Z"
   },
   {
    "duration": 66,
    "start_time": "2025-01-07T20:37:31.405Z"
   },
   {
    "duration": 10,
    "start_time": "2025-01-07T20:37:31.473Z"
   },
   {
    "duration": 97,
    "start_time": "2025-01-07T20:37:31.484Z"
   },
   {
    "duration": 27,
    "start_time": "2025-01-07T20:37:31.583Z"
   },
   {
    "duration": 15,
    "start_time": "2025-01-07T20:37:31.612Z"
   },
   {
    "duration": 227,
    "start_time": "2025-01-07T20:37:31.629Z"
   },
   {
    "duration": 309,
    "start_time": "2025-01-07T20:37:31.859Z"
   },
   {
    "duration": 315,
    "start_time": "2025-01-07T20:37:32.169Z"
   },
   {
    "duration": 97,
    "start_time": "2025-01-07T20:37:32.486Z"
   },
   {
    "duration": 50,
    "start_time": "2025-01-07T20:37:32.585Z"
   },
   {
    "duration": 70,
    "start_time": "2025-01-07T20:37:32.637Z"
   },
   {
    "duration": 0,
    "start_time": "2025-01-07T20:37:32.708Z"
   },
   {
    "duration": 0,
    "start_time": "2025-01-07T20:37:32.710Z"
   },
   {
    "duration": 79,
    "start_time": "2025-01-07T20:37:43.725Z"
   },
   {
    "duration": 57,
    "start_time": "2025-01-07T20:37:47.036Z"
   },
   {
    "duration": 23,
    "start_time": "2025-01-07T20:37:49.353Z"
   },
   {
    "duration": 22,
    "start_time": "2025-01-07T20:38:35.885Z"
   },
   {
    "duration": 3991,
    "start_time": "2025-01-07T20:42:19.778Z"
   },
   {
    "duration": 2051,
    "start_time": "2025-01-07T20:42:23.772Z"
   },
   {
    "duration": 14,
    "start_time": "2025-01-07T20:42:25.825Z"
   },
   {
    "duration": 39,
    "start_time": "2025-01-07T20:42:25.841Z"
   },
   {
    "duration": 114,
    "start_time": "2025-01-07T20:42:25.882Z"
   },
   {
    "duration": 8,
    "start_time": "2025-01-07T20:42:25.998Z"
   },
   {
    "duration": 24,
    "start_time": "2025-01-07T20:42:26.008Z"
   },
   {
    "duration": 8,
    "start_time": "2025-01-07T20:42:26.033Z"
   },
   {
    "duration": 19,
    "start_time": "2025-01-07T20:42:26.042Z"
   },
   {
    "duration": 9,
    "start_time": "2025-01-07T20:42:26.064Z"
   },
   {
    "duration": 16,
    "start_time": "2025-01-07T20:42:26.074Z"
   },
   {
    "duration": 40,
    "start_time": "2025-01-07T20:42:26.092Z"
   },
   {
    "duration": 112,
    "start_time": "2025-01-07T20:42:26.134Z"
   },
   {
    "duration": 26,
    "start_time": "2025-01-07T20:42:26.248Z"
   },
   {
    "duration": 39,
    "start_time": "2025-01-07T20:42:26.276Z"
   },
   {
    "duration": 27,
    "start_time": "2025-01-07T20:42:26.318Z"
   },
   {
    "duration": 14,
    "start_time": "2025-01-07T20:42:26.347Z"
   },
   {
    "duration": 45,
    "start_time": "2025-01-07T20:42:26.363Z"
   },
   {
    "duration": 16,
    "start_time": "2025-01-07T20:42:26.410Z"
   },
   {
    "duration": 278,
    "start_time": "2025-01-07T20:42:26.428Z"
   },
   {
    "duration": 35,
    "start_time": "2025-01-07T20:42:26.708Z"
   },
   {
    "duration": 19,
    "start_time": "2025-01-07T20:42:26.759Z"
   },
   {
    "duration": 39,
    "start_time": "2025-01-07T20:42:26.780Z"
   },
   {
    "duration": 68,
    "start_time": "2025-01-07T20:42:26.821Z"
   },
   {
    "duration": 46,
    "start_time": "2025-01-07T20:42:26.890Z"
   },
   {
    "duration": 29,
    "start_time": "2025-01-07T20:42:26.938Z"
   },
   {
    "duration": 260,
    "start_time": "2025-01-07T20:42:26.969Z"
   },
   {
    "duration": 14,
    "start_time": "2025-01-07T20:42:27.233Z"
   },
   {
    "duration": 42,
    "start_time": "2025-01-07T20:42:27.260Z"
   },
   {
    "duration": 26,
    "start_time": "2025-01-07T20:42:27.303Z"
   },
   {
    "duration": 57,
    "start_time": "2025-01-07T20:42:27.331Z"
   },
   {
    "duration": 170,
    "start_time": "2025-01-07T20:42:27.390Z"
   },
   {
    "duration": 52,
    "start_time": "2025-01-07T20:42:27.562Z"
   },
   {
    "duration": 409,
    "start_time": "2025-01-07T20:42:27.616Z"
   },
   {
    "duration": 261,
    "start_time": "2025-01-07T20:42:28.027Z"
   },
   {
    "duration": 23,
    "start_time": "2025-01-07T20:42:28.290Z"
   },
   {
    "duration": 69,
    "start_time": "2025-01-07T20:42:28.315Z"
   },
   {
    "duration": 79,
    "start_time": "2025-01-07T20:42:28.386Z"
   },
   {
    "duration": 72,
    "start_time": "2025-01-07T20:42:28.467Z"
   },
   {
    "duration": 425,
    "start_time": "2025-01-07T20:42:28.541Z"
   },
   {
    "duration": 123,
    "start_time": "2025-01-07T20:42:28.968Z"
   },
   {
    "duration": 36,
    "start_time": "2025-01-07T20:42:29.093Z"
   },
   {
    "duration": 34,
    "start_time": "2025-01-07T20:42:29.131Z"
   },
   {
    "duration": 7,
    "start_time": "2025-01-07T20:42:29.167Z"
   },
   {
    "duration": 22,
    "start_time": "2025-01-07T20:42:29.175Z"
   },
   {
    "duration": 197,
    "start_time": "2025-01-07T20:42:29.199Z"
   },
   {
    "duration": 71,
    "start_time": "2025-01-07T20:42:29.398Z"
   },
   {
    "duration": 5,
    "start_time": "2025-01-07T20:42:29.471Z"
   },
   {
    "duration": 104,
    "start_time": "2025-01-07T20:42:29.478Z"
   },
   {
    "duration": 26,
    "start_time": "2025-01-07T20:42:29.584Z"
   },
   {
    "duration": 17,
    "start_time": "2025-01-07T20:42:29.612Z"
   },
   {
    "duration": 211,
    "start_time": "2025-01-07T20:42:29.631Z"
   },
   {
    "duration": 373,
    "start_time": "2025-01-07T20:42:29.844Z"
   },
   {
    "duration": 351,
    "start_time": "2025-01-07T20:42:30.220Z"
   },
   {
    "duration": 145,
    "start_time": "2025-01-07T20:42:30.572Z"
   },
   {
    "duration": 66,
    "start_time": "2025-01-07T20:42:30.718Z"
   },
   {
    "duration": 127,
    "start_time": "2025-01-07T20:42:30.786Z"
   },
   {
    "duration": 82,
    "start_time": "2025-01-07T20:42:30.915Z"
   },
   {
    "duration": 23,
    "start_time": "2025-01-07T20:42:30.999Z"
   },
   {
    "duration": 4017,
    "start_time": "2025-01-07T21:44:07.988Z"
   },
   {
    "duration": 2775,
    "start_time": "2025-01-07T21:44:12.008Z"
   },
   {
    "duration": 17,
    "start_time": "2025-01-07T21:44:14.785Z"
   },
   {
    "duration": 26,
    "start_time": "2025-01-07T21:44:14.804Z"
   },
   {
    "duration": 113,
    "start_time": "2025-01-07T21:44:14.859Z"
   },
   {
    "duration": 9,
    "start_time": "2025-01-07T21:44:14.974Z"
   },
   {
    "duration": 19,
    "start_time": "2025-01-07T21:44:14.985Z"
   },
   {
    "duration": 32,
    "start_time": "2025-01-07T21:44:15.007Z"
   },
   {
    "duration": 34,
    "start_time": "2025-01-07T21:44:15.041Z"
   },
   {
    "duration": 16,
    "start_time": "2025-01-07T21:44:15.079Z"
   },
   {
    "duration": 42,
    "start_time": "2025-01-07T21:44:15.097Z"
   },
   {
    "duration": 29,
    "start_time": "2025-01-07T21:44:15.141Z"
   },
   {
    "duration": 112,
    "start_time": "2025-01-07T21:44:15.172Z"
   },
   {
    "duration": 27,
    "start_time": "2025-01-07T21:44:15.286Z"
   },
   {
    "duration": 22,
    "start_time": "2025-01-07T21:44:15.315Z"
   },
   {
    "duration": 15,
    "start_time": "2025-01-07T21:44:15.359Z"
   },
   {
    "duration": 12,
    "start_time": "2025-01-07T21:44:15.376Z"
   },
   {
    "duration": 48,
    "start_time": "2025-01-07T21:44:15.390Z"
   },
   {
    "duration": 18,
    "start_time": "2025-01-07T21:44:15.461Z"
   },
   {
    "duration": 266,
    "start_time": "2025-01-07T21:44:15.481Z"
   },
   {
    "duration": 40,
    "start_time": "2025-01-07T21:44:15.749Z"
   },
   {
    "duration": 18,
    "start_time": "2025-01-07T21:44:15.791Z"
   },
   {
    "duration": 62,
    "start_time": "2025-01-07T21:44:15.811Z"
   },
   {
    "duration": 47,
    "start_time": "2025-01-07T21:44:15.875Z"
   },
   {
    "duration": 62,
    "start_time": "2025-01-07T21:44:15.924Z"
   },
   {
    "duration": 12,
    "start_time": "2025-01-07T21:44:15.988Z"
   },
   {
    "duration": 274,
    "start_time": "2025-01-07T21:44:16.002Z"
   },
   {
    "duration": 12,
    "start_time": "2025-01-07T21:44:16.280Z"
   },
   {
    "duration": 187,
    "start_time": "2025-01-07T21:44:16.294Z"
   },
   {
    "duration": 57,
    "start_time": "2025-01-07T21:44:16.483Z"
   },
   {
    "duration": 377,
    "start_time": "2025-01-07T21:44:16.560Z"
   },
   {
    "duration": 150,
    "start_time": "2025-01-07T21:44:16.938Z"
   },
   {
    "duration": 24,
    "start_time": "2025-01-07T21:44:17.090Z"
   },
   {
    "duration": 75,
    "start_time": "2025-01-07T21:44:17.116Z"
   },
   {
    "duration": 78,
    "start_time": "2025-01-07T21:44:17.193Z"
   },
   {
    "duration": 69,
    "start_time": "2025-01-07T21:44:17.273Z"
   },
   {
    "duration": 418,
    "start_time": "2025-01-07T21:44:17.359Z"
   },
   {
    "duration": 116,
    "start_time": "2025-01-07T21:44:17.779Z"
   },
   {
    "duration": 46,
    "start_time": "2025-01-07T21:44:17.897Z"
   },
   {
    "duration": 24,
    "start_time": "2025-01-07T21:44:17.960Z"
   },
   {
    "duration": 8,
    "start_time": "2025-01-07T21:44:17.987Z"
   },
   {
    "duration": 15,
    "start_time": "2025-01-07T21:44:17.997Z"
   },
   {
    "duration": 207,
    "start_time": "2025-01-07T21:44:18.014Z"
   },
   {
    "duration": 69,
    "start_time": "2025-01-07T21:44:18.222Z"
   },
   {
    "duration": 11,
    "start_time": "2025-01-07T21:44:18.293Z"
   },
   {
    "duration": 93,
    "start_time": "2025-01-07T21:44:18.306Z"
   },
   {
    "duration": 29,
    "start_time": "2025-01-07T21:44:18.400Z"
   },
   {
    "duration": 4,
    "start_time": "2025-01-07T21:44:18.431Z"
   },
   {
    "duration": 138,
    "start_time": "2025-01-07T21:44:18.437Z"
   },
   {
    "duration": 327,
    "start_time": "2025-01-07T21:44:18.576Z"
   },
   {
    "duration": 316,
    "start_time": "2025-01-07T21:44:18.905Z"
   },
   {
    "duration": 101,
    "start_time": "2025-01-07T21:44:19.223Z"
   },
   {
    "duration": 54,
    "start_time": "2025-01-07T21:44:19.326Z"
   },
   {
    "duration": 88,
    "start_time": "2025-01-07T21:44:19.382Z"
   },
   {
    "duration": 57,
    "start_time": "2025-01-07T21:44:19.472Z"
   },
   {
    "duration": 43,
    "start_time": "2025-01-07T21:44:19.530Z"
   },
   {
    "duration": 9493,
    "start_time": "2025-01-08T15:08:08.954Z"
   },
   {
    "duration": 2475,
    "start_time": "2025-01-08T15:08:18.450Z"
   },
   {
    "duration": 19,
    "start_time": "2025-01-08T15:08:20.927Z"
   },
   {
    "duration": 67,
    "start_time": "2025-01-08T15:08:20.949Z"
   },
   {
    "duration": 121,
    "start_time": "2025-01-08T15:08:21.018Z"
   },
   {
    "duration": 9,
    "start_time": "2025-01-08T15:08:21.140Z"
   },
   {
    "duration": 12,
    "start_time": "2025-01-08T15:08:21.151Z"
   },
   {
    "duration": 8,
    "start_time": "2025-01-08T15:08:21.165Z"
   },
   {
    "duration": 26,
    "start_time": "2025-01-08T15:08:21.175Z"
   },
   {
    "duration": 10,
    "start_time": "2025-01-08T15:08:21.204Z"
   },
   {
    "duration": 30,
    "start_time": "2025-01-08T15:08:21.216Z"
   },
   {
    "duration": 29,
    "start_time": "2025-01-08T15:08:21.247Z"
   },
   {
    "duration": 103,
    "start_time": "2025-01-08T15:08:21.278Z"
   },
   {
    "duration": 24,
    "start_time": "2025-01-08T15:08:21.382Z"
   },
   {
    "duration": 43,
    "start_time": "2025-01-08T15:08:21.408Z"
   },
   {
    "duration": 16,
    "start_time": "2025-01-08T15:08:21.453Z"
   },
   {
    "duration": 10,
    "start_time": "2025-01-08T15:08:21.471Z"
   },
   {
    "duration": 70,
    "start_time": "2025-01-08T15:08:21.483Z"
   },
   {
    "duration": 17,
    "start_time": "2025-01-08T15:08:21.555Z"
   },
   {
    "duration": 246,
    "start_time": "2025-01-08T15:08:21.573Z"
   },
   {
    "duration": 37,
    "start_time": "2025-01-08T15:08:21.821Z"
   },
   {
    "duration": 17,
    "start_time": "2025-01-08T15:08:21.860Z"
   },
   {
    "duration": 59,
    "start_time": "2025-01-08T15:08:21.879Z"
   },
   {
    "duration": 44,
    "start_time": "2025-01-08T15:08:21.939Z"
   },
   {
    "duration": 60,
    "start_time": "2025-01-08T15:08:21.985Z"
   },
   {
    "duration": 11,
    "start_time": "2025-01-08T15:08:22.047Z"
   },
   {
    "duration": 337,
    "start_time": "2025-01-08T15:08:22.060Z"
   },
   {
    "duration": 12,
    "start_time": "2025-01-08T15:08:22.400Z"
   },
   {
    "duration": 220,
    "start_time": "2025-01-08T15:08:22.414Z"
   },
   {
    "duration": 51,
    "start_time": "2025-01-08T15:08:22.638Z"
   },
   {
    "duration": 351,
    "start_time": "2025-01-08T15:08:22.691Z"
   },
   {
    "duration": 142,
    "start_time": "2025-01-08T15:08:23.043Z"
   },
   {
    "duration": 22,
    "start_time": "2025-01-08T15:08:23.187Z"
   },
   {
    "duration": 21,
    "start_time": "2025-01-08T15:08:37.426Z"
   },
   {
    "duration": 14,
    "start_time": "2025-01-08T15:09:15.657Z"
   },
   {
    "duration": 2628,
    "start_time": "2025-01-08T15:22:11.287Z"
   },
   {
    "duration": 2111,
    "start_time": "2025-01-08T15:22:13.917Z"
   },
   {
    "duration": 13,
    "start_time": "2025-01-08T15:22:16.030Z"
   },
   {
    "duration": 22,
    "start_time": "2025-01-08T15:22:16.046Z"
   },
   {
    "duration": 128,
    "start_time": "2025-01-08T15:22:16.070Z"
   },
   {
    "duration": 8,
    "start_time": "2025-01-08T15:22:16.200Z"
   },
   {
    "duration": 10,
    "start_time": "2025-01-08T15:22:16.209Z"
   },
   {
    "duration": 18,
    "start_time": "2025-01-08T15:22:16.220Z"
   },
   {
    "duration": 17,
    "start_time": "2025-01-08T15:22:16.240Z"
   },
   {
    "duration": 7,
    "start_time": "2025-01-08T15:22:16.261Z"
   },
   {
    "duration": 8,
    "start_time": "2025-01-08T15:22:16.270Z"
   },
   {
    "duration": 12,
    "start_time": "2025-01-08T15:22:16.280Z"
   },
   {
    "duration": 138,
    "start_time": "2025-01-08T15:22:16.293Z"
   },
   {
    "duration": 29,
    "start_time": "2025-01-08T15:22:16.438Z"
   },
   {
    "duration": 55,
    "start_time": "2025-01-08T15:22:16.469Z"
   },
   {
    "duration": 20,
    "start_time": "2025-01-08T15:22:16.526Z"
   },
   {
    "duration": 12,
    "start_time": "2025-01-08T15:22:16.548Z"
   },
   {
    "duration": 42,
    "start_time": "2025-01-08T15:22:16.561Z"
   },
   {
    "duration": 47,
    "start_time": "2025-01-08T15:22:16.605Z"
   },
   {
    "duration": 264,
    "start_time": "2025-01-08T15:22:16.654Z"
   },
   {
    "duration": 55,
    "start_time": "2025-01-08T15:22:16.920Z"
   },
   {
    "duration": 16,
    "start_time": "2025-01-08T15:22:16.977Z"
   },
   {
    "duration": 43,
    "start_time": "2025-01-08T15:22:16.994Z"
   },
   {
    "duration": 38,
    "start_time": "2025-01-08T15:22:17.043Z"
   },
   {
    "duration": 56,
    "start_time": "2025-01-08T15:22:17.083Z"
   },
   {
    "duration": 12,
    "start_time": "2025-01-08T15:22:17.142Z"
   },
   {
    "duration": 237,
    "start_time": "2025-01-08T15:22:17.156Z"
   },
   {
    "duration": 12,
    "start_time": "2025-01-08T15:22:17.396Z"
   },
   {
    "duration": 188,
    "start_time": "2025-01-08T15:22:17.409Z"
   },
   {
    "duration": 63,
    "start_time": "2025-01-08T15:22:17.599Z"
   },
   {
    "duration": 344,
    "start_time": "2025-01-08T15:22:17.663Z"
   },
   {
    "duration": 151,
    "start_time": "2025-01-08T15:22:18.008Z"
   },
   {
    "duration": 21,
    "start_time": "2025-01-08T15:22:18.161Z"
   },
   {
    "duration": 81,
    "start_time": "2025-01-08T15:22:18.184Z"
   },
   {
    "duration": 87,
    "start_time": "2025-01-08T15:22:18.267Z"
   },
   {
    "duration": 67,
    "start_time": "2025-01-08T15:22:18.357Z"
   },
   {
    "duration": 460,
    "start_time": "2025-01-08T15:22:18.436Z"
   },
   {
    "duration": 108,
    "start_time": "2025-01-08T15:22:18.898Z"
   },
   {
    "duration": 43,
    "start_time": "2025-01-08T15:22:19.008Z"
   },
   {
    "duration": 16,
    "start_time": "2025-01-08T15:22:19.053Z"
   },
   {
    "duration": 6,
    "start_time": "2025-01-08T15:22:19.071Z"
   },
   {
    "duration": 24,
    "start_time": "2025-01-08T15:22:19.078Z"
   },
   {
    "duration": 190,
    "start_time": "2025-01-08T15:22:19.103Z"
   },
   {
    "duration": 67,
    "start_time": "2025-01-08T15:22:19.295Z"
   },
   {
    "duration": 84,
    "start_time": "2025-01-08T16:24:01.707Z"
   },
   {
    "duration": 80,
    "start_time": "2025-01-08T16:28:12.613Z"
   },
   {
    "duration": 60,
    "start_time": "2025-01-08T17:16:03.051Z"
   },
   {
    "duration": 73,
    "start_time": "2025-01-08T17:16:28.627Z"
   },
   {
    "duration": 97,
    "start_time": "2025-01-08T17:16:33.211Z"
   },
   {
    "duration": 4615,
    "start_time": "2025-01-08T17:17:55.491Z"
   },
   {
    "duration": 1179,
    "start_time": "2025-01-08T17:18:11.769Z"
   },
   {
    "duration": 1889,
    "start_time": "2025-01-08T17:18:12.950Z"
   },
   {
    "duration": 11,
    "start_time": "2025-01-08T17:18:14.841Z"
   },
   {
    "duration": 28,
    "start_time": "2025-01-08T17:18:14.854Z"
   },
   {
    "duration": 111,
    "start_time": "2025-01-08T17:18:14.883Z"
   },
   {
    "duration": 7,
    "start_time": "2025-01-08T17:18:14.995Z"
   },
   {
    "duration": 67,
    "start_time": "2025-01-08T17:18:15.004Z"
   },
   {
    "duration": 44,
    "start_time": "2025-01-08T17:18:15.073Z"
   },
   {
    "duration": 53,
    "start_time": "2025-01-08T17:18:15.119Z"
   },
   {
    "duration": 61,
    "start_time": "2025-01-08T17:18:15.175Z"
   },
   {
    "duration": 43,
    "start_time": "2025-01-08T17:18:15.238Z"
   },
   {
    "duration": 104,
    "start_time": "2025-01-08T17:18:15.282Z"
   },
   {
    "duration": 152,
    "start_time": "2025-01-08T17:18:15.388Z"
   },
   {
    "duration": 24,
    "start_time": "2025-01-08T17:18:15.542Z"
   },
   {
    "duration": 59,
    "start_time": "2025-01-08T17:18:15.568Z"
   },
   {
    "duration": 13,
    "start_time": "2025-01-08T17:18:15.629Z"
   },
   {
    "duration": 10,
    "start_time": "2025-01-08T17:18:15.643Z"
   },
   {
    "duration": 46,
    "start_time": "2025-01-08T17:18:15.654Z"
   },
   {
    "duration": 2508,
    "start_time": "2025-01-08T17:18:15.702Z"
   },
   {
    "duration": 914,
    "start_time": "2025-01-08T17:18:18.214Z"
   },
   {
    "duration": 17,
    "start_time": "2025-01-08T17:18:19.137Z"
   },
   {
    "duration": 272,
    "start_time": "2025-01-08T17:18:19.155Z"
   },
   {
    "duration": 35,
    "start_time": "2025-01-08T17:18:19.429Z"
   },
   {
    "duration": 17,
    "start_time": "2025-01-08T17:18:19.465Z"
   },
   {
    "duration": 60,
    "start_time": "2025-01-08T17:18:19.484Z"
   },
   {
    "duration": 43,
    "start_time": "2025-01-08T17:18:19.545Z"
   },
   {
    "duration": 60,
    "start_time": "2025-01-08T17:18:19.590Z"
   },
   {
    "duration": 11,
    "start_time": "2025-01-08T17:18:19.654Z"
   },
   {
    "duration": 229,
    "start_time": "2025-01-08T17:18:19.666Z"
   },
   {
    "duration": 12,
    "start_time": "2025-01-08T17:18:19.897Z"
   },
   {
    "duration": 154,
    "start_time": "2025-01-08T17:18:19.911Z"
   },
   {
    "duration": 51,
    "start_time": "2025-01-08T17:18:20.067Z"
   },
   {
    "duration": 333,
    "start_time": "2025-01-08T17:18:20.120Z"
   },
   {
    "duration": 145,
    "start_time": "2025-01-08T17:18:20.454Z"
   },
   {
    "duration": 22,
    "start_time": "2025-01-08T17:18:20.601Z"
   },
   {
    "duration": 57,
    "start_time": "2025-01-08T17:18:20.625Z"
   },
   {
    "duration": 80,
    "start_time": "2025-01-08T17:18:20.684Z"
   },
   {
    "duration": 73,
    "start_time": "2025-01-08T17:18:20.765Z"
   },
   {
    "duration": 391,
    "start_time": "2025-01-08T17:18:20.839Z"
   },
   {
    "duration": 95,
    "start_time": "2025-01-08T17:18:21.231Z"
   },
   {
    "duration": 38,
    "start_time": "2025-01-08T17:18:21.327Z"
   },
   {
    "duration": 31,
    "start_time": "2025-01-08T17:18:21.366Z"
   },
   {
    "duration": 5,
    "start_time": "2025-01-08T17:18:21.399Z"
   },
   {
    "duration": 24,
    "start_time": "2025-01-08T17:18:21.405Z"
   },
   {
    "duration": 164,
    "start_time": "2025-01-08T17:18:21.430Z"
   },
   {
    "duration": 63,
    "start_time": "2025-01-08T17:18:21.596Z"
   },
   {
    "duration": 4,
    "start_time": "2025-01-08T17:18:21.661Z"
   },
   {
    "duration": 97,
    "start_time": "2025-01-08T17:18:21.667Z"
   },
   {
    "duration": 25,
    "start_time": "2025-01-08T17:18:21.766Z"
   },
   {
    "duration": 4,
    "start_time": "2025-01-08T17:18:21.792Z"
   },
   {
    "duration": 191,
    "start_time": "2025-01-08T17:18:21.798Z"
   },
   {
    "duration": 271,
    "start_time": "2025-01-08T17:18:21.991Z"
   },
   {
    "duration": 276,
    "start_time": "2025-01-08T17:18:22.265Z"
   },
   {
    "duration": 95,
    "start_time": "2025-01-08T17:18:22.543Z"
   },
   {
    "duration": 43,
    "start_time": "2025-01-08T17:18:22.640Z"
   },
   {
    "duration": 81,
    "start_time": "2025-01-08T17:18:22.685Z"
   },
   {
    "duration": 50,
    "start_time": "2025-01-08T17:18:22.768Z"
   },
   {
    "duration": 31,
    "start_time": "2025-01-08T17:18:22.819Z"
   },
   {
    "duration": 79,
    "start_time": "2025-01-08T17:20:40.559Z"
   },
   {
    "duration": 545,
    "start_time": "2025-01-08T17:25:08.208Z"
   },
   {
    "duration": 37,
    "start_time": "2025-01-08T17:57:30.942Z"
   },
   {
    "duration": 40,
    "start_time": "2025-01-08T17:57:38.476Z"
   },
   {
    "duration": 37,
    "start_time": "2025-01-08T17:57:42.192Z"
   },
   {
    "duration": 39,
    "start_time": "2025-01-08T17:57:51.088Z"
   },
   {
    "duration": 31,
    "start_time": "2025-01-08T18:06:11.855Z"
   },
   {
    "duration": 46,
    "start_time": "2025-01-08T18:19:38.245Z"
   },
   {
    "duration": 1188,
    "start_time": "2025-01-08T18:19:50.783Z"
   },
   {
    "duration": 2726,
    "start_time": "2025-01-08T18:19:51.974Z"
   },
   {
    "duration": 12,
    "start_time": "2025-01-08T18:19:54.702Z"
   },
   {
    "duration": 44,
    "start_time": "2025-01-08T18:19:54.716Z"
   },
   {
    "duration": 129,
    "start_time": "2025-01-08T18:19:54.762Z"
   },
   {
    "duration": 8,
    "start_time": "2025-01-08T18:19:54.893Z"
   },
   {
    "duration": 30,
    "start_time": "2025-01-08T18:19:54.902Z"
   },
   {
    "duration": 23,
    "start_time": "2025-01-08T18:19:54.934Z"
   },
   {
    "duration": 34,
    "start_time": "2025-01-08T18:19:54.959Z"
   },
   {
    "duration": 17,
    "start_time": "2025-01-08T18:19:54.996Z"
   },
   {
    "duration": 44,
    "start_time": "2025-01-08T18:19:55.015Z"
   },
   {
    "duration": 88,
    "start_time": "2025-01-08T18:19:55.061Z"
   },
   {
    "duration": 123,
    "start_time": "2025-01-08T18:19:55.151Z"
   },
   {
    "duration": 24,
    "start_time": "2025-01-08T18:19:55.276Z"
   },
   {
    "duration": 127,
    "start_time": "2025-01-08T18:19:55.301Z"
   },
   {
    "duration": 50,
    "start_time": "2025-01-08T18:19:55.429Z"
   },
   {
    "duration": 15,
    "start_time": "2025-01-08T18:19:55.481Z"
   },
   {
    "duration": 51,
    "start_time": "2025-01-08T18:19:55.498Z"
   },
   {
    "duration": 2527,
    "start_time": "2025-01-08T18:19:55.550Z"
   },
   {
    "duration": 1065,
    "start_time": "2025-01-08T18:19:58.079Z"
   },
   {
    "duration": 519,
    "start_time": "2025-01-08T18:19:59.146Z"
   },
   {
    "duration": 17,
    "start_time": "2025-01-08T18:19:59.666Z"
   },
   {
    "duration": 270,
    "start_time": "2025-01-08T18:19:59.684Z"
   },
   {
    "duration": 34,
    "start_time": "2025-01-08T18:19:59.956Z"
   },
   {
    "duration": 73,
    "start_time": "2025-01-08T18:19:59.992Z"
   },
   {
    "duration": 83,
    "start_time": "2025-01-08T18:20:00.067Z"
   },
   {
    "duration": 43,
    "start_time": "2025-01-08T18:20:00.152Z"
   },
   {
    "duration": 97,
    "start_time": "2025-01-08T18:20:00.198Z"
   },
   {
    "duration": 61,
    "start_time": "2025-01-08T18:20:00.297Z"
   },
   {
    "duration": 1448,
    "start_time": "2025-01-08T18:20:00.359Z"
   },
   {
    "duration": 0,
    "start_time": "2025-01-08T18:20:01.809Z"
   },
   {
    "duration": 0,
    "start_time": "2025-01-08T18:20:01.811Z"
   },
   {
    "duration": 0,
    "start_time": "2025-01-08T18:20:01.813Z"
   },
   {
    "duration": 0,
    "start_time": "2025-01-08T18:20:01.814Z"
   },
   {
    "duration": 0,
    "start_time": "2025-01-08T18:20:01.816Z"
   },
   {
    "duration": 1,
    "start_time": "2025-01-08T18:20:01.817Z"
   },
   {
    "duration": 0,
    "start_time": "2025-01-08T18:20:01.819Z"
   },
   {
    "duration": 0,
    "start_time": "2025-01-08T18:20:01.820Z"
   },
   {
    "duration": 0,
    "start_time": "2025-01-08T18:20:01.821Z"
   },
   {
    "duration": 0,
    "start_time": "2025-01-08T18:20:01.823Z"
   },
   {
    "duration": 0,
    "start_time": "2025-01-08T18:20:01.825Z"
   },
   {
    "duration": 0,
    "start_time": "2025-01-08T18:20:01.826Z"
   },
   {
    "duration": 0,
    "start_time": "2025-01-08T18:20:01.827Z"
   },
   {
    "duration": 0,
    "start_time": "2025-01-08T18:20:01.829Z"
   },
   {
    "duration": 0,
    "start_time": "2025-01-08T18:20:01.830Z"
   },
   {
    "duration": 0,
    "start_time": "2025-01-08T18:20:01.831Z"
   },
   {
    "duration": 0,
    "start_time": "2025-01-08T18:20:01.834Z"
   },
   {
    "duration": 0,
    "start_time": "2025-01-08T18:20:01.835Z"
   },
   {
    "duration": 0,
    "start_time": "2025-01-08T18:20:01.837Z"
   },
   {
    "duration": 0,
    "start_time": "2025-01-08T18:20:01.838Z"
   },
   {
    "duration": 0,
    "start_time": "2025-01-08T18:20:01.840Z"
   },
   {
    "duration": 0,
    "start_time": "2025-01-08T18:20:01.841Z"
   },
   {
    "duration": 0,
    "start_time": "2025-01-08T18:20:01.843Z"
   },
   {
    "duration": 0,
    "start_time": "2025-01-08T18:20:01.845Z"
   },
   {
    "duration": 0,
    "start_time": "2025-01-08T18:20:01.846Z"
   },
   {
    "duration": 0,
    "start_time": "2025-01-08T18:20:01.848Z"
   },
   {
    "duration": 0,
    "start_time": "2025-01-08T18:20:01.849Z"
   },
   {
    "duration": 0,
    "start_time": "2025-01-08T18:20:01.850Z"
   },
   {
    "duration": 0,
    "start_time": "2025-01-08T18:20:01.851Z"
   },
   {
    "duration": 17,
    "start_time": "2025-01-08T18:24:45.507Z"
   },
   {
    "duration": 1293,
    "start_time": "2025-01-08T18:24:53.914Z"
   },
   {
    "duration": 1190,
    "start_time": "2025-01-08T18:27:15.974Z"
   },
   {
    "duration": 10,
    "start_time": "2025-01-08T18:27:40.949Z"
   },
   {
    "duration": 1191,
    "start_time": "2025-01-08T18:27:51.708Z"
   },
   {
    "duration": 2131,
    "start_time": "2025-01-08T18:27:52.901Z"
   },
   {
    "duration": 12,
    "start_time": "2025-01-08T18:27:55.036Z"
   },
   {
    "duration": 28,
    "start_time": "2025-01-08T18:27:55.050Z"
   },
   {
    "duration": 123,
    "start_time": "2025-01-08T18:27:55.080Z"
   },
   {
    "duration": 8,
    "start_time": "2025-01-08T18:27:55.204Z"
   },
   {
    "duration": 20,
    "start_time": "2025-01-08T18:27:55.213Z"
   },
   {
    "duration": 5,
    "start_time": "2025-01-08T18:27:55.237Z"
   },
   {
    "duration": 12,
    "start_time": "2025-01-08T18:27:55.244Z"
   },
   {
    "duration": 11,
    "start_time": "2025-01-08T18:27:55.258Z"
   },
   {
    "duration": 9,
    "start_time": "2025-01-08T18:27:55.271Z"
   },
   {
    "duration": 17,
    "start_time": "2025-01-08T18:27:55.282Z"
   },
   {
    "duration": 117,
    "start_time": "2025-01-08T18:27:55.300Z"
   },
   {
    "duration": 33,
    "start_time": "2025-01-08T18:27:55.419Z"
   },
   {
    "duration": 18,
    "start_time": "2025-01-08T18:27:55.454Z"
   },
   {
    "duration": 12,
    "start_time": "2025-01-08T18:27:55.474Z"
   },
   {
    "duration": 12,
    "start_time": "2025-01-08T18:27:55.487Z"
   },
   {
    "duration": 65,
    "start_time": "2025-01-08T18:27:55.501Z"
   },
   {
    "duration": 2466,
    "start_time": "2025-01-08T18:27:55.567Z"
   },
   {
    "duration": 892,
    "start_time": "2025-01-08T18:27:58.034Z"
   },
   {
    "duration": 510,
    "start_time": "2025-01-08T18:27:58.927Z"
   },
   {
    "duration": 16,
    "start_time": "2025-01-08T18:27:59.439Z"
   },
   {
    "duration": 272,
    "start_time": "2025-01-08T18:27:59.457Z"
   },
   {
    "duration": 36,
    "start_time": "2025-01-08T18:27:59.731Z"
   },
   {
    "duration": 18,
    "start_time": "2025-01-08T18:27:59.769Z"
   },
   {
    "duration": 62,
    "start_time": "2025-01-08T18:27:59.789Z"
   },
   {
    "duration": 38,
    "start_time": "2025-01-08T18:27:59.853Z"
   },
   {
    "duration": 53,
    "start_time": "2025-01-08T18:27:59.896Z"
   },
   {
    "duration": 11,
    "start_time": "2025-01-08T18:27:59.951Z"
   },
   {
    "duration": 209,
    "start_time": "2025-01-08T18:27:59.964Z"
   },
   {
    "duration": 11,
    "start_time": "2025-01-08T18:28:00.176Z"
   },
   {
    "duration": 170,
    "start_time": "2025-01-08T18:28:00.188Z"
   },
   {
    "duration": 54,
    "start_time": "2025-01-08T18:28:00.360Z"
   },
   {
    "duration": 362,
    "start_time": "2025-01-08T18:28:00.415Z"
   },
   {
    "duration": 141,
    "start_time": "2025-01-08T18:28:00.778Z"
   },
   {
    "duration": 35,
    "start_time": "2025-01-08T18:28:00.920Z"
   },
   {
    "duration": 60,
    "start_time": "2025-01-08T18:28:00.956Z"
   },
   {
    "duration": 67,
    "start_time": "2025-01-08T18:28:01.017Z"
   },
   {
    "duration": 76,
    "start_time": "2025-01-08T18:28:01.086Z"
   },
   {
    "duration": 485,
    "start_time": "2025-01-08T18:28:01.164Z"
   },
   {
    "duration": 131,
    "start_time": "2025-01-08T18:28:01.650Z"
   },
   {
    "duration": 32,
    "start_time": "2025-01-08T18:28:01.783Z"
   },
   {
    "duration": 27,
    "start_time": "2025-01-08T18:28:01.817Z"
   },
   {
    "duration": 10,
    "start_time": "2025-01-08T18:28:01.846Z"
   },
   {
    "duration": 31,
    "start_time": "2025-01-08T18:28:01.858Z"
   },
   {
    "duration": 186,
    "start_time": "2025-01-08T18:28:01.890Z"
   },
   {
    "duration": 70,
    "start_time": "2025-01-08T18:28:02.078Z"
   },
   {
    "duration": 12,
    "start_time": "2025-01-08T18:28:02.149Z"
   },
   {
    "duration": 92,
    "start_time": "2025-01-08T18:28:02.163Z"
   },
   {
    "duration": 25,
    "start_time": "2025-01-08T18:28:02.257Z"
   },
   {
    "duration": 28,
    "start_time": "2025-01-08T18:28:02.284Z"
   },
   {
    "duration": 135,
    "start_time": "2025-01-08T18:28:02.314Z"
   },
   {
    "duration": 288,
    "start_time": "2025-01-08T18:28:02.450Z"
   },
   {
    "duration": 283,
    "start_time": "2025-01-08T18:28:02.740Z"
   },
   {
    "duration": 88,
    "start_time": "2025-01-08T18:28:03.025Z"
   },
   {
    "duration": 55,
    "start_time": "2025-01-08T18:28:03.114Z"
   },
   {
    "duration": 82,
    "start_time": "2025-01-08T18:28:03.170Z"
   },
   {
    "duration": 50,
    "start_time": "2025-01-08T18:28:03.254Z"
   },
   {
    "duration": 33,
    "start_time": "2025-01-08T18:28:03.305Z"
   },
   {
    "duration": 14,
    "start_time": "2025-01-08T18:42:18.446Z"
   },
   {
    "duration": 1189,
    "start_time": "2025-01-08T18:42:51.973Z"
   },
   {
    "duration": 2256,
    "start_time": "2025-01-08T18:42:53.164Z"
   },
   {
    "duration": 25,
    "start_time": "2025-01-08T18:42:55.422Z"
   },
   {
    "duration": 29,
    "start_time": "2025-01-08T18:42:55.450Z"
   },
   {
    "duration": 110,
    "start_time": "2025-01-08T18:42:55.481Z"
   },
   {
    "duration": 9,
    "start_time": "2025-01-08T18:42:55.593Z"
   },
   {
    "duration": 9,
    "start_time": "2025-01-08T18:42:55.604Z"
   },
   {
    "duration": 27,
    "start_time": "2025-01-08T18:42:55.614Z"
   },
   {
    "duration": 10,
    "start_time": "2025-01-08T18:42:55.643Z"
   },
   {
    "duration": 7,
    "start_time": "2025-01-08T18:42:55.656Z"
   },
   {
    "duration": 11,
    "start_time": "2025-01-08T18:42:55.665Z"
   },
   {
    "duration": 22,
    "start_time": "2025-01-08T18:42:55.678Z"
   },
   {
    "duration": 118,
    "start_time": "2025-01-08T18:42:55.702Z"
   },
   {
    "duration": 29,
    "start_time": "2025-01-08T18:42:55.822Z"
   },
   {
    "duration": 20,
    "start_time": "2025-01-08T18:42:55.852Z"
   },
   {
    "duration": 12,
    "start_time": "2025-01-08T18:42:55.874Z"
   },
   {
    "duration": 13,
    "start_time": "2025-01-08T18:42:55.887Z"
   },
   {
    "duration": 67,
    "start_time": "2025-01-08T18:42:55.902Z"
   },
   {
    "duration": 2487,
    "start_time": "2025-01-08T18:42:55.970Z"
   },
   {
    "duration": 971,
    "start_time": "2025-01-08T18:42:58.459Z"
   },
   {
    "duration": 505,
    "start_time": "2025-01-08T18:42:59.436Z"
   },
   {
    "duration": 16,
    "start_time": "2025-01-08T18:42:59.943Z"
   },
   {
    "duration": 282,
    "start_time": "2025-01-08T18:42:59.961Z"
   },
   {
    "duration": 34,
    "start_time": "2025-01-08T18:43:00.245Z"
   },
   {
    "duration": 30,
    "start_time": "2025-01-08T18:43:00.280Z"
   },
   {
    "duration": 46,
    "start_time": "2025-01-08T18:43:00.312Z"
   },
   {
    "duration": 60,
    "start_time": "2025-01-08T18:43:00.360Z"
   },
   {
    "duration": 38,
    "start_time": "2025-01-08T18:43:00.425Z"
   },
   {
    "duration": 10,
    "start_time": "2025-01-08T18:43:00.465Z"
   },
   {
    "duration": 223,
    "start_time": "2025-01-08T18:43:00.477Z"
   },
   {
    "duration": 13,
    "start_time": "2025-01-08T18:43:00.702Z"
   },
   {
    "duration": 174,
    "start_time": "2025-01-08T18:43:00.717Z"
   },
   {
    "duration": 58,
    "start_time": "2025-01-08T18:43:00.892Z"
   },
   {
    "duration": 397,
    "start_time": "2025-01-08T18:43:00.951Z"
   },
   {
    "duration": 143,
    "start_time": "2025-01-08T18:43:01.350Z"
   },
   {
    "duration": 22,
    "start_time": "2025-01-08T18:43:01.495Z"
   },
   {
    "duration": 53,
    "start_time": "2025-01-08T18:43:01.519Z"
   },
   {
    "duration": 51,
    "start_time": "2025-01-08T18:43:01.574Z"
   },
   {
    "duration": 68,
    "start_time": "2025-01-08T18:43:01.627Z"
   },
   {
    "duration": 71,
    "start_time": "2025-01-08T18:43:01.697Z"
   },
   {
    "duration": 481,
    "start_time": "2025-01-08T18:43:01.770Z"
   },
   {
    "duration": 108,
    "start_time": "2025-01-08T18:43:02.253Z"
   },
   {
    "duration": 31,
    "start_time": "2025-01-08T18:43:02.363Z"
   },
   {
    "duration": 31,
    "start_time": "2025-01-08T18:43:02.395Z"
   },
   {
    "duration": 42,
    "start_time": "2025-01-08T18:43:02.428Z"
   },
   {
    "duration": 16,
    "start_time": "2025-01-08T18:43:02.472Z"
   },
   {
    "duration": 185,
    "start_time": "2025-01-08T18:43:02.489Z"
   },
   {
    "duration": 64,
    "start_time": "2025-01-08T18:43:02.676Z"
   },
   {
    "duration": 16,
    "start_time": "2025-01-08T18:43:02.741Z"
   },
   {
    "duration": 95,
    "start_time": "2025-01-08T18:43:02.758Z"
   },
   {
    "duration": 23,
    "start_time": "2025-01-08T18:43:02.854Z"
   },
   {
    "duration": 83,
    "start_time": "2025-01-08T18:43:02.878Z"
   },
   {
    "duration": 118,
    "start_time": "2025-01-08T18:43:02.963Z"
   },
   {
    "duration": 284,
    "start_time": "2025-01-08T18:43:03.083Z"
   },
   {
    "duration": 288,
    "start_time": "2025-01-08T18:43:03.369Z"
   },
   {
    "duration": 94,
    "start_time": "2025-01-08T18:43:03.659Z"
   },
   {
    "duration": 41,
    "start_time": "2025-01-08T18:43:03.755Z"
   },
   {
    "duration": 88,
    "start_time": "2025-01-08T18:43:03.798Z"
   },
   {
    "duration": 66,
    "start_time": "2025-01-08T18:43:03.887Z"
   },
   {
    "duration": 23,
    "start_time": "2025-01-08T18:43:03.955Z"
   },
   {
    "duration": 103,
    "start_time": "2025-01-08T18:54:43.029Z"
   },
   {
    "duration": 13,
    "start_time": "2025-01-08T18:55:29.290Z"
   },
   {
    "duration": 12,
    "start_time": "2025-01-08T18:55:40.475Z"
   },
   {
    "duration": 18,
    "start_time": "2025-01-08T18:56:08.090Z"
   },
   {
    "duration": 13,
    "start_time": "2025-01-08T18:57:01.503Z"
   },
   {
    "duration": 14,
    "start_time": "2025-01-08T18:57:04.765Z"
   },
   {
    "duration": 14,
    "start_time": "2025-01-08T18:57:10.012Z"
   },
   {
    "duration": 13,
    "start_time": "2025-01-08T18:57:22.514Z"
   },
   {
    "duration": 14,
    "start_time": "2025-01-08T18:57:27.148Z"
   },
   {
    "duration": 13,
    "start_time": "2025-01-08T18:57:27.675Z"
   },
   {
    "duration": 14,
    "start_time": "2025-01-08T18:57:29.199Z"
   },
   {
    "duration": 14,
    "start_time": "2025-01-08T18:57:29.665Z"
   },
   {
    "duration": 13,
    "start_time": "2025-01-08T18:57:30.258Z"
   },
   {
    "duration": 15,
    "start_time": "2025-01-08T18:57:30.949Z"
   },
   {
    "duration": 17,
    "start_time": "2025-01-08T18:57:31.396Z"
   },
   {
    "duration": 14,
    "start_time": "2025-01-08T18:57:31.827Z"
   },
   {
    "duration": 12,
    "start_time": "2025-01-08T18:57:33.283Z"
   },
   {
    "duration": 13,
    "start_time": "2025-01-08T18:57:33.852Z"
   },
   {
    "duration": 14,
    "start_time": "2025-01-08T18:57:34.410Z"
   },
   {
    "duration": 12,
    "start_time": "2025-01-08T18:57:35.873Z"
   },
   {
    "duration": 13,
    "start_time": "2025-01-08T18:57:36.791Z"
   },
   {
    "duration": 13,
    "start_time": "2025-01-08T18:57:37.459Z"
   },
   {
    "duration": 13,
    "start_time": "2025-01-08T18:58:21.258Z"
   },
   {
    "duration": 14,
    "start_time": "2025-01-08T18:58:23.387Z"
   },
   {
    "duration": 13,
    "start_time": "2025-01-08T18:58:24.779Z"
   },
   {
    "duration": 14,
    "start_time": "2025-01-08T18:58:25.478Z"
   },
   {
    "duration": 14,
    "start_time": "2025-01-08T18:58:26.198Z"
   },
   {
    "duration": 14,
    "start_time": "2025-01-08T18:58:27.862Z"
   },
   {
    "duration": 13,
    "start_time": "2025-01-08T18:58:28.491Z"
   },
   {
    "duration": 13,
    "start_time": "2025-01-08T18:58:28.973Z"
   },
   {
    "duration": 18,
    "start_time": "2025-01-08T18:58:29.629Z"
   },
   {
    "duration": 12,
    "start_time": "2025-01-08T18:58:30.104Z"
   },
   {
    "duration": 13,
    "start_time": "2025-01-08T18:58:30.489Z"
   },
   {
    "duration": 12,
    "start_time": "2025-01-08T18:58:31.095Z"
   },
   {
    "duration": 13,
    "start_time": "2025-01-08T18:58:31.670Z"
   },
   {
    "duration": 13,
    "start_time": "2025-01-08T18:58:32.794Z"
   },
   {
    "duration": 12,
    "start_time": "2025-01-08T18:58:33.393Z"
   },
   {
    "duration": 13,
    "start_time": "2025-01-08T18:59:22.191Z"
   },
   {
    "duration": 22,
    "start_time": "2025-01-08T18:59:35.980Z"
   },
   {
    "duration": 21,
    "start_time": "2025-01-08T18:59:54.888Z"
   },
   {
    "duration": 25,
    "start_time": "2025-01-08T18:59:56.726Z"
   },
   {
    "duration": 22,
    "start_time": "2025-01-08T18:59:58.687Z"
   },
   {
    "duration": 22,
    "start_time": "2025-01-08T19:00:04.700Z"
   },
   {
    "duration": 31,
    "start_time": "2025-01-08T19:00:15.043Z"
   },
   {
    "duration": 21,
    "start_time": "2025-01-08T19:00:20.489Z"
   },
   {
    "duration": 22,
    "start_time": "2025-01-08T19:00:26.355Z"
   },
   {
    "duration": 13,
    "start_time": "2025-01-08T19:00:31.571Z"
   },
   {
    "duration": 1189,
    "start_time": "2025-01-08T19:01:34.882Z"
   },
   {
    "duration": 2173,
    "start_time": "2025-01-08T19:01:36.073Z"
   },
   {
    "duration": 17,
    "start_time": "2025-01-08T19:01:38.250Z"
   },
   {
    "duration": 29,
    "start_time": "2025-01-08T19:01:38.271Z"
   },
   {
    "duration": 143,
    "start_time": "2025-01-08T19:01:38.302Z"
   },
   {
    "duration": 11,
    "start_time": "2025-01-08T19:01:38.450Z"
   },
   {
    "duration": 42,
    "start_time": "2025-01-08T19:01:38.464Z"
   },
   {
    "duration": 9,
    "start_time": "2025-01-08T19:01:38.508Z"
   },
   {
    "duration": 10,
    "start_time": "2025-01-08T19:01:38.519Z"
   },
   {
    "duration": 23,
    "start_time": "2025-01-08T19:01:38.531Z"
   },
   {
    "duration": 10,
    "start_time": "2025-01-08T19:01:38.556Z"
   },
   {
    "duration": 16,
    "start_time": "2025-01-08T19:01:38.568Z"
   },
   {
    "duration": 124,
    "start_time": "2025-01-08T19:01:38.585Z"
   },
   {
    "duration": 38,
    "start_time": "2025-01-08T19:01:38.711Z"
   },
   {
    "duration": 23,
    "start_time": "2025-01-08T19:01:38.751Z"
   },
   {
    "duration": 13,
    "start_time": "2025-01-08T19:01:38.776Z"
   },
   {
    "duration": 34,
    "start_time": "2025-01-08T19:01:38.791Z"
   },
   {
    "duration": 46,
    "start_time": "2025-01-08T19:01:38.827Z"
   },
   {
    "duration": 2560,
    "start_time": "2025-01-08T19:01:38.874Z"
   },
   {
    "duration": 1004,
    "start_time": "2025-01-08T19:01:41.436Z"
   },
   {
    "duration": 534,
    "start_time": "2025-01-08T19:01:42.444Z"
   },
   {
    "duration": 17,
    "start_time": "2025-01-08T19:01:42.980Z"
   },
   {
    "duration": 301,
    "start_time": "2025-01-08T19:01:42.998Z"
   },
   {
    "duration": 51,
    "start_time": "2025-01-08T19:01:43.301Z"
   },
   {
    "duration": 82,
    "start_time": "2025-01-08T19:01:43.354Z"
   },
   {
    "duration": 41,
    "start_time": "2025-01-08T19:01:43.445Z"
   },
   {
    "duration": 36,
    "start_time": "2025-01-08T19:01:43.487Z"
   },
   {
    "duration": 48,
    "start_time": "2025-01-08T19:01:43.527Z"
   },
   {
    "duration": 9,
    "start_time": "2025-01-08T19:01:43.577Z"
   },
   {
    "duration": 210,
    "start_time": "2025-01-08T19:01:43.588Z"
   },
   {
    "duration": 10,
    "start_time": "2025-01-08T19:01:43.800Z"
   },
   {
    "duration": 175,
    "start_time": "2025-01-08T19:01:43.812Z"
   },
   {
    "duration": 71,
    "start_time": "2025-01-08T19:01:43.989Z"
   },
   {
    "duration": 364,
    "start_time": "2025-01-08T19:01:44.062Z"
   },
   {
    "duration": 151,
    "start_time": "2025-01-08T19:01:44.428Z"
   },
   {
    "duration": 23,
    "start_time": "2025-01-08T19:01:44.580Z"
   },
   {
    "duration": 45,
    "start_time": "2025-01-08T19:01:44.604Z"
   },
   {
    "duration": 50,
    "start_time": "2025-01-08T19:01:44.651Z"
   },
   {
    "duration": 72,
    "start_time": "2025-01-08T19:01:44.703Z"
   },
   {
    "duration": 85,
    "start_time": "2025-01-08T19:01:44.776Z"
   },
   {
    "duration": 501,
    "start_time": "2025-01-08T19:01:44.862Z"
   },
   {
    "duration": 119,
    "start_time": "2025-01-08T19:01:45.365Z"
   },
   {
    "duration": 31,
    "start_time": "2025-01-08T19:01:45.486Z"
   },
   {
    "duration": 31,
    "start_time": "2025-01-08T19:01:45.519Z"
   },
   {
    "duration": 18,
    "start_time": "2025-01-08T19:01:45.552Z"
   },
   {
    "duration": 39,
    "start_time": "2025-01-08T19:01:45.571Z"
   },
   {
    "duration": 202,
    "start_time": "2025-01-08T19:01:45.611Z"
   },
   {
    "duration": 68,
    "start_time": "2025-01-08T19:01:45.814Z"
   },
   {
    "duration": 19,
    "start_time": "2025-01-08T19:01:45.884Z"
   },
   {
    "duration": 101,
    "start_time": "2025-01-08T19:01:45.905Z"
   },
   {
    "duration": 23,
    "start_time": "2025-01-08T19:01:46.007Z"
   },
   {
    "duration": 16,
    "start_time": "2025-01-08T19:01:46.038Z"
   },
   {
    "duration": 110,
    "start_time": "2025-01-08T19:01:46.055Z"
   },
   {
    "duration": 304,
    "start_time": "2025-01-08T19:01:46.167Z"
   },
   {
    "duration": 332,
    "start_time": "2025-01-08T19:01:46.473Z"
   },
   {
    "duration": 128,
    "start_time": "2025-01-08T19:01:46.807Z"
   },
   {
    "duration": 49,
    "start_time": "2025-01-08T19:01:46.938Z"
   },
   {
    "duration": 89,
    "start_time": "2025-01-08T19:01:46.989Z"
   },
   {
    "duration": 68,
    "start_time": "2025-01-08T19:01:47.080Z"
   },
   {
    "duration": 22,
    "start_time": "2025-01-08T19:01:47.150Z"
   },
   {
    "duration": 3,
    "start_time": "2025-01-08T19:32:07.269Z"
   },
   {
    "duration": 4,
    "start_time": "2025-01-08T19:32:23.178Z"
   },
   {
    "duration": 3,
    "start_time": "2025-01-08T19:33:03.284Z"
   },
   {
    "duration": 100,
    "start_time": "2025-01-08T19:33:14.280Z"
   },
   {
    "duration": 4,
    "start_time": "2025-01-08T19:33:37.150Z"
   },
   {
    "duration": 36,
    "start_time": "2025-01-08T20:17:10.687Z"
   },
   {
    "duration": 6,
    "start_time": "2025-01-08T21:03:44.780Z"
   },
   {
    "duration": 5,
    "start_time": "2025-01-08T21:06:41.041Z"
   },
   {
    "duration": 6,
    "start_time": "2025-01-08T21:07:24.306Z"
   },
   {
    "duration": 5,
    "start_time": "2025-01-08T21:09:01.977Z"
   },
   {
    "duration": 40,
    "start_time": "2025-01-08T21:18:36.062Z"
   },
   {
    "duration": 10,
    "start_time": "2025-01-08T21:18:39.975Z"
   },
   {
    "duration": 1881,
    "start_time": "2025-01-08T21:18:42.524Z"
   },
   {
    "duration": 186,
    "start_time": "2025-01-08T21:18:53.195Z"
   },
   {
    "duration": 12,
    "start_time": "2025-01-08T21:20:33.987Z"
   },
   {
    "duration": 13,
    "start_time": "2025-01-08T21:20:41.629Z"
   },
   {
    "duration": 1226,
    "start_time": "2025-01-08T21:20:54.320Z"
   },
   {
    "duration": 2345,
    "start_time": "2025-01-08T21:20:55.548Z"
   },
   {
    "duration": 11,
    "start_time": "2025-01-08T21:20:57.895Z"
   },
   {
    "duration": 101,
    "start_time": "2025-01-08T21:20:57.908Z"
   },
   {
    "duration": 118,
    "start_time": "2025-01-08T21:20:58.011Z"
   },
   {
    "duration": 7,
    "start_time": "2025-01-08T21:20:58.131Z"
   },
   {
    "duration": 9,
    "start_time": "2025-01-08T21:20:58.140Z"
   },
   {
    "duration": 6,
    "start_time": "2025-01-08T21:20:58.150Z"
   },
   {
    "duration": 11,
    "start_time": "2025-01-08T21:20:58.157Z"
   },
   {
    "duration": 13,
    "start_time": "2025-01-08T21:20:58.171Z"
   },
   {
    "duration": 12,
    "start_time": "2025-01-08T21:20:58.185Z"
   },
   {
    "duration": 41,
    "start_time": "2025-01-08T21:20:58.199Z"
   },
   {
    "duration": 111,
    "start_time": "2025-01-08T21:20:58.242Z"
   },
   {
    "duration": 24,
    "start_time": "2025-01-08T21:20:58.355Z"
   },
   {
    "duration": 33,
    "start_time": "2025-01-08T21:20:58.381Z"
   },
   {
    "duration": 22,
    "start_time": "2025-01-08T21:20:58.416Z"
   },
   {
    "duration": 10,
    "start_time": "2025-01-08T21:20:58.440Z"
   },
   {
    "duration": 47,
    "start_time": "2025-01-08T21:20:58.451Z"
   },
   {
    "duration": 2491,
    "start_time": "2025-01-08T21:20:58.500Z"
   },
   {
    "duration": 933,
    "start_time": "2025-01-08T21:21:00.993Z"
   },
   {
    "duration": 519,
    "start_time": "2025-01-08T21:21:01.928Z"
   },
   {
    "duration": 17,
    "start_time": "2025-01-08T21:21:02.449Z"
   },
   {
    "duration": 278,
    "start_time": "2025-01-08T21:21:02.467Z"
   },
   {
    "duration": 34,
    "start_time": "2025-01-08T21:21:02.747Z"
   },
   {
    "duration": 16,
    "start_time": "2025-01-08T21:21:02.783Z"
   },
   {
    "duration": 60,
    "start_time": "2025-01-08T21:21:02.801Z"
   },
   {
    "duration": 37,
    "start_time": "2025-01-08T21:21:02.863Z"
   },
   {
    "duration": 60,
    "start_time": "2025-01-08T21:21:02.904Z"
   },
   {
    "duration": 10,
    "start_time": "2025-01-08T21:21:02.966Z"
   },
   {
    "duration": 199,
    "start_time": "2025-01-08T21:21:02.977Z"
   },
   {
    "duration": 11,
    "start_time": "2025-01-08T21:21:03.177Z"
   },
   {
    "duration": 163,
    "start_time": "2025-01-08T21:21:03.190Z"
   },
   {
    "duration": 55,
    "start_time": "2025-01-08T21:21:03.355Z"
   },
   {
    "duration": 358,
    "start_time": "2025-01-08T21:21:03.412Z"
   },
   {
    "duration": 149,
    "start_time": "2025-01-08T21:21:03.772Z"
   },
   {
    "duration": 32,
    "start_time": "2025-01-08T21:21:03.923Z"
   },
   {
    "duration": 19,
    "start_time": "2025-01-08T21:21:03.956Z"
   },
   {
    "duration": 63,
    "start_time": "2025-01-08T21:21:03.977Z"
   },
   {
    "duration": 64,
    "start_time": "2025-01-08T21:21:04.042Z"
   },
   {
    "duration": 79,
    "start_time": "2025-01-08T21:21:04.107Z"
   },
   {
    "duration": 486,
    "start_time": "2025-01-08T21:21:04.188Z"
   },
   {
    "duration": 109,
    "start_time": "2025-01-08T21:21:04.675Z"
   },
   {
    "duration": 31,
    "start_time": "2025-01-08T21:21:04.785Z"
   },
   {
    "duration": 30,
    "start_time": "2025-01-08T21:21:04.817Z"
   },
   {
    "duration": 5,
    "start_time": "2025-01-08T21:21:04.849Z"
   },
   {
    "duration": 13,
    "start_time": "2025-01-08T21:21:04.855Z"
   },
   {
    "duration": 191,
    "start_time": "2025-01-08T21:21:04.870Z"
   },
   {
    "duration": 56,
    "start_time": "2025-01-08T21:21:05.062Z"
   },
   {
    "duration": 18,
    "start_time": "2025-01-08T21:21:05.120Z"
   },
   {
    "duration": 95,
    "start_time": "2025-01-08T21:21:05.139Z"
   },
   {
    "duration": 25,
    "start_time": "2025-01-08T21:21:05.235Z"
   },
   {
    "duration": 28,
    "start_time": "2025-01-08T21:21:05.262Z"
   },
   {
    "duration": 116,
    "start_time": "2025-01-08T21:21:05.292Z"
   },
   {
    "duration": 286,
    "start_time": "2025-01-08T21:21:05.410Z"
   },
   {
    "duration": 289,
    "start_time": "2025-01-08T21:21:05.697Z"
   },
   {
    "duration": 90,
    "start_time": "2025-01-08T21:21:05.988Z"
   },
   {
    "duration": 42,
    "start_time": "2025-01-08T21:21:06.079Z"
   },
   {
    "duration": 84,
    "start_time": "2025-01-08T21:21:06.122Z"
   },
   {
    "duration": 62,
    "start_time": "2025-01-08T21:21:06.208Z"
   },
   {
    "duration": 20,
    "start_time": "2025-01-08T21:21:06.272Z"
   },
   {
    "duration": 5,
    "start_time": "2025-01-08T21:21:06.294Z"
   },
   {
    "duration": 1490,
    "start_time": "2025-01-08T22:13:38.061Z"
   },
   {
    "duration": 1172,
    "start_time": "2025-01-08T22:14:05.498Z"
   },
   {
    "duration": 2223,
    "start_time": "2025-01-08T22:14:06.672Z"
   },
   {
    "duration": 11,
    "start_time": "2025-01-08T22:14:08.897Z"
   },
   {
    "duration": 38,
    "start_time": "2025-01-08T22:14:08.910Z"
   },
   {
    "duration": 108,
    "start_time": "2025-01-08T22:14:08.950Z"
   },
   {
    "duration": 7,
    "start_time": "2025-01-08T22:14:09.060Z"
   },
   {
    "duration": 7,
    "start_time": "2025-01-08T22:14:09.069Z"
   },
   {
    "duration": 4,
    "start_time": "2025-01-08T22:14:09.078Z"
   },
   {
    "duration": 9,
    "start_time": "2025-01-08T22:14:09.084Z"
   },
   {
    "duration": 6,
    "start_time": "2025-01-08T22:14:09.096Z"
   },
   {
    "duration": 42,
    "start_time": "2025-01-08T22:14:09.103Z"
   },
   {
    "duration": 16,
    "start_time": "2025-01-08T22:14:09.147Z"
   },
   {
    "duration": 105,
    "start_time": "2025-01-08T22:14:09.165Z"
   },
   {
    "duration": 25,
    "start_time": "2025-01-08T22:14:09.272Z"
   },
   {
    "duration": 39,
    "start_time": "2025-01-08T22:14:09.299Z"
   },
   {
    "duration": 35,
    "start_time": "2025-01-08T22:14:09.340Z"
   },
   {
    "duration": 9,
    "start_time": "2025-01-08T22:14:09.377Z"
   },
   {
    "duration": 48,
    "start_time": "2025-01-08T22:14:09.388Z"
   },
   {
    "duration": 2413,
    "start_time": "2025-01-08T22:14:09.438Z"
   },
   {
    "duration": 870,
    "start_time": "2025-01-08T22:14:11.852Z"
   },
   {
    "duration": 509,
    "start_time": "2025-01-08T22:14:12.724Z"
   },
   {
    "duration": 16,
    "start_time": "2025-01-08T22:14:13.238Z"
   },
   {
    "duration": 278,
    "start_time": "2025-01-08T22:14:13.256Z"
   },
   {
    "duration": 35,
    "start_time": "2025-01-08T22:14:13.538Z"
   },
   {
    "duration": 15,
    "start_time": "2025-01-08T22:14:13.575Z"
   },
   {
    "duration": 50,
    "start_time": "2025-01-08T22:14:13.592Z"
   },
   {
    "duration": 37,
    "start_time": "2025-01-08T22:14:13.643Z"
   },
   {
    "duration": 58,
    "start_time": "2025-01-08T22:14:13.684Z"
   },
   {
    "duration": 10,
    "start_time": "2025-01-08T22:14:13.743Z"
   },
   {
    "duration": 197,
    "start_time": "2025-01-08T22:14:13.755Z"
   },
   {
    "duration": 11,
    "start_time": "2025-01-08T22:14:13.953Z"
   },
   {
    "duration": 153,
    "start_time": "2025-01-08T22:14:13.966Z"
   },
   {
    "duration": 62,
    "start_time": "2025-01-08T22:14:14.121Z"
   },
   {
    "duration": 353,
    "start_time": "2025-01-08T22:14:14.185Z"
   },
   {
    "duration": 146,
    "start_time": "2025-01-08T22:14:14.540Z"
   },
   {
    "duration": 22,
    "start_time": "2025-01-08T22:14:14.687Z"
   },
   {
    "duration": 27,
    "start_time": "2025-01-08T22:14:14.710Z"
   },
   {
    "duration": 50,
    "start_time": "2025-01-08T22:14:14.739Z"
   },
   {
    "duration": 78,
    "start_time": "2025-01-08T22:14:14.791Z"
   },
   {
    "duration": 74,
    "start_time": "2025-01-08T22:14:14.871Z"
   },
   {
    "duration": 475,
    "start_time": "2025-01-08T22:14:14.946Z"
   },
   {
    "duration": 102,
    "start_time": "2025-01-08T22:14:15.422Z"
   },
   {
    "duration": 38,
    "start_time": "2025-01-08T22:14:15.526Z"
   },
   {
    "duration": 59,
    "start_time": "2025-01-08T22:14:15.566Z"
   },
   {
    "duration": 5,
    "start_time": "2025-01-08T22:14:15.627Z"
   },
   {
    "duration": 13,
    "start_time": "2025-01-08T22:14:15.634Z"
   },
   {
    "duration": 178,
    "start_time": "2025-01-08T22:14:15.648Z"
   },
   {
    "duration": 61,
    "start_time": "2025-01-08T22:14:15.828Z"
   },
   {
    "duration": 8,
    "start_time": "2025-01-08T22:14:15.891Z"
   },
   {
    "duration": 92,
    "start_time": "2025-01-08T22:14:15.901Z"
   },
   {
    "duration": 25,
    "start_time": "2025-01-08T22:14:15.994Z"
   },
   {
    "duration": 27,
    "start_time": "2025-01-08T22:14:16.021Z"
   },
   {
    "duration": 107,
    "start_time": "2025-01-08T22:14:16.049Z"
   },
   {
    "duration": 287,
    "start_time": "2025-01-08T22:14:16.158Z"
   },
   {
    "duration": 290,
    "start_time": "2025-01-08T22:14:16.447Z"
   },
   {
    "duration": 88,
    "start_time": "2025-01-08T22:14:16.739Z"
   },
   {
    "duration": 55,
    "start_time": "2025-01-08T22:14:16.837Z"
   },
   {
    "duration": 97,
    "start_time": "2025-01-08T22:14:16.894Z"
   },
   {
    "duration": 55,
    "start_time": "2025-01-08T22:14:16.992Z"
   },
   {
    "duration": 20,
    "start_time": "2025-01-08T22:14:17.049Z"
   },
   {
    "duration": 5,
    "start_time": "2025-01-08T22:14:17.071Z"
   },
   {
    "duration": 1373,
    "start_time": "2025-01-08T22:14:17.077Z"
   },
   {
    "duration": 24,
    "start_time": "2025-01-08T22:14:34.467Z"
   },
   {
    "duration": 39,
    "start_time": "2025-01-08T22:15:33.790Z"
   },
   {
    "duration": 12,
    "start_time": "2025-01-08T22:20:10.579Z"
   },
   {
    "duration": 50,
    "start_time": "2025-01-08T22:20:13.772Z"
   },
   {
    "duration": 49,
    "start_time": "2025-01-08T22:20:18.161Z"
   },
   {
    "duration": 26,
    "start_time": "2025-01-08T22:20:27.448Z"
   },
   {
    "duration": 82,
    "start_time": "2025-01-08T22:21:53.312Z"
   },
   {
    "duration": 30,
    "start_time": "2025-01-08T22:35:08.288Z"
   },
   {
    "duration": 10,
    "start_time": "2025-01-08T22:35:23.672Z"
   },
   {
    "duration": 167,
    "start_time": "2025-01-08T22:41:38.266Z"
   },
   {
    "duration": 185,
    "start_time": "2025-01-08T22:41:47.239Z"
   },
   {
    "duration": 162,
    "start_time": "2025-01-08T22:44:25.759Z"
   },
   {
    "duration": 157,
    "start_time": "2025-01-08T22:45:00.770Z"
   },
   {
    "duration": 162,
    "start_time": "2025-01-08T22:46:00.253Z"
   },
   {
    "duration": 166,
    "start_time": "2025-01-08T22:46:09.532Z"
   },
   {
    "duration": 169,
    "start_time": "2025-01-08T22:47:11.248Z"
   },
   {
    "duration": 26,
    "start_time": "2025-01-08T22:54:02.289Z"
   },
   {
    "duration": 16,
    "start_time": "2025-01-08T22:54:09.405Z"
   },
   {
    "duration": 6,
    "start_time": "2025-01-08T22:54:34.388Z"
   },
   {
    "duration": 8,
    "start_time": "2025-01-08T22:54:49.495Z"
   },
   {
    "duration": 9,
    "start_time": "2025-01-08T22:54:56.921Z"
   },
   {
    "duration": 6,
    "start_time": "2025-01-08T22:55:12.580Z"
   },
   {
    "duration": 5,
    "start_time": "2025-01-08T22:55:32.552Z"
   },
   {
    "duration": 6,
    "start_time": "2025-01-08T22:57:37.513Z"
   },
   {
    "duration": 5,
    "start_time": "2025-01-08T22:57:59.655Z"
   },
   {
    "duration": 5,
    "start_time": "2025-01-08T22:58:02.352Z"
   },
   {
    "duration": 5,
    "start_time": "2025-01-08T22:58:05.161Z"
   },
   {
    "duration": 4,
    "start_time": "2025-01-08T22:58:08.823Z"
   },
   {
    "duration": 15,
    "start_time": "2025-01-08T23:05:26.580Z"
   },
   {
    "duration": 13,
    "start_time": "2025-01-08T23:10:23.727Z"
   },
   {
    "duration": 1399,
    "start_time": "2025-01-09T19:55:45.469Z"
   },
   {
    "duration": 2457,
    "start_time": "2025-01-09T19:55:46.870Z"
   },
   {
    "duration": 11,
    "start_time": "2025-01-09T19:55:49.329Z"
   },
   {
    "duration": 49,
    "start_time": "2025-01-09T19:55:49.342Z"
   },
   {
    "duration": 97,
    "start_time": "2025-01-09T19:55:49.392Z"
   },
   {
    "duration": 6,
    "start_time": "2025-01-09T19:55:49.491Z"
   },
   {
    "duration": 7,
    "start_time": "2025-01-09T19:55:49.499Z"
   },
   {
    "duration": 22,
    "start_time": "2025-01-09T19:55:49.508Z"
   },
   {
    "duration": 24,
    "start_time": "2025-01-09T19:55:49.532Z"
   },
   {
    "duration": 27,
    "start_time": "2025-01-09T19:55:49.559Z"
   },
   {
    "duration": 77,
    "start_time": "2025-01-09T19:55:49.587Z"
   },
   {
    "duration": 47,
    "start_time": "2025-01-09T19:55:49.665Z"
   },
   {
    "duration": 95,
    "start_time": "2025-01-09T19:55:49.713Z"
   },
   {
    "duration": 23,
    "start_time": "2025-01-09T19:55:49.809Z"
   },
   {
    "duration": 98,
    "start_time": "2025-01-09T19:55:49.834Z"
   },
   {
    "duration": 14,
    "start_time": "2025-01-09T19:55:49.934Z"
   },
   {
    "duration": 10,
    "start_time": "2025-01-09T19:55:49.950Z"
   },
   {
    "duration": 40,
    "start_time": "2025-01-09T19:55:49.962Z"
   },
   {
    "duration": 3295,
    "start_time": "2025-01-09T19:55:50.004Z"
   },
   {
    "duration": 902,
    "start_time": "2025-01-09T19:55:53.300Z"
   },
   {
    "duration": 520,
    "start_time": "2025-01-09T19:55:54.203Z"
   },
   {
    "duration": 16,
    "start_time": "2025-01-09T19:55:54.725Z"
   },
   {
    "duration": 261,
    "start_time": "2025-01-09T19:55:54.743Z"
   },
   {
    "duration": 41,
    "start_time": "2025-01-09T19:55:55.006Z"
   },
   {
    "duration": 17,
    "start_time": "2025-01-09T19:55:55.049Z"
   },
   {
    "duration": 34,
    "start_time": "2025-01-09T19:55:55.068Z"
   },
   {
    "duration": 61,
    "start_time": "2025-01-09T19:55:55.104Z"
   },
   {
    "duration": 37,
    "start_time": "2025-01-09T19:55:55.169Z"
   },
   {
    "duration": 30,
    "start_time": "2025-01-09T19:55:55.207Z"
   },
   {
    "duration": 193,
    "start_time": "2025-01-09T19:55:55.239Z"
   },
   {
    "duration": 10,
    "start_time": "2025-01-09T19:55:55.434Z"
   },
   {
    "duration": 165,
    "start_time": "2025-01-09T19:55:55.446Z"
   },
   {
    "duration": 53,
    "start_time": "2025-01-09T19:55:55.612Z"
   },
   {
    "duration": 366,
    "start_time": "2025-01-09T19:55:55.667Z"
   },
   {
    "duration": 184,
    "start_time": "2025-01-09T19:55:56.035Z"
   },
   {
    "duration": 27,
    "start_time": "2025-01-09T19:55:56.221Z"
   },
   {
    "duration": 11,
    "start_time": "2025-01-09T19:55:56.250Z"
   },
   {
    "duration": 60,
    "start_time": "2025-01-09T19:55:56.263Z"
   },
   {
    "duration": 62,
    "start_time": "2025-01-09T19:55:56.329Z"
   },
   {
    "duration": 73,
    "start_time": "2025-01-09T19:55:56.393Z"
   },
   {
    "duration": 13,
    "start_time": "2025-01-09T19:55:56.467Z"
   },
   {
    "duration": 12,
    "start_time": "2025-01-09T19:55:56.481Z"
   },
   {
    "duration": 558,
    "start_time": "2025-01-09T19:55:56.494Z"
   },
   {
    "duration": 119,
    "start_time": "2025-01-09T19:55:57.054Z"
   },
   {
    "duration": 31,
    "start_time": "2025-01-09T19:55:57.175Z"
   },
   {
    "duration": 26,
    "start_time": "2025-01-09T19:55:57.207Z"
   },
   {
    "duration": 5,
    "start_time": "2025-01-09T19:55:57.235Z"
   },
   {
    "duration": 14,
    "start_time": "2025-01-09T19:55:57.242Z"
   },
   {
    "duration": 190,
    "start_time": "2025-01-09T19:55:57.257Z"
   },
   {
    "duration": 56,
    "start_time": "2025-01-09T19:55:57.449Z"
   },
   {
    "duration": 23,
    "start_time": "2025-01-09T19:55:57.507Z"
   },
   {
    "duration": 75,
    "start_time": "2025-01-09T19:55:57.532Z"
   },
   {
    "duration": 39,
    "start_time": "2025-01-09T19:55:57.608Z"
   },
   {
    "duration": 57,
    "start_time": "2025-01-09T19:55:57.648Z"
   },
   {
    "duration": 97,
    "start_time": "2025-01-09T19:55:57.707Z"
   },
   {
    "duration": 279,
    "start_time": "2025-01-09T19:55:57.806Z"
   },
   {
    "duration": 272,
    "start_time": "2025-01-09T19:55:58.087Z"
   },
   {
    "duration": 86,
    "start_time": "2025-01-09T19:55:58.361Z"
   },
   {
    "duration": 41,
    "start_time": "2025-01-09T19:55:58.449Z"
   },
   {
    "duration": 89,
    "start_time": "2025-01-09T19:55:58.492Z"
   },
   {
    "duration": 137,
    "start_time": "2025-01-09T19:55:58.582Z"
   },
   {
    "duration": 21,
    "start_time": "2025-01-09T19:55:58.721Z"
   },
   {
    "duration": 4,
    "start_time": "2025-01-09T19:55:58.744Z"
   },
   {
    "duration": 37,
    "start_time": "2025-01-09T19:55:58.750Z"
   },
   {
    "duration": 46,
    "start_time": "2025-01-09T19:55:58.788Z"
   },
   {
    "duration": 10,
    "start_time": "2025-01-09T19:55:58.836Z"
   },
   {
    "duration": 182,
    "start_time": "2025-01-09T19:55:58.847Z"
   },
   {
    "duration": 166,
    "start_time": "2025-01-09T19:55:59.030Z"
   },
   {
    "duration": 4,
    "start_time": "2025-01-09T19:55:59.198Z"
   },
   {
    "duration": 27,
    "start_time": "2025-01-09T19:55:59.204Z"
   },
   {
    "duration": 14,
    "start_time": "2025-01-09T20:51:18.597Z"
   },
   {
    "duration": 15,
    "start_time": "2025-01-09T20:51:22.893Z"
   },
   {
    "duration": 56,
    "start_time": "2025-01-09T21:16:55.800Z"
   },
   {
    "duration": 16,
    "start_time": "2025-01-09T21:20:56.201Z"
   },
   {
    "duration": 25,
    "start_time": "2025-01-09T21:21:04.732Z"
   },
   {
    "duration": 21,
    "start_time": "2025-01-09T21:21:15.174Z"
   },
   {
    "duration": 22,
    "start_time": "2025-01-09T21:21:41.725Z"
   },
   {
    "duration": 20,
    "start_time": "2025-01-09T21:21:46.715Z"
   },
   {
    "duration": 21,
    "start_time": "2025-01-09T21:21:51.250Z"
   },
   {
    "duration": 11,
    "start_time": "2025-01-09T21:22:25.040Z"
   },
   {
    "duration": 12,
    "start_time": "2025-01-09T21:23:24.621Z"
   },
   {
    "duration": 10,
    "start_time": "2025-01-09T21:23:35.468Z"
   },
   {
    "duration": 5,
    "start_time": "2025-01-09T21:24:17.557Z"
   },
   {
    "duration": 98,
    "start_time": "2025-01-09T21:24:41.927Z"
   },
   {
    "duration": 115,
    "start_time": "2025-01-09T21:25:06.294Z"
   },
   {
    "duration": 1150,
    "start_time": "2025-01-09T21:27:47.295Z"
   },
   {
    "duration": 28,
    "start_time": "2025-01-09T21:28:56.090Z"
   },
   {
    "duration": 110,
    "start_time": "2025-01-09T21:30:05.236Z"
   },
   {
    "duration": 10,
    "start_time": "2025-01-09T21:30:08.743Z"
   },
   {
    "duration": 5,
    "start_time": "2025-01-09T21:30:51.537Z"
   },
   {
    "duration": 6,
    "start_time": "2025-01-09T21:32:33.082Z"
   },
   {
    "duration": 6,
    "start_time": "2025-01-09T21:32:38.472Z"
   },
   {
    "duration": 5,
    "start_time": "2025-01-09T21:33:00.320Z"
   },
   {
    "duration": 5,
    "start_time": "2025-01-09T21:33:51.952Z"
   },
   {
    "duration": 4,
    "start_time": "2025-01-09T21:38:04.112Z"
   },
   {
    "duration": 7,
    "start_time": "2025-01-09T21:38:07.827Z"
   },
   {
    "duration": 6,
    "start_time": "2025-01-09T21:41:33.121Z"
   },
   {
    "duration": 4,
    "start_time": "2025-01-09T21:42:09.410Z"
   },
   {
    "duration": 1329,
    "start_time": "2025-01-09T21:42:14.715Z"
   },
   {
    "duration": 2356,
    "start_time": "2025-01-09T21:42:16.046Z"
   },
   {
    "duration": 12,
    "start_time": "2025-01-09T21:42:18.404Z"
   },
   {
    "duration": 44,
    "start_time": "2025-01-09T21:42:18.418Z"
   },
   {
    "duration": 115,
    "start_time": "2025-01-09T21:42:18.464Z"
   },
   {
    "duration": 8,
    "start_time": "2025-01-09T21:42:18.581Z"
   },
   {
    "duration": 9,
    "start_time": "2025-01-09T21:42:18.591Z"
   },
   {
    "duration": 14,
    "start_time": "2025-01-09T21:42:18.602Z"
   },
   {
    "duration": 32,
    "start_time": "2025-01-09T21:42:18.618Z"
   },
   {
    "duration": 7,
    "start_time": "2025-01-09T21:42:18.653Z"
   },
   {
    "duration": 10,
    "start_time": "2025-01-09T21:42:18.661Z"
   },
   {
    "duration": 16,
    "start_time": "2025-01-09T21:42:18.672Z"
   },
   {
    "duration": 124,
    "start_time": "2025-01-09T21:42:18.690Z"
   },
   {
    "duration": 35,
    "start_time": "2025-01-09T21:42:18.815Z"
   },
   {
    "duration": 19,
    "start_time": "2025-01-09T21:42:18.851Z"
   },
   {
    "duration": 12,
    "start_time": "2025-01-09T21:42:18.871Z"
   },
   {
    "duration": 15,
    "start_time": "2025-01-09T21:42:18.885Z"
   },
   {
    "duration": 65,
    "start_time": "2025-01-09T21:42:18.902Z"
   },
   {
    "duration": 2550,
    "start_time": "2025-01-09T21:42:18.969Z"
   },
   {
    "duration": 1021,
    "start_time": "2025-01-09T21:42:21.521Z"
   },
   {
    "duration": 520,
    "start_time": "2025-01-09T21:42:22.544Z"
   },
   {
    "duration": 15,
    "start_time": "2025-01-09T21:42:23.066Z"
   },
   {
    "duration": 284,
    "start_time": "2025-01-09T21:42:23.083Z"
   },
   {
    "duration": 33,
    "start_time": "2025-01-09T21:42:23.369Z"
   },
   {
    "duration": 27,
    "start_time": "2025-01-09T21:42:23.404Z"
   },
   {
    "duration": 56,
    "start_time": "2025-01-09T21:42:23.433Z"
   },
   {
    "duration": 38,
    "start_time": "2025-01-09T21:42:23.490Z"
   },
   {
    "duration": 41,
    "start_time": "2025-01-09T21:42:23.534Z"
   },
   {
    "duration": 9,
    "start_time": "2025-01-09T21:42:23.576Z"
   },
   {
    "duration": 213,
    "start_time": "2025-01-09T21:42:23.587Z"
   },
   {
    "duration": 11,
    "start_time": "2025-01-09T21:42:23.802Z"
   },
   {
    "duration": 180,
    "start_time": "2025-01-09T21:42:23.814Z"
   },
   {
    "duration": 69,
    "start_time": "2025-01-09T21:42:23.996Z"
   },
   {
    "duration": 361,
    "start_time": "2025-01-09T21:42:24.067Z"
   },
   {
    "duration": 155,
    "start_time": "2025-01-09T21:42:24.430Z"
   },
   {
    "duration": 22,
    "start_time": "2025-01-09T21:42:24.586Z"
   },
   {
    "duration": 33,
    "start_time": "2025-01-09T21:42:24.610Z"
   },
   {
    "duration": 56,
    "start_time": "2025-01-09T21:42:24.645Z"
   },
   {
    "duration": 75,
    "start_time": "2025-01-09T21:42:24.703Z"
   },
   {
    "duration": 82,
    "start_time": "2025-01-09T21:42:24.780Z"
   },
   {
    "duration": 504,
    "start_time": "2025-01-09T21:42:24.863Z"
   },
   {
    "duration": 110,
    "start_time": "2025-01-09T21:42:25.368Z"
   },
   {
    "duration": 30,
    "start_time": "2025-01-09T21:42:25.479Z"
   },
   {
    "duration": 26,
    "start_time": "2025-01-09T21:42:25.511Z"
   },
   {
    "duration": 22,
    "start_time": "2025-01-09T21:42:25.540Z"
   },
   {
    "duration": 19,
    "start_time": "2025-01-09T21:42:25.563Z"
   },
   {
    "duration": 185,
    "start_time": "2025-01-09T21:42:25.583Z"
   },
   {
    "duration": 78,
    "start_time": "2025-01-09T21:42:25.770Z"
   },
   {
    "duration": 4,
    "start_time": "2025-01-09T21:42:25.849Z"
   },
   {
    "duration": 100,
    "start_time": "2025-01-09T21:42:25.855Z"
   },
   {
    "duration": 25,
    "start_time": "2025-01-09T21:42:25.957Z"
   },
   {
    "duration": 14,
    "start_time": "2025-01-09T21:42:25.983Z"
   },
   {
    "duration": 132,
    "start_time": "2025-01-09T21:42:25.999Z"
   },
   {
    "duration": 313,
    "start_time": "2025-01-09T21:42:26.133Z"
   },
   {
    "duration": 282,
    "start_time": "2025-01-09T21:42:26.448Z"
   },
   {
    "duration": 90,
    "start_time": "2025-01-09T21:42:26.731Z"
   },
   {
    "duration": 46,
    "start_time": "2025-01-09T21:42:26.831Z"
   },
   {
    "duration": 88,
    "start_time": "2025-01-09T21:42:26.879Z"
   },
   {
    "duration": 101,
    "start_time": "2025-01-09T21:42:26.969Z"
   },
   {
    "duration": 23,
    "start_time": "2025-01-09T21:42:27.071Z"
   },
   {
    "duration": 5,
    "start_time": "2025-01-09T21:42:27.095Z"
   },
   {
    "duration": 66,
    "start_time": "2025-01-09T21:42:27.102Z"
   },
   {
    "duration": 26,
    "start_time": "2025-01-09T21:42:27.170Z"
   },
   {
    "duration": 112,
    "start_time": "2025-01-09T21:42:27.198Z"
   },
   {
    "duration": 193,
    "start_time": "2025-01-09T21:42:27.312Z"
   },
   {
    "duration": 188,
    "start_time": "2025-01-09T21:42:27.507Z"
   },
   {
    "duration": 6,
    "start_time": "2025-01-09T21:42:27.697Z"
   },
   {
    "duration": 31,
    "start_time": "2025-01-09T21:42:27.704Z"
   },
   {
    "duration": 58,
    "start_time": "2025-01-09T21:42:27.738Z"
   },
   {
    "duration": 58,
    "start_time": "2025-01-09T21:42:27.798Z"
   },
   {
    "duration": 4,
    "start_time": "2025-01-09T21:42:27.858Z"
   },
   {
    "duration": 4,
    "start_time": "2025-01-09T21:42:27.864Z"
   },
   {
    "duration": 1029,
    "start_time": "2025-01-09T21:42:37.331Z"
   },
   {
    "duration": 9,
    "start_time": "2025-01-09T21:43:30.830Z"
   },
   {
    "duration": 10,
    "start_time": "2025-01-09T21:44:29.328Z"
   },
   {
    "duration": 9,
    "start_time": "2025-01-09T21:45:38.433Z"
   },
   {
    "duration": 1174,
    "start_time": "2025-01-09T21:45:42.870Z"
   },
   {
    "duration": 2090,
    "start_time": "2025-01-09T21:45:44.045Z"
   },
   {
    "duration": 13,
    "start_time": "2025-01-09T21:45:46.137Z"
   },
   {
    "duration": 72,
    "start_time": "2025-01-09T21:45:46.153Z"
   },
   {
    "duration": 127,
    "start_time": "2025-01-09T21:45:46.227Z"
   },
   {
    "duration": 9,
    "start_time": "2025-01-09T21:45:46.355Z"
   },
   {
    "duration": 31,
    "start_time": "2025-01-09T21:45:46.366Z"
   },
   {
    "duration": 27,
    "start_time": "2025-01-09T21:45:46.399Z"
   },
   {
    "duration": 32,
    "start_time": "2025-01-09T21:45:46.428Z"
   },
   {
    "duration": 35,
    "start_time": "2025-01-09T21:45:46.463Z"
   },
   {
    "duration": 37,
    "start_time": "2025-01-09T21:45:46.500Z"
   },
   {
    "duration": 51,
    "start_time": "2025-01-09T21:45:46.539Z"
   },
   {
    "duration": 117,
    "start_time": "2025-01-09T21:45:46.592Z"
   },
   {
    "duration": 32,
    "start_time": "2025-01-09T21:45:46.711Z"
   },
   {
    "duration": 37,
    "start_time": "2025-01-09T21:45:46.745Z"
   },
   {
    "duration": 28,
    "start_time": "2025-01-09T21:45:46.783Z"
   },
   {
    "duration": 30,
    "start_time": "2025-01-09T21:45:46.812Z"
   },
   {
    "duration": 49,
    "start_time": "2025-01-09T21:45:46.843Z"
   },
   {
    "duration": 2409,
    "start_time": "2025-01-09T21:45:46.894Z"
   },
   {
    "duration": 916,
    "start_time": "2025-01-09T21:45:49.305Z"
   },
   {
    "duration": 507,
    "start_time": "2025-01-09T21:45:50.223Z"
   },
   {
    "duration": 17,
    "start_time": "2025-01-09T21:45:50.731Z"
   },
   {
    "duration": 269,
    "start_time": "2025-01-09T21:45:50.749Z"
   },
   {
    "duration": 40,
    "start_time": "2025-01-09T21:45:51.019Z"
   },
   {
    "duration": 18,
    "start_time": "2025-01-09T21:45:51.061Z"
   },
   {
    "duration": 55,
    "start_time": "2025-01-09T21:45:51.081Z"
   },
   {
    "duration": 36,
    "start_time": "2025-01-09T21:45:51.138Z"
   },
   {
    "duration": 57,
    "start_time": "2025-01-09T21:45:51.178Z"
   },
   {
    "duration": 68,
    "start_time": "2025-01-09T21:45:51.237Z"
   },
   {
    "duration": 181,
    "start_time": "2025-01-09T21:45:51.307Z"
   },
   {
    "duration": 10,
    "start_time": "2025-01-09T21:45:51.490Z"
   },
   {
    "duration": 163,
    "start_time": "2025-01-09T21:45:51.503Z"
   },
   {
    "duration": 67,
    "start_time": "2025-01-09T21:45:51.668Z"
   },
   {
    "duration": 372,
    "start_time": "2025-01-09T21:45:51.736Z"
   },
   {
    "duration": 141,
    "start_time": "2025-01-09T21:45:52.110Z"
   },
   {
    "duration": 23,
    "start_time": "2025-01-09T21:45:52.252Z"
   },
   {
    "duration": 14,
    "start_time": "2025-01-09T21:45:52.277Z"
   },
   {
    "duration": 77,
    "start_time": "2025-01-09T21:45:52.292Z"
   },
   {
    "duration": 70,
    "start_time": "2025-01-09T21:45:52.370Z"
   },
   {
    "duration": 66,
    "start_time": "2025-01-09T21:45:52.441Z"
   },
   {
    "duration": 474,
    "start_time": "2025-01-09T21:45:52.509Z"
   },
   {
    "duration": 106,
    "start_time": "2025-01-09T21:45:52.985Z"
   },
   {
    "duration": 39,
    "start_time": "2025-01-09T21:45:53.092Z"
   },
   {
    "duration": 13,
    "start_time": "2025-01-09T21:45:53.132Z"
   },
   {
    "duration": 5,
    "start_time": "2025-01-09T21:45:53.147Z"
   },
   {
    "duration": 23,
    "start_time": "2025-01-09T21:45:53.154Z"
   },
   {
    "duration": 180,
    "start_time": "2025-01-09T21:45:53.178Z"
   },
   {
    "duration": 55,
    "start_time": "2025-01-09T21:45:53.359Z"
   },
   {
    "duration": 23,
    "start_time": "2025-01-09T21:45:53.415Z"
   },
   {
    "duration": 83,
    "start_time": "2025-01-09T21:45:53.439Z"
   },
   {
    "duration": 27,
    "start_time": "2025-01-09T21:45:53.524Z"
   },
   {
    "duration": 14,
    "start_time": "2025-01-09T21:45:53.553Z"
   },
   {
    "duration": 103,
    "start_time": "2025-01-09T21:45:53.568Z"
   },
   {
    "duration": 284,
    "start_time": "2025-01-09T21:45:53.672Z"
   },
   {
    "duration": 283,
    "start_time": "2025-01-09T21:45:53.958Z"
   },
   {
    "duration": 96,
    "start_time": "2025-01-09T21:45:54.243Z"
   },
   {
    "duration": 41,
    "start_time": "2025-01-09T21:45:54.340Z"
   },
   {
    "duration": 88,
    "start_time": "2025-01-09T21:45:54.383Z"
   },
   {
    "duration": 57,
    "start_time": "2025-01-09T21:45:54.473Z"
   },
   {
    "duration": 21,
    "start_time": "2025-01-09T21:45:54.532Z"
   },
   {
    "duration": 5,
    "start_time": "2025-01-09T21:45:54.555Z"
   },
   {
    "duration": 39,
    "start_time": "2025-01-09T21:45:54.561Z"
   },
   {
    "duration": 46,
    "start_time": "2025-01-09T21:45:54.602Z"
   },
   {
    "duration": 8,
    "start_time": "2025-01-09T21:45:54.650Z"
   },
   {
    "duration": 194,
    "start_time": "2025-01-09T21:45:54.660Z"
   },
   {
    "duration": 170,
    "start_time": "2025-01-09T21:45:54.856Z"
   },
   {
    "duration": 5,
    "start_time": "2025-01-09T21:45:55.029Z"
   },
   {
    "duration": 28,
    "start_time": "2025-01-09T21:45:55.035Z"
   },
   {
    "duration": 62,
    "start_time": "2025-01-09T21:45:55.065Z"
   },
   {
    "duration": 41,
    "start_time": "2025-01-09T21:45:55.130Z"
   },
   {
    "duration": 5,
    "start_time": "2025-01-09T21:45:55.173Z"
   },
   {
    "duration": 24,
    "start_time": "2025-01-09T21:45:55.179Z"
   },
   {
    "duration": 8,
    "start_time": "2025-01-09T22:05:03.710Z"
   },
   {
    "duration": 4,
    "start_time": "2025-01-09T22:09:10.827Z"
   },
   {
    "duration": 4,
    "start_time": "2025-01-09T22:09:44.339Z"
   },
   {
    "duration": 50,
    "start_time": "2025-01-10T19:52:48.140Z"
   },
   {
    "duration": 1580,
    "start_time": "2025-01-10T19:52:53.370Z"
   },
   {
    "duration": 1998,
    "start_time": "2025-01-10T19:52:54.952Z"
   },
   {
    "duration": 12,
    "start_time": "2025-01-10T19:52:56.952Z"
   },
   {
    "duration": 24,
    "start_time": "2025-01-10T19:52:56.966Z"
   },
   {
    "duration": 119,
    "start_time": "2025-01-10T19:52:56.992Z"
   },
   {
    "duration": 12,
    "start_time": "2025-01-10T19:52:57.112Z"
   },
   {
    "duration": 10,
    "start_time": "2025-01-10T19:52:57.126Z"
   },
   {
    "duration": 10,
    "start_time": "2025-01-10T19:52:57.138Z"
   },
   {
    "duration": 9,
    "start_time": "2025-01-10T19:52:57.150Z"
   },
   {
    "duration": 14,
    "start_time": "2025-01-10T19:52:57.162Z"
   },
   {
    "duration": 9,
    "start_time": "2025-01-10T19:52:57.178Z"
   },
   {
    "duration": 36,
    "start_time": "2025-01-10T19:52:57.189Z"
   },
   {
    "duration": 104,
    "start_time": "2025-01-10T19:52:57.227Z"
   },
   {
    "duration": 23,
    "start_time": "2025-01-10T19:52:57.332Z"
   },
   {
    "duration": 18,
    "start_time": "2025-01-10T19:52:57.357Z"
   },
   {
    "duration": 14,
    "start_time": "2025-01-10T19:52:57.377Z"
   },
   {
    "duration": 54,
    "start_time": "2025-01-10T19:52:57.392Z"
   },
   {
    "duration": 41,
    "start_time": "2025-01-10T19:52:57.447Z"
   },
   {
    "duration": 3507,
    "start_time": "2025-01-10T19:52:57.489Z"
   },
   {
    "duration": 914,
    "start_time": "2025-01-10T19:53:00.998Z"
   },
   {
    "duration": 523,
    "start_time": "2025-01-10T19:53:01.922Z"
   },
   {
    "duration": 20,
    "start_time": "2025-01-10T19:53:02.447Z"
   },
   {
    "duration": 358,
    "start_time": "2025-01-10T19:53:02.469Z"
   },
   {
    "duration": 33,
    "start_time": "2025-01-10T19:53:02.829Z"
   },
   {
    "duration": 25,
    "start_time": "2025-01-10T19:53:02.863Z"
   },
   {
    "duration": 47,
    "start_time": "2025-01-10T19:53:02.890Z"
   },
   {
    "duration": 36,
    "start_time": "2025-01-10T19:53:02.939Z"
   },
   {
    "duration": 54,
    "start_time": "2025-01-10T19:53:02.979Z"
   },
   {
    "duration": 9,
    "start_time": "2025-01-10T19:53:03.035Z"
   },
   {
    "duration": 200,
    "start_time": "2025-01-10T19:53:03.046Z"
   },
   {
    "duration": 11,
    "start_time": "2025-01-10T19:53:03.247Z"
   },
   {
    "duration": 231,
    "start_time": "2025-01-10T19:53:03.260Z"
   },
   {
    "duration": 58,
    "start_time": "2025-01-10T19:53:03.493Z"
   },
   {
    "duration": 338,
    "start_time": "2025-01-10T19:53:03.553Z"
   },
   {
    "duration": 142,
    "start_time": "2025-01-10T19:53:03.893Z"
   },
   {
    "duration": 21,
    "start_time": "2025-01-10T19:53:04.037Z"
   },
   {
    "duration": 15,
    "start_time": "2025-01-10T19:53:04.059Z"
   },
   {
    "duration": 63,
    "start_time": "2025-01-10T19:53:04.076Z"
   },
   {
    "duration": 67,
    "start_time": "2025-01-10T19:53:04.140Z"
   },
   {
    "duration": 85,
    "start_time": "2025-01-10T19:53:04.209Z"
   },
   {
    "duration": 484,
    "start_time": "2025-01-10T19:53:04.296Z"
   },
   {
    "duration": 104,
    "start_time": "2025-01-10T19:53:04.782Z"
   },
   {
    "duration": 43,
    "start_time": "2025-01-10T19:53:04.887Z"
   },
   {
    "duration": 14,
    "start_time": "2025-01-10T19:53:04.932Z"
   },
   {
    "duration": 6,
    "start_time": "2025-01-10T19:53:04.947Z"
   },
   {
    "duration": 34,
    "start_time": "2025-01-10T19:53:04.955Z"
   },
   {
    "duration": 169,
    "start_time": "2025-01-10T19:53:04.991Z"
   },
   {
    "duration": 62,
    "start_time": "2025-01-10T19:53:05.162Z"
   },
   {
    "duration": 82,
    "start_time": "2025-01-10T19:53:05.225Z"
   },
   {
    "duration": 86,
    "start_time": "2025-01-10T19:53:05.309Z"
   },
   {
    "duration": 26,
    "start_time": "2025-01-10T19:53:05.397Z"
   },
   {
    "duration": 29,
    "start_time": "2025-01-10T19:53:05.425Z"
   },
   {
    "duration": 141,
    "start_time": "2025-01-10T19:53:05.456Z"
   },
   {
    "duration": 277,
    "start_time": "2025-01-10T19:53:05.599Z"
   },
   {
    "duration": 278,
    "start_time": "2025-01-10T19:53:05.878Z"
   },
   {
    "duration": 89,
    "start_time": "2025-01-10T19:53:06.158Z"
   },
   {
    "duration": 41,
    "start_time": "2025-01-10T19:53:06.249Z"
   },
   {
    "duration": 90,
    "start_time": "2025-01-10T19:53:06.291Z"
   },
   {
    "duration": 59,
    "start_time": "2025-01-10T19:53:06.383Z"
   },
   {
    "duration": 21,
    "start_time": "2025-01-10T19:53:06.443Z"
   },
   {
    "duration": 144,
    "start_time": "2025-01-10T19:53:06.466Z"
   },
   {
    "duration": 143,
    "start_time": "2025-01-10T19:53:06.612Z"
   },
   {
    "duration": 158,
    "start_time": "2025-01-10T19:53:06.756Z"
   },
   {
    "duration": 94,
    "start_time": "2025-01-10T19:53:06.916Z"
   },
   {
    "duration": 232,
    "start_time": "2025-01-10T19:53:07.011Z"
   },
   {
    "duration": 178,
    "start_time": "2025-01-10T19:53:07.244Z"
   },
   {
    "duration": 5,
    "start_time": "2025-01-10T19:53:07.423Z"
   },
   {
    "duration": 95,
    "start_time": "2025-01-10T19:53:07.430Z"
   },
   {
    "duration": 54,
    "start_time": "2025-01-10T19:53:07.527Z"
   },
   {
    "duration": 56,
    "start_time": "2025-01-10T19:53:07.583Z"
   },
   {
    "duration": 43,
    "start_time": "2025-01-10T19:53:07.641Z"
   },
   {
    "duration": 51,
    "start_time": "2025-01-10T19:53:07.686Z"
   },
   {
    "duration": 8,
    "start_time": "2025-01-10T19:53:07.739Z"
   },
   {
    "duration": 180,
    "start_time": "2025-01-10T19:53:07.749Z"
   },
   {
    "duration": 260,
    "start_time": "2025-01-10T19:53:07.930Z"
   },
   {
    "duration": 108,
    "start_time": "2025-01-10T19:53:45.586Z"
   },
   {
    "duration": 6,
    "start_time": "2025-01-10T20:07:49.805Z"
   },
   {
    "duration": 5,
    "start_time": "2025-01-10T20:08:35.315Z"
   },
   {
    "duration": 14,
    "start_time": "2025-01-10T20:47:53.447Z"
   },
   {
    "duration": 16,
    "start_time": "2025-01-10T21:17:14.268Z"
   },
   {
    "duration": 11,
    "start_time": "2025-01-10T21:19:39.073Z"
   },
   {
    "duration": 10,
    "start_time": "2025-01-10T21:20:43.530Z"
   },
   {
    "duration": 104,
    "start_time": "2025-01-10T21:23:55.052Z"
   },
   {
    "duration": 13,
    "start_time": "2025-01-10T21:24:02.713Z"
   },
   {
    "duration": 15,
    "start_time": "2025-01-10T21:24:22.978Z"
   },
   {
    "duration": 17,
    "start_time": "2025-01-10T21:27:08.614Z"
   },
   {
    "duration": 10,
    "start_time": "2025-01-10T21:29:02.718Z"
   },
   {
    "duration": 9,
    "start_time": "2025-01-10T21:29:12.228Z"
   },
   {
    "duration": 11,
    "start_time": "2025-01-10T21:31:39.375Z"
   },
   {
    "duration": 11,
    "start_time": "2025-01-10T21:32:09.855Z"
   },
   {
    "duration": 18,
    "start_time": "2025-01-10T21:32:49.076Z"
   },
   {
    "duration": 16,
    "start_time": "2025-01-10T21:34:21.584Z"
   },
   {
    "duration": 96,
    "start_time": "2025-01-10T21:41:27.033Z"
   },
   {
    "duration": 9,
    "start_time": "2025-01-10T21:41:35.630Z"
   },
   {
    "duration": 11,
    "start_time": "2025-01-10T21:41:42.290Z"
   },
   {
    "duration": 9,
    "start_time": "2025-01-10T21:50:20.628Z"
   },
   {
    "duration": 9,
    "start_time": "2025-01-10T21:50:35.481Z"
   },
   {
    "duration": 9,
    "start_time": "2025-01-10T21:50:39.699Z"
   },
   {
    "duration": 11,
    "start_time": "2025-01-10T21:57:12.328Z"
   },
   {
    "duration": 11,
    "start_time": "2025-01-10T21:57:18.521Z"
   },
   {
    "duration": 11,
    "start_time": "2025-01-10T21:57:25.874Z"
   },
   {
    "duration": 9,
    "start_time": "2025-01-10T21:58:12.471Z"
   },
   {
    "duration": 9,
    "start_time": "2025-01-10T21:58:15.669Z"
   },
   {
    "duration": 56,
    "start_time": "2025-01-11T15:09:12.691Z"
   },
   {
    "duration": 1413,
    "start_time": "2025-01-11T15:09:18.468Z"
   },
   {
    "duration": 2586,
    "start_time": "2025-01-11T15:09:19.883Z"
   },
   {
    "duration": 14,
    "start_time": "2025-01-11T15:09:22.470Z"
   },
   {
    "duration": 44,
    "start_time": "2025-01-11T15:09:22.486Z"
   },
   {
    "duration": 119,
    "start_time": "2025-01-11T15:09:22.532Z"
   },
   {
    "duration": 7,
    "start_time": "2025-01-11T15:09:22.653Z"
   },
   {
    "duration": 12,
    "start_time": "2025-01-11T15:09:22.662Z"
   },
   {
    "duration": 9,
    "start_time": "2025-01-11T15:09:22.676Z"
   },
   {
    "duration": 10,
    "start_time": "2025-01-11T15:09:22.687Z"
   },
   {
    "duration": 26,
    "start_time": "2025-01-11T15:09:22.700Z"
   },
   {
    "duration": 10,
    "start_time": "2025-01-11T15:09:22.731Z"
   },
   {
    "duration": 26,
    "start_time": "2025-01-11T15:09:22.743Z"
   },
   {
    "duration": 115,
    "start_time": "2025-01-11T15:09:22.771Z"
   },
   {
    "duration": 32,
    "start_time": "2025-01-11T15:09:22.888Z"
   },
   {
    "duration": 25,
    "start_time": "2025-01-11T15:09:22.923Z"
   },
   {
    "duration": 14,
    "start_time": "2025-01-11T15:09:22.950Z"
   },
   {
    "duration": 12,
    "start_time": "2025-01-11T15:09:22.965Z"
   },
   {
    "duration": 87,
    "start_time": "2025-01-11T15:09:22.979Z"
   },
   {
    "duration": 3562,
    "start_time": "2025-01-11T15:09:23.068Z"
   },
   {
    "duration": 1067,
    "start_time": "2025-01-11T15:09:26.635Z"
   },
   {
    "duration": 538,
    "start_time": "2025-01-11T15:09:27.704Z"
   },
   {
    "duration": 18,
    "start_time": "2025-01-11T15:09:28.244Z"
   },
   {
    "duration": 294,
    "start_time": "2025-01-11T15:09:28.263Z"
   },
   {
    "duration": 35,
    "start_time": "2025-01-11T15:09:28.558Z"
   },
   {
    "duration": 38,
    "start_time": "2025-01-11T15:09:28.595Z"
   },
   {
    "duration": 42,
    "start_time": "2025-01-11T15:09:28.635Z"
   },
   {
    "duration": 62,
    "start_time": "2025-01-11T15:09:28.679Z"
   },
   {
    "duration": 41,
    "start_time": "2025-01-11T15:09:28.746Z"
   },
   {
    "duration": 10,
    "start_time": "2025-01-11T15:09:28.789Z"
   },
   {
    "duration": 214,
    "start_time": "2025-01-11T15:09:28.801Z"
   },
   {
    "duration": 12,
    "start_time": "2025-01-11T15:09:29.017Z"
   },
   {
    "duration": 178,
    "start_time": "2025-01-11T15:09:29.030Z"
   },
   {
    "duration": 62,
    "start_time": "2025-01-11T15:09:29.214Z"
   },
   {
    "duration": 376,
    "start_time": "2025-01-11T15:09:29.277Z"
   },
   {
    "duration": 151,
    "start_time": "2025-01-11T15:09:29.655Z"
   },
   {
    "duration": 32,
    "start_time": "2025-01-11T15:09:29.808Z"
   },
   {
    "duration": 19,
    "start_time": "2025-01-11T15:09:29.842Z"
   },
   {
    "duration": 80,
    "start_time": "2025-01-11T15:09:29.863Z"
   },
   {
    "duration": 83,
    "start_time": "2025-01-11T15:09:29.945Z"
   },
   {
    "duration": 66,
    "start_time": "2025-01-11T15:09:30.032Z"
   },
   {
    "duration": 509,
    "start_time": "2025-01-11T15:09:30.100Z"
   },
   {
    "duration": 123,
    "start_time": "2025-01-11T15:09:30.618Z"
   },
   {
    "duration": 33,
    "start_time": "2025-01-11T15:09:30.743Z"
   },
   {
    "duration": 44,
    "start_time": "2025-01-11T15:09:30.778Z"
   },
   {
    "duration": 9,
    "start_time": "2025-01-11T15:09:30.826Z"
   },
   {
    "duration": 40,
    "start_time": "2025-01-11T15:09:30.837Z"
   },
   {
    "duration": 186,
    "start_time": "2025-01-11T15:09:30.879Z"
   },
   {
    "duration": 71,
    "start_time": "2025-01-11T15:09:31.067Z"
   },
   {
    "duration": 88,
    "start_time": "2025-01-11T15:09:31.140Z"
   },
   {
    "duration": 103,
    "start_time": "2025-01-11T15:09:31.230Z"
   },
   {
    "duration": 26,
    "start_time": "2025-01-11T15:09:31.335Z"
   },
   {
    "duration": 4,
    "start_time": "2025-01-11T15:09:31.364Z"
   },
   {
    "duration": 130,
    "start_time": "2025-01-11T15:09:31.370Z"
   },
   {
    "duration": 332,
    "start_time": "2025-01-11T15:09:31.502Z"
   },
   {
    "duration": 322,
    "start_time": "2025-01-11T15:09:31.836Z"
   },
   {
    "duration": 93,
    "start_time": "2025-01-11T15:09:32.160Z"
   },
   {
    "duration": 44,
    "start_time": "2025-01-11T15:09:32.255Z"
   },
   {
    "duration": 89,
    "start_time": "2025-01-11T15:09:32.300Z"
   },
   {
    "duration": 73,
    "start_time": "2025-01-11T15:09:32.390Z"
   },
   {
    "duration": 21,
    "start_time": "2025-01-11T15:09:32.465Z"
   },
   {
    "duration": 6,
    "start_time": "2025-01-11T15:09:32.488Z"
   },
   {
    "duration": 38,
    "start_time": "2025-01-11T15:09:32.526Z"
   },
   {
    "duration": 27,
    "start_time": "2025-01-11T15:09:32.566Z"
   },
   {
    "duration": 31,
    "start_time": "2025-01-11T15:09:32.595Z"
   },
   {
    "duration": 204,
    "start_time": "2025-01-11T15:09:32.628Z"
   },
   {
    "duration": 194,
    "start_time": "2025-01-11T15:09:32.834Z"
   },
   {
    "duration": 6,
    "start_time": "2025-01-11T15:09:33.029Z"
   },
   {
    "duration": 63,
    "start_time": "2025-01-11T15:09:33.036Z"
   },
   {
    "duration": 87,
    "start_time": "2025-01-11T15:09:33.100Z"
   },
   {
    "duration": 146,
    "start_time": "2025-01-11T15:09:33.189Z"
   },
   {
    "duration": 5,
    "start_time": "2025-01-11T15:09:33.337Z"
   },
   {
    "duration": 45,
    "start_time": "2025-01-11T15:09:33.344Z"
   },
   {
    "duration": 8,
    "start_time": "2025-01-11T15:09:33.390Z"
   },
   {
    "duration": 20,
    "start_time": "2025-01-11T15:09:33.400Z"
   },
   {
    "duration": 106,
    "start_time": "2025-01-11T15:09:33.422Z"
   },
   {
    "duration": 117,
    "start_time": "2025-01-11T15:09:33.531Z"
   },
   {
    "duration": 17,
    "start_time": "2025-01-11T15:09:33.649Z"
   },
   {
    "duration": 11,
    "start_time": "2025-01-11T15:09:33.668Z"
   },
   {
    "duration": 44,
    "start_time": "2025-01-11T15:09:33.680Z"
   },
   {
    "duration": 131,
    "start_time": "2025-01-11T15:09:33.727Z"
   },
   {
    "duration": 155,
    "start_time": "2025-01-11T15:10:11.654Z"
   },
   {
    "duration": 149,
    "start_time": "2025-01-11T15:10:15.703Z"
   },
   {
    "duration": 147,
    "start_time": "2025-01-11T15:10:19.636Z"
   },
   {
    "duration": 145,
    "start_time": "2025-01-11T15:10:27.047Z"
   },
   {
    "duration": 164,
    "start_time": "2025-01-11T15:10:32.468Z"
   },
   {
    "duration": 167,
    "start_time": "2025-01-11T15:10:37.189Z"
   },
   {
    "duration": 147,
    "start_time": "2025-01-11T15:10:45.154Z"
   },
   {
    "duration": 251,
    "start_time": "2025-01-11T15:11:05.554Z"
   },
   {
    "duration": 9,
    "start_time": "2025-01-11T15:12:26.191Z"
   },
   {
    "duration": 198,
    "start_time": "2025-01-11T15:17:17.049Z"
   },
   {
    "duration": 190,
    "start_time": "2025-01-11T15:17:24.866Z"
   },
   {
    "duration": 16,
    "start_time": "2025-01-11T15:45:15.546Z"
   },
   {
    "duration": 10,
    "start_time": "2025-01-11T15:45:29.359Z"
   },
   {
    "duration": 8,
    "start_time": "2025-01-11T15:46:12.617Z"
   },
   {
    "duration": 100,
    "start_time": "2025-01-11T15:47:06.228Z"
   },
   {
    "duration": 9,
    "start_time": "2025-01-11T15:47:10.331Z"
   },
   {
    "duration": 13,
    "start_time": "2025-01-11T15:47:21.012Z"
   },
   {
    "duration": 5,
    "start_time": "2025-01-11T15:47:23.997Z"
   },
   {
    "duration": 11,
    "start_time": "2025-01-11T15:52:37.748Z"
   },
   {
    "duration": 5,
    "start_time": "2025-01-11T15:52:59.871Z"
   },
   {
    "duration": 1356,
    "start_time": "2025-01-11T17:11:05.004Z"
   },
   {
    "duration": 2444,
    "start_time": "2025-01-11T17:11:06.362Z"
   },
   {
    "duration": 27,
    "start_time": "2025-01-11T17:11:08.807Z"
   },
   {
    "duration": 25,
    "start_time": "2025-01-11T17:11:08.836Z"
   },
   {
    "duration": 124,
    "start_time": "2025-01-11T17:11:08.862Z"
   },
   {
    "duration": 8,
    "start_time": "2025-01-11T17:11:08.987Z"
   },
   {
    "duration": 27,
    "start_time": "2025-01-11T17:11:08.997Z"
   },
   {
    "duration": 11,
    "start_time": "2025-01-11T17:11:09.026Z"
   },
   {
    "duration": 20,
    "start_time": "2025-01-11T17:11:09.039Z"
   },
   {
    "duration": 11,
    "start_time": "2025-01-11T17:11:09.062Z"
   },
   {
    "duration": 16,
    "start_time": "2025-01-11T17:11:09.075Z"
   },
   {
    "duration": 31,
    "start_time": "2025-01-11T17:11:09.093Z"
   },
   {
    "duration": 114,
    "start_time": "2025-01-11T17:11:09.131Z"
   },
   {
    "duration": 24,
    "start_time": "2025-01-11T17:11:09.246Z"
   },
   {
    "duration": 105,
    "start_time": "2025-01-11T17:11:09.272Z"
   },
   {
    "duration": 14,
    "start_time": "2025-01-11T17:11:09.379Z"
   },
   {
    "duration": 12,
    "start_time": "2025-01-11T17:11:09.396Z"
   },
   {
    "duration": 53,
    "start_time": "2025-01-11T17:11:09.410Z"
   },
   {
    "duration": 2694,
    "start_time": "2025-01-11T17:11:09.465Z"
   },
   {
    "duration": 1137,
    "start_time": "2025-01-11T17:11:12.162Z"
   },
   {
    "duration": 542,
    "start_time": "2025-01-11T17:11:13.301Z"
   },
   {
    "duration": 17,
    "start_time": "2025-01-11T17:11:13.844Z"
   },
   {
    "duration": 299,
    "start_time": "2025-01-11T17:11:13.862Z"
   },
   {
    "duration": 36,
    "start_time": "2025-01-11T17:11:14.162Z"
   },
   {
    "duration": 41,
    "start_time": "2025-01-11T17:11:14.200Z"
   },
   {
    "duration": 36,
    "start_time": "2025-01-11T17:11:14.243Z"
   },
   {
    "duration": 55,
    "start_time": "2025-01-11T17:11:14.281Z"
   },
   {
    "duration": 40,
    "start_time": "2025-01-11T17:11:14.340Z"
   },
   {
    "duration": 10,
    "start_time": "2025-01-11T17:11:14.381Z"
   },
   {
    "duration": 227,
    "start_time": "2025-01-11T17:11:14.393Z"
   },
   {
    "duration": 16,
    "start_time": "2025-01-11T17:11:14.624Z"
   },
   {
    "duration": 167,
    "start_time": "2025-01-11T17:11:14.642Z"
   },
   {
    "duration": 60,
    "start_time": "2025-01-11T17:11:14.815Z"
   },
   {
    "duration": 398,
    "start_time": "2025-01-11T17:11:14.877Z"
   },
   {
    "duration": 158,
    "start_time": "2025-01-11T17:11:15.277Z"
   },
   {
    "duration": 23,
    "start_time": "2025-01-11T17:11:15.437Z"
   },
   {
    "duration": 15,
    "start_time": "2025-01-11T17:11:15.461Z"
   },
   {
    "duration": 84,
    "start_time": "2025-01-11T17:11:15.478Z"
   },
   {
    "duration": 81,
    "start_time": "2025-01-11T17:11:15.564Z"
   },
   {
    "duration": 77,
    "start_time": "2025-01-11T17:11:15.647Z"
   },
   {
    "duration": 531,
    "start_time": "2025-01-11T17:11:15.729Z"
   },
   {
    "duration": 118,
    "start_time": "2025-01-11T17:11:16.261Z"
   },
   {
    "duration": 50,
    "start_time": "2025-01-11T17:11:16.381Z"
   },
   {
    "duration": 17,
    "start_time": "2025-01-11T17:11:16.433Z"
   },
   {
    "duration": 11,
    "start_time": "2025-01-11T17:11:16.452Z"
   },
   {
    "duration": 24,
    "start_time": "2025-01-11T17:11:16.464Z"
   },
   {
    "duration": 211,
    "start_time": "2025-01-11T17:11:16.490Z"
   },
   {
    "duration": 77,
    "start_time": "2025-01-11T17:11:16.703Z"
   },
   {
    "duration": 7,
    "start_time": "2025-01-11T17:11:16.782Z"
   },
   {
    "duration": 100,
    "start_time": "2025-01-11T17:11:16.791Z"
   },
   {
    "duration": 41,
    "start_time": "2025-01-11T17:11:16.892Z"
   },
   {
    "duration": 5,
    "start_time": "2025-01-11T17:11:16.935Z"
   },
   {
    "duration": 126,
    "start_time": "2025-01-11T17:11:16.942Z"
   },
   {
    "duration": 324,
    "start_time": "2025-01-11T17:11:17.070Z"
   },
   {
    "duration": 327,
    "start_time": "2025-01-11T17:11:17.396Z"
   },
   {
    "duration": 100,
    "start_time": "2025-01-11T17:11:17.728Z"
   },
   {
    "duration": 59,
    "start_time": "2025-01-11T17:11:17.830Z"
   },
   {
    "duration": 88,
    "start_time": "2025-01-11T17:11:17.891Z"
   },
   {
    "duration": 67,
    "start_time": "2025-01-11T17:11:17.981Z"
   },
   {
    "duration": 24,
    "start_time": "2025-01-11T17:11:18.049Z"
   },
   {
    "duration": 7,
    "start_time": "2025-01-11T17:11:18.075Z"
   },
   {
    "duration": 68,
    "start_time": "2025-01-11T17:11:18.083Z"
   },
   {
    "duration": 27,
    "start_time": "2025-01-11T17:11:18.154Z"
   },
   {
    "duration": 10,
    "start_time": "2025-01-11T17:11:18.183Z"
   },
   {
    "duration": 210,
    "start_time": "2025-01-11T17:11:18.195Z"
   },
   {
    "duration": 188,
    "start_time": "2025-01-11T17:11:18.407Z"
   },
   {
    "duration": 5,
    "start_time": "2025-01-11T17:11:18.597Z"
   },
   {
    "duration": 30,
    "start_time": "2025-01-11T17:11:18.604Z"
   },
   {
    "duration": 57,
    "start_time": "2025-01-11T17:11:18.635Z"
   },
   {
    "duration": 54,
    "start_time": "2025-01-11T17:11:18.695Z"
   },
   {
    "duration": 36,
    "start_time": "2025-01-11T17:11:18.751Z"
   },
   {
    "duration": 28,
    "start_time": "2025-01-11T17:11:18.789Z"
   },
   {
    "duration": 11,
    "start_time": "2025-01-11T17:11:18.821Z"
   },
   {
    "duration": 17,
    "start_time": "2025-01-11T17:11:18.834Z"
   },
   {
    "duration": 112,
    "start_time": "2025-01-11T17:11:18.853Z"
   },
   {
    "duration": 119,
    "start_time": "2025-01-11T17:11:18.967Z"
   },
   {
    "duration": 16,
    "start_time": "2025-01-11T17:11:19.088Z"
   },
   {
    "duration": 15,
    "start_time": "2025-01-11T17:11:19.118Z"
   },
   {
    "duration": 29,
    "start_time": "2025-01-11T17:11:19.135Z"
   },
   {
    "duration": 14,
    "start_time": "2025-01-11T17:11:19.165Z"
   },
   {
    "duration": 9,
    "start_time": "2025-01-11T17:11:19.181Z"
   },
   {
    "duration": 9,
    "start_time": "2025-01-11T17:11:19.195Z"
   },
   {
    "duration": 190,
    "start_time": "2025-01-11T17:11:19.216Z"
   },
   {
    "duration": 81,
    "start_time": "2025-01-11T17:11:56.412Z"
   },
   {
    "duration": 87,
    "start_time": "2025-01-11T17:12:01.840Z"
   },
   {
    "duration": 114,
    "start_time": "2025-01-11T17:24:58.118Z"
   },
   {
    "duration": 10,
    "start_time": "2025-01-11T17:25:02.061Z"
   },
   {
    "duration": 13,
    "start_time": "2025-01-11T17:25:08.026Z"
   },
   {
    "duration": 13,
    "start_time": "2025-01-11T17:26:05.985Z"
   },
   {
    "duration": 13,
    "start_time": "2025-01-11T17:27:37.767Z"
   },
   {
    "duration": 1308,
    "start_time": "2025-01-11T19:02:27.941Z"
   },
   {
    "duration": 2307,
    "start_time": "2025-01-11T19:02:29.253Z"
   },
   {
    "duration": 13,
    "start_time": "2025-01-11T19:02:31.562Z"
   },
   {
    "duration": 76,
    "start_time": "2025-01-11T19:02:31.576Z"
   },
   {
    "duration": 148,
    "start_time": "2025-01-11T19:02:31.654Z"
   },
   {
    "duration": 21,
    "start_time": "2025-01-11T19:02:31.804Z"
   },
   {
    "duration": 60,
    "start_time": "2025-01-11T19:02:31.828Z"
   },
   {
    "duration": 9,
    "start_time": "2025-01-11T19:02:31.890Z"
   },
   {
    "duration": 25,
    "start_time": "2025-01-11T19:02:31.901Z"
   },
   {
    "duration": 31,
    "start_time": "2025-01-11T19:02:31.931Z"
   },
   {
    "duration": 14,
    "start_time": "2025-01-11T19:02:31.964Z"
   },
   {
    "duration": 14,
    "start_time": "2025-01-11T19:02:31.979Z"
   },
   {
    "duration": 108,
    "start_time": "2025-01-11T19:02:31.995Z"
   },
   {
    "duration": 42,
    "start_time": "2025-01-11T19:02:32.105Z"
   },
   {
    "duration": 22,
    "start_time": "2025-01-11T19:02:32.149Z"
   },
   {
    "duration": 14,
    "start_time": "2025-01-11T19:02:32.173Z"
   },
   {
    "duration": 13,
    "start_time": "2025-01-11T19:02:32.217Z"
   },
   {
    "duration": 54,
    "start_time": "2025-01-11T19:02:32.232Z"
   },
   {
    "duration": 2647,
    "start_time": "2025-01-11T19:02:32.288Z"
   },
   {
    "duration": 1053,
    "start_time": "2025-01-11T19:02:34.937Z"
   },
   {
    "duration": 578,
    "start_time": "2025-01-11T19:02:35.992Z"
   },
   {
    "duration": 19,
    "start_time": "2025-01-11T19:02:36.572Z"
   },
   {
    "duration": 342,
    "start_time": "2025-01-11T19:02:36.618Z"
   },
   {
    "duration": 35,
    "start_time": "2025-01-11T19:02:36.962Z"
   },
   {
    "duration": 28,
    "start_time": "2025-01-11T19:02:37.019Z"
   },
   {
    "duration": 87,
    "start_time": "2025-01-11T19:02:37.048Z"
   },
   {
    "duration": 40,
    "start_time": "2025-01-11T19:02:37.141Z"
   },
   {
    "duration": 90,
    "start_time": "2025-01-11T19:02:37.183Z"
   },
   {
    "duration": 32,
    "start_time": "2025-01-11T19:02:37.274Z"
   },
   {
    "duration": 201,
    "start_time": "2025-01-11T19:02:37.308Z"
   },
   {
    "duration": 19,
    "start_time": "2025-01-11T19:02:37.515Z"
   },
   {
    "duration": 192,
    "start_time": "2025-01-11T19:02:37.536Z"
   },
   {
    "duration": 57,
    "start_time": "2025-01-11T19:02:37.732Z"
   },
   {
    "duration": 402,
    "start_time": "2025-01-11T19:02:37.791Z"
   },
   {
    "duration": 157,
    "start_time": "2025-01-11T19:02:38.195Z"
   },
   {
    "duration": 23,
    "start_time": "2025-01-11T19:02:38.354Z"
   },
   {
    "duration": 95,
    "start_time": "2025-01-11T19:02:38.379Z"
   },
   {
    "duration": 59,
    "start_time": "2025-01-11T19:02:38.476Z"
   },
   {
    "duration": 87,
    "start_time": "2025-01-11T19:02:38.537Z"
   },
   {
    "duration": 69,
    "start_time": "2025-01-11T19:02:38.626Z"
   },
   {
    "duration": 525,
    "start_time": "2025-01-11T19:02:38.697Z"
   },
   {
    "duration": 119,
    "start_time": "2025-01-11T19:02:39.229Z"
   },
   {
    "duration": 33,
    "start_time": "2025-01-11T19:02:39.350Z"
   },
   {
    "duration": 48,
    "start_time": "2025-01-11T19:02:39.384Z"
   },
   {
    "duration": 6,
    "start_time": "2025-01-11T19:02:39.434Z"
   },
   {
    "duration": 14,
    "start_time": "2025-01-11T19:02:39.442Z"
   },
   {
    "duration": 209,
    "start_time": "2025-01-11T19:02:39.457Z"
   },
   {
    "duration": 72,
    "start_time": "2025-01-11T19:02:39.667Z"
   },
   {
    "duration": 4,
    "start_time": "2025-01-11T19:02:39.741Z"
   },
   {
    "duration": 203,
    "start_time": "2025-01-11T19:02:39.747Z"
   },
   {
    "duration": 27,
    "start_time": "2025-01-11T19:02:39.952Z"
   },
   {
    "duration": 6,
    "start_time": "2025-01-11T19:02:39.981Z"
   },
   {
    "duration": 143,
    "start_time": "2025-01-11T19:02:39.990Z"
   },
   {
    "duration": 322,
    "start_time": "2025-01-11T19:02:40.134Z"
   },
   {
    "duration": 327,
    "start_time": "2025-01-11T19:02:40.458Z"
   },
   {
    "duration": 109,
    "start_time": "2025-01-11T19:02:40.787Z"
   },
   {
    "duration": 57,
    "start_time": "2025-01-11T19:02:40.899Z"
   },
   {
    "duration": 105,
    "start_time": "2025-01-11T19:02:40.958Z"
   },
   {
    "duration": 76,
    "start_time": "2025-01-11T19:02:41.065Z"
   },
   {
    "duration": 26,
    "start_time": "2025-01-11T19:02:41.143Z"
   },
   {
    "duration": 7,
    "start_time": "2025-01-11T19:02:41.171Z"
   },
   {
    "duration": 91,
    "start_time": "2025-01-11T19:02:41.180Z"
   },
   {
    "duration": 30,
    "start_time": "2025-01-11T19:02:41.273Z"
   },
   {
    "duration": 30,
    "start_time": "2025-01-11T19:02:41.304Z"
   },
   {
    "duration": 246,
    "start_time": "2025-01-11T19:02:41.336Z"
   },
   {
    "duration": 201,
    "start_time": "2025-01-11T19:02:41.583Z"
   },
   {
    "duration": 5,
    "start_time": "2025-01-11T19:02:41.786Z"
   },
   {
    "duration": 84,
    "start_time": "2025-01-11T19:02:41.793Z"
   },
   {
    "duration": 74,
    "start_time": "2025-01-11T19:02:41.878Z"
   },
   {
    "duration": 38,
    "start_time": "2025-01-11T19:02:41.954Z"
   },
   {
    "duration": 6,
    "start_time": "2025-01-11T19:02:41.994Z"
   },
   {
    "duration": 44,
    "start_time": "2025-01-11T19:02:42.021Z"
   },
   {
    "duration": 10,
    "start_time": "2025-01-11T19:02:42.067Z"
   },
   {
    "duration": 6,
    "start_time": "2025-01-11T19:02:42.080Z"
   },
   {
    "duration": 119,
    "start_time": "2025-01-11T19:02:42.115Z"
   },
   {
    "duration": 129,
    "start_time": "2025-01-11T19:02:42.238Z"
   },
   {
    "duration": 18,
    "start_time": "2025-01-11T19:02:42.369Z"
   },
   {
    "duration": 94,
    "start_time": "2025-01-11T19:02:42.389Z"
   },
   {
    "duration": 27,
    "start_time": "2025-01-11T19:02:42.485Z"
   },
   {
    "duration": 16,
    "start_time": "2025-01-11T19:02:42.514Z"
   },
   {
    "duration": 9,
    "start_time": "2025-01-11T19:02:42.536Z"
   },
   {
    "duration": 9,
    "start_time": "2025-01-11T19:02:42.547Z"
   },
   {
    "duration": 205,
    "start_time": "2025-01-11T19:02:42.558Z"
   },
   {
    "duration": 1271,
    "start_time": "2025-01-12T06:53:31.952Z"
   },
   {
    "duration": 2963,
    "start_time": "2025-01-12T06:53:33.225Z"
   },
   {
    "duration": 14,
    "start_time": "2025-01-12T06:53:36.190Z"
   },
   {
    "duration": 48,
    "start_time": "2025-01-12T06:53:36.206Z"
   },
   {
    "duration": 139,
    "start_time": "2025-01-12T06:53:36.256Z"
   },
   {
    "duration": 9,
    "start_time": "2025-01-12T06:53:36.397Z"
   },
   {
    "duration": 28,
    "start_time": "2025-01-12T06:53:36.408Z"
   },
   {
    "duration": 53,
    "start_time": "2025-01-12T06:53:36.438Z"
   },
   {
    "duration": 12,
    "start_time": "2025-01-12T06:53:36.493Z"
   },
   {
    "duration": 18,
    "start_time": "2025-01-12T06:53:36.506Z"
   },
   {
    "duration": 25,
    "start_time": "2025-01-12T06:53:36.526Z"
   },
   {
    "duration": 37,
    "start_time": "2025-01-12T06:53:36.553Z"
   },
   {
    "duration": 105,
    "start_time": "2025-01-12T06:53:36.592Z"
   },
   {
    "duration": 26,
    "start_time": "2025-01-12T06:53:36.701Z"
   },
   {
    "duration": 39,
    "start_time": "2025-01-12T06:53:36.729Z"
   },
   {
    "duration": 20,
    "start_time": "2025-01-12T06:53:36.770Z"
   },
   {
    "duration": 10,
    "start_time": "2025-01-12T06:53:36.792Z"
   },
   {
    "duration": 65,
    "start_time": "2025-01-12T06:53:36.804Z"
   },
   {
    "duration": 3559,
    "start_time": "2025-01-12T06:53:36.870Z"
   },
   {
    "duration": 1001,
    "start_time": "2025-01-12T06:53:40.431Z"
   },
   {
    "duration": 577,
    "start_time": "2025-01-12T06:53:41.434Z"
   },
   {
    "duration": 18,
    "start_time": "2025-01-12T06:53:42.013Z"
   },
   {
    "duration": 299,
    "start_time": "2025-01-12T06:53:42.033Z"
   },
   {
    "duration": 45,
    "start_time": "2025-01-12T06:53:42.333Z"
   },
   {
    "duration": 19,
    "start_time": "2025-01-12T06:53:42.380Z"
   },
   {
    "duration": 58,
    "start_time": "2025-01-12T06:53:42.401Z"
   },
   {
    "duration": 41,
    "start_time": "2025-01-12T06:53:42.461Z"
   },
   {
    "duration": 59,
    "start_time": "2025-01-12T06:53:42.503Z"
   },
   {
    "duration": 11,
    "start_time": "2025-01-12T06:53:42.564Z"
   },
   {
    "duration": 217,
    "start_time": "2025-01-12T06:53:42.576Z"
   },
   {
    "duration": 12,
    "start_time": "2025-01-12T06:53:42.795Z"
   },
   {
    "duration": 206,
    "start_time": "2025-01-12T06:53:42.809Z"
   },
   {
    "duration": 68,
    "start_time": "2025-01-12T06:53:43.017Z"
   },
   {
    "duration": 379,
    "start_time": "2025-01-12T06:53:43.088Z"
   },
   {
    "duration": 153,
    "start_time": "2025-01-12T06:53:43.469Z"
   },
   {
    "duration": 38,
    "start_time": "2025-01-12T06:53:43.624Z"
   },
   {
    "duration": 15,
    "start_time": "2025-01-12T06:53:43.664Z"
   },
   {
    "duration": 56,
    "start_time": "2025-01-12T06:53:43.681Z"
   },
   {
    "duration": 86,
    "start_time": "2025-01-12T06:53:43.739Z"
   },
   {
    "duration": 85,
    "start_time": "2025-01-12T06:53:43.827Z"
   },
   {
    "duration": 543,
    "start_time": "2025-01-12T06:53:43.917Z"
   },
   {
    "duration": 133,
    "start_time": "2025-01-12T06:53:44.462Z"
   },
   {
    "duration": 34,
    "start_time": "2025-01-12T06:53:44.597Z"
   },
   {
    "duration": 33,
    "start_time": "2025-01-12T06:53:44.632Z"
   },
   {
    "duration": 11,
    "start_time": "2025-01-12T06:53:44.668Z"
   },
   {
    "duration": 24,
    "start_time": "2025-01-12T06:53:44.681Z"
   },
   {
    "duration": 215,
    "start_time": "2025-01-12T06:53:44.707Z"
   },
   {
    "duration": 70,
    "start_time": "2025-01-12T06:53:44.924Z"
   },
   {
    "duration": 5,
    "start_time": "2025-01-12T06:53:44.996Z"
   },
   {
    "duration": 122,
    "start_time": "2025-01-12T06:53:45.002Z"
   },
   {
    "duration": 35,
    "start_time": "2025-01-12T06:53:45.126Z"
   },
   {
    "duration": 39,
    "start_time": "2025-01-12T06:53:45.163Z"
   },
   {
    "duration": 145,
    "start_time": "2025-01-12T06:53:45.204Z"
   },
   {
    "duration": 322,
    "start_time": "2025-01-12T06:53:45.351Z"
   },
   {
    "duration": 315,
    "start_time": "2025-01-12T06:53:45.675Z"
   },
   {
    "duration": 98,
    "start_time": "2025-01-12T06:53:45.991Z"
   },
   {
    "duration": 47,
    "start_time": "2025-01-12T06:53:46.091Z"
   },
   {
    "duration": 95,
    "start_time": "2025-01-12T06:53:46.140Z"
   },
   {
    "duration": 68,
    "start_time": "2025-01-12T06:53:46.236Z"
   },
   {
    "duration": 23,
    "start_time": "2025-01-12T06:53:46.306Z"
   },
   {
    "duration": 5,
    "start_time": "2025-01-12T06:53:46.330Z"
   },
   {
    "duration": 54,
    "start_time": "2025-01-12T06:53:46.337Z"
   },
   {
    "duration": 26,
    "start_time": "2025-01-12T06:53:46.393Z"
   },
   {
    "duration": 9,
    "start_time": "2025-01-12T06:53:46.421Z"
   },
   {
    "duration": 221,
    "start_time": "2025-01-12T06:53:46.432Z"
   },
   {
    "duration": 187,
    "start_time": "2025-01-12T06:53:46.655Z"
   },
   {
    "duration": 5,
    "start_time": "2025-01-12T06:53:46.844Z"
   },
   {
    "duration": 25,
    "start_time": "2025-01-12T06:53:46.850Z"
   },
   {
    "duration": 71,
    "start_time": "2025-01-12T06:53:46.876Z"
   },
   {
    "duration": 39,
    "start_time": "2025-01-12T06:53:46.959Z"
   },
   {
    "duration": 4,
    "start_time": "2025-01-12T06:53:47.000Z"
   },
   {
    "duration": 28,
    "start_time": "2025-01-12T06:53:47.006Z"
   },
   {
    "duration": 31,
    "start_time": "2025-01-12T06:53:47.036Z"
   },
   {
    "duration": 6,
    "start_time": "2025-01-12T06:53:47.068Z"
   },
   {
    "duration": 124,
    "start_time": "2025-01-12T06:53:47.076Z"
   },
   {
    "duration": 130,
    "start_time": "2025-01-12T06:53:47.202Z"
   },
   {
    "duration": 28,
    "start_time": "2025-01-12T06:53:47.333Z"
   },
   {
    "duration": 12,
    "start_time": "2025-01-12T06:53:47.363Z"
   },
   {
    "duration": 11,
    "start_time": "2025-01-12T06:53:47.376Z"
   },
   {
    "duration": 5,
    "start_time": "2025-01-12T06:53:47.389Z"
   },
   {
    "duration": 6,
    "start_time": "2025-01-12T06:53:47.396Z"
   },
   {
    "duration": 11,
    "start_time": "2025-01-12T06:53:47.404Z"
   },
   {
    "duration": 193,
    "start_time": "2025-01-12T06:53:47.459Z"
   },
   {
    "duration": 1445,
    "start_time": "2025-01-12T14:02:21.563Z"
   },
   {
    "duration": 1842,
    "start_time": "2025-01-12T14:02:23.010Z"
   },
   {
    "duration": 11,
    "start_time": "2025-01-12T14:02:24.854Z"
   },
   {
    "duration": 29,
    "start_time": "2025-01-12T14:02:24.867Z"
   },
   {
    "duration": 100,
    "start_time": "2025-01-12T14:02:24.897Z"
   },
   {
    "duration": 9,
    "start_time": "2025-01-12T14:02:24.999Z"
   },
   {
    "duration": 19,
    "start_time": "2025-01-12T14:02:25.010Z"
   },
   {
    "duration": 12,
    "start_time": "2025-01-12T14:02:25.030Z"
   },
   {
    "duration": 23,
    "start_time": "2025-01-12T14:02:25.044Z"
   },
   {
    "duration": 34,
    "start_time": "2025-01-12T14:02:25.069Z"
   },
   {
    "duration": 37,
    "start_time": "2025-01-12T14:02:25.105Z"
   },
   {
    "duration": 32,
    "start_time": "2025-01-12T14:02:25.143Z"
   },
   {
    "duration": 90,
    "start_time": "2025-01-12T14:02:25.176Z"
   },
   {
    "duration": 19,
    "start_time": "2025-01-12T14:02:25.268Z"
   },
   {
    "duration": 33,
    "start_time": "2025-01-12T14:02:25.289Z"
   },
   {
    "duration": 20,
    "start_time": "2025-01-12T14:02:25.324Z"
   },
   {
    "duration": 25,
    "start_time": "2025-01-12T14:02:25.345Z"
   },
   {
    "duration": 47,
    "start_time": "2025-01-12T14:02:25.371Z"
   },
   {
    "duration": 3849,
    "start_time": "2025-01-12T14:02:25.419Z"
   },
   {
    "duration": 905,
    "start_time": "2025-01-12T14:02:29.270Z"
   },
   {
    "duration": 503,
    "start_time": "2025-01-12T14:02:30.177Z"
   },
   {
    "duration": 15,
    "start_time": "2025-01-12T14:02:30.686Z"
   },
   {
    "duration": 256,
    "start_time": "2025-01-12T14:02:30.703Z"
   },
   {
    "duration": 40,
    "start_time": "2025-01-12T14:02:30.961Z"
   },
   {
    "duration": 16,
    "start_time": "2025-01-12T14:02:31.002Z"
   },
   {
    "duration": 44,
    "start_time": "2025-01-12T14:02:31.019Z"
   },
   {
    "duration": 41,
    "start_time": "2025-01-12T14:02:31.065Z"
   },
   {
    "duration": 38,
    "start_time": "2025-01-12T14:02:31.110Z"
   },
   {
    "duration": 9,
    "start_time": "2025-01-12T14:02:31.150Z"
   },
   {
    "duration": 192,
    "start_time": "2025-01-12T14:02:31.160Z"
   },
   {
    "duration": 10,
    "start_time": "2025-01-12T14:02:31.354Z"
   },
   {
    "duration": 141,
    "start_time": "2025-01-12T14:02:31.365Z"
   },
   {
    "duration": 48,
    "start_time": "2025-01-12T14:02:31.507Z"
   },
   {
    "duration": 338,
    "start_time": "2025-01-12T14:02:31.556Z"
   },
   {
    "duration": 112,
    "start_time": "2025-01-12T14:02:31.895Z"
   },
   {
    "duration": 18,
    "start_time": "2025-01-12T14:02:32.008Z"
   },
   {
    "duration": 44,
    "start_time": "2025-01-12T14:02:32.028Z"
   },
   {
    "duration": 43,
    "start_time": "2025-01-12T14:02:32.074Z"
   },
   {
    "duration": 55,
    "start_time": "2025-01-12T14:02:32.119Z"
   },
   {
    "duration": 64,
    "start_time": "2025-01-12T14:02:32.175Z"
   },
   {
    "duration": 501,
    "start_time": "2025-01-12T14:02:32.240Z"
   },
   {
    "duration": 93,
    "start_time": "2025-01-12T14:02:32.742Z"
   },
   {
    "duration": 29,
    "start_time": "2025-01-12T14:02:32.836Z"
   },
   {
    "duration": 28,
    "start_time": "2025-01-12T14:02:32.866Z"
   },
   {
    "duration": 5,
    "start_time": "2025-01-12T14:02:32.896Z"
   },
   {
    "duration": 30,
    "start_time": "2025-01-12T14:02:32.903Z"
   },
   {
    "duration": 165,
    "start_time": "2025-01-12T14:02:32.934Z"
   },
   {
    "duration": 54,
    "start_time": "2025-01-12T14:02:33.101Z"
   },
   {
    "duration": 7,
    "start_time": "2025-01-12T14:02:33.157Z"
   },
   {
    "duration": 80,
    "start_time": "2025-01-12T14:02:33.165Z"
   },
   {
    "duration": 21,
    "start_time": "2025-01-12T14:02:33.246Z"
   },
   {
    "duration": 18,
    "start_time": "2025-01-12T14:02:33.269Z"
   },
   {
    "duration": 90,
    "start_time": "2025-01-12T14:02:33.288Z"
   },
   {
    "duration": 241,
    "start_time": "2025-01-12T14:02:33.387Z"
   },
   {
    "duration": 247,
    "start_time": "2025-01-12T14:02:33.630Z"
   },
   {
    "duration": 82,
    "start_time": "2025-01-12T14:02:33.878Z"
   },
   {
    "duration": 46,
    "start_time": "2025-01-12T14:02:33.961Z"
   },
   {
    "duration": 79,
    "start_time": "2025-01-12T14:02:34.008Z"
   },
   {
    "duration": 52,
    "start_time": "2025-01-12T14:02:34.088Z"
   },
   {
    "duration": 17,
    "start_time": "2025-01-12T14:02:34.142Z"
   },
   {
    "duration": 5,
    "start_time": "2025-01-12T14:02:34.161Z"
   },
   {
    "duration": 50,
    "start_time": "2025-01-12T14:02:34.167Z"
   },
   {
    "duration": 21,
    "start_time": "2025-01-12T14:02:34.218Z"
   },
   {
    "duration": 8,
    "start_time": "2025-01-12T14:02:34.240Z"
   },
   {
    "duration": 196,
    "start_time": "2025-01-12T14:02:34.250Z"
   },
   {
    "duration": 168,
    "start_time": "2025-01-12T14:02:34.447Z"
   },
   {
    "duration": 4,
    "start_time": "2025-01-12T14:02:34.617Z"
   },
   {
    "duration": 39,
    "start_time": "2025-01-12T14:02:34.622Z"
   },
   {
    "duration": 77,
    "start_time": "2025-01-12T14:02:34.663Z"
   },
   {
    "duration": 39,
    "start_time": "2025-01-12T14:02:34.741Z"
   },
   {
    "duration": 6,
    "start_time": "2025-01-12T14:02:34.782Z"
   },
   {
    "duration": 30,
    "start_time": "2025-01-12T14:02:34.790Z"
   },
   {
    "duration": 6,
    "start_time": "2025-01-12T14:02:34.821Z"
   },
   {
    "duration": 20,
    "start_time": "2025-01-12T14:02:34.829Z"
   },
   {
    "duration": 93,
    "start_time": "2025-01-12T14:02:34.850Z"
   },
   {
    "duration": 109,
    "start_time": "2025-01-12T14:02:34.945Z"
   },
   {
    "duration": 15,
    "start_time": "2025-01-12T14:02:35.055Z"
   },
   {
    "duration": 107,
    "start_time": "2025-01-12T14:02:35.071Z"
   },
   {
    "duration": 21,
    "start_time": "2025-01-12T14:02:35.180Z"
   },
   {
    "duration": 25,
    "start_time": "2025-01-12T14:02:35.203Z"
   },
   {
    "duration": 13,
    "start_time": "2025-01-12T14:02:35.229Z"
   },
   {
    "duration": 18,
    "start_time": "2025-01-12T14:02:35.247Z"
   },
   {
    "duration": 176,
    "start_time": "2025-01-12T14:02:35.266Z"
   },
   {
    "duration": 1191,
    "start_time": "2025-04-20T12:59:01.385Z"
   },
   {
    "duration": 2298,
    "start_time": "2025-04-20T12:59:02.578Z"
   },
   {
    "duration": 11,
    "start_time": "2025-04-20T12:59:04.878Z"
   },
   {
    "duration": 33,
    "start_time": "2025-04-20T12:59:04.891Z"
   },
   {
    "duration": 97,
    "start_time": "2025-04-20T12:59:04.925Z"
   },
   {
    "duration": 13,
    "start_time": "2025-04-20T12:59:05.024Z"
   },
   {
    "duration": 20,
    "start_time": "2025-04-20T12:59:05.038Z"
   },
   {
    "duration": 16,
    "start_time": "2025-04-20T12:59:05.059Z"
   },
   {
    "duration": 15,
    "start_time": "2025-04-20T12:59:05.076Z"
   },
   {
    "duration": 14,
    "start_time": "2025-04-20T12:59:05.094Z"
   },
   {
    "duration": 21,
    "start_time": "2025-04-20T12:59:05.109Z"
   },
   {
    "duration": 11,
    "start_time": "2025-04-20T12:59:05.131Z"
   },
   {
    "duration": 98,
    "start_time": "2025-04-20T12:59:05.143Z"
   },
   {
    "duration": 23,
    "start_time": "2025-04-20T12:59:05.243Z"
   },
   {
    "duration": 18,
    "start_time": "2025-04-20T12:59:05.267Z"
   },
   {
    "duration": 30,
    "start_time": "2025-04-20T12:59:05.287Z"
   },
   {
    "duration": 17,
    "start_time": "2025-04-20T12:59:05.319Z"
   },
   {
    "duration": 39,
    "start_time": "2025-04-20T12:59:05.337Z"
   },
   {
    "duration": 2902,
    "start_time": "2025-04-20T12:59:05.377Z"
   },
   {
    "duration": 922,
    "start_time": "2025-04-20T12:59:08.281Z"
   },
   {
    "duration": 513,
    "start_time": "2025-04-20T12:59:09.205Z"
   },
   {
    "duration": 24,
    "start_time": "2025-04-20T12:59:09.719Z"
   },
   {
    "duration": 256,
    "start_time": "2025-04-20T12:59:09.745Z"
   },
   {
    "duration": 40,
    "start_time": "2025-04-20T12:59:10.003Z"
   },
   {
    "duration": 16,
    "start_time": "2025-04-20T12:59:10.044Z"
   },
   {
    "duration": 36,
    "start_time": "2025-04-20T12:59:10.061Z"
   },
   {
    "duration": 50,
    "start_time": "2025-04-20T12:59:10.099Z"
   },
   {
    "duration": 35,
    "start_time": "2025-04-20T12:59:10.153Z"
   },
   {
    "duration": 11,
    "start_time": "2025-04-20T12:59:10.189Z"
   },
   {
    "duration": 192,
    "start_time": "2025-04-20T12:59:10.201Z"
   },
   {
    "duration": 10,
    "start_time": "2025-04-20T12:59:10.395Z"
   },
   {
    "duration": 199,
    "start_time": "2025-04-20T12:59:10.406Z"
   },
   {
    "duration": 63,
    "start_time": "2025-04-20T12:59:10.607Z"
   },
   {
    "duration": 347,
    "start_time": "2025-04-20T12:59:10.672Z"
   },
   {
    "duration": 133,
    "start_time": "2025-04-20T12:59:11.021Z"
   },
   {
    "duration": 22,
    "start_time": "2025-04-20T12:59:11.156Z"
   },
   {
    "duration": 13,
    "start_time": "2025-04-20T12:59:11.179Z"
   },
   {
    "duration": 73,
    "start_time": "2025-04-20T12:59:11.194Z"
   },
   {
    "duration": 72,
    "start_time": "2025-04-20T12:59:11.269Z"
   },
   {
    "duration": 63,
    "start_time": "2025-04-20T12:59:11.343Z"
   },
   {
    "duration": 474,
    "start_time": "2025-04-20T12:59:11.408Z"
   },
   {
    "duration": 124,
    "start_time": "2025-04-20T12:59:11.884Z"
   },
   {
    "duration": 44,
    "start_time": "2025-04-20T12:59:12.010Z"
   },
   {
    "duration": 14,
    "start_time": "2025-04-20T12:59:12.056Z"
   },
   {
    "duration": 16,
    "start_time": "2025-04-20T12:59:12.072Z"
   },
   {
    "duration": 15,
    "start_time": "2025-04-20T12:59:12.090Z"
   },
   {
    "duration": 196,
    "start_time": "2025-04-20T12:59:12.107Z"
   },
   {
    "duration": 63,
    "start_time": "2025-04-20T12:59:12.305Z"
   },
   {
    "duration": 79,
    "start_time": "2025-04-20T12:59:12.370Z"
   },
   {
    "duration": 80,
    "start_time": "2025-04-20T12:59:12.451Z"
   },
   {
    "duration": 23,
    "start_time": "2025-04-20T12:59:12.533Z"
   },
   {
    "duration": 6,
    "start_time": "2025-04-20T12:59:12.558Z"
   },
   {
    "duration": 119,
    "start_time": "2025-04-20T12:59:12.565Z"
   },
   {
    "duration": 268,
    "start_time": "2025-04-20T12:59:12.685Z"
   },
   {
    "duration": 265,
    "start_time": "2025-04-20T12:59:12.954Z"
   },
   {
    "duration": 83,
    "start_time": "2025-04-20T12:59:13.221Z"
   },
   {
    "duration": 52,
    "start_time": "2025-04-20T12:59:13.306Z"
   },
   {
    "duration": 76,
    "start_time": "2025-04-20T12:59:13.360Z"
   },
   {
    "duration": 49,
    "start_time": "2025-04-20T12:59:13.438Z"
   },
   {
    "duration": 21,
    "start_time": "2025-04-20T12:59:13.488Z"
   },
   {
    "duration": 93,
    "start_time": "2025-04-20T12:59:13.511Z"
   },
   {
    "duration": 35,
    "start_time": "2025-04-20T12:59:13.606Z"
   },
   {
    "duration": 23,
    "start_time": "2025-04-20T12:59:13.643Z"
   },
   {
    "duration": 8,
    "start_time": "2025-04-20T12:59:13.668Z"
   },
   {
    "duration": 174,
    "start_time": "2025-04-20T12:59:13.678Z"
   },
   {
    "duration": 170,
    "start_time": "2025-04-20T12:59:13.853Z"
   },
   {
    "duration": 5,
    "start_time": "2025-04-20T12:59:14.025Z"
   },
   {
    "duration": 14,
    "start_time": "2025-04-20T12:59:14.035Z"
   },
   {
    "duration": 55,
    "start_time": "2025-04-20T12:59:14.050Z"
   },
   {
    "duration": 67,
    "start_time": "2025-04-20T12:59:14.107Z"
   },
   {
    "duration": 7,
    "start_time": "2025-04-20T12:59:14.176Z"
   },
   {
    "duration": 33,
    "start_time": "2025-04-20T12:59:14.185Z"
   },
   {
    "duration": 20,
    "start_time": "2025-04-20T12:59:14.220Z"
   },
   {
    "duration": 5,
    "start_time": "2025-04-20T12:59:14.241Z"
   },
   {
    "duration": 224,
    "start_time": "2025-04-20T12:59:14.248Z"
   },
   {
    "duration": 96,
    "start_time": "2025-04-20T12:59:14.474Z"
   },
   {
    "duration": 14,
    "start_time": "2025-04-20T12:59:14.572Z"
   },
   {
    "duration": 11,
    "start_time": "2025-04-20T12:59:14.588Z"
   },
   {
    "duration": 8,
    "start_time": "2025-04-20T12:59:14.601Z"
   },
   {
    "duration": 26,
    "start_time": "2025-04-20T12:59:14.610Z"
   },
   {
    "duration": 14,
    "start_time": "2025-04-20T12:59:14.638Z"
   },
   {
    "duration": 8,
    "start_time": "2025-04-20T12:59:14.657Z"
   },
   {
    "duration": 171,
    "start_time": "2025-04-20T12:59:14.666Z"
   },
   {
    "duration": 157,
    "start_time": "2025-04-20T13:01:46.996Z"
   },
   {
    "duration": 1131,
    "start_time": "2025-04-20T13:06:46.814Z"
   },
   {
    "duration": 2025,
    "start_time": "2025-04-20T13:06:47.947Z"
   },
   {
    "duration": 11,
    "start_time": "2025-04-20T13:06:49.974Z"
   },
   {
    "duration": 22,
    "start_time": "2025-04-20T13:06:49.988Z"
   },
   {
    "duration": 112,
    "start_time": "2025-04-20T13:06:50.012Z"
   },
   {
    "duration": 16,
    "start_time": "2025-04-20T13:06:50.126Z"
   },
   {
    "duration": 7,
    "start_time": "2025-04-20T13:06:50.144Z"
   },
   {
    "duration": 6,
    "start_time": "2025-04-20T13:06:50.152Z"
   },
   {
    "duration": 8,
    "start_time": "2025-04-20T13:06:50.160Z"
   },
   {
    "duration": 5,
    "start_time": "2025-04-20T13:06:50.171Z"
   },
   {
    "duration": 8,
    "start_time": "2025-04-20T13:06:50.178Z"
   },
   {
    "duration": 50,
    "start_time": "2025-04-20T13:06:50.188Z"
   },
   {
    "duration": 99,
    "start_time": "2025-04-20T13:06:50.239Z"
   },
   {
    "duration": 21,
    "start_time": "2025-04-20T13:06:50.339Z"
   },
   {
    "duration": 44,
    "start_time": "2025-04-20T13:06:50.362Z"
   },
   {
    "duration": 83,
    "start_time": "2025-04-20T13:06:50.407Z"
   },
   {
    "duration": 9,
    "start_time": "2025-04-20T13:06:50.491Z"
   },
   {
    "duration": 36,
    "start_time": "2025-04-20T13:06:50.502Z"
   },
   {
    "duration": 2328,
    "start_time": "2025-04-20T13:06:50.540Z"
   },
   {
    "duration": 934,
    "start_time": "2025-04-20T13:06:52.870Z"
   },
   {
    "duration": 518,
    "start_time": "2025-04-20T13:06:53.806Z"
   },
   {
    "duration": 21,
    "start_time": "2025-04-20T13:06:54.326Z"
   },
   {
    "duration": 278,
    "start_time": "2025-04-20T13:06:54.348Z"
   },
   {
    "duration": 37,
    "start_time": "2025-04-20T13:06:54.628Z"
   },
   {
    "duration": 16,
    "start_time": "2025-04-20T13:06:54.667Z"
   },
   {
    "duration": 61,
    "start_time": "2025-04-20T13:06:54.685Z"
   },
   {
    "duration": 36,
    "start_time": "2025-04-20T13:06:54.748Z"
   },
   {
    "duration": 53,
    "start_time": "2025-04-20T13:06:54.789Z"
   },
   {
    "duration": 9,
    "start_time": "2025-04-20T13:06:54.844Z"
   },
   {
    "duration": 190,
    "start_time": "2025-04-20T13:06:54.855Z"
   },
   {
    "duration": 11,
    "start_time": "2025-04-20T13:06:55.047Z"
   },
   {
    "duration": 156,
    "start_time": "2025-04-20T13:06:55.060Z"
   },
   {
    "duration": 61,
    "start_time": "2025-04-20T13:06:55.219Z"
   },
   {
    "duration": 342,
    "start_time": "2025-04-20T13:06:55.282Z"
   },
   {
    "duration": 130,
    "start_time": "2025-04-20T13:06:55.635Z"
   },
   {
    "duration": 21,
    "start_time": "2025-04-20T13:06:55.766Z"
   },
   {
    "duration": 12,
    "start_time": "2025-04-20T13:06:55.788Z"
   },
   {
    "duration": 70,
    "start_time": "2025-04-20T13:06:55.802Z"
   },
   {
    "duration": 72,
    "start_time": "2025-04-20T13:06:55.874Z"
   },
   {
    "duration": 64,
    "start_time": "2025-04-20T13:06:55.948Z"
   },
   {
    "duration": 450,
    "start_time": "2025-04-20T13:06:56.014Z"
   },
   {
    "duration": 116,
    "start_time": "2025-04-20T13:06:56.466Z"
   },
   {
    "duration": 28,
    "start_time": "2025-04-20T13:06:56.583Z"
   },
   {
    "duration": 24,
    "start_time": "2025-04-20T13:06:56.613Z"
   },
   {
    "duration": 5,
    "start_time": "2025-04-20T13:06:56.639Z"
   },
   {
    "duration": 12,
    "start_time": "2025-04-20T13:06:56.645Z"
   },
   {
    "duration": 170,
    "start_time": "2025-04-20T13:06:56.658Z"
   },
   {
    "duration": 61,
    "start_time": "2025-04-20T13:06:56.829Z"
   },
   {
    "duration": 4,
    "start_time": "2025-04-20T13:06:56.891Z"
   },
   {
    "duration": 95,
    "start_time": "2025-04-20T13:06:56.896Z"
   },
   {
    "duration": 22,
    "start_time": "2025-04-20T13:06:56.992Z"
   },
   {
    "duration": 6,
    "start_time": "2025-04-20T13:06:57.015Z"
   },
   {
    "duration": 114,
    "start_time": "2025-04-20T13:06:57.022Z"
   },
   {
    "duration": 268,
    "start_time": "2025-04-20T13:06:57.138Z"
   },
   {
    "duration": 260,
    "start_time": "2025-04-20T13:06:57.408Z"
   },
   {
    "duration": 88,
    "start_time": "2025-04-20T13:06:57.670Z"
   },
   {
    "duration": 40,
    "start_time": "2025-04-20T13:06:57.760Z"
   },
   {
    "duration": 90,
    "start_time": "2025-04-20T13:06:57.802Z"
   },
   {
    "duration": 54,
    "start_time": "2025-04-20T13:06:57.894Z"
   },
   {
    "duration": 19,
    "start_time": "2025-04-20T13:06:57.949Z"
   },
   {
    "duration": 4,
    "start_time": "2025-04-20T13:06:57.970Z"
   },
   {
    "duration": 34,
    "start_time": "2025-04-20T13:06:57.975Z"
   },
   {
    "duration": 47,
    "start_time": "2025-04-20T13:06:58.010Z"
   },
   {
    "duration": 10,
    "start_time": "2025-04-20T13:06:58.059Z"
   },
   {
    "duration": 176,
    "start_time": "2025-04-20T13:06:58.071Z"
   },
   {
    "duration": 171,
    "start_time": "2025-04-20T13:06:58.248Z"
   },
   {
    "duration": 5,
    "start_time": "2025-04-20T13:06:58.421Z"
   },
   {
    "duration": 68,
    "start_time": "2025-04-20T13:06:58.436Z"
   },
   {
    "duration": 51,
    "start_time": "2025-04-20T13:06:58.506Z"
   },
   {
    "duration": 35,
    "start_time": "2025-04-20T13:06:58.559Z"
   },
   {
    "duration": 4,
    "start_time": "2025-04-20T13:06:58.596Z"
   },
   {
    "duration": 39,
    "start_time": "2025-04-20T13:06:58.602Z"
   },
   {
    "duration": 8,
    "start_time": "2025-04-20T13:06:58.643Z"
   },
   {
    "duration": 5,
    "start_time": "2025-04-20T13:06:58.652Z"
   },
   {
    "duration": 112,
    "start_time": "2025-04-20T13:06:58.659Z"
   },
   {
    "duration": 104,
    "start_time": "2025-04-20T13:06:58.773Z"
   },
   {
    "duration": 15,
    "start_time": "2025-04-20T13:06:58.879Z"
   },
   {
    "duration": 11,
    "start_time": "2025-04-20T13:06:58.896Z"
   },
   {
    "duration": 30,
    "start_time": "2025-04-20T13:06:58.908Z"
   },
   {
    "duration": 6,
    "start_time": "2025-04-20T13:06:58.940Z"
   },
   {
    "duration": 8,
    "start_time": "2025-04-20T13:06:58.948Z"
   },
   {
    "duration": 8,
    "start_time": "2025-04-20T13:06:58.962Z"
   },
   {
    "duration": 198,
    "start_time": "2025-04-20T13:06:58.971Z"
   },
   {
    "duration": 3475,
    "start_time": "2025-04-20T13:23:38.487Z"
   },
   {
    "duration": 1933,
    "start_time": "2025-04-20T13:23:41.965Z"
   },
   {
    "duration": 13,
    "start_time": "2025-04-20T13:23:43.899Z"
   },
   {
    "duration": 48,
    "start_time": "2025-04-20T13:23:43.914Z"
   },
   {
    "duration": 98,
    "start_time": "2025-04-20T13:23:43.963Z"
   },
   {
    "duration": 8,
    "start_time": "2025-04-20T13:23:44.062Z"
   },
   {
    "duration": 7,
    "start_time": "2025-04-20T13:23:44.072Z"
   },
   {
    "duration": 5,
    "start_time": "2025-04-20T13:23:44.080Z"
   },
   {
    "duration": 9,
    "start_time": "2025-04-20T13:23:44.087Z"
   },
   {
    "duration": 37,
    "start_time": "2025-04-20T13:23:44.100Z"
   },
   {
    "duration": 12,
    "start_time": "2025-04-20T13:23:44.139Z"
   },
   {
    "duration": 14,
    "start_time": "2025-04-20T13:23:44.153Z"
   },
   {
    "duration": 125,
    "start_time": "2025-04-20T13:23:44.169Z"
   },
   {
    "duration": 23,
    "start_time": "2025-04-20T13:23:44.296Z"
   },
   {
    "duration": 126,
    "start_time": "2025-04-20T13:23:44.320Z"
   },
   {
    "duration": 12,
    "start_time": "2025-04-20T13:23:44.447Z"
   },
   {
    "duration": 8,
    "start_time": "2025-04-20T13:23:44.460Z"
   },
   {
    "duration": 39,
    "start_time": "2025-04-20T13:23:44.470Z"
   },
   {
    "duration": 996,
    "start_time": "2025-04-20T13:23:44.510Z"
   },
   {
    "duration": 510,
    "start_time": "2025-04-20T13:23:45.508Z"
   },
   {
    "duration": 19,
    "start_time": "2025-04-20T13:23:46.019Z"
   },
   {
    "duration": 239,
    "start_time": "2025-04-20T13:23:46.040Z"
   },
   {
    "duration": 31,
    "start_time": "2025-04-20T13:23:46.281Z"
   },
   {
    "duration": 29,
    "start_time": "2025-04-20T13:23:46.313Z"
   },
   {
    "duration": 121,
    "start_time": "2025-04-20T13:23:46.343Z"
   },
   {
    "duration": 33,
    "start_time": "2025-04-20T13:23:46.465Z"
   },
   {
    "duration": 65,
    "start_time": "2025-04-20T13:23:46.500Z"
   },
   {
    "duration": 15,
    "start_time": "2025-04-20T13:23:46.569Z"
   },
   {
    "duration": 174,
    "start_time": "2025-04-20T13:23:46.585Z"
   },
   {
    "duration": 11,
    "start_time": "2025-04-20T13:23:46.760Z"
   },
   {
    "duration": 155,
    "start_time": "2025-04-20T13:23:46.773Z"
   },
   {
    "duration": 48,
    "start_time": "2025-04-20T13:23:46.935Z"
   },
   {
    "duration": 330,
    "start_time": "2025-04-20T13:23:46.984Z"
   },
   {
    "duration": 134,
    "start_time": "2025-04-20T13:23:47.316Z"
   },
   {
    "duration": 21,
    "start_time": "2025-04-20T13:23:47.451Z"
   },
   {
    "duration": 13,
    "start_time": "2025-04-20T13:23:47.474Z"
   },
   {
    "duration": 69,
    "start_time": "2025-04-20T13:23:47.489Z"
   },
   {
    "duration": 63,
    "start_time": "2025-04-20T13:23:47.559Z"
   },
   {
    "duration": 120,
    "start_time": "2025-04-20T13:23:47.624Z"
   },
   {
    "duration": 452,
    "start_time": "2025-04-20T13:23:47.745Z"
   },
   {
    "duration": 103,
    "start_time": "2025-04-20T13:23:48.199Z"
   },
   {
    "duration": 38,
    "start_time": "2025-04-20T13:23:48.304Z"
   },
   {
    "duration": 106,
    "start_time": "2025-04-20T13:23:48.343Z"
   },
   {
    "duration": 5,
    "start_time": "2025-04-20T13:23:48.451Z"
   },
   {
    "duration": 12,
    "start_time": "2025-04-20T13:23:48.458Z"
   },
   {
    "duration": 168,
    "start_time": "2025-04-20T13:23:48.471Z"
   },
   {
    "duration": 52,
    "start_time": "2025-04-20T13:23:48.641Z"
   },
   {
    "duration": 4,
    "start_time": "2025-04-20T13:23:48.695Z"
   },
   {
    "duration": 94,
    "start_time": "2025-04-20T13:23:48.700Z"
   },
   {
    "duration": 22,
    "start_time": "2025-04-20T13:23:48.796Z"
   },
   {
    "duration": 4,
    "start_time": "2025-04-20T13:23:48.836Z"
   },
   {
    "duration": 109,
    "start_time": "2025-04-20T13:23:48.841Z"
   },
   {
    "duration": 270,
    "start_time": "2025-04-20T13:23:48.952Z"
   },
   {
    "duration": 270,
    "start_time": "2025-04-20T13:23:49.224Z"
   },
   {
    "duration": 92,
    "start_time": "2025-04-20T13:23:49.496Z"
   },
   {
    "duration": 49,
    "start_time": "2025-04-20T13:23:49.590Z"
   },
   {
    "duration": 126,
    "start_time": "2025-04-20T13:23:49.641Z"
   },
   {
    "duration": 53,
    "start_time": "2025-04-20T13:23:49.768Z"
   },
   {
    "duration": 32,
    "start_time": "2025-04-20T13:23:49.822Z"
   },
   {
    "duration": 5,
    "start_time": "2025-04-20T13:23:49.855Z"
   },
   {
    "duration": 94,
    "start_time": "2025-04-20T13:23:49.861Z"
   },
   {
    "duration": 25,
    "start_time": "2025-04-20T13:23:49.956Z"
   },
   {
    "duration": 9,
    "start_time": "2025-04-20T13:23:49.982Z"
   },
   {
    "duration": 179,
    "start_time": "2025-04-20T13:23:49.992Z"
   },
   {
    "duration": 167,
    "start_time": "2025-04-20T13:23:50.172Z"
   },
   {
    "duration": 5,
    "start_time": "2025-04-20T13:23:50.340Z"
   },
   {
    "duration": 96,
    "start_time": "2025-04-20T13:23:50.346Z"
   },
   {
    "duration": 61,
    "start_time": "2025-04-20T13:23:50.443Z"
   },
   {
    "duration": 47,
    "start_time": "2025-04-20T13:23:50.505Z"
   },
   {
    "duration": 42,
    "start_time": "2025-04-20T13:23:50.553Z"
   },
   {
    "duration": 37,
    "start_time": "2025-04-20T13:23:50.596Z"
   },
   {
    "duration": 9,
    "start_time": "2025-04-20T13:23:50.634Z"
   },
   {
    "duration": 5,
    "start_time": "2025-04-20T13:23:50.644Z"
   },
   {
    "duration": 103,
    "start_time": "2025-04-20T13:23:50.651Z"
   },
   {
    "duration": 110,
    "start_time": "2025-04-20T13:23:50.756Z"
   },
   {
    "duration": 17,
    "start_time": "2025-04-20T13:23:50.867Z"
   },
   {
    "duration": 10,
    "start_time": "2025-04-20T13:23:50.885Z"
   },
   {
    "duration": 10,
    "start_time": "2025-04-20T13:23:50.897Z"
   },
   {
    "duration": 30,
    "start_time": "2025-04-20T13:23:50.909Z"
   },
   {
    "duration": 25,
    "start_time": "2025-04-20T13:23:50.940Z"
   },
   {
    "duration": 14,
    "start_time": "2025-04-20T13:23:50.966Z"
   },
   {
    "duration": 156,
    "start_time": "2025-04-20T13:23:50.985Z"
   }
  ],
  "colab": {
   "provenance": []
  },
  "kernelspec": {
   "display_name": "Python 3 (ipykernel)",
   "language": "python",
   "name": "python3"
  },
  "language_info": {
   "codemirror_mode": {
    "name": "ipython",
    "version": 3
   },
   "file_extension": ".py",
   "mimetype": "text/x-python",
   "name": "python",
   "nbconvert_exporter": "python",
   "pygments_lexer": "ipython3",
   "version": "3.9.5"
  },
  "toc": {
   "base_numbering": 1,
   "nav_menu": {
    "height": "60px",
    "width": "294px"
   },
   "number_sections": true,
   "sideBar": true,
   "skip_h1_title": true,
   "title_cell": "Table of Contents",
   "title_sidebar": "Contents",
   "toc_cell": false,
   "toc_position": {},
   "toc_section_display": true,
   "toc_window_display": false
  }
 },
 "nbformat": 4,
 "nbformat_minor": 1
}
